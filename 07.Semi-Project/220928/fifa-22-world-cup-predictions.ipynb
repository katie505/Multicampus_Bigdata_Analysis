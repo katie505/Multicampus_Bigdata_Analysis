{
 "cells": [
  {
   "cell_type": "code",
   "execution_count": 60,
   "id": "fa0062c3",
   "metadata": {
    "_cell_guid": "b1076dfc-b9ad-4769-8c92-a6c4dae69d19",
    "_uuid": "8f2839f25d086af736a60e9eeb907d3b93b6e0e5",
    "execution": {
     "iopub.execute_input": "2022-09-16T05:57:32.030272Z",
     "iopub.status.busy": "2022-09-16T05:57:32.029600Z",
     "iopub.status.idle": "2022-09-16T05:57:33.149293Z",
     "shell.execute_reply": "2022-09-16T05:57:33.146321Z"
    },
    "papermill": {
     "duration": 1.141004,
     "end_time": "2022-09-16T05:57:33.152195",
     "exception": false,
     "start_time": "2022-09-16T05:57:32.011191",
     "status": "completed"
    },
    "tags": []
   },
   "outputs": [],
   "source": [
    "# This Python 3 environment comes with many helpful analytics libraries installed\n",
    "# It is defined by the kaggle/python Docker image: https://github.com/kaggle/docker-python\n",
    "# For example, here's several helpful packages to load\n",
    "\n",
    "import numpy as np # linear algebra\n",
    "import pandas as pd # data processing, CSV file I/O (e.g. pd.read_csv)\n",
    "import matplotlib.pyplot as plt\n",
    "import seaborn as sns\n",
    "\n",
    "# Input data files are available in the read-only \"../input/\" directory\n",
    "# For example, running this (by clicking run or pressing Shift+Enter) will list all files under the input directory\n",
    "\n",
    "import os\n",
    "for dirname, _, filenames in os.walk('/kaggle/input'):\n",
    "    for filename in filenames:\n",
    "        print(os.path.join(dirname, filename))\n",
    "\n",
    "# You can write up to 20GB to the current directory (/kaggle/working/) that gets preserved as output when you create a version using \"Save & Run All\" \n",
    "# You can also write temporary files to /kaggle/temp/, but they won't be saved outside of the current session"
   ]
  },
  {
   "cell_type": "code",
   "execution_count": 61,
   "id": "fc3b23d3",
   "metadata": {
    "execution": {
     "iopub.execute_input": "2022-09-16T05:57:33.185605Z",
     "iopub.status.busy": "2022-09-16T05:57:33.185196Z",
     "iopub.status.idle": "2022-09-16T05:57:33.432570Z",
     "shell.execute_reply": "2022-09-16T05:57:33.431200Z"
    },
    "papermill": {
     "duration": 0.268965,
     "end_time": "2022-09-16T05:57:33.435727",
     "exception": false,
     "start_time": "2022-09-16T05:57:33.166762",
     "status": "completed"
    },
    "tags": []
   },
   "outputs": [
    {
     "data": {
      "text/html": [
       "<div>\n",
       "<style scoped>\n",
       "    .dataframe tbody tr th:only-of-type {\n",
       "        vertical-align: middle;\n",
       "    }\n",
       "\n",
       "    .dataframe tbody tr th {\n",
       "        vertical-align: top;\n",
       "    }\n",
       "\n",
       "    .dataframe thead th {\n",
       "        text-align: right;\n",
       "    }\n",
       "</style>\n",
       "<table border=\"1\" class=\"dataframe\">\n",
       "  <thead>\n",
       "    <tr style=\"text-align: right;\">\n",
       "      <th></th>\n",
       "      <th>date</th>\n",
       "      <th>home_team</th>\n",
       "      <th>away_team</th>\n",
       "      <th>home_team_continent</th>\n",
       "      <th>away_team_continent</th>\n",
       "      <th>home_team_fifa_rank</th>\n",
       "      <th>away_team_fifa_rank</th>\n",
       "      <th>home_team_total_fifa_points</th>\n",
       "      <th>away_team_total_fifa_points</th>\n",
       "      <th>home_team_score</th>\n",
       "      <th>...</th>\n",
       "      <th>shoot_out</th>\n",
       "      <th>home_team_result</th>\n",
       "      <th>home_team_goalkeeper_score</th>\n",
       "      <th>away_team_goalkeeper_score</th>\n",
       "      <th>home_team_mean_defense_score</th>\n",
       "      <th>home_team_mean_offense_score</th>\n",
       "      <th>home_team_mean_midfield_score</th>\n",
       "      <th>away_team_mean_defense_score</th>\n",
       "      <th>away_team_mean_offense_score</th>\n",
       "      <th>away_team_mean_midfield_score</th>\n",
       "    </tr>\n",
       "  </thead>\n",
       "  <tbody>\n",
       "    <tr>\n",
       "      <th>23916</th>\n",
       "      <td>2022-06-14</td>\n",
       "      <td>Moldova</td>\n",
       "      <td>Andorra</td>\n",
       "      <td>Europe</td>\n",
       "      <td>Europe</td>\n",
       "      <td>180</td>\n",
       "      <td>153</td>\n",
       "      <td>932</td>\n",
       "      <td>1040</td>\n",
       "      <td>2</td>\n",
       "      <td>...</td>\n",
       "      <td>No</td>\n",
       "      <td>Win</td>\n",
       "      <td>65.0</td>\n",
       "      <td>NaN</td>\n",
       "      <td>NaN</td>\n",
       "      <td>NaN</td>\n",
       "      <td>NaN</td>\n",
       "      <td>NaN</td>\n",
       "      <td>NaN</td>\n",
       "      <td>NaN</td>\n",
       "    </tr>\n",
       "    <tr>\n",
       "      <th>23917</th>\n",
       "      <td>2022-06-14</td>\n",
       "      <td>Liechtenstein</td>\n",
       "      <td>Latvia</td>\n",
       "      <td>Europe</td>\n",
       "      <td>Europe</td>\n",
       "      <td>192</td>\n",
       "      <td>135</td>\n",
       "      <td>895</td>\n",
       "      <td>1105</td>\n",
       "      <td>0</td>\n",
       "      <td>...</td>\n",
       "      <td>No</td>\n",
       "      <td>Lose</td>\n",
       "      <td>NaN</td>\n",
       "      <td>65.0</td>\n",
       "      <td>NaN</td>\n",
       "      <td>NaN</td>\n",
       "      <td>NaN</td>\n",
       "      <td>NaN</td>\n",
       "      <td>NaN</td>\n",
       "      <td>NaN</td>\n",
       "    </tr>\n",
       "    <tr>\n",
       "      <th>23918</th>\n",
       "      <td>2022-06-14</td>\n",
       "      <td>Chile</td>\n",
       "      <td>Ghana</td>\n",
       "      <td>South America</td>\n",
       "      <td>Africa</td>\n",
       "      <td>28</td>\n",
       "      <td>60</td>\n",
       "      <td>1526</td>\n",
       "      <td>1387</td>\n",
       "      <td>0</td>\n",
       "      <td>...</td>\n",
       "      <td>Yes</td>\n",
       "      <td>Lose</td>\n",
       "      <td>79.0</td>\n",
       "      <td>74.0</td>\n",
       "      <td>75.5</td>\n",
       "      <td>76.7</td>\n",
       "      <td>78.2</td>\n",
       "      <td>75.5</td>\n",
       "      <td>76.0</td>\n",
       "      <td>78.2</td>\n",
       "    </tr>\n",
       "    <tr>\n",
       "      <th>23919</th>\n",
       "      <td>2022-06-14</td>\n",
       "      <td>Japan</td>\n",
       "      <td>Tunisia</td>\n",
       "      <td>Asia</td>\n",
       "      <td>Africa</td>\n",
       "      <td>23</td>\n",
       "      <td>35</td>\n",
       "      <td>1553</td>\n",
       "      <td>1499</td>\n",
       "      <td>0</td>\n",
       "      <td>...</td>\n",
       "      <td>No</td>\n",
       "      <td>Lose</td>\n",
       "      <td>73.0</td>\n",
       "      <td>NaN</td>\n",
       "      <td>75.2</td>\n",
       "      <td>75.0</td>\n",
       "      <td>77.5</td>\n",
       "      <td>70.8</td>\n",
       "      <td>72.3</td>\n",
       "      <td>74.0</td>\n",
       "    </tr>\n",
       "    <tr>\n",
       "      <th>23920</th>\n",
       "      <td>2022-06-14</td>\n",
       "      <td>Korea Republic</td>\n",
       "      <td>Egypt</td>\n",
       "      <td>Asia</td>\n",
       "      <td>Africa</td>\n",
       "      <td>29</td>\n",
       "      <td>32</td>\n",
       "      <td>1519</td>\n",
       "      <td>1500</td>\n",
       "      <td>4</td>\n",
       "      <td>...</td>\n",
       "      <td>No</td>\n",
       "      <td>Win</td>\n",
       "      <td>75.0</td>\n",
       "      <td>NaN</td>\n",
       "      <td>73.0</td>\n",
       "      <td>80.0</td>\n",
       "      <td>73.8</td>\n",
       "      <td>NaN</td>\n",
       "      <td>79.3</td>\n",
       "      <td>70.8</td>\n",
       "    </tr>\n",
       "  </tbody>\n",
       "</table>\n",
       "<p>5 rows × 25 columns</p>\n",
       "</div>"
      ],
      "text/plain": [
       "            date       home_team away_team home_team_continent  \\\n",
       "23916 2022-06-14         Moldova   Andorra              Europe   \n",
       "23917 2022-06-14   Liechtenstein    Latvia              Europe   \n",
       "23918 2022-06-14           Chile     Ghana       South America   \n",
       "23919 2022-06-14           Japan   Tunisia                Asia   \n",
       "23920 2022-06-14  Korea Republic     Egypt                Asia   \n",
       "\n",
       "      away_team_continent  home_team_fifa_rank  away_team_fifa_rank  \\\n",
       "23916              Europe                  180                  153   \n",
       "23917              Europe                  192                  135   \n",
       "23918              Africa                   28                   60   \n",
       "23919              Africa                   23                   35   \n",
       "23920              Africa                   29                   32   \n",
       "\n",
       "       home_team_total_fifa_points  away_team_total_fifa_points  \\\n",
       "23916                          932                         1040   \n",
       "23917                          895                         1105   \n",
       "23918                         1526                         1387   \n",
       "23919                         1553                         1499   \n",
       "23920                         1519                         1500   \n",
       "\n",
       "       home_team_score  ...  shoot_out home_team_result  \\\n",
       "23916                2  ...         No              Win   \n",
       "23917                0  ...         No             Lose   \n",
       "23918                0  ...        Yes             Lose   \n",
       "23919                0  ...         No             Lose   \n",
       "23920                4  ...         No              Win   \n",
       "\n",
       "      home_team_goalkeeper_score away_team_goalkeeper_score  \\\n",
       "23916                       65.0                        NaN   \n",
       "23917                        NaN                       65.0   \n",
       "23918                       79.0                       74.0   \n",
       "23919                       73.0                        NaN   \n",
       "23920                       75.0                        NaN   \n",
       "\n",
       "       home_team_mean_defense_score home_team_mean_offense_score  \\\n",
       "23916                           NaN                          NaN   \n",
       "23917                           NaN                          NaN   \n",
       "23918                          75.5                         76.7   \n",
       "23919                          75.2                         75.0   \n",
       "23920                          73.0                         80.0   \n",
       "\n",
       "      home_team_mean_midfield_score  away_team_mean_defense_score  \\\n",
       "23916                           NaN                           NaN   \n",
       "23917                           NaN                           NaN   \n",
       "23918                          78.2                          75.5   \n",
       "23919                          77.5                          70.8   \n",
       "23920                          73.8                           NaN   \n",
       "\n",
       "       away_team_mean_offense_score  away_team_mean_midfield_score  \n",
       "23916                           NaN                            NaN  \n",
       "23917                           NaN                            NaN  \n",
       "23918                          76.0                           78.2  \n",
       "23919                          72.3                           74.0  \n",
       "23920                          79.3                           70.8  \n",
       "\n",
       "[5 rows x 25 columns]"
      ]
     },
     "execution_count": 61,
     "metadata": {},
     "output_type": "execute_result"
    }
   ],
   "source": [
    "df = pd.read_csv('international_matches.csv', parse_dates = ['date'])\n",
    "df.tail()"
   ]
  },
  {
   "cell_type": "code",
   "execution_count": 62,
   "id": "e8e47273",
   "metadata": {
    "execution": {
     "iopub.execute_input": "2022-09-16T05:57:33.466820Z",
     "iopub.status.busy": "2022-09-16T05:57:33.466000Z",
     "iopub.status.idle": "2022-09-16T05:57:33.473568Z",
     "shell.execute_reply": "2022-09-16T05:57:33.472286Z"
    },
    "papermill": {
     "duration": 0.025907,
     "end_time": "2022-09-16T05:57:33.476136",
     "exception": false,
     "start_time": "2022-09-16T05:57:33.450229",
     "status": "completed"
    },
    "tags": []
   },
   "outputs": [
    {
     "data": {
      "text/plain": [
       "Index(['date', 'home_team', 'away_team', 'home_team_continent',\n",
       "       'away_team_continent', 'home_team_fifa_rank', 'away_team_fifa_rank',\n",
       "       'home_team_total_fifa_points', 'away_team_total_fifa_points',\n",
       "       'home_team_score', 'away_team_score', 'tournament', 'city', 'country',\n",
       "       'neutral_location', 'shoot_out', 'home_team_result',\n",
       "       'home_team_goalkeeper_score', 'away_team_goalkeeper_score',\n",
       "       'home_team_mean_defense_score', 'home_team_mean_offense_score',\n",
       "       'home_team_mean_midfield_score', 'away_team_mean_defense_score',\n",
       "       'away_team_mean_offense_score', 'away_team_mean_midfield_score'],\n",
       "      dtype='object')"
      ]
     },
     "execution_count": 62,
     "metadata": {},
     "output_type": "execute_result"
    }
   ],
   "source": [
    "df.columns"
   ]
  },
  {
   "cell_type": "markdown",
   "id": "683f98a6",
   "metadata": {
    "papermill": {
     "duration": 0.014049,
     "end_time": "2022-09-16T05:57:33.504734",
     "exception": false,
     "start_time": "2022-09-16T05:57:33.490685",
     "status": "completed"
    },
    "tags": []
   },
   "source": [
    "## Question 1 - Top 10 ranked teams"
   ]
  },
  {
   "cell_type": "code",
   "execution_count": 63,
   "id": "25521a78",
   "metadata": {
    "execution": {
     "iopub.execute_input": "2022-09-16T05:57:33.535223Z",
     "iopub.status.busy": "2022-09-16T05:57:33.534829Z",
     "iopub.status.idle": "2022-09-16T05:57:33.595941Z",
     "shell.execute_reply": "2022-09-16T05:57:33.594785Z"
    },
    "papermill": {
     "duration": 0.079407,
     "end_time": "2022-09-16T05:57:33.598517",
     "exception": false,
     "start_time": "2022-09-16T05:57:33.519110",
     "status": "completed"
    },
    "tags": []
   },
   "outputs": [
    {
     "data": {
      "text/html": [
       "<div>\n",
       "<style scoped>\n",
       "    .dataframe tbody tr th:only-of-type {\n",
       "        vertical-align: middle;\n",
       "    }\n",
       "\n",
       "    .dataframe tbody tr th {\n",
       "        vertical-align: top;\n",
       "    }\n",
       "\n",
       "    .dataframe thead th {\n",
       "        text-align: right;\n",
       "    }\n",
       "</style>\n",
       "<table border=\"1\" class=\"dataframe\">\n",
       "  <thead>\n",
       "    <tr style=\"text-align: right;\">\n",
       "      <th></th>\n",
       "      <th>team</th>\n",
       "      <th>date</th>\n",
       "      <th>rank</th>\n",
       "    </tr>\n",
       "  </thead>\n",
       "  <tbody>\n",
       "    <tr>\n",
       "      <th>0</th>\n",
       "      <td>Brazil</td>\n",
       "      <td>2022-06-06</td>\n",
       "      <td>1</td>\n",
       "    </tr>\n",
       "    <tr>\n",
       "      <th>1</th>\n",
       "      <td>Belgium</td>\n",
       "      <td>2022-06-14</td>\n",
       "      <td>2</td>\n",
       "    </tr>\n",
       "    <tr>\n",
       "      <th>2</th>\n",
       "      <td>France</td>\n",
       "      <td>2022-06-13</td>\n",
       "      <td>3</td>\n",
       "    </tr>\n",
       "    <tr>\n",
       "      <th>3</th>\n",
       "      <td>Argentina</td>\n",
       "      <td>2022-06-05</td>\n",
       "      <td>4</td>\n",
       "    </tr>\n",
       "    <tr>\n",
       "      <th>4</th>\n",
       "      <td>England</td>\n",
       "      <td>2022-06-14</td>\n",
       "      <td>5</td>\n",
       "    </tr>\n",
       "    <tr>\n",
       "      <th>5</th>\n",
       "      <td>Italy</td>\n",
       "      <td>2022-06-14</td>\n",
       "      <td>6</td>\n",
       "    </tr>\n",
       "    <tr>\n",
       "      <th>6</th>\n",
       "      <td>Spain</td>\n",
       "      <td>2022-06-12</td>\n",
       "      <td>7</td>\n",
       "    </tr>\n",
       "    <tr>\n",
       "      <th>7</th>\n",
       "      <td>Portugal</td>\n",
       "      <td>2022-06-12</td>\n",
       "      <td>8</td>\n",
       "    </tr>\n",
       "    <tr>\n",
       "      <th>8</th>\n",
       "      <td>Mexico</td>\n",
       "      <td>2022-06-14</td>\n",
       "      <td>9</td>\n",
       "    </tr>\n",
       "    <tr>\n",
       "      <th>9</th>\n",
       "      <td>Netherlands</td>\n",
       "      <td>2022-06-14</td>\n",
       "      <td>10</td>\n",
       "    </tr>\n",
       "  </tbody>\n",
       "</table>\n",
       "</div>"
      ],
      "text/plain": [
       "          team       date  rank\n",
       "0       Brazil 2022-06-06     1\n",
       "1      Belgium 2022-06-14     2\n",
       "2       France 2022-06-13     3\n",
       "3    Argentina 2022-06-05     4\n",
       "4      England 2022-06-14     5\n",
       "5        Italy 2022-06-14     6\n",
       "6        Spain 2022-06-12     7\n",
       "7     Portugal 2022-06-12     8\n",
       "8       Mexico 2022-06-14     9\n",
       "9  Netherlands 2022-06-14    10"
      ]
     },
     "execution_count": 63,
     "metadata": {},
     "output_type": "execute_result"
    }
   ],
   "source": [
    "fifa_rank = df[['date','home_team','away_team','home_team_fifa_rank', 'away_team_fifa_rank']]\n",
    "home = fifa_rank[['date','home_team','home_team_fifa_rank']].rename(columns={\"home_team\":\"team\",\"home_team_fifa_rank\":\"rank\"})\n",
    "away = fifa_rank[['date','away_team','away_team_fifa_rank']].rename(columns={\"away_team\":\"team\",\"away_team_fifa_rank\":\"rank\"})\n",
    "fifa_rank = pd.concat([home,away])\n",
    "#Select each country latest match\n",
    "fifa_rank = fifa_rank.sort_values(['team','date'],ascending=[True,False])\n",
    "fifa_rank_top10 = fifa_rank.groupby('team').first().sort_values('rank',ascending=True)[0:10].reset_index()\n",
    "fifa_rank_top10"
   ]
  },
  {
   "cell_type": "code",
   "execution_count": 64,
   "id": "2708c69e",
   "metadata": {
    "execution": {
     "iopub.execute_input": "2022-09-16T05:57:33.630176Z",
     "iopub.status.busy": "2022-09-16T05:57:33.629397Z",
     "iopub.status.idle": "2022-09-16T05:57:33.983170Z",
     "shell.execute_reply": "2022-09-16T05:57:33.981978Z"
    },
    "papermill": {
     "duration": 0.372802,
     "end_time": "2022-09-16T05:57:33.985937",
     "exception": false,
     "start_time": "2022-09-16T05:57:33.613135",
     "status": "completed"
    },
    "tags": []
   },
   "outputs": [
    {
     "data": {
      "image/png": "[encoded data removed]",
      "text/plain": [
       "<Figure size 2000x800 with 1 Axes>"
      ]
     },
     "metadata": {
      "needs_background": "light"
     },
     "output_type": "display_data"
    }
   ],
   "source": [
    "plt.figure(figsize=(10,4),dpi=200)\n",
    "sns.barplot(data=fifa_rank_top10,y='team',x='rank')\n",
    "plt.title(\"Top 10 teams\");"
   ]
  },
  {
   "cell_type": "markdown",
   "id": "f719e061",
   "metadata": {
    "papermill": {
     "duration": 0.015226,
     "end_time": "2022-09-16T05:57:34.016809",
     "exception": false,
     "start_time": "2022-09-16T05:57:34.001583",
     "status": "completed"
    },
    "tags": []
   },
   "source": [
    "## Win percentage of top 10 teams"
   ]
  },
  {
   "cell_type": "code",
   "execution_count": 65,
   "id": "8a2d6369",
   "metadata": {
    "execution": {
     "iopub.execute_input": "2022-09-16T05:57:34.049378Z",
     "iopub.status.busy": "2022-09-16T05:57:34.048976Z",
     "iopub.status.idle": "2022-09-16T05:57:34.055294Z",
     "shell.execute_reply": "2022-09-16T05:57:34.054501Z"
    },
    "papermill": {
     "duration": 0.025055,
     "end_time": "2022-09-16T05:57:34.057433",
     "exception": false,
     "start_time": "2022-09-16T05:57:34.032378",
     "status": "completed"
    },
    "tags": []
   },
   "outputs": [],
   "source": [
    "def home_percentage(team):\n",
    "    score = len(df[(df['home_team'] == team) & (df['home_team_result'] == \"Win\")]) / len(df[df['home_team'] == team]) * 100\n",
    "    return round(score)\n",
    "def away_percentage(team):\n",
    "    score = len(df[(df['away_team'] == team) & (df['home_team_result'] == \"Lose\")]) / len(df[df['away_team'] == team]) * 100\n",
    "    return round(score)"
   ]
  },
  {
   "cell_type": "code",
   "execution_count": 66,
   "id": "19e37813",
   "metadata": {
    "execution": {
     "iopub.execute_input": "2022-09-16T05:57:34.090145Z",
     "iopub.status.busy": "2022-09-16T05:57:34.089439Z",
     "iopub.status.idle": "2022-09-16T05:57:34.263484Z",
     "shell.execute_reply": "2022-09-16T05:57:34.262297Z"
    },
    "papermill": {
     "duration": 0.193171,
     "end_time": "2022-09-16T05:57:34.266016",
     "exception": false,
     "start_time": "2022-09-16T05:57:34.072845",
     "status": "completed"
    },
    "tags": []
   },
   "outputs": [
    {
     "data": {
      "text/html": [
       "<div>\n",
       "<style scoped>\n",
       "    .dataframe tbody tr th:only-of-type {\n",
       "        vertical-align: middle;\n",
       "    }\n",
       "\n",
       "    .dataframe tbody tr th {\n",
       "        vertical-align: top;\n",
       "    }\n",
       "\n",
       "    .dataframe thead th {\n",
       "        text-align: right;\n",
       "    }\n",
       "</style>\n",
       "<table border=\"1\" class=\"dataframe\">\n",
       "  <thead>\n",
       "    <tr style=\"text-align: right;\">\n",
       "      <th></th>\n",
       "      <th>team</th>\n",
       "      <th>date</th>\n",
       "      <th>rank</th>\n",
       "      <th>Home_win_Per</th>\n",
       "      <th>Away_win_Per</th>\n",
       "      <th>Average_win_Per</th>\n",
       "    </tr>\n",
       "  </thead>\n",
       "  <tbody>\n",
       "    <tr>\n",
       "      <th>0</th>\n",
       "      <td>Brazil</td>\n",
       "      <td>2022-06-06</td>\n",
       "      <td>1</td>\n",
       "      <td>78</td>\n",
       "      <td>60</td>\n",
       "      <td>69.0</td>\n",
       "    </tr>\n",
       "    <tr>\n",
       "      <th>6</th>\n",
       "      <td>Spain</td>\n",
       "      <td>2022-06-12</td>\n",
       "      <td>7</td>\n",
       "      <td>77</td>\n",
       "      <td>61</td>\n",
       "      <td>69.0</td>\n",
       "    </tr>\n",
       "    <tr>\n",
       "      <th>2</th>\n",
       "      <td>France</td>\n",
       "      <td>2022-06-13</td>\n",
       "      <td>3</td>\n",
       "      <td>66</td>\n",
       "      <td>57</td>\n",
       "      <td>62.0</td>\n",
       "    </tr>\n",
       "    <tr>\n",
       "      <th>3</th>\n",
       "      <td>Argentina</td>\n",
       "      <td>2022-06-05</td>\n",
       "      <td>4</td>\n",
       "      <td>68</td>\n",
       "      <td>49</td>\n",
       "      <td>58.0</td>\n",
       "    </tr>\n",
       "    <tr>\n",
       "      <th>4</th>\n",
       "      <td>England</td>\n",
       "      <td>2022-06-14</td>\n",
       "      <td>5</td>\n",
       "      <td>64</td>\n",
       "      <td>51</td>\n",
       "      <td>58.0</td>\n",
       "    </tr>\n",
       "    <tr>\n",
       "      <th>7</th>\n",
       "      <td>Portugal</td>\n",
       "      <td>2022-06-12</td>\n",
       "      <td>8</td>\n",
       "      <td>67</td>\n",
       "      <td>49</td>\n",
       "      <td>58.0</td>\n",
       "    </tr>\n",
       "    <tr>\n",
       "      <th>9</th>\n",
       "      <td>Netherlands</td>\n",
       "      <td>2022-06-14</td>\n",
       "      <td>10</td>\n",
       "      <td>62</td>\n",
       "      <td>55</td>\n",
       "      <td>58.0</td>\n",
       "    </tr>\n",
       "    <tr>\n",
       "      <th>5</th>\n",
       "      <td>Italy</td>\n",
       "      <td>2022-06-14</td>\n",
       "      <td>6</td>\n",
       "      <td>60</td>\n",
       "      <td>49</td>\n",
       "      <td>54.0</td>\n",
       "    </tr>\n",
       "    <tr>\n",
       "      <th>1</th>\n",
       "      <td>Belgium</td>\n",
       "      <td>2022-06-14</td>\n",
       "      <td>2</td>\n",
       "      <td>60</td>\n",
       "      <td>46</td>\n",
       "      <td>53.0</td>\n",
       "    </tr>\n",
       "    <tr>\n",
       "      <th>8</th>\n",
       "      <td>Mexico</td>\n",
       "      <td>2022-06-14</td>\n",
       "      <td>9</td>\n",
       "      <td>60</td>\n",
       "      <td>41</td>\n",
       "      <td>50.0</td>\n",
       "    </tr>\n",
       "  </tbody>\n",
       "</table>\n",
       "</div>"
      ],
      "text/plain": [
       "          team       date  rank  Home_win_Per  Away_win_Per  Average_win_Per\n",
       "0       Brazil 2022-06-06     1            78            60             69.0\n",
       "6        Spain 2022-06-12     7            77            61             69.0\n",
       "2       France 2022-06-13     3            66            57             62.0\n",
       "3    Argentina 2022-06-05     4            68            49             58.0\n",
       "4      England 2022-06-14     5            64            51             58.0\n",
       "7     Portugal 2022-06-12     8            67            49             58.0\n",
       "9  Netherlands 2022-06-14    10            62            55             58.0\n",
       "5        Italy 2022-06-14     6            60            49             54.0\n",
       "1      Belgium 2022-06-14     2            60            46             53.0\n",
       "8       Mexico 2022-06-14     9            60            41             50.0"
      ]
     },
     "execution_count": 66,
     "metadata": {},
     "output_type": "execute_result"
    }
   ],
   "source": [
    "fifa_rank_top10['Home_win_Per'] = np.vectorize(home_percentage)(fifa_rank_top10['team'])\n",
    "fifa_rank_top10['Away_win_Per'] = np.vectorize(away_percentage)(fifa_rank_top10['team'])\n",
    "fifa_rank_top10['Average_win_Per'] = round((fifa_rank_top10['Home_win_Per'] + fifa_rank_top10['Away_win_Per'])/2)\n",
    "fifa_rank_win = fifa_rank_top10.sort_values('Average_win_Per',ascending=False)\n",
    "fifa_rank_win"
   ]
  },
  {
   "cell_type": "code",
   "execution_count": 67,
   "id": "86efc97a",
   "metadata": {
    "execution": {
     "iopub.execute_input": "2022-09-16T05:57:34.308420Z",
     "iopub.status.busy": "2022-09-16T05:57:34.307971Z",
     "iopub.status.idle": "2022-09-16T05:57:34.592050Z",
     "shell.execute_reply": "2022-09-16T05:57:34.591152Z"
    },
    "papermill": {
     "duration": 0.306975,
     "end_time": "2022-09-16T05:57:34.594628",
     "exception": false,
     "start_time": "2022-09-16T05:57:34.287653",
     "status": "completed"
    },
    "tags": []
   },
   "outputs": [
    {
     "data": {
      "image/png": "[encoded data removed]",
      "text/plain": [
       "<Figure size 432x288 with 1 Axes>"
      ]
     },
     "metadata": {
      "needs_background": "light"
     },
     "output_type": "display_data"
    }
   ],
   "source": [
    "sns.barplot(data=fifa_rank_win,x='Average_win_Per',y='team')\n",
    "plt.title(\"Top 10 teams Average Winning Percentage\");"
   ]
  },
  {
   "cell_type": "markdown",
   "id": "9aeb29b9",
   "metadata": {
    "papermill": {
     "duration": 0.015834,
     "end_time": "2022-09-16T05:57:34.626411",
     "exception": false,
     "start_time": "2022-09-16T05:57:34.610577",
     "status": "completed"
    },
    "tags": []
   },
   "source": [
    "## Top 10 Attacking team"
   ]
  },
  {
   "cell_type": "code",
   "execution_count": 68,
   "id": "67dde20b",
   "metadata": {
    "execution": {
     "iopub.execute_input": "2022-09-16T05:57:34.660582Z",
     "iopub.status.busy": "2022-09-16T05:57:34.660142Z",
     "iopub.status.idle": "2022-09-16T05:57:34.715459Z",
     "shell.execute_reply": "2022-09-16T05:57:34.714289Z"
    },
    "papermill": {
     "duration": 0.075566,
     "end_time": "2022-09-16T05:57:34.718095",
     "exception": false,
     "start_time": "2022-09-16T05:57:34.642529",
     "status": "completed"
    },
    "tags": []
   },
   "outputs": [
    {
     "data": {
      "text/html": [
       "<div>\n",
       "<style scoped>\n",
       "    .dataframe tbody tr th:only-of-type {\n",
       "        vertical-align: middle;\n",
       "    }\n",
       "\n",
       "    .dataframe tbody tr th {\n",
       "        vertical-align: top;\n",
       "    }\n",
       "\n",
       "    .dataframe thead th {\n",
       "        text-align: right;\n",
       "    }\n",
       "</style>\n",
       "<table border=\"1\" class=\"dataframe\">\n",
       "  <thead>\n",
       "    <tr style=\"text-align: right;\">\n",
       "      <th></th>\n",
       "      <th>team</th>\n",
       "      <th>date</th>\n",
       "      <th>offense_score</th>\n",
       "    </tr>\n",
       "  </thead>\n",
       "  <tbody>\n",
       "    <tr>\n",
       "      <th>0</th>\n",
       "      <td>Argentina</td>\n",
       "      <td>2022-06-05</td>\n",
       "      <td>89.0</td>\n",
       "    </tr>\n",
       "    <tr>\n",
       "      <th>1</th>\n",
       "      <td>France</td>\n",
       "      <td>2022-06-13</td>\n",
       "      <td>88.3</td>\n",
       "    </tr>\n",
       "    <tr>\n",
       "      <th>2</th>\n",
       "      <td>England</td>\n",
       "      <td>2022-06-14</td>\n",
       "      <td>88.0</td>\n",
       "    </tr>\n",
       "    <tr>\n",
       "      <th>3</th>\n",
       "      <td>Brazil</td>\n",
       "      <td>2022-06-06</td>\n",
       "      <td>86.3</td>\n",
       "    </tr>\n",
       "    <tr>\n",
       "      <th>4</th>\n",
       "      <td>Portugal</td>\n",
       "      <td>2022-06-12</td>\n",
       "      <td>86.0</td>\n",
       "    </tr>\n",
       "    <tr>\n",
       "      <th>5</th>\n",
       "      <td>Belgium</td>\n",
       "      <td>2022-06-14</td>\n",
       "      <td>85.7</td>\n",
       "    </tr>\n",
       "    <tr>\n",
       "      <th>6</th>\n",
       "      <td>Italy</td>\n",
       "      <td>2022-06-14</td>\n",
       "      <td>85.3</td>\n",
       "    </tr>\n",
       "    <tr>\n",
       "      <th>7</th>\n",
       "      <td>Spain</td>\n",
       "      <td>2022-06-12</td>\n",
       "      <td>85.0</td>\n",
       "    </tr>\n",
       "    <tr>\n",
       "      <th>8</th>\n",
       "      <td>Poland</td>\n",
       "      <td>2022-06-14</td>\n",
       "      <td>84.7</td>\n",
       "    </tr>\n",
       "    <tr>\n",
       "      <th>9</th>\n",
       "      <td>Uruguay</td>\n",
       "      <td>2022-06-11</td>\n",
       "      <td>84.3</td>\n",
       "    </tr>\n",
       "  </tbody>\n",
       "</table>\n",
       "</div>"
      ],
      "text/plain": [
       "        team       date  offense_score\n",
       "0  Argentina 2022-06-05           89.0\n",
       "1     France 2022-06-13           88.3\n",
       "2    England 2022-06-14           88.0\n",
       "3     Brazil 2022-06-06           86.3\n",
       "4   Portugal 2022-06-12           86.0\n",
       "5    Belgium 2022-06-14           85.7\n",
       "6      Italy 2022-06-14           85.3\n",
       "7      Spain 2022-06-12           85.0\n",
       "8     Poland 2022-06-14           84.7\n",
       "9    Uruguay 2022-06-11           84.3"
      ]
     },
     "execution_count": 68,
     "metadata": {},
     "output_type": "execute_result"
    }
   ],
   "source": [
    "fifa_offense = df[['date', 'home_team', 'away_team','home_team_mean_offense_score','away_team_mean_offense_score']]\n",
    "home = fifa_offense[['date','home_team','home_team_mean_offense_score']].rename(columns={\"home_team\":\"team\",\"home_team_mean_offense_score\":\"offense_score\"})\n",
    "away = fifa_offense[['date','away_team','away_team_mean_offense_score']].rename(columns={\"away_team\":\"team\",\"away_team_mean_offense_score\":\"offense_score\"})\n",
    "fifa_offense = pd.concat([home,away])\n",
    "fifa_offense = fifa_offense.sort_values(['date','team'],ascending=[False,True])\n",
    "fifa_offense_top10 = fifa_offense.groupby('team').first().sort_values('offense_score',ascending=False)[0:10].reset_index()\n",
    "fifa_offense_top10"
   ]
  },
  {
   "cell_type": "code",
   "execution_count": 69,
   "id": "c6f7228d",
   "metadata": {
    "execution": {
     "iopub.execute_input": "2022-09-16T05:57:34.753433Z",
     "iopub.status.busy": "2022-09-16T05:57:34.752229Z",
     "iopub.status.idle": "2022-09-16T05:57:35.003493Z",
     "shell.execute_reply": "2022-09-16T05:57:35.002297Z"
    },
    "papermill": {
     "duration": 0.271298,
     "end_time": "2022-09-16T05:57:35.005972",
     "exception": false,
     "start_time": "2022-09-16T05:57:34.734674",
     "status": "completed"
    },
    "tags": []
   },
   "outputs": [
    {
     "data": {
      "image/png": "[encoded data removed]",
      "text/plain": [
       "<Figure size 432x288 with 1 Axes>"
      ]
     },
     "metadata": {
      "needs_background": "light"
     },
     "output_type": "display_data"
    }
   ],
   "source": [
    "sns.barplot(data=fifa_offense_top10,x='offense_score',y='team')\n",
    "plt.title(\"Top 10 Attacking teams\");"
   ]
  },
  {
   "cell_type": "markdown",
   "id": "543a39fe",
   "metadata": {
    "papermill": {
     "duration": 0.016293,
     "end_time": "2022-09-16T05:57:35.039352",
     "exception": false,
     "start_time": "2022-09-16T05:57:35.023059",
     "status": "completed"
    },
    "tags": []
   },
   "source": [
    "## Top 10 Midfield team"
   ]
  },
  {
   "cell_type": "code",
   "execution_count": 70,
   "id": "9690b5f5",
   "metadata": {
    "execution": {
     "iopub.execute_input": "2022-09-16T05:57:35.075323Z",
     "iopub.status.busy": "2022-09-16T05:57:35.074549Z",
     "iopub.status.idle": "2022-09-16T05:57:35.130489Z",
     "shell.execute_reply": "2022-09-16T05:57:35.129304Z"
    },
    "papermill": {
     "duration": 0.077221,
     "end_time": "2022-09-16T05:57:35.133319",
     "exception": false,
     "start_time": "2022-09-16T05:57:35.056098",
     "status": "completed"
    },
    "tags": []
   },
   "outputs": [
    {
     "data": {
      "text/html": [
       "<div>\n",
       "<style scoped>\n",
       "    .dataframe tbody tr th:only-of-type {\n",
       "        vertical-align: middle;\n",
       "    }\n",
       "\n",
       "    .dataframe tbody tr th {\n",
       "        vertical-align: top;\n",
       "    }\n",
       "\n",
       "    .dataframe thead th {\n",
       "        text-align: right;\n",
       "    }\n",
       "</style>\n",
       "<table border=\"1\" class=\"dataframe\">\n",
       "  <thead>\n",
       "    <tr style=\"text-align: right;\">\n",
       "      <th></th>\n",
       "      <th>team</th>\n",
       "      <th>date</th>\n",
       "      <th>midfield_score</th>\n",
       "    </tr>\n",
       "  </thead>\n",
       "  <tbody>\n",
       "    <tr>\n",
       "      <th>0</th>\n",
       "      <td>Germany</td>\n",
       "      <td>2022-06-14</td>\n",
       "      <td>87.8</td>\n",
       "    </tr>\n",
       "    <tr>\n",
       "      <th>1</th>\n",
       "      <td>France</td>\n",
       "      <td>2022-06-13</td>\n",
       "      <td>86.8</td>\n",
       "    </tr>\n",
       "    <tr>\n",
       "      <th>2</th>\n",
       "      <td>Spain</td>\n",
       "      <td>2022-06-12</td>\n",
       "      <td>86.0</td>\n",
       "    </tr>\n",
       "    <tr>\n",
       "      <th>3</th>\n",
       "      <td>Belgium</td>\n",
       "      <td>2022-06-14</td>\n",
       "      <td>85.5</td>\n",
       "    </tr>\n",
       "    <tr>\n",
       "      <th>4</th>\n",
       "      <td>Brazil</td>\n",
       "      <td>2022-06-06</td>\n",
       "      <td>85.5</td>\n",
       "    </tr>\n",
       "    <tr>\n",
       "      <th>5</th>\n",
       "      <td>Portugal</td>\n",
       "      <td>2022-06-12</td>\n",
       "      <td>84.5</td>\n",
       "    </tr>\n",
       "    <tr>\n",
       "      <th>6</th>\n",
       "      <td>Italy</td>\n",
       "      <td>2022-06-14</td>\n",
       "      <td>84.5</td>\n",
       "    </tr>\n",
       "    <tr>\n",
       "      <th>7</th>\n",
       "      <td>Croatia</td>\n",
       "      <td>2022-06-13</td>\n",
       "      <td>84.2</td>\n",
       "    </tr>\n",
       "    <tr>\n",
       "      <th>8</th>\n",
       "      <td>England</td>\n",
       "      <td>2022-06-14</td>\n",
       "      <td>84.0</td>\n",
       "    </tr>\n",
       "    <tr>\n",
       "      <th>9</th>\n",
       "      <td>Argentina</td>\n",
       "      <td>2022-06-05</td>\n",
       "      <td>84.0</td>\n",
       "    </tr>\n",
       "  </tbody>\n",
       "</table>\n",
       "</div>"
      ],
      "text/plain": [
       "        team       date  midfield_score\n",
       "0    Germany 2022-06-14            87.8\n",
       "1     France 2022-06-13            86.8\n",
       "2      Spain 2022-06-12            86.0\n",
       "3    Belgium 2022-06-14            85.5\n",
       "4     Brazil 2022-06-06            85.5\n",
       "5   Portugal 2022-06-12            84.5\n",
       "6      Italy 2022-06-14            84.5\n",
       "7    Croatia 2022-06-13            84.2\n",
       "8    England 2022-06-14            84.0\n",
       "9  Argentina 2022-06-05            84.0"
      ]
     },
     "execution_count": 70,
     "metadata": {},
     "output_type": "execute_result"
    }
   ],
   "source": [
    "fifa_midfield = df[['date', 'home_team', 'away_team','home_team_mean_midfield_score','away_team_mean_midfield_score']]\n",
    "home = fifa_midfield[['date','home_team','home_team_mean_midfield_score']].rename(columns={\"home_team\":\"team\",\"home_team_mean_midfield_score\":\"midfield_score\"})\n",
    "away = fifa_midfield[['date','away_team','away_team_mean_midfield_score']].rename(columns={\"away_team\":\"team\",\"away_team_mean_midfield_score\":\"midfield_score\"})\n",
    "fifa_midfield = pd.concat([home,away])\n",
    "fifa_midfield = fifa_midfield.sort_values(['date','team'],ascending=[False,True])\n",
    "fifa_midfield_top10 = fifa_midfield.groupby('team').first().sort_values('midfield_score',ascending=False)[0:10].reset_index()\n",
    "fifa_midfield_top10"
   ]
  },
  {
   "cell_type": "code",
   "execution_count": 71,
   "id": "f53b6f73",
   "metadata": {
    "execution": {
     "iopub.execute_input": "2022-09-16T05:57:35.169922Z",
     "iopub.status.busy": "2022-09-16T05:57:35.169135Z",
     "iopub.status.idle": "2022-09-16T05:57:35.425374Z",
     "shell.execute_reply": "2022-09-16T05:57:35.424322Z"
    },
    "papermill": {
     "duration": 0.277493,
     "end_time": "2022-09-16T05:57:35.428121",
     "exception": false,
     "start_time": "2022-09-16T05:57:35.150628",
     "status": "completed"
    },
    "tags": []
   },
   "outputs": [
    {
     "data": {
      "image/png": "[encoded data removed]",
      "text/plain": [
       "<Figure size 432x288 with 1 Axes>"
      ]
     },
     "metadata": {
      "needs_background": "light"
     },
     "output_type": "display_data"
    }
   ],
   "source": [
    "sns.barplot(data=fifa_midfield_top10,x='midfield_score',y='team')\n",
    "plt.title(\"Top 10 Midfield teams\");"
   ]
  },
  {
   "cell_type": "markdown",
   "id": "0e5749d9",
   "metadata": {
    "papermill": {
     "duration": 0.016569,
     "end_time": "2022-09-16T05:57:35.462066",
     "exception": false,
     "start_time": "2022-09-16T05:57:35.445497",
     "status": "completed"
    },
    "tags": []
   },
   "source": [
    "## Top 10 defense team"
   ]
  },
  {
   "cell_type": "code",
   "execution_count": 72,
   "id": "f4ccd8dc",
   "metadata": {
    "execution": {
     "iopub.execute_input": "2022-09-16T05:57:35.499084Z",
     "iopub.status.busy": "2022-09-16T05:57:35.498388Z",
     "iopub.status.idle": "2022-09-16T05:57:35.550583Z",
     "shell.execute_reply": "2022-09-16T05:57:35.549756Z"
    },
    "papermill": {
     "duration": 0.073864,
     "end_time": "2022-09-16T05:57:35.552898",
     "exception": false,
     "start_time": "2022-09-16T05:57:35.479034",
     "status": "completed"
    },
    "tags": []
   },
   "outputs": [
    {
     "data": {
      "text/html": [
       "<div>\n",
       "<style scoped>\n",
       "    .dataframe tbody tr th:only-of-type {\n",
       "        vertical-align: middle;\n",
       "    }\n",
       "\n",
       "    .dataframe tbody tr th {\n",
       "        vertical-align: top;\n",
       "    }\n",
       "\n",
       "    .dataframe thead th {\n",
       "        text-align: right;\n",
       "    }\n",
       "</style>\n",
       "<table border=\"1\" class=\"dataframe\">\n",
       "  <thead>\n",
       "    <tr style=\"text-align: right;\">\n",
       "      <th></th>\n",
       "      <th>team</th>\n",
       "      <th>date</th>\n",
       "      <th>defense_score</th>\n",
       "    </tr>\n",
       "  </thead>\n",
       "  <tbody>\n",
       "    <tr>\n",
       "      <th>0</th>\n",
       "      <td>Spain</td>\n",
       "      <td>2022-06-12</td>\n",
       "      <td>86.5</td>\n",
       "    </tr>\n",
       "    <tr>\n",
       "      <th>1</th>\n",
       "      <td>Portugal</td>\n",
       "      <td>2022-06-12</td>\n",
       "      <td>85.2</td>\n",
       "    </tr>\n",
       "    <tr>\n",
       "      <th>2</th>\n",
       "      <td>Netherlands</td>\n",
       "      <td>2022-06-14</td>\n",
       "      <td>85.2</td>\n",
       "    </tr>\n",
       "    <tr>\n",
       "      <th>3</th>\n",
       "      <td>England</td>\n",
       "      <td>2022-06-14</td>\n",
       "      <td>85.0</td>\n",
       "    </tr>\n",
       "    <tr>\n",
       "      <th>4</th>\n",
       "      <td>Brazil</td>\n",
       "      <td>2022-06-06</td>\n",
       "      <td>84.8</td>\n",
       "    </tr>\n",
       "    <tr>\n",
       "      <th>5</th>\n",
       "      <td>Italy</td>\n",
       "      <td>2022-06-14</td>\n",
       "      <td>84.2</td>\n",
       "    </tr>\n",
       "    <tr>\n",
       "      <th>6</th>\n",
       "      <td>France</td>\n",
       "      <td>2022-06-13</td>\n",
       "      <td>84.2</td>\n",
       "    </tr>\n",
       "    <tr>\n",
       "      <th>7</th>\n",
       "      <td>Germany</td>\n",
       "      <td>2022-06-14</td>\n",
       "      <td>84.0</td>\n",
       "    </tr>\n",
       "    <tr>\n",
       "      <th>8</th>\n",
       "      <td>Argentina</td>\n",
       "      <td>2022-06-05</td>\n",
       "      <td>82.2</td>\n",
       "    </tr>\n",
       "    <tr>\n",
       "      <th>9</th>\n",
       "      <td>Uruguay</td>\n",
       "      <td>2022-06-11</td>\n",
       "      <td>81.2</td>\n",
       "    </tr>\n",
       "  </tbody>\n",
       "</table>\n",
       "</div>"
      ],
      "text/plain": [
       "          team       date  defense_score\n",
       "0        Spain 2022-06-12           86.5\n",
       "1     Portugal 2022-06-12           85.2\n",
       "2  Netherlands 2022-06-14           85.2\n",
       "3      England 2022-06-14           85.0\n",
       "4       Brazil 2022-06-06           84.8\n",
       "5        Italy 2022-06-14           84.2\n",
       "6       France 2022-06-13           84.2\n",
       "7      Germany 2022-06-14           84.0\n",
       "8    Argentina 2022-06-05           82.2\n",
       "9      Uruguay 2022-06-11           81.2"
      ]
     },
     "execution_count": 72,
     "metadata": {},
     "output_type": "execute_result"
    }
   ],
   "source": [
    "fifa_defense = df[['date', 'home_team', 'away_team','home_team_mean_defense_score','away_team_mean_defense_score']]\n",
    "home = fifa_defense[['date','home_team','home_team_mean_defense_score']].rename(columns={\"home_team\":\"team\",\"home_team_mean_defense_score\":\"defense_score\"})\n",
    "away = fifa_defense[['date','away_team','away_team_mean_defense_score']].rename(columns={\"away_team\":\"team\",\"away_team_mean_defense_score\":\"defense_score\"})\n",
    "fifa_defense = pd.concat([home,away])\n",
    "fifa_defense = fifa_defense.sort_values(['date','team'],ascending=[False,True])\n",
    "fifa_defense_top10 = fifa_defense.groupby('team').first().sort_values('defense_score',ascending=False)[0:10].reset_index()\n",
    "fifa_defense_top10"
   ]
  },
  {
   "cell_type": "code",
   "execution_count": 73,
   "id": "97cac1ca",
   "metadata": {
    "execution": {
     "iopub.execute_input": "2022-09-16T05:57:35.590207Z",
     "iopub.status.busy": "2022-09-16T05:57:35.589554Z",
     "iopub.status.idle": "2022-09-16T05:57:35.844996Z",
     "shell.execute_reply": "2022-09-16T05:57:35.843767Z"
    },
    "papermill": {
     "duration": 0.277474,
     "end_time": "2022-09-16T05:57:35.847620",
     "exception": false,
     "start_time": "2022-09-16T05:57:35.570146",
     "status": "completed"
    },
    "tags": []
   },
   "outputs": [
    {
     "data": {
      "text/plain": [
       "Text(0.5, 1.0, 'Top 10 Defense Teams')"
      ]
     },
     "execution_count": 73,
     "metadata": {},
     "output_type": "execute_result"
    },
    {
     "data": {
      "image/png": "[encoded data removed]",
      "text/plain": [
       "<Figure size 432x288 with 1 Axes>"
      ]
     },
     "metadata": {
      "needs_background": "light"
     },
     "output_type": "display_data"
    }
   ],
   "source": [
    "sns.barplot(data=fifa_defense_top10,x='defense_score',y='team')\n",
    "plt.title(\"Top 10 Defense Teams\")"
   ]
  },
  {
   "cell_type": "markdown",
   "id": "5d7e42bf",
   "metadata": {
    "papermill": {
     "duration": 0.017282,
     "end_time": "2022-09-16T05:57:35.882424",
     "exception": false,
     "start_time": "2022-09-16T05:57:35.865142",
     "status": "completed"
    },
    "tags": []
   },
   "source": [
    "### Analyze and fill na's"
   ]
  },
  {
   "cell_type": "code",
   "execution_count": 74,
   "id": "b0caf7a9",
   "metadata": {
    "execution": {
     "iopub.execute_input": "2022-09-16T05:57:35.920120Z",
     "iopub.status.busy": "2022-09-16T05:57:35.919701Z",
     "iopub.status.idle": "2022-09-16T05:57:35.941189Z",
     "shell.execute_reply": "2022-09-16T05:57:35.939913Z"
    },
    "papermill": {
     "duration": 0.043386,
     "end_time": "2022-09-16T05:57:35.943804",
     "exception": false,
     "start_time": "2022-09-16T05:57:35.900418",
     "status": "completed"
    },
    "tags": []
   },
   "outputs": [
    {
     "data": {
      "text/plain": [
       "date                                 0\n",
       "home_team                            0\n",
       "away_team                            0\n",
       "home_team_continent                  0\n",
       "away_team_continent                  0\n",
       "home_team_fifa_rank                  0\n",
       "away_team_fifa_rank                  0\n",
       "home_team_total_fifa_points          0\n",
       "away_team_total_fifa_points          0\n",
       "home_team_score                      0\n",
       "away_team_score                      0\n",
       "tournament                           0\n",
       "city                                 0\n",
       "country                              0\n",
       "neutral_location                     0\n",
       "shoot_out                            0\n",
       "home_team_result                     0\n",
       "home_team_goalkeeper_score       15542\n",
       "away_team_goalkeeper_score       15826\n",
       "home_team_mean_defense_score     16134\n",
       "home_team_mean_offense_score     15411\n",
       "home_team_mean_midfield_score    15759\n",
       "away_team_mean_defense_score     16357\n",
       "away_team_mean_offense_score     15609\n",
       "away_team_mean_midfield_score    15942\n",
       "dtype: int64"
      ]
     },
     "execution_count": 74,
     "metadata": {},
     "output_type": "execute_result"
    }
   ],
   "source": [
    "df.isnull().sum()"
   ]
  },
  {
   "cell_type": "code",
   "execution_count": 75,
   "id": "b6f172b4",
   "metadata": {
    "execution": {
     "iopub.execute_input": "2022-09-16T05:57:35.981174Z",
     "iopub.status.busy": "2022-09-16T05:57:35.980713Z",
     "iopub.status.idle": "2022-09-16T05:57:35.995155Z",
     "shell.execute_reply": "2022-09-16T05:57:35.993981Z"
    },
    "papermill": {
     "duration": 0.03608,
     "end_time": "2022-09-16T05:57:35.997669",
     "exception": false,
     "start_time": "2022-09-16T05:57:35.961589",
     "status": "completed"
    },
    "tags": []
   },
   "outputs": [
    {
     "data": {
      "text/plain": [
       "count    135.000000\n",
       "mean      86.074074\n",
       "std        3.327026\n",
       "min       82.000000\n",
       "25%       83.000000\n",
       "50%       86.000000\n",
       "75%       89.000000\n",
       "max       93.000000\n",
       "Name: home_team_goalkeeper_score, dtype: float64"
      ]
     },
     "execution_count": 75,
     "metadata": {},
     "output_type": "execute_result"
    }
   ],
   "source": [
    "#We can fill mean for na's in goal_keeper_score\n",
    "df[df['home_team'] == \"Brazil\"]['home_team_goalkeeper_score'].describe()"
   ]
  },
  {
   "cell_type": "code",
   "execution_count": 76,
   "id": "8b85fa88",
   "metadata": {
    "execution": {
     "iopub.execute_input": "2022-09-16T05:57:36.035553Z",
     "iopub.status.busy": "2022-09-16T05:57:36.035142Z",
     "iopub.status.idle": "2022-09-16T05:57:36.173444Z",
     "shell.execute_reply": "2022-09-16T05:57:36.172300Z"
    },
    "papermill": {
     "duration": 0.160325,
     "end_time": "2022-09-16T05:57:36.176020",
     "exception": false,
     "start_time": "2022-09-16T05:57:36.015695",
     "status": "completed"
    },
    "tags": []
   },
   "outputs": [],
   "source": [
    "df['home_team_goalkeeper_score'] = round(df.groupby(\"home_team\")[\"home_team_goalkeeper_score\"].transform(lambda x: x.fillna(x.mean())))\n",
    "df['away_team_goalkeeper_score'] = round(df.groupby(\"away_team\")[\"away_team_goalkeeper_score\"].transform(lambda x: x.fillna(x.mean())))"
   ]
  },
  {
   "cell_type": "code",
   "execution_count": 77,
   "id": "e0e6825a",
   "metadata": {
    "execution": {
     "iopub.execute_input": "2022-09-16T05:57:36.214319Z",
     "iopub.status.busy": "2022-09-16T05:57:36.213346Z",
     "iopub.status.idle": "2022-09-16T05:57:36.227828Z",
     "shell.execute_reply": "2022-09-16T05:57:36.226753Z"
    },
    "papermill": {
     "duration": 0.036064,
     "end_time": "2022-09-16T05:57:36.230031",
     "exception": false,
     "start_time": "2022-09-16T05:57:36.193967",
     "status": "completed"
    },
    "tags": []
   },
   "outputs": [
    {
     "data": {
      "text/plain": [
       "count    105.000000\n",
       "mean      76.580000\n",
       "std        5.589988\n",
       "min       58.500000\n",
       "25%       73.200000\n",
       "50%       76.500000\n",
       "75%       80.000000\n",
       "max       89.500000\n",
       "Name: home_team_mean_defense_score, dtype: float64"
      ]
     },
     "execution_count": 77,
     "metadata": {},
     "output_type": "execute_result"
    }
   ],
   "source": [
    "#We can fill mean for na's in defense score\n",
    "df[df['away_team'] == \"Uruguay\"]['home_team_mean_defense_score'].describe()"
   ]
  },
  {
   "cell_type": "code",
   "execution_count": 78,
   "id": "2361c2a7",
   "metadata": {
    "execution": {
     "iopub.execute_input": "2022-09-16T05:57:36.268389Z",
     "iopub.status.busy": "2022-09-16T05:57:36.267930Z",
     "iopub.status.idle": "2022-09-16T05:57:36.403454Z",
     "shell.execute_reply": "2022-09-16T05:57:36.402296Z"
    },
    "papermill": {
     "duration": 0.15809,
     "end_time": "2022-09-16T05:57:36.406132",
     "exception": false,
     "start_time": "2022-09-16T05:57:36.248042",
     "status": "completed"
    },
    "tags": []
   },
   "outputs": [],
   "source": [
    "df['home_team_mean_defense_score'] = round(df.groupby('home_team')['home_team_mean_defense_score'].transform(lambda x : x.fillna(x.mean())))\n",
    "df['away_team_mean_defense_score'] = round(df.groupby('away_team')['away_team_mean_defense_score'].transform(lambda x : x.fillna(x.mean())))"
   ]
  },
  {
   "cell_type": "code",
   "execution_count": 79,
   "id": "e67c2361",
   "metadata": {
    "execution": {
     "iopub.execute_input": "2022-09-16T05:57:36.444908Z",
     "iopub.status.busy": "2022-09-16T05:57:36.444177Z",
     "iopub.status.idle": "2022-09-16T05:57:36.458165Z",
     "shell.execute_reply": "2022-09-16T05:57:36.457052Z"
    },
    "papermill": {
     "duration": 0.036413,
     "end_time": "2022-09-16T05:57:36.460635",
     "exception": false,
     "start_time": "2022-09-16T05:57:36.424222",
     "status": "completed"
    },
    "tags": []
   },
   "outputs": [
    {
     "data": {
      "text/plain": [
       "count    117.000000\n",
       "mean      78.136752\n",
       "std        5.878813\n",
       "min       66.700000\n",
       "25%       74.000000\n",
       "50%       78.000000\n",
       "75%       82.300000\n",
       "max       90.300000\n",
       "Name: home_team_mean_offense_score, dtype: float64"
      ]
     },
     "execution_count": 79,
     "metadata": {},
     "output_type": "execute_result"
    }
   ],
   "source": [
    "#We can fill mean for na's in offense score\n",
    "df[df['away_team'] == \"Uruguay\"]['home_team_mean_offense_score'].describe()"
   ]
  },
  {
   "cell_type": "code",
   "execution_count": 80,
   "id": "a78d6ae4",
   "metadata": {
    "execution": {
     "iopub.execute_input": "2022-09-16T05:57:36.499386Z",
     "iopub.status.busy": "2022-09-16T05:57:36.498960Z",
     "iopub.status.idle": "2022-09-16T05:57:36.638463Z",
     "shell.execute_reply": "2022-09-16T05:57:36.637294Z"
    },
    "papermill": {
     "duration": 0.162163,
     "end_time": "2022-09-16T05:57:36.641107",
     "exception": false,
     "start_time": "2022-09-16T05:57:36.478944",
     "status": "completed"
    },
    "tags": []
   },
   "outputs": [],
   "source": [
    "df['home_team_mean_offense_score'] = round(df.groupby('home_team')['home_team_mean_offense_score'].transform(lambda x : x.fillna(x.mean())))\n",
    "df['away_team_mean_offense_score'] = round(df.groupby('away_team')['away_team_mean_offense_score'].transform(lambda x : x.fillna(x.mean())))"
   ]
  },
  {
   "cell_type": "code",
   "execution_count": 81,
   "id": "9a41235a",
   "metadata": {
    "execution": {
     "iopub.execute_input": "2022-09-16T05:57:36.679713Z",
     "iopub.status.busy": "2022-09-16T05:57:36.678980Z",
     "iopub.status.idle": "2022-09-16T05:57:36.694738Z",
     "shell.execute_reply": "2022-09-16T05:57:36.693452Z"
    },
    "papermill": {
     "duration": 0.037708,
     "end_time": "2022-09-16T05:57:36.697252",
     "exception": false,
     "start_time": "2022-09-16T05:57:36.659544",
     "status": "completed"
    },
    "tags": []
   },
   "outputs": [
    {
     "data": {
      "text/plain": [
       "count    110.000000\n",
       "mean      77.729091\n",
       "std        5.656617\n",
       "min       63.200000\n",
       "25%       75.050000\n",
       "50%       77.650000\n",
       "75%       81.425000\n",
       "max       89.500000\n",
       "Name: home_team_mean_midfield_score, dtype: float64"
      ]
     },
     "execution_count": 81,
     "metadata": {},
     "output_type": "execute_result"
    }
   ],
   "source": [
    "#We can fill mean for na's in midfield score\n",
    "df[df['away_team'] == \"Uruguay\"]['home_team_mean_midfield_score'].describe()"
   ]
  },
  {
   "cell_type": "code",
   "execution_count": 82,
   "id": "3fd1cb72",
   "metadata": {
    "execution": {
     "iopub.execute_input": "2022-09-16T05:57:36.735839Z",
     "iopub.status.busy": "2022-09-16T05:57:36.735479Z",
     "iopub.status.idle": "2022-09-16T05:57:36.873071Z",
     "shell.execute_reply": "2022-09-16T05:57:36.872114Z"
    },
    "papermill": {
     "duration": 0.159966,
     "end_time": "2022-09-16T05:57:36.875784",
     "exception": false,
     "start_time": "2022-09-16T05:57:36.715818",
     "status": "completed"
    },
    "tags": []
   },
   "outputs": [],
   "source": [
    "df['home_team_mean_midfield_score'] = round(df.groupby('home_team')['home_team_mean_midfield_score'].transform(lambda x : x.fillna(x.mean())))\n",
    "df['away_team_mean_midfield_score'] = round(df.groupby('away_team')['away_team_mean_midfield_score'].transform(lambda x : x.fillna(x.mean())))"
   ]
  },
  {
   "cell_type": "code",
   "execution_count": 83,
   "id": "4c05d864",
   "metadata": {
    "execution": {
     "iopub.execute_input": "2022-09-16T05:57:36.913847Z",
     "iopub.status.busy": "2022-09-16T05:57:36.913480Z",
     "iopub.status.idle": "2022-09-16T05:57:36.932881Z",
     "shell.execute_reply": "2022-09-16T05:57:36.931779Z"
    },
    "papermill": {
     "duration": 0.041359,
     "end_time": "2022-09-16T05:57:36.935158",
     "exception": false,
     "start_time": "2022-09-16T05:57:36.893799",
     "status": "completed"
    },
    "tags": []
   },
   "outputs": [
    {
     "data": {
      "text/plain": [
       "date                                0\n",
       "home_team                           0\n",
       "away_team                           0\n",
       "home_team_continent                 0\n",
       "away_team_continent                 0\n",
       "home_team_fifa_rank                 0\n",
       "away_team_fifa_rank                 0\n",
       "home_team_total_fifa_points         0\n",
       "away_team_total_fifa_points         0\n",
       "home_team_score                     0\n",
       "away_team_score                     0\n",
       "tournament                          0\n",
       "city                                0\n",
       "country                             0\n",
       "neutral_location                    0\n",
       "shoot_out                           0\n",
       "home_team_result                    0\n",
       "home_team_goalkeeper_score       5683\n",
       "away_team_goalkeeper_score       6254\n",
       "home_team_mean_defense_score     8019\n",
       "home_team_mean_offense_score     6995\n",
       "home_team_mean_midfield_score    6955\n",
       "away_team_mean_defense_score     8285\n",
       "away_team_mean_offense_score     7165\n",
       "away_team_mean_midfield_score    7036\n",
       "dtype: int64"
      ]
     },
     "execution_count": 83,
     "metadata": {},
     "output_type": "execute_result"
    }
   ],
   "source": [
    "df.isnull().sum()"
   ]
  },
  {
   "cell_type": "code",
   "execution_count": 84,
   "id": "828e8de0",
   "metadata": {
    "execution": {
     "iopub.execute_input": "2022-09-16T05:57:36.976077Z",
     "iopub.status.busy": "2022-09-16T05:57:36.975678Z",
     "iopub.status.idle": "2022-09-16T05:57:37.092152Z",
     "shell.execute_reply": "2022-09-16T05:57:37.091152Z"
    },
    "papermill": {
     "duration": 0.14045,
     "end_time": "2022-09-16T05:57:37.094748",
     "exception": false,
     "start_time": "2022-09-16T05:57:36.954298",
     "status": "completed"
    },
    "tags": []
   },
   "outputs": [],
   "source": [
    "#Teams are not available in FIFA game itself, so they are not less than average performing teams, so giving a average score of 50 for all.\n",
    "df.fillna(50,inplace=True)"
   ]
  },
  {
   "cell_type": "code",
   "execution_count": 85,
   "id": "6ab7ebe6",
   "metadata": {
    "execution": {
     "iopub.execute_input": "2022-09-16T05:57:37.138708Z",
     "iopub.status.busy": "2022-09-16T05:57:37.138039Z",
     "iopub.status.idle": "2022-09-16T05:57:37.187981Z",
     "shell.execute_reply": "2022-09-16T05:57:37.186973Z"
    },
    "papermill": {
     "duration": 0.076858,
     "end_time": "2022-09-16T05:57:37.190734",
     "exception": false,
     "start_time": "2022-09-16T05:57:37.113876",
     "status": "completed"
    },
    "tags": []
   },
   "outputs": [],
   "source": [
    "#Filter the teams participating in World cup 22\n",
    "list_2022 = ['Qatar', 'Germany', 'Denmark', 'Brazil', 'France', 'Belgium', 'Croatia', 'Spain', 'Serbia', 'England', 'Switzerland', 'Netherlands', 'Argentina', 'IR Iran', 'Korea Republic', 'Japan', 'Saudi Arabia', 'Ecuador', 'Uruguay', 'Canada', 'Ghana', 'Senegal', 'Portugal', 'Poland', 'Tunisia', 'Morocco', 'Cameroon', 'USA', 'Mexico', 'Wales', 'Australia', 'Costa Rica']\n",
    "final_df = df[(df[\"home_team\"].apply(lambda x: x in list_2022)) | (df[\"away_team\"].apply(lambda x: x in list_2022))]"
   ]
  },
  {
   "cell_type": "markdown",
   "id": "eafaf8e3",
   "metadata": {
    "papermill": {
     "duration": 0.01816,
     "end_time": "2022-09-16T05:57:37.227386",
     "exception": false,
     "start_time": "2022-09-16T05:57:37.209226",
     "status": "completed"
    },
    "tags": []
   },
   "source": [
    "## Task = Top 10 teams in Worldcup 22 with individual winning percentage"
   ]
  },
  {
   "cell_type": "code",
   "execution_count": 86,
   "id": "789924c2",
   "metadata": {
    "execution": {
     "iopub.execute_input": "2022-09-16T05:57:37.267646Z",
     "iopub.status.busy": "2022-09-16T05:57:37.266336Z",
     "iopub.status.idle": "2022-09-16T05:57:37.306665Z",
     "shell.execute_reply": "2022-09-16T05:57:37.305460Z"
    },
    "papermill": {
     "duration": 0.063544,
     "end_time": "2022-09-16T05:57:37.309541",
     "exception": false,
     "start_time": "2022-09-16T05:57:37.245997",
     "status": "completed"
    },
    "tags": []
   },
   "outputs": [
    {
     "data": {
      "text/html": [
       "<div>\n",
       "<style scoped>\n",
       "    .dataframe tbody tr th:only-of-type {\n",
       "        vertical-align: middle;\n",
       "    }\n",
       "\n",
       "    .dataframe tbody tr th {\n",
       "        vertical-align: top;\n",
       "    }\n",
       "\n",
       "    .dataframe thead th {\n",
       "        text-align: right;\n",
       "    }\n",
       "</style>\n",
       "<table border=\"1\" class=\"dataframe\">\n",
       "  <thead>\n",
       "    <tr style=\"text-align: right;\">\n",
       "      <th></th>\n",
       "      <th>team</th>\n",
       "      <th>date</th>\n",
       "      <th>rank</th>\n",
       "    </tr>\n",
       "  </thead>\n",
       "  <tbody>\n",
       "    <tr>\n",
       "      <th>0</th>\n",
       "      <td>Brazil</td>\n",
       "      <td>2022-06-06</td>\n",
       "      <td>1</td>\n",
       "    </tr>\n",
       "    <tr>\n",
       "      <th>1</th>\n",
       "      <td>Belgium</td>\n",
       "      <td>2022-06-14</td>\n",
       "      <td>2</td>\n",
       "    </tr>\n",
       "    <tr>\n",
       "      <th>2</th>\n",
       "      <td>France</td>\n",
       "      <td>2022-06-13</td>\n",
       "      <td>3</td>\n",
       "    </tr>\n",
       "    <tr>\n",
       "      <th>3</th>\n",
       "      <td>Argentina</td>\n",
       "      <td>2022-06-05</td>\n",
       "      <td>4</td>\n",
       "    </tr>\n",
       "    <tr>\n",
       "      <th>4</th>\n",
       "      <td>England</td>\n",
       "      <td>2022-06-14</td>\n",
       "      <td>5</td>\n",
       "    </tr>\n",
       "    <tr>\n",
       "      <th>6</th>\n",
       "      <td>Spain</td>\n",
       "      <td>2022-06-12</td>\n",
       "      <td>7</td>\n",
       "    </tr>\n",
       "    <tr>\n",
       "      <th>7</th>\n",
       "      <td>Portugal</td>\n",
       "      <td>2022-06-12</td>\n",
       "      <td>8</td>\n",
       "    </tr>\n",
       "    <tr>\n",
       "      <th>8</th>\n",
       "      <td>Mexico</td>\n",
       "      <td>2022-06-14</td>\n",
       "      <td>9</td>\n",
       "    </tr>\n",
       "    <tr>\n",
       "      <th>9</th>\n",
       "      <td>Netherlands</td>\n",
       "      <td>2022-06-14</td>\n",
       "      <td>10</td>\n",
       "    </tr>\n",
       "    <tr>\n",
       "      <th>10</th>\n",
       "      <td>Denmark</td>\n",
       "      <td>2022-06-13</td>\n",
       "      <td>11</td>\n",
       "    </tr>\n",
       "  </tbody>\n",
       "</table>\n",
       "</div>"
      ],
      "text/plain": [
       "           team       date  rank\n",
       "0        Brazil 2022-06-06     1\n",
       "1       Belgium 2022-06-14     2\n",
       "2        France 2022-06-13     3\n",
       "3     Argentina 2022-06-05     4\n",
       "4       England 2022-06-14     5\n",
       "6         Spain 2022-06-12     7\n",
       "7      Portugal 2022-06-12     8\n",
       "8        Mexico 2022-06-14     9\n",
       "9   Netherlands 2022-06-14    10\n",
       "10      Denmark 2022-06-13    11"
      ]
     },
     "execution_count": 86,
     "metadata": {},
     "output_type": "execute_result"
    }
   ],
   "source": [
    "rank = final_df[['date','home_team','away_team','home_team_fifa_rank', 'away_team_fifa_rank']]\n",
    "home = rank[['date','home_team','home_team_fifa_rank']].rename(columns={\"home_team\":\"team\",\"home_team_fifa_rank\":\"rank\"})\n",
    "away = rank[['date','away_team','away_team_fifa_rank']].rename(columns={\"away_team\":\"team\",\"away_team_fifa_rank\":\"rank\"})\n",
    "rank = pd.concat([home,away])\n",
    "#Select each country latest match\n",
    "rank = rank.sort_values(['team','date'],ascending=[True,False])\n",
    "rank_top10 = rank.groupby('team').first().sort_values('rank',ascending=True).reset_index()\n",
    "rank_top10 = rank_top10[(rank_top10[\"team\"].apply(lambda x: x in list_2022))][0:10]\n",
    "rank_top10"
   ]
  },
  {
   "cell_type": "code",
   "execution_count": 87,
   "id": "31bb65c6",
   "metadata": {
    "execution": {
     "iopub.execute_input": "2022-09-16T05:57:37.350251Z",
     "iopub.status.busy": "2022-09-16T05:57:37.349602Z",
     "iopub.status.idle": "2022-09-16T05:57:37.522156Z",
     "shell.execute_reply": "2022-09-16T05:57:37.521040Z"
    },
    "papermill": {
     "duration": 0.195369,
     "end_time": "2022-09-16T05:57:37.524964",
     "exception": false,
     "start_time": "2022-09-16T05:57:37.329595",
     "status": "completed"
    },
    "tags": []
   },
   "outputs": [
    {
     "data": {
      "text/html": [
       "<div>\n",
       "<style scoped>\n",
       "    .dataframe tbody tr th:only-of-type {\n",
       "        vertical-align: middle;\n",
       "    }\n",
       "\n",
       "    .dataframe tbody tr th {\n",
       "        vertical-align: top;\n",
       "    }\n",
       "\n",
       "    .dataframe thead th {\n",
       "        text-align: right;\n",
       "    }\n",
       "</style>\n",
       "<table border=\"1\" class=\"dataframe\">\n",
       "  <thead>\n",
       "    <tr style=\"text-align: right;\">\n",
       "      <th></th>\n",
       "      <th>team</th>\n",
       "      <th>date</th>\n",
       "      <th>rank</th>\n",
       "      <th>Home_win_Per</th>\n",
       "      <th>Away_win_Per</th>\n",
       "      <th>Average_win_Per</th>\n",
       "    </tr>\n",
       "  </thead>\n",
       "  <tbody>\n",
       "    <tr>\n",
       "      <th>0</th>\n",
       "      <td>Brazil</td>\n",
       "      <td>2022-06-06</td>\n",
       "      <td>1</td>\n",
       "      <td>78</td>\n",
       "      <td>60</td>\n",
       "      <td>69.0</td>\n",
       "    </tr>\n",
       "    <tr>\n",
       "      <th>6</th>\n",
       "      <td>Spain</td>\n",
       "      <td>2022-06-12</td>\n",
       "      <td>7</td>\n",
       "      <td>77</td>\n",
       "      <td>61</td>\n",
       "      <td>69.0</td>\n",
       "    </tr>\n",
       "    <tr>\n",
       "      <th>2</th>\n",
       "      <td>France</td>\n",
       "      <td>2022-06-13</td>\n",
       "      <td>3</td>\n",
       "      <td>66</td>\n",
       "      <td>57</td>\n",
       "      <td>62.0</td>\n",
       "    </tr>\n",
       "    <tr>\n",
       "      <th>3</th>\n",
       "      <td>Argentina</td>\n",
       "      <td>2022-06-05</td>\n",
       "      <td>4</td>\n",
       "      <td>68</td>\n",
       "      <td>49</td>\n",
       "      <td>58.0</td>\n",
       "    </tr>\n",
       "    <tr>\n",
       "      <th>4</th>\n",
       "      <td>England</td>\n",
       "      <td>2022-06-14</td>\n",
       "      <td>5</td>\n",
       "      <td>64</td>\n",
       "      <td>51</td>\n",
       "      <td>58.0</td>\n",
       "    </tr>\n",
       "    <tr>\n",
       "      <th>7</th>\n",
       "      <td>Portugal</td>\n",
       "      <td>2022-06-12</td>\n",
       "      <td>8</td>\n",
       "      <td>67</td>\n",
       "      <td>49</td>\n",
       "      <td>58.0</td>\n",
       "    </tr>\n",
       "    <tr>\n",
       "      <th>9</th>\n",
       "      <td>Netherlands</td>\n",
       "      <td>2022-06-14</td>\n",
       "      <td>10</td>\n",
       "      <td>62</td>\n",
       "      <td>55</td>\n",
       "      <td>58.0</td>\n",
       "    </tr>\n",
       "    <tr>\n",
       "      <th>1</th>\n",
       "      <td>Belgium</td>\n",
       "      <td>2022-06-14</td>\n",
       "      <td>2</td>\n",
       "      <td>60</td>\n",
       "      <td>46</td>\n",
       "      <td>53.0</td>\n",
       "    </tr>\n",
       "    <tr>\n",
       "      <th>8</th>\n",
       "      <td>Mexico</td>\n",
       "      <td>2022-06-14</td>\n",
       "      <td>9</td>\n",
       "      <td>60</td>\n",
       "      <td>41</td>\n",
       "      <td>50.0</td>\n",
       "    </tr>\n",
       "    <tr>\n",
       "      <th>10</th>\n",
       "      <td>Denmark</td>\n",
       "      <td>2022-06-13</td>\n",
       "      <td>11</td>\n",
       "      <td>56</td>\n",
       "      <td>45</td>\n",
       "      <td>50.0</td>\n",
       "    </tr>\n",
       "  </tbody>\n",
       "</table>\n",
       "</div>"
      ],
      "text/plain": [
       "           team       date  rank  Home_win_Per  Away_win_Per  Average_win_Per\n",
       "0        Brazil 2022-06-06     1            78            60             69.0\n",
       "6         Spain 2022-06-12     7            77            61             69.0\n",
       "2        France 2022-06-13     3            66            57             62.0\n",
       "3     Argentina 2022-06-05     4            68            49             58.0\n",
       "4       England 2022-06-14     5            64            51             58.0\n",
       "7      Portugal 2022-06-12     8            67            49             58.0\n",
       "9   Netherlands 2022-06-14    10            62            55             58.0\n",
       "1       Belgium 2022-06-14     2            60            46             53.0\n",
       "8        Mexico 2022-06-14     9            60            41             50.0\n",
       "10      Denmark 2022-06-13    11            56            45             50.0"
      ]
     },
     "execution_count": 87,
     "metadata": {},
     "output_type": "execute_result"
    }
   ],
   "source": [
    "rank_top10['Home_win_Per'] = np.vectorize(home_percentage)(rank_top10['team'])\n",
    "rank_top10['Away_win_Per'] = np.vectorize(away_percentage)(rank_top10['team'])\n",
    "rank_top10['Average_win_Per'] = round((rank_top10['Home_win_Per'] + rank_top10['Away_win_Per'])/2)\n",
    "rank_top10_Win = rank_top10.sort_values('Average_win_Per',ascending=False)\n",
    "rank_top10_Win"
   ]
  },
  {
   "cell_type": "code",
   "execution_count": 88,
   "id": "58244668",
   "metadata": {
    "execution": {
     "iopub.execute_input": "2022-09-16T05:57:37.564058Z",
     "iopub.status.busy": "2022-09-16T05:57:37.563585Z",
     "iopub.status.idle": "2022-09-16T05:57:37.840639Z",
     "shell.execute_reply": "2022-09-16T05:57:37.839334Z"
    },
    "papermill": {
     "duration": 0.299092,
     "end_time": "2022-09-16T05:57:37.842922",
     "exception": false,
     "start_time": "2022-09-16T05:57:37.543830",
     "status": "completed"
    },
    "tags": []
   },
   "outputs": [
    {
     "data": {
      "image/png": "[encoded data removed]",
      "text/plain": [
       "<Figure size 432x288 with 1 Axes>"
      ]
     },
     "metadata": {
      "needs_background": "light"
     },
     "output_type": "display_data"
    }
   ],
   "source": [
    "sns.barplot(data=rank_top10_Win,x='team',y='Average_win_Per')\n",
    "plt.xticks(rotation=90);"
   ]
  },
  {
   "cell_type": "code",
   "execution_count": 89,
   "id": "db617ba6",
   "metadata": {
    "execution": {
     "iopub.execute_input": "2022-09-16T05:57:37.883501Z",
     "iopub.status.busy": "2022-09-16T05:57:37.882419Z",
     "iopub.status.idle": "2022-09-16T05:57:37.892447Z",
     "shell.execute_reply": "2022-09-16T05:57:37.890781Z"
    },
    "papermill": {
     "duration": 0.033459,
     "end_time": "2022-09-16T05:57:37.895626",
     "exception": false,
     "start_time": "2022-09-16T05:57:37.862167",
     "status": "completed"
    },
    "tags": []
   },
   "outputs": [
    {
     "name": "stderr",
     "output_type": "stream",
     "text": [
      "C:\\Users\\haekyu\\AppData\\Local\\Temp\\ipykernel_8704\\3165474010.py:2: SettingWithCopyWarning: \n",
      "A value is trying to be set on a copy of a slice from a DataFrame.\n",
      "Try using .loc[row_indexer,col_indexer] = value instead\n",
      "\n",
      "See the caveats in the documentation: https://pandas.pydata.org/pandas-docs/stable/user_guide/indexing.html#returning-a-view-versus-a-copy\n",
      "  final_df['home_team_result'] = final_df['home_team_result'].map({'Win':1, 'Draw':2, 'Lose':0})\n"
     ]
    }
   ],
   "source": [
    "#Mapping numeric values for home_team_result to find the correleations\n",
    "final_df['home_team_result'] = final_df['home_team_result'].map({'Win':1, 'Draw':2, 'Lose':0})"
   ]
  },
  {
   "cell_type": "code",
   "execution_count": 90,
   "id": "fd74e4ff",
   "metadata": {
    "execution": {
     "iopub.execute_input": "2022-09-16T05:57:37.935813Z",
     "iopub.status.busy": "2022-09-16T05:57:37.935040Z",
     "iopub.status.idle": "2022-09-16T05:57:37.953640Z",
     "shell.execute_reply": "2022-09-16T05:57:37.952418Z"
    },
    "papermill": {
     "duration": 0.041079,
     "end_time": "2022-09-16T05:57:37.956160",
     "exception": false,
     "start_time": "2022-09-16T05:57:37.915081",
     "status": "completed"
    },
    "tags": []
   },
   "outputs": [
    {
     "data": {
      "text/plain": [
       "home_team_result                 1.000000\n",
       "home_team_mean_offense_score     0.165981\n",
       "home_team_mean_defense_score     0.158841\n",
       "home_team_mean_midfield_score    0.157639\n",
       "home_team_score                  0.127916\n",
       "home_team_goalkeeper_score       0.122509\n",
       "away_team_fifa_rank              0.111366\n",
       "home_team_total_fifa_points      0.015498\n",
       "away_team_total_fifa_points     -0.047726\n",
       "neutral_location                -0.066361\n",
       "away_team_mean_offense_score    -0.117055\n",
       "away_team_mean_defense_score    -0.122354\n",
       "away_team_goalkeeper_score      -0.124837\n",
       "away_team_mean_midfield_score   -0.127505\n",
       "home_team_fifa_rank             -0.186355\n",
       "away_team_score                 -0.464635\n",
       "Name: home_team_result, dtype: float64"
      ]
     },
     "execution_count": 90,
     "metadata": {},
     "output_type": "execute_result"
    }
   ],
   "source": [
    "final_df.corr()['home_team_result'].sort_values(ascending=False)"
   ]
  },
  {
   "cell_type": "code",
   "execution_count": 91,
   "id": "a2ca9b51",
   "metadata": {
    "execution": {
     "iopub.execute_input": "2022-09-16T05:57:37.997373Z",
     "iopub.status.busy": "2022-09-16T05:57:37.996749Z",
     "iopub.status.idle": "2022-09-16T05:57:38.003781Z",
     "shell.execute_reply": "2022-09-16T05:57:38.002740Z"
    },
    "papermill": {
     "duration": 0.030473,
     "end_time": "2022-09-16T05:57:38.006208",
     "exception": false,
     "start_time": "2022-09-16T05:57:37.975735",
     "status": "completed"
    },
    "tags": []
   },
   "outputs": [],
   "source": [
    "#Dropping unnecessary colums\n",
    "final_df = final_df.drop(['date', 'home_team_continent','away_team_continent','home_team_total_fifa_points', 'away_team_total_fifa_points','home_team_score', 'away_team_score', 'tournament', 'city', 'country','neutral_location', 'shoot_out'],axis=1)"
   ]
  },
  {
   "cell_type": "code",
   "execution_count": 92,
   "id": "e91e76eb",
   "metadata": {
    "execution": {
     "iopub.execute_input": "2022-09-16T05:57:38.046567Z",
     "iopub.status.busy": "2022-09-16T05:57:38.045906Z",
     "iopub.status.idle": "2022-09-16T05:57:38.052143Z",
     "shell.execute_reply": "2022-09-16T05:57:38.051282Z"
    },
    "papermill": {
     "duration": 0.029149,
     "end_time": "2022-09-16T05:57:38.054538",
     "exception": false,
     "start_time": "2022-09-16T05:57:38.025389",
     "status": "completed"
    },
    "tags": []
   },
   "outputs": [
    {
     "data": {
      "text/plain": [
       "Index(['home_team', 'away_team', 'home_team_fifa_rank', 'away_team_fifa_rank',\n",
       "       'home_team_result', 'home_team_goalkeeper_score',\n",
       "       'away_team_goalkeeper_score', 'home_team_mean_defense_score',\n",
       "       'home_team_mean_offense_score', 'home_team_mean_midfield_score',\n",
       "       'away_team_mean_defense_score', 'away_team_mean_offense_score',\n",
       "       'away_team_mean_midfield_score'],\n",
       "      dtype='object')"
      ]
     },
     "execution_count": 92,
     "metadata": {},
     "output_type": "execute_result"
    }
   ],
   "source": [
    "final_df.columns"
   ]
  },
  {
   "cell_type": "code",
   "execution_count": 93,
   "id": "d3eff77e",
   "metadata": {
    "execution": {
     "iopub.execute_input": "2022-09-16T05:57:38.095491Z",
     "iopub.status.busy": "2022-09-16T05:57:38.095045Z",
     "iopub.status.idle": "2022-09-16T05:57:38.101690Z",
     "shell.execute_reply": "2022-09-16T05:57:38.100503Z"
    },
    "papermill": {
     "duration": 0.0303,
     "end_time": "2022-09-16T05:57:38.104226",
     "exception": false,
     "start_time": "2022-09-16T05:57:38.073926",
     "status": "completed"
    },
    "tags": []
   },
   "outputs": [],
   "source": [
    "#change column names\n",
    "final_df.rename(columns={\"home_team\":\"Team1\", \"away_team\": \"Team2\", \"home_team_fifa_rank\": \"Team1_FIFA_RANK\", \n",
    "                         \"away_team_fifa_rank\":\"Team2_FIFA_RANK\", \"home_team_result\":\"Team1_Result\", \"home_team_goalkeeper_score\":\"Team1_Goalkeeper_Score\",\n",
    "                        \"away_team_goalkeeper_score\":\"Team2_Goalkeeper_Score\", \"home_team_mean_defense_score\":\"Team1_Defense\",\n",
    "                        \"home_team_mean_offense_score\":\"Team1_Offense\", \"home_team_mean_midfield_score\":\"Team1_Midfield\",\n",
    "                        \"away_team_mean_defense_score\":\"Team2_Defense\", \"away_team_mean_offense_score\":\"Team2_Offense\",\n",
    "                        \"away_team_mean_midfield_score\":\"Team2_Midfield\"},inplace=True)"
   ]
  },
  {
   "cell_type": "code",
   "execution_count": 94,
   "id": "2f9623d7",
   "metadata": {
    "execution": {
     "iopub.execute_input": "2022-09-16T05:57:38.145760Z",
     "iopub.status.busy": "2022-09-16T05:57:38.145124Z",
     "iopub.status.idle": "2022-09-16T05:57:39.486874Z",
     "shell.execute_reply": "2022-09-16T05:57:39.485944Z"
    },
    "papermill": {
     "duration": 1.36846,
     "end_time": "2022-09-16T05:57:39.492331",
     "exception": false,
     "start_time": "2022-09-16T05:57:38.123871",
     "status": "completed"
    },
    "tags": []
   },
   "outputs": [
    {
     "data": {
      "text/plain": [
       "<AxesSubplot:>"
      ]
     },
     "execution_count": 94,
     "metadata": {},
     "output_type": "execute_result"
    },
    {
     "data": {
      "image/png": "[encoded data removed]",
      "text/plain": [
       "<Figure size 2000x800 with 2 Axes>"
      ]
     },
     "metadata": {
      "needs_background": "light"
     },
     "output_type": "display_data"
    }
   ],
   "source": [
    "plt.figure(figsize=(10,4),dpi=200)\n",
    "sns.heatmap(final_df.corr(),annot=True)"
   ]
  },
  {
   "cell_type": "code",
   "execution_count": 95,
   "id": "6f000420",
   "metadata": {
    "execution": {
     "iopub.execute_input": "2022-09-16T05:57:39.543153Z",
     "iopub.status.busy": "2022-09-16T05:57:39.542339Z",
     "iopub.status.idle": "2022-09-16T05:57:39.557853Z",
     "shell.execute_reply": "2022-09-16T05:57:39.556420Z"
    },
    "papermill": {
     "duration": 0.043977,
     "end_time": "2022-09-16T05:57:39.560357",
     "exception": false,
     "start_time": "2022-09-16T05:57:39.516380",
     "status": "completed"
    },
    "tags": []
   },
   "outputs": [
    {
     "name": "stdout",
     "output_type": "stream",
     "text": [
      "<class 'pandas.core.frame.DataFrame'>\n",
      "Int64Index: 9321 entries, 0 to 23920\n",
      "Data columns (total 13 columns):\n",
      " #   Column                  Non-Null Count  Dtype  \n",
      "---  ------                  --------------  -----  \n",
      " 0   Team1                   9321 non-null   object \n",
      " 1   Team2                   9321 non-null   object \n",
      " 2   Team1_FIFA_RANK         9321 non-null   int64  \n",
      " 3   Team2_FIFA_RANK         9321 non-null   int64  \n",
      " 4   Team1_Result            9321 non-null   int64  \n",
      " 5   Team1_Goalkeeper_Score  9321 non-null   float64\n",
      " 6   Team2_Goalkeeper_Score  9321 non-null   float64\n",
      " 7   Team1_Defense           9321 non-null   float64\n",
      " 8   Team1_Offense           9321 non-null   float64\n",
      " 9   Team1_Midfield          9321 non-null   float64\n",
      " 10  Team2_Defense           9321 non-null   float64\n",
      " 11  Team2_Offense           9321 non-null   float64\n",
      " 12  Team2_Midfield          9321 non-null   float64\n",
      "dtypes: float64(8), int64(3), object(2)\n",
      "memory usage: 1019.5+ KB\n"
     ]
    }
   ],
   "source": [
    "final_df.info()"
   ]
  },
  {
   "cell_type": "code",
   "execution_count": 96,
   "id": "dd101d67",
   "metadata": {
    "execution": {
     "iopub.execute_input": "2022-09-16T05:57:39.610033Z",
     "iopub.status.busy": "2022-09-16T05:57:39.608842Z",
     "iopub.status.idle": "2022-09-16T05:57:39.642543Z",
     "shell.execute_reply": "2022-09-16T05:57:39.641530Z"
    },
    "papermill": {
     "duration": 0.061221,
     "end_time": "2022-09-16T05:57:39.645155",
     "exception": false,
     "start_time": "2022-09-16T05:57:39.583934",
     "status": "completed"
    },
    "tags": []
   },
   "outputs": [],
   "source": [
    "#Holdout another DF for pipeline\n",
    "pipe_DF = final_df\n",
    "#Create dummies for categorical columns\n",
    "final_df = pd.get_dummies(final_df)"
   ]
  },
  {
   "cell_type": "code",
   "execution_count": 97,
   "id": "2efb856a",
   "metadata": {
    "execution": {
     "iopub.execute_input": "2022-09-16T05:57:39.697462Z",
     "iopub.status.busy": "2022-09-16T05:57:39.696724Z",
     "iopub.status.idle": "2022-09-16T05:57:39.937097Z",
     "shell.execute_reply": "2022-09-16T05:57:39.935893Z"
    },
    "papermill": {
     "duration": 0.268624,
     "end_time": "2022-09-16T05:57:39.939956",
     "exception": false,
     "start_time": "2022-09-16T05:57:39.671332",
     "status": "completed"
    },
    "tags": []
   },
   "outputs": [],
   "source": [
    "#split X and y and train test split (For League Matches)\n",
    "X = final_df.drop('Team1_Result',axis=1)\n",
    "y = final_df['Team1_Result']\n",
    "from sklearn.model_selection import train_test_split\n",
    "X_train, X_val, y_train, y_val = train_test_split(X, y, test_size=0.3, random_state=42)\n",
    "#Validtion and test set\n",
    "X_hold_test, X_test, y_hold_test, y_test = train_test_split(X_val, y_val, test_size=0.5, random_state=42)"
   ]
  },
  {
   "cell_type": "code",
   "execution_count": 98,
   "id": "e9969a7d",
   "metadata": {
    "execution": {
     "iopub.execute_input": "2022-09-16T05:57:39.990141Z",
     "iopub.status.busy": "2022-09-16T05:57:39.989121Z",
     "iopub.status.idle": "2022-09-16T05:57:40.076873Z",
     "shell.execute_reply": "2022-09-16T05:57:40.075669Z"
    },
    "papermill": {
     "duration": 0.116211,
     "end_time": "2022-09-16T05:57:40.079927",
     "exception": false,
     "start_time": "2022-09-16T05:57:39.963716",
     "status": "completed"
    },
    "tags": []
   },
   "outputs": [],
   "source": [
    "#Scaling\n",
    "from sklearn.preprocessing import StandardScaler\n",
    "scaler = StandardScaler()\n",
    "X_train = scaler.fit_transform(X_train)\n",
    "X_test = scaler.transform(X_test)\n",
    "X_hold_test = scaler.transform(X_hold_test)"
   ]
  },
  {
   "cell_type": "code",
   "execution_count": 99,
   "id": "da96c30f",
   "metadata": {
    "execution": {
     "iopub.execute_input": "2022-09-16T05:57:40.129410Z",
     "iopub.status.busy": "2022-09-16T05:57:40.128585Z",
     "iopub.status.idle": "2022-09-16T05:57:40.135408Z",
     "shell.execute_reply": "2022-09-16T05:57:40.134222Z"
    },
    "papermill": {
     "duration": 0.034699,
     "end_time": "2022-09-16T05:57:40.138127",
     "exception": false,
     "start_time": "2022-09-16T05:57:40.103428",
     "status": "completed"
    },
    "tags": []
   },
   "outputs": [],
   "source": [
    "from sklearn.metrics import classification_report,ConfusionMatrixDisplay\n",
    "def metrics_display(model):\n",
    "    model.fit(X_train,y_train)\n",
    "    y_pred = model.predict(X_test)\n",
    "    print(classification_report(y_test,y_pred))\n",
    "    ConfusionMatrixDisplay.from_predictions(y_test,y_pred);"
   ]
  },
  {
   "cell_type": "code",
   "execution_count": 100,
   "id": "efa63fd0",
   "metadata": {
    "execution": {
     "iopub.execute_input": "2022-09-16T05:57:40.188076Z",
     "iopub.status.busy": "2022-09-16T05:57:40.187690Z",
     "iopub.status.idle": "2022-09-16T05:57:40.778521Z",
     "shell.execute_reply": "2022-09-16T05:57:40.777320Z"
    },
    "papermill": {
     "duration": 0.619153,
     "end_time": "2022-09-16T05:57:40.781013",
     "exception": false,
     "start_time": "2022-09-16T05:57:40.161860",
     "status": "completed"
    },
    "tags": []
   },
   "outputs": [
    {
     "name": "stdout",
     "output_type": "stream",
     "text": [
      "              precision    recall  f1-score   support\n",
      "\n",
      "           0       0.43      0.44      0.44       389\n",
      "           1       0.62      0.59      0.60       692\n",
      "           2       0.24      0.25      0.25       318\n",
      "\n",
      "    accuracy                           0.47      1399\n",
      "   macro avg       0.43      0.43      0.43      1399\n",
      "weighted avg       0.48      0.47      0.48      1399\n",
      "\n"
     ]
    },
    {
     "data": {
      "image/png": "[encoded data removed]",
      "text/plain": [
       "<Figure size 432x288 with 2 Axes>"
      ]
     },
     "metadata": {
      "needs_background": "light"
     },
     "output_type": "display_data"
    }
   ],
   "source": [
    "#Decision Tree Classifier\n",
    "from sklearn.tree import DecisionTreeClassifier\n",
    "metrics_display(DecisionTreeClassifier())"
   ]
  },
  {
   "cell_type": "code",
   "execution_count": 101,
   "id": "b53a74d9",
   "metadata": {
    "execution": {
     "iopub.execute_input": "2022-09-16T05:57:40.832295Z",
     "iopub.status.busy": "2022-09-16T05:57:40.831897Z",
     "iopub.status.idle": "2022-09-16T05:57:43.611323Z",
     "shell.execute_reply": "2022-09-16T05:57:43.610107Z"
    },
    "papermill": {
     "duration": 2.808091,
     "end_time": "2022-09-16T05:57:43.614030",
     "exception": false,
     "start_time": "2022-09-16T05:57:40.805939",
     "status": "completed"
    },
    "tags": []
   },
   "outputs": [
    {
     "name": "stdout",
     "output_type": "stream",
     "text": [
      "              precision    recall  f1-score   support\n",
      "\n",
      "           0       0.52      0.59      0.56       389\n",
      "           1       0.67      0.79      0.72       692\n",
      "           2       0.31      0.14      0.19       318\n",
      "\n",
      "    accuracy                           0.59      1399\n",
      "   macro avg       0.50      0.51      0.49      1399\n",
      "weighted avg       0.55      0.59      0.56      1399\n",
      "\n"
     ]
    },
    {
     "data": {
      "image/png": "[encoded data removed]",
      "text/plain": [
       "<Figure size 432x288 with 2 Axes>"
      ]
     },
     "metadata": {
      "needs_background": "light"
     },
     "output_type": "display_data"
    }
   ],
   "source": [
    "#Random Forest \n",
    "from sklearn.ensemble import RandomForestClassifier\n",
    "metrics_display(RandomForestClassifier())"
   ]
  },
  {
   "cell_type": "code",
   "execution_count": 102,
   "id": "33317533",
   "metadata": {
    "execution": {
     "iopub.execute_input": "2022-09-16T05:57:43.667794Z",
     "iopub.status.busy": "2022-09-16T05:57:43.667161Z",
     "iopub.status.idle": "2022-09-16T05:57:45.241285Z",
     "shell.execute_reply": "2022-09-16T05:57:45.240432Z"
    },
    "papermill": {
     "duration": 1.604717,
     "end_time": "2022-09-16T05:57:45.243563",
     "exception": false,
     "start_time": "2022-09-16T05:57:43.638846",
     "status": "completed"
    },
    "tags": []
   },
   "outputs": [
    {
     "name": "stdout",
     "output_type": "stream",
     "text": [
      "              precision    recall  f1-score   support\n",
      "\n",
      "           0       0.53      0.57      0.55       389\n",
      "           1       0.63      0.85      0.72       692\n",
      "           2       0.40      0.05      0.09       318\n",
      "\n",
      "    accuracy                           0.59      1399\n",
      "   macro avg       0.52      0.49      0.46      1399\n",
      "weighted avg       0.55      0.59      0.53      1399\n",
      "\n"
     ]
    },
    {
     "data": {
      "image/png": "[encoded data removed]",
      "text/plain": [
       "<Figure size 432x288 with 2 Axes>"
      ]
     },
     "metadata": {
      "needs_background": "light"
     },
     "output_type": "display_data"
    }
   ],
   "source": [
    "#Ada Boost Classifier\n",
    "from sklearn.ensemble import AdaBoostClassifier\n",
    "metrics_display(AdaBoostClassifier())"
   ]
  },
  {
   "cell_type": "code",
   "execution_count": 103,
   "id": "1da178e5",
   "metadata": {
    "execution": {
     "iopub.execute_input": "2022-09-16T05:57:45.304802Z",
     "iopub.status.busy": "2022-09-16T05:57:45.304036Z",
     "iopub.status.idle": "2022-09-16T05:57:58.917727Z",
     "shell.execute_reply": "2022-09-16T05:57:58.916635Z"
    },
    "papermill": {
     "duration": 13.651309,
     "end_time": "2022-09-16T05:57:58.920317",
     "exception": false,
     "start_time": "2022-09-16T05:57:45.269008",
     "status": "completed"
    },
    "tags": []
   },
   "outputs": [
    {
     "name": "stdout",
     "output_type": "stream",
     "text": [
      "              precision    recall  f1-score   support\n",
      "\n",
      "           0       0.53      0.58      0.55       389\n",
      "           1       0.64      0.80      0.71       692\n",
      "           2       0.32      0.11      0.16       318\n",
      "\n",
      "    accuracy                           0.58      1399\n",
      "   macro avg       0.50      0.50      0.48      1399\n",
      "weighted avg       0.54      0.58      0.54      1399\n",
      "\n"
     ]
    },
    {
     "data": {
      "image/png": "[encoded data removed]",
      "text/plain": [
       "<Figure size 432x288 with 2 Axes>"
      ]
     },
     "metadata": {
      "needs_background": "light"
     },
     "output_type": "display_data"
    }
   ],
   "source": [
    "#XGB Boost\n",
    "from xgboost import XGBClassifier\n",
    "metrics_display(XGBClassifier(use_label_encoder=False))"
   ]
  },
  {
   "cell_type": "code",
   "execution_count": 104,
   "id": "e633157f",
   "metadata": {
    "execution": {
     "iopub.execute_input": "2022-09-16T05:57:58.972971Z",
     "iopub.status.busy": "2022-09-16T05:57:58.971958Z",
     "iopub.status.idle": "2022-09-16T05:57:58.980667Z",
     "shell.execute_reply": "2022-09-16T05:57:58.979770Z"
    },
    "papermill": {
     "duration": 0.037944,
     "end_time": "2022-09-16T05:57:58.983429",
     "exception": false,
     "start_time": "2022-09-16T05:57:58.945485",
     "status": "completed"
    },
    "tags": []
   },
   "outputs": [
    {
     "data": {
      "text/plain": [
       "(6524, 404)"
      ]
     },
     "execution_count": 104,
     "metadata": {},
     "output_type": "execute_result"
    }
   ],
   "source": [
    "X_train.shape"
   ]
  },
  {
   "cell_type": "code",
   "execution_count": 105,
   "id": "cbee2511",
   "metadata": {
    "execution": {
     "iopub.execute_input": "2022-09-16T05:57:59.035282Z",
     "iopub.status.busy": "2022-09-16T05:57:59.034900Z",
     "iopub.status.idle": "2022-09-16T05:58:14.890925Z",
     "shell.execute_reply": "2022-09-16T05:58:14.889704Z"
    },
    "papermill": {
     "duration": 15.885386,
     "end_time": "2022-09-16T05:58:14.893827",
     "exception": false,
     "start_time": "2022-09-16T05:57:59.008441",
     "status": "completed"
    },
    "tags": []
   },
   "outputs": [
    {
     "name": "stdout",
     "output_type": "stream",
     "text": [
      "Epoch 1/10\n",
      "164/164 [==============================] - 1s 6ms/step - loss: 1.0171 - accuracy: 0.5258 - val_loss: 0.8979 - val_accuracy: 0.5870\n",
      "Epoch 2/10\n",
      "164/164 [==============================] - 1s 4ms/step - loss: 0.9058 - accuracy: 0.5844 - val_loss: 0.8947 - val_accuracy: 0.5916\n",
      "Epoch 3/10\n",
      "164/164 [==============================] - 1s 3ms/step - loss: 0.8774 - accuracy: 0.6066 - val_loss: 0.9059 - val_accuracy: 0.5847\n",
      "Epoch 4/10\n",
      "164/164 [==============================] - 1s 4ms/step - loss: 0.8487 - accuracy: 0.6082 - val_loss: 0.9030 - val_accuracy: 0.5816\n",
      "Epoch 5/10\n",
      "164/164 [==============================] - 1s 3ms/step - loss: 0.8307 - accuracy: 0.6254 - val_loss: 0.9001 - val_accuracy: 0.5877\n",
      "Epoch 6/10\n",
      "164/164 [==============================] - 1s 4ms/step - loss: 0.8225 - accuracy: 0.6285 - val_loss: 0.8978 - val_accuracy: 0.5893\n",
      "Epoch 7/10\n",
      "164/164 [==============================] - 1s 3ms/step - loss: 0.8074 - accuracy: 0.6342 - val_loss: 0.9112 - val_accuracy: 0.5816\n",
      "Epoch 8/10\n",
      "164/164 [==============================] - 1s 3ms/step - loss: 0.7941 - accuracy: 0.6344 - val_loss: 0.9429 - val_accuracy: 0.5755\n",
      "Epoch 9/10\n",
      "164/164 [==============================] - 1s 3ms/step - loss: 0.7860 - accuracy: 0.6298 - val_loss: 0.9329 - val_accuracy: 0.5670\n",
      "Epoch 10/10\n",
      "164/164 [==============================] - 1s 3ms/step - loss: 0.7662 - accuracy: 0.6417 - val_loss: 0.9552 - val_accuracy: 0.5693\n",
      "44/44 [==============================] - 0s 1ms/step\n",
      "              precision    recall  f1-score   support\n",
      "\n",
      "           0       0.55      0.55      0.55       389\n",
      "           1       0.64      0.84      0.73       692\n",
      "           2       0.33      0.10      0.15       318\n",
      "\n",
      "    accuracy                           0.59      1399\n",
      "   macro avg       0.50      0.50      0.48      1399\n",
      "weighted avg       0.54      0.59      0.55      1399\n",
      "\n"
     ]
    },
    {
     "data": {
      "text/plain": [
       "<sklearn.metrics._plot.confusion_matrix.ConfusionMatrixDisplay at 0x2782675a590>"
      ]
     },
     "execution_count": 105,
     "metadata": {},
     "output_type": "execute_result"
    },
    {
     "data": {
      "image/png": "[encoded data removed]",
      "text/plain": [
       "<Figure size 432x288 with 2 Axes>"
      ]
     },
     "metadata": {
      "needs_background": "light"
     },
     "output_type": "display_data"
    }
   ],
   "source": [
    "#simple Neural network\n",
    "import keras\n",
    "from keras import Sequential\n",
    "from keras.layers import Dense,Dropout\n",
    "from keras import Input\n",
    "\n",
    "model = Sequential()\n",
    "model.add(Input(shape=(404,)))\n",
    "model.add(Dense(300,activation='relu'))\n",
    "model.add(Dropout(0.3))\n",
    "model.add(Dense(200,activation='relu'))\n",
    "model.add(Dropout(0.3))\n",
    "model.add(Dense(100,activation='relu'))\n",
    "model.add(Dropout(0.3))\n",
    "model.add(Dense(3,activation='softmax'))\n",
    "model.compile(loss='sparse_categorical_crossentropy', optimizer='adam', metrics=['accuracy'])\n",
    "model.fit(X_train,y_train,epochs=10,validation_split=0.2)\n",
    "\n",
    "y_pred1 = model.predict(X_test)\n",
    "y_pred1 = np.argmax(y_pred1,axis=1)\n",
    "print(classification_report(y_test,y_pred1))\n",
    "ConfusionMatrixDisplay.from_predictions(y_test,y_pred1)"
   ]
  },
  {
   "cell_type": "code",
   "execution_count": null,
   "id": "1ba9a503",
   "metadata": {},
   "outputs": [],
   "source": []
  },
  {
   "cell_type": "code",
   "execution_count": 106,
   "id": "99f5c25e",
   "metadata": {
    "execution": {
     "iopub.execute_input": "2022-09-16T05:58:14.964679Z",
     "iopub.status.busy": "2022-09-16T05:58:14.963704Z",
     "iopub.status.idle": "2022-09-16T05:58:28.482889Z",
     "shell.execute_reply": "2022-09-16T05:58:28.481554Z"
    },
    "papermill": {
     "duration": 13.557147,
     "end_time": "2022-09-16T05:58:28.485467",
     "exception": false,
     "start_time": "2022-09-16T05:58:14.928320",
     "status": "completed"
    },
    "tags": []
   },
   "outputs": [
    {
     "name": "stdout",
     "output_type": "stream",
     "text": [
      "              precision    recall  f1-score   support\n",
      "\n",
      "           0       0.52      0.59      0.55       394\n",
      "           1       0.63      0.78      0.70       666\n",
      "           2       0.22      0.08      0.12       338\n",
      "\n",
      "    accuracy                           0.56      1398\n",
      "   macro avg       0.46      0.49      0.46      1398\n",
      "weighted avg       0.50      0.56      0.52      1398\n",
      "\n"
     ]
    },
    {
     "data": {
      "image/png": "[encoded data removed]",
      "text/plain": [
       "<Figure size 432x288 with 2 Axes>"
      ]
     },
     "metadata": {
      "needs_background": "light"
     },
     "output_type": "display_data"
    }
   ],
   "source": [
    "#Checking the final score on testing the holdout test in XGB\n",
    "model = XGBClassifier()\n",
    "model.fit(X_train,y_train)\n",
    "y_pred = model.predict(X_hold_test)\n",
    "print(classification_report(y_hold_test,y_pred))\n",
    "ConfusionMatrixDisplay.from_predictions(y_hold_test,y_pred);"
   ]
  },
  {
   "cell_type": "code",
   "execution_count": 107,
   "id": "c7c492cf",
   "metadata": {
    "execution": {
     "iopub.execute_input": "2022-09-16T05:58:28.559762Z",
     "iopub.status.busy": "2022-09-16T05:58:28.559345Z",
     "iopub.status.idle": "2022-09-16T05:58:30.404175Z",
     "shell.execute_reply": "2022-09-16T05:58:30.403047Z"
    },
    "papermill": {
     "duration": 1.884633,
     "end_time": "2022-09-16T05:58:30.406586",
     "exception": false,
     "start_time": "2022-09-16T05:58:28.521953",
     "status": "completed"
    },
    "tags": []
   },
   "outputs": [
    {
     "data": {
      "text/html": [
       "<style>#sk-container-id-3 {color: black;background-color: white;}#sk-container-id-3 pre{padding: 0;}#sk-container-id-3 div.sk-toggleable {background-color: white;}#sk-container-id-3 label.sk-toggleable__label {cursor: pointer;display: block;width: 100%;margin-bottom: 0;padding: 0.3em;box-sizing: border-box;text-align: center;}#sk-container-id-3 label.sk-toggleable__label-arrow:before {content: \"▸\";float: left;margin-right: 0.25em;color: #696969;}#sk-container-id-3 label.sk-toggleable__label-arrow:hover:before {color: black;}#sk-container-id-3 div.sk-estimator:hover label.sk-toggleable__label-arrow:before {color: black;}#sk-container-id-3 div.sk-toggleable__content {max-height: 0;max-width: 0;overflow: hidden;text-align: left;background-color: #f0f8ff;}#sk-container-id-3 div.sk-toggleable__content pre {margin: 0.2em;color: black;border-radius: 0.25em;background-color: #f0f8ff;}#sk-container-id-3 input.sk-toggleable__control:checked~div.sk-toggleable__content {max-height: 200px;max-width: 100%;overflow: auto;}#sk-container-id-3 input.sk-toggleable__control:checked~label.sk-toggleable__label-arrow:before {content: \"▾\";}#sk-container-id-3 div.sk-estimator input.sk-toggleable__control:checked~label.sk-toggleable__label {background-color: #d4ebff;}#sk-container-id-3 div.sk-label input.sk-toggleable__control:checked~label.sk-toggleable__label {background-color: #d4ebff;}#sk-container-id-3 input.sk-hidden--visually {border: 0;clip: rect(1px 1px 1px 1px);clip: rect(1px, 1px, 1px, 1px);height: 1px;margin: -1px;overflow: hidden;padding: 0;position: absolute;width: 1px;}#sk-container-id-3 div.sk-estimator {font-family: monospace;background-color: #f0f8ff;border: 1px dotted black;border-radius: 0.25em;box-sizing: border-box;margin-bottom: 0.5em;}#sk-container-id-3 div.sk-estimator:hover {background-color: #d4ebff;}#sk-container-id-3 div.sk-parallel-item::after {content: \"\";width: 100%;border-bottom: 1px solid gray;flex-grow: 1;}#sk-container-id-3 div.sk-label:hover label.sk-toggleable__label {background-color: #d4ebff;}#sk-container-id-3 div.sk-serial::before {content: \"\";position: absolute;border-left: 1px solid gray;box-sizing: border-box;top: 0;bottom: 0;left: 50%;z-index: 0;}#sk-container-id-3 div.sk-serial {display: flex;flex-direction: column;align-items: center;background-color: white;padding-right: 0.2em;padding-left: 0.2em;position: relative;}#sk-container-id-3 div.sk-item {position: relative;z-index: 1;}#sk-container-id-3 div.sk-parallel {display: flex;align-items: stretch;justify-content: center;background-color: white;position: relative;}#sk-container-id-3 div.sk-item::before, #sk-container-id-3 div.sk-parallel-item::before {content: \"\";position: absolute;border-left: 1px solid gray;box-sizing: border-box;top: 0;bottom: 0;left: 50%;z-index: -1;}#sk-container-id-3 div.sk-parallel-item {display: flex;flex-direction: column;z-index: 1;position: relative;background-color: white;}#sk-container-id-3 div.sk-parallel-item:first-child::after {align-self: flex-end;width: 50%;}#sk-container-id-3 div.sk-parallel-item:last-child::after {align-self: flex-start;width: 50%;}#sk-container-id-3 div.sk-parallel-item:only-child::after {width: 0;}#sk-container-id-3 div.sk-dashed-wrapped {border: 1px dashed gray;margin: 0 0.4em 0.5em 0.4em;box-sizing: border-box;padding-bottom: 0.4em;background-color: white;}#sk-container-id-3 div.sk-label label {font-family: monospace;font-weight: bold;display: inline-block;line-height: 1.2em;}#sk-container-id-3 div.sk-label-container {text-align: center;}#sk-container-id-3 div.sk-container {/* jupyter's `normalize.less` sets `[hidden] { display: none; }` but bootstrap.min.css set `[hidden] { display: none !important; }` so we also need the `!important` here to be able to override the default hidden behavior on the sphinx rendered scikit-learn.org. See: https://github.com/scikit-learn/scikit-learn/issues/21755 */display: inline-block !important;position: relative;}#sk-container-id-3 div.sk-text-repr-fallback {display: none;}</style><div id=\"sk-container-id-3\" class=\"sk-top-container\"><div class=\"sk-text-repr-fallback\"><pre>Pipeline(steps=[(&#x27;columntransformer&#x27;,\n",
       "                 ColumnTransformer(remainder=&#x27;passthrough&#x27;,\n",
       "                                   transformers=[(&#x27;onehotencoder&#x27;,\n",
       "                                                  OneHotEncoder(),\n",
       "                                                  [&#x27;Team1&#x27;, &#x27;Team2&#x27;])])),\n",
       "                (&#x27;standardscaler&#x27;, StandardScaler(with_mean=False)),\n",
       "                (&#x27;xgbclassifier&#x27;,\n",
       "                 XGBClassifier(base_score=0.5, booster=&#x27;gbtree&#x27;, callbacks=None,\n",
       "                               colsample_bylevel=1, colsample_bynode=1,\n",
       "                               colsample_bytree=1, early_stopping_...\n",
       "                               gamma=0, gpu_id=-1, grow_policy=&#x27;depthwise&#x27;,\n",
       "                               importance_type=None, interaction_constraints=&#x27;&#x27;,\n",
       "                               learning_rate=0.300000012, max_bin=256,\n",
       "                               max_cat_to_onehot=4, max_delta_step=0,\n",
       "                               max_depth=6, max_leaves=0, min_child_weight=1,\n",
       "                               missing=nan, monotone_constraints=&#x27;()&#x27;,\n",
       "                               n_estimators=100, n_jobs=0, num_parallel_tree=1,\n",
       "                               objective=&#x27;multi:softprob&#x27;, predictor=&#x27;auto&#x27;,\n",
       "                               random_state=0, reg_alpha=0, ...))])</pre><b>In a Jupyter environment, please rerun this cell to show the HTML representation or trust the notebook. <br />On GitHub, the HTML representation is unable to render, please try loading this page with nbviewer.org.</b></div><div class=\"sk-container\" hidden><div class=\"sk-item sk-dashed-wrapped\"><div class=\"sk-label-container\"><div class=\"sk-label sk-toggleable\"><input class=\"sk-toggleable__control sk-hidden--visually\" id=\"sk-estimator-id-17\" type=\"checkbox\" ><label for=\"sk-estimator-id-17\" class=\"sk-toggleable__label sk-toggleable__label-arrow\">Pipeline</label><div class=\"sk-toggleable__content\"><pre>Pipeline(steps=[(&#x27;columntransformer&#x27;,\n",
       "                 ColumnTransformer(remainder=&#x27;passthrough&#x27;,\n",
       "                                   transformers=[(&#x27;onehotencoder&#x27;,\n",
       "                                                  OneHotEncoder(),\n",
       "                                                  [&#x27;Team1&#x27;, &#x27;Team2&#x27;])])),\n",
       "                (&#x27;standardscaler&#x27;, StandardScaler(with_mean=False)),\n",
       "                (&#x27;xgbclassifier&#x27;,\n",
       "                 XGBClassifier(base_score=0.5, booster=&#x27;gbtree&#x27;, callbacks=None,\n",
       "                               colsample_bylevel=1, colsample_bynode=1,\n",
       "                               colsample_bytree=1, early_stopping_...\n",
       "                               gamma=0, gpu_id=-1, grow_policy=&#x27;depthwise&#x27;,\n",
       "                               importance_type=None, interaction_constraints=&#x27;&#x27;,\n",
       "                               learning_rate=0.300000012, max_bin=256,\n",
       "                               max_cat_to_onehot=4, max_delta_step=0,\n",
       "                               max_depth=6, max_leaves=0, min_child_weight=1,\n",
       "                               missing=nan, monotone_constraints=&#x27;()&#x27;,\n",
       "                               n_estimators=100, n_jobs=0, num_parallel_tree=1,\n",
       "                               objective=&#x27;multi:softprob&#x27;, predictor=&#x27;auto&#x27;,\n",
       "                               random_state=0, reg_alpha=0, ...))])</pre></div></div></div><div class=\"sk-serial\"><div class=\"sk-item sk-dashed-wrapped\"><div class=\"sk-label-container\"><div class=\"sk-label sk-toggleable\"><input class=\"sk-toggleable__control sk-hidden--visually\" id=\"sk-estimator-id-18\" type=\"checkbox\" ><label for=\"sk-estimator-id-18\" class=\"sk-toggleable__label sk-toggleable__label-arrow\">columntransformer: ColumnTransformer</label><div class=\"sk-toggleable__content\"><pre>ColumnTransformer(remainder=&#x27;passthrough&#x27;,\n",
       "                  transformers=[(&#x27;onehotencoder&#x27;, OneHotEncoder(),\n",
       "                                 [&#x27;Team1&#x27;, &#x27;Team2&#x27;])])</pre></div></div></div><div class=\"sk-parallel\"><div class=\"sk-parallel-item\"><div class=\"sk-item\"><div class=\"sk-label-container\"><div class=\"sk-label sk-toggleable\"><input class=\"sk-toggleable__control sk-hidden--visually\" id=\"sk-estimator-id-19\" type=\"checkbox\" ><label for=\"sk-estimator-id-19\" class=\"sk-toggleable__label sk-toggleable__label-arrow\">onehotencoder</label><div class=\"sk-toggleable__content\"><pre>[&#x27;Team1&#x27;, &#x27;Team2&#x27;]</pre></div></div></div><div class=\"sk-serial\"><div class=\"sk-item\"><div class=\"sk-estimator sk-toggleable\"><input class=\"sk-toggleable__control sk-hidden--visually\" id=\"sk-estimator-id-20\" type=\"checkbox\" ><label for=\"sk-estimator-id-20\" class=\"sk-toggleable__label sk-toggleable__label-arrow\">OneHotEncoder</label><div class=\"sk-toggleable__content\"><pre>OneHotEncoder()</pre></div></div></div></div></div></div><div class=\"sk-parallel-item\"><div class=\"sk-item\"><div class=\"sk-label-container\"><div class=\"sk-label sk-toggleable\"><input class=\"sk-toggleable__control sk-hidden--visually\" id=\"sk-estimator-id-21\" type=\"checkbox\" ><label for=\"sk-estimator-id-21\" class=\"sk-toggleable__label sk-toggleable__label-arrow\">remainder</label><div class=\"sk-toggleable__content\"><pre>[&#x27;Team1_FIFA_RANK&#x27;, &#x27;Team2_FIFA_RANK&#x27;, &#x27;Team1_Goalkeeper_Score&#x27;, &#x27;Team2_Goalkeeper_Score&#x27;, &#x27;Team1_Defense&#x27;, &#x27;Team1_Offense&#x27;, &#x27;Team1_Midfield&#x27;, &#x27;Team2_Defense&#x27;, &#x27;Team2_Offense&#x27;, &#x27;Team2_Midfield&#x27;]</pre></div></div></div><div class=\"sk-serial\"><div class=\"sk-item\"><div class=\"sk-estimator sk-toggleable\"><input class=\"sk-toggleable__control sk-hidden--visually\" id=\"sk-estimator-id-22\" type=\"checkbox\" ><label for=\"sk-estimator-id-22\" class=\"sk-toggleable__label sk-toggleable__label-arrow\">passthrough</label><div class=\"sk-toggleable__content\"><pre>passthrough</pre></div></div></div></div></div></div></div></div><div class=\"sk-item\"><div class=\"sk-estimator sk-toggleable\"><input class=\"sk-toggleable__control sk-hidden--visually\" id=\"sk-estimator-id-23\" type=\"checkbox\" ><label for=\"sk-estimator-id-23\" class=\"sk-toggleable__label sk-toggleable__label-arrow\">StandardScaler</label><div class=\"sk-toggleable__content\"><pre>StandardScaler(with_mean=False)</pre></div></div></div><div class=\"sk-item\"><div class=\"sk-estimator sk-toggleable\"><input class=\"sk-toggleable__control sk-hidden--visually\" id=\"sk-estimator-id-24\" type=\"checkbox\" ><label for=\"sk-estimator-id-24\" class=\"sk-toggleable__label sk-toggleable__label-arrow\">XGBClassifier</label><div class=\"sk-toggleable__content\"><pre>XGBClassifier(base_score=0.5, booster=&#x27;gbtree&#x27;, callbacks=None,\n",
       "              colsample_bylevel=1, colsample_bynode=1, colsample_bytree=1,\n",
       "              early_stopping_rounds=None, enable_categorical=False,\n",
       "              eval_metric=None, gamma=0, gpu_id=-1, grow_policy=&#x27;depthwise&#x27;,\n",
       "              importance_type=None, interaction_constraints=&#x27;&#x27;,\n",
       "              learning_rate=0.300000012, max_bin=256, max_cat_to_onehot=4,\n",
       "              max_delta_step=0, max_depth=6, max_leaves=0, min_child_weight=1,\n",
       "              missing=nan, monotone_constraints=&#x27;()&#x27;, n_estimators=100,\n",
       "              n_jobs=0, num_parallel_tree=1, objective=&#x27;multi:softprob&#x27;,\n",
       "              predictor=&#x27;auto&#x27;, random_state=0, reg_alpha=0, ...)</pre></div></div></div></div></div></div></div>"
      ],
      "text/plain": [
       "Pipeline(steps=[('columntransformer',\n",
       "                 ColumnTransformer(remainder='passthrough',\n",
       "                                   transformers=[('onehotencoder',\n",
       "                                                  OneHotEncoder(),\n",
       "                                                  ['Team1', 'Team2'])])),\n",
       "                ('standardscaler', StandardScaler(with_mean=False)),\n",
       "                ('xgbclassifier',\n",
       "                 XGBClassifier(base_score=0.5, booster='gbtree', callbacks=None,\n",
       "                               colsample_bylevel=1, colsample_bynode=1,\n",
       "                               colsample_bytree=1, early_stopping_...\n",
       "                               gamma=0, gpu_id=-1, grow_policy='depthwise',\n",
       "                               importance_type=None, interaction_constraints='',\n",
       "                               learning_rate=0.300000012, max_bin=256,\n",
       "                               max_cat_to_onehot=4, max_delta_step=0,\n",
       "                               max_depth=6, max_leaves=0, min_child_weight=1,\n",
       "                               missing=nan, monotone_constraints='()',\n",
       "                               n_estimators=100, n_jobs=0, num_parallel_tree=1,\n",
       "                               objective='multi:softprob', predictor='auto',\n",
       "                               random_state=0, reg_alpha=0, ...))])"
      ]
     },
     "execution_count": 107,
     "metadata": {},
     "output_type": "execute_result"
    }
   ],
   "source": [
    "#XGB Model is finalised, so creating a pipeline for it\n",
    "from sklearn.preprocessing import OneHotEncoder\n",
    "from sklearn.compose import make_column_transformer\n",
    "column_trans = make_column_transformer(\n",
    "    (OneHotEncoder(),['Team1', 'Team2']),remainder='passthrough')\n",
    "\n",
    "pipe_X = pipe_DF.drop('Team1_Result',axis=1)\n",
    "pipe_y = pipe_DF['Team1_Result']\n",
    "\n",
    "from sklearn.pipeline import make_pipeline\n",
    "pipe_League = make_pipeline(column_trans,StandardScaler(with_mean=False),XGBClassifier(use_label_encoder=False))\n",
    "pipe_League.fit(pipe_X,pipe_y)"
   ]
  },
  {
   "cell_type": "code",
   "execution_count": 108,
   "id": "41208229",
   "metadata": {
    "execution": {
     "iopub.execute_input": "2022-09-16T05:58:30.479375Z",
     "iopub.status.busy": "2022-09-16T05:58:30.478039Z",
     "iopub.status.idle": "2022-09-16T05:58:30.483698Z",
     "shell.execute_reply": "2022-09-16T05:58:30.482676Z"
    },
    "papermill": {
     "duration": 0.044416,
     "end_time": "2022-09-16T05:58:30.485889",
     "exception": false,
     "start_time": "2022-09-16T05:58:30.441473",
     "status": "completed"
    },
    "tags": []
   },
   "outputs": [],
   "source": [
    "#Dumping the pipeline model\n",
    "import joblib\n",
    "#joblib.dump(pipe_League,\"League_Predictions.pkl\")"
   ]
  },
  {
   "cell_type": "markdown",
   "id": "98a6bc7c",
   "metadata": {
    "papermill": {
     "duration": 0.03447,
     "end_time": "2022-09-16T05:58:30.555092",
     "exception": false,
     "start_time": "2022-09-16T05:58:30.520622",
     "status": "completed"
    },
    "tags": []
   },
   "source": [
    "# Predictions for Knockout Stage - Removing Draw status"
   ]
  },
  {
   "cell_type": "code",
   "execution_count": 109,
   "id": "677f1c42",
   "metadata": {
    "execution": {
     "iopub.execute_input": "2022-09-16T05:58:30.627594Z",
     "iopub.status.busy": "2022-09-16T05:58:30.626611Z",
     "iopub.status.idle": "2022-09-16T05:58:30.633361Z",
     "shell.execute_reply": "2022-09-16T05:58:30.632304Z"
    },
    "papermill": {
     "duration": 0.045733,
     "end_time": "2022-09-16T05:58:30.635918",
     "exception": false,
     "start_time": "2022-09-16T05:58:30.590185",
     "status": "completed"
    },
    "tags": []
   },
   "outputs": [],
   "source": [
    "knock_df = pipe_DF[pipe_DF['Team1_Result'] != 2]"
   ]
  },
  {
   "cell_type": "code",
   "execution_count": 110,
   "id": "78ccb493",
   "metadata": {
    "execution": {
     "iopub.execute_input": "2022-09-16T05:58:30.709014Z",
     "iopub.status.busy": "2022-09-16T05:58:30.708001Z",
     "iopub.status.idle": "2022-09-16T05:58:30.765758Z",
     "shell.execute_reply": "2022-09-16T05:58:30.764908Z"
    },
    "papermill": {
     "duration": 0.096525,
     "end_time": "2022-09-16T05:58:30.768135",
     "exception": false,
     "start_time": "2022-09-16T05:58:30.671610",
     "status": "completed"
    },
    "tags": []
   },
   "outputs": [],
   "source": [
    "pipe_knock_df = knock_df\n",
    "knock_df = pd.get_dummies(knock_df)\n",
    "X = knock_df.drop('Team1_Result',axis=1)\n",
    "y = knock_df['Team1_Result']\n",
    "\n",
    "X_train, X_val, y_train, y_val = train_test_split(X, y, test_size=0.3, random_state=42)\n",
    "X_hold_test, X_test, y_hold_test, y_test = train_test_split(X_val, y_val, test_size=0.5, random_state=42)"
   ]
  },
  {
   "cell_type": "code",
   "execution_count": 111,
   "id": "c96016a2",
   "metadata": {
    "execution": {
     "iopub.execute_input": "2022-09-16T05:58:30.839733Z",
     "iopub.status.busy": "2022-09-16T05:58:30.839074Z",
     "iopub.status.idle": "2022-09-16T05:58:32.601807Z",
     "shell.execute_reply": "2022-09-16T05:58:32.600473Z"
    },
    "papermill": {
     "duration": 1.802052,
     "end_time": "2022-09-16T05:58:32.604899",
     "exception": false,
     "start_time": "2022-09-16T05:58:30.802847",
     "status": "completed"
    },
    "tags": []
   },
   "outputs": [
    {
     "name": "stdout",
     "output_type": "stream",
     "text": [
      "              precision    recall  f1-score   support\n",
      "\n",
      "           0       0.71      0.63      0.67       388\n",
      "           1       0.81      0.85      0.83       695\n",
      "\n",
      "    accuracy                           0.77      1083\n",
      "   macro avg       0.76      0.74      0.75      1083\n",
      "weighted avg       0.77      0.77      0.77      1083\n",
      "\n"
     ]
    },
    {
     "data": {
      "image/png": "[encoded data removed]",
      "text/plain": [
       "<Figure size 432x288 with 2 Axes>"
      ]
     },
     "metadata": {
      "needs_background": "light"
     },
     "output_type": "display_data"
    }
   ],
   "source": [
    "metrics_display(RandomForestClassifier())"
   ]
  },
  {
   "cell_type": "code",
   "execution_count": 112,
   "id": "3062a744",
   "metadata": {
    "execution": {
     "iopub.execute_input": "2022-09-16T05:58:32.677114Z",
     "iopub.status.busy": "2022-09-16T05:58:32.676714Z",
     "iopub.status.idle": "2022-09-16T05:58:34.448319Z",
     "shell.execute_reply": "2022-09-16T05:58:34.447151Z"
    },
    "papermill": {
     "duration": 1.811019,
     "end_time": "2022-09-16T05:58:34.450810",
     "exception": false,
     "start_time": "2022-09-16T05:58:32.639791",
     "status": "completed"
    },
    "tags": []
   },
   "outputs": [
    {
     "name": "stdout",
     "output_type": "stream",
     "text": [
      "              precision    recall  f1-score   support\n",
      "\n",
      "           0       0.69      0.65      0.67       405\n",
      "           1       0.80      0.82      0.81       677\n",
      "\n",
      "    accuracy                           0.76      1082\n",
      "   macro avg       0.74      0.73      0.74      1082\n",
      "weighted avg       0.75      0.76      0.76      1082\n",
      "\n"
     ]
    },
    {
     "data": {
      "image/png": "[encoded data removed]",
      "text/plain": [
       "<Figure size 432x288 with 2 Axes>"
      ]
     },
     "metadata": {
      "needs_background": "light"
     },
     "output_type": "display_data"
    }
   ],
   "source": [
    "#Random Forest is giving good accuracy, so testing with holdout test and finalising the model\n",
    "model = RandomForestClassifier()\n",
    "model.fit(X_train,y_train)\n",
    "y_pred = model.predict(X_hold_test)\n",
    "print(classification_report(y_hold_test,y_pred))\n",
    "ConfusionMatrixDisplay.from_predictions(y_hold_test,y_pred);"
   ]
  },
  {
   "cell_type": "code",
   "execution_count": 113,
   "id": "2db74c3b",
   "metadata": {
    "execution": {
     "iopub.execute_input": "2022-09-16T05:58:34.524497Z",
     "iopub.status.busy": "2022-09-16T05:58:34.524075Z",
     "iopub.status.idle": "2022-09-16T05:58:38.416600Z",
     "shell.execute_reply": "2022-09-16T05:58:38.415306Z"
    },
    "papermill": {
     "duration": 3.93293,
     "end_time": "2022-09-16T05:58:38.419192",
     "exception": false,
     "start_time": "2022-09-16T05:58:34.486262",
     "status": "completed"
    },
    "tags": []
   },
   "outputs": [
    {
     "data": {
      "text/html": [
       "<style>#sk-container-id-4 {color: black;background-color: white;}#sk-container-id-4 pre{padding: 0;}#sk-container-id-4 div.sk-toggleable {background-color: white;}#sk-container-id-4 label.sk-toggleable__label {cursor: pointer;display: block;width: 100%;margin-bottom: 0;padding: 0.3em;box-sizing: border-box;text-align: center;}#sk-container-id-4 label.sk-toggleable__label-arrow:before {content: \"▸\";float: left;margin-right: 0.25em;color: #696969;}#sk-container-id-4 label.sk-toggleable__label-arrow:hover:before {color: black;}#sk-container-id-4 div.sk-estimator:hover label.sk-toggleable__label-arrow:before {color: black;}#sk-container-id-4 div.sk-toggleable__content {max-height: 0;max-width: 0;overflow: hidden;text-align: left;background-color: #f0f8ff;}#sk-container-id-4 div.sk-toggleable__content pre {margin: 0.2em;color: black;border-radius: 0.25em;background-color: #f0f8ff;}#sk-container-id-4 input.sk-toggleable__control:checked~div.sk-toggleable__content {max-height: 200px;max-width: 100%;overflow: auto;}#sk-container-id-4 input.sk-toggleable__control:checked~label.sk-toggleable__label-arrow:before {content: \"▾\";}#sk-container-id-4 div.sk-estimator input.sk-toggleable__control:checked~label.sk-toggleable__label {background-color: #d4ebff;}#sk-container-id-4 div.sk-label input.sk-toggleable__control:checked~label.sk-toggleable__label {background-color: #d4ebff;}#sk-container-id-4 input.sk-hidden--visually {border: 0;clip: rect(1px 1px 1px 1px);clip: rect(1px, 1px, 1px, 1px);height: 1px;margin: -1px;overflow: hidden;padding: 0;position: absolute;width: 1px;}#sk-container-id-4 div.sk-estimator {font-family: monospace;background-color: #f0f8ff;border: 1px dotted black;border-radius: 0.25em;box-sizing: border-box;margin-bottom: 0.5em;}#sk-container-id-4 div.sk-estimator:hover {background-color: #d4ebff;}#sk-container-id-4 div.sk-parallel-item::after {content: \"\";width: 100%;border-bottom: 1px solid gray;flex-grow: 1;}#sk-container-id-4 div.sk-label:hover label.sk-toggleable__label {background-color: #d4ebff;}#sk-container-id-4 div.sk-serial::before {content: \"\";position: absolute;border-left: 1px solid gray;box-sizing: border-box;top: 0;bottom: 0;left: 50%;z-index: 0;}#sk-container-id-4 div.sk-serial {display: flex;flex-direction: column;align-items: center;background-color: white;padding-right: 0.2em;padding-left: 0.2em;position: relative;}#sk-container-id-4 div.sk-item {position: relative;z-index: 1;}#sk-container-id-4 div.sk-parallel {display: flex;align-items: stretch;justify-content: center;background-color: white;position: relative;}#sk-container-id-4 div.sk-item::before, #sk-container-id-4 div.sk-parallel-item::before {content: \"\";position: absolute;border-left: 1px solid gray;box-sizing: border-box;top: 0;bottom: 0;left: 50%;z-index: -1;}#sk-container-id-4 div.sk-parallel-item {display: flex;flex-direction: column;z-index: 1;position: relative;background-color: white;}#sk-container-id-4 div.sk-parallel-item:first-child::after {align-self: flex-end;width: 50%;}#sk-container-id-4 div.sk-parallel-item:last-child::after {align-self: flex-start;width: 50%;}#sk-container-id-4 div.sk-parallel-item:only-child::after {width: 0;}#sk-container-id-4 div.sk-dashed-wrapped {border: 1px dashed gray;margin: 0 0.4em 0.5em 0.4em;box-sizing: border-box;padding-bottom: 0.4em;background-color: white;}#sk-container-id-4 div.sk-label label {font-family: monospace;font-weight: bold;display: inline-block;line-height: 1.2em;}#sk-container-id-4 div.sk-label-container {text-align: center;}#sk-container-id-4 div.sk-container {/* jupyter's `normalize.less` sets `[hidden] { display: none; }` but bootstrap.min.css set `[hidden] { display: none !important; }` so we also need the `!important` here to be able to override the default hidden behavior on the sphinx rendered scikit-learn.org. See: https://github.com/scikit-learn/scikit-learn/issues/21755 */display: inline-block !important;position: relative;}#sk-container-id-4 div.sk-text-repr-fallback {display: none;}</style><div id=\"sk-container-id-4\" class=\"sk-top-container\"><div class=\"sk-text-repr-fallback\"><pre>Pipeline(steps=[(&#x27;columntransformer&#x27;,\n",
       "                 ColumnTransformer(remainder=&#x27;passthrough&#x27;,\n",
       "                                   transformers=[(&#x27;onehotencoder&#x27;,\n",
       "                                                  OneHotEncoder(),\n",
       "                                                  [&#x27;Team1&#x27;, &#x27;Team2&#x27;])])),\n",
       "                (&#x27;standardscaler&#x27;, StandardScaler(with_mean=False)),\n",
       "                (&#x27;randomforestclassifier&#x27;, RandomForestClassifier())])</pre><b>In a Jupyter environment, please rerun this cell to show the HTML representation or trust the notebook. <br />On GitHub, the HTML representation is unable to render, please try loading this page with nbviewer.org.</b></div><div class=\"sk-container\" hidden><div class=\"sk-item sk-dashed-wrapped\"><div class=\"sk-label-container\"><div class=\"sk-label sk-toggleable\"><input class=\"sk-toggleable__control sk-hidden--visually\" id=\"sk-estimator-id-25\" type=\"checkbox\" ><label for=\"sk-estimator-id-25\" class=\"sk-toggleable__label sk-toggleable__label-arrow\">Pipeline</label><div class=\"sk-toggleable__content\"><pre>Pipeline(steps=[(&#x27;columntransformer&#x27;,\n",
       "                 ColumnTransformer(remainder=&#x27;passthrough&#x27;,\n",
       "                                   transformers=[(&#x27;onehotencoder&#x27;,\n",
       "                                                  OneHotEncoder(),\n",
       "                                                  [&#x27;Team1&#x27;, &#x27;Team2&#x27;])])),\n",
       "                (&#x27;standardscaler&#x27;, StandardScaler(with_mean=False)),\n",
       "                (&#x27;randomforestclassifier&#x27;, RandomForestClassifier())])</pre></div></div></div><div class=\"sk-serial\"><div class=\"sk-item sk-dashed-wrapped\"><div class=\"sk-label-container\"><div class=\"sk-label sk-toggleable\"><input class=\"sk-toggleable__control sk-hidden--visually\" id=\"sk-estimator-id-26\" type=\"checkbox\" ><label for=\"sk-estimator-id-26\" class=\"sk-toggleable__label sk-toggleable__label-arrow\">columntransformer: ColumnTransformer</label><div class=\"sk-toggleable__content\"><pre>ColumnTransformer(remainder=&#x27;passthrough&#x27;,\n",
       "                  transformers=[(&#x27;onehotencoder&#x27;, OneHotEncoder(),\n",
       "                                 [&#x27;Team1&#x27;, &#x27;Team2&#x27;])])</pre></div></div></div><div class=\"sk-parallel\"><div class=\"sk-parallel-item\"><div class=\"sk-item\"><div class=\"sk-label-container\"><div class=\"sk-label sk-toggleable\"><input class=\"sk-toggleable__control sk-hidden--visually\" id=\"sk-estimator-id-27\" type=\"checkbox\" ><label for=\"sk-estimator-id-27\" class=\"sk-toggleable__label sk-toggleable__label-arrow\">onehotencoder</label><div class=\"sk-toggleable__content\"><pre>[&#x27;Team1&#x27;, &#x27;Team2&#x27;]</pre></div></div></div><div class=\"sk-serial\"><div class=\"sk-item\"><div class=\"sk-estimator sk-toggleable\"><input class=\"sk-toggleable__control sk-hidden--visually\" id=\"sk-estimator-id-28\" type=\"checkbox\" ><label for=\"sk-estimator-id-28\" class=\"sk-toggleable__label sk-toggleable__label-arrow\">OneHotEncoder</label><div class=\"sk-toggleable__content\"><pre>OneHotEncoder()</pre></div></div></div></div></div></div><div class=\"sk-parallel-item\"><div class=\"sk-item\"><div class=\"sk-label-container\"><div class=\"sk-label sk-toggleable\"><input class=\"sk-toggleable__control sk-hidden--visually\" id=\"sk-estimator-id-29\" type=\"checkbox\" ><label for=\"sk-estimator-id-29\" class=\"sk-toggleable__label sk-toggleable__label-arrow\">remainder</label><div class=\"sk-toggleable__content\"><pre>[&#x27;Team1_FIFA_RANK&#x27;, &#x27;Team2_FIFA_RANK&#x27;, &#x27;Team1_Goalkeeper_Score&#x27;, &#x27;Team2_Goalkeeper_Score&#x27;, &#x27;Team1_Defense&#x27;, &#x27;Team1_Offense&#x27;, &#x27;Team1_Midfield&#x27;, &#x27;Team2_Defense&#x27;, &#x27;Team2_Offense&#x27;, &#x27;Team2_Midfield&#x27;]</pre></div></div></div><div class=\"sk-serial\"><div class=\"sk-item\"><div class=\"sk-estimator sk-toggleable\"><input class=\"sk-toggleable__control sk-hidden--visually\" id=\"sk-estimator-id-30\" type=\"checkbox\" ><label for=\"sk-estimator-id-30\" class=\"sk-toggleable__label sk-toggleable__label-arrow\">passthrough</label><div class=\"sk-toggleable__content\"><pre>passthrough</pre></div></div></div></div></div></div></div></div><div class=\"sk-item\"><div class=\"sk-estimator sk-toggleable\"><input class=\"sk-toggleable__control sk-hidden--visually\" id=\"sk-estimator-id-31\" type=\"checkbox\" ><label for=\"sk-estimator-id-31\" class=\"sk-toggleable__label sk-toggleable__label-arrow\">StandardScaler</label><div class=\"sk-toggleable__content\"><pre>StandardScaler(with_mean=False)</pre></div></div></div><div class=\"sk-item\"><div class=\"sk-estimator sk-toggleable\"><input class=\"sk-toggleable__control sk-hidden--visually\" id=\"sk-estimator-id-32\" type=\"checkbox\" ><label for=\"sk-estimator-id-32\" class=\"sk-toggleable__label sk-toggleable__label-arrow\">RandomForestClassifier</label><div class=\"sk-toggleable__content\"><pre>RandomForestClassifier()</pre></div></div></div></div></div></div></div>"
      ],
      "text/plain": [
       "Pipeline(steps=[('columntransformer',\n",
       "                 ColumnTransformer(remainder='passthrough',\n",
       "                                   transformers=[('onehotencoder',\n",
       "                                                  OneHotEncoder(),\n",
       "                                                  ['Team1', 'Team2'])])),\n",
       "                ('standardscaler', StandardScaler(with_mean=False)),\n",
       "                ('randomforestclassifier', RandomForestClassifier())])"
      ]
     },
     "execution_count": 113,
     "metadata": {},
     "output_type": "execute_result"
    }
   ],
   "source": [
    "pipe_X = pipe_knock_df.drop('Team1_Result',axis=1)\n",
    "pipe_y = pipe_knock_df['Team1_Result']\n",
    "pipe_knock = make_pipeline(column_trans,StandardScaler(with_mean=False),RandomForestClassifier())\n",
    "pipe_knock.fit(pipe_X,pipe_y)"
   ]
  },
  {
   "cell_type": "code",
   "execution_count": null,
   "id": "897d58e4",
   "metadata": {
    "execution": {
     "iopub.execute_input": "2022-09-16T05:58:38.492165Z",
     "iopub.status.busy": "2022-09-16T05:58:38.491381Z",
     "iopub.status.idle": "2022-09-16T05:58:38.496485Z",
     "shell.execute_reply": "2022-09-16T05:58:38.495608Z"
    },
    "papermill": {
     "duration": 0.044312,
     "end_time": "2022-09-16T05:58:38.498860",
     "exception": false,
     "start_time": "2022-09-16T05:58:38.454548",
     "status": "completed"
    },
    "tags": []
   },
   "outputs": [],
   "source": [
    "#joblib.dump(pipe_knock,\"KnockOut_Predictions.pkl\")"
   ]
  },
  {
   "cell_type": "markdown",
   "id": "71555618",
   "metadata": {
    "papermill": {
     "duration": 0.035028,
     "end_time": "2022-09-16T05:58:38.569158",
     "exception": false,
     "start_time": "2022-09-16T05:58:38.534130",
     "status": "completed"
    },
    "tags": []
   },
   "source": []
  },
  {
   "cell_type": "code",
   "execution_count": null,
   "id": "374df93c",
   "metadata": {
    "papermill": {
     "duration": 0.034766,
     "end_time": "2022-09-16T05:58:38.639398",
     "exception": false,
     "start_time": "2022-09-16T05:58:38.604632",
     "status": "completed"
    },
    "tags": []
   },
   "outputs": [],
   "source": []
  }
 ],
 "metadata": {
  "kernelspec": {
   "display_name": "Python 3 (ipykernel)",
   "language": "python",
   "name": "python3"
  },
  "language_info": {
   "codemirror_mode": {
    "name": "ipython",
    "version": 3
   },
   "file_extension": ".py",
   "mimetype": "text/x-python",
   "name": "python",
   "nbconvert_exporter": "python",
   "pygments_lexer": "ipython3",
   "version": "3.9.7"
  },
  "papermill": {
   "default_parameters": {},
   "duration": 79.273813,
   "end_time": "2022-09-16T05:58:41.356712",
   "environment_variables": {},
   "exception": null,
   "input_path": "__notebook__.ipynb",
   "output_path": "__notebook__.ipynb",
   "parameters": {},
   "start_time": "2022-09-16T05:57:22.082899",
   "version": "2.3.4"
  },
  "vscode": {
   "interpreter": {
    "hash": "67d0030220b6f5c4100a62dcf6422ed188e9f3402ca1449c604e050fe3c4b8d9"
   }
  }
 },
 "nbformat": 4,
 "nbformat_minor": 5
}
