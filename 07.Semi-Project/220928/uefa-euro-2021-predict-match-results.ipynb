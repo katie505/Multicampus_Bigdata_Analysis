{
 "cells": [
  {
   "cell_type": "markdown",
   "id": "fundamental-soccer",
   "metadata": {
    "papermill": {
     "duration": 0.027632,
     "end_time": "2021-06-10T20:20:25.275009",
     "exception": false,
     "start_time": "2021-06-10T20:20:25.247377",
     "status": "completed"
    },
    "tags": []
   },
   "source": [
    "# Intro\n",
    "In this notebook we will create a model to predict match results for the UEFA Euro 2021 championship. The data set consists of historic results from past matches and the FIFA rankings."
   ]
  },
  {
   "cell_type": "markdown",
   "id": "legitimate-master",
   "metadata": {
    "papermill": {
     "duration": 0.025784,
     "end_time": "2021-06-10T20:20:25.327390",
     "exception": false,
     "start_time": "2021-06-10T20:20:25.301606",
     "status": "completed"
    },
    "tags": []
   },
   "source": [
    "# Data collection\n",
    "Historic results are already available as a dataset. FIFA rankings will be scraped off the web using code from [this GitHub project](https://github.com/cnc8/fifa-world-ranking).   \n",
    "\n",
    "Let's start by importing some libraries."
   ]
  },
  {
   "cell_type": "code",
   "execution_count": 1,
   "id": "hollow-modern",
   "metadata": {
    "_kg_hide-input": true,
    "execution": {
     "iopub.execute_input": "2021-06-10T20:20:34.839865Z",
     "iopub.status.busy": "2021-06-10T20:20:34.839101Z",
     "iopub.status.idle": "2021-06-10T20:20:35.086251Z",
     "shell.execute_reply": "2021-06-10T20:20:35.085648Z",
     "shell.execute_reply.started": "2021-06-10T19:30:19.695107Z"
    },
    "papermill": {
     "duration": 0.284004,
     "end_time": "2021-06-10T20:20:35.086427",
     "exception": false,
     "start_time": "2021-06-10T20:20:34.802423",
     "status": "completed"
    },
    "tags": []
   },
   "outputs": [],
   "source": [
    "import datetime\n",
    "import asyncio\n",
    "import aiohttp\n",
    "import requests as r\n",
    "import pandas as pd\n",
    "import numpy as np\n",
    "from bs4 import BeautifulSoup, SoupStrainer\n",
    "\n",
    "# for run asyncio in jupyter / https://github.com/jupyter/notebook/issues/3397\n",
    "import nest_asyncio\n",
    "nest_asyncio.apply()"
   ]
  },
  {
   "cell_type": "code",
   "execution_count": 2,
   "id": "owned-january",
   "metadata": {
    "_kg_hide-input": true,
    "execution": {
     "iopub.execute_input": "2021-06-10T20:20:35.177843Z",
     "iopub.status.busy": "2021-06-10T20:20:35.176982Z",
     "iopub.status.idle": "2021-06-10T20:20:36.137150Z",
     "shell.execute_reply": "2021-06-10T20:20:36.136391Z",
     "shell.execute_reply.started": "2021-06-10T19:32:47.505025Z"
    },
    "papermill": {
     "duration": 1.021556,
     "end_time": "2021-06-10T20:20:36.137318",
     "exception": false,
     "start_time": "2021-06-10T20:20:35.115762",
     "status": "completed"
    },
    "tags": []
   },
   "outputs": [
    {
     "ename": "HTTPError",
     "evalue": "401 Client Error: Unauthorized for url: https://www.fifa.com/fifa-world-ranking/men",
     "output_type": "error",
     "traceback": [
      "\u001b[1;31m---------------------------------------------------------------------------\u001b[0m",
      "\u001b[1;31mHTTPError\u001b[0m                                 Traceback (most recent call last)",
      "Cell \u001b[1;32mIn [2], line 26\u001b[0m\n\u001b[0;32m     21\u001b[0m     \u001b[38;5;28;01massert\u001b[39;00m dataset\u001b[38;5;241m.\u001b[39mdate\u001b[38;5;241m.\u001b[39mmin() \u001b[38;5;241m==\u001b[39m dataset\u001b[38;5;241m.\u001b[39miloc[\u001b[38;5;241m0\u001b[39m]\u001b[38;5;241m.\u001b[39mdate, \\\n\u001b[0;32m     22\u001b[0m             \u001b[38;5;124m\"\u001b[39m\u001b[38;5;124mIncorrect dataset sorting\u001b[39m\u001b[38;5;124m\"\u001b[39m\n\u001b[0;32m     24\u001b[0m     \u001b[38;5;28;01mreturn\u001b[39;00m dataset\n\u001b[1;32m---> 26\u001b[0m dates_from_page \u001b[38;5;241m=\u001b[39m \u001b[43mget_dates_html\u001b[49m\u001b[43m(\u001b[49m\u001b[43m)\u001b[49m\n\u001b[0;32m     27\u001b[0m dates_dataset \u001b[38;5;241m=\u001b[39m create_dates_dataset(dates_from_page)\n\u001b[0;32m     29\u001b[0m \u001b[38;5;28;01massert\u001b[39;00m \u001b[38;5;28mlen\u001b[39m(dates_from_page) \u001b[38;5;241m==\u001b[39m dates_dataset\u001b[38;5;241m.\u001b[39mshape[\u001b[38;5;241m0\u001b[39m], \\\n\u001b[0;32m     30\u001b[0m         \u001b[38;5;124m\"\u001b[39m\u001b[38;5;124mNumber of dates in html and dataset don\u001b[39m\u001b[38;5;124m'\u001b[39m\u001b[38;5;124mt match\u001b[39m\u001b[38;5;124m\"\u001b[39m\n",
      "Cell \u001b[1;32mIn [2], line 6\u001b[0m, in \u001b[0;36mget_dates_html\u001b[1;34m()\u001b[0m\n\u001b[0;32m      4\u001b[0m \u001b[38;5;28;01mdef\u001b[39;00m \u001b[38;5;21mget_dates_html\u001b[39m():\n\u001b[0;32m      5\u001b[0m     page_source \u001b[38;5;241m=\u001b[39m r\u001b[38;5;241m.\u001b[39mget(\u001b[38;5;124mf\u001b[39m\u001b[38;5;124m'\u001b[39m\u001b[38;5;132;01m{\u001b[39;00mfifa_url\u001b[38;5;132;01m}\u001b[39;00m\u001b[38;5;124m/\u001b[39m\u001b[38;5;132;01m{\u001b[39;00mdate_id\u001b[38;5;132;01m}\u001b[39;00m\u001b[38;5;124m/\u001b[39m\u001b[38;5;124m'\u001b[39m)\n\u001b[1;32m----> 6\u001b[0m     \u001b[43mpage_source\u001b[49m\u001b[38;5;241;43m.\u001b[39;49m\u001b[43mraise_for_status\u001b[49m\u001b[43m(\u001b[49m\u001b[43m)\u001b[49m\n\u001b[0;32m      7\u001b[0m     dates \u001b[38;5;241m=\u001b[39m BeautifulSoup(page_source\u001b[38;5;241m.\u001b[39mtext, \n\u001b[0;32m      8\u001b[0m                           \u001b[38;5;124m'\u001b[39m\u001b[38;5;124mhtml.parser\u001b[39m\u001b[38;5;124m'\u001b[39m, \n\u001b[0;32m      9\u001b[0m                           parse_only\u001b[38;5;241m=\u001b[39mSoupStrainer(\u001b[38;5;124m'\u001b[39m\u001b[38;5;124mli\u001b[39m\u001b[38;5;124m'\u001b[39m, attrs\u001b[38;5;241m=\u001b[39m{\u001b[38;5;124m'\u001b[39m\u001b[38;5;124mclass\u001b[39m\u001b[38;5;124m'\u001b[39m: \u001b[38;5;124m'\u001b[39m\u001b[38;5;124mfi-ranking-schedule__nav__item\u001b[39m\u001b[38;5;124m'\u001b[39m}))\n\u001b[0;32m     10\u001b[0m     \u001b[38;5;28;01mreturn\u001b[39;00m dates\n",
      "File \u001b[1;32m~\\AppData\\Local\\Packages\\PythonSoftwareFoundation.Python.3.10_qbz5n2kfra8p0\\LocalCache\\local-packages\\Python310\\site-packages\\requests\\models.py:1021\u001b[0m, in \u001b[0;36mResponse.raise_for_status\u001b[1;34m(self)\u001b[0m\n\u001b[0;32m   1016\u001b[0m     http_error_msg \u001b[39m=\u001b[39m (\n\u001b[0;32m   1017\u001b[0m         \u001b[39mf\u001b[39m\u001b[39m\"\u001b[39m\u001b[39m{\u001b[39;00m\u001b[39mself\u001b[39m\u001b[39m.\u001b[39mstatus_code\u001b[39m}\u001b[39;00m\u001b[39m Server Error: \u001b[39m\u001b[39m{\u001b[39;00mreason\u001b[39m}\u001b[39;00m\u001b[39m for url: \u001b[39m\u001b[39m{\u001b[39;00m\u001b[39mself\u001b[39m\u001b[39m.\u001b[39murl\u001b[39m}\u001b[39;00m\u001b[39m\"\u001b[39m\n\u001b[0;32m   1018\u001b[0m     )\n\u001b[0;32m   1020\u001b[0m \u001b[39mif\u001b[39;00m http_error_msg:\n\u001b[1;32m-> 1021\u001b[0m     \u001b[39mraise\u001b[39;00m HTTPError(http_error_msg, response\u001b[39m=\u001b[39m\u001b[39mself\u001b[39m)\n",
      "\u001b[1;31mHTTPError\u001b[0m: 401 Client Error: Unauthorized for url: https://www.fifa.com/fifa-world-ranking/men"
     ]
    }
   ],
   "source": [
    "date_id = 'id1'  \n",
    "fifa_url = 'https://www.fifa.com/fifa-world-ranking/ranking-table/men/rank'\n",
    "\n",
    "def get_dates_html():\n",
    "    page_source = r.get(f'{fifa_url}/{date_id}/')\n",
    "    page_source.raise_for_status()\n",
    "    dates = BeautifulSoup(page_source.text, \n",
    "                          'html.parser', \n",
    "                          parse_only=SoupStrainer('li', attrs={'class': 'fi-ranking-schedule__nav__item'}))\n",
    "    return dates\n",
    "\n",
    "\n",
    "def create_dates_dataset(html_dates):\n",
    "    date_ids = [li['data-value'] for li in html_dates]\n",
    "    dates = [li.text.strip() for li in html_dates]\n",
    "    dataset = pd.DataFrame(data={'date': dates, 'date_id': date_ids})\n",
    "    \n",
    "    # convert 'date' from str to datetime and sorting \"old -> new\"\n",
    "    dataset['date'] = pd.to_datetime(dataset['date'], format='%d %B %Y')\n",
    "    dataset.sort_values('date', ignore_index=True, inplace=True)\n",
    "    assert dataset.date.min() == dataset.iloc[0].date, \\\n",
    "            \"Incorrect dataset sorting\"\n",
    "    \n",
    "    return dataset\n",
    "\n",
    "dates_from_page = get_dates_html()\n",
    "dates_dataset = create_dates_dataset(dates_from_page)\n",
    "\n",
    "assert len(dates_from_page) == dates_dataset.shape[0], \\\n",
    "        \"Number of dates in html and dataset don't match\"\n",
    "\n",
    "async def get_rank_page(date_id, session):\n",
    "    async with session.get(f'{fifa_url}/{date_id}/') as response:\n",
    "        page = await response.text()\n",
    "        if response.status == 200:\n",
    "            return {'page': page, 'id': date_id}\n",
    "        else:\n",
    "            print(f'Parse error, page: {response.url}')\n",
    "            return False\n",
    "        \n",
    "        \n",
    "def scrapy_rank_table(page, date):\n",
    "    rows = BeautifulSoup(page, \n",
    "                          'html.parser', \n",
    "                          parse_only=SoupStrainer('tbody')).find_all('tr')\n",
    "    table = []\n",
    "    for row in rows:\n",
    "        table.append({\n",
    "            'id': int(row['data-team-id']), \n",
    "            'country_full': row.find('span', {'class': 'fi-t__nText'}).text, \n",
    "            'country_abrv': row.find('span', {'class': 'fi-t__nTri'}).text,\n",
    "            'rank': int(row.find('td', {'class': 'fi-table__rank'}).text), \n",
    "            #'total_points': int(row.find('td', {'class': 'fi-table__points'}).text),\n",
    "            'total_points': row.find('td', {'class': 'fi-table__points'}).text,\n",
    "            #'previous_points': int(row.find('td', {'class': 'fi-table__prevpoints'}).text or 0),\n",
    "            'previous_points': row.find('td', {'class': 'fi-table__prevpoints'}).text or 0,\n",
    "            'rank_change': int(row.find('td', {'class': 'fi-table__rankingmovement'}).text.replace('-', '0')),\n",
    "            'confederation': row.find('td', {'class': 'fi-table__confederation'}).text.strip('#'),\n",
    "            'rank_date': date\n",
    "        })\n",
    "    return table\n",
    "    \n",
    "\n",
    "async def parse_ranks(pages_df):\n",
    "    fifa_ranking = pd.DataFrame(columns=[\n",
    "        'id', 'rank', 'country_full', 'country_abrv', \n",
    "        'total_points', 'previous_points', 'rank_change', \n",
    "        'confederation', 'rank_date'\n",
    "    ])\n",
    "\n",
    "    start_time = datetime.datetime.now()\n",
    "    print(\"Start parsing.. \", datetime.datetime.now()-start_time)\n",
    "    \n",
    "    task_parse = []\n",
    "    async with aiohttp.ClientSession() as session:\n",
    "        for date_id in pages_df.date_id.to_list():\n",
    "            task_parse += [asyncio.create_task(get_rank_page(date_id, session))]\n",
    "    \n",
    "        for task in asyncio.as_completed(task_parse):\n",
    "            page = await task\n",
    "            if not task:\n",
    "                continue\n",
    "            date_ranking = scrapy_rank_table(page['page'], \n",
    "                                             pages_df[pages_df.date_id == page['id']].date.iloc[0])\n",
    "            fifa_ranking = fifa_ranking.append(date_ranking, ignore_index=True)\n",
    "\n",
    "            if fifa_ranking.rank_date.nunique() % 50 == 0:\n",
    "                print(f'Complite {fifa_ranking.rank_date.nunique()}/{pages_df.shape[0]} dates')\n",
    "    \n",
    "    fifa_ranking.sort_values('rank_date', ignore_index=True, inplace=True)\n",
    "    print(f'Parsing complite. Time {datetime.datetime.now()-start_time}')\n",
    "    return fifa_ranking\n",
    "\n",
    "\n",
    "def data_correction(df):\n",
    "    \"\"\" Handmade \"\"\"\n",
    "    # Lebanon has two abbreviations\n",
    "    df.replace({'country_abrv': 'LIB'}, 'LBN', inplace=True)\n",
    "    # Montenegro duplicates\n",
    "    df.drop(df[df.id == 1903356].index, inplace=True)\n",
    "    # North Macedonia has two full names\n",
    "    df.replace({'country_full': 'FYR Macedonia'}, 'North Macedonia', inplace=True)\n",
    "    # Cabo Verde has two full names\n",
    "    df.replace({'country_full': 'Cape Verde Islands'}, 'Cabo Verde', inplace=True)\n",
    "    # Saint Vincent and the Grenadines have two full names\n",
    "    df.replace({'country_full': 'St. Vincent and the Grenadines'}, 'St. Vincent / Grenadines', inplace=True)\n",
    "    # Swaziland has two full names\n",
    "    df.replace({'country_full': 'Eswatini'}, 'Swaziland', inplace=True)\n",
    "    # Curacao transform to Curaçao (with 'ç')\n",
    "    df.replace({'country_full': 'Curacao'}, 'Curaçao', inplace=True)\n",
    "    # São Tomé and Príncipe have three full names\n",
    "    df.replace({'country_full': ['Sao Tome e Principe', 'São Tomé e Príncipe']}, \n",
    "               'São Tomé and Príncipe', inplace=True)\n",
    "    return df\n",
    "\n",
    "\n",
    "def check_data(ranks_df, dates_df):\n",
    "    if ranks_df.rank_date.nunique() != dates_df.date.nunique():\n",
    "        print(\"Warning! Numbers of rank dates don't match\")\n",
    "    if ranks_df.country_full.nunique() != ranks_df.country_abrv.nunique():\n",
    "        print(\"Warning! Number of names and abbreviations does not match\")\n",
    "    if ranks_df.country_full.nunique() != ranks_df.id.nunique():\n",
    "        print(\"Warning! Number of names and IDs does not match\")\n",
    "        \n",
    "\n",
    "def save_as_csv(df):\n",
    "    df.to_csv(\n",
    "        f'fifa_ranking-{df.rank_date.max().date()}.csv',\n",
    "        index=False, \n",
    "        encoding='utf-8'\n",
    "    )\n",
    "    print('Dataframe saved in currently folder')"
   ]
  },
  {
   "cell_type": "markdown",
   "id": "alive-locator",
   "metadata": {
    "papermill": {
     "duration": 0.029298,
     "end_time": "2021-06-10T20:20:36.196722",
     "exception": false,
     "start_time": "2021-06-10T20:20:36.167424",
     "status": "completed"
    },
    "tags": []
   },
   "source": [
    "Now, get FIFA rankings using Beautiful Soup."
   ]
  },
  {
   "cell_type": "code",
   "execution_count": 4,
   "id": "strategic-functionality",
   "metadata": {
    "execution": {
     "iopub.execute_input": "2021-06-10T20:20:36.299540Z",
     "iopub.status.busy": "2021-06-10T20:20:36.271987Z",
     "iopub.status.idle": "2021-06-10T20:23:32.157981Z",
     "shell.execute_reply": "2021-06-10T20:23:32.155961Z",
     "shell.execute_reply.started": "2021-06-10T19:33:20.217304Z"
    },
    "papermill": {
     "duration": 175.931854,
     "end_time": "2021-06-10T20:23:32.158218",
     "exception": false,
     "start_time": "2021-06-10T20:20:36.226364",
     "status": "completed"
    },
    "tags": []
   },
   "outputs": [
    {
     "name": "stdout",
     "output_type": "stream",
     "text": [
      "Start parsing..  0:00:00.000010\n",
      "Complite 50/312 dates\n",
      "Complite 100/312 dates\n",
      "Complite 150/312 dates\n",
      "Complite 200/312 dates\n",
      "Complite 250/312 dates\n",
      "Complite 300/312 dates\n",
      "Parsing complite. Time 0:02:54.953653\n",
      "Dataframe saved in currently folder\n"
     ]
    },
    {
     "data": {
      "text/html": [
       "<div>\n",
       "<style scoped>\n",
       "    .dataframe tbody tr th:only-of-type {\n",
       "        vertical-align: middle;\n",
       "    }\n",
       "\n",
       "    .dataframe tbody tr th {\n",
       "        vertical-align: top;\n",
       "    }\n",
       "\n",
       "    .dataframe thead th {\n",
       "        text-align: right;\n",
       "    }\n",
       "</style>\n",
       "<table border=\"1\" class=\"dataframe\">\n",
       "  <thead>\n",
       "    <tr style=\"text-align: right;\">\n",
       "      <th></th>\n",
       "      <th>id</th>\n",
       "      <th>rank</th>\n",
       "      <th>country_full</th>\n",
       "      <th>country_abrv</th>\n",
       "      <th>total_points</th>\n",
       "      <th>previous_points</th>\n",
       "      <th>rank_change</th>\n",
       "      <th>confederation</th>\n",
       "      <th>rank_date</th>\n",
       "    </tr>\n",
       "  </thead>\n",
       "  <tbody>\n",
       "    <tr>\n",
       "      <th>63059</th>\n",
       "      <td>43829</td>\n",
       "      <td>139</td>\n",
       "      <td>Myanmar</td>\n",
       "      <td>MYA</td>\n",
       "      <td>1081.26</td>\n",
       "      <td>1081.26</td>\n",
       "      <td>0</td>\n",
       "      <td>AFC</td>\n",
       "      <td>2021-05-27</td>\n",
       "    </tr>\n",
       "    <tr>\n",
       "      <th>63060</th>\n",
       "      <td>43955</td>\n",
       "      <td>138</td>\n",
       "      <td>Latvia</td>\n",
       "      <td>LVA</td>\n",
       "      <td>1081.66</td>\n",
       "      <td>1081.66</td>\n",
       "      <td>0</td>\n",
       "      <td>UEFA</td>\n",
       "      <td>2021-05-27</td>\n",
       "    </tr>\n",
       "    <tr>\n",
       "      <th>63061</th>\n",
       "      <td>43886</td>\n",
       "      <td>137</td>\n",
       "      <td>Tanzania</td>\n",
       "      <td>TAN</td>\n",
       "      <td>1088.05</td>\n",
       "      <td>1088.05</td>\n",
       "      <td>0</td>\n",
       "      <td>CAF</td>\n",
       "      <td>2021-05-27</td>\n",
       "    </tr>\n",
       "    <tr>\n",
       "      <th>63062</th>\n",
       "      <td>43981</td>\n",
       "      <td>161</td>\n",
       "      <td>Tahiti</td>\n",
       "      <td>TAH</td>\n",
       "      <td>1014.27</td>\n",
       "      <td>1014.27</td>\n",
       "      <td>0</td>\n",
       "      <td>OFC</td>\n",
       "      <td>2021-05-27</td>\n",
       "    </tr>\n",
       "    <tr>\n",
       "      <th>63063</th>\n",
       "      <td>43942</td>\n",
       "      <td>4</td>\n",
       "      <td>England</td>\n",
       "      <td>ENG</td>\n",
       "      <td>1686.78</td>\n",
       "      <td>1686.78</td>\n",
       "      <td>0</td>\n",
       "      <td>UEFA</td>\n",
       "      <td>2021-05-27</td>\n",
       "    </tr>\n",
       "  </tbody>\n",
       "</table>\n",
       "</div>"
      ],
      "text/plain": [
       "          id rank country_full country_abrv total_points previous_points  \\\n",
       "63059  43829  139      Myanmar          MYA      1081.26         1081.26   \n",
       "63060  43955  138       Latvia          LVA      1081.66         1081.66   \n",
       "63061  43886  137     Tanzania          TAN      1088.05         1088.05   \n",
       "63062  43981  161       Tahiti          TAH      1014.27         1014.27   \n",
       "63063  43942    4      England          ENG      1686.78         1686.78   \n",
       "\n",
       "      rank_change confederation  rank_date  \n",
       "63059           0           AFC 2021-05-27  \n",
       "63060           0          UEFA 2021-05-27  \n",
       "63061           0           CAF 2021-05-27  \n",
       "63062           0           OFC 2021-05-27  \n",
       "63063           0          UEFA 2021-05-27  "
      ]
     },
     "execution_count": 4,
     "metadata": {},
     "output_type": "execute_result"
    }
   ],
   "source": [
    "fifa_ranking_df = asyncio.run(parse_ranks(dates_dataset))\n",
    "fifa_ranking_df = data_correction(fifa_ranking_df)\n",
    "check_data(fifa_ranking_df, dates_dataset)\n",
    "save_as_csv(fifa_ranking_df)\n",
    "\n",
    "fifa_ranking_df.tail()"
   ]
  },
  {
   "cell_type": "markdown",
   "id": "unlikely-hudson",
   "metadata": {
    "execution": {
     "iopub.execute_input": "2021-06-10T19:36:34.68335Z",
     "iopub.status.busy": "2021-06-10T19:36:34.682962Z",
     "iopub.status.idle": "2021-06-10T19:36:34.687971Z",
     "shell.execute_reply": "2021-06-10T19:36:34.686793Z",
     "shell.execute_reply.started": "2021-06-10T19:36:34.683318Z"
    },
    "papermill": {
     "duration": 0.032198,
     "end_time": "2021-06-10T20:23:32.228557",
     "exception": false,
     "start_time": "2021-06-10T20:23:32.196359",
     "status": "completed"
    },
    "tags": []
   },
   "source": [
    "## Define participants"
   ]
  },
  {
   "cell_type": "code",
   "execution_count": 5,
   "id": "major-hierarchy",
   "metadata": {
    "_kg_hide-input": true,
    "execution": {
     "iopub.execute_input": "2021-06-10T20:23:32.310645Z",
     "iopub.status.busy": "2021-06-10T20:23:32.302700Z",
     "iopub.status.idle": "2021-06-10T20:23:32.314331Z",
     "shell.execute_reply": "2021-06-10T20:23:32.314775Z",
     "shell.execute_reply.started": "2021-06-10T19:36:40.924573Z"
    },
    "papermill": {
     "duration": 0.052907,
     "end_time": "2021-06-10T20:23:32.314966",
     "exception": false,
     "start_time": "2021-06-10T20:23:32.262059",
     "status": "completed"
    },
    "tags": []
   },
   "outputs": [
    {
     "data": {
      "text/html": [
       "<div>\n",
       "<style scoped>\n",
       "    .dataframe tbody tr th:only-of-type {\n",
       "        vertical-align: middle;\n",
       "    }\n",
       "\n",
       "    .dataframe tbody tr th {\n",
       "        vertical-align: top;\n",
       "    }\n",
       "\n",
       "    .dataframe thead th {\n",
       "        text-align: right;\n",
       "    }\n",
       "</style>\n",
       "<table border=\"1\" class=\"dataframe\">\n",
       "  <thead>\n",
       "    <tr style=\"text-align: right;\">\n",
       "      <th></th>\n",
       "      <th>Country</th>\n",
       "      <th>Abrv</th>\n",
       "      <th>Group</th>\n",
       "    </tr>\n",
       "  </thead>\n",
       "  <tbody>\n",
       "    <tr>\n",
       "      <th>0</th>\n",
       "      <td>Italy</td>\n",
       "      <td>ITA</td>\n",
       "      <td>A</td>\n",
       "    </tr>\n",
       "    <tr>\n",
       "      <th>1</th>\n",
       "      <td>Switzerland</td>\n",
       "      <td>SUI</td>\n",
       "      <td>A</td>\n",
       "    </tr>\n",
       "    <tr>\n",
       "      <th>2</th>\n",
       "      <td>Turkey</td>\n",
       "      <td>TUR</td>\n",
       "      <td>A</td>\n",
       "    </tr>\n",
       "    <tr>\n",
       "      <th>3</th>\n",
       "      <td>Wales</td>\n",
       "      <td>WAL</td>\n",
       "      <td>A</td>\n",
       "    </tr>\n",
       "  </tbody>\n",
       "</table>\n",
       "</div>"
      ],
      "text/plain": [
       "       Country Abrv Group\n",
       "0        Italy  ITA     A\n",
       "1  Switzerland  SUI     A\n",
       "2       Turkey  TUR     A\n",
       "3        Wales  WAL     A"
      ]
     },
     "execution_count": 5,
     "metadata": {},
     "output_type": "execute_result"
    }
   ],
   "source": [
    "teams = [['Italy', 'ITA', 'A'],\n",
    "        ['Switzerland', 'SUI', 'A'],\n",
    "        ['Turkey', 'TUR', 'A'],\n",
    "        ['Wales', 'WAL', 'A'],\n",
    "        ['Belgium', 'BEL', 'B'],\n",
    "        ['Denmark', 'DEN', 'B'],\n",
    "        ['Finland', 'FIN', 'B'],\n",
    "        ['Russia', 'RUN', 'B'],\n",
    "        ['Austria', 'AUT', 'C'],\n",
    "        ['Netherlands', 'NED', 'C'],\n",
    "        ['North Macedonia', 'MKD', 'C'],\n",
    "        ['Ukraine', 'UKR', 'C'],\n",
    "        ['Croatia', 'CRO', 'D'],\n",
    "        ['Czech Republic', ' CZE', 'D'],\n",
    "        ['England', 'ENG', 'D'],\n",
    "        ['Scotland', 'SCO', 'D'],\n",
    "        ['Poland', 'POL', 'E'],\n",
    "        ['Slovakia', 'SVK', 'E'],\n",
    "        ['Spain', 'ESP', 'E'],\n",
    "        ['Sweden', 'SWE', 'E'],\n",
    "        ['France', 'FRA', 'F'],\n",
    "        ['Germany', 'GER', 'F'],\n",
    "        ['Hungary', 'HUN', 'F'],\n",
    "        ['Portugal', 'POR', 'F']]\n",
    "teams_df = pd.DataFrame(teams, columns=['Country', 'Abrv', 'Group'])\n",
    "teams_df.head(4)"
   ]
  },
  {
   "cell_type": "markdown",
   "id": "sixth-bronze",
   "metadata": {
    "papermill": {
     "duration": 0.03268,
     "end_time": "2021-06-10T20:23:32.380398",
     "exception": false,
     "start_time": "2021-06-10T20:23:32.347718",
     "status": "completed"
    },
    "tags": []
   },
   "source": [
    "## Filter out relevant historic match data\n",
    "There are several choices to be made here. Include only matches between participants, or use all matches with at least one participant country - here we go for the former. The FIFA ranking is from December 1992, so we will filter out matches before that date since ranking will be an important feature in the model we will create."
   ]
  },
  {
   "cell_type": "code",
   "execution_count": 6,
   "id": "protected-rates",
   "metadata": {
    "_kg_hide-input": true,
    "execution": {
     "iopub.execute_input": "2021-06-10T20:23:32.452610Z",
     "iopub.status.busy": "2021-06-10T20:23:32.451968Z",
     "iopub.status.idle": "2021-06-10T20:23:32.590750Z",
     "shell.execute_reply": "2021-06-10T20:23:32.589603Z",
     "shell.execute_reply.started": "2021-06-10T19:41:11.407919Z"
    },
    "papermill": {
     "duration": 0.177877,
     "end_time": "2021-06-10T20:23:32.591103",
     "exception": false,
     "start_time": "2021-06-10T20:23:32.413226",
     "status": "completed"
    },
    "tags": []
   },
   "outputs": [
    {
     "name": "stdout",
     "output_type": "stream",
     "text": [
      "Number of matches after filtering: 1653\n"
     ]
    }
   ],
   "source": [
    "match_df = pd.read_csv('../input/international-football-results-from-1872-to-2017/results.csv')\n",
    "# only matches from 1993\n",
    "match_df = match_df[match_df.date > '1993-01-01']\n",
    "# only matches between playing teams\n",
    "match_df = match_df[match_df.home_team.isin(teams_df.Country.to_list())]\n",
    "match_df = match_df[match_df.away_team.isin(teams_df.Country.to_list())]\n",
    "match_df.reset_index(drop=True, inplace=True)\n",
    "# drop city column\n",
    "match_df.drop(labels='city', axis=1, inplace=True)\n",
    "print('Number of matches after filtering: {}'.format(len(match_df)))"
   ]
  },
  {
   "cell_type": "markdown",
   "id": "offshore-spine",
   "metadata": {
    "papermill": {
     "duration": 0.0338,
     "end_time": "2021-06-10T20:23:32.671192",
     "exception": false,
     "start_time": "2021-06-10T20:23:32.637392",
     "status": "completed"
    },
    "tags": []
   },
   "source": [
    "# Feature creation\n",
    "Next we will add some features to the match data, which is FIFA ranking for the home and away teams. There are many other features we could add, such as historic weather data etc.   \n",
    "\n",
    "For each match the latest rank for each team is added to the dataframe."
   ]
  },
  {
   "cell_type": "code",
   "execution_count": 7,
   "id": "fiscal-index",
   "metadata": {
    "_kg_hide-input": true,
    "execution": {
     "iopub.execute_input": "2021-06-10T20:23:32.760450Z",
     "iopub.status.busy": "2021-06-10T20:23:32.759730Z",
     "iopub.status.idle": "2021-06-10T20:24:15.911996Z",
     "shell.execute_reply": "2021-06-10T20:24:15.911298Z",
     "shell.execute_reply.started": "2021-06-10T19:46:34.00206Z"
    },
    "papermill": {
     "duration": 43.207371,
     "end_time": "2021-06-10T20:24:15.912141",
     "exception": false,
     "start_time": "2021-06-10T20:23:32.704770",
     "status": "completed"
    },
    "tags": []
   },
   "outputs": [],
   "source": [
    "MATCHES = len(match_df)\n",
    "\n",
    "home_rank = np.zeros(MATCHES, dtype=np.int)\n",
    "away_rank = np.zeros(MATCHES, dtype=np.int)\n",
    "home_total_points = np.zeros(MATCHES, dtype=np.float)\n",
    "away_total_points = np.zeros(MATCHES, dtype=np.float)\n",
    "for i in range(MATCHES):\n",
    "    home_listing = fifa_ranking_df[((fifa_ranking_df.country_full == match_df.iloc[i].home_team) & \n",
    "                            (fifa_ranking_df.rank_date <= match_df.iloc[i].date))].sort_values(by='rank_date', ascending=False)\n",
    "    \n",
    "    try:\n",
    "        home_rank[i] = int(home_listing.iloc[0]['rank'])\n",
    "    except:\n",
    "        home_rank[i] = 155\n",
    "        \n",
    "    away_listing = fifa_ranking_df[((fifa_ranking_df.country_full == match_df.iloc[i].away_team) & \n",
    "                            (fifa_ranking_df.rank_date <= match_df.iloc[i].date))].sort_values(by='rank_date', ascending=False)\n",
    "        \n",
    "    try:\n",
    "        away_rank[i] = int(away_listing.iloc[0]['rank'])\n",
    "    except:\n",
    "        away_rank[i] = 155"
   ]
  },
  {
   "cell_type": "markdown",
   "id": "right-saskatchewan",
   "metadata": {
    "papermill": {
     "duration": 0.032715,
     "end_time": "2021-06-10T20:24:15.978903",
     "exception": false,
     "start_time": "2021-06-10T20:24:15.946188",
     "status": "completed"
    },
    "tags": []
   },
   "source": [
    "Then we drop a few columns that will not be used."
   ]
  },
  {
   "cell_type": "code",
   "execution_count": 8,
   "id": "integrated-campaign",
   "metadata": {
    "_kg_hide-input": true,
    "execution": {
     "iopub.execute_input": "2021-06-10T20:24:16.054481Z",
     "iopub.status.busy": "2021-06-10T20:24:16.053219Z",
     "iopub.status.idle": "2021-06-10T20:24:16.060012Z",
     "shell.execute_reply": "2021-06-10T20:24:16.059493Z",
     "shell.execute_reply.started": "2021-06-10T19:47:43.833037Z"
    },
    "papermill": {
     "duration": 0.048726,
     "end_time": "2021-06-10T20:24:16.060154",
     "exception": false,
     "start_time": "2021-06-10T20:24:16.011428",
     "status": "completed"
    },
    "tags": []
   },
   "outputs": [],
   "source": [
    "match_df['home_rank'] = home_rank\n",
    "match_df['away_rank'] = away_rank\n",
    "match_df['friendly'] = (match_df.tournament == 'Friendly')\n",
    "match_df.drop(labels=['tournament', 'date', 'country'], axis=1, inplace=True)\n",
    "match_df.neutral = match_df.neutral.astype(int)\n",
    "match_df.friendly = match_df.neutral.astype(int)"
   ]
  },
  {
   "cell_type": "code",
   "execution_count": 9,
   "id": "radical-calculation",
   "metadata": {
    "execution": {
     "iopub.execute_input": "2021-06-10T20:24:16.137712Z",
     "iopub.status.busy": "2021-06-10T20:24:16.136768Z",
     "iopub.status.idle": "2021-06-10T20:24:16.141169Z",
     "shell.execute_reply": "2021-06-10T20:24:16.140602Z",
     "shell.execute_reply.started": "2021-06-10T19:48:07.777145Z"
    },
    "papermill": {
     "duration": 0.048525,
     "end_time": "2021-06-10T20:24:16.141316",
     "exception": false,
     "start_time": "2021-06-10T20:24:16.092791",
     "status": "completed"
    },
    "tags": []
   },
   "outputs": [
    {
     "data": {
      "text/html": [
       "<div>\n",
       "<style scoped>\n",
       "    .dataframe tbody tr th:only-of-type {\n",
       "        vertical-align: middle;\n",
       "    }\n",
       "\n",
       "    .dataframe tbody tr th {\n",
       "        vertical-align: top;\n",
       "    }\n",
       "\n",
       "    .dataframe thead th {\n",
       "        text-align: right;\n",
       "    }\n",
       "</style>\n",
       "<table border=\"1\" class=\"dataframe\">\n",
       "  <thead>\n",
       "    <tr style=\"text-align: right;\">\n",
       "      <th></th>\n",
       "      <th>home_team</th>\n",
       "      <th>away_team</th>\n",
       "      <th>home_score</th>\n",
       "      <th>away_score</th>\n",
       "      <th>neutral</th>\n",
       "      <th>home_rank</th>\n",
       "      <th>away_rank</th>\n",
       "      <th>friendly</th>\n",
       "    </tr>\n",
       "  </thead>\n",
       "  <tbody>\n",
       "    <tr>\n",
       "      <th>1648</th>\n",
       "      <td>Netherlands</td>\n",
       "      <td>Scotland</td>\n",
       "      <td>2</td>\n",
       "      <td>2</td>\n",
       "      <td>1</td>\n",
       "      <td>16</td>\n",
       "      <td>44</td>\n",
       "      <td>1</td>\n",
       "    </tr>\n",
       "    <tr>\n",
       "      <th>1649</th>\n",
       "      <td>Italy</td>\n",
       "      <td>Czech Republic</td>\n",
       "      <td>4</td>\n",
       "      <td>0</td>\n",
       "      <td>0</td>\n",
       "      <td>7</td>\n",
       "      <td>40</td>\n",
       "      <td>0</td>\n",
       "    </tr>\n",
       "    <tr>\n",
       "      <th>1650</th>\n",
       "      <td>Spain</td>\n",
       "      <td>Portugal</td>\n",
       "      <td>0</td>\n",
       "      <td>0</td>\n",
       "      <td>0</td>\n",
       "      <td>6</td>\n",
       "      <td>5</td>\n",
       "      <td>0</td>\n",
       "    </tr>\n",
       "    <tr>\n",
       "      <th>1651</th>\n",
       "      <td>Austria</td>\n",
       "      <td>Slovakia</td>\n",
       "      <td>0</td>\n",
       "      <td>0</td>\n",
       "      <td>0</td>\n",
       "      <td>23</td>\n",
       "      <td>36</td>\n",
       "      <td>0</td>\n",
       "    </tr>\n",
       "    <tr>\n",
       "      <th>1652</th>\n",
       "      <td>Belgium</td>\n",
       "      <td>Croatia</td>\n",
       "      <td>1</td>\n",
       "      <td>0</td>\n",
       "      <td>0</td>\n",
       "      <td>1</td>\n",
       "      <td>14</td>\n",
       "      <td>0</td>\n",
       "    </tr>\n",
       "  </tbody>\n",
       "</table>\n",
       "</div>"
      ],
      "text/plain": [
       "        home_team       away_team  home_score  away_score  neutral  home_rank  \\\n",
       "1648  Netherlands        Scotland           2           2        1         16   \n",
       "1649        Italy  Czech Republic           4           0        0          7   \n",
       "1650        Spain        Portugal           0           0        0          6   \n",
       "1651      Austria        Slovakia           0           0        0         23   \n",
       "1652      Belgium         Croatia           1           0        0          1   \n",
       "\n",
       "      away_rank  friendly  \n",
       "1648         44         1  \n",
       "1649         40         0  \n",
       "1650          5         0  \n",
       "1651         36         0  \n",
       "1652         14         0  "
      ]
     },
     "execution_count": 9,
     "metadata": {},
     "output_type": "execute_result"
    }
   ],
   "source": [
    "match_df.tail()"
   ]
  },
  {
   "cell_type": "markdown",
   "id": "structured-photography",
   "metadata": {
    "papermill": {
     "duration": 0.032944,
     "end_time": "2021-06-10T20:24:16.207472",
     "exception": false,
     "start_time": "2021-06-10T20:24:16.174528",
     "status": "completed"
    },
    "tags": []
   },
   "source": [
    "## Convert categorical features to onehot\n",
    "Country names are strings which are not suitable input to most models, so here we convert them to onehot format."
   ]
  },
  {
   "cell_type": "code",
   "execution_count": 10,
   "id": "announced-allocation",
   "metadata": {
    "_kg_hide-input": true,
    "execution": {
     "iopub.execute_input": "2021-06-10T20:24:16.281111Z",
     "iopub.status.busy": "2021-06-10T20:24:16.280393Z",
     "iopub.status.idle": "2021-06-10T20:24:16.308573Z",
     "shell.execute_reply": "2021-06-10T20:24:16.307940Z",
     "shell.execute_reply.started": "2021-06-10T20:05:37.78766Z"
    },
    "papermill": {
     "duration": 0.067653,
     "end_time": "2021-06-10T20:24:16.308710",
     "exception": false,
     "start_time": "2021-06-10T20:24:16.241057",
     "status": "completed"
    },
    "tags": []
   },
   "outputs": [
    {
     "data": {
      "text/html": [
       "<div>\n",
       "<style scoped>\n",
       "    .dataframe tbody tr th:only-of-type {\n",
       "        vertical-align: middle;\n",
       "    }\n",
       "\n",
       "    .dataframe tbody tr th {\n",
       "        vertical-align: top;\n",
       "    }\n",
       "\n",
       "    .dataframe thead th {\n",
       "        text-align: right;\n",
       "    }\n",
       "</style>\n",
       "<table border=\"1\" class=\"dataframe\">\n",
       "  <thead>\n",
       "    <tr style=\"text-align: right;\">\n",
       "      <th></th>\n",
       "      <th>neutral</th>\n",
       "      <th>home_rank</th>\n",
       "      <th>away_rank</th>\n",
       "      <th>friendly</th>\n",
       "      <th>home_team_Austria</th>\n",
       "      <th>home_team_Belgium</th>\n",
       "      <th>home_team_Croatia</th>\n",
       "      <th>home_team_Czech Republic</th>\n",
       "      <th>home_team_Denmark</th>\n",
       "      <th>home_team_England</th>\n",
       "      <th>...</th>\n",
       "      <th>away_team_Portugal</th>\n",
       "      <th>away_team_Russia</th>\n",
       "      <th>away_team_Scotland</th>\n",
       "      <th>away_team_Slovakia</th>\n",
       "      <th>away_team_Spain</th>\n",
       "      <th>away_team_Sweden</th>\n",
       "      <th>away_team_Switzerland</th>\n",
       "      <th>away_team_Turkey</th>\n",
       "      <th>away_team_Ukraine</th>\n",
       "      <th>away_team_Wales</th>\n",
       "    </tr>\n",
       "  </thead>\n",
       "  <tbody>\n",
       "    <tr>\n",
       "      <th>0</th>\n",
       "      <td>0</td>\n",
       "      <td>7</td>\n",
       "      <td>42</td>\n",
       "      <td>0</td>\n",
       "      <td>0</td>\n",
       "      <td>0</td>\n",
       "      <td>0</td>\n",
       "      <td>0</td>\n",
       "      <td>0</td>\n",
       "      <td>0</td>\n",
       "      <td>...</td>\n",
       "      <td>0</td>\n",
       "      <td>0</td>\n",
       "      <td>0</td>\n",
       "      <td>0</td>\n",
       "      <td>0</td>\n",
       "      <td>0</td>\n",
       "      <td>0</td>\n",
       "      <td>1</td>\n",
       "      <td>0</td>\n",
       "      <td>0</td>\n",
       "    </tr>\n",
       "    <tr>\n",
       "      <th>1</th>\n",
       "      <td>0</td>\n",
       "      <td>33</td>\n",
       "      <td>2</td>\n",
       "      <td>0</td>\n",
       "      <td>0</td>\n",
       "      <td>0</td>\n",
       "      <td>0</td>\n",
       "      <td>0</td>\n",
       "      <td>0</td>\n",
       "      <td>0</td>\n",
       "      <td>...</td>\n",
       "      <td>0</td>\n",
       "      <td>0</td>\n",
       "      <td>0</td>\n",
       "      <td>0</td>\n",
       "      <td>0</td>\n",
       "      <td>0</td>\n",
       "      <td>0</td>\n",
       "      <td>0</td>\n",
       "      <td>0</td>\n",
       "      <td>0</td>\n",
       "    </tr>\n",
       "    <tr>\n",
       "      <th>2</th>\n",
       "      <td>0</td>\n",
       "      <td>23</td>\n",
       "      <td>1</td>\n",
       "      <td>0</td>\n",
       "      <td>0</td>\n",
       "      <td>0</td>\n",
       "      <td>0</td>\n",
       "      <td>0</td>\n",
       "      <td>0</td>\n",
       "      <td>0</td>\n",
       "      <td>...</td>\n",
       "      <td>0</td>\n",
       "      <td>0</td>\n",
       "      <td>0</td>\n",
       "      <td>0</td>\n",
       "      <td>0</td>\n",
       "      <td>0</td>\n",
       "      <td>0</td>\n",
       "      <td>0</td>\n",
       "      <td>0</td>\n",
       "      <td>0</td>\n",
       "    </tr>\n",
       "    <tr>\n",
       "      <th>3</th>\n",
       "      <td>0</td>\n",
       "      <td>34</td>\n",
       "      <td>19</td>\n",
       "      <td>0</td>\n",
       "      <td>1</td>\n",
       "      <td>0</td>\n",
       "      <td>0</td>\n",
       "      <td>0</td>\n",
       "      <td>0</td>\n",
       "      <td>0</td>\n",
       "      <td>...</td>\n",
       "      <td>0</td>\n",
       "      <td>0</td>\n",
       "      <td>0</td>\n",
       "      <td>0</td>\n",
       "      <td>0</td>\n",
       "      <td>0</td>\n",
       "      <td>0</td>\n",
       "      <td>0</td>\n",
       "      <td>0</td>\n",
       "      <td>0</td>\n",
       "    </tr>\n",
       "    <tr>\n",
       "      <th>4</th>\n",
       "      <td>0</td>\n",
       "      <td>9</td>\n",
       "      <td>15</td>\n",
       "      <td>0</td>\n",
       "      <td>0</td>\n",
       "      <td>0</td>\n",
       "      <td>0</td>\n",
       "      <td>0</td>\n",
       "      <td>1</td>\n",
       "      <td>0</td>\n",
       "      <td>...</td>\n",
       "      <td>0</td>\n",
       "      <td>0</td>\n",
       "      <td>0</td>\n",
       "      <td>0</td>\n",
       "      <td>1</td>\n",
       "      <td>0</td>\n",
       "      <td>0</td>\n",
       "      <td>0</td>\n",
       "      <td>0</td>\n",
       "      <td>0</td>\n",
       "    </tr>\n",
       "  </tbody>\n",
       "</table>\n",
       "<p>5 rows × 52 columns</p>\n",
       "</div>"
      ],
      "text/plain": [
       "   neutral  home_rank  away_rank  friendly  home_team_Austria  \\\n",
       "0        0          7         42         0                  0   \n",
       "1        0         33          2         0                  0   \n",
       "2        0         23          1         0                  0   \n",
       "3        0         34         19         0                  1   \n",
       "4        0          9         15         0                  0   \n",
       "\n",
       "   home_team_Belgium  home_team_Croatia  home_team_Czech Republic  \\\n",
       "0                  0                  0                         0   \n",
       "1                  0                  0                         0   \n",
       "2                  0                  0                         0   \n",
       "3                  0                  0                         0   \n",
       "4                  0                  0                         0   \n",
       "\n",
       "   home_team_Denmark  home_team_England  ...  away_team_Portugal  \\\n",
       "0                  0                  0  ...                   0   \n",
       "1                  0                  0  ...                   0   \n",
       "2                  0                  0  ...                   0   \n",
       "3                  0                  0  ...                   0   \n",
       "4                  1                  0  ...                   0   \n",
       "\n",
       "   away_team_Russia  away_team_Scotland  away_team_Slovakia  away_team_Spain  \\\n",
       "0                 0                   0                   0                0   \n",
       "1                 0                   0                   0                0   \n",
       "2                 0                   0                   0                0   \n",
       "3                 0                   0                   0                0   \n",
       "4                 0                   0                   0                1   \n",
       "\n",
       "   away_team_Sweden  away_team_Switzerland  away_team_Turkey  \\\n",
       "0                 0                      0                 1   \n",
       "1                 0                      0                 0   \n",
       "2                 0                      0                 0   \n",
       "3                 0                      0                 0   \n",
       "4                 0                      0                 0   \n",
       "\n",
       "   away_team_Ukraine  away_team_Wales  \n",
       "0                  0                0  \n",
       "1                  0                0  \n",
       "2                  0                0  \n",
       "3                  0                0  \n",
       "4                  0                0  \n",
       "\n",
       "[5 rows x 52 columns]"
      ]
     },
     "execution_count": 10,
     "metadata": {},
     "output_type": "execute_result"
    }
   ],
   "source": [
    "X = match_df[['home_team', 'away_team', 'neutral', 'home_rank', 'away_rank', 'friendly']]\n",
    "y1 = match_df['home_score']\n",
    "y2 = match_df['away_score']\n",
    "\n",
    "onehot_columns = ['home_team', 'away_team']\n",
    "onehot_df = X[onehot_columns]\n",
    "onehot_df = pd.get_dummies(onehot_df, columns = onehot_columns)\n",
    "match_onehot_drop = X.drop(onehot_columns, axis = 1)\n",
    "match_onehot = pd.concat([match_onehot_drop, onehot_df], axis = 1)\n",
    "match_onehot.head()"
   ]
  },
  {
   "cell_type": "markdown",
   "id": "loved-musical",
   "metadata": {
    "papermill": {
     "duration": 0.033721,
     "end_time": "2021-06-10T20:24:16.376303",
     "exception": false,
     "start_time": "2021-06-10T20:24:16.342582",
     "status": "completed"
    },
    "tags": []
   },
   "source": [
    "# Train XGBoost model\n",
    "We will train a XGBoost regressor model, or rather two of them, to predict match results. One model to predict the home team score and one model for the away team score. It is also possible to use [sklearn.multioutput.MultiOutputRegressor](https://scikit-learn.org/stable/modules/generated/sklearn.multioutput.MultiOutputRegressor.html) to combine the two models."
   ]
  },
  {
   "cell_type": "code",
   "execution_count": 11,
   "id": "peaceful-collapse",
   "metadata": {
    "execution": {
     "iopub.execute_input": "2021-06-10T20:24:16.449822Z",
     "iopub.status.busy": "2021-06-10T20:24:16.449187Z",
     "iopub.status.idle": "2021-06-10T20:24:18.239837Z",
     "shell.execute_reply": "2021-06-10T20:24:18.239109Z",
     "shell.execute_reply.started": "2021-06-10T20:09:24.830231Z"
    },
    "papermill": {
     "duration": 1.829695,
     "end_time": "2021-06-10T20:24:18.239980",
     "exception": false,
     "start_time": "2021-06-10T20:24:16.410285",
     "status": "completed"
    },
    "tags": []
   },
   "outputs": [
    {
     "data": {
      "text/plain": [
       "XGBRegressor(base_score=0.5, booster='gbtree', colsample_bylevel=1,\n",
       "             colsample_bynode=1, colsample_bytree=1, gamma=0, gpu_id=-1,\n",
       "             importance_type='gain', interaction_constraints='',\n",
       "             learning_rate=0.300000012, max_delta_step=0, max_depth=6,\n",
       "             min_child_weight=1, missing=nan, monotone_constraints='()',\n",
       "             n_estimators=100, n_jobs=4, num_parallel_tree=1, random_state=0,\n",
       "             reg_alpha=0, reg_lambda=1, scale_pos_weight=1, subsample=1,\n",
       "             tree_method='exact', validate_parameters=1, verbosity=None)"
      ]
     },
     "execution_count": 11,
     "metadata": {},
     "output_type": "execute_result"
    }
   ],
   "source": [
    "from xgboost import XGBRegressor\n",
    "\n",
    "# home team score model\n",
    "hmodel = XGBRegressor()\n",
    "hmodel.fit(match_onehot.values, y1.values)\n",
    "#away team score model\n",
    "amodel = XGBRegressor()\n",
    "amodel.fit(match_onehot.values, y2.values)"
   ]
  },
  {
   "cell_type": "markdown",
   "id": "prostate-pattern",
   "metadata": {
    "papermill": {
     "duration": 0.033837,
     "end_time": "2021-06-10T20:24:18.308122",
     "exception": false,
     "start_time": "2021-06-10T20:24:18.274285",
     "status": "completed"
    },
    "tags": []
   },
   "source": [
    "# Predict\n",
    "Now the fun part! Let's predict the match results for the first week's matches, starting tomorrow! We need to check careful where the matches are played, so we get the \"neutral ground\" feature set right, and we also put the home team first in the function below."
   ]
  },
  {
   "cell_type": "code",
   "execution_count": 12,
   "id": "scientific-circus",
   "metadata": {
    "_kg_hide-input": true,
    "_kg_hide-output": true,
    "execution": {
     "iopub.execute_input": "2021-06-10T20:24:18.389156Z",
     "iopub.status.busy": "2021-06-10T20:24:18.388115Z",
     "iopub.status.idle": "2021-06-10T20:24:18.390524Z",
     "shell.execute_reply": "2021-06-10T20:24:18.390980Z",
     "shell.execute_reply.started": "2021-06-10T20:09:48.118133Z"
    },
    "papermill": {
     "duration": 0.048809,
     "end_time": "2021-06-10T20:24:18.391154",
     "exception": false,
     "start_time": "2021-06-10T20:24:18.342345",
     "status": "completed"
    },
    "tags": []
   },
   "outputs": [],
   "source": [
    "def predict(h_country, a_country, neutral=True):\n",
    "    # create vector\n",
    "    cols = ['neutral', 'home_rank', 'away_rank', 'friendly']\n",
    "    for c in onehot_df.columns.to_list():\n",
    "        cols.append(c)\n",
    "    df = pd.DataFrame(np.zeros((1,len(cols)), dtype=int), columns=cols)\n",
    "    if neutral:\n",
    "        df.neutral.iloc[0] = 1\n",
    "    else:\n",
    "        df.neutral.iloc[0] = 0\n",
    "    df.home_rank.iloc[0] = fifa_ranking_df[((fifa_ranking_df.rank_date == '2021-05-27') & (fifa_ranking_df.country_full == h_country))]['rank'].values[0]\n",
    "    df.away_rank.iloc[0] = fifa_ranking_df[((fifa_ranking_df.rank_date == '2021-05-27') & (fifa_ranking_df.country_full == a_country))]['rank'].values[0]\n",
    "    df['home_team_'+h_country].iloc[0] = 1\n",
    "    df['away_team_'+a_country].iloc[0] = 1\n",
    "    #df = df[hmodel.get_booster().feature_names]\n",
    "    # predict\n",
    "    hscore = int(hmodel.predict(df.iloc[0].to_numpy().reshape(1,52))[0])\n",
    "    ascore = int(amodel.predict(df.iloc[0].to_numpy().reshape(1,52))[0])\n",
    "    return hscore, ascore"
   ]
  },
  {
   "cell_type": "code",
   "execution_count": 13,
   "id": "younger-sitting",
   "metadata": {
    "execution": {
     "iopub.execute_input": "2021-06-10T20:24:18.463043Z",
     "iopub.status.busy": "2021-06-10T20:24:18.462111Z",
     "iopub.status.idle": "2021-06-10T20:24:18.501909Z",
     "shell.execute_reply": "2021-06-10T20:24:18.501254Z",
     "shell.execute_reply.started": "2021-06-10T20:09:48.388507Z"
    },
    "papermill": {
     "duration": 0.076782,
     "end_time": "2021-06-10T20:24:18.502065",
     "exception": false,
     "start_time": "2021-06-10T20:24:18.425283",
     "status": "completed"
    },
    "tags": []
   },
   "outputs": [
    {
     "data": {
      "text/plain": [
       "(1, 0)"
      ]
     },
     "execution_count": 13,
     "metadata": {},
     "output_type": "execute_result"
    }
   ],
   "source": [
    "predict('Italy', 'Turkey', False)"
   ]
  },
  {
   "cell_type": "code",
   "execution_count": 14,
   "id": "fresh-reservation",
   "metadata": {
    "execution": {
     "iopub.execute_input": "2021-06-10T20:24:18.578999Z",
     "iopub.status.busy": "2021-06-10T20:24:18.578316Z",
     "iopub.status.idle": "2021-06-10T20:24:18.611695Z",
     "shell.execute_reply": "2021-06-10T20:24:18.612651Z",
     "shell.execute_reply.started": "2021-06-10T20:09:57.909865Z"
    },
    "papermill": {
     "duration": 0.074699,
     "end_time": "2021-06-10T20:24:18.612873",
     "exception": false,
     "start_time": "2021-06-10T20:24:18.538174",
     "status": "completed"
    },
    "tags": []
   },
   "outputs": [
    {
     "data": {
      "text/plain": [
       "(1, 1)"
      ]
     },
     "execution_count": 14,
     "metadata": {},
     "output_type": "execute_result"
    }
   ],
   "source": [
    "predict('Wales', 'Switzerland')"
   ]
  },
  {
   "cell_type": "code",
   "execution_count": 15,
   "id": "social-assistant",
   "metadata": {
    "execution": {
     "iopub.execute_input": "2021-06-10T20:24:18.690518Z",
     "iopub.status.busy": "2021-06-10T20:24:18.689858Z",
     "iopub.status.idle": "2021-06-10T20:24:18.727442Z",
     "shell.execute_reply": "2021-06-10T20:24:18.728584Z",
     "shell.execute_reply.started": "2021-06-10T20:10:06.726349Z"
    },
    "papermill": {
     "duration": 0.079436,
     "end_time": "2021-06-10T20:24:18.728795",
     "exception": false,
     "start_time": "2021-06-10T20:24:18.649359",
     "status": "completed"
    },
    "tags": []
   },
   "outputs": [
    {
     "data": {
      "text/plain": [
       "(1, 0)"
      ]
     },
     "execution_count": 15,
     "metadata": {},
     "output_type": "execute_result"
    }
   ],
   "source": [
    "predict('Denmark', 'Finland', False)"
   ]
  },
  {
   "cell_type": "code",
   "execution_count": 16,
   "id": "worth-oregon",
   "metadata": {
    "execution": {
     "iopub.execute_input": "2021-06-10T20:24:18.807152Z",
     "iopub.status.busy": "2021-06-10T20:24:18.806295Z",
     "iopub.status.idle": "2021-06-10T20:24:18.840243Z",
     "shell.execute_reply": "2021-06-10T20:24:18.840751Z",
     "shell.execute_reply.started": "2021-06-10T20:10:15.967395Z"
    },
    "papermill": {
     "duration": 0.075452,
     "end_time": "2021-06-10T20:24:18.840964",
     "exception": false,
     "start_time": "2021-06-10T20:24:18.765512",
     "status": "completed"
    },
    "tags": []
   },
   "outputs": [
    {
     "data": {
      "text/plain": [
       "(1, 3)"
      ]
     },
     "execution_count": 16,
     "metadata": {},
     "output_type": "execute_result"
    }
   ],
   "source": [
    "predict('Russia', 'Belgium', False)"
   ]
  },
  {
   "cell_type": "code",
   "execution_count": 17,
   "id": "maritime-example",
   "metadata": {
    "execution": {
     "iopub.execute_input": "2021-06-10T20:24:18.923979Z",
     "iopub.status.busy": "2021-06-10T20:24:18.922953Z",
     "iopub.status.idle": "2021-06-10T20:24:18.961155Z",
     "shell.execute_reply": "2021-06-10T20:24:18.960448Z",
     "shell.execute_reply.started": "2021-06-10T20:10:23.702766Z"
    },
    "papermill": {
     "duration": 0.083148,
     "end_time": "2021-06-10T20:24:18.961332",
     "exception": false,
     "start_time": "2021-06-10T20:24:18.878184",
     "status": "completed"
    },
    "tags": []
   },
   "outputs": [
    {
     "data": {
      "text/plain": [
       "(1, 1)"
      ]
     },
     "execution_count": 17,
     "metadata": {},
     "output_type": "execute_result"
    }
   ],
   "source": [
    "predict('England', 'Croatia', False)"
   ]
  },
  {
   "cell_type": "code",
   "execution_count": 18,
   "id": "fuzzy-fight",
   "metadata": {
    "execution": {
     "iopub.execute_input": "2021-06-10T20:24:19.042898Z",
     "iopub.status.busy": "2021-06-10T20:24:19.042162Z",
     "iopub.status.idle": "2021-06-10T20:24:19.079780Z",
     "shell.execute_reply": "2021-06-10T20:24:19.080410Z",
     "shell.execute_reply.started": "2021-06-10T20:10:36.294394Z"
    },
    "papermill": {
     "duration": 0.082018,
     "end_time": "2021-06-10T20:24:19.080618",
     "exception": false,
     "start_time": "2021-06-10T20:24:18.998600",
     "status": "completed"
    },
    "tags": []
   },
   "outputs": [
    {
     "data": {
      "text/plain": [
       "(0, 0)"
      ]
     },
     "execution_count": 18,
     "metadata": {},
     "output_type": "execute_result"
    }
   ],
   "source": [
    "predict('Austria', 'North Macedonia')"
   ]
  },
  {
   "cell_type": "code",
   "execution_count": 19,
   "id": "unable-catalog",
   "metadata": {
    "execution": {
     "iopub.execute_input": "2021-06-10T20:24:19.163018Z",
     "iopub.status.busy": "2021-06-10T20:24:19.162298Z",
     "iopub.status.idle": "2021-06-10T20:24:19.195695Z",
     "shell.execute_reply": "2021-06-10T20:24:19.196625Z",
     "shell.execute_reply.started": "2021-06-10T20:10:43.974988Z"
    },
    "papermill": {
     "duration": 0.077151,
     "end_time": "2021-06-10T20:24:19.196835",
     "exception": false,
     "start_time": "2021-06-10T20:24:19.119684",
     "status": "completed"
    },
    "tags": []
   },
   "outputs": [
    {
     "data": {
      "text/plain": [
       "(2, 1)"
      ]
     },
     "execution_count": 19,
     "metadata": {},
     "output_type": "execute_result"
    }
   ],
   "source": [
    "predict('Netherlands', 'Ukraine', False)"
   ]
  },
  {
   "cell_type": "code",
   "execution_count": 20,
   "id": "tracked-perception",
   "metadata": {
    "execution": {
     "iopub.execute_input": "2021-06-10T20:24:19.276769Z",
     "iopub.status.busy": "2021-06-10T20:24:19.276067Z",
     "iopub.status.idle": "2021-06-10T20:24:19.310931Z",
     "shell.execute_reply": "2021-06-10T20:24:19.311480Z",
     "shell.execute_reply.started": "2021-06-10T20:10:50.547669Z"
    },
    "papermill": {
     "duration": 0.07671,
     "end_time": "2021-06-10T20:24:19.311672",
     "exception": false,
     "start_time": "2021-06-10T20:24:19.234962",
     "status": "completed"
    },
    "tags": []
   },
   "outputs": [
    {
     "data": {
      "text/plain": [
       "(1, 0)"
      ]
     },
     "execution_count": 20,
     "metadata": {},
     "output_type": "execute_result"
    }
   ],
   "source": [
    "predict('Scotland', 'Czech Republic', False)"
   ]
  },
  {
   "cell_type": "code",
   "execution_count": 21,
   "id": "major-divide",
   "metadata": {
    "execution": {
     "iopub.execute_input": "2021-06-10T20:24:19.392914Z",
     "iopub.status.busy": "2021-06-10T20:24:19.392240Z",
     "iopub.status.idle": "2021-06-10T20:24:19.426953Z",
     "shell.execute_reply": "2021-06-10T20:24:19.428023Z",
     "shell.execute_reply.started": "2021-06-10T20:10:58.663015Z"
    },
    "papermill": {
     "duration": 0.077946,
     "end_time": "2021-06-10T20:24:19.428230",
     "exception": false,
     "start_time": "2021-06-10T20:24:19.350284",
     "status": "completed"
    },
    "tags": []
   },
   "outputs": [
    {
     "data": {
      "text/plain": [
       "(0, 0)"
      ]
     },
     "execution_count": 21,
     "metadata": {},
     "output_type": "execute_result"
    }
   ],
   "source": [
    "predict('Poland', 'Slovakia')"
   ]
  },
  {
   "cell_type": "code",
   "execution_count": 22,
   "id": "accessible-aggregate",
   "metadata": {
    "execution": {
     "iopub.execute_input": "2021-06-10T20:24:19.510547Z",
     "iopub.status.busy": "2021-06-10T20:24:19.509907Z",
     "iopub.status.idle": "2021-06-10T20:24:19.546254Z",
     "shell.execute_reply": "2021-06-10T20:24:19.545653Z",
     "shell.execute_reply.started": "2021-06-10T20:11:05.646423Z"
    },
    "papermill": {
     "duration": 0.078942,
     "end_time": "2021-06-10T20:24:19.546420",
     "exception": false,
     "start_time": "2021-06-10T20:24:19.467478",
     "status": "completed"
    },
    "tags": []
   },
   "outputs": [
    {
     "data": {
      "text/plain": [
       "(3, 0)"
      ]
     },
     "execution_count": 22,
     "metadata": {},
     "output_type": "execute_result"
    }
   ],
   "source": [
    "predict('Spain', 'Sweden', False)"
   ]
  },
  {
   "cell_type": "code",
   "execution_count": 23,
   "id": "another-trash",
   "metadata": {
    "execution": {
     "iopub.execute_input": "2021-06-10T20:24:19.639971Z",
     "iopub.status.busy": "2021-06-10T20:24:19.629351Z",
     "iopub.status.idle": "2021-06-10T20:24:19.667476Z",
     "shell.execute_reply": "2021-06-10T20:24:19.668064Z",
     "shell.execute_reply.started": "2021-06-10T20:11:29.095176Z"
    },
    "papermill": {
     "duration": 0.082043,
     "end_time": "2021-06-10T20:24:19.668286",
     "exception": false,
     "start_time": "2021-06-10T20:24:19.586243",
     "status": "completed"
    },
    "tags": []
   },
   "outputs": [
    {
     "data": {
      "text/plain": [
       "(0, 2)"
      ]
     },
     "execution_count": 23,
     "metadata": {},
     "output_type": "execute_result"
    }
   ],
   "source": [
    "predict('Hungary', 'Portugal', False)"
   ]
  },
  {
   "cell_type": "code",
   "execution_count": 24,
   "id": "different-bahamas",
   "metadata": {
    "execution": {
     "iopub.execute_input": "2021-06-10T20:24:19.755227Z",
     "iopub.status.busy": "2021-06-10T20:24:19.754281Z",
     "iopub.status.idle": "2021-06-10T20:24:19.799682Z",
     "shell.execute_reply": "2021-06-10T20:24:19.800316Z",
     "shell.execute_reply.started": "2021-06-10T20:11:12.759459Z"
    },
    "papermill": {
     "duration": 0.091159,
     "end_time": "2021-06-10T20:24:19.800513",
     "exception": false,
     "start_time": "2021-06-10T20:24:19.709354",
     "status": "completed"
    },
    "tags": []
   },
   "outputs": [
    {
     "data": {
      "text/plain": [
       "(0, 1)"
      ]
     },
     "execution_count": 24,
     "metadata": {},
     "output_type": "execute_result"
    }
   ],
   "source": [
    "predict('Germany', 'France', False)"
   ]
  },
  {
   "cell_type": "markdown",
   "id": "royal-directory",
   "metadata": {
    "papermill": {
     "duration": 0.037609,
     "end_time": "2021-06-10T20:24:19.878296",
     "exception": false,
     "start_time": "2021-06-10T20:24:19.840687",
     "status": "completed"
    },
    "tags": []
   },
   "source": [
    "# Summary\n",
    "We have seen how a very simple match predicting model can be trained with XGBoost. I do not expect accuracy to be very high here, but it is a starting point for making more advanced models with more features."
   ]
  },
  {
   "cell_type": "markdown",
   "id": "potential-stations",
   "metadata": {
    "papermill": {
     "duration": 0.039137,
     "end_time": "2021-06-10T20:24:19.956391",
     "exception": false,
     "start_time": "2021-06-10T20:24:19.917254",
     "status": "completed"
    },
    "tags": []
   },
   "source": [
    "## "
   ]
  }
 ],
 "metadata": {
  "kernelspec": {
   "display_name": "Python 3.10.6 64-bit (microsoft store)",
   "language": "python",
   "name": "python3"
  },
  "language_info": {
   "codemirror_mode": {
    "name": "ipython",
    "version": 3
   },
   "file_extension": ".py",
   "mimetype": "text/x-python",
   "name": "python",
   "nbconvert_exporter": "python",
   "pygments_lexer": "ipython3",
   "version": "3.10.6"
  },
  "papermill": {
   "default_parameters": {},
   "duration": 243.941081,
   "end_time": "2021-06-10T20:24:20.805584",
   "environment_variables": {},
   "exception": null,
   "input_path": "__notebook__.ipynb",
   "output_path": "__notebook__.ipynb",
   "parameters": {},
   "start_time": "2021-06-10T20:20:16.864503",
   "version": "2.3.3"
  },
  "vscode": {
   "interpreter": {
    "hash": "67d0030220b6f5c4100a62dcf6422ed188e9f3402ca1449c604e050fe3c4b8d9"
   }
  }
 },
 "nbformat": 4,
 "nbformat_minor": 5
}
