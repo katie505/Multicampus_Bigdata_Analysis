{
 "cells": [
  {
   "cell_type": "markdown",
   "id": "4OXTnzvvthtn",
   "metadata": {
    "id": "4OXTnzvvthtn"
   },
   "source": [
    "- Colab에서 진행 불가. Anaconda에서 진행"
   ]
  },
  {
   "cell_type": "markdown",
   "id": "28d35783-3ca9-45eb-8083-527c1725634c",
   "metadata": {
    "id": "28d35783-3ca9-45eb-8083-527c1725634c"
   },
   "source": [
    "# 셀레니움(Selenium)\n",
    "- Selenium은 주로 웹앱을 테스트하는데 사용하는 프레임워크\n",
    "- webdriver라는 API를 통해 운영체제에 설치된 크롬 등의 브라우저를 제어\n",
    "- Selenium 모듈 설치 후 사용\n",
    "- 사용자 브라우저(Chrome, Edge, ..)에 맞는 webdriver를 다운로드 후 사용 가능\n",
    "- 다운로드 사이트에서 본인이 사용하는 브라우저의 버전등을 확인 후 다운로드\n",
    "- 크롬: https://chromedriver.chromium.org/downloads\n",
    "- Edge: https://developer.microsoft.com/en-us/microsoft-edge/tools/webdriver/\n",
    "- 파이어폭스:https://github.com/mozilla/geckodriver/releases\n",
    "\n",
    "__주의__\n",
    "최근 없데이트되면서 문법 변경됨"
   ]
  },
  {
   "cell_type": "markdown",
   "id": "34428aca-ccb6-47a4-b763-0d511b0c9298",
   "metadata": {
    "id": "34428aca-ccb6-47a4-b763-0d511b0c9298"
   },
   "source": [
    "## webdriver\n",
    "- selenium의 webdriver는 웹 응용 프로그램들의 테스트를 단순화 및 가속화해주는 툴\n",
    "\n",
    "### 크롬 드라이브 다운\n",
    "1. 크롬 브라우저 버전을 확인한다.(크롬브라우저 점3개 클릭-도움말-정보)\n",
    "2. 동일버전의 webdriver을 다운로드 [driver](https://chromedriver.chromium.org/downloads)\n",
    "3. ./tools/chromedirver.exe"
   ]
  },
  {
   "cell_type": "code",
   "execution_count": 3,
   "id": "4c668dbd-728b-451a-a3e6-ff1a18801551",
   "metadata": {
    "id": "4c668dbd-728b-451a-a3e6-ff1a18801551",
    "scrolled": true,
    "tags": []
   },
   "outputs": [
    {
     "name": "stdout",
     "output_type": "stream",
     "text": [
      "Requirement already satisfied: selenium in c:\\users\\daess\\anaconda3\\lib\\site-packages (4.3.0)\n",
      "Requirement already satisfied: urllib3[secure,socks]~=1.26 in c:\\users\\daess\\anaconda3\\lib\\site-packages (from selenium) (1.26.7)\n",
      "Requirement already satisfied: trio-websocket~=0.9 in c:\\users\\daess\\anaconda3\\lib\\site-packages (from selenium) (0.9.2)\n",
      "Requirement already satisfied: trio~=0.17 in c:\\users\\daess\\anaconda3\\lib\\site-packages (from selenium) (0.21.0)\n",
      "Requirement already satisfied: sniffio in c:\\users\\daess\\anaconda3\\lib\\site-packages (from trio~=0.17->selenium) (1.2.0)\n",
      "Requirement already satisfied: idna in c:\\users\\daess\\anaconda3\\lib\\site-packages (from trio~=0.17->selenium) (3.2)\n",
      "Requirement already satisfied: attrs>=19.2.0 in c:\\users\\daess\\anaconda3\\lib\\site-packages (from trio~=0.17->selenium) (21.2.0)\n",
      "Requirement already satisfied: cffi>=1.14 in c:\\users\\daess\\anaconda3\\lib\\site-packages (from trio~=0.17->selenium) (1.14.6)\n",
      "Requirement already satisfied: outcome in c:\\users\\daess\\anaconda3\\lib\\site-packages (from trio~=0.17->selenium) (1.2.0)\n",
      "Requirement already satisfied: sortedcontainers in c:\\users\\daess\\anaconda3\\lib\\site-packages (from trio~=0.17->selenium) (2.4.0)\n",
      "Requirement already satisfied: async-generator>=1.9 in c:\\users\\daess\\anaconda3\\lib\\site-packages (from trio~=0.17->selenium) (1.10)\n",
      "Requirement already satisfied: pycparser in c:\\users\\daess\\anaconda3\\lib\\site-packages (from cffi>=1.14->trio~=0.17->selenium) (2.20)\n",
      "Requirement already satisfied: wsproto>=0.14 in c:\\users\\daess\\anaconda3\\lib\\site-packages (from trio-websocket~=0.9->selenium) (1.1.0)\n",
      "Requirement already satisfied: PySocks!=1.5.7,<2.0,>=1.5.6 in c:\\users\\daess\\anaconda3\\lib\\site-packages (from urllib3[secure,socks]~=1.26->selenium) (1.7.1)\n",
      "Requirement already satisfied: pyOpenSSL>=0.14 in c:\\users\\daess\\anaconda3\\lib\\site-packages (from urllib3[secure,socks]~=1.26->selenium) (21.0.0)\n",
      "Requirement already satisfied: cryptography>=1.3.4 in c:\\users\\daess\\anaconda3\\lib\\site-packages (from urllib3[secure,socks]~=1.26->selenium) (3.4.8)\n",
      "Requirement already satisfied: certifi in c:\\users\\daess\\anaconda3\\lib\\site-packages (from urllib3[secure,socks]~=1.26->selenium) (2021.10.8)\n",
      "Requirement already satisfied: six>=1.5.2 in c:\\users\\daess\\anaconda3\\lib\\site-packages (from pyOpenSSL>=0.14->urllib3[secure,socks]~=1.26->selenium) (1.16.0)\n",
      "Requirement already satisfied: h11<1,>=0.9.0 in c:\\users\\daess\\anaconda3\\lib\\site-packages (from wsproto>=0.14->trio-websocket~=0.9->selenium) (0.13.0)\n"
     ]
    }
   ],
   "source": [
    "!pip install selenium"
   ]
  },
  {
   "cell_type": "code",
   "execution_count": 3,
   "id": "bf701a60-bc23-486d-8a99-96d458f45a42",
   "metadata": {},
   "outputs": [],
   "source": [
    "from selenium import webdriver\n",
    "import time"
   ]
  },
  {
   "cell_type": "code",
   "execution_count": 8,
   "id": "da336b6d-4b8b-452b-bc88-eb00e09c172f",
   "metadata": {},
   "outputs": [
    {
     "name": "stderr",
     "output_type": "stream",
     "text": [
      "C:\\Users\\Public\\Documents\\ESTsoft\\CreatorTemp/ipykernel_18616/4208031688.py:1: DeprecationWarning: executable_path has been deprecated, please pass in a Service object\n",
      "  driver = webdriver.Chrome('./chromedriver.exe')\n"
     ]
    }
   ],
   "source": [
    "driver = webdriver.Chrome('./chromedriver.exe')\n",
    "naver_url = 'https://www.naver.com'\n",
    "driver.get(naver_url)\n",
    "time.sleep(5)\n",
    "driver.close() #꼭 해줘야함"
   ]
  },
  {
   "cell_type": "markdown",
   "id": "abda1f17-29d5-4f12-8142-3f66ff06c93a",
   "metadata": {
    "id": "abda1f17-29d5-4f12-8142-3f66ff06c93a"
   },
   "source": [
    "### selenium 내장함수\n",
    "\n",
    "#### 1. get()\n",
    "- get() 함수는 입력한 url 주소로 접속하는 함수\n",
    "\n",
    "```python\n",
    "driver.get(\"url 주소\")\n",
    "```\n",
    "\n",
    "#### 2. find_element(By.<location>, \"\")\n",
    "- 정적크롤링의 find과 같은 역할로, 크롤링을 위해 HTML 요소를 찾는 함수\n",
    "```python\n",
    "from selenium.webdriver.common.by import By\n",
    "find_element(By.ID, \"id\")\n",
    "find_element(By.NAME, \"name\")\n",
    "find_element(By.XPATH, \"xpath\")\n",
    "find_element(By.LINK_TEXT, \"link text\")\n",
    "find_element(By.PARTIAL_LINK_TEXT, \"partial link text\")\n",
    "find_element(By.TAG_NAME, \"tag name\")\n",
    "find_element(By.CLASS_NAME, \"class name\")\n",
    "find_element(By.CSS_SELECTOR, \"css selector\")\n",
    "```\n",
    "\n",
    "__참고__ :  구버전의 find_element_by_ ?? 에서 변경되었다. \n",
    "\n",
    "예) find_element(By.CSS_SELECTOR, \"css selector\") \n",
    "- copy 목록의 copy selector를 통해 속성을 찾을 수 있다.\n",
    "```python\n",
    "driver.find_element(By.CSS_SELECTOR, \"a#writeFormBtn\")\n",
    "```\n",
    "\n",
    "    \n",
    "예) find_element(By.ID, \"id\") & find_element(By.CLASS_NAME, \"class name\")\n",
    "- id 속성 혹은 class 속성을 가지고 있는 경우 사용한다.\n",
    "\n",
    "```python    \n",
    "'글쓰기' 버튼 - <a href=\"#\" id=\"writeFormBtn\" class=\"btn_type1 post_write _rosRestrict\" onclick=\"clickcr(this,'abt.wrtlist', '', '', event);\">\n",
    "\n",
    "driver.find_element(By.ID, \"writeFormBtn\")\n",
    "driver.find_element(By.CLASS_NAME, \"btn_type1.post_write._rosRestrict\")\n",
    "```\n",
    "\n",
    "예) find_element(By.XPATH, \"xpath\")\n",
    "- 적당한 id, class 속성이 없을 경우 xpath를 사용가능 \n",
    "- XPATH란 xml 문서의 특정 부분의 위치를 의미한다.\n",
    "- html 요소를 우클릭하고 copy 목록의 copy xpath를 클릭해 사용가능\n",
    "\n",
    "```python\n",
    "driver.find_element(By.XPATH, 'XPath 선택자')\n",
    "\n",
    "# ex) '글쓰기' 버튼의 'Copy XPath'결과 - //*[@id=\"writeFormBtn\"]\n",
    "driver.find_element_by_xpath('//*[@id=\"writeFormBtn\"]')\n",
    "```"
   ]
  },
  {
   "cell_type": "markdown",
   "id": "623df7c7-342c-4f64-b14c-bdd5c69c821a",
   "metadata": {
    "id": "623df7c7-342c-4f64-b14c-bdd5c69c821a"
   },
   "source": [
    "#### 3. find_elements_by_?? ()\n",
    "- 정적 크롤링의 find_all과 같은 역할로, 입력한 태그 및 선택자에 해당하는 모든 html 요소를 찾는 함수이다. \n",
    "- element 뒤에 s가 붙는다. \n",
    "\n",
    "\n",
    "\n",
    "#### 4. click()\n",
    "- html 요소를 클릭하는 함수이다.\n",
    "\n",
    "```python\n",
    "driver.find_element(By.???, \"????\").click()\n",
    "\n",
    "ex) 글쓰기 버튼 클릭\n",
    "driver.find_element(By.CSS_SELECTOR,\"a#writeFormBtn\").click()\n",
    "```\n",
    "\n",
    "#### 5. send_keys()\n",
    "- html 요소에 직접 텍스트를 입력하는 함수이다.\n",
    "\n",
    "```python\n",
    "driver.find_element_by_??().send_keys(\"텍스트\")\n",
    "\n",
    "ex) 검색 칸에 파이썬 입력\n",
    "driver.find_element_by_css_selector(\"input#query\").send_keys(\"파이썬\")\n",
    "```\n",
    "\n"
   ]
  },
  {
   "cell_type": "code",
   "execution_count": 25,
   "id": "cc4ebc74-2efe-4064-b5dc-1de30e149d0f",
   "metadata": {
    "id": "cc4ebc74-2efe-4064-b5dc-1de30e149d0f"
   },
   "outputs": [
    {
     "name": "stderr",
     "output_type": "stream",
     "text": [
      "C:\\Users\\Public\\Documents\\ESTsoft\\CreatorTemp/ipykernel_18616/2609373236.py:5: DeprecationWarning: executable_path has been deprecated, please pass in a Service object\n",
      "  driver = webdriver.Chrome('./chromedriver.exe')\n"
     ]
    },
    {
     "name": "stdin",
     "output_type": "stream",
     "text": [
      "검색어를 입력하세요 어벤져스\n"
     ]
    }
   ],
   "source": [
    "# 네이버 검색\n",
    "from selenium.webdriver.common.by import By\n",
    "from bs4 import BeautifulSoup as bs\n",
    "\n",
    "driver = webdriver.Chrome('./chromedriver.exe')\n",
    "naver_url = 'https://www.naver.com'\n",
    "driver.get(naver_url)\n",
    "time.sleep(1)\n",
    "search_text = input('검색어를 입력하세요')\n",
    "driver.find_element(By.ID, 'query').send_keys(search_text)\n",
    "driver.find_element(By.ID, 'search_btn').click()\n",
    "time.sleep(1)\n",
    "html = driver.page_source\n",
    "soup = bs(html, 'html.parser')\n",
    "driver.close()"
   ]
  },
  {
   "cell_type": "code",
   "execution_count": 26,
   "id": "4ad102eb-0524-478d-97ed-168feac2553b",
   "metadata": {
    "scrolled": true,
    "tags": []
   },
   "outputs": [
    {
     "data": {
      "text/plain": [
       "\"         어벤져스 : 네이버 통합검색          메뉴 영역으로 바로가기 본문 영역으로 바로가기        NAVER   검색                  한글 입력기     자동완성 레이어     최근검색어  전체삭제       @txt@   @date@. 삭제    검색어 저장 기능이 꺼져 있습니다.설정이 초기화 된다면 도움말을 확인해주세요. 최근 검색어 내역이 없습니다.설정이 초기화 된다면 도움말을 확인해주세요.    도움말    자동저장 끄기                자세히보기      관심사를 반영한 컨텍스트 자동완성도움말   컨텍스트 자동완성   컨텍스트 자동완성  ON/OFF 설정은해당기기(브라우저)에 저장됩니다.  자세히    동일한 시간대/연령/남녀별 사용자 그룹의관심사에 맞춰 자동완성을 제공합니다.  로그인 자세히   컨텍스트 자동완성 레이어 닫기      도움말 신고    자동완성 끄기        검색    사용자 링크로그인 내정보 보기(임직원혜택)프로필 사진 변경_님로그아웃@naver.com네이버ID보안설정내인증서네이버 멤버쉽N Pay내 페이포인트내 블로그가입한 카페N Pay환경설정알림전체 알림읽은 알림 삭제모두 삭제알림을 모두 삭제하시겠습니까?확인취소레이어 닫기내 알림 전체보기메일서비스 더보기나만의 즐겨찾기를 추가해 보세요!닫기즐겨찾는 서비스추가추가추가추가즐겨찾기 설정삭제카페뉴스지도스포츠게임블로그포스트사전지식iN날씨메일증권부동산VIBE책쇼핑웹툰영화MYBOX자동차전체 서비스 보기네이버 주요 서비스바로가기 설정전체 서비스 보기 게임 날씨 네이버쇼핑 네이버캐스트 네이버페이New 네이버 MYBOX 뉴스 웹툰 메모 메일 뮤직 부동산 북마크 블로그 사전 소프트웨어 스마트보드 스포츠 시리즈 시리즈on 야구9단 영화 오피스 웹소설 자동차 주소록 증권(금융) 지도 지식iN 지식백과 책 카페 캘린더 네이버TV어학사전 국어사전 영어/영영사전 한자사전 일어사전 중국어사전 프랑스어사전 독일어사전 러시아어사전 베트남어사전 스페인어사전 파파고인기/신규서비스 그라폴리오 포스트 밴드 라인 VIBENew 프리미엄콘텐츠확인취소초기 설정으로 변경     통합이미지어학사전VIEW지식iN인플루언서동영상쇼핑뉴스지도     더보기    도서뮤직지식백과오디오클립학술정보  검색옵션        공유     어벤져스 통합검색 결과        검색옵션 닫기    정렬  관련도순최신순      기간  전체1시간1일1주1개월3개월6개월1년 직접입력옵션펼치기접기     기간 설정시작       기간 설정끝      년(Year)          월(Month)          일(Day)           적용        옵션초기화 검색옵션 가이드              어벤져스   펴고 접기       영화  The Avengers  2012     문서 저장하기   Keep에 저장 Keep 바로가기              동영상 바로재생 강력추천 릴레이 영상        동영상 바로재생 아이언맨 영상        동영상 바로재생 캐릭터 영상        동영상 바로재생 캡틴아메리카 영상       이어서더보기       이전 다음    기본정보        개요 액션미국142분   개봉 2012.04.26.   평점 8.80   관객수 708만명    지구의 안보가 위협당하는 위기의 상황에서 슈퍼히어로들을 불러모아 세상을 구하는, 일명 [어벤져스] 작전. 에너지원 ‘큐브’를 이용한 적의 등장으로 인류가 위험에 처하자 국제평화유지기구인 쉴드 (S.H.I.E.L.D)의 국장 닉 퓨리(사무엘 L.잭슨)는 [어벤져스] 작전을 위해 전 세계에 흩어져 있던 슈퍼히어로들을 찾아나선다. 아이언맨(로버트 다우니 주니어)부터 토르(크리스 헴스워스), 헐크(마크 러팔로), 캡틴 아메리카(크리스 에반스)는 물론, 쉴드의 요원인 블랙 위도우(스칼렛 요한슨), 호크 아이(제레미 레너)까지, 최고의 슈퍼히어로들이 [어벤져스]의 멤버로 모이게 되지만, 각기 개성이 강한 이들의 만남은 예상치 못한 방향으로 흘러가는데… 지구의 운명을 건 거대한 전쟁 앞에 [어벤져스] 작전은 성공할 수 있을까? 더보기    네이버 영화정보확인 내용 열고 닫기  네이버가 운영하는 영화 서비스입니다. 관객수는 영화진흥위원회 통합전산망 데이터로 업데이트되고 있습니다. 영화진흥위원회에서는 2005년 이후 개봉 영화부터 정확한 관객수를 집계하고 있어 이전 개봉 영화의 경우 관객수 데이터가 제공되지 않는 점 이용에 참고 부탁드립니다. 정보확인 레이어 닫기  다른 사이트 더보기        어벤져스 더보기                 문서 저장하기  Keep에 저장 Keep 바로가기       namu.wiki›어벤져스(영화)     어벤져스(영화) - 나무위키          마블 시네마틱 유니버스의 영화. 감독은 조스 웨던. 어벤져스 실사영화 시리즈의 1번째 작품이자 마블 시네마틱 유니버스 페이즈 1의 마지막 작품이다.    장르 슈퍼히어로 SF 액션 어드벤처 판타지   제작 케빈 파이기   배급사 월트 디즈니 스튜디오스 모션 픽처스 소니 픽처스 릴리징 브에나 비스타 영화   개봉일 2012년 4월 26일 2012년 5월 4일         개요   소개   예고편   시놉시스   등장인물   줄거리   평가   흥행   번역   사운드트랙        문서 저장하기  Keep에 저장 Keep 바로가기       namu.wiki›어벤져스     어벤져스 - 나무위키       마블 코믹스의 대표적인 슈퍼히어로 팀. 1963년 만화 《어벤져스》 1호에서 첫등장했다. 우리말로는 '복수자들'. 이름의 의미는 '지구를 지켜내지 못한다면 지구를 대신해서 복수하겠다.'는 뜻이다. '복수'는 공격받은 다음에 움직인다는 뜻이므로, 슈퍼히어로의 본질이 무분별한 전쟁이 아닌, 평화와 정의를 유지하는 활동이라는 이념을 담은 명칭이다. (이념이 그렇다는 것이므로, 반드시 당하고 나서 반격만 하는 것은 아니다.)...        프로필   행적   만화   미디어 믹스   여담   특징   주요 멤버   결성   전개   마블 나우!        문서 저장하기  Keep에 저장 Keep 바로가기       namu.wiki›어벤져스(마블_시네마틱_유니버스)     어벤져스(마블 시네마틱 유니버스) - 나무위키       마블 시네마틱 유니버스에 등장하는 어벤져스. 지구를 배경으로 활동하는 슈퍼히어로 팀.    설립년도 2012년         개요   설명   거점   멤버   역사   미래   여담   둘러보기   외부 링크   헬리캐리어        문서 저장하기  Keep에 저장 Keep 바로가기       www.facebook.com›페이지›관심사›영화›Avengers    인증   Avengers - 홈       Avengers. 좋아하는 사람 15,422,814명 · 이야기하고 있는 사람들 5,602명. The official Facebook page for all things Marvel's Avengers.          검색결과 더보기    \\n 인플루언서이 정보가 표시된 이유네이버 인플루언서로 활동하는 창작자의 콘텐츠를 검색 결과에서 제공합니다.자세히 보기정보확인 레이어 닫기서비스 홈 바로가기전체\\n46명영화 전문블로거\\n45명감독/연출가\\n1명이전다음금마음에 든다면 팬이 되어보세요!더이상 청우님의 팬이 아닙니다.이제 알림을 받지 않습니다.청우영화 전문블로거\\nSF 장르 전문\\n팬 1.5만+미국 영화-500편 이상 리뷰\\n영화 분야 소식리뷰한 작품 수미국 영화-500편 이상 리뷰창작 분야영화 분야 소식자세히 보기블로그이전다음어벤져스 5 감독 샹치를 연출한 데스틴 크리튼 감독 확정\\n어벤져스: 엔드게임 감독 앤서니 루소, 조 루소 출연 로버트 다우니 주니어, 크리스 에반스, 크리스 헴스워스, 마크 러팔로, 스칼릿 조핸슨, 제레미 레너, 돈 치들, 폴 러드, 브리 라슨, 카렌 길런, 브래들리 쿠퍼, 조슈...2일 전청우 의 참여 콘텐츠 18개 더보기함께 볼만한 검색어이 정보가 표시된 이유문서를 기반으로 함께 볼만한 검색어를 분석하여 제공하는 서비스입니다.피드백 제공하기\\n도움말정보확인 레이어 닫기어벤져스: 엔드게임이전다음함께 볼만한 검색어 닫기은마음에 든다면 팬이 되어보세요!더이상 김덮밥님의 팬이 아닙니다.이제 알림을 받지 않습니다.김덮밥영화 전문블로거\\n역사 장르 전문\\n팬 1.5만+이달의 블로그 (2016.7)\\n영화 리뷰창작 분야영화 리뷰자세히 보기블로그이전다음마블 페이즈6 어벤져스5 캉 다이너스티 6편까지!\\n마블 페이즈6 어벤져스5 캉 다이너스티 6편까지! 미국 현지 시각으로 저번 7월 21일부터 24일까지 2022 샌디에이고 코믹콘이 열렸다. 그러고보니 끝난지 얼마 되지 않았다. 그곳에서 마블 스튜디오 수장인 케빈 파이기가...2일 전김덮밥의 참여 콘텐츠 2개 더보기동마음에 든다면 팬이 되어보세요!더이상 나임상님의 팬이 아닙니다.이제 알림을 받지 않습니다.나임상영화 전문블로거\\n호러 장르 전문\\n팬 8,088영화 분야 소식창작 분야영화 분야 소식자세히 보기블로그이전다음MCU 마블 영화 어벤져스 5 6 제작 코믹콘 공식 발표 타이틀 정보 공개\\n2022년 샌디에이고 코믹콘 마지막 날(24일), 마블 스튜디오가 <어벤져스 5>와 <어벤져스 6>의 제작을 공식 발표했습니다. <어벤져스: 엔드게임>(2019) 이후 아이언맨, 캡틴 아메리카, 블랙 위도우가 차례대로 마블...5일 전나임상의 참여 콘텐츠 3개 더보기인플루언서 더보기그루터기그루터기그루터기그루터...님의 팬이 되었습니다.OFF\\nON알림\\n소식 알림을 받으시겠어요?닫기그루터기그루터기그루터기그루터...님의팬입니다.팬하기 취소OFF\\nON알림\\n소식 알림을 받으시겠어요?닫기음성으로 안내되고 있습니다시작음 3회 반복 후 재생새로고침\\n음성으로 듣기\\n이미지로 보기자동팬하기 방지를 위한 보안절차입니다.\\n확인닫기    VIEW   전체 블로그 카페  기본뷰 타임라인뷰 멀티미디어뷰       전체   카페글   무드등   나타샤   ost악보   펜션   티어   키링   상황문답   그리기   인형   토르   블랙팬서   호크아이   예고편   로고   만화책   핫토이   발키리   dc코믹스   토니스타크   이전 다음           문서 저장하기  Keep에 저장 Keep 바로가기        공식2022.05.10.  씨네플레이  마블 예습이 부담스러운 당신에게 : <어벤져스: 엔드게임> 이후 MCU 드라마 6편    <어벤져스: 엔드게임> 속 로키의 돌발행동으로부터 사건이 시작된다는 설정으로, 본격적으로 로키와... <어벤져스 엔드게임>을 시간적 배경으로 둔 시리즈인 만큼 마블 멀티버스의 시작점을 새롭게 알리고 있다....   13   #마블 #디즈니플러스 #MCU드라마 #닥터스트레인지 #로키 #완다비전 #왓이프 #팔콘과윈터솔져 #호크아이 #문나이트   4년 만에 돌아온 <마녀2>, 처음부터 끝까지 어벤져스는 없었다(#마녀 #마녀2) 원숭이부터 언데드 어벤져스까지, 마블 멀티버스 대탐험!(#마블코믹스 #마블히어로)   함께 볼만한 검색어  이 정보가 표시된 이유  문서를 기반으로 함께 볼만한 검색어를 분석하여 제공하는 서비스입니다.  피드백 제공하기도움말  정보확인 레이어 닫기         닥터 스트레인지: 대혼돈의 멀티버스   함께 볼만한 검색어 닫기   함께 볼만한 검색어  이 정보가 표시된 이유  문서를 기반으로 함께 볼만한 검색어를 분석하여 제공하는 서비스입니다.  피드백 제공하기도움말  정보확인 레이어 닫기         마녀        마녀(魔女) Part2. The Other One   함께 볼만한 검색어 닫기   함께 볼만한 검색어  이 정보가 표시된 이유  문서를 기반으로 함께 볼만한 검색어를 분석하여 제공하는 서비스입니다.  피드백 제공하기도움말  정보확인 레이어 닫기         스파이더맨: 뉴 유니버스   함께 볼만한 검색어 닫기      문서 저장하기  Keep에 저장 Keep 바로가기        인플루언서2022.07.18.  영화, 생각  <미즈 마블> - 어벤져스 부속 유치원    초기 드라마들은 기존 어벤져스 출연진으로 꾸리다가 <문 나이트>처럼 이름값은 기대할 수 있는 배우들로... 초반부 에피소드엔 어벤져스 박람회인 어벤져콘이 꽤 인기있는 행사로 묘사되기도 하구요. 여느 수퍼히어로...   9   #미즈마블 #리뷰 #드라마      문서 저장하기  Keep에 저장 Keep 바로가기        인플루언서2022.02.04.  블랑부케'story  어벤져스 시리즈 순서 : 마블 순서 총정리!    마블 새내기분들을 위해 어벤져스 시리즈 순서(마블 시리즈 순서) 개봉순으로 정리해 볼게요. 어벤져스 시리즈 순서 아이언맨 2008년 천재 토니 스타크의 아이언맨 탄생 인크레더블 헐크 2008년 브루스 배너 박사...   21   #어벤져스시리즈순서 #마블시리즈순서 #어벤져스순서 #어벤져스보는순서 #어벤져스영화순서 #마블보는법      문서 저장하기  Keep에 저장 Keep 바로가기        인플루언서2022.04.23.  영화를 소개하는 남자  복습하는 시간! 마블 & 어벤져스 영화 및 드라마 시리즈 순서 및 한 번에 정리    천둥의 신 토르와 로키의 첫 시작을 알리기엔 좋았지만 <어벤져스>를 위한 징검다리 역할을 한 느낌이... -06- 어벤져스 (2012) 감독| 조스 웨던 출연| 로버트 다우니 주니어 등 줄거리, 에너지원 '큐브'를 이용한 적 '로키'의...   110   #마블시리즈 #마블시리즈순서 #마블 #어벤져스시리즈 #어벤져스시리즈순서 #MCU #MCU순서 #마블순서 #닥터스트레인지대혼돈의멀티버스 #영화   마블 코믹스 '뉴 어벤져스', '시크릿 워즈' - 영화 <닥터 스트레인지 2: 대혼돈의 멀티버스> 속 인커전에 대해(#시크릿워즈 #뉴어벤져스)   함께 볼만한 검색어  이 정보가 표시된 이유  문서를 기반으로 함께 볼만한 검색어를 분석하여 제공하는 서비스입니다.  피드백 제공하기도움말  정보확인 레이어 닫기         아이언맨        인크레더블 헐크        아이언맨 2        토르: 천둥의 신        퍼스트 어벤져    이전 다음 함께 볼만한 검색어 닫기   함께 볼만한 검색어  이 정보가 표시된 이유  문서를 기반으로 함께 볼만한 검색어를 분석하여 제공하는 서비스입니다.  피드백 제공하기도움말  정보확인 레이어 닫기         닥터 스트레인지: 대혼돈의 멀티버스   함께 볼만한 검색어 닫기      문서 저장하기  Keep에 저장 Keep 바로가기        인플루언서2022.05.22.  천천히 꾸준히(Slow and Steady)  분노의 질주 : 더 얼티메이트 - 너희도 어벤져스    영화를 보다보니 야들도 어벤져스라고 해도 전혀 지장이 없을 듯하다. 초능력은 없지만 실제로 그다지... 이 정도면 어벤져스와 맞짱을 떠도 그다지 문제가 없을 듯하다. 이번 편에서 핵심은 자석이라고 할 수 있지...   3   #천천히꾸준히 #1등리뷰어 #분노의질주 #더얼티메이트 #빈디젤   함께 볼만한 검색어  이 정보가 표시된 이유  문서를 기반으로 함께 볼만한 검색어를 분석하여 제공하는 서비스입니다.  피드백 제공하기도움말  정보확인 레이어 닫기         분노의 질주: 더 얼티메이트   함께 볼만한 검색어 닫기      문서 저장하기  Keep에 저장 Keep 바로가기        인플루언서2일 전  Der Sinn des Lebens  마블 페이즈6 어벤져스5 캉 다이너스티 6편까지!    마블 페이즈6 어벤져스5 캉 다이너스티 6편까지! 미국 현지 시각으로 저번 7월 21일부터 24일까지 2022... 이후 어벤져스 캉 다이너스티가 2025년 5월 2일에 찾아오게 되고 이후 동일한 시리즈인데 부제가 다른 시크릿 워즈가...   12   #마블페이즈6 #어벤져스 #마블페이즈 #마블 #어벤져스5 #어벤져스캉다이너스티 #어벤져스5캉다이너스티 #어벤져스6 #마블영화 #정보      문서 저장하기  Keep에 저장 Keep 바로가기        인플루언서4일 전  세계의 영화지도  미즈 마블과 마블페이즈4가 보여준 실망과 차기 어벤져스가 기대되지 않는 이유 MCU 디즈니플러스    미즈 마블과 마블페이즈4가 보여준 실망과 차기 어벤져스가 기대되지 않는 이유 MCU 디즈니플러스 <미즈 마블... 마블페이즈4가 거둔 부진한 성과는 단순 ‘어벤져스 사가’의 종료로 인한 기존 히어로의 하차에서 비롯되지...   5   #미즈마블 #마블페이즈4 #MCU #어벤져스 #차기어벤져스 #디즈니플러스 #미즈마블흥행      문서 저장하기  Keep에 저장 Keep 바로가기        인플루언서5일 전  써니 아저씨의 솔직한 영화 이야기  MCU 마블 영화 어벤져스 5 6 제작 코믹콘 공식 발표 타이틀 정보 공개    2022년 샌디에이고 코믹콘 마지막 날(24일), 마블 스튜디오가 <어벤져스 5>와 <어벤져스 6>의 제작을 공식 발표했습니다. <어벤져스: 엔드게임>(2019) 이후 아이언맨, 캡틴 아메리카, 블랙 위도우가 차례대로 마블 시네마틱...   15   #어벤져스5 #어벤져스6 #어벤져스캉제국 #어벤져스시크릿워 #마블영화 #MCU #코믹콘 #제작 #발표 #타이틀   마블 영화 어벤져스 5 캉 다이너스티 샹치 감독이 연출 MCU(#어벤져스5 #어벤져스캉다이너스티) 어벤져스 엔드게임 조 루소 감독 마블의 MCU 영화 제작 개입 공개(#어벤져스엔드게임 #조루소)      문서 저장하기  Keep에 저장 Keep 바로가기        인플루언서2022.03.14.  마시우가 영화 본다  마블 영화 순서 페이즈2 MCU 어벤져스 시리즈 안내    더불어 MCU의 어벤져스 시리즈까지 한눈에 볼 수 있도록 알려드리려고 하는데요. 이 글을 참고하여 <닥터... 11 ˙˚어벤져스 에이지 오브 울트론˚˙ 감독 : 조스 웨던 개봉 : 2015년 04월 23일 소개 : 마블 페이즈2, 다섯...   9   #마블 #마블영화 #마블영화순서 #어벤져스시리즈순서 #시리즈영화 #마블시리즈순서 #마블시리즈 #마블페이즈2 #MCU   마블 영화 어벤져스 시리즈 순서 개봉 순으로 살펴보자(#마블영화 #마블영화순서)   함께 볼만한 검색어  이 정보가 표시된 이유  문서를 기반으로 함께 볼만한 검색어를 분석하여 제공하는 서비스입니다.  피드백 제공하기도움말  정보확인 레이어 닫기         아이언맨 3        토르: 다크 월드        캡틴 아메리카: 윈터 솔져        가디언즈 오브 갤럭시        어벤져스: 에이지 오브 울트론        앤트맨    이전 다음 함께 볼만한 검색어 닫기   VIEW 더보기                           정보를 가져오는 중입니다.       검색결과가 없습니다. 옵션을 재선택 하시거나 초기화 해보시기 바랍니다. 초기화      죄송합니다. 일시적인 오류입니다. 잠시 후 다시 시도해주십시오. 재시도           다른 ‘어벤져스’를 찾으세요?          영화 어벤져스 펴고 접기            어벤져스: 엔드게임   액션2019           어벤져스: 인피니티 워   액션2018           어벤져스: 에이지 오브 울트론   액션2015            게임 어벤져스 펴고 접기            마블 어벤져스   에이도스 몬트리올,크리스털 다이나믹스                       지식백과         어벤저스어벤져스    대중 매체 마블 코믹스 어벤저스 (마블 코믹스) 어벤져스 (애니메이션) 어벤져스 (영화) 어벤져스: 에이지 오브 울트론 어벤져스: 인피니티 워 어벤져스: 엔드게임 기타 《 어벤저스 》( The Avengers , 1950) - 미국의 영화. 《어벤저스》( The Avengers , ****~****) - 영국의 드라마. 《어벤저》( The Avengers , 1998) - 미국의 영화. 교통 수단 항공기 맥도넬 더글라스 A-12 어벤저 아브로 어벤저 그러먼 TBF 어벤저 자동차 힐만 어벤저 닷지 어벤저 선박...   위키백과         어벤져스 (영화)    《 어벤져스 》( 영어: The Avengers )는 마블 스튜디오가 제작하고 월트 디즈니 픽처스가 배급하여 개봉된 2012년 미국의 슈퍼 히어로 영화이다. 마블 코믹스에 등장하는 동명의 슈퍼히어로 팀을 바탕으로 하고 있다. 2005년 4월 마블 스튜디오가 메릴린치에서 대출을 받아 기획이 시작되고 2008년 5월 아이언맨이 성공한 후 어벤져스가 2011년 7월에 발표되었고, 2012년으로 개봉이 연기되었다. 2010년 4월 조스 위던 감독과 잭 펜이 집필한 각본을 다시 각색하기 위해...   위키백과         마블 어벤져스    마블 어벤져스 (Marvel's Avengers)는 크리스털 다이내믹스가 개발하고 스퀘어 에닉스의 유럽 자회사가 배급한 2020년 액션 롤플레잉 게임 브롤러 게임이다. 마블 코믹스 슈퍼히어로 팀 어벤저스에 기반한 이 게임은 주로 마블 시네마틱 유니버스의 이 그룹의 시리즈에 영향을 받았지만 이 팀의 장기간행물 만화책 신화의 여러 요소들을 포함하고 있다. 이 게임은 3인칭 관점에서 플레이되며 일인용, 다인용 모드를 지원한다. 초기 명단에는 아이언맨, 캡틴 아메리카...   위키백과         지식백과 더보기             영어사전   다른 어학정보4     파파고   중국어2   프랑스어1   루마니아어1   정보확인 레이어 닫기         avenger      미국∙영국[əvéndƷər]발음듣기        복수하는 사람, 원수를 갚는 사람        영어사전 다른 뜻 1    어학사전 더보기        이전  1 2 3 4 5 6 7 8 9 10  다음      연관 검색어도움말  신고검색어제안 기능 닫기       어벤져스 엔드게임     어벤져스: 인피니티 워     어벤져스: 엔드게임     어벤져스 인피니티 워     어벤져스 시리즈 순서     어벤져스: 엔드게임 출연진     어벤져스: 엔드게임 정보     어벤져스: 엔드게임 평점     어벤져스 등장인물     어벤져스1     더보기  1주일간 닫힘 상태가 유지됩니다. 다시 보시겠습니까?열기           코로나19 확진현황 및 백신·접종 정보      신속항원검사 내 주변 검사기관 찾기      코로나19 팩트체크 코로나백신 결과 보기      잔여백신예약 내 주변 잔여백신 찾기          맨위로    전체서비스 이용약관 개인정보처리방침 통합검색 고객센터 © NAVER Corp.            \""
      ]
     },
     "execution_count": 26,
     "metadata": {},
     "output_type": "execute_result"
    }
   ],
   "source": [
    "soup.text"
   ]
  },
  {
   "cell_type": "markdown",
   "id": "412b1a28-037f-49ed-b546-207915e1d56e",
   "metadata": {
    "id": "412b1a28-037f-49ed-b546-207915e1d56e"
   },
   "source": [
    "# 브라우저를 통한 웹페이지 제어"
   ]
  },
  {
   "cell_type": "code",
   "execution_count": null,
   "id": "a41ee644-a378-45c4-b735-3082777c0787",
   "metadata": {
    "id": "a41ee644-a378-45c4-b735-3082777c0787"
   },
   "outputs": [],
   "source": []
  },
  {
   "cell_type": "markdown",
   "id": "5529c75d-38dd-43a6-bbe6-b1cd83b8e2b1",
   "metadata": {
    "id": "5529c75d-38dd-43a6-bbe6-b1cd83b8e2b1"
   },
   "source": [
    "# 파파고 번역기"
   ]
  },
  {
   "cell_type": "markdown",
   "id": "c595d5fa-899d-4239-8578-648f2a834d67",
   "metadata": {
    "id": "c595d5fa-899d-4239-8578-648f2a834d67"
   },
   "source": [
    "##### 대상 사이트 살펴보기\n",
    "\n",
    "\n",
    "\n",
    "1. 동적 크롤링 진행 순서\n",
    "   1. 번역할 내용 입력\n",
    "   2. 번역 버튼 클릭\n",
    "   3. 번역 결과 수집\n",
    "2. 필요한 요소의 태그, 선택자 확인\n",
    "\n",
    "바로 clear() 함수를 사용해 HTML 요소를 초기화한다.\n",
    "\n"
   ]
  },
  {
   "cell_type": "code",
   "execution_count": 4,
   "id": "3d31d137-4c03-4547-9d18-8da70a2a1a73",
   "metadata": {},
   "outputs": [
    {
     "name": "stderr",
     "output_type": "stream",
     "text": [
      "C:\\Users\\Public\\Documents\\ESTsoft\\CreatorTemp/ipykernel_8808/3734734608.py:5: DeprecationWarning: executable_path has been deprecated, please pass in a Service object\n",
      "  driver = webdriver.Chrome('./chromedriver.exe')\n"
     ]
    },
    {
     "name": "stdin",
     "output_type": "stream",
     "text": [
      "번역할 내용을 입력하세요 :  Hello World\n"
     ]
    },
    {
     "name": "stdout",
     "output_type": "stream",
     "text": [
      "번역 결과 :  안녕 세계\n"
     ]
    }
   ],
   "source": [
    "# 파파고 번역\n",
    "from selenium.webdriver.common.by import By\n",
    "from bs4 import BeautifulSoup as bs\n",
    "\n",
    "driver = webdriver.Chrome('./chromedriver.exe')\n",
    "naver_url = 'https://papago.naver.com/'\n",
    "driver.get(naver_url)\n",
    "time.sleep(1)\n",
    "search_text = input('번역할 내용을 입력하세요 : ')\n",
    "driver.find_element(By.ID, 'txtSource').send_keys(search_text)\n",
    "driver.find_element(By.ID, 'btnTranslate').click()\n",
    "driver.find_element(By.ID, 'txtSource').clear()\n",
    "time.sleep(1)\n",
    "html = driver.page_source\n",
    "soup = bs(html, 'html.parser')\n",
    "print('번역 결과 : ', soup.find('div', {'id':'targetEditArea'}).text)\n",
    "driver.close()"
   ]
  },
  {
   "cell_type": "code",
   "execution_count": 9,
   "id": "50364fd3-afd7-403a-84d5-acf938c8b703",
   "metadata": {},
   "outputs": [],
   "source": [
    "def get_driver(site):\n",
    "    driver = webdriver.Chrome(\"./chromedriver.exe\")\n",
    "    papago_url = site\n",
    "    driver.get(site)\n",
    "    return driver\n",
    "\n",
    "def get_papago(driver, eng):\n",
    "    driver.find_element(By.CSS_SELECTOR, \"#txtSource\").send_keys(eng)\n",
    "    time.sleep(1)\n",
    "    kor = driver.find_element(By.CSS_SELECTOR, \"#txtTarget\").text\n",
    "    print(\"번역 : \", kor)\n",
    "    driver.close()\n",
    "    return kor\n",
    "\n",
    "\n",
    "def main():\n",
    "    if __name__ == \"__main__\":\n",
    "        site = \"https://papago.naver.com/\"\n",
    "        driver = get_driver(site)\n",
    "        eng = input(\"영어 문장을 입력하세요 : \")\n",
    "        get_papago(driver, eng)"
   ]
  },
  {
   "cell_type": "code",
   "execution_count": 3,
   "id": "a018cb85-0737-4329-af5e-985b51eb9663",
   "metadata": {},
   "outputs": [
    {
     "name": "stderr",
     "output_type": "stream",
     "text": [
      "C:\\Users\\Public\\Documents\\ESTsoft\\CreatorTemp/ipykernel_21772/1432791677.py:5: DeprecationWarning: executable_path has been deprecated, please pass in a Service object\n",
      "  driver = webdriver.Chrome('./chromedriver.exe')\n"
     ]
    },
    {
     "name": "stdin",
     "output_type": "stream",
     "text": [
      "번역할 내용을 입력하세요 :  Hello World\n"
     ]
    },
    {
     "name": "stdout",
     "output_type": "stream",
     "text": [
      "번역 :  안녕 세계\n"
     ]
    }
   ],
   "source": [
    "# 파파고 번역\n",
    "from selenium.webdriver.common.by import By\n",
    "from bs4 import BeautifulSoup as bs\n",
    "\n",
    "driver = webdriver.Chrome('./chromedriver.exe')\n",
    "naver_url = 'https://papago.naver.com/'\n",
    "driver.get(naver_url)\n",
    "\n",
    "# 단어 입력\n",
    "eng = input('번역할 내용을 입력하세요 : ')\n",
    "driver.find_element(By.CSS_SELECTOR, '#txtSource').send_keys(eng)\n",
    "time.sleep(1)\n",
    "kor = driver.find_element(By.CSS_SELECTOR, '#txtTarget').text\n",
    "print('번역 : ', kor)\n",
    "driver.close()"
   ]
  },
  {
   "cell_type": "code",
   "execution_count": 10,
   "id": "e64ad60d-77b9-4a16-8b2b-10324b0a59cb",
   "metadata": {},
   "outputs": [
    {
     "name": "stderr",
     "output_type": "stream",
     "text": [
      "C:\\Users\\Public\\Documents\\ESTsoft\\CreatorTemp/ipykernel_8808/1356735250.py:2: DeprecationWarning: executable_path has been deprecated, please pass in a Service object\n",
      "  driver = webdriver.Chrome(\"./chromedriver.exe\")\n"
     ]
    },
    {
     "name": "stdin",
     "output_type": "stream",
     "text": [
      "영어 문장을 입력하세요 :  Hello World\n"
     ]
    },
    {
     "name": "stdout",
     "output_type": "stream",
     "text": [
      "번역 :  안녕 세계\n"
     ]
    }
   ],
   "source": [
    "# 결과를 파일에 저장하는 방법\n",
    "import csv\n",
    "def main():\n",
    "    if __name__ == '__main__':\n",
    "        f = open('./papago_result.csv', 'w', newline = \"\")\n",
    "        wtr = csv.writer(f)\n",
    "        wtr.writerow(['eng', 'kor'])\n",
    "        site = 'https://papago.naver.com/'\n",
    "        driver = get_driver(site)\n",
    "        eng = input('영어 문장을 입력하세요 : ')\n",
    "        kor = get_papago(driver, eng)\n",
    "        wtr.writerow([eng, kor])\n",
    "        \n",
    "main()"
   ]
  },
  {
   "cell_type": "markdown",
   "id": "9990fe53-0bed-4dcd-a564-07a570e7e5a7",
   "metadata": {
    "id": "9990fe53-0bed-4dcd-a564-07a570e7e5a7"
   },
   "source": [
    "# 네이버 로그인"
   ]
  },
  {
   "cell_type": "code",
   "execution_count": 11,
   "id": "655a92a0-d501-45c1-8ab6-577ebf079d4d",
   "metadata": {},
   "outputs": [
    {
     "name": "stdout",
     "output_type": "stream",
     "text": [
      "Collecting pyperclip\n",
      "  Downloading pyperclip-1.8.2.tar.gz (20 kB)\n",
      "Building wheels for collected packages: pyperclip\n",
      "  Building wheel for pyperclip (setup.py): started\n",
      "  Building wheel for pyperclip (setup.py): finished with status 'done'\n",
      "  Created wheel for pyperclip: filename=pyperclip-1.8.2-py3-none-any.whl size=11136 sha256=ae191899fdc7068d7dda51ff870a8d2f7fba031671492853f904710817272439\n",
      "  Stored in directory: c:\\users\\daess\\appdata\\local\\pip\\cache\\wheels\\0c\\09\\9e\\49e21a6840ef7955b06d47394afef0058f0378c0914e48b8b8\n",
      "Successfully built pyperclip\n",
      "Installing collected packages: pyperclip\n",
      "Successfully installed pyperclip-1.8.2\n"
     ]
    }
   ],
   "source": [
    "!pip install pyperclip"
   ]
  },
  {
   "cell_type": "code",
   "execution_count": 12,
   "id": "dd192738-cab6-47e2-917e-a2cf3aa3694f",
   "metadata": {
    "id": "dd192738-cab6-47e2-917e-a2cf3aa3694f"
   },
   "outputs": [],
   "source": [
    "from selenium.webdriver import Chrome\n",
    "from selenium.webdriver.common.by import By\n",
    "from selenium.webdriver.common.keys import Keys\n",
    "from selenium.webdriver.common.action_chains import ActionChains\n",
    "import pyperclip\n",
    "import time"
   ]
  },
  {
   "cell_type": "code",
   "execution_count": 13,
   "id": "79e42214-1a62-490b-bce6-c8c4c9a52a0c",
   "metadata": {},
   "outputs": [],
   "source": [
    "# 웹크롤링 입력요소\n",
    "# id\n",
    "# password\n",
    "# api 인증기"
   ]
  },
  {
   "cell_type": "code",
   "execution_count": 14,
   "id": "9638201a-7448-4ea8-9536-095c17890c46",
   "metadata": {},
   "outputs": [],
   "source": [
    "import getpass"
   ]
  },
  {
   "cell_type": "code",
   "execution_count": 23,
   "id": "074755f3-4bdb-4df0-bb83-1c279a53c3d9",
   "metadata": {},
   "outputs": [
    {
     "name": "stderr",
     "output_type": "stream",
     "text": [
      "C:\\Users\\Public\\Documents\\ESTsoft\\CreatorTemp/ipykernel_8808/1870464629.py:1: DeprecationWarning: executable_path has been deprecated, please pass in a Service object\n",
      "  driver = webdriver.Chrome('./chromedriver.exe')\n"
     ]
    },
    {
     "name": "stdin",
     "output_type": "stream",
     "text": [
      "id를 입력하세요 :  ········\n",
      "pw를 입력하세요 :  ··············\n",
      "제목을 입력하세요 :  안녕하세요\n",
      "내용을 입력하세요 :  Hello World\n"
     ]
    },
    {
     "ename": "AttributeError",
     "evalue": "type object 'By' has no attribute 'button'",
     "output_type": "error",
     "traceback": [
      "\u001b[1;31m---------------------------------------------------------------------------\u001b[0m",
      "\u001b[1;31mAttributeError\u001b[0m                            Traceback (most recent call last)",
      "\u001b[1;32mC:\\Users\\Public\\Documents\\ESTsoft\\CreatorTemp/ipykernel_8808/1870464629.py\u001b[0m in \u001b[0;36m<module>\u001b[1;34m\u001b[0m\n\u001b[0;32m     42\u001b[0m \u001b[0mtime\u001b[0m\u001b[1;33m.\u001b[0m\u001b[0msleep\u001b[0m\u001b[1;33m(\u001b[0m\u001b[1;36m1\u001b[0m\u001b[1;33m)\u001b[0m\u001b[1;33m\u001b[0m\u001b[1;33m\u001b[0m\u001b[0m\n\u001b[0;32m     43\u001b[0m \u001b[1;33m\u001b[0m\u001b[0m\n\u001b[1;32m---> 44\u001b[1;33m \u001b[0mdriver\u001b[0m\u001b[1;33m.\u001b[0m\u001b[0mfind_element\u001b[0m\u001b[1;33m(\u001b[0m\u001b[0mBy\u001b[0m\u001b[1;33m.\u001b[0m\u001b[0mbutton\u001b[0m\u001b[1;33m,\u001b[0m \u001b[1;34m'button'\u001b[0m\u001b[1;33m)\u001b[0m\u001b[1;33m.\u001b[0m\u001b[0mclick\u001b[0m\u001b[1;33m(\u001b[0m\u001b[1;33m)\u001b[0m\u001b[1;33m\u001b[0m\u001b[1;33m\u001b[0m\u001b[0m\n\u001b[0m",
      "\u001b[1;31mAttributeError\u001b[0m: type object 'By' has no attribute 'button'"
     ]
    }
   ],
   "source": [
    "driver = webdriver.Chrome('./chromedriver.exe')\n",
    "naver_url = 'https://www.naver.com'\n",
    "driver.get(naver_url)\n",
    "driver.find_element(By.CSS_SELECTOR, '#account > a').click()\n",
    "\n",
    "name = getpass.getpass('id를 입력하세요 : ')\n",
    "pw = getpass.getpass('pw를 입력하세요 : ')\n",
    "\n",
    "pyperclip.copy(name)\n",
    "driver.find_element(By.NAME, 'id').clear()\n",
    "driver.find_element(By.NAME, 'id').click()\n",
    "driver.find_element(By.NAME, 'id').send_keys(Keys.CONTROL, 'v')\n",
    "time.sleep(1)\n",
    "\n",
    "pyperclip.copy(pw)\n",
    "driver.find_element(By.NAME, 'pw').clear()\n",
    "driver.find_element(By.NAME, 'pw').click()\n",
    "driver.find_element(By.NAME, 'pw').send_keys(Keys.CONTROL, 'v')\n",
    "time.sleep(1)\n",
    "\n",
    "driver.find_element(By.XPATH, '//*[@id=\"log.login\"]/span').click()\n",
    "\n",
    "blog_url = f'https://blog.naver.com/{name}/postwrite'\n",
    "driver.get(blog_url)\n",
    "\n",
    "# 보통 selector가 없으면 xpath 사용\n",
    "# title_input = input('제목을 입력하세요 : ')\n",
    "# driver.find_element(By.XPATH, '//span[contains(text(),\"제목\")]').click()\n",
    "# action = ActionChains(driver)\n",
    "# action.send_keys(title_input).perform()\n",
    "title = driver.find_element(By.CSS_SELECTOR, '.se-placeholder.__se_placeholder.se-fs32')\n",
    "action = ActionChains(driver)\n",
    "action.move_to_element(title).click().send_keys('title입니다.').perform()\n",
    "\n",
    "content_input = input('내용을 입력하세요 : ')\n",
    "driver.find_element(By.XPATH, '//span[contains(text(),\"본문에\")]').click()\n",
    "action = ActionChains(driver)\n",
    "action.send_keys(content_input).perform()\n"
   ]
  },
  {
   "cell_type": "code",
   "execution_count": 24,
   "id": "fc70624b-4ef7-44f8-bd21-807de6a42bb7",
   "metadata": {},
   "outputs": [],
   "source": [
    "# 네이버 아이디를 새로 하나 만드세요.\n",
    "from selenium import webdriver\n",
    "import time\n",
    "from selenium.webdriver import Chrome\n",
    "from selenium.webdriver.common.by import By\n",
    "from selenium.webdriver.common.keys import Keys\n",
    "from selenium.webdriver.common.action_chains import ActionChains\n",
    "import pyperclip\n",
    "import time\n",
    "import getpass\n",
    "\n",
    "def get_driver(site):\n",
    "    driver = webdriver.Chrome(\"./chromedriver.exe\")\n",
    "    driver.get(site)\n",
    "    driver.find_element(By.CSS_SELECTOR, \"#account > a\").click()\n",
    "    return driver\n",
    "\n",
    "\n",
    "\n",
    "def login_naver(driver, name, pw):\n",
    "    pyperclip.copy(name)\n",
    "    driver.find_element(By.NAME, \"id\").clear()\n",
    "    driver.find_element(By.NAME, \"id\").click()\n",
    "    driver.find_element(By.NAME, \"id\").send_keys(Keys.CONTROL, \"v\")\n",
    "    time.sleep(1)\n",
    "\n",
    "    pyperclip.copy(pw)\n",
    "    driver.find_element(By.NAME, \"pw\").clear()\n",
    "    driver.find_element(By.NAME, \"pw\").click()\n",
    "    driver.find_element(By.NAME, \"pw\").send_keys(Keys.CONTROL, \"v\")\n",
    "\n",
    "    time.sleep(1)\n",
    "    driver.find_element(By.XPATH, '//*[@id=\"log.login\"]/span').click()\n",
    "    return driver\n",
    "\n",
    "def post_blog(driver, name):\n",
    "    blog_url = f\"https://blog.naver.com/{name}/postwrite\"\n",
    "    driver.get(blog_url)\n",
    "    time.sleep(3)\n",
    "\n",
    "    # title = driver.find_element(By.CSS_SELECTOR, \".se-placeholder.__se_placeholder.se-ff-nanumgothic.se-fs32.se-placeholder-focused\")\n",
    "    try:\n",
    "        cancel = driver.find_element(By.CSS_SELECTOR, \".se-popup-button.se-popup-button-cancel\")\n",
    "        if cancel:\n",
    "            cancel.click()\n",
    "    except:\n",
    "        pass\n",
    "\n",
    "    title = driver.find_element(By.CSS_SELECTOR, \".se-placeholder.__se_placeholder.se-fs32\")\n",
    "    action = ActionChains(driver)\n",
    "    action.move_to_element(title).click().send_keys(\"title2 입니다.\").perform()\n",
    "    action.reset_actions()\n",
    "\n",
    "    body = driver.find_element(By.CSS_SELECTOR, \".se-component.se-text.se-l-default\")\n",
    "    action = ActionChains(driver)\n",
    "    action.move_to_element(body).click().send_keys(\"body2 입니다.\").perform()\n",
    "    action.reset_actions()\n",
    "\n",
    "    cancle = driver.find_element(By.CSS_SELECTOR, \".se-help-panel-close-button\")\n",
    "    cancle.click()\n",
    "\n",
    "    send = driver.find_element(By.CSS_SELECTOR, \"#root > div > div.header__BKas7 > div > div.publish_btn_area__tkHIR > div:nth-child(3) > button > span\")\n",
    "    send.click()\n",
    "\n",
    "    send = driver.find_element(By.CSS_SELECTOR, \"#root > div > div.header__BKas7 > div > div.publish_btn_area__tkHIR > div:nth-child(3) > div > div > div > div.layer_btn_area__UshuU > div > button\")\n",
    "    send.click()\n",
    "    return driver"
   ]
  },
  {
   "cell_type": "code",
   "execution_count": 25,
   "id": "a5e042af-717d-41c1-887a-95119363e88b",
   "metadata": {},
   "outputs": [
    {
     "name": "stderr",
     "output_type": "stream",
     "text": [
      "C:\\Users\\Public\\Documents\\ESTsoft\\CreatorTemp/ipykernel_8808/4128114999.py:13: DeprecationWarning: executable_path has been deprecated, please pass in a Service object\n",
      "  driver = webdriver.Chrome(\"./chromedriver.exe\")\n"
     ]
    },
    {
     "name": "stdin",
     "output_type": "stream",
     "text": [
      "id를 입력하세요 :  ········\n",
      "pw를 입력하세요 :  ··············\n"
     ]
    }
   ],
   "source": [
    "site=\"https://www.naver.com\"\n",
    "driver = get_driver(site)\n",
    "name = getpass.getpass(\"id를 입력하세요 : \")\n",
    "pw = getpass.getpass(\"pw를 입력하세요 : \")\n",
    "login_naver(driver, name, pw)\n",
    "driver  = post_blog(driver, name)\n",
    "driver.close()"
   ]
  }
 ],
 "metadata": {
  "colab": {
   "collapsed_sections": [],
   "name": "3_Dynamic_crawling",
   "provenance": [
    {
     "file_id": "1cGcu1TfW2YY-0ZI0izpHD7aSnaiF25wm",
     "timestamp": 1659077224034
    }
   ]
  },
  "kernelspec": {
   "display_name": "Python 3 (ipykernel)",
   "language": "python",
   "name": "python3"
  },
  "language_info": {
   "codemirror_mode": {
    "name": "ipython",
    "version": 3
   },
   "file_extension": ".py",
   "mimetype": "text/x-python",
   "name": "python",
   "nbconvert_exporter": "python",
   "pygments_lexer": "ipython3",
   "version": "3.9.7"
  }
 },
 "nbformat": 4,
 "nbformat_minor": 5
}
