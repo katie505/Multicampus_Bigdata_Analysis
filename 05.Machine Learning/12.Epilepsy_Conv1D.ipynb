{
 "cells": [
  {
   "cell_type": "code",
   "execution_count": 1,
   "id": "c9a8e9fa",
   "metadata": {},
   "outputs": [],
   "source": [
    "import os\n",
    "import pandas as pd\n",
    "import numpy as np\n",
    "import matplotlib.pyplot as plt\n",
    "\n",
    "import tensorflow as tf\n",
    "from tensorflow.keras.models import Sequential, load_model\n",
    "from tensorflow.keras.layers import Dense, SimpleRNN, TimeDistributed, LSTM, GRU, Bidirectional\n",
    "from tensorflow.keras.optimizers import SGD, Adam\n",
    "from tensorflow.keras.callbacks import ModelCheckpoint, TensorBoard, ReduceLROnPlateau"
   ]
  },
  {
   "cell_type": "code",
   "execution_count": 2,
   "id": "437b11f3",
   "metadata": {},
   "outputs": [],
   "source": [
    "Data = np.load('DATA/EpilepsyData.npz', allow_pickle=True)"
   ]
  },
  {
   "cell_type": "code",
   "execution_count": 3,
   "id": "33639111",
   "metadata": {},
   "outputs": [],
   "source": [
    "Train_x = Data['Train_x']\n",
    "Train_y = Data['Train_y']\n",
    "Test_x = Data['Test_x']\n",
    "Test_y = Data['Test_y']"
   ]
  },
  {
   "cell_type": "markdown",
   "id": "c05a0156",
   "metadata": {},
   "source": [
    "### Data Shuffle"
   ]
  },
  {
   "cell_type": "code",
   "execution_count": 5,
   "id": "cfa33ea1",
   "metadata": {},
   "outputs": [
    {
     "data": {
      "text/plain": [
       "array([ 75,  59,  26,  12,  65,  79,  49, 133,  30, 105,   1,  24, 136,\n",
       "        80,  78,  66, 118,  20, 109, 106,  25,  88,  36,  13, 120,  87,\n",
       "        71,  42,  19, 135, 112,  34, 100,  51,  97, 124, 126,  60,  57,\n",
       "       122,  41, 101,  52,  76,  89,  16, 134, 113,  95,  54,  67, 121,\n",
       "        50,  96, 131, 125, 107, 130,  68, 102,   3,   6, 111,  83,  48,\n",
       "        15,  39,  38, 117,  22,  92, 104,  74, 103,  94,  56,  37,   5,\n",
       "         9,  53,  32,  14,  99,  35, 132, 114,  31,  91,  18,  45,  61,\n",
       "        47,  43,  77, 129,  10,  27,  84,  72,  46,  82, 123, 108,  58,\n",
       "       119,  28,  40,  33,  21,   0,  93,  55,  98,  73, 127,  29,  11,\n",
       "        69,  62,  17,  85, 110, 116,  86,  23,   8, 128,   7, 115,   4,\n",
       "        81,  90,  63,  64,  44,   2,  70])"
      ]
     },
     "execution_count": 5,
     "metadata": {},
     "output_type": "execute_result"
    }
   ],
   "source": [
    "arr = np.arange(Train_x.shape[0])\n",
    "np.random.shuffle(arr)\n",
    "arr"
   ]
  },
  {
   "cell_type": "code",
   "execution_count": 6,
   "id": "6328a73b",
   "metadata": {},
   "outputs": [],
   "source": [
    "Train_x = Train_x[arr]\n",
    "Train_y = Train_y[arr]"
   ]
  },
  {
   "cell_type": "code",
   "execution_count": 7,
   "id": "b075a7be",
   "metadata": {},
   "outputs": [],
   "source": [
    "arr = np.arange(Test_x.shape[0])\n",
    "np.random.shuffle(arr)\n",
    "\n",
    "Test_x = Test_x[arr]\n",
    "Test_y = Test_y[arr]"
   ]
  },
  {
   "cell_type": "code",
   "execution_count": 9,
   "id": "540f804e",
   "metadata": {},
   "outputs": [
    {
     "data": {
      "text/plain": [
       "(138, 206, 3)"
      ]
     },
     "execution_count": 9,
     "metadata": {},
     "output_type": "execute_result"
    }
   ],
   "source": [
    "Test_x.shape"
   ]
  },
  {
   "cell_type": "code",
   "execution_count": 12,
   "id": "930b3c2e",
   "metadata": {},
   "outputs": [],
   "source": [
    "n_feature_maps = 64"
   ]
  },
  {
   "cell_type": "code",
   "execution_count": 19,
   "id": "d788863e",
   "metadata": {},
   "outputs": [],
   "source": [
    "input_layer = tf.keras.layers.Input( (206, 3, ) )\n",
    "\n",
    "conv_x = tf.keras.layers.Conv1D(filters=n_feature_maps, kernel_size=8, padding='same')(input_layer)\n",
    "conv_x = tf.keras.layers.BatchNormalization()(conv_x)\n",
    "conv_x = tf.keras.layers.Activation('relu')(conv_x)"
   ]
  },
  {
   "cell_type": "code",
   "execution_count": 20,
   "id": "3d29f682",
   "metadata": {},
   "outputs": [
    {
     "name": "stdout",
     "output_type": "stream",
     "text": [
      "Model: \"model_1\"\n",
      "_________________________________________________________________\n",
      " Layer (type)                Output Shape              Param #   \n",
      "=================================================================\n",
      " input_8 (InputLayer)        [(None, 206, 3)]          0         \n",
      "                                                                 \n",
      " conv1d_8 (Conv1D)           (None, 206, 64)           1600      \n",
      "                                                                 \n",
      " batch_normalization_4 (Batc  (None, 206, 64)          256       \n",
      " hNormalization)                                                 \n",
      "                                                                 \n",
      " activation_3 (Activation)   (None, 206, 64)           0         \n",
      "                                                                 \n",
      "=================================================================\n",
      "Total params: 1,856\n",
      "Trainable params: 1,728\n",
      "Non-trainable params: 128\n",
      "_________________________________________________________________\n"
     ]
    }
   ],
   "source": [
    "model = tf.keras.models.Model(inputs=input_layer, outputs=conv_x)\n",
    "model.summary()"
   ]
  },
  {
   "cell_type": "code",
   "execution_count": 25,
   "id": "3625583b",
   "metadata": {},
   "outputs": [
    {
     "name": "stdout",
     "output_type": "stream",
     "text": [
      "1/1 [==============================] - 0s 12ms/step\n"
     ]
    },
    {
     "data": {
      "text/plain": [
       "(1, 206, 64)"
      ]
     },
     "execution_count": 25,
     "metadata": {},
     "output_type": "execute_result"
    }
   ],
   "source": [
    "model.predict(Train_x[:1]).shape"
   ]
  },
  {
   "cell_type": "code",
   "execution_count": 27,
   "id": "4f6f9917",
   "metadata": {},
   "outputs": [],
   "source": [
    "input_layer = tf.keras.layers.Input( (206, 3, ) )\n",
    "\n",
    "conv_x = tf.keras.layers.Conv1D(filters=n_feature_maps, kernel_size=8, padding='same')(input_layer)\n",
    "conv_x = tf.keras.layers.BatchNormalization()(conv_x)\n",
    "conv_x = tf.keras.layers.Activation('relu')(conv_x)\n",
    "gap_layer = tf.keras.layers.GlobalAveragePooling1D()(conv_x)\n",
    "output_layer = tf.keras.layers.Dense(4, activation='softmax')(gap_layer)"
   ]
  },
  {
   "cell_type": "code",
   "execution_count": 28,
   "id": "5af500fe",
   "metadata": {},
   "outputs": [
    {
     "name": "stdout",
     "output_type": "stream",
     "text": [
      "Model: \"model_2\"\n",
      "_________________________________________________________________\n",
      " Layer (type)                Output Shape              Param #   \n",
      "=================================================================\n",
      " input_10 (InputLayer)       [(None, 206, 3)]          0         \n",
      "                                                                 \n",
      " conv1d_10 (Conv1D)          (None, 206, 64)           1600      \n",
      "                                                                 \n",
      " batch_normalization_6 (Batc  (None, 206, 64)          256       \n",
      " hNormalization)                                                 \n",
      "                                                                 \n",
      " activation_5 (Activation)   (None, 206, 64)           0         \n",
      "                                                                 \n",
      " global_average_pooling1d_1   (None, 64)               0         \n",
      " (GlobalAveragePooling1D)                                        \n",
      "                                                                 \n",
      " dense (Dense)               (None, 4)                 260       \n",
      "                                                                 \n",
      "=================================================================\n",
      "Total params: 2,116\n",
      "Trainable params: 1,988\n",
      "Non-trainable params: 128\n",
      "_________________________________________________________________\n"
     ]
    }
   ],
   "source": [
    "model = tf.keras.models.Model(inputs=input_layer, outputs=output_layer)\n",
    "model.summary()"
   ]
  },
  {
   "cell_type": "code",
   "execution_count": 29,
   "id": "39911584",
   "metadata": {},
   "outputs": [
    {
     "name": "stdout",
     "output_type": "stream",
     "text": [
      "Model: \"model_2\"\n",
      "_________________________________________________________________\n",
      " Layer (type)                Output Shape              Param #   \n",
      "=================================================================\n",
      " input_10 (InputLayer)       [(None, 206, 3)]          0         \n",
      "                                                                 \n",
      " conv1d_10 (Conv1D)          (None, 206, 64)           1600      \n",
      "                                                                 \n",
      " batch_normalization_6 (Batc  (None, 206, 64)          256       \n",
      " hNormalization)                                                 \n",
      "                                                                 \n",
      " activation_5 (Activation)   (None, 206, 64)           0         \n",
      "                                                                 \n",
      " global_average_pooling1d_1   (None, 64)               0         \n",
      " (GlobalAveragePooling1D)                                        \n",
      "                                                                 \n",
      " dense (Dense)               (None, 4)                 260       \n",
      "                                                                 \n",
      "=================================================================\n",
      "Total params: 2,116\n",
      "Trainable params: 1,988\n",
      "Non-trainable params: 128\n",
      "_________________________________________________________________\n"
     ]
    }
   ],
   "source": [
    "model.compile(loss = \"categorical_crossentropy\", optimizer=Adam(learning_rate=0.001), metrics=['accuracy'])\n",
    "model.summary()"
   ]
  },
  {
   "cell_type": "code",
   "execution_count": 30,
   "id": "a76604ed",
   "metadata": {
    "scrolled": true
   },
   "outputs": [
    {
     "name": "stdout",
     "output_type": "stream",
     "text": [
      "Epoch 1/30\n",
      "3/3 [==============================] - 1s 77ms/step - loss: 1.5684 - accuracy: 0.2555 - val_loss: 1.3564 - val_accuracy: 0.3551\n",
      "Epoch 2/30\n",
      "3/3 [==============================] - 0s 18ms/step - loss: 1.4217 - accuracy: 0.4088 - val_loss: 1.3259 - val_accuracy: 0.4565\n",
      "Epoch 3/30\n",
      "3/3 [==============================] - 0s 17ms/step - loss: 1.2881 - accuracy: 0.5474 - val_loss: 1.2970 - val_accuracy: 0.5217\n",
      "Epoch 4/30\n",
      "3/3 [==============================] - 0s 16ms/step - loss: 1.1729 - accuracy: 0.6350 - val_loss: 1.2700 - val_accuracy: 0.5507\n",
      "Epoch 5/30\n",
      "3/3 [==============================] - 0s 17ms/step - loss: 1.0779 - accuracy: 0.6788 - val_loss: 1.2443 - val_accuracy: 0.6014\n",
      "Epoch 6/30\n",
      "3/3 [==============================] - 0s 19ms/step - loss: 0.9977 - accuracy: 0.6861 - val_loss: 1.2198 - val_accuracy: 0.6159\n",
      "Epoch 7/30\n",
      "3/3 [==============================] - 0s 20ms/step - loss: 0.9292 - accuracy: 0.7153 - val_loss: 1.1967 - val_accuracy: 0.6304\n",
      "Epoch 8/30\n",
      "3/3 [==============================] - 0s 17ms/step - loss: 0.8872 - accuracy: 0.7299 - val_loss: 1.1742 - val_accuracy: 0.6449\n",
      "Epoch 9/30\n",
      "3/3 [==============================] - 0s 17ms/step - loss: 0.8232 - accuracy: 0.7664 - val_loss: 1.1539 - val_accuracy: 0.6522\n",
      "Epoch 10/30\n",
      "3/3 [==============================] - 0s 17ms/step - loss: 0.7778 - accuracy: 0.8029 - val_loss: 1.1348 - val_accuracy: 0.6594\n",
      "Epoch 11/30\n",
      "3/3 [==============================] - 0s 18ms/step - loss: 0.7448 - accuracy: 0.8102 - val_loss: 1.1167 - val_accuracy: 0.6739\n",
      "Epoch 12/30\n",
      "3/3 [==============================] - 0s 17ms/step - loss: 0.7096 - accuracy: 0.8394 - val_loss: 1.1008 - val_accuracy: 0.6957\n",
      "Epoch 13/30\n",
      "3/3 [==============================] - 0s 18ms/step - loss: 0.6782 - accuracy: 0.8467 - val_loss: 1.0855 - val_accuracy: 0.7029\n",
      "Epoch 14/30\n",
      "3/3 [==============================] - 0s 18ms/step - loss: 0.6470 - accuracy: 0.8540 - val_loss: 1.0711 - val_accuracy: 0.7319\n",
      "Epoch 15/30\n",
      "3/3 [==============================] - 0s 18ms/step - loss: 0.6166 - accuracy: 0.8540 - val_loss: 1.0565 - val_accuracy: 0.7464\n",
      "Epoch 16/30\n",
      "3/3 [==============================] - 0s 18ms/step - loss: 0.6020 - accuracy: 0.8759 - val_loss: 1.0425 - val_accuracy: 0.7681\n",
      "Epoch 17/30\n",
      "3/3 [==============================] - 0s 17ms/step - loss: 0.5897 - accuracy: 0.8613 - val_loss: 1.0284 - val_accuracy: 0.7754\n",
      "Epoch 18/30\n",
      "3/3 [==============================] - 0s 17ms/step - loss: 0.5806 - accuracy: 0.9051 - val_loss: 1.0149 - val_accuracy: 0.7826\n",
      "Epoch 19/30\n",
      "3/3 [==============================] - 0s 19ms/step - loss: 0.5733 - accuracy: 0.8832 - val_loss: 1.0017 - val_accuracy: 0.7826\n",
      "Epoch 20/30\n",
      "3/3 [==============================] - 0s 17ms/step - loss: 0.5307 - accuracy: 0.9051 - val_loss: 0.9897 - val_accuracy: 0.7971\n",
      "Epoch 21/30\n",
      "3/3 [==============================] - 0s 17ms/step - loss: 0.5292 - accuracy: 0.9124 - val_loss: 0.9769 - val_accuracy: 0.7971\n",
      "Epoch 22/30\n",
      "3/3 [==============================] - 0s 16ms/step - loss: 0.5075 - accuracy: 0.9124 - val_loss: 0.9646 - val_accuracy: 0.7971\n",
      "Epoch 23/30\n",
      "3/3 [==============================] - 0s 16ms/step - loss: 0.4864 - accuracy: 0.9197 - val_loss: 0.9522 - val_accuracy: 0.7971\n",
      "Epoch 24/30\n",
      "3/3 [==============================] - 0s 17ms/step - loss: 0.4906 - accuracy: 0.9124 - val_loss: 0.9397 - val_accuracy: 0.7971\n",
      "Epoch 25/30\n",
      "3/3 [==============================] - 0s 18ms/step - loss: 0.4680 - accuracy: 0.9197 - val_loss: 0.9255 - val_accuracy: 0.7971\n",
      "Epoch 26/30\n",
      "3/3 [==============================] - 0s 17ms/step - loss: 0.4489 - accuracy: 0.9416 - val_loss: 0.9122 - val_accuracy: 0.8043\n",
      "Epoch 27/30\n",
      "3/3 [==============================] - 0s 16ms/step - loss: 0.4484 - accuracy: 0.9270 - val_loss: 0.8991 - val_accuracy: 0.8043\n",
      "Epoch 28/30\n",
      "3/3 [==============================] - 0s 20ms/step - loss: 0.4367 - accuracy: 0.9416 - val_loss: 0.8868 - val_accuracy: 0.8116\n",
      "Epoch 29/30\n",
      "3/3 [==============================] - 0s 20ms/step - loss: 0.4165 - accuracy: 0.9489 - val_loss: 0.8746 - val_accuracy: 0.8188\n",
      "Epoch 30/30\n",
      "3/3 [==============================] - 0s 16ms/step - loss: 0.4189 - accuracy: 0.9489 - val_loss: 0.8622 - val_accuracy: 0.8188\n"
     ]
    }
   ],
   "source": [
    "history_finetunning = model.fit(\n",
    "    Train_x, Train_y,\n",
    "    epochs=30,\n",
    "    batch_size=52,\n",
    "    #callbacks=CALLBACK,\n",
    "    validation_data=(Test_x, Test_y),\n",
    "    shuffle=True)"
   ]
  }
 ],
 "metadata": {
  "kernelspec": {
   "display_name": "Python 3 (ipykernel)",
   "language": "python",
   "name": "python3"
  },
  "language_info": {
   "codemirror_mode": {
    "name": "ipython",
    "version": 3
   },
   "file_extension": ".py",
   "mimetype": "text/x-python",
   "name": "python",
   "nbconvert_exporter": "python",
   "pygments_lexer": "ipython3",
   "version": "3.10.5"
  }
 },
 "nbformat": 4,
 "nbformat_minor": 5
}
