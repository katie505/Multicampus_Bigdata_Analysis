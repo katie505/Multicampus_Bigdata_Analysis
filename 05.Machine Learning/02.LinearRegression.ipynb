{
 "cells": [
  {
   "cell_type": "markdown",
   "id": "a4021b4a",
   "metadata": {},
   "source": [
    "## 참고: https://hleecaster.com/ml-linear-regression-example/"
   ]
  },
  {
   "cell_type": "markdown",
   "id": "54d4f2b0",
   "metadata": {},
   "source": [
    "## 라이브러리 설치, 호출"
   ]
  },
  {
   "cell_type": "markdown",
   "id": "54a79427-fd57-45c2-a837-c91ed83eff9d",
   "metadata": {},
   "source": [
    "!pip install -U scikit-learn\n",
    "!pip install pandas\n",
    "!pip install numpy\n",
    "!pip install matplotlib\n",
    "!pip install statsmodels"
   ]
  },
  {
   "cell_type": "code",
   "execution_count": 4,
   "id": "f1c2d373",
   "metadata": {},
   "outputs": [],
   "source": [
    "from sklearn.linear_model import LinearRegression\n",
    "import pandas as pd\n",
    "import numpy as np\n",
    "import matplotlib.pyplot as plt\n",
    "import statsmodels.api as sm"
   ]
  },
  {
   "cell_type": "markdown",
   "id": "d8a92498",
   "metadata": {},
   "source": [
    "## 랜덤 시드값 설정 및 데이터 임의 생성"
   ]
  },
  {
   "cell_type": "code",
   "execution_count": 5,
   "id": "cbdefba7",
   "metadata": {},
   "outputs": [],
   "source": [
    "np.random.seed(0)\n",
    "\n",
    "Temperature = np.random.normal(30,3,100)\n",
    "IceAmericano = Temperature + np.random.normal(100,8,100)"
   ]
  },
  {
   "cell_type": "code",
   "execution_count": 6,
   "id": "6d7184e3",
   "metadata": {},
   "outputs": [],
   "source": [
    "Data = pd.DataFrame({\n",
    "    'Temp':Temperature,\n",
    "    'Sales':IceAmericano\n",
    "})"
   ]
  },
  {
   "cell_type": "code",
   "execution_count": 7,
   "id": "93cc4065-34b3-42a9-9a99-acf2296bc08e",
   "metadata": {},
   "outputs": [
    {
     "data": {
      "text/html": [
       "<div>\n",
       "<style scoped>\n",
       "    .dataframe tbody tr th:only-of-type {\n",
       "        vertical-align: middle;\n",
       "    }\n",
       "\n",
       "    .dataframe tbody tr th {\n",
       "        vertical-align: top;\n",
       "    }\n",
       "\n",
       "    .dataframe thead th {\n",
       "        text-align: right;\n",
       "    }\n",
       "</style>\n",
       "<table border=\"1\" class=\"dataframe\">\n",
       "  <thead>\n",
       "    <tr style=\"text-align: right;\">\n",
       "      <th></th>\n",
       "      <th>Temp</th>\n",
       "      <th>Sales</th>\n",
       "    </tr>\n",
       "  </thead>\n",
       "  <tbody>\n",
       "    <tr>\n",
       "      <th>0</th>\n",
       "      <td>35.292157</td>\n",
       "      <td>150.357363</td>\n",
       "    </tr>\n",
       "    <tr>\n",
       "      <th>1</th>\n",
       "      <td>31.200472</td>\n",
       "      <td>120.418399</td>\n",
       "    </tr>\n",
       "    <tr>\n",
       "      <th>2</th>\n",
       "      <td>32.936214</td>\n",
       "      <td>122.772334</td>\n",
       "    </tr>\n",
       "    <tr>\n",
       "      <th>3</th>\n",
       "      <td>36.722680</td>\n",
       "      <td>144.477853</td>\n",
       "    </tr>\n",
       "    <tr>\n",
       "      <th>4</th>\n",
       "      <td>35.602674</td>\n",
       "      <td>126.217687</td>\n",
       "    </tr>\n",
       "    <tr>\n",
       "      <th>...</th>\n",
       "      <td>...</td>\n",
       "      <td>...</td>\n",
       "    </tr>\n",
       "    <tr>\n",
       "      <th>95</th>\n",
       "      <td>32.119720</td>\n",
       "      <td>130.747349</td>\n",
       "    </tr>\n",
       "    <tr>\n",
       "      <th>96</th>\n",
       "      <td>30.031500</td>\n",
       "      <td>136.205824</td>\n",
       "    </tr>\n",
       "    <tr>\n",
       "      <th>97</th>\n",
       "      <td>35.357611</td>\n",
       "      <td>141.945645</td>\n",
       "    </tr>\n",
       "    <tr>\n",
       "      <th>98</th>\n",
       "      <td>30.380736</td>\n",
       "      <td>147.686624</td>\n",
       "    </tr>\n",
       "    <tr>\n",
       "      <th>99</th>\n",
       "      <td>31.205968</td>\n",
       "      <td>141.898192</td>\n",
       "    </tr>\n",
       "  </tbody>\n",
       "</table>\n",
       "<p>100 rows × 2 columns</p>\n",
       "</div>"
      ],
      "text/plain": [
       "         Temp       Sales\n",
       "0   35.292157  150.357363\n",
       "1   31.200472  120.418399\n",
       "2   32.936214  122.772334\n",
       "3   36.722680  144.477853\n",
       "4   35.602674  126.217687\n",
       "..        ...         ...\n",
       "95  32.119720  130.747349\n",
       "96  30.031500  136.205824\n",
       "97  35.357611  141.945645\n",
       "98  30.380736  147.686624\n",
       "99  31.205968  141.898192\n",
       "\n",
       "[100 rows x 2 columns]"
      ]
     },
     "execution_count": 7,
     "metadata": {},
     "output_type": "execute_result"
    }
   ],
   "source": [
    "Data"
   ]
  },
  {
   "cell_type": "markdown",
   "id": "6ea6be7d",
   "metadata": {},
   "source": [
    "## matplot library를 활용한 point plot"
   ]
  },
  {
   "cell_type": "code",
   "execution_count": 4,
   "id": "c90040ae",
   "metadata": {},
   "outputs": [
    {
     "data": {
      "image/png": "[encoded data removed]",
      "text/plain": [
       "<Figure size 432x288 with 1 Axes>"
      ]
     },
     "metadata": {
      "needs_background": "light"
     },
     "output_type": "display_data"
    }
   ],
   "source": [
    "plt.plot(Data['Temp'], Data['Sales'], 'o')\n",
    "plt.show()"
   ]
  },
  {
   "cell_type": "markdown",
   "id": "475ec0b3",
   "metadata": {},
   "source": [
    "## Input 데이터 가공"
   ]
  },
  {
   "cell_type": "markdown",
   "id": "a031c6c9-cebd-44e0-85e9-d4fec3da47c2",
   "metadata": {},
   "source": [
    "- 파이썬에서 Linear Regression하는 것에서 기본적인 것이 Scikit-Learn이 있는데, 통계분석을 같이 하고 싶다면 statsmodels 을 쓰는 것이 더 좋다."
   ]
  },
  {
   "cell_type": "code",
   "execution_count": 8,
   "id": "8fdfaee9",
   "metadata": {},
   "outputs": [
    {
     "name": "stdout",
     "output_type": "stream",
     "text": [
      "   const       Temp\n",
      "0    1.0  35.292157\n",
      "1    1.0  31.200472\n",
      "2    1.0  32.936214\n",
      "3    1.0  36.722680\n",
      "4    1.0  35.602674\n"
     ]
    },
    {
     "name": "stderr",
     "output_type": "stream",
     "text": [
      "C:\\Users\\daess\\anaconda3\\lib\\site-packages\\statsmodels\\tsa\\tsatools.py:142: FutureWarning: In a future version of pandas all arguments of concat except for the argument 'objs' will be keyword-only\n",
      "  x = pd.concat(x[::order], 1)\n"
     ]
    }
   ],
   "source": [
    "import statsmodels.api as sm\n",
    "\n",
    "InputFeature = Data['Temp']\n",
    "InputFeature = sm.add_constant(InputFeature) #상수항을 독립변수와 결합\n",
    "\n",
    "print(InputFeature.head())"
   ]
  },
  {
   "cell_type": "markdown",
   "id": "36155ed4",
   "metadata": {},
   "source": [
    "## Linear regression 모델 fitting"
   ]
  },
  {
   "cell_type": "code",
   "execution_count": 9,
   "id": "cc4e3d29",
   "metadata": {},
   "outputs": [
    {
     "name": "stdout",
     "output_type": "stream",
     "text": [
      "const    91.425350\n",
      "Temp      1.305862\n",
      "dtype: float64\n"
     ]
    }
   ],
   "source": [
    "# OLS : Ordinary Least Square\n",
    "model = sm.OLS(\n",
    "    Data['Sales'] #y,\n",
    "    InputFeature  #x\n",
    ")\n",
    "\n",
    "model = model.fit()\n",
    "print(model.params)"
   ]
  },
  {
   "cell_type": "code",
   "execution_count": 10,
   "id": "97fcaefc",
   "metadata": {},
   "outputs": [
    {
     "name": "stdout",
     "output_type": "stream",
     "text": [
      "                            OLS Regression Results                            \n",
      "==============================================================================\n",
      "Dep. Variable:                  Sales   R-squared:                       0.187\n",
      "Model:                            OLS   Adj. R-squared:                  0.179\n",
      "Method:                 Least Squares   F-statistic:                     22.58\n",
      "Date:                Wed, 03 Aug 2022   Prob (F-statistic):           6.90e-06\n",
      "Time:                        15:51:51   Log-Likelihood:                -352.62\n",
      "No. Observations:                 100   AIC:                             709.2\n",
      "Df Residuals:                      98   BIC:                             714.4\n",
      "Df Model:                           1                                         \n",
      "Covariance Type:            nonrobust                                         \n",
      "==============================================================================\n",
      "                 coef    std err          t      P>|t|      [0.025      0.975]\n",
      "------------------------------------------------------------------------------\n",
      "const         91.4253      8.335     10.969      0.000      74.885     107.966\n",
      "Temp           1.3059      0.275      4.752      0.000       0.761       1.851\n",
      "==============================================================================\n",
      "Omnibus:                        5.184   Durbin-Watson:                   1.995\n",
      "Prob(Omnibus):                  0.075   Jarque-Bera (JB):                3.000\n",
      "Skew:                           0.210   Prob(JB):                        0.223\n",
      "Kurtosis:                       2.262   Cond. No.                         305.\n",
      "==============================================================================\n",
      "\n",
      "Notes:\n",
      "[1] Standard Errors assume that the covariance matrix of the errors is correctly specified.\n"
     ]
    }
   ],
   "source": [
    "print( model.summary() )"
   ]
  },
  {
   "cell_type": "markdown",
   "id": "87eb5a23",
   "metadata": {},
   "source": [
    "<h2>모델의 해석</h2>\n",
    "Coef: 모델의 기울기. Coefficient of Temp: 1.3059<br>\n",
    "기온이 1도 오를 때, 아이스아메리카노는 1.3059잔 더 팔린다.<br>\n",
    "<br>\n",
    "Pvalue (P>|t|): < 0.05 보다 작음<br>\n",
    "-> 유의하게 Coefficient가 0이 아니다.<br>\n",
    "즉 기온이 아메리카노에 영향을 준다.<br>\n"
   ]
  },
  {
   "cell_type": "markdown",
   "id": "0b870a7c",
   "metadata": {},
   "source": [
    "## 예측 수행 및 결과"
   ]
  },
  {
   "cell_type": "code",
   "execution_count": 11,
   "id": "3fc9307c",
   "metadata": {},
   "outputs": [
    {
     "name": "stdout",
     "output_type": "stream",
     "text": [
      "0     137.512054\n",
      "1     132.168876\n",
      "2     134.435516\n",
      "3     139.380120\n",
      "4     137.917546\n",
      "         ...    \n",
      "95    133.369287\n",
      "96    130.642359\n",
      "97    137.597529\n",
      "98    131.098414\n",
      "99    132.176053\n",
      "Length: 100, dtype: float64\n"
     ]
    }
   ],
   "source": [
    "print(model.predict(InputFeature))"
   ]
  },
  {
   "cell_type": "markdown",
   "id": "d7d18653",
   "metadata": {},
   "source": [
    "## 기온이 35.2'C 일 때의 아이스 아메리카노 판매량"
   ]
  },
  {
   "cell_type": "code",
   "execution_count": 12,
   "id": "b1ca0e9e",
   "metadata": {},
   "outputs": [
    {
     "data": {
      "text/plain": [
       "array([137.39170963])"
      ]
     },
     "execution_count": 12,
     "metadata": {},
     "output_type": "execute_result"
    }
   ],
   "source": [
    "model.predict([1, 35.2])"
   ]
  },
  {
   "cell_type": "code",
   "execution_count": 13,
   "id": "9a4174e7",
   "metadata": {},
   "outputs": [
    {
     "data": {
      "image/png": "[encoded data removed]",
      "text/plain": [
       "<Figure size 432x288 with 1 Axes>"
      ]
     },
     "metadata": {
      "needs_background": "light"
     },
     "output_type": "display_data"
    }
   ],
   "source": [
    "plt.plot(Data['Temp'], Data['Sales'], 'o')\n",
    "plt.plot(Data['Temp'], model.predict(InputFeature))\n",
    "plt.show()"
   ]
  }
 ],
 "metadata": {
  "kernelspec": {
   "display_name": "Python 3 (ipykernel)",
   "language": "python",
   "name": "python3"
  },
  "language_info": {
   "codemirror_mode": {
    "name": "ipython",
    "version": 3
   },
   "file_extension": ".py",
   "mimetype": "text/x-python",
   "name": "python",
   "nbconvert_exporter": "python",
   "pygments_lexer": "ipython3",
   "version": "3.9.7"
  }
 },
 "nbformat": 4,
 "nbformat_minor": 5
}
