{
 "cells": [
  {
   "cell_type": "code",
   "execution_count": 7,
   "id": "dc42bf51-591b-4bd9-ab0d-af15ee0aa280",
   "metadata": {},
   "outputs": [],
   "source": [
    "from flask import Flask\n",
    "from flask_cors import CORS"
   ]
  },
  {
   "cell_type": "markdown",
   "id": "070a4dde-2219-4ad0-8c38-c4b61ed9ff27",
   "metadata": {},
   "source": [
    "### CORS(교차 출처 자원 공유)\n",
    "- Cross Origin Resource Sharing\n",
    "- 다른 출처의 자원을 공유하는 것\n",
    "- 동일 출처 정책이 있기 때문에 원래는 다른 출처에서 리소스를 받아오는 것이 제한됨\n",
    "    - 다른 출처로부터 리소스를 받아오는 것은 필수 요소가 되었고, 이러한 문제를 해결하기 위해 나온 정책이 **CORS**\n",
    "- Same Origin Policy(동일 출처 정책) : 웹 브라우저에서 보안을 강화하기 위하여 동일한 출처에서만 리소스를 주고 받도록 하는 정책\n",
    "    - 동일한 출처 : URL 중에서도 프로토콜, 도메인 주소, 포트 번호가 같은 것"
   ]
  },
  {
   "cell_type": "code",
   "execution_count": 8,
   "id": "78b95ea7-1b0b-4319-9107-43f2d958de89",
   "metadata": {},
   "outputs": [
    {
     "data": {
      "text/plain": [
       "<flask_cors.extension.CORS at 0x2949b131c10>"
      ]
     },
     "execution_count": 8,
     "metadata": {},
     "output_type": "execute_result"
    }
   ],
   "source": [
    "app = Flask(__name__)\n",
    "CORS(app)"
   ]
  },
  {
   "cell_type": "code",
   "execution_count": 9,
   "id": "0f843bec-847c-442b-83b9-18249211f8be",
   "metadata": {},
   "outputs": [],
   "source": [
    "@app.route('/')\n",
    "def index():\n",
    "    return 'Web App with Python Flask!'"
   ]
  },
  {
   "cell_type": "code",
   "execution_count": null,
   "id": "0fd23ae6-8864-4cb4-b322-81d64af66ba1",
   "metadata": {},
   "outputs": [
    {
     "name": "stdout",
     "output_type": "stream",
     "text": [
      " * Serving Flask app \"__main__\" (lazy loading)\n",
      " * Environment: production\n",
      "\u001b[31m   WARNING: This is a development server. Do not use it in a production deployment.\u001b[0m\n",
      "\u001b[2m   Use a production WSGI server instead.\u001b[0m\n",
      " * Debug mode: off\n"
     ]
    },
    {
     "name": "stderr",
     "output_type": "stream",
     "text": [
      " * Running on all addresses.\n",
      "   WARNING: This is a development server. Do not use it in a production deployment.\n",
      " * Running on http://192.168.0.2:5002/ (Press CTRL+C to quit)\n"
     ]
    }
   ],
   "source": [
    "app.run(host = '0.0.0.0', port = 5002)"
   ]
  }
 ],
 "metadata": {
  "kernelspec": {
   "display_name": "Python 3 (ipykernel)",
   "language": "python",
   "name": "python3"
  },
  "language_info": {
   "codemirror_mode": {
    "name": "ipython",
    "version": 3
   },
   "file_extension": ".py",
   "mimetype": "text/x-python",
   "name": "python",
   "nbconvert_exporter": "python",
   "pygments_lexer": "ipython3",
   "version": "3.9.7"
  }
 },
 "nbformat": 4,
 "nbformat_minor": 5
}
