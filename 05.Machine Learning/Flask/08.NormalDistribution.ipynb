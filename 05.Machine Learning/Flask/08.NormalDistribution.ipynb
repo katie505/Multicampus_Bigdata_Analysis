{
 "cells": [
  {
   "cell_type": "code",
   "execution_count": 4,
   "id": "3114f6f8",
   "metadata": {},
   "outputs": [
    {
     "data": {
      "text/plain": [
       "<flask_cors.extension.CORS at 0x202356be310>"
      ]
     },
     "execution_count": 4,
     "metadata": {},
     "output_type": "execute_result"
    }
   ],
   "source": [
    "import numpy as np\n",
    "import matplotlib.pyplot as plt\n",
    "from scipy.stats import norm\n",
    "\n",
    "import base64\n",
    "from io import BytesIO\n",
    "\n",
    "from flask import Flask\n",
    "from flask import request\n",
    "\n",
    "from flask_cors import CORS\n",
    "\n",
    "from matplotlib.figure import Figure\n",
    "\n",
    "app = Flask(__name__)\n",
    "CORS(app)"
   ]
  },
  {
   "cell_type": "code",
   "execution_count": 5,
   "id": "f8ee1a65",
   "metadata": {},
   "outputs": [],
   "source": [
    "@app.route(\"/\")\n",
    "def hello():\n",
    "    URI = \"data:image/jpeg;base64,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\"\n",
    "    return \"<img src='\" + URI + \"'/>\""
   ]
  },
  {
   "cell_type": "code",
   "execution_count": 6,
   "id": "58806653",
   "metadata": {},
   "outputs": [],
   "source": [
    "@app.route(\"/DrawNormalDistribution\")\n",
    "def hello1():\n",
    "    # Generate the figure **without using pyplot**.\n",
    "    fig = Figure()\n",
    "    ax = fig.subplots()\n",
    "    \n",
    "    Mean = request.args.get('Mean')\n",
    "    SD = request.args.get('SD')\n",
    "    if Mean == None or SD == None:\n",
    "        Mean = 0\n",
    "        SD = 1\n",
    "    else:\n",
    "        Mean = float(Mean)\n",
    "        SD = float(SD)\n",
    "\n",
    "    # Plot between -10 and 10 with .001 steps.\n",
    "    x_axis = np.arange( Mean - SD*4 , Mean + SD*4, SD*2 / 1000)\n",
    "    # Mean = 0, SD = 2.\n",
    "    \n",
    "    ax.plot(x_axis, norm.pdf(x_axis,Mean,SD))\n",
    "    # Save it to a temporary buffer.\n",
    "    buf = BytesIO()\n",
    "    fig.savefig(buf, format=\"png\")\n",
    "    # Embed the result in the html output.\n",
    "    data = base64.b64encode(buf.getbuffer()).decode(\"ascii\")\n",
    "    return \"<img src='data:image/png;base64,\" + data + \"'/>\""
   ]
  },
  {
   "cell_type": "code",
   "execution_count": null,
   "id": "203ade0f",
   "metadata": {},
   "outputs": [
    {
     "name": "stdout",
     "output_type": "stream",
     "text": [
      " * Serving Flask app \"__main__\" (lazy loading)\n",
      " * Environment: production\n",
      "\u001b[31m   WARNING: This is a development server. Do not use it in a production deployment.\u001b[0m\n",
      "\u001b[2m   Use a production WSGI server instead.\u001b[0m\n",
      " * Debug mode: off\n"
     ]
    },
    {
     "name": "stderr",
     "output_type": "stream",
     "text": [
      " * Running on all addresses.\n",
      "   WARNING: This is a development server. Do not use it in a production deployment.\n",
      " * Running on http://192.168.0.2:5004/ (Press CTRL+C to quit)\n"
     ]
    }
   ],
   "source": [
    "app.run(host='0.0.0.0', port=5004)"
   ]
  }
 ],
 "metadata": {
  "kernelspec": {
   "display_name": "Python 3 (ipykernel)",
   "language": "python",
   "name": "python3"
  },
  "language_info": {
   "codemirror_mode": {
    "name": "ipython",
    "version": 3
   },
   "file_extension": ".py",
   "mimetype": "text/x-python",
   "name": "python",
   "nbconvert_exporter": "python",
   "pygments_lexer": "ipython3",
   "version": "3.9.7"
  }
 },
 "nbformat": 4,
 "nbformat_minor": 5
}
