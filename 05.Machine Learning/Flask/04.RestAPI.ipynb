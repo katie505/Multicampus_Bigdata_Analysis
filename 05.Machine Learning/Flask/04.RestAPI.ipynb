{
 "cells": [
  {
   "cell_type": "code",
   "execution_count": 1,
   "id": "8579bb86",
   "metadata": {},
   "outputs": [],
   "source": [
    "from flask import Flask\n",
    "from flask import render_template"
   ]
  },
  {
   "cell_type": "code",
   "execution_count": 2,
   "id": "8ffbab0d",
   "metadata": {},
   "outputs": [],
   "source": [
    "app = Flask(__name__)"
   ]
  },
  {
   "cell_type": "code",
   "execution_count": 3,
   "id": "4946c3b5",
   "metadata": {},
   "outputs": [],
   "source": [
    "@app.route('/hello')\n",
    "def hello_world():\n",
    "    return \"hello world\""
   ]
  },
  {
   "cell_type": "code",
   "execution_count": 4,
   "id": "399375ba",
   "metadata": {},
   "outputs": [],
   "source": [
    "@app.route('/product/<name>')\n",
    "def get_product(name):\n",
    "    return \"The product is \" + str(name)"
   ]
  },
  {
   "cell_type": "code",
   "execution_count": 5,
   "id": "514d95a9",
   "metadata": {},
   "outputs": [],
   "source": [
    "@app.route('/sale/<transaction_id>')\n",
    "def get_sale(transaction_id=0):\n",
    "    return \"The transaction is \"+str(transaction_id)"
   ]
  },
  {
   "cell_type": "code",
   "execution_count": 6,
   "id": "e6de62aa",
   "metadata": {},
   "outputs": [],
   "source": [
    "@app.route('/create/<first_name>/<last_name>')\n",
    "def create(first_name=None, last_name=None):\n",
    "    return 'Hello ' + first_name + ',' + last_name"
   ]
  },
  {
   "cell_type": "code",
   "execution_count": null,
   "id": "1fc097aa",
   "metadata": {},
   "outputs": [
    {
     "name": "stdout",
     "output_type": "stream",
     "text": [
      " * Serving Flask app '__main__' (lazy loading)\n",
      " * Environment: production\n",
      "\u001b[31m   WARNING: This is a development server. Do not use it in a production deployment.\u001b[0m\n",
      "\u001b[2m   Use a production WSGI server instead.\u001b[0m\n",
      " * Debug mode: off\n"
     ]
    },
    {
     "name": "stderr",
     "output_type": "stream",
     "text": [
      " * Running on all addresses (0.0.0.0)\n",
      "   WARNING: This is a development server. Do not use it in a production deployment.\n",
      " * Running on http://127.0.0.1:5000\n",
      " * Running on http://192.168.2.16:5000 (Press CTRL+C to quit)\n",
      "127.0.0.1 - - [06/Jul/2022 16:02:09] \"GET / HTTP/1.1\" 404 -\n",
      "127.0.0.1 - - [06/Jul/2022 16:02:22] \"GET /hello HTTP/1.1\" 200 -\n",
      "127.0.0.1 - - [06/Jul/2022 16:02:27] \"GET / HTTP/1.1\" 404 -\n",
      "127.0.0.1 - - [06/Jul/2022 16:03:04] \"GET /hello HTTP/1.1\" 200 -\n",
      "127.0.0.1 - - [06/Jul/2022 16:03:18] \"GET /product HTTP/1.1\" 404 -\n",
      "127.0.0.1 - - [06/Jul/2022 16:03:29] \"GET /product/택배 HTTP/1.1\" 200 -\n",
      "127.0.0.1 - - [06/Jul/2022 16:03:55] \"GET /sale/이어드림택배 HTTP/1.1\" 200 -\n",
      "127.0.0.1 - - [06/Jul/2022 16:04:16] \"GET /create/변수1/나다 HTTP/1.1\" 200 -\n"
     ]
    }
   ],
   "source": [
    "app.run(host='0.0.0.0', port=5000)"
   ]
  }
 ],
 "metadata": {
  "kernelspec": {
   "display_name": "Python 3 (ipykernel)",
   "language": "python",
   "name": "python3"
  },
  "language_info": {
   "codemirror_mode": {
    "name": "ipython",
    "version": 3
   },
   "file_extension": ".py",
   "mimetype": "text/x-python",
   "name": "python",
   "nbconvert_exporter": "python",
   "pygments_lexer": "ipython3",
   "version": "3.9.7"
  }
 },
 "nbformat": 4,
 "nbformat_minor": 5
}
