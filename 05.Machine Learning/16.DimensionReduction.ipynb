{
 "cells": [
  {
   "cell_type": "markdown",
   "id": "7c4fc146",
   "metadata": {},
   "source": [
    " #!pip3 install umap-learn<br>\n",
    " https://stackoverflow.com/questions/57242208/how-to-resolve-the-error-module-umap-has-no-attribute-umap-i-tried-installi"
   ]
  },
  {
   "cell_type": "code",
   "execution_count": 5,
   "id": "24fff6de",
   "metadata": {},
   "outputs": [],
   "source": [
    "import numpy as np\n",
    "import matplotlib.pyplot as plt\n",
    "from mpl_toolkits.mplot3d import Axes3D\n",
    "import seaborn as sns\n",
    "import umap.umap_ as umap\n",
    "from sklearn.decomposition import PCA\n",
    "import pandas as pd\n",
    "\n",
    "\n",
    "%matplotlib inline\n",
    "sns.set(style='white', rc={'figure.figsize':(12,8)})"
   ]
  },
  {
   "cell_type": "markdown",
   "id": "96f289d1",
   "metadata": {},
   "source": [
    "# 랜덤 데이터  생성"
   ]
  },
  {
   "cell_type": "code",
   "execution_count": 2,
   "id": "53e6b982",
   "metadata": {},
   "outputs": [],
   "source": [
    "np.random.seed(42)\n",
    "data = np.random.rand(800, 7)"
   ]
  },
  {
   "cell_type": "code",
   "execution_count": 3,
   "id": "39e9b0e9",
   "metadata": {},
   "outputs": [
    {
     "data": {
      "text/plain": [
       "array([[0.37454012, 0.95071431, 0.73199394, ..., 0.15601864, 0.15599452,\n",
       "        0.05808361],\n",
       "       [0.86617615, 0.60111501, 0.70807258, ..., 0.96990985, 0.83244264,\n",
       "        0.21233911],\n",
       "       [0.18182497, 0.18340451, 0.30424224, ..., 0.43194502, 0.29122914,\n",
       "        0.61185289],\n",
       "       ...,\n",
       "       [0.43913066, 0.03994797, 0.36229349, ..., 0.7014991 , 0.45934366,\n",
       "        0.05510154],\n",
       "       [0.42689473, 0.46902494, 0.92855553, ..., 0.31165292, 0.52531826,\n",
       "        0.06605531],\n",
       "       [0.97256824, 0.3600599 , 0.47786735, ..., 0.68251173, 0.66223216,\n",
       "        0.71532231]])"
      ]
     },
     "execution_count": 3,
     "metadata": {},
     "output_type": "execute_result"
    }
   ],
   "source": [
    "data"
   ]
  },
  {
   "cell_type": "markdown",
   "id": "45137f36",
   "metadata": {},
   "source": [
    "# Principal Component analysis"
   ]
  },
  {
   "cell_type": "code",
   "execution_count": 4,
   "id": "f1f7e5a3",
   "metadata": {},
   "outputs": [
    {
     "ename": "NameError",
     "evalue": "name 'pd' is not defined",
     "output_type": "error",
     "traceback": [
      "\u001b[1;31m---------------------------------------------------------------------------\u001b[0m",
      "\u001b[1;31mNameError\u001b[0m                                 Traceback (most recent call last)",
      "Input \u001b[1;32mIn [4]\u001b[0m, in \u001b[0;36m<cell line: 4>\u001b[1;34m()\u001b[0m\n\u001b[0;32m      1\u001b[0m pca \u001b[38;5;241m=\u001b[39m PCA(n_components\u001b[38;5;241m=\u001b[39m\u001b[38;5;241m2\u001b[39m) \u001b[38;5;66;03m# 주성분을 몇개로 할지 결정\u001b[39;00m\n\u001b[0;32m      3\u001b[0m printcipalComponents \u001b[38;5;241m=\u001b[39m pca\u001b[38;5;241m.\u001b[39mfit_transform(data)\n\u001b[1;32m----> 4\u001b[0m principalDf \u001b[38;5;241m=\u001b[39m \u001b[43mpd\u001b[49m\u001b[38;5;241m.\u001b[39mDataFrame(data\u001b[38;5;241m=\u001b[39mprintcipalComponents, columns \u001b[38;5;241m=\u001b[39m [\u001b[38;5;124m'\u001b[39m\u001b[38;5;124mprincipal component1\u001b[39m\u001b[38;5;124m'\u001b[39m, \u001b[38;5;124m'\u001b[39m\u001b[38;5;124mprincipal component2\u001b[39m\u001b[38;5;124m'\u001b[39m])\n",
      "\u001b[1;31mNameError\u001b[0m: name 'pd' is not defined"
     ]
    }
   ],
   "source": [
    "pca = PCA(n_components=2) # 주성분을 몇개로 할지 결정\n",
    "\n",
    "printcipalComponents = pca.fit_transform(data)\n",
    "principalDf = pd.DataFrame(data=printcipalComponents, columns = ['principal component1', 'principal component2'])\n",
    "# 주성분으로 이루어진 데이터 프레임 구성"
   ]
  },
  {
   "cell_type": "code",
   "execution_count": null,
   "id": "88c7c46b",
   "metadata": {},
   "outputs": [],
   "source": [
    "principalDf"
   ]
  },
  {
   "cell_type": "code",
   "execution_count": null,
   "id": "cc446677",
   "metadata": {},
   "outputs": [],
   "source": [
    "plt.scatter(principalDf.iloc[:,0], principalDf.iloc[:,1])"
   ]
  },
  {
   "cell_type": "markdown",
   "id": "43a1b610",
   "metadata": {},
   "source": [
    "<br><br>\n",
    "랜덤 데이터로 UMAP 학습 및 시각화"
   ]
  },
  {
   "cell_type": "code",
   "execution_count": null,
   "id": "c279088e",
   "metadata": {},
   "outputs": [],
   "source": [
    "fit = umap.UMAP()\n",
    "%time u = fit.fit_transform(data)"
   ]
  },
  {
   "cell_type": "code",
   "execution_count": null,
   "id": "54749196",
   "metadata": {},
   "outputs": [],
   "source": [
    "plt.scatter(u[:,0], u[:,1])"
   ]
  },
  {
   "cell_type": "code",
   "execution_count": null,
   "id": "a78fe076",
   "metadata": {},
   "outputs": [],
   "source": [
    "import pandas as pd\n",
    "from sklearn.datasets import load_iris # scikit-learn의 샘플 데이터 로드를 위해 import\n",
    "from sklearn.preprocessing import LabelEncoder\n",
    "\n",
    "iris = load_iris() # sample data load\n",
    "\n",
    "data = pd.DataFrame(data= np.c_[iris['data'], iris['target']],\n",
    "                     columns= iris['feature_names'] + ['target'])\n",
    "\n",
    "# categorize output class labels to numeric values\n",
    "le = LabelEncoder()\n",
    "le.fit(data['target'])\n",
    "data['target'] = le.transform(data['target'])"
   ]
  },
  {
   "cell_type": "code",
   "execution_count": null,
   "id": "4ed7c5dd",
   "metadata": {},
   "outputs": [],
   "source": [
    "X, y = data.iloc[:, :-1].values, data.iloc[:, -1].values"
   ]
  },
  {
   "cell_type": "code",
   "execution_count": null,
   "id": "52e2088f",
   "metadata": {},
   "outputs": [],
   "source": [
    "fit = umap.UMAP()\n",
    "%time u = fit.fit_transform(X)"
   ]
  },
  {
   "cell_type": "code",
   "execution_count": null,
   "id": "4b46534b",
   "metadata": {},
   "outputs": [],
   "source": [
    "y"
   ]
  },
  {
   "cell_type": "code",
   "execution_count": null,
   "id": "7ea64072",
   "metadata": {},
   "outputs": [],
   "source": [
    "plt.scatter(u[:,0], u[:,1], c=y)"
   ]
  },
  {
   "cell_type": "markdown",
   "id": "3b38c82c",
   "metadata": {},
   "source": [
    "Lung Cancer 데이터를 활용한 Dimensional Reduction"
   ]
  },
  {
   "cell_type": "code",
   "execution_count": null,
   "id": "15935179",
   "metadata": {},
   "outputs": [],
   "source": [
    "Data = pd.read_csv(\"Censored_clinical_lungCancer_survival.csv\")"
   ]
  },
  {
   "cell_type": "code",
   "execution_count": null,
   "id": "8d847c58",
   "metadata": {},
   "outputs": [],
   "source": [
    "Data.head()"
   ]
  },
  {
   "cell_type": "code",
   "execution_count": null,
   "id": "76d03f41",
   "metadata": {},
   "outputs": [],
   "source": [
    "Data.columns"
   ]
  },
  {
   "cell_type": "code",
   "execution_count": null,
   "id": "db112bf1",
   "metadata": {},
   "outputs": [],
   "source": [
    "Data = Data[['Age', 'Sex', 'Smoke', 'COPD', 'DM', 'HTN', 'CEA_pre', 'SUV', 'Extent', 'Vascular', 'Lymphatic', 'Perineural', 'VPI', 'Adjacent', 'Aerogenous', 'pT', 'pN', 'pStage', 'cell', 'Subtype', 'CEA_Post', 'Relapse', 'Recur', 'Recurrence', 'Death', 'Overall']]"
   ]
  },
  {
   "cell_type": "code",
   "execution_count": null,
   "id": "c5799b2a",
   "metadata": {},
   "outputs": [],
   "source": [
    "Data.isna().sum()"
   ]
  },
  {
   "cell_type": "code",
   "execution_count": null,
   "id": "f5a9d423",
   "metadata": {},
   "outputs": [],
   "source": [
    "Data = Data.dropna()"
   ]
  },
  {
   "cell_type": "code",
   "execution_count": null,
   "id": "d5c5130d",
   "metadata": {},
   "outputs": [],
   "source": [
    "### pT를 빼고 데이터를 UMAP으로 projection\n",
    "Data_tmp = Data[['Age', 'Sex', 'Smoke', 'COPD', 'DM', 'HTN', 'CEA_pre', 'SUV', 'Extent', 'Vascular',\n",
    "      'Lymphatic', 'Perineural', 'VPI', 'Adjacent', 'Aerogenous', 'pStage', 'pT', 'pN', \n",
    "      'cell', 'Subtype', 'CEA_Post', 'Relapse', 'Recur', 'Recurrence', 'Overall']]"
   ]
  },
  {
   "cell_type": "code",
   "execution_count": null,
   "id": "7e87e7f9",
   "metadata": {},
   "outputs": [],
   "source": [
    "pca = PCA(n_components=2) # 주성분을 몇개로 할지 결정\n",
    "printcipalComponents = pca.fit_transform(Data_tmp)\n",
    "principalDf = pd.DataFrame(data=printcipalComponents, columns = ['principal component1', 'principal component2'])\n",
    "# 주성분으로 이루어진 데이터 프레임 구성\n",
    "\n",
    "plt.scatter(principalDf.iloc[:,0], principalDf.iloc[:,1], c=Data['Death'], cmap='coolwarm')"
   ]
  },
  {
   "cell_type": "code",
   "execution_count": null,
   "id": "66e794a1",
   "metadata": {},
   "outputs": [],
   "source": [
    "fit = umap.UMAP(n_neighbors=20)\n",
    "%time u = fit.fit_transform(Data_tmp)\n",
    "\n",
    "plt.scatter(u[:,0], u[:,1], c=Data['Death'], cmap='coolwarm')"
   ]
  },
  {
   "cell_type": "code",
   "execution_count": null,
   "id": "f9bda3c3",
   "metadata": {},
   "outputs": [],
   "source": [
    "fit = umap.UMAP(n_neighbors=10)\n",
    "%time u = fit.fit_transform(Data_tmp)\n",
    "\n",
    "plt.scatter(u[:,0], u[:,1], c=Data['Death'], cmap='coolwarm')"
   ]
  },
  {
   "cell_type": "code",
   "execution_count": null,
   "id": "90bae734",
   "metadata": {},
   "outputs": [],
   "source": [
    "fit = umap.UMAP(n_neighbors=30)\n",
    "%time u = fit.fit_transform(Data_tmp)\n",
    "\n",
    "plt.scatter(u[:,0], u[:,1], c=Data['Death'], cmap='coolwarm')"
   ]
  }
 ],
 "metadata": {
  "kernelspec": {
   "display_name": "Python 3 (ipykernel)",
   "language": "python",
   "name": "python3"
  },
  "language_info": {
   "codemirror_mode": {
    "name": "ipython",
    "version": 3
   },
   "file_extension": ".py",
   "mimetype": "text/x-python",
   "name": "python",
   "nbconvert_exporter": "python",
   "pygments_lexer": "ipython3",
   "version": "3.10.5"
  }
 },
 "nbformat": 4,
 "nbformat_minor": 5
}
