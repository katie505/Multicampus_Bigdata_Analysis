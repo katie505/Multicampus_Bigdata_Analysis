{
 "cells": [
  {
   "cell_type": "code",
   "execution_count": 1,
   "metadata": {},
   "outputs": [],
   "source": [
    "import os\n",
    "import pandas as pd\n",
    "import numpy as np"
   ]
  },
  {
   "cell_type": "markdown",
   "metadata": {},
   "source": [
    "# Data read & Preprocessing"
   ]
  },
  {
   "cell_type": "code",
   "execution_count": 2,
   "metadata": {},
   "outputs": [],
   "source": [
    "os.chdir('DATA/')\n",
    "TrainFileNames = ['EpilepsyDimension1_TRAIN.arff', 'EpilepsyDimension2_TRAIN.arff', 'EpilepsyDimension3_TRAIN.arff']\n",
    "TestFileNames = ['EpilepsyDimension1_TEST.arff', 'EpilepsyDimension2_TEST.arff', 'EpilepsyDimension3_TEST.arff']"
   ]
  },
  {
   "cell_type": "code",
   "execution_count": 3,
   "metadata": {},
   "outputs": [
    {
     "data": {
      "text/html": [
       "<div>\n",
       "<style scoped>\n",
       "    .dataframe tbody tr th:only-of-type {\n",
       "        vertical-align: middle;\n",
       "    }\n",
       "\n",
       "    .dataframe tbody tr th {\n",
       "        vertical-align: top;\n",
       "    }\n",
       "\n",
       "    .dataframe thead th {\n",
       "        text-align: right;\n",
       "    }\n",
       "</style>\n",
       "<table border=\"1\" class=\"dataframe\">\n",
       "  <thead>\n",
       "    <tr style=\"text-align: right;\">\n",
       "      <th></th>\n",
       "      <th>0</th>\n",
       "      <th>1</th>\n",
       "      <th>2</th>\n",
       "      <th>3</th>\n",
       "      <th>4</th>\n",
       "      <th>5</th>\n",
       "      <th>6</th>\n",
       "      <th>7</th>\n",
       "      <th>8</th>\n",
       "      <th>9</th>\n",
       "      <th>...</th>\n",
       "      <th>197</th>\n",
       "      <th>198</th>\n",
       "      <th>199</th>\n",
       "      <th>200</th>\n",
       "      <th>201</th>\n",
       "      <th>202</th>\n",
       "      <th>203</th>\n",
       "      <th>204</th>\n",
       "      <th>205</th>\n",
       "      <th>206</th>\n",
       "    </tr>\n",
       "  </thead>\n",
       "  <tbody>\n",
       "    <tr>\n",
       "      <th>0</th>\n",
       "      <td>0.35</td>\n",
       "      <td>0.40</td>\n",
       "      <td>0.44</td>\n",
       "      <td>0.47</td>\n",
       "      <td>0.48</td>\n",
       "      <td>0.47</td>\n",
       "      <td>0.44</td>\n",
       "      <td>0.42</td>\n",
       "      <td>0.43</td>\n",
       "      <td>0.37</td>\n",
       "      <td>...</td>\n",
       "      <td>0.51</td>\n",
       "      <td>0.50</td>\n",
       "      <td>0.55</td>\n",
       "      <td>0.54</td>\n",
       "      <td>0.58</td>\n",
       "      <td>0.61</td>\n",
       "      <td>0.62</td>\n",
       "      <td>0.65</td>\n",
       "      <td>0.69</td>\n",
       "      <td>EPILEPSY</td>\n",
       "    </tr>\n",
       "    <tr>\n",
       "      <th>1</th>\n",
       "      <td>-0.91</td>\n",
       "      <td>-0.92</td>\n",
       "      <td>-0.95</td>\n",
       "      <td>-0.95</td>\n",
       "      <td>-0.95</td>\n",
       "      <td>-0.94</td>\n",
       "      <td>-0.96</td>\n",
       "      <td>-0.96</td>\n",
       "      <td>-0.95</td>\n",
       "      <td>-0.95</td>\n",
       "      <td>...</td>\n",
       "      <td>-0.51</td>\n",
       "      <td>-0.56</td>\n",
       "      <td>-0.58</td>\n",
       "      <td>-0.61</td>\n",
       "      <td>-0.56</td>\n",
       "      <td>-0.56</td>\n",
       "      <td>-0.47</td>\n",
       "      <td>-0.45</td>\n",
       "      <td>-0.45</td>\n",
       "      <td>EPILEPSY</td>\n",
       "    </tr>\n",
       "    <tr>\n",
       "      <th>2</th>\n",
       "      <td>0.32</td>\n",
       "      <td>0.71</td>\n",
       "      <td>0.70</td>\n",
       "      <td>0.75</td>\n",
       "      <td>0.88</td>\n",
       "      <td>0.58</td>\n",
       "      <td>1.34</td>\n",
       "      <td>0.66</td>\n",
       "      <td>0.71</td>\n",
       "      <td>0.23</td>\n",
       "      <td>...</td>\n",
       "      <td>0.63</td>\n",
       "      <td>0.60</td>\n",
       "      <td>0.60</td>\n",
       "      <td>0.59</td>\n",
       "      <td>0.59</td>\n",
       "      <td>0.58</td>\n",
       "      <td>0.59</td>\n",
       "      <td>0.59</td>\n",
       "      <td>0.59</td>\n",
       "      <td>EPILEPSY</td>\n",
       "    </tr>\n",
       "    <tr>\n",
       "      <th>3</th>\n",
       "      <td>-0.68</td>\n",
       "      <td>-0.36</td>\n",
       "      <td>-0.13</td>\n",
       "      <td>-0.38</td>\n",
       "      <td>-0.49</td>\n",
       "      <td>-0.48</td>\n",
       "      <td>-0.27</td>\n",
       "      <td>-0.26</td>\n",
       "      <td>-0.48</td>\n",
       "      <td>-0.44</td>\n",
       "      <td>...</td>\n",
       "      <td>-0.51</td>\n",
       "      <td>-0.38</td>\n",
       "      <td>-0.26</td>\n",
       "      <td>-0.25</td>\n",
       "      <td>-0.32</td>\n",
       "      <td>-0.32</td>\n",
       "      <td>-0.40</td>\n",
       "      <td>-0.23</td>\n",
       "      <td>-0.25</td>\n",
       "      <td>EPILEPSY</td>\n",
       "    </tr>\n",
       "    <tr>\n",
       "      <th>4</th>\n",
       "      <td>0.34</td>\n",
       "      <td>0.53</td>\n",
       "      <td>0.58</td>\n",
       "      <td>0.61</td>\n",
       "      <td>0.64</td>\n",
       "      <td>0.63</td>\n",
       "      <td>0.44</td>\n",
       "      <td>0.58</td>\n",
       "      <td>0.61</td>\n",
       "      <td>0.60</td>\n",
       "      <td>...</td>\n",
       "      <td>0.72</td>\n",
       "      <td>0.69</td>\n",
       "      <td>0.66</td>\n",
       "      <td>0.58</td>\n",
       "      <td>0.51</td>\n",
       "      <td>0.49</td>\n",
       "      <td>0.40</td>\n",
       "      <td>0.26</td>\n",
       "      <td>0.12</td>\n",
       "      <td>EPILEPSY</td>\n",
       "    </tr>\n",
       "  </tbody>\n",
       "</table>\n",
       "<p>5 rows × 207 columns</p>\n",
       "</div>"
      ],
      "text/plain": [
       "    0     1     2     3     4     5     6     7     8     9    ...   197  \\\n",
       "0  0.35  0.40  0.44  0.47  0.48  0.47  0.44  0.42  0.43  0.37  ...  0.51   \n",
       "1 -0.91 -0.92 -0.95 -0.95 -0.95 -0.94 -0.96 -0.96 -0.95 -0.95  ... -0.51   \n",
       "2  0.32  0.71  0.70  0.75  0.88  0.58  1.34  0.66  0.71  0.23  ...  0.63   \n",
       "3 -0.68 -0.36 -0.13 -0.38 -0.49 -0.48 -0.27 -0.26 -0.48 -0.44  ... -0.51   \n",
       "4  0.34  0.53  0.58  0.61  0.64  0.63  0.44  0.58  0.61  0.60  ...  0.72   \n",
       "\n",
       "    198   199   200   201   202   203   204   205       206  \n",
       "0  0.50  0.55  0.54  0.58  0.61  0.62  0.65  0.69  EPILEPSY  \n",
       "1 -0.56 -0.58 -0.61 -0.56 -0.56 -0.47 -0.45 -0.45  EPILEPSY  \n",
       "2  0.60  0.60  0.59  0.59  0.58  0.59  0.59  0.59  EPILEPSY  \n",
       "3 -0.38 -0.26 -0.25 -0.32 -0.32 -0.40 -0.23 -0.25  EPILEPSY  \n",
       "4  0.69  0.66  0.58  0.51  0.49  0.40  0.26  0.12  EPILEPSY  \n",
       "\n",
       "[5 rows x 207 columns]"
      ]
     },
     "execution_count": 3,
     "metadata": {},
     "output_type": "execute_result"
    }
   ],
   "source": [
    "pd.read_csv(TrainFileNames[0], header=None,  skiprows=211).head()"
   ]
  },
  {
   "cell_type": "code",
   "execution_count": 4,
   "metadata": {},
   "outputs": [
    {
     "data": {
      "text/html": [
       "<div>\n",
       "<style scoped>\n",
       "    .dataframe tbody tr th:only-of-type {\n",
       "        vertical-align: middle;\n",
       "    }\n",
       "\n",
       "    .dataframe tbody tr th {\n",
       "        vertical-align: top;\n",
       "    }\n",
       "\n",
       "    .dataframe thead th {\n",
       "        text-align: right;\n",
       "    }\n",
       "</style>\n",
       "<table border=\"1\" class=\"dataframe\">\n",
       "  <thead>\n",
       "    <tr style=\"text-align: right;\">\n",
       "      <th></th>\n",
       "      <th>0</th>\n",
       "      <th>1</th>\n",
       "      <th>2</th>\n",
       "      <th>3</th>\n",
       "      <th>4</th>\n",
       "      <th>5</th>\n",
       "      <th>6</th>\n",
       "      <th>7</th>\n",
       "      <th>8</th>\n",
       "      <th>9</th>\n",
       "      <th>...</th>\n",
       "      <th>197</th>\n",
       "      <th>198</th>\n",
       "      <th>199</th>\n",
       "      <th>200</th>\n",
       "      <th>201</th>\n",
       "      <th>202</th>\n",
       "      <th>203</th>\n",
       "      <th>204</th>\n",
       "      <th>205</th>\n",
       "      <th>206</th>\n",
       "    </tr>\n",
       "  </thead>\n",
       "  <tbody>\n",
       "    <tr>\n",
       "      <th>0</th>\n",
       "      <td>0.60</td>\n",
       "      <td>0.60</td>\n",
       "      <td>0.60</td>\n",
       "      <td>0.61</td>\n",
       "      <td>0.59</td>\n",
       "      <td>0.59</td>\n",
       "      <td>0.59</td>\n",
       "      <td>0.60</td>\n",
       "      <td>0.60</td>\n",
       "      <td>0.60</td>\n",
       "      <td>...</td>\n",
       "      <td>-0.75</td>\n",
       "      <td>-0.70</td>\n",
       "      <td>-0.68</td>\n",
       "      <td>-0.69</td>\n",
       "      <td>-0.70</td>\n",
       "      <td>-0.70</td>\n",
       "      <td>-0.69</td>\n",
       "      <td>-0.70</td>\n",
       "      <td>-0.70</td>\n",
       "      <td>EPILEPSY</td>\n",
       "    </tr>\n",
       "    <tr>\n",
       "      <th>1</th>\n",
       "      <td>-0.35</td>\n",
       "      <td>-0.44</td>\n",
       "      <td>-0.86</td>\n",
       "      <td>-0.64</td>\n",
       "      <td>-0.45</td>\n",
       "      <td>-0.25</td>\n",
       "      <td>-0.08</td>\n",
       "      <td>-0.07</td>\n",
       "      <td>0.30</td>\n",
       "      <td>0.73</td>\n",
       "      <td>...</td>\n",
       "      <td>-0.08</td>\n",
       "      <td>-0.06</td>\n",
       "      <td>-0.01</td>\n",
       "      <td>-0.05</td>\n",
       "      <td>-0.03</td>\n",
       "      <td>-0.11</td>\n",
       "      <td>-0.18</td>\n",
       "      <td>-0.16</td>\n",
       "      <td>-0.14</td>\n",
       "      <td>EPILEPSY</td>\n",
       "    </tr>\n",
       "    <tr>\n",
       "      <th>2</th>\n",
       "      <td>-0.08</td>\n",
       "      <td>-0.01</td>\n",
       "      <td>-0.53</td>\n",
       "      <td>-0.49</td>\n",
       "      <td>0.04</td>\n",
       "      <td>-0.44</td>\n",
       "      <td>-0.42</td>\n",
       "      <td>-0.04</td>\n",
       "      <td>0.04</td>\n",
       "      <td>-0.43</td>\n",
       "      <td>...</td>\n",
       "      <td>0.41</td>\n",
       "      <td>0.38</td>\n",
       "      <td>0.35</td>\n",
       "      <td>0.32</td>\n",
       "      <td>0.34</td>\n",
       "      <td>0.36</td>\n",
       "      <td>0.34</td>\n",
       "      <td>0.32</td>\n",
       "      <td>0.32</td>\n",
       "      <td>EPILEPSY</td>\n",
       "    </tr>\n",
       "    <tr>\n",
       "      <th>3</th>\n",
       "      <td>-0.43</td>\n",
       "      <td>-0.44</td>\n",
       "      <td>-0.47</td>\n",
       "      <td>-0.49</td>\n",
       "      <td>-0.53</td>\n",
       "      <td>-0.53</td>\n",
       "      <td>-0.57</td>\n",
       "      <td>-0.56</td>\n",
       "      <td>-0.51</td>\n",
       "      <td>-0.48</td>\n",
       "      <td>...</td>\n",
       "      <td>-0.27</td>\n",
       "      <td>-0.34</td>\n",
       "      <td>-0.36</td>\n",
       "      <td>-0.44</td>\n",
       "      <td>-0.35</td>\n",
       "      <td>-0.36</td>\n",
       "      <td>-0.34</td>\n",
       "      <td>-0.31</td>\n",
       "      <td>-0.31</td>\n",
       "      <td>EPILEPSY</td>\n",
       "    </tr>\n",
       "    <tr>\n",
       "      <th>4</th>\n",
       "      <td>-0.30</td>\n",
       "      <td>-0.81</td>\n",
       "      <td>-0.55</td>\n",
       "      <td>-0.81</td>\n",
       "      <td>-0.13</td>\n",
       "      <td>-1.10</td>\n",
       "      <td>-0.59</td>\n",
       "      <td>-0.64</td>\n",
       "      <td>-0.25</td>\n",
       "      <td>-1.06</td>\n",
       "      <td>...</td>\n",
       "      <td>-0.28</td>\n",
       "      <td>-0.37</td>\n",
       "      <td>-0.51</td>\n",
       "      <td>-0.66</td>\n",
       "      <td>-0.78</td>\n",
       "      <td>-0.87</td>\n",
       "      <td>-0.87</td>\n",
       "      <td>-0.81</td>\n",
       "      <td>-0.80</td>\n",
       "      <td>EPILEPSY</td>\n",
       "    </tr>\n",
       "  </tbody>\n",
       "</table>\n",
       "<p>5 rows × 207 columns</p>\n",
       "</div>"
      ],
      "text/plain": [
       "    0     1     2     3     4     5     6     7     8     9    ...   197  \\\n",
       "0  0.60  0.60  0.60  0.61  0.59  0.59  0.59  0.60  0.60  0.60  ... -0.75   \n",
       "1 -0.35 -0.44 -0.86 -0.64 -0.45 -0.25 -0.08 -0.07  0.30  0.73  ... -0.08   \n",
       "2 -0.08 -0.01 -0.53 -0.49  0.04 -0.44 -0.42 -0.04  0.04 -0.43  ...  0.41   \n",
       "3 -0.43 -0.44 -0.47 -0.49 -0.53 -0.53 -0.57 -0.56 -0.51 -0.48  ... -0.27   \n",
       "4 -0.30 -0.81 -0.55 -0.81 -0.13 -1.10 -0.59 -0.64 -0.25 -1.06  ... -0.28   \n",
       "\n",
       "    198   199   200   201   202   203   204   205       206  \n",
       "0 -0.70 -0.68 -0.69 -0.70 -0.70 -0.69 -0.70 -0.70  EPILEPSY  \n",
       "1 -0.06 -0.01 -0.05 -0.03 -0.11 -0.18 -0.16 -0.14  EPILEPSY  \n",
       "2  0.38  0.35  0.32  0.34  0.36  0.34  0.32  0.32  EPILEPSY  \n",
       "3 -0.34 -0.36 -0.44 -0.35 -0.36 -0.34 -0.31 -0.31  EPILEPSY  \n",
       "4 -0.37 -0.51 -0.66 -0.78 -0.87 -0.87 -0.81 -0.80  EPILEPSY  \n",
       "\n",
       "[5 rows x 207 columns]"
      ]
     },
     "execution_count": 4,
     "metadata": {},
     "output_type": "execute_result"
    }
   ],
   "source": [
    "pd.read_csv(TestFileNames[0], header=None,  skiprows=211).head()"
   ]
  },
  {
   "cell_type": "markdown",
   "metadata": {},
   "source": [
    "Data\n",
    "- Time span = 207\n",
    "- Data Columns: 3\n",
    "- Samples\n",
    "    - Train: 137\n",
    "    - Test: 138"
   ]
  },
  {
   "cell_type": "code",
   "execution_count": 5,
   "metadata": {},
   "outputs": [],
   "source": [
    "TrainChannels, TestChannels = [], []\n",
    "for channel in range(0, 3):\n",
    "    TrainChannels.append(pd.read_csv(TrainFileNames[channel], header=None,  skiprows=211).transpose())\n",
    "    TestChannels.append(pd.read_csv(TestFileNames[channel], header=None,  skiprows=211).transpose())"
   ]
  },
  {
   "cell_type": "code",
   "execution_count": 6,
   "metadata": {},
   "outputs": [
    {
     "name": "stdout",
     "output_type": "stream",
     "text": [
      "[(207, 137), (207, 137), (207, 137)]\n",
      "[(207, 138), (207, 138), (207, 138)]\n"
     ]
    }
   ],
   "source": [
    "print([Channel.shape for Channel in TrainChannels])\n",
    "print([Channel.shape for Channel in TestChannels ])"
   ]
  },
  {
   "cell_type": "markdown",
   "metadata": {},
   "source": [
    "## Data Preprocessing\n",
    "- concatenate three cnannels to matrix"
   ]
  },
  {
   "cell_type": "code",
   "execution_count": 7,
   "metadata": {},
   "outputs": [
    {
     "data": {
      "text/plain": [
       "array([[0.35, 0.22, 0.55],\n",
       "       [0.4, 0.01, 0.51],\n",
       "       [0.44, -0.71, 0.52],\n",
       "       [0.47, -0.33, 0.44],\n",
       "       [0.48, -0.4, 0.45],\n",
       "       [0.47, 0.19, 0.56],\n",
       "       [0.44, 0.36, 0.71],\n",
       "       [0.42, -0.58, 0.63],\n",
       "       [0.43, -1.45, 0.7],\n",
       "       [0.37, -0.87, 0.81],\n",
       "       [0.28, 0.42, 0.86],\n",
       "       [0.18, 0.71, 0.89],\n",
       "       [0.18, -0.95, 0.93],\n",
       "       [0.16, -2.46, 0.95],\n",
       "       [0.17, -1.1, 0.95],\n",
       "       [0.12, 0.58, 0.96],\n",
       "       [0.12, 1.02, 0.98],\n",
       "       [0.17, -0.47, 1.0],\n",
       "       [0.2, -2.46, 0.98],\n",
       "       [0.32, -0.91, 0.94],\n",
       "       [0.42, 0.51, 0.93],\n",
       "       [0.47, 0.91, 0.91],\n",
       "       [0.56, -1.18, 0.88],\n",
       "       [0.7, -2.18, 0.87],\n",
       "       [0.79, -0.67, 0.87],\n",
       "       [0.83, 0.13, 0.9],\n",
       "       [0.88, 0.63, 0.9],\n",
       "       [0.89, -1.17, 0.86],\n",
       "       [0.89, -2.0, 0.82],\n",
       "       [0.9, -0.6, 0.84],\n",
       "       [0.89, 0.04, 0.77],\n",
       "       [0.85, 0.64, 0.79],\n",
       "       [0.8, -1.27, 0.82],\n",
       "       [0.7, -1.08, 0.69],\n",
       "       [0.59, -0.74, 0.63],\n",
       "       [0.49, 0.18, 0.66],\n",
       "       [0.47, 0.48, 0.45],\n",
       "       [0.38, -0.94, 0.17],\n",
       "       [0.36, -0.52, -0.37],\n",
       "       [0.33, -0.4, -0.69],\n",
       "       [0.28, 0.02, -0.8],\n",
       "       [0.2, -0.22, -0.77],\n",
       "       [0.21, -0.96, -0.73],\n",
       "       [0.14, -0.45, -0.79],\n",
       "       [0.16, -0.14, -0.67],\n",
       "       [0.31, 0.54, -0.47],\n",
       "       [0.41, -0.72, -0.45],\n",
       "       [0.45, -0.63, -0.38],\n",
       "       [0.46, -0.76, -0.28],\n",
       "       [0.52, -0.35, -0.19],\n",
       "       [0.61, 0.56, -0.11],\n",
       "       [0.64, 0.04, -0.07],\n",
       "       [0.66, -1.7, -0.06],\n",
       "       [0.66, -1.13, -0.01],\n",
       "       [0.7, -0.32, 0.07],\n",
       "       [0.72, 0.03, 0.08],\n",
       "       [0.74, 0.16, 0.05],\n",
       "       [0.72, -1.48, -0.02],\n",
       "       [0.77, -0.76, -0.06],\n",
       "       [0.77, -0.1, -0.16],\n",
       "       [0.78, 0.44, -0.29],\n",
       "       [0.77, -0.55, -0.47],\n",
       "       [0.74, -1.52, -0.48],\n",
       "       [0.72, -0.4, -0.55],\n",
       "       [0.69, 0.3, -0.53],\n",
       "       [0.7, 0.76, -0.57],\n",
       "       [0.7, -1.1, -0.48],\n",
       "       [0.74, -1.2, -0.51],\n",
       "       [0.74, -0.81, -0.69],\n",
       "       [0.72, 0.0, -0.78],\n",
       "       [0.71, 0.6, -0.5],\n",
       "       [0.74, -1.13, -0.26],\n",
       "       [0.68, -1.67, -0.03],\n",
       "       [0.65, -0.23, 0.09],\n",
       "       [0.62, -0.04, 0.05],\n",
       "       [0.61, 0.35, 0.07],\n",
       "       [0.6, -1.65, 0.16],\n",
       "       [0.58, -1.06, 0.16],\n",
       "       [0.58, -0.25, 0.17],\n",
       "       [0.63, 0.16, 0.25],\n",
       "       [0.63, -0.71, 0.34],\n",
       "       [0.65, -2.26, 0.33],\n",
       "       [0.66, -0.48, 0.39],\n",
       "       [0.67, -0.2, 0.26],\n",
       "       [0.68, 0.35, 0.28],\n",
       "       [0.69, -1.23, 0.42],\n",
       "       [0.72, -1.78, 0.35],\n",
       "       [0.73, -0.58, 0.3],\n",
       "       [0.78, 0.26, 0.27],\n",
       "       [0.77, 0.52, 0.38],\n",
       "       [0.73, -1.95, 0.44],\n",
       "       [0.72, -0.89, 0.5],\n",
       "       [0.72, -0.38, 0.6],\n",
       "       [0.72, -0.27, 0.72],\n",
       "       [0.68, 0.29, 0.74],\n",
       "       [0.7, -1.11, 0.67],\n",
       "       [0.71, -1.48, 0.66],\n",
       "       [0.71, -0.33, 0.7],\n",
       "       [0.72, -0.06, 0.6],\n",
       "       [0.72, 0.32, 0.69],\n",
       "       [0.7, -1.65, 0.81],\n",
       "       [0.7, -0.99, 0.89],\n",
       "       [0.69, -0.53, 0.88],\n",
       "       [0.66, 0.2, 0.82],\n",
       "       [0.69, -0.18, 0.75],\n",
       "       [0.7, -2.39, 0.85],\n",
       "       [0.68, -0.44, 0.78],\n",
       "       [0.69, -0.2, 0.76],\n",
       "       [0.7, 0.28, 0.74],\n",
       "       [0.69, -1.26, 0.81],\n",
       "       [0.66, -2.14, 0.88],\n",
       "       [0.7, -1.06, 0.75],\n",
       "       [0.7, 0.07, 0.53],\n",
       "       [0.7, 0.6, 0.39],\n",
       "       [0.7, -1.45, 0.14],\n",
       "       [0.63, -1.42, -0.07],\n",
       "       [0.58, -0.67, -0.1],\n",
       "       [0.52, 0.2, -0.18],\n",
       "       [0.45, 0.51, -0.17],\n",
       "       [0.43, -1.06, -0.27],\n",
       "       [0.42, -1.1, -0.25],\n",
       "       [0.34, -0.78, -0.19],\n",
       "       [0.34, 0.5, -0.11],\n",
       "       [0.34, 0.45, -0.05],\n",
       "       [0.3, -1.5, 0.05],\n",
       "       [0.27, -0.79, 0.11],\n",
       "       [0.22, -0.33, 0.22],\n",
       "       [0.22, 0.09, 0.32],\n",
       "       [0.2, 0.12, 0.41],\n",
       "       [0.2, -1.2, 0.39],\n",
       "       [0.13, -0.7, 0.51],\n",
       "       [0.11, -0.61, 0.74],\n",
       "       [0.07, 0.3, 0.64],\n",
       "       [0.04, 0.32, 0.47],\n",
       "       [0.05, -0.93, 0.35],\n",
       "       [0.1, -0.26, 0.42],\n",
       "       [0.15, -0.84, 0.39],\n",
       "       [0.26, 0.04, 0.37],\n",
       "       [0.37, 0.11, 0.39],\n",
       "       [0.39, -0.78, 0.4],\n",
       "       [0.41, 0.63, 0.4],\n",
       "       [0.41, -0.59, 0.46],\n",
       "       [0.48, -0.07, 0.45],\n",
       "       [0.54, 0.1, 0.38],\n",
       "       [0.55, -0.32, 0.23],\n",
       "       [0.58, 0.8, -0.15],\n",
       "       [0.55, -0.66, -0.4],\n",
       "       [0.52, 0.35, -0.16],\n",
       "       [0.51, 0.22, -0.18],\n",
       "       [0.5, -1.06, -0.26],\n",
       "       [0.41, -0.04, -0.29],\n",
       "       [0.33, -0.54, -0.35],\n",
       "       [0.29, 0.15, -0.62],\n",
       "       [0.25, 0.03, -0.64],\n",
       "       [0.19, -1.1, -0.59],\n",
       "       [0.16, -0.09, -0.54],\n",
       "       [0.18, -0.57, -0.67],\n",
       "       [0.19, 0.2, -0.66],\n",
       "       [0.2, 0.1, -0.54],\n",
       "       [0.27, -1.23, -0.48],\n",
       "       [0.3, -0.2, -0.45],\n",
       "       [0.33, -0.58, -0.55],\n",
       "       [0.4, -0.07, -0.73],\n",
       "       [0.47, 0.03, -0.61],\n",
       "       [0.52, -0.46, -0.44],\n",
       "       [0.6, 0.13, -0.29],\n",
       "       [0.64, -0.69, -0.15],\n",
       "       [0.7, -0.15, -0.03],\n",
       "       [0.74, 0.24, -0.06],\n",
       "       [0.78, -0.82, -0.06],\n",
       "       [0.8, -0.27, 0.16],\n",
       "       [0.83, -0.93, 0.36],\n",
       "       [0.82, -0.18, 0.52],\n",
       "       [0.82, 0.01, 0.64],\n",
       "       [0.84, -0.45, 0.72],\n",
       "       [0.86, -0.34, 0.75],\n",
       "       [0.86, -0.82, 0.64],\n",
       "       [0.85, -0.1, 0.81],\n",
       "       [0.83, 0.23, 1.0],\n",
       "       [0.85, -0.44, 1.11],\n",
       "       [0.86, 0.16, 1.13],\n",
       "       [0.82, -0.81, 1.11],\n",
       "       [0.81, -0.15, 1.02],\n",
       "       [0.79, -0.13, 0.99],\n",
       "       [0.8, -0.94, 0.98],\n",
       "       [0.77, -0.79, 1.05],\n",
       "       [0.76, -0.62, 1.01],\n",
       "       [0.74, -0.22, 0.99],\n",
       "       [0.72, -0.19, 0.92],\n",
       "       [0.71, -0.29, 0.88],\n",
       "       [0.69, -0.79, 0.81],\n",
       "       [0.68, -0.76, 0.81],\n",
       "       [0.65, 0.16, 0.7],\n",
       "       [0.6, 0.12, 0.65],\n",
       "       [0.57, -0.82, 0.58],\n",
       "       [0.53, -0.59, 0.59],\n",
       "       [0.51, -0.81, 0.56],\n",
       "       [0.51, -0.05, 0.66],\n",
       "       [0.5, 0.42, 0.6],\n",
       "       [0.55, -0.83, 0.42],\n",
       "       [0.54, -1.46, 0.42],\n",
       "       [0.58, -0.88, 0.53],\n",
       "       [0.61, -0.04, 0.54],\n",
       "       [0.62, 0.72, 0.5],\n",
       "       [0.65, -0.9, 0.55],\n",
       "       [0.69, -1.3, 0.54],\n",
       "       ['EPILEPSY', 'EPILEPSY', 'EPILEPSY']], dtype=object)"
      ]
     },
     "execution_count": 7,
     "metadata": {},
     "output_type": "execute_result"
    }
   ],
   "source": [
    "np.column_stack([\n",
    "    TrainChannels[0][0],\n",
    "    TrainChannels[1][0],\n",
    "    TrainChannels[2][0]\n",
    "])"
   ]
  },
  {
   "cell_type": "code",
   "execution_count": 8,
   "metadata": {},
   "outputs": [],
   "source": [
    "Train_x = []\n",
    "Train_y = TrainChannels[0].loc[206]\n",
    "for i in range(137):\n",
    "    Train_x.append(\n",
    "        np.column_stack([\n",
    "            TrainChannels[0][i][:206],\n",
    "            TrainChannels[1][i][:206],\n",
    "            TrainChannels[2][i][:206]\n",
    "        ])\n",
    "    )\n",
    "Train_x = np.stack(Train_x)"
   ]
  },
  {
   "cell_type": "code",
   "execution_count": 9,
   "metadata": {},
   "outputs": [],
   "source": [
    "Test_x = []\n",
    "Test_y = TestChannels[0].loc[206]\n",
    "for i in range(138):\n",
    "    Test_x.append(\n",
    "        np.column_stack([\n",
    "            TestChannels[0][i][:206],\n",
    "            TestChannels[1][i][:206],\n",
    "            TestChannels[2][i][:206]\n",
    "        ])\n",
    "    )\n",
    "Test_x = np.stack(Test_x)"
   ]
  },
  {
   "cell_type": "markdown",
   "metadata": {},
   "source": [
    "## Simple Visualization"
   ]
  },
  {
   "cell_type": "code",
   "execution_count": 10,
   "metadata": {},
   "outputs": [
    {
     "name": "stdout",
     "output_type": "stream",
     "text": [
      "EPILEPSY\n"
     ]
    }
   ],
   "source": [
    "tmpPatient = pd.DataFrame(Train_x[0])\n",
    "print(Train_y[0])"
   ]
  },
  {
   "cell_type": "code",
   "execution_count": 11,
   "metadata": {},
   "outputs": [
    {
     "data": {
      "text/plain": [
       "<AxesSubplot:>"
      ]
     },
     "execution_count": 11,
     "metadata": {},
     "output_type": "execute_result"
    },
    {
     "data": {
      "image/png": "[encoded data removed]",
      "text/plain": [
       "<Figure size 432x288 with 1 Axes>"
      ]
     },
     "metadata": {
      "needs_background": "light"
     },
     "output_type": "display_data"
    }
   ],
   "source": [
    "tmpPatient.plot()"
   ]
  },
  {
   "cell_type": "code",
   "execution_count": 12,
   "metadata": {},
   "outputs": [
    {
     "data": {
      "text/plain": [
       "<AxesSubplot:>"
      ]
     },
     "execution_count": 12,
     "metadata": {},
     "output_type": "execute_result"
    },
    {
     "data": {
      "image/png": "[encoded data removed]",
      "text/plain": [
       "<Figure size 432x288 with 1 Axes>"
      ]
     },
     "metadata": {
      "needs_background": "light"
     },
     "output_type": "display_data"
    }
   ],
   "source": [
    "tmpPatient[0].plot()"
   ]
  },
  {
   "cell_type": "code",
   "execution_count": 13,
   "metadata": {},
   "outputs": [
    {
     "data": {
      "text/plain": [
       "<AxesSubplot:>"
      ]
     },
     "execution_count": 13,
     "metadata": {},
     "output_type": "execute_result"
    },
    {
     "data": {
      "image/png": "[encoded data removed]",
      "text/plain": [
       "<Figure size 432x288 with 1 Axes>"
      ]
     },
     "metadata": {
      "needs_background": "light"
     },
     "output_type": "display_data"
    }
   ],
   "source": [
    "tmpPatient[1].plot()"
   ]
  },
  {
   "cell_type": "code",
   "execution_count": 14,
   "metadata": {},
   "outputs": [
    {
     "data": {
      "text/plain": [
       "<AxesSubplot:>"
      ]
     },
     "execution_count": 14,
     "metadata": {},
     "output_type": "execute_result"
    },
    {
     "data": {
      "image/png": "[encoded data removed]",
      "text/plain": [
       "<Figure size 432x288 with 1 Axes>"
      ]
     },
     "metadata": {
      "needs_background": "light"
     },
     "output_type": "display_data"
    }
   ],
   "source": [
    "tmpPatient[2].plot()"
   ]
  },
  {
   "cell_type": "markdown",
   "metadata": {},
   "source": [
    "### Data preprocessing"
   ]
  },
  {
   "cell_type": "markdown",
   "metadata": {},
   "source": [
    "#### Check data type of Features"
   ]
  },
  {
   "cell_type": "code",
   "execution_count": 15,
   "metadata": {},
   "outputs": [
    {
     "data": {
      "text/plain": [
       "dtype('O')"
      ]
     },
     "execution_count": 15,
     "metadata": {},
     "output_type": "execute_result"
    }
   ],
   "source": [
    "Train_x.dtype"
   ]
  },
  {
   "cell_type": "code",
   "execution_count": 16,
   "metadata": {},
   "outputs": [],
   "source": [
    "Train_x = Train_x.astype('float')\n",
    "Test_x = Test_x.astype('float')"
   ]
  },
  {
   "cell_type": "code",
   "execution_count": 17,
   "metadata": {},
   "outputs": [
    {
     "data": {
      "text/plain": [
       "dtype('float64')"
      ]
     },
     "execution_count": 17,
     "metadata": {},
     "output_type": "execute_result"
    }
   ],
   "source": [
    "Train_x.dtype"
   ]
  },
  {
   "cell_type": "markdown",
   "metadata": {},
   "source": [
    "#### Check label data type and encode to one-hot"
   ]
  },
  {
   "cell_type": "code",
   "execution_count": 18,
   "metadata": {},
   "outputs": [
    {
     "data": {
      "text/plain": [
       "0    EPILEPSY\n",
       "1    EPILEPSY\n",
       "2    EPILEPSY\n",
       "3    EPILEPSY\n",
       "4    EPILEPSY\n",
       "Name: 206, dtype: object"
      ]
     },
     "execution_count": 18,
     "metadata": {},
     "output_type": "execute_result"
    }
   ],
   "source": [
    "Train_y.head()"
   ]
  },
  {
   "cell_type": "code",
   "execution_count": 19,
   "metadata": {},
   "outputs": [],
   "source": [
    "Train_y = pd.get_dummies(Train_y)\n",
    "Test_y = pd.get_dummies(Test_y)"
   ]
  },
  {
   "cell_type": "code",
   "execution_count": 20,
   "metadata": {},
   "outputs": [
    {
     "data": {
      "text/html": [
       "<div>\n",
       "<style scoped>\n",
       "    .dataframe tbody tr th:only-of-type {\n",
       "        vertical-align: middle;\n",
       "    }\n",
       "\n",
       "    .dataframe tbody tr th {\n",
       "        vertical-align: top;\n",
       "    }\n",
       "\n",
       "    .dataframe thead th {\n",
       "        text-align: right;\n",
       "    }\n",
       "</style>\n",
       "<table border=\"1\" class=\"dataframe\">\n",
       "  <thead>\n",
       "    <tr style=\"text-align: right;\">\n",
       "      <th></th>\n",
       "      <th>EPILEPSY</th>\n",
       "      <th>RUNNING</th>\n",
       "      <th>SAWING</th>\n",
       "      <th>WALKING</th>\n",
       "    </tr>\n",
       "  </thead>\n",
       "  <tbody>\n",
       "    <tr>\n",
       "      <th>0</th>\n",
       "      <td>1</td>\n",
       "      <td>0</td>\n",
       "      <td>0</td>\n",
       "      <td>0</td>\n",
       "    </tr>\n",
       "    <tr>\n",
       "      <th>1</th>\n",
       "      <td>1</td>\n",
       "      <td>0</td>\n",
       "      <td>0</td>\n",
       "      <td>0</td>\n",
       "    </tr>\n",
       "    <tr>\n",
       "      <th>2</th>\n",
       "      <td>1</td>\n",
       "      <td>0</td>\n",
       "      <td>0</td>\n",
       "      <td>0</td>\n",
       "    </tr>\n",
       "    <tr>\n",
       "      <th>3</th>\n",
       "      <td>1</td>\n",
       "      <td>0</td>\n",
       "      <td>0</td>\n",
       "      <td>0</td>\n",
       "    </tr>\n",
       "    <tr>\n",
       "      <th>4</th>\n",
       "      <td>1</td>\n",
       "      <td>0</td>\n",
       "      <td>0</td>\n",
       "      <td>0</td>\n",
       "    </tr>\n",
       "    <tr>\n",
       "      <th>...</th>\n",
       "      <td>...</td>\n",
       "      <td>...</td>\n",
       "      <td>...</td>\n",
       "      <td>...</td>\n",
       "    </tr>\n",
       "    <tr>\n",
       "      <th>132</th>\n",
       "      <td>0</td>\n",
       "      <td>0</td>\n",
       "      <td>1</td>\n",
       "      <td>0</td>\n",
       "    </tr>\n",
       "    <tr>\n",
       "      <th>133</th>\n",
       "      <td>0</td>\n",
       "      <td>0</td>\n",
       "      <td>1</td>\n",
       "      <td>0</td>\n",
       "    </tr>\n",
       "    <tr>\n",
       "      <th>134</th>\n",
       "      <td>0</td>\n",
       "      <td>0</td>\n",
       "      <td>1</td>\n",
       "      <td>0</td>\n",
       "    </tr>\n",
       "    <tr>\n",
       "      <th>135</th>\n",
       "      <td>0</td>\n",
       "      <td>0</td>\n",
       "      <td>1</td>\n",
       "      <td>0</td>\n",
       "    </tr>\n",
       "    <tr>\n",
       "      <th>136</th>\n",
       "      <td>0</td>\n",
       "      <td>0</td>\n",
       "      <td>1</td>\n",
       "      <td>0</td>\n",
       "    </tr>\n",
       "  </tbody>\n",
       "</table>\n",
       "<p>137 rows × 4 columns</p>\n",
       "</div>"
      ],
      "text/plain": [
       "     EPILEPSY  RUNNING  SAWING  WALKING\n",
       "0           1        0       0        0\n",
       "1           1        0       0        0\n",
       "2           1        0       0        0\n",
       "3           1        0       0        0\n",
       "4           1        0       0        0\n",
       "..        ...      ...     ...      ...\n",
       "132         0        0       1        0\n",
       "133         0        0       1        0\n",
       "134         0        0       1        0\n",
       "135         0        0       1        0\n",
       "136         0        0       1        0\n",
       "\n",
       "[137 rows x 4 columns]"
      ]
     },
     "execution_count": 20,
     "metadata": {},
     "output_type": "execute_result"
    }
   ],
   "source": [
    "Train_y"
   ]
  },
  {
   "cell_type": "markdown",
   "metadata": {},
   "source": [
    "### Save data to npz file"
   ]
  },
  {
   "cell_type": "code",
   "execution_count": 58,
   "metadata": {},
   "outputs": [],
   "source": [
    "np.savez('EpilepsyData.npz', Train_x=Train_x, Train_y=Train_y, Test_x=Test_x, Test_y=Test_y)"
   ]
  }
 ],
 "metadata": {
  "kernelspec": {
   "display_name": "Python 3 (ipykernel)",
   "language": "python",
   "name": "python3"
  },
  "language_info": {
   "codemirror_mode": {
    "name": "ipython",
    "version": 3
   },
   "file_extension": ".py",
   "mimetype": "text/x-python",
   "name": "python",
   "nbconvert_exporter": "python",
   "pygments_lexer": "ipython3",
   "version": "3.10.5"
  },
  "vscode": {
   "interpreter": {
    "hash": "beedbe2faf2f7048d727558d0bc3221e7eba2a0b921cac4d4771b2feb8f74b30"
   }
  }
 },
 "nbformat": 4,
 "nbformat_minor": 2
}
