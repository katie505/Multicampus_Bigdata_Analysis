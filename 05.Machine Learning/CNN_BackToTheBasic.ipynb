{
 "cells": [
  {
   "cell_type": "markdown",
   "id": "4e041878",
   "metadata": {},
   "source": [
    "# CNN - 기초 Again"
   ]
  },
  {
   "cell_type": "code",
   "execution_count": 5,
   "id": "80f15975",
   "metadata": {},
   "outputs": [],
   "source": [
    "from tensorflow.keras import models, layers, Model\n",
    "from tensorflow.keras.models import Sequential, load_model\n",
    "from tensorflow.keras.layers import Conv2D, MaxPooling2D\n",
    "from tensorflow.keras.layers import Dense, Dropout, Flatten, GlobalAveragePooling2D\n",
    "from tensorflow.keras.layers import Flatten, Dense, Dropout, ZeroPadding2D\n",
    "\n",
    "from tensorflow.keras.preprocessing.image import ImageDataGenerator\n",
    "from tensorflow.keras.callbacks import ModelCheckpoint, TensorBoard, ReduceLROnPlateau\n",
    "from tensorflow.keras import optimizers\n",
    "from tensorflow.keras.optimizers import SGD\n",
    "from tensorflow.keras.models import Model\n",
    "from tensorflow.keras.preprocessing import image\n",
    "from tensorflow.keras.applications import EfficientNetB4, EfficientNetB6, ResNet50V2"
   ]
  },
  {
   "cell_type": "code",
   "execution_count": 6,
   "id": "95bb5ad2",
   "metadata": {},
   "outputs": [],
   "source": [
    "import tensorflow as tf\n",
    "\n",
    "import scikitplot as skplt\n",
    "from matplotlib import pyplot as plt\n",
    "import matplotlib.pyplot as plt\n",
    "\n",
    "import numpy as np\n",
    "import pandas as pd\n",
    "import PIL\n",
    "import os"
   ]
  },
  {
   "cell_type": "markdown",
   "id": "1883aebc",
   "metadata": {},
   "source": [
    "# 1. 기본 이미지 변수로 다루기"
   ]
  },
  {
   "cell_type": "code",
   "execution_count": 7,
   "id": "c92785b0",
   "metadata": {},
   "outputs": [],
   "source": [
    "# 현재 폴더에 파일들 확인하기\n",
    "os.chdir('Data/CNN')"
   ]
  },
  {
   "cell_type": "markdown",
   "id": "2f1881af",
   "metadata": {},
   "source": [
    "# 2. 이미지 여러장 읽기"
   ]
  },
  {
   "cell_type": "code",
   "execution_count": 8,
   "id": "f3e96168",
   "metadata": {},
   "outputs": [],
   "source": [
    "ImageSize = (56, 56)"
   ]
  },
  {
   "cell_type": "markdown",
   "id": "ae9d4322",
   "metadata": {},
   "source": [
    "## Train 데이터 모두 읽기"
   ]
  },
  {
   "cell_type": "code",
   "execution_count": 9,
   "id": "83190014",
   "metadata": {},
   "outputs": [],
   "source": [
    "Train_x = []\n",
    "Train_y = []\n",
    "for FileName in os.listdir('TRAIN/akiec/'):\n",
    "    Train_x.append(PIL.Image.open('TRAIN/akiec/' + FileName).resize(ImageSize))\n",
    "    Train_y.append(0)\n",
    "    \n",
    "for FileName in os.listdir('TRAIN/melanoma/'):\n",
    "    Train_x.append(PIL.Image.open('TRAIN/melanoma/' + FileName).resize(ImageSize))\n",
    "    Train_y.append(1)"
   ]
  },
  {
   "cell_type": "code",
   "execution_count": 10,
   "id": "a118ee18",
   "metadata": {},
   "outputs": [],
   "source": [
    "Train_x = np.stack(Train_x, axis=0 )\n",
    "Train_y = np.array(Train_y)"
   ]
  },
  {
   "cell_type": "code",
   "execution_count": 11,
   "id": "645d280b",
   "metadata": {},
   "outputs": [
    {
     "name": "stdout",
     "output_type": "stream",
     "text": [
      "(540, 56, 56, 3)\n",
      "(540,)\n"
     ]
    }
   ],
   "source": [
    "print(Train_x.shape)\n",
    "print(Train_y.shape)"
   ]
  },
  {
   "cell_type": "markdown",
   "id": "f5e80e32",
   "metadata": {},
   "source": [
    "# Test 데이터 모두 읽기"
   ]
  },
  {
   "cell_type": "code",
   "execution_count": 12,
   "id": "3976b515",
   "metadata": {},
   "outputs": [],
   "source": [
    "# List로 모든 이미지 읽은 후, numpy array로 수정\n",
    "Test_x = []\n",
    "Test_y = []\n",
    "for FileName in os.listdir('Test/akiec/'):\n",
    "    Test_x.append(PIL.Image.open('Test/akiec/' + FileName).resize(ImageSize))\n",
    "    Test_y.append(0)\n",
    "    \n",
    "for FileName in os.listdir('Test/melanoma/'):\n",
    "    Test_x.append(PIL.Image.open('Test/melanoma/' + FileName).resize(ImageSize))\n",
    "    Test_y.append(1)"
   ]
  },
  {
   "cell_type": "code",
   "execution_count": 13,
   "id": "c10a3e27",
   "metadata": {},
   "outputs": [],
   "source": [
    "Test_x = np.stack(Test_x, axis=0 )\n",
    "Test_y = np.array(Test_y)"
   ]
  },
  {
   "cell_type": "code",
   "execution_count": 14,
   "id": "3890db59",
   "metadata": {},
   "outputs": [
    {
     "name": "stdout",
     "output_type": "stream",
     "text": [
      "(60, 56, 56, 3)\n",
      "(60,)\n"
     ]
    }
   ],
   "source": [
    "print(Test_x.shape)\n",
    "print(Test_y.shape)"
   ]
  },
  {
   "cell_type": "code",
   "execution_count": 15,
   "id": "772c48ab",
   "metadata": {
    "scrolled": true
   },
   "outputs": [
    {
     "data": {
      "image/png": "[encoded data removed]",
      "text/plain": [
       "<Figure size 432x288 with 1 Axes>"
      ]
     },
     "metadata": {
      "needs_background": "light"
     },
     "output_type": "display_data"
    }
   ],
   "source": [
    "plt.imshow(Train_x[0], interpolation='nearest')\n",
    "plt.show()"
   ]
  },
  {
   "cell_type": "markdown",
   "id": "a2b64775",
   "metadata": {},
   "source": [
    "<br><br><br><br><br>"
   ]
  },
  {
   "cell_type": "markdown",
   "id": "14e7adae",
   "metadata": {},
   "source": [
    "# 3. 가장 기본적인 CNN 모델 구현하기"
   ]
  },
  {
   "cell_type": "code",
   "execution_count": 16,
   "id": "cde44a61",
   "metadata": {},
   "outputs": [],
   "source": [
    "model = tf.keras.models.Sequential()\n",
    "model.add(tf.keras.layers.Conv2D(1, (3, 3), activation='linear', input_shape=(56, 56, 3,)))\n",
    "model = Model(inputs=model.input, outputs=model.output)"
   ]
  },
  {
   "cell_type": "markdown",
   "id": "e6628094",
   "metadata": {},
   "source": [
    "Parameter가 28개인 이유: RGB 3개의 56*56에 따른 3*3 filter 3개 + 상수 b<br>\n",
    "\n",
    "(3 * 3) (filter) * 3 (RGB) + 1 (constant) = 28"
   ]
  },
  {
   "cell_type": "code",
   "execution_count": 17,
   "id": "bff94785",
   "metadata": {},
   "outputs": [
    {
     "name": "stdout",
     "output_type": "stream",
     "text": [
      "Model: \"model\"\n",
      "_________________________________________________________________\n",
      " Layer (type)                Output Shape              Param #   \n",
      "=================================================================\n",
      " conv2d_input (InputLayer)   [(None, 56, 56, 3)]       0         \n",
      "                                                                 \n",
      " conv2d (Conv2D)             (None, 54, 54, 1)         28        \n",
      "                                                                 \n",
      "=================================================================\n",
      "Total params: 28\n",
      "Trainable params: 28\n",
      "Non-trainable params: 0\n",
      "_________________________________________________________________\n"
     ]
    }
   ],
   "source": [
    "# filter size: 3*3 이므로, 56*56 -> 54*54로 이미지 크기 줄어듬\n",
    "model.summary()"
   ]
  },
  {
   "cell_type": "markdown",
   "id": "aa608f5e",
   "metadata": {},
   "source": [
    "Input의 shape 및 prediction을 통한 연산"
   ]
  },
  {
   "cell_type": "code",
   "execution_count": 18,
   "id": "46b48b07",
   "metadata": {},
   "outputs": [
    {
     "data": {
      "text/plain": [
       "(1, 56, 56, 3)"
      ]
     },
     "execution_count": 18,
     "metadata": {},
     "output_type": "execute_result"
    }
   ],
   "source": [
    "Test_x[:1].shape"
   ]
  },
  {
   "cell_type": "code",
   "execution_count": 19,
   "id": "18813ac3",
   "metadata": {},
   "outputs": [
    {
     "name": "stdout",
     "output_type": "stream",
     "text": [
      "1/1 [==============================] - 0s 298ms/step\n"
     ]
    }
   ],
   "source": [
    "Predicted = model.predict(Test_x[:1])"
   ]
  },
  {
   "cell_type": "code",
   "execution_count": 20,
   "id": "3800a178",
   "metadata": {},
   "outputs": [
    {
     "data": {
      "text/plain": [
       "(1, 54, 54, 1)"
      ]
     },
     "execution_count": 20,
     "metadata": {},
     "output_type": "execute_result"
    }
   ],
   "source": [
    "Predicted.shape"
   ]
  },
  {
   "cell_type": "code",
   "execution_count": 21,
   "id": "1fdff5ad",
   "metadata": {},
   "outputs": [
    {
     "data": {
      "text/plain": [
       "<matplotlib.image.AxesImage at 0x27ae366f1c0>"
      ]
     },
     "execution_count": 21,
     "metadata": {},
     "output_type": "execute_result"
    },
    {
     "data": {
      "image/png": "[encoded data removed]",
      "text/plain": [
       "<Figure size 432x216 with 2 Axes>"
      ]
     },
     "metadata": {
      "needs_background": "light"
     },
     "output_type": "display_data"
    }
   ],
   "source": [
    "fig = plt.figure(figsize=(6, 3))\n",
    "\n",
    "fig.add_subplot(1, 2, 1) # row, column, n번째 image\n",
    "plt.imshow(Test_x[0], interpolation='nearest')\n",
    "\n",
    "fig.add_subplot(1, 2, 2)\n",
    "plt.imshow(Predicted[0], interpolation='nearest', cmap = 'gray')"
   ]
  },
  {
   "cell_type": "code",
   "execution_count": 22,
   "id": "c03071c2",
   "metadata": {},
   "outputs": [],
   "source": [
    "weights = model.get_weights()"
   ]
  },
  {
   "cell_type": "code",
   "execution_count": 23,
   "id": "8f6e7405",
   "metadata": {},
   "outputs": [
    {
     "data": {
      "text/plain": [
       "array([0.], dtype=float32)"
      ]
     },
     "execution_count": 23,
     "metadata": {},
     "output_type": "execute_result"
    }
   ],
   "source": [
    "weights[1]"
   ]
  },
  {
   "cell_type": "code",
   "execution_count": 24,
   "id": "d418735b",
   "metadata": {},
   "outputs": [
    {
     "data": {
      "text/plain": [
       "(3, 3, 3, 1)"
      ]
     },
     "execution_count": 24,
     "metadata": {},
     "output_type": "execute_result"
    }
   ],
   "source": [
    "weights[0].shape"
   ]
  },
  {
   "cell_type": "code",
   "execution_count": 25,
   "id": "8971a087",
   "metadata": {},
   "outputs": [
    {
     "data": {
      "text/plain": [
       "array([[[-0.09032515],\n",
       "        [-0.3163409 ],\n",
       "        [ 0.07380524]],\n",
       "\n",
       "       [[ 0.21170276],\n",
       "        [ 0.394261  ],\n",
       "        [-0.24969077]],\n",
       "\n",
       "       [[ 0.22369254],\n",
       "        [-0.13315591],\n",
       "        [-0.2869691 ]]], dtype=float32)"
      ]
     },
     "execution_count": 25,
     "metadata": {},
     "output_type": "execute_result"
    }
   ],
   "source": [
    "weights[0][0]"
   ]
  },
  {
   "cell_type": "code",
   "execution_count": 26,
   "id": "0b13462c",
   "metadata": {},
   "outputs": [
    {
     "data": {
      "text/plain": [
       "array([[[ 0.04343519],\n",
       "        [-0.30308536],\n",
       "        [-0.11390021]],\n",
       "\n",
       "       [[ 0.02380496],\n",
       "        [ 0.177769  ],\n",
       "        [ 0.3596282 ]],\n",
       "\n",
       "       [[-0.16911273],\n",
       "        [ 0.37214696],\n",
       "        [-0.04633906]]], dtype=float32)"
      ]
     },
     "execution_count": 26,
     "metadata": {},
     "output_type": "execute_result"
    }
   ],
   "source": [
    "weights[0][1]"
   ]
  },
  {
   "cell_type": "code",
   "execution_count": 27,
   "id": "0aea08dc",
   "metadata": {},
   "outputs": [
    {
     "data": {
      "text/plain": [
       "array([[[-0.03661606],\n",
       "        [-0.3190099 ],\n",
       "        [-0.17573573]],\n",
       "\n",
       "       [[ 0.38812053],\n",
       "        [ 0.3567236 ],\n",
       "        [ 0.0767782 ]],\n",
       "\n",
       "       [[ 0.39875102],\n",
       "        [-0.11188024],\n",
       "        [-0.2572984 ]]], dtype=float32)"
      ]
     },
     "execution_count": 27,
     "metadata": {},
     "output_type": "execute_result"
    }
   ],
   "source": [
    "weights[0][2]"
   ]
  },
  {
   "cell_type": "markdown",
   "id": "02276645",
   "metadata": {},
   "source": [
    "3 (filter 3)<br>\n",
    "3 (filter 3)<br>\n",
    "3 (RGB 3)<br>\n",
    "3 (unit 1)<br>"
   ]
  },
  {
   "cell_type": "code",
   "execution_count": 28,
   "id": "f7a2dfa7",
   "metadata": {},
   "outputs": [
    {
     "data": {
      "image/png": "[encoded data removed]",
      "text/plain": [
       "<IPython.core.display.Image object>"
      ]
     },
     "execution_count": 28,
     "metadata": {},
     "output_type": "execute_result"
    }
   ],
   "source": [
    "from IPython.display import Image\n",
    "Image('CNN.png')\n"
   ]
  },
  {
   "cell_type": "markdown",
   "id": "a4138cb5",
   "metadata": {},
   "source": [
    "<br><br><br><br><br>"
   ]
  },
  {
   "cell_type": "markdown",
   "id": "79153d71",
   "metadata": {},
   "source": [
    "# 4. Padding이 포함된 Convolution 구현하기"
   ]
  },
  {
   "cell_type": "code",
   "execution_count": 29,
   "id": "84820937",
   "metadata": {},
   "outputs": [],
   "source": [
    "model = models.Sequential()\n",
    "model.add(tf.keras.layers.Conv2D(1, (3, 3), activation='linear', padding='same', input_shape=(56, 56, 3,)))\n",
    "\n",
    "model = Model(inputs=model.input, outputs=model.output)"
   ]
  },
  {
   "cell_type": "code",
   "execution_count": 30,
   "id": "a8aa9afb",
   "metadata": {},
   "outputs": [
    {
     "name": "stdout",
     "output_type": "stream",
     "text": [
      "Model: \"model_1\"\n",
      "_________________________________________________________________\n",
      " Layer (type)                Output Shape              Param #   \n",
      "=================================================================\n",
      " conv2d_1_input (InputLayer)  [(None, 56, 56, 3)]      0         \n",
      "                                                                 \n",
      " conv2d_1 (Conv2D)           (None, 56, 56, 1)         28        \n",
      "                                                                 \n",
      "=================================================================\n",
      "Total params: 28\n",
      "Trainable params: 28\n",
      "Non-trainable params: 0\n",
      "_________________________________________________________________\n"
     ]
    }
   ],
   "source": [
    "model.summary()"
   ]
  },
  {
   "cell_type": "markdown",
   "id": "b66c976c",
   "metadata": {},
   "source": [
    "<br><br><br><br><br>"
   ]
  },
  {
   "cell_type": "markdown",
   "id": "24ade8d1",
   "metadata": {},
   "source": [
    "# 5. Unit이 여러개인 Convolution"
   ]
  },
  {
   "cell_type": "code",
   "execution_count": 31,
   "id": "be58584d",
   "metadata": {},
   "outputs": [],
   "source": [
    "model = models.Sequential()\n",
    "model.add(tf.keras.layers.Conv2D(5, (3, 3), activation='linear', padding='same', input_shape=(56, 56, 3,)))\n",
    "\n",
    "model = Model(inputs=model.input, outputs=model.output)"
   ]
  },
  {
   "cell_type": "code",
   "execution_count": 32,
   "id": "13201735",
   "metadata": {
    "scrolled": true
   },
   "outputs": [
    {
     "name": "stdout",
     "output_type": "stream",
     "text": [
      "Model: \"model_2\"\n",
      "_________________________________________________________________\n",
      " Layer (type)                Output Shape              Param #   \n",
      "=================================================================\n",
      " conv2d_2_input (InputLayer)  [(None, 56, 56, 3)]      0         \n",
      "                                                                 \n",
      " conv2d_2 (Conv2D)           (None, 56, 56, 5)         140       \n",
      "                                                                 \n",
      "=================================================================\n",
      "Total params: 140\n",
      "Trainable params: 140\n",
      "Non-trainable params: 0\n",
      "_________________________________________________________________\n"
     ]
    }
   ],
   "source": [
    "model.summary()"
   ]
  },
  {
   "cell_type": "code",
   "execution_count": 33,
   "id": "564681fe",
   "metadata": {},
   "outputs": [
    {
     "data": {
      "text/plain": [
       "140"
      ]
     },
     "execution_count": 33,
     "metadata": {},
     "output_type": "execute_result"
    }
   ],
   "source": [
    "# 9: one of Filter 3*3\n",
    "# 3: RGB\n",
    "# 5: Unit 5\n",
    "# +5 : Constants\n",
    "\n",
    "(9 * 3 * 5) + 5"
   ]
  },
  {
   "cell_type": "code",
   "execution_count": 34,
   "id": "4a608950",
   "metadata": {},
   "outputs": [
    {
     "name": "stdout",
     "output_type": "stream",
     "text": [
      "1/1 [==============================] - 0s 86ms/step\n"
     ]
    }
   ],
   "source": [
    "# 예측값 확인하기\n",
    "Predicted = model.predict(Train_x[:3])"
   ]
  },
  {
   "cell_type": "code",
   "execution_count": 35,
   "id": "92330b77",
   "metadata": {},
   "outputs": [
    {
     "data": {
      "text/plain": [
       "(3, 56, 56, 5)"
      ]
     },
     "execution_count": 35,
     "metadata": {},
     "output_type": "execute_result"
    }
   ],
   "source": [
    "Predicted.shape"
   ]
  },
  {
   "cell_type": "code",
   "execution_count": 36,
   "id": "9153e480",
   "metadata": {},
   "outputs": [
    {
     "data": {
      "text/plain": [
       "2"
      ]
     },
     "execution_count": 36,
     "metadata": {},
     "output_type": "execute_result"
    }
   ],
   "source": [
    "Weights = model.get_weights()\n",
    "len(Weights)"
   ]
  },
  {
   "cell_type": "code",
   "execution_count": 37,
   "id": "84ffec24",
   "metadata": {},
   "outputs": [
    {
     "data": {
      "text/plain": [
       "(3, 3, 3, 5)"
      ]
     },
     "execution_count": 37,
     "metadata": {},
     "output_type": "execute_result"
    }
   ],
   "source": [
    "Weights[0].shape"
   ]
  },
  {
   "cell_type": "markdown",
   "id": "637bbf13",
   "metadata": {},
   "source": [
    "3 (filter 3)<br>\n",
    "3 (filter 3)<br>\n",
    "3 (RGB 3)<br>\n",
    "5 (unit 5)<br>"
   ]
  },
  {
   "cell_type": "markdown",
   "id": "280aa7d7",
   "metadata": {},
   "source": [
    "<br><br><br><br><br><br>"
   ]
  },
  {
   "cell_type": "markdown",
   "id": "6bdd9092",
   "metadata": {},
   "source": [
    "activation function: relu"
   ]
  },
  {
   "cell_type": "code",
   "execution_count": 38,
   "id": "7883d318",
   "metadata": {},
   "outputs": [],
   "source": [
    "model = models.Sequential()\n",
    "model.add(tf.keras.layers.Conv2D(5, (3, 3), activation='relu', padding='same', input_shape=(56, 56, 3,)))\n",
    "model = Model(inputs=model.input, outputs=model.output)"
   ]
  },
  {
   "cell_type": "code",
   "execution_count": 39,
   "id": "aee53630",
   "metadata": {},
   "outputs": [
    {
     "name": "stdout",
     "output_type": "stream",
     "text": [
      "1/1 [==============================] - 0s 62ms/step\n"
     ]
    }
   ],
   "source": [
    "Predicted = model.predict(Test_x[:1])"
   ]
  },
  {
   "cell_type": "code",
   "execution_count": 40,
   "id": "db549ca1",
   "metadata": {},
   "outputs": [
    {
     "data": {
      "text/plain": [
       "(1, 56, 56, 5)"
      ]
     },
     "execution_count": 40,
     "metadata": {},
     "output_type": "execute_result"
    }
   ],
   "source": [
    "Predicted.shape"
   ]
  },
  {
   "cell_type": "code",
   "execution_count": 41,
   "id": "2dd972e9",
   "metadata": {},
   "outputs": [
    {
     "data": {
      "text/plain": [
       "<matplotlib.image.AxesImage at 0x27ae39f8be0>"
      ]
     },
     "execution_count": 41,
     "metadata": {},
     "output_type": "execute_result"
    },
    {
     "data": {
      "image/png": "[encoded data removed]",
      "text/plain": [
       "<Figure size 432x216 with 5 Axes>"
      ]
     },
     "metadata": {
      "needs_background": "light"
     },
     "output_type": "display_data"
    }
   ],
   "source": [
    "fig = plt.figure(figsize=(6, 3))\n",
    "\n",
    "fig.add_subplot(1, 5, 1) # row, column, n번째 image\n",
    "plt.imshow(Predicted[0,:,:,0], interpolation='nearest')\n",
    "\n",
    "fig.add_subplot(1, 5, 2) # row, column, n번째 image\n",
    "plt.imshow(Predicted[0,:,:,1], interpolation='nearest')\n",
    "\n",
    "fig.add_subplot(1, 5, 3) # row, column, n번째 image\n",
    "plt.imshow(Predicted[0,:,:,2], interpolation='nearest')\n",
    "\n",
    "fig.add_subplot(1, 5, 4) # row, column, n번째 image\n",
    "plt.imshow(Predicted[0,:,:,3], interpolation='nearest')\n",
    "\n",
    "fig.add_subplot(1, 5, 5) # row, column, n번째 image\n",
    "plt.imshow(Predicted[0,:,:,4], interpolation='nearest')"
   ]
  },
  {
   "cell_type": "markdown",
   "id": "0f6d7b30",
   "metadata": {},
   "source": [
    "<결과값에 0 미만이 존재하지 않음>"
   ]
  },
  {
   "cell_type": "code",
   "execution_count": 42,
   "id": "490a885f",
   "metadata": {},
   "outputs": [
    {
     "data": {
      "text/plain": [
       "array([[[  0.       ,   0.       ,   0.       , 123.33495  ,\n",
       "           0.       ],\n",
       "        [  8.899339 ,   0.       ,   0.       , 139.57208  ,\n",
       "          13.6160345],\n",
       "        [  9.994928 ,   0.       ,   0.       , 141.12222  ,\n",
       "          12.707687 ],\n",
       "        ...,\n",
       "        [ 20.427103 ,   0.       ,   0.       , 160.05782  ,\n",
       "          18.048538 ],\n",
       "        [ 15.751206 ,   0.       ,   0.       , 151.86911  ,\n",
       "          18.432438 ],\n",
       "        [ 20.950718 ,   0.       ,  30.939054 , 124.15358  ,\n",
       "          19.31641  ]],\n",
       "\n",
       "       [[  0.       ,  50.137486 ,   0.       ,  92.59097  ,\n",
       "           0.       ],\n",
       "        [  0.       ,  46.398197 ,   0.       ,  71.08693  ,\n",
       "           0.       ],\n",
       "        [  0.       ,  46.616444 ,   0.       ,  72.76796  ,\n",
       "           0.       ],\n",
       "        ...,\n",
       "        [  0.       ,  55.423973 ,   0.       ,  74.45916  ,\n",
       "           0.       ],\n",
       "        [  0.       ,  56.25349  ,   0.       ,  72.005905 ,\n",
       "           0.       ],\n",
       "        [  0.       , 110.29868  ,  24.288284 , 118.39935  ,\n",
       "           0.       ]],\n",
       "\n",
       "       [[  0.       ,  48.939075 ,   0.       ,  94.673645 ,\n",
       "           0.       ],\n",
       "        [  0.       ,  43.32033  ,   0.       ,  75.68141  ,\n",
       "           0.       ],\n",
       "        [  0.       ,  41.244747 ,   0.       ,  75.08134  ,\n",
       "           0.       ],\n",
       "        ...,\n",
       "        [  0.       ,  56.918785 ,   0.       ,  71.27342  ,\n",
       "           0.       ],\n",
       "        [  0.       ,  53.945797 ,   0.       ,  68.24071  ,\n",
       "           0.       ],\n",
       "        [  0.       , 109.47111  ,  23.308327 , 117.4699   ,\n",
       "           0.       ]],\n",
       "\n",
       "       ...,\n",
       "\n",
       "       [[  0.       ,  57.939255 ,   0.       ,  80.94653  ,\n",
       "           0.       ],\n",
       "        [  0.       ,  59.75345  ,   0.       ,  58.207733 ,\n",
       "           0.       ],\n",
       "        [  0.       ,  57.1344   ,   0.       ,  60.356056 ,\n",
       "           0.       ],\n",
       "        ...,\n",
       "        [  0.       ,  73.548386 ,   0.       ,  42.41333  ,\n",
       "           0.       ],\n",
       "        [  0.       ,  61.39343  ,   0.       ,  46.49601  ,\n",
       "           0.       ],\n",
       "        [  0.       , 111.18678  ,  15.782917 ,  98.47769  ,\n",
       "           0.       ]],\n",
       "\n",
       "       [[  0.       ,  54.074318 ,   0.       ,  77.513794 ,\n",
       "           0.       ],\n",
       "        [  0.       ,  55.877197 ,   0.       ,  59.87714  ,\n",
       "           0.       ],\n",
       "        [  0.       ,  48.242294 ,   0.       ,  62.332832 ,\n",
       "           0.       ],\n",
       "        ...,\n",
       "        [  0.       ,  72.159706 ,   0.       ,  46.29121  ,\n",
       "           0.       ],\n",
       "        [  0.       ,  65.19826  ,   0.       ,  40.98546  ,\n",
       "           0.       ],\n",
       "        [  0.       , 104.43461  ,  17.396542 ,  97.397125 ,\n",
       "           0.       ]],\n",
       "\n",
       "       [[  0.       , 125.952    ,   0.       ,  15.100018 ,\n",
       "          17.108768 ],\n",
       "        [  0.       , 111.942856 ,   0.       ,   0.       ,\n",
       "          15.856188 ],\n",
       "        [  0.       , 112.59575  ,   0.       ,   0.       ,\n",
       "          17.621504 ],\n",
       "        ...,\n",
       "        [  0.       ,  98.02196  ,   0.       ,   0.       ,\n",
       "          30.965485 ],\n",
       "        [  0.       , 133.70404  ,   0.       ,   0.       ,\n",
       "          15.550852 ],\n",
       "        [  0.       ,  87.18854  ,   0.       ,   0.       ,\n",
       "           9.141818 ]]], dtype=float32)"
      ]
     },
     "execution_count": 42,
     "metadata": {},
     "output_type": "execute_result"
    }
   ],
   "source": [
    "Predicted[0]"
   ]
  },
  {
   "cell_type": "markdown",
   "id": "8c47ed16",
   "metadata": {},
   "source": [
    "<br><br><br><br><br>"
   ]
  },
  {
   "cell_type": "markdown",
   "id": "113045a8",
   "metadata": {},
   "source": [
    "# 6. Flatten layer를 활용하여 vector로 만들기"
   ]
  },
  {
   "cell_type": "code",
   "execution_count": 43,
   "id": "79ac0a56",
   "metadata": {},
   "outputs": [],
   "source": [
    "model = models.Sequential()\n",
    "model.add(tf.keras.layers.Conv2D(5, (3, 3), activation='linear', padding='same', input_shape=(56, 56, 3,)))\n",
    "model.add(tf.keras.layers.Flatten())\n",
    "model = Model(inputs=model.input, outputs=model.output)"
   ]
  },
  {
   "cell_type": "code",
   "execution_count": 44,
   "id": "fb0227d5",
   "metadata": {},
   "outputs": [
    {
     "name": "stdout",
     "output_type": "stream",
     "text": [
      "Model: \"model_4\"\n",
      "_________________________________________________________________\n",
      " Layer (type)                Output Shape              Param #   \n",
      "=================================================================\n",
      " conv2d_4_input (InputLayer)  [(None, 56, 56, 3)]      0         \n",
      "                                                                 \n",
      " conv2d_4 (Conv2D)           (None, 56, 56, 5)         140       \n",
      "                                                                 \n",
      " flatten (Flatten)           (None, 15680)             0         \n",
      "                                                                 \n",
      "=================================================================\n",
      "Total params: 140\n",
      "Trainable params: 140\n",
      "Non-trainable params: 0\n",
      "_________________________________________________________________\n"
     ]
    }
   ],
   "source": [
    "model.summary()"
   ]
  },
  {
   "cell_type": "code",
   "execution_count": 45,
   "id": "8854aff9",
   "metadata": {},
   "outputs": [
    {
     "name": "stdout",
     "output_type": "stream",
     "text": [
      "1/1 [==============================] - 0s 61ms/step\n"
     ]
    }
   ],
   "source": [
    "Predicted = model.predict(Train_x[:1])"
   ]
  },
  {
   "cell_type": "code",
   "execution_count": 46,
   "id": "03df4859",
   "metadata": {},
   "outputs": [
    {
     "data": {
      "text/plain": [
       "array([[  21.646072,   10.208139,   13.387365, ..., -101.90346 ,\n",
       "         175.75026 ,   62.000034]], dtype=float32)"
      ]
     },
     "execution_count": 46,
     "metadata": {},
     "output_type": "execute_result"
    }
   ],
   "source": [
    "Predicted"
   ]
  },
  {
   "cell_type": "markdown",
   "id": "2827d959",
   "metadata": {},
   "source": [
    "<br><br><br><br><br>"
   ]
  },
  {
   "cell_type": "markdown",
   "id": "b66cf326",
   "metadata": {},
   "source": [
    "# 7. Fine-tuning이 가능한 모델 구현하기"
   ]
  },
  {
   "cell_type": "code",
   "execution_count": 47,
   "id": "87d0cdf5",
   "metadata": {},
   "outputs": [],
   "source": [
    "model = models.Sequential()\n",
    "model.add(tf.keras.layers.Conv2D(5, (3, 3), activation='linear', padding='same', input_shape=(56, 56, 3,)))\n",
    "model.add(tf.keras.layers.Flatten())\n",
    "model.add(tf.keras.layers.Dense(1, activation='linear'))\n",
    "model = Model(inputs=model.input, outputs=model.output)"
   ]
  },
  {
   "cell_type": "code",
   "execution_count": 48,
   "id": "7477d994",
   "metadata": {},
   "outputs": [
    {
     "name": "stdout",
     "output_type": "stream",
     "text": [
      "Model: \"model_5\"\n",
      "_________________________________________________________________\n",
      " Layer (type)                Output Shape              Param #   \n",
      "=================================================================\n",
      " conv2d_5_input (InputLayer)  [(None, 56, 56, 3)]      0         \n",
      "                                                                 \n",
      " conv2d_5 (Conv2D)           (None, 56, 56, 5)         140       \n",
      "                                                                 \n",
      " flatten_1 (Flatten)         (None, 15680)             0         \n",
      "                                                                 \n",
      " dense (Dense)               (None, 1)                 15681     \n",
      "                                                                 \n",
      "=================================================================\n",
      "Total params: 15,821\n",
      "Trainable params: 15,821\n",
      "Non-trainable params: 0\n",
      "_________________________________________________________________\n"
     ]
    }
   ],
   "source": [
    "model.summary()"
   ]
  },
  {
   "cell_type": "code",
   "execution_count": 49,
   "id": "30fd2e78",
   "metadata": {},
   "outputs": [
    {
     "name": "stdout",
     "output_type": "stream",
     "text": [
      "WARNING:tensorflow:5 out of the last 5 calls to <function Model.make_predict_function.<locals>.predict_function at 0x0000027AE35EDF70> triggered tf.function retracing. Tracing is expensive and the excessive number of tracings could be due to (1) creating @tf.function repeatedly in a loop, (2) passing tensors with different shapes, (3) passing Python objects instead of tensors. For (1), please define your @tf.function outside of the loop. For (2), @tf.function has reduce_retracing=True option that can avoid unnecessary retracing. For (3), please refer to https://www.tensorflow.org/guide/function#controlling_retracing and https://www.tensorflow.org/api_docs/python/tf/function for  more details.\n",
      "1/1 [==============================] - 0s 55ms/step\n"
     ]
    },
    {
     "data": {
      "text/plain": [
       "(1, 1)"
      ]
     },
     "execution_count": 49,
     "metadata": {},
     "output_type": "execute_result"
    }
   ],
   "source": [
    "Predicted = model.predict(Train_x[:1])\n",
    "Predicted.shape"
   ]
  },
  {
   "cell_type": "code",
   "execution_count": 50,
   "id": "f32a0847",
   "metadata": {},
   "outputs": [
    {
     "name": "stdout",
     "output_type": "stream",
     "text": [
      "[[-61.63608]]\n"
     ]
    }
   ],
   "source": [
    "print(Predicted)"
   ]
  },
  {
   "cell_type": "markdown",
   "id": "e1d9ed4a",
   "metadata": {},
   "source": [
    "## fine tuning"
   ]
  },
  {
   "cell_type": "markdown",
   "id": "00993f7e",
   "metadata": {},
   "source": [
    "Loss: Mean Squared Error"
   ]
  },
  {
   "cell_type": "code",
   "execution_count": 51,
   "id": "0e401afa",
   "metadata": {},
   "outputs": [],
   "source": [
    "model.compile(optimizer='adam', loss='mse')"
   ]
  },
  {
   "cell_type": "code",
   "execution_count": 52,
   "id": "0978ac80",
   "metadata": {
    "scrolled": true,
    "tags": []
   },
   "outputs": [
    {
     "name": "stdout",
     "output_type": "stream",
     "text": [
      "Epoch 1/50\n",
      "17/17 [==============================] - 1s 21ms/step - loss: 137709.7344\n",
      "Epoch 2/50\n",
      "17/17 [==============================] - 0s 21ms/step - loss: 12064.5410\n",
      "Epoch 3/50\n",
      "17/17 [==============================] - 0s 20ms/step - loss: 2056.5938\n",
      "Epoch 4/50\n",
      "17/17 [==============================] - 0s 22ms/step - loss: 525.3362\n",
      "Epoch 5/50\n",
      "17/17 [==============================] - 0s 20ms/step - loss: 324.1226\n",
      "Epoch 6/50\n",
      "17/17 [==============================] - 0s 21ms/step - loss: 230.7181\n",
      "Epoch 7/50\n",
      "17/17 [==============================] - 0s 23ms/step - loss: 211.2263\n",
      "Epoch 8/50\n",
      "17/17 [==============================] - 0s 20ms/step - loss: 192.3998\n",
      "Epoch 9/50\n",
      "17/17 [==============================] - 0s 20ms/step - loss: 178.5453\n",
      "Epoch 10/50\n",
      "17/17 [==============================] - 0s 19ms/step - loss: 165.6668\n",
      "Epoch 11/50\n",
      "17/17 [==============================] - 0s 20ms/step - loss: 156.6451\n",
      "Epoch 12/50\n",
      "17/17 [==============================] - 0s 23ms/step - loss: 146.9633\n",
      "Epoch 13/50\n",
      "17/17 [==============================] - 0s 26ms/step - loss: 145.9233\n",
      "Epoch 14/50\n",
      "17/17 [==============================] - 0s 22ms/step - loss: 137.3512\n",
      "Epoch 15/50\n",
      "17/17 [==============================] - 0s 21ms/step - loss: 127.9251\n",
      "Epoch 16/50\n",
      "17/17 [==============================] - 0s 25ms/step - loss: 118.6443\n",
      "Epoch 17/50\n",
      "17/17 [==============================] - 0s 26ms/step - loss: 109.6321\n",
      "Epoch 18/50\n",
      "17/17 [==============================] - 0s 27ms/step - loss: 103.3649\n",
      "Epoch 19/50\n",
      "17/17 [==============================] - 0s 22ms/step - loss: 99.4813\n",
      "Epoch 20/50\n",
      "17/17 [==============================] - 0s 22ms/step - loss: 100.3221\n",
      "Epoch 21/50\n",
      "17/17 [==============================] - 0s 29ms/step - loss: 92.5798\n",
      "Epoch 22/50\n",
      "17/17 [==============================] - 0s 27ms/step - loss: 84.7104\n",
      "Epoch 23/50\n",
      "17/17 [==============================] - 0s 25ms/step - loss: 81.2945\n",
      "Epoch 24/50\n",
      "17/17 [==============================] - 0s 27ms/step - loss: 79.5137\n",
      "Epoch 25/50\n",
      "17/17 [==============================] - 0s 28ms/step - loss: 74.0402\n",
      "Epoch 26/50\n",
      "17/17 [==============================] - 0s 29ms/step - loss: 70.9852\n",
      "Epoch 27/50\n",
      "17/17 [==============================] - 1s 29ms/step - loss: 70.2025\n",
      "Epoch 28/50\n",
      "17/17 [==============================] - 0s 27ms/step - loss: 63.7035\n",
      "Epoch 29/50\n",
      "17/17 [==============================] - 0s 27ms/step - loss: 62.3996\n",
      "Epoch 30/50\n",
      "17/17 [==============================] - 0s 29ms/step - loss: 58.3502\n",
      "Epoch 31/50\n",
      "17/17 [==============================] - 1s 31ms/step - loss: 54.5606\n",
      "Epoch 32/50\n",
      "17/17 [==============================] - 0s 28ms/step - loss: 53.8266\n",
      "Epoch 33/50\n",
      "17/17 [==============================] - 0s 26ms/step - loss: 52.5683\n",
      "Epoch 34/50\n",
      "17/17 [==============================] - 0s 29ms/step - loss: 47.7532\n",
      "Epoch 35/50\n",
      "17/17 [==============================] - 0s 29ms/step - loss: 47.3718\n",
      "Epoch 36/50\n",
      "17/17 [==============================] - 1s 31ms/step - loss: 44.1869\n",
      "Epoch 37/50\n",
      "17/17 [==============================] - 0s 27ms/step - loss: 45.2055\n",
      "Epoch 38/50\n",
      "17/17 [==============================] - 1s 31ms/step - loss: 41.5728\n",
      "Epoch 39/50\n",
      "17/17 [==============================] - 1s 34ms/step - loss: 39.6686\n",
      "Epoch 40/50\n",
      "17/17 [==============================] - 1s 29ms/step - loss: 39.1285\n",
      "Epoch 41/50\n",
      "17/17 [==============================] - 1s 30ms/step - loss: 38.9112\n",
      "Epoch 42/50\n",
      "17/17 [==============================] - 0s 28ms/step - loss: 35.9798\n",
      "Epoch 43/50\n",
      "17/17 [==============================] - 1s 30ms/step - loss: 33.8068\n",
      "Epoch 44/50\n",
      "17/17 [==============================] - 0s 26ms/step - loss: 32.5566\n",
      "Epoch 45/50\n",
      "17/17 [==============================] - 0s 29ms/step - loss: 31.1306\n",
      "Epoch 46/50\n",
      "17/17 [==============================] - 0s 27ms/step - loss: 31.3332\n",
      "Epoch 47/50\n",
      "17/17 [==============================] - 0s 27ms/step - loss: 29.5932\n",
      "Epoch 48/50\n",
      "17/17 [==============================] - 0s 27ms/step - loss: 28.9180\n",
      "Epoch 49/50\n",
      "17/17 [==============================] - 0s 28ms/step - loss: 27.9077\n",
      "Epoch 50/50\n",
      "17/17 [==============================] - 0s 28ms/step - loss: 26.2292\n"
     ]
    },
    {
     "data": {
      "text/plain": [
       "<keras.callbacks.History at 0x27ae3ab2430>"
      ]
     },
     "execution_count": 52,
     "metadata": {},
     "output_type": "execute_result"
    }
   ],
   "source": [
    "model.fit(x=Train_x, y=Train_y, epochs=50)"
   ]
  },
  {
   "cell_type": "markdown",
   "id": "e3ab6257",
   "metadata": {},
   "source": [
    "Test data 전체에 prediction 수행해보기"
   ]
  },
  {
   "cell_type": "code",
   "execution_count": 53,
   "id": "285da5ea",
   "metadata": {},
   "outputs": [
    {
     "name": "stdout",
     "output_type": "stream",
     "text": [
      "WARNING:tensorflow:6 out of the last 6 calls to <function Model.make_predict_function.<locals>.predict_function at 0x0000027AE3B088B0> triggered tf.function retracing. Tracing is expensive and the excessive number of tracings could be due to (1) creating @tf.function repeatedly in a loop, (2) passing tensors with different shapes, (3) passing Python objects instead of tensors. For (1), please define your @tf.function outside of the loop. For (2), @tf.function has reduce_retracing=True option that can avoid unnecessary retracing. For (3), please refer to https://www.tensorflow.org/guide/function#controlling_retracing and https://www.tensorflow.org/api_docs/python/tf/function for  more details.\n",
      "2/2 [==============================] - 0s 18ms/step\n"
     ]
    }
   ],
   "source": [
    "Predicted = model.predict(Test_x)"
   ]
  },
  {
   "cell_type": "code",
   "execution_count": 54,
   "id": "80fa4519",
   "metadata": {},
   "outputs": [
    {
     "data": {
      "text/plain": [
       "array([[  1.4497986 ],\n",
       "       [  0.06966595],\n",
       "       [  0.04749589],\n",
       "       [-10.873439  ],\n",
       "       [ -8.276285  ],\n",
       "       [ -0.12833591],\n",
       "       [ -4.2704163 ],\n",
       "       [-15.235077  ],\n",
       "       [ -6.6030884 ],\n",
       "       [ 14.198961  ]], dtype=float32)"
      ]
     },
     "execution_count": 54,
     "metadata": {},
     "output_type": "execute_result"
    }
   ],
   "source": [
    "Predicted[:10]"
   ]
  },
  {
   "cell_type": "code",
   "execution_count": 55,
   "id": "2b2714ee",
   "metadata": {},
   "outputs": [
    {
     "ename": "TypeError",
     "evalue": "unhashable type: 'numpy.ndarray'",
     "output_type": "error",
     "traceback": [
      "\u001b[1;31m---------------------------------------------------------------------------\u001b[0m",
      "\u001b[1;31mTypeError\u001b[0m                                 Traceback (most recent call last)",
      "\u001b[1;32mpandas\\_libs\\hashtable_class_helper.pxi\u001b[0m in \u001b[0;36mpandas._libs.hashtable.PyObjectHashTable.map_locations\u001b[1;34m()\u001b[0m\n",
      "\u001b[1;31mTypeError\u001b[0m: unhashable type: 'numpy.ndarray'"
     ]
    },
    {
     "name": "stderr",
     "output_type": "stream",
     "text": [
      "Exception ignored in: 'pandas._libs.index.IndexEngine._call_map_locations'\n",
      "Traceback (most recent call last):\n",
      "  File \"pandas\\_libs\\hashtable_class_helper.pxi\", line 5231, in pandas._libs.hashtable.PyObjectHashTable.map_locations\n",
      "TypeError: unhashable type: 'numpy.ndarray'\n"
     ]
    },
    {
     "data": {
      "text/plain": [
       "[True]     35\n",
       "[False]    25\n",
       "dtype: int64"
      ]
     },
     "execution_count": 55,
     "metadata": {},
     "output_type": "execute_result"
    }
   ],
   "source": [
    "# A = 0.5 이상이면 True return\n",
    "# B = 정답이 1이면 True, \n",
    "# A == B = 정답\n",
    "# A != B => 틀림\n",
    "\n",
    "CheckSame = [Pred == Label for Pred, Label in zip(Predicted>0.5, Test_y == 1)]\n",
    "pd.Series(CheckSame).value_counts()\n",
    "\n",
    "# 정확도: 30 / 60 = 50%"
   ]
  },
  {
   "cell_type": "markdown",
   "id": "f899c892",
   "metadata": {},
   "source": [
    "Loss: Mean Squared Error 는 regression에 사용하는 것.<br>\n",
    "-> Cross-entropy를 적용하여야함\n",
    "\n",
    "activation function을 Sigmoid function을 활용하여, output을 0~1 사이로 바꿔줘야함<br>"
   ]
  },
  {
   "cell_type": "markdown",
   "id": "89254d14",
   "metadata": {},
   "source": [
    "<br><br><br>\n",
    "model optimizer에 대한 confitures 확인하기"
   ]
  },
  {
   "cell_type": "code",
   "execution_count": 56,
   "id": "90b290ef",
   "metadata": {},
   "outputs": [
    {
     "data": {
      "text/plain": [
       "{'name': 'Adam',\n",
       " 'learning_rate': 0.001,\n",
       " 'decay': 0.0,\n",
       " 'beta_1': 0.9,\n",
       " 'beta_2': 0.999,\n",
       " 'epsilon': 1e-07,\n",
       " 'amsgrad': False}"
      ]
     },
     "execution_count": 56,
     "metadata": {},
     "output_type": "execute_result"
    }
   ],
   "source": [
    "model.optimizer.get_config()"
   ]
  },
  {
   "cell_type": "markdown",
   "id": "3faaa40e",
   "metadata": {},
   "source": [
    "<br><br><br><br><br><br><br>"
   ]
  },
  {
   "cell_type": "markdown",
   "id": "bf326421",
   "metadata": {},
   "source": [
    "# 8. Sigmoid function & CrossEntropy를 활용한 classification"
   ]
  },
  {
   "cell_type": "code",
   "execution_count": 57,
   "id": "6aefd06f",
   "metadata": {},
   "outputs": [],
   "source": [
    "model = models.Sequential()\n",
    "model.add(tf.keras.layers.Conv2D(5, (3, 3), activation='linear', padding='same', input_shape=(56, 56, 3,)))\n",
    "model.add(tf.keras.layers.Flatten())\n",
    "model.add(tf.keras.layers.Dense(1, activation='sigmoid'))\n",
    "model = Model(inputs=model.input, outputs=model.output)"
   ]
  },
  {
   "cell_type": "code",
   "execution_count": 58,
   "id": "0e8dbf4b",
   "metadata": {},
   "outputs": [],
   "source": [
    "model.compile(optimizer='adam', loss='binary_crossentropy')"
   ]
  },
  {
   "cell_type": "code",
   "execution_count": 59,
   "id": "359d66aa",
   "metadata": {
    "scrolled": true,
    "tags": []
   },
   "outputs": [
    {
     "name": "stdout",
     "output_type": "stream",
     "text": [
      "Epoch 1/50\n",
      "17/17 [==============================] - 1s 21ms/step - loss: 363.8933\n",
      "Epoch 2/50\n",
      "17/17 [==============================] - 0s 24ms/step - loss: 122.2283\n",
      "Epoch 3/50\n",
      "17/17 [==============================] - 0s 28ms/step - loss: 54.8321\n",
      "Epoch 4/50\n",
      "17/17 [==============================] - 0s 22ms/step - loss: 13.3707\n",
      "Epoch 5/50\n",
      "17/17 [==============================] - 0s 21ms/step - loss: 9.7525\n",
      "Epoch 6/50\n",
      "17/17 [==============================] - 0s 25ms/step - loss: 7.9756\n",
      "Epoch 7/50\n",
      "17/17 [==============================] - 0s 22ms/step - loss: 3.5506\n",
      "Epoch 8/50\n",
      "17/17 [==============================] - 0s 24ms/step - loss: 2.7930\n",
      "Epoch 9/50\n",
      "17/17 [==============================] - 0s 22ms/step - loss: 3.3473\n",
      "Epoch 10/50\n",
      "17/17 [==============================] - 0s 23ms/step - loss: 4.4478\n",
      "Epoch 11/50\n",
      "17/17 [==============================] - 0s 26ms/step - loss: 3.8673\n",
      "Epoch 12/50\n",
      "17/17 [==============================] - 0s 27ms/step - loss: 2.3998\n",
      "Epoch 13/50\n",
      "17/17 [==============================] - 0s 29ms/step - loss: 1.8314\n",
      "Epoch 14/50\n",
      "17/17 [==============================] - 1s 33ms/step - loss: 1.4032\n",
      "Epoch 15/50\n",
      "17/17 [==============================] - 1s 41ms/step - loss: 1.6057\n",
      "Epoch 16/50\n",
      "17/17 [==============================] - 1s 37ms/step - loss: 1.4375\n",
      "Epoch 17/50\n",
      "17/17 [==============================] - 1s 31ms/step - loss: 1.0986\n",
      "Epoch 18/50\n",
      "17/17 [==============================] - 1s 31ms/step - loss: 0.5605\n",
      "Epoch 19/50\n",
      "17/17 [==============================] - 1s 37ms/step - loss: 0.5479\n",
      "Epoch 20/50\n",
      "17/17 [==============================] - 1s 33ms/step - loss: 0.5300\n",
      "Epoch 21/50\n",
      "17/17 [==============================] - 1s 32ms/step - loss: 0.5361\n",
      "Epoch 22/50\n",
      "17/17 [==============================] - 1s 36ms/step - loss: 0.3104\n",
      "Epoch 23/50\n",
      "17/17 [==============================] - 1s 37ms/step - loss: 0.4873\n",
      "Epoch 24/50\n",
      "17/17 [==============================] - 1s 32ms/step - loss: 0.6762\n",
      "Epoch 25/50\n",
      "17/17 [==============================] - 1s 35ms/step - loss: 0.6620\n",
      "Epoch 26/50\n",
      "17/17 [==============================] - 1s 31ms/step - loss: 0.2077\n",
      "Epoch 27/50\n",
      "17/17 [==============================] - 1s 38ms/step - loss: 0.6914\n",
      "Epoch 28/50\n",
      "17/17 [==============================] - 1s 40ms/step - loss: 0.5940\n",
      "Epoch 29/50\n",
      "17/17 [==============================] - 1s 33ms/step - loss: 0.1499\n",
      "Epoch 30/50\n",
      "17/17 [==============================] - 1s 34ms/step - loss: 0.1161\n",
      "Epoch 31/50\n",
      "17/17 [==============================] - 1s 33ms/step - loss: 0.0781\n",
      "Epoch 32/50\n",
      "17/17 [==============================] - 1s 29ms/step - loss: 0.0545\n",
      "Epoch 33/50\n",
      "17/17 [==============================] - 0s 27ms/step - loss: 0.0947\n",
      "Epoch 34/50\n",
      "17/17 [==============================] - 0s 25ms/step - loss: 0.0875\n",
      "Epoch 35/50\n",
      "17/17 [==============================] - 0s 26ms/step - loss: 0.1030\n",
      "Epoch 36/50\n",
      "17/17 [==============================] - 1s 33ms/step - loss: 0.1871\n",
      "Epoch 37/50\n",
      "17/17 [==============================] - 1s 38ms/step - loss: 0.1246\n",
      "Epoch 38/50\n",
      "17/17 [==============================] - 1s 34ms/step - loss: 0.0355\n",
      "Epoch 39/50\n",
      "17/17 [==============================] - 1s 30ms/step - loss: 0.0251\n",
      "Epoch 40/50\n",
      "17/17 [==============================] - 1s 34ms/step - loss: 0.0425\n",
      "Epoch 41/50\n",
      "17/17 [==============================] - 1s 43ms/step - loss: 0.0093\n",
      "Epoch 42/50\n",
      "17/17 [==============================] - 1s 39ms/step - loss: 0.0105\n",
      "Epoch 43/50\n",
      "17/17 [==============================] - 1s 37ms/step - loss: 0.0114\n",
      "Epoch 44/50\n",
      "17/17 [==============================] - 1s 35ms/step - loss: 0.1207\n",
      "Epoch 45/50\n",
      "17/17 [==============================] - 1s 35ms/step - loss: 0.0246\n",
      "Epoch 46/50\n",
      "17/17 [==============================] - 1s 30ms/step - loss: 0.0023\n",
      "Epoch 47/50\n",
      "17/17 [==============================] - 1s 38ms/step - loss: 0.0016\n",
      "Epoch 48/50\n",
      "17/17 [==============================] - 1s 29ms/step - loss: 0.0016\n",
      "Epoch 49/50\n",
      "17/17 [==============================] - 1s 31ms/step - loss: 0.0022\n",
      "Epoch 50/50\n",
      "17/17 [==============================] - 1s 35ms/step - loss: 0.0037\n"
     ]
    },
    {
     "data": {
      "text/plain": [
       "<keras.callbacks.History at 0x27ae3be1f40>"
      ]
     },
     "execution_count": 59,
     "metadata": {},
     "output_type": "execute_result"
    }
   ],
   "source": [
    "model.fit(x=Train_x, y=Train_y, epochs=50)"
   ]
  },
  {
   "cell_type": "code",
   "execution_count": 60,
   "id": "d842aa3e",
   "metadata": {},
   "outputs": [
    {
     "name": "stdout",
     "output_type": "stream",
     "text": [
      "2/2 [==============================] - 0s 27ms/step\n"
     ]
    }
   ],
   "source": [
    "Predicted = model.predict(Test_x)"
   ]
  },
  {
   "cell_type": "code",
   "execution_count": 61,
   "id": "762c165b",
   "metadata": {
    "scrolled": true,
    "tags": []
   },
   "outputs": [
    {
     "data": {
      "text/plain": [
       "array([[7.8974976e-05],\n",
       "       [9.9987167e-01],\n",
       "       [3.8914606e-01],\n",
       "       [3.4604781e-20],\n",
       "       [4.2122665e-09],\n",
       "       [9.9191946e-01],\n",
       "       [3.6899923e-18],\n",
       "       [4.3766341e-23],\n",
       "       [2.0308008e-04],\n",
       "       [5.1018375e-04],\n",
       "       [6.1758069e-32],\n",
       "       [7.2508922e-12],\n",
       "       [9.3350261e-03],\n",
       "       [7.0790455e-05],\n",
       "       [8.8806581e-01],\n",
       "       [4.9820936e-15],\n",
       "       [2.2419388e-03],\n",
       "       [6.2826206e-05],\n",
       "       [1.4082517e-17],\n",
       "       [6.3104668e-21],\n",
       "       [7.5412220e-18],\n",
       "       [2.9079102e-03],\n",
       "       [2.1049246e-08],\n",
       "       [5.0882731e-10],\n",
       "       [1.7512107e-06],\n",
       "       [5.0607730e-11],\n",
       "       [9.9789512e-01],\n",
       "       [7.0614704e-14],\n",
       "       [1.2459303e-16],\n",
       "       [9.2822965e-08],\n",
       "       [3.8286540e-05],\n",
       "       [9.9903774e-01],\n",
       "       [9.9924964e-01],\n",
       "       [9.9999988e-01],\n",
       "       [1.0000000e+00],\n",
       "       [1.0000000e+00],\n",
       "       [9.9999923e-01],\n",
       "       [1.0000000e+00],\n",
       "       [9.9999988e-01],\n",
       "       [9.9999988e-01],\n",
       "       [1.0000000e+00],\n",
       "       [1.0000000e+00],\n",
       "       [1.0869087e-01],\n",
       "       [7.6218035e-05],\n",
       "       [9.8179108e-01],\n",
       "       [9.9998224e-01],\n",
       "       [1.0000000e+00],\n",
       "       [6.2111545e-01],\n",
       "       [9.9317926e-01],\n",
       "       [1.0000000e+00],\n",
       "       [9.9999970e-01],\n",
       "       [1.0000000e+00],\n",
       "       [1.0000000e+00],\n",
       "       [1.0000000e+00],\n",
       "       [5.6966251e-01],\n",
       "       [9.9998522e-01],\n",
       "       [1.0000000e+00],\n",
       "       [1.0000000e+00],\n",
       "       [2.1569802e-01],\n",
       "       [1.0000000e+00]], dtype=float32)"
      ]
     },
     "execution_count": 61,
     "metadata": {},
     "output_type": "execute_result"
    }
   ],
   "source": [
    "Predicted"
   ]
  },
  {
   "cell_type": "code",
   "execution_count": 62,
   "id": "7c9d36b5",
   "metadata": {},
   "outputs": [
    {
     "ename": "TypeError",
     "evalue": "unhashable type: 'numpy.ndarray'",
     "output_type": "error",
     "traceback": [
      "\u001b[1;31m---------------------------------------------------------------------------\u001b[0m",
      "\u001b[1;31mTypeError\u001b[0m                                 Traceback (most recent call last)",
      "\u001b[1;32mpandas\\_libs\\hashtable_class_helper.pxi\u001b[0m in \u001b[0;36mpandas._libs.hashtable.PyObjectHashTable.map_locations\u001b[1;34m()\u001b[0m\n",
      "\u001b[1;31mTypeError\u001b[0m: unhashable type: 'numpy.ndarray'"
     ]
    },
    {
     "name": "stderr",
     "output_type": "stream",
     "text": [
      "Exception ignored in: 'pandas._libs.index.IndexEngine._call_map_locations'\n",
      "Traceback (most recent call last):\n",
      "  File \"pandas\\_libs\\hashtable_class_helper.pxi\", line 5231, in pandas._libs.hashtable.PyObjectHashTable.map_locations\n",
      "TypeError: unhashable type: 'numpy.ndarray'\n"
     ]
    },
    {
     "data": {
      "text/plain": [
       "[True]     52\n",
       "[False]     8\n",
       "dtype: int64"
      ]
     },
     "execution_count": 62,
     "metadata": {},
     "output_type": "execute_result"
    }
   ],
   "source": [
    "CheckSame = [Pred == Label for Pred, Label in zip(Predicted>0.5, Test_y == 1)]\n",
    "pd.Series(CheckSame).value_counts()\n",
    "\n",
    "# 정확도: 46 / 60 = 76.67%"
   ]
  },
  {
   "cell_type": "markdown",
   "id": "3a50b050",
   "metadata": {},
   "source": [
    "# 9.CNN Wide 하게 구현하기"
   ]
  },
  {
   "cell_type": "code",
   "execution_count": 63,
   "id": "456f8b1e",
   "metadata": {},
   "outputs": [],
   "source": [
    "model = models.Sequential()\n",
    "model.add(tf.keras.layers.Conv2D(30, (3, 3), activation='linear', padding='same', input_shape=(56, 56, 3,)))\n",
    "model.add(tf.keras.layers.Flatten())\n",
    "model.add(tf.keras.layers.Dense(1, activation='sigmoid'))\n",
    "model = Model(inputs=model.input, outputs=model.output)"
   ]
  },
  {
   "cell_type": "code",
   "execution_count": 64,
   "id": "33373dc4",
   "metadata": {},
   "outputs": [],
   "source": [
    "model.compile(optimizer='adam', loss='binary_crossentropy')"
   ]
  },
  {
   "cell_type": "code",
   "execution_count": 65,
   "id": "b9900b7a",
   "metadata": {
    "scrolled": true,
    "tags": []
   },
   "outputs": [
    {
     "name": "stdout",
     "output_type": "stream",
     "text": [
      "Epoch 1/50\n",
      "17/17 [==============================] - 2s 42ms/step - loss: 919.3019\n",
      "Epoch 2/50\n",
      "17/17 [==============================] - 1s 36ms/step - loss: 211.1248\n",
      "Epoch 3/50\n",
      "17/17 [==============================] - 1s 34ms/step - loss: 37.1892\n",
      "Epoch 4/50\n",
      "17/17 [==============================] - 1s 33ms/step - loss: 11.0409\n",
      "Epoch 5/50\n",
      "17/17 [==============================] - 1s 33ms/step - loss: 5.7355\n",
      "Epoch 6/50\n",
      "17/17 [==============================] - 1s 33ms/step - loss: 3.3148\n",
      "Epoch 7/50\n",
      "17/17 [==============================] - 1s 33ms/step - loss: 1.3462\n",
      "Epoch 8/50\n",
      "17/17 [==============================] - 1s 44ms/step - loss: 0.9285\n",
      "Epoch 9/50\n",
      "17/17 [==============================] - 1s 45ms/step - loss: 0.5653\n",
      "Epoch 10/50\n",
      "17/17 [==============================] - 1s 43ms/step - loss: 0.4522\n",
      "Epoch 11/50\n",
      "17/17 [==============================] - 1s 40ms/step - loss: 0.1749\n",
      "Epoch 12/50\n",
      "17/17 [==============================] - 1s 48ms/step - loss: 0.2086\n",
      "Epoch 13/50\n",
      "17/17 [==============================] - 1s 48ms/step - loss: 0.1650\n",
      "Epoch 14/50\n",
      "17/17 [==============================] - 1s 47ms/step - loss: 0.3037\n",
      "Epoch 15/50\n",
      "17/17 [==============================] - 1s 50ms/step - loss: 1.3944\n",
      "Epoch 16/50\n",
      "17/17 [==============================] - 1s 48ms/step - loss: 0.4430\n",
      "Epoch 17/50\n",
      "17/17 [==============================] - 1s 42ms/step - loss: 0.1458\n",
      "Epoch 18/50\n",
      "17/17 [==============================] - 1s 42ms/step - loss: 0.0733\n",
      "Epoch 19/50\n",
      "17/17 [==============================] - 1s 44ms/step - loss: 0.3474\n",
      "Epoch 20/50\n",
      "17/17 [==============================] - 1s 48ms/step - loss: 0.2042\n",
      "Epoch 21/50\n",
      "17/17 [==============================] - 1s 49ms/step - loss: 0.3190\n",
      "Epoch 22/50\n",
      "17/17 [==============================] - 1s 55ms/step - loss: 0.3897\n",
      "Epoch 23/50\n",
      "17/17 [==============================] - 1s 58ms/step - loss: 0.1538\n",
      "Epoch 24/50\n",
      "17/17 [==============================] - 1s 60ms/step - loss: 0.0368\n",
      "Epoch 25/50\n",
      "17/17 [==============================] - 1s 50ms/step - loss: 0.0460\n",
      "Epoch 26/50\n",
      "17/17 [==============================] - 1s 49ms/step - loss: 0.0263\n",
      "Epoch 27/50\n",
      "17/17 [==============================] - 1s 46ms/step - loss: 0.0495\n",
      "Epoch 28/50\n",
      "17/17 [==============================] - 1s 45ms/step - loss: 0.0021\n",
      "Epoch 29/50\n",
      "17/17 [==============================] - 1s 42ms/step - loss: 0.0072\n",
      "Epoch 30/50\n",
      "17/17 [==============================] - 1s 41ms/step - loss: 0.0507\n",
      "Epoch 31/50\n",
      "17/17 [==============================] - 1s 42ms/step - loss: 0.0193\n",
      "Epoch 32/50\n",
      "17/17 [==============================] - 1s 45ms/step - loss: 9.9371e-04\n",
      "Epoch 33/50\n",
      "17/17 [==============================] - 1s 45ms/step - loss: 6.8273e-04\n",
      "Epoch 34/50\n",
      "17/17 [==============================] - 1s 47ms/step - loss: 5.6205e-07\n",
      "Epoch 35/50\n",
      "17/17 [==============================] - 1s 51ms/step - loss: 1.5628e-08\n",
      "Epoch 36/50\n",
      "17/17 [==============================] - 1s 50ms/step - loss: 1.2888e-08\n",
      "Epoch 37/50\n",
      "17/17 [==============================] - 1s 44ms/step - loss: 1.2694e-08\n",
      "Epoch 38/50\n",
      "17/17 [==============================] - 1s 45ms/step - loss: 1.2653e-08\n",
      "Epoch 39/50\n",
      "17/17 [==============================] - 1s 41ms/step - loss: 1.2653e-08\n",
      "Epoch 40/50\n",
      "17/17 [==============================] - 1s 50ms/step - loss: 1.2654e-08\n",
      "Epoch 41/50\n",
      "17/17 [==============================] - 1s 59ms/step - loss: 1.2653e-08\n",
      "Epoch 42/50\n",
      "17/17 [==============================] - 1s 65ms/step - loss: 1.2653e-08\n",
      "Epoch 43/50\n",
      "17/17 [==============================] - 1s 70ms/step - loss: 1.2652e-08\n",
      "Epoch 44/50\n",
      "17/17 [==============================] - 1s 56ms/step - loss: 1.2652e-08\n",
      "Epoch 45/50\n",
      "17/17 [==============================] - 1s 48ms/step - loss: 1.2651e-08\n",
      "Epoch 46/50\n",
      "17/17 [==============================] - 1s 46ms/step - loss: 1.2650e-08\n",
      "Epoch 47/50\n",
      "17/17 [==============================] - 1s 59ms/step - loss: 1.2650e-08\n",
      "Epoch 48/50\n",
      "17/17 [==============================] - 1s 79ms/step - loss: 1.2649e-08\n",
      "Epoch 49/50\n",
      "17/17 [==============================] - 1s 68ms/step - loss: 1.2648e-08\n",
      "Epoch 50/50\n",
      "17/17 [==============================] - 1s 51ms/step - loss: 1.2648e-08\n"
     ]
    },
    {
     "data": {
      "text/plain": [
       "<keras.callbacks.History at 0x27ae4cc70d0>"
      ]
     },
     "execution_count": 65,
     "metadata": {},
     "output_type": "execute_result"
    }
   ],
   "source": [
    "model.fit(x=Train_x, y=Train_y, epochs=50)"
   ]
  },
  {
   "cell_type": "code",
   "execution_count": 66,
   "id": "65fa3ab0",
   "metadata": {},
   "outputs": [
    {
     "name": "stdout",
     "output_type": "stream",
     "text": [
      "2/2 [==============================] - 0s 16ms/step\n"
     ]
    }
   ],
   "source": [
    "Predicted = model.predict(Test_x)"
   ]
  },
  {
   "cell_type": "code",
   "execution_count": 67,
   "id": "c08e87d7",
   "metadata": {},
   "outputs": [
    {
     "ename": "TypeError",
     "evalue": "unhashable type: 'numpy.ndarray'",
     "output_type": "error",
     "traceback": [
      "\u001b[1;31m---------------------------------------------------------------------------\u001b[0m",
      "\u001b[1;31mTypeError\u001b[0m                                 Traceback (most recent call last)",
      "\u001b[1;32mpandas\\_libs\\hashtable_class_helper.pxi\u001b[0m in \u001b[0;36mpandas._libs.hashtable.PyObjectHashTable.map_locations\u001b[1;34m()\u001b[0m\n",
      "\u001b[1;31mTypeError\u001b[0m: unhashable type: 'numpy.ndarray'"
     ]
    },
    {
     "name": "stderr",
     "output_type": "stream",
     "text": [
      "Exception ignored in: 'pandas._libs.index.IndexEngine._call_map_locations'\n",
      "Traceback (most recent call last):\n",
      "  File \"pandas\\_libs\\hashtable_class_helper.pxi\", line 5231, in pandas._libs.hashtable.PyObjectHashTable.map_locations\n",
      "TypeError: unhashable type: 'numpy.ndarray'\n"
     ]
    },
    {
     "data": {
      "text/plain": [
       "[True]     53\n",
       "[False]     7\n",
       "dtype: int64"
      ]
     },
     "execution_count": 67,
     "metadata": {},
     "output_type": "execute_result"
    }
   ],
   "source": [
    "CheckSame = [Pred == Label for Pred, Label in zip(Predicted>0.5, Test_y == 1)]\n",
    "pd.Series(CheckSame).value_counts()\n",
    "\n",
    "# 정확도: 51 / 60 = 86.67%"
   ]
  },
  {
   "cell_type": "markdown",
   "id": "631aeff5",
   "metadata": {},
   "source": [
    "# 10.CNN Deep 하게 구현하기"
   ]
  },
  {
   "cell_type": "markdown",
   "id": "e7b2fb91",
   "metadata": {},
   "source": [
    "Activation function에 relu를 사용해본다."
   ]
  },
  {
   "cell_type": "code",
   "execution_count": 68,
   "id": "a8de944e",
   "metadata": {},
   "outputs": [],
   "source": [
    "model = models.Sequential()\n",
    "model.add(tf.keras.layers.Conv2D(5, (3, 3), activation='relu', padding='same', input_shape=(56, 56, 3,)))\n",
    "model.add(tf.keras.layers.Conv2D(5, (3, 3), activation='relu', padding='same', input_shape=(56, 56, 3,)))\n",
    "model.add(tf.keras.layers.Conv2D(5, (3, 3), activation='relu', padding='same', input_shape=(56, 56, 3,)))\n",
    "model.add(tf.keras.layers.Conv2D(5, (3, 3), activation='relu', padding='same', input_shape=(56, 56, 3,)))\n",
    "model.add(tf.keras.layers.Flatten())\n",
    "model.add(tf.keras.layers.Dense(1, activation='sigmoid'))\n",
    "model = Model(inputs=model.input, outputs=model.output)"
   ]
  },
  {
   "cell_type": "code",
   "execution_count": 69,
   "id": "3e8754d5",
   "metadata": {},
   "outputs": [
    {
     "name": "stdout",
     "output_type": "stream",
     "text": [
      "Model: \"model_8\"\n",
      "_________________________________________________________________\n",
      " Layer (type)                Output Shape              Param #   \n",
      "=================================================================\n",
      " conv2d_8_input (InputLayer)  [(None, 56, 56, 3)]      0         \n",
      "                                                                 \n",
      " conv2d_8 (Conv2D)           (None, 56, 56, 5)         140       \n",
      "                                                                 \n",
      " conv2d_9 (Conv2D)           (None, 56, 56, 5)         230       \n",
      "                                                                 \n",
      " conv2d_10 (Conv2D)          (None, 56, 56, 5)         230       \n",
      "                                                                 \n",
      " conv2d_11 (Conv2D)          (None, 56, 56, 5)         230       \n",
      "                                                                 \n",
      " flatten_4 (Flatten)         (None, 15680)             0         \n",
      "                                                                 \n",
      " dense_3 (Dense)             (None, 1)                 15681     \n",
      "                                                                 \n",
      "=================================================================\n",
      "Total params: 16,511\n",
      "Trainable params: 16,511\n",
      "Non-trainable params: 0\n",
      "_________________________________________________________________\n"
     ]
    }
   ],
   "source": [
    "model.summary()"
   ]
  },
  {
   "cell_type": "code",
   "execution_count": 70,
   "id": "09c2d768",
   "metadata": {},
   "outputs": [],
   "source": [
    "model.compile(optimizer='adam', loss='binary_crossentropy')"
   ]
  },
  {
   "cell_type": "code",
   "execution_count": 71,
   "id": "9392be1f",
   "metadata": {
    "scrolled": true,
    "tags": []
   },
   "outputs": [
    {
     "name": "stdout",
     "output_type": "stream",
     "text": [
      "Epoch 1/15\n",
      "17/17 [==============================] - 3s 111ms/step - loss: 17.1786\n",
      "Epoch 2/15\n",
      "17/17 [==============================] - 2s 146ms/step - loss: 1.7740\n",
      "Epoch 3/15\n",
      "17/17 [==============================] - 2s 131ms/step - loss: 0.9361\n",
      "Epoch 4/15\n",
      "17/17 [==============================] - 2s 126ms/step - loss: 0.6931\n",
      "Epoch 5/15\n",
      "17/17 [==============================] - 2s 129ms/step - loss: 0.4189\n",
      "Epoch 6/15\n",
      "17/17 [==============================] - 3s 163ms/step - loss: 0.2963\n",
      "Epoch 7/15\n",
      "17/17 [==============================] - 3s 208ms/step - loss: 0.2160\n",
      "Epoch 8/15\n",
      "17/17 [==============================] - 4s 221ms/step - loss: 0.1798\n",
      "Epoch 9/15\n",
      "17/17 [==============================] - 3s 205ms/step - loss: 0.1137\n",
      "Epoch 10/15\n",
      "17/17 [==============================] - 3s 185ms/step - loss: 0.0889\n",
      "Epoch 11/15\n",
      "17/17 [==============================] - 3s 161ms/step - loss: 0.0770\n",
      "Epoch 12/15\n",
      "17/17 [==============================] - 3s 159ms/step - loss: 0.0552\n",
      "Epoch 13/15\n",
      "17/17 [==============================] - 3s 197ms/step - loss: 0.0328\n",
      "Epoch 14/15\n",
      "17/17 [==============================] - 3s 160ms/step - loss: 0.0253\n",
      "Epoch 15/15\n",
      "17/17 [==============================] - 3s 170ms/step - loss: 0.0210\n"
     ]
    },
    {
     "data": {
      "text/plain": [
       "<keras.callbacks.History at 0x27ae4daf3a0>"
      ]
     },
     "execution_count": 71,
     "metadata": {},
     "output_type": "execute_result"
    }
   ],
   "source": [
    "model.fit(x=Train_x, y=Train_y, epochs=15)"
   ]
  },
  {
   "cell_type": "code",
   "execution_count": 72,
   "id": "ad755e4c",
   "metadata": {},
   "outputs": [
    {
     "name": "stdout",
     "output_type": "stream",
     "text": [
      "17/17 [==============================] - 1s 60ms/step\n"
     ]
    },
    {
     "ename": "TypeError",
     "evalue": "unhashable type: 'numpy.ndarray'",
     "output_type": "error",
     "traceback": [
      "\u001b[1;31m---------------------------------------------------------------------------\u001b[0m",
      "\u001b[1;31mTypeError\u001b[0m                                 Traceback (most recent call last)",
      "\u001b[1;32mpandas\\_libs\\hashtable_class_helper.pxi\u001b[0m in \u001b[0;36mpandas._libs.hashtable.PyObjectHashTable.map_locations\u001b[1;34m()\u001b[0m\n",
      "\u001b[1;31mTypeError\u001b[0m: unhashable type: 'numpy.ndarray'"
     ]
    },
    {
     "name": "stderr",
     "output_type": "stream",
     "text": [
      "Exception ignored in: 'pandas._libs.index.IndexEngine._call_map_locations'\n",
      "Traceback (most recent call last):\n",
      "  File \"pandas\\_libs\\hashtable_class_helper.pxi\", line 5231, in pandas._libs.hashtable.PyObjectHashTable.map_locations\n",
      "TypeError: unhashable type: 'numpy.ndarray'\n"
     ]
    },
    {
     "data": {
      "text/plain": [
       "[True]    540\n",
       "dtype: int64"
      ]
     },
     "execution_count": 72,
     "metadata": {},
     "output_type": "execute_result"
    }
   ],
   "source": [
    "Predicted = model.predict(Train_x)\n",
    "\n",
    "CheckSame = [Pred == Label for Pred, Label in zip(Predicted>0.5, Train_y == 1)]\n",
    "pd.Series(CheckSame).value_counts()\n",
    "\n",
    "# 정확도: 50 / 60 = 85%"
   ]
  },
  {
   "cell_type": "code",
   "execution_count": 73,
   "id": "c7ba54dc",
   "metadata": {},
   "outputs": [
    {
     "name": "stdout",
     "output_type": "stream",
     "text": [
      "2/2 [==============================] - 0s 35ms/step\n"
     ]
    },
    {
     "ename": "TypeError",
     "evalue": "unhashable type: 'numpy.ndarray'",
     "output_type": "error",
     "traceback": [
      "\u001b[1;31m---------------------------------------------------------------------------\u001b[0m",
      "\u001b[1;31mTypeError\u001b[0m                                 Traceback (most recent call last)",
      "\u001b[1;32mpandas\\_libs\\hashtable_class_helper.pxi\u001b[0m in \u001b[0;36mpandas._libs.hashtable.PyObjectHashTable.map_locations\u001b[1;34m()\u001b[0m\n",
      "\u001b[1;31mTypeError\u001b[0m: unhashable type: 'numpy.ndarray'"
     ]
    },
    {
     "name": "stderr",
     "output_type": "stream",
     "text": [
      "Exception ignored in: 'pandas._libs.index.IndexEngine._call_map_locations'\n",
      "Traceback (most recent call last):\n",
      "  File \"pandas\\_libs\\hashtable_class_helper.pxi\", line 5231, in pandas._libs.hashtable.PyObjectHashTable.map_locations\n",
      "TypeError: unhashable type: 'numpy.ndarray'\n"
     ]
    },
    {
     "data": {
      "text/plain": [
       "[True]     49\n",
       "[False]    11\n",
       "dtype: int64"
      ]
     },
     "execution_count": 73,
     "metadata": {},
     "output_type": "execute_result"
    }
   ],
   "source": [
    "Predicted = model.predict(Test_x)\n",
    "\n",
    "CheckSame = [Pred == Label for Pred, Label in zip(Predicted>0.5, Test_y == 1)]\n",
    "pd.Series(CheckSame).value_counts()\n",
    "\n",
    "# 정확도: 50 / 60 = 85%"
   ]
  },
  {
   "cell_type": "markdown",
   "id": "c9eb87f2",
   "metadata": {},
   "source": [
    "<br><br><br><br>\n",
    "# 11. Test Data Set에 fit 해보기"
   ]
  },
  {
   "cell_type": "code",
   "execution_count": 74,
   "id": "081d6b98",
   "metadata": {},
   "outputs": [],
   "source": [
    "model = models.Sequential()\n",
    "model.add(tf.keras.layers.Conv2D(5, (3, 3), activation='relu', padding='same', input_shape=(56, 56, 3,)))\n",
    "model.add(tf.keras.layers.Conv2D(10, (3, 3), activation='relu', padding='same', input_shape=(56, 56, 3,)))\n",
    "model.add(tf.keras.layers.Conv2D(10, (3, 3), activation='relu', padding='same', input_shape=(56, 56, 3,)))\n",
    "model.add(tf.keras.layers.Conv2D(5, (3, 3), activation='relu', padding='same', input_shape=(56, 56, 3,)))\n",
    "model.add(tf.keras.layers.Flatten())\n",
    "model.add(tf.keras.layers.Dense(1, activation='sigmoid'))\n",
    "model = Model(inputs=model.input, outputs=model.output)"
   ]
  },
  {
   "cell_type": "code",
   "execution_count": 75,
   "id": "dd11784f",
   "metadata": {},
   "outputs": [],
   "source": [
    "model.compile(optimizer='adam', loss='binary_crossentropy')"
   ]
  },
  {
   "cell_type": "code",
   "execution_count": 76,
   "id": "14daae9a",
   "metadata": {
    "scrolled": true,
    "tags": []
   },
   "outputs": [
    {
     "name": "stdout",
     "output_type": "stream",
     "text": [
      "Epoch 1/15\n",
      "17/17 [==============================] - 5s 208ms/step - loss: 13.4619 - val_loss: 1.4131\n",
      "Epoch 2/15\n",
      "17/17 [==============================] - 3s 190ms/step - loss: 0.7125 - val_loss: 0.3409\n",
      "Epoch 3/15\n",
      "17/17 [==============================] - 4s 225ms/step - loss: 0.4071 - val_loss: 0.2812\n",
      "Epoch 4/15\n",
      "17/17 [==============================] - 4s 237ms/step - loss: 0.3336 - val_loss: 0.2713\n",
      "Epoch 5/15\n",
      "17/17 [==============================] - 4s 246ms/step - loss: 0.2807 - val_loss: 0.3076\n",
      "Epoch 6/15\n",
      "17/17 [==============================] - 4s 215ms/step - loss: 0.2465 - val_loss: 0.3143\n",
      "Epoch 7/15\n",
      "17/17 [==============================] - 4s 217ms/step - loss: 0.2434 - val_loss: 0.3833\n",
      "Epoch 8/15\n",
      "17/17 [==============================] - 4s 227ms/step - loss: 0.1937 - val_loss: 0.4367\n",
      "Epoch 9/15\n",
      "17/17 [==============================] - 4s 214ms/step - loss: 0.1714 - val_loss: 0.6156\n",
      "Epoch 10/15\n",
      "17/17 [==============================] - 4s 232ms/step - loss: 0.1712 - val_loss: 0.4828\n",
      "Epoch 11/15\n",
      "17/17 [==============================] - 4s 226ms/step - loss: 0.1224 - val_loss: 0.5016\n",
      "Epoch 12/15\n",
      "17/17 [==============================] - 4s 213ms/step - loss: 0.1150 - val_loss: 0.5697\n",
      "Epoch 13/15\n",
      "17/17 [==============================] - 4s 216ms/step - loss: 0.0849 - val_loss: 0.5540\n",
      "Epoch 14/15\n",
      "17/17 [==============================] - 4s 228ms/step - loss: 0.0704 - val_loss: 0.5451\n",
      "Epoch 15/15\n",
      "17/17 [==============================] - 4s 209ms/step - loss: 0.0632 - val_loss: 0.6283\n"
     ]
    },
    {
     "data": {
      "text/plain": [
       "<keras.callbacks.History at 0x27ae5f0d280>"
      ]
     },
     "execution_count": 76,
     "metadata": {},
     "output_type": "execute_result"
    }
   ],
   "source": [
    "model.fit(x=Train_x, y=Train_y, epochs=15, validation_data=(Test_x, Test_y))"
   ]
  },
  {
   "cell_type": "code",
   "execution_count": 78,
   "id": "53361437",
   "metadata": {},
   "outputs": [
    {
     "name": "stdout",
     "output_type": "stream",
     "text": [
      "2/2 [==============================] - 0s 35ms/step\n"
     ]
    },
    {
     "ename": "TypeError",
     "evalue": "unhashable type: 'numpy.ndarray'",
     "output_type": "error",
     "traceback": [
      "\u001b[1;31m---------------------------------------------------------------------------\u001b[0m",
      "\u001b[1;31mTypeError\u001b[0m                                 Traceback (most recent call last)",
      "\u001b[1;32mpandas\\_libs\\hashtable_class_helper.pxi\u001b[0m in \u001b[0;36mpandas._libs.hashtable.PyObjectHashTable.map_locations\u001b[1;34m()\u001b[0m\n",
      "\u001b[1;31mTypeError\u001b[0m: unhashable type: 'numpy.ndarray'"
     ]
    },
    {
     "name": "stderr",
     "output_type": "stream",
     "text": [
      "Exception ignored in: 'pandas._libs.index.IndexEngine._call_map_locations'\n",
      "Traceback (most recent call last):\n",
      "  File \"pandas\\_libs\\hashtable_class_helper.pxi\", line 5231, in pandas._libs.hashtable.PyObjectHashTable.map_locations\n",
      "TypeError: unhashable type: 'numpy.ndarray'\n"
     ]
    },
    {
     "data": {
      "text/plain": [
       "[True]     52\n",
       "[False]     8\n",
       "dtype: int64"
      ]
     },
     "execution_count": 78,
     "metadata": {},
     "output_type": "execute_result"
    }
   ],
   "source": [
    "Predicted = model.predict(Test_x)\n",
    "\n",
    "CheckSame = [Pred == Label for Pred, Label in zip(Predicted>0.5, Test_y == 1)]\n",
    "pd.Series(CheckSame).value_counts()\n",
    "\n",
    "# 정확도: 55 / 60 = 85%"
   ]
  },
  {
   "cell_type": "markdown",
   "id": "f33348bf",
   "metadata": {},
   "source": [
    "validation data는 학습에 포함되는 데이터가 아니므로, weight에 영향을 주지 않는다.<br>\n",
    "다만, epoch을 돌면서 validation set에 성능이 얼마나 잘 나오는지 확인할 수 있다."
   ]
  },
  {
   "cell_type": "markdown",
   "id": "7b42679c",
   "metadata": {},
   "source": [
    "1. Validation loss를 통해서 언제쯤 부터 overfit이 일어나는지 알 수 있다. <br><br>\n",
    "2. 그럼 언제 모델이 best인지도 알 수 있다.<br>\n",
    " -> best 모델을 저장하려면?<br>\n",
    " -> call-back 함수를 써라"
   ]
  },
  {
   "cell_type": "markdown",
   "id": "ae64901a",
   "metadata": {},
   "source": [
    "<br><br><br><br><br>\n",
    "# 12. Metric에 accuracy 추가해보기"
   ]
  },
  {
   "cell_type": "code",
   "execution_count": 79,
   "id": "ba91a9ba",
   "metadata": {},
   "outputs": [],
   "source": [
    "model = models.Sequential()\n",
    "model.add(tf.keras.layers.Conv2D(5, (3, 3), activation='relu', padding='same', input_shape=(56, 56, 3,)))\n",
    "model.add(tf.keras.layers.Conv2D(10, (3, 3), activation='relu', padding='same', input_shape=(56, 56, 3,)))\n",
    "model.add(tf.keras.layers.Conv2D(10, (3, 3), activation='relu', padding='same', input_shape=(56, 56, 3,)))\n",
    "model.add(tf.keras.layers.Conv2D(5, (3, 3), activation='relu', padding='same', input_shape=(56, 56, 3,)))\n",
    "model.add(tf.keras.layers.Flatten())\n",
    "model.add(tf.keras.layers.Dense(1, activation='sigmoid'))\n",
    "model = Model(inputs=model.input, outputs=model.output)"
   ]
  },
  {
   "cell_type": "code",
   "execution_count": 80,
   "id": "b1fe9176",
   "metadata": {},
   "outputs": [],
   "source": [
    "model.compile(optimizer='adam', loss='binary_crossentropy', metrics=['acc', 'mse', 'mae'])"
   ]
  },
  {
   "cell_type": "code",
   "execution_count": 81,
   "id": "9ce641f8",
   "metadata": {
    "scrolled": true,
    "tags": []
   },
   "outputs": [
    {
     "name": "stdout",
     "output_type": "stream",
     "text": [
      "Epoch 1/15\n",
      "17/17 [==============================] - 4s 180ms/step - loss: 18.4537 - acc: 0.5444 - mse: 0.4087 - mae: 0.4692 - val_loss: 1.0305 - val_acc: 0.5333 - val_mse: 0.3536 - val_mae: 0.4820\n",
      "Epoch 2/15\n",
      "17/17 [==============================] - 3s 175ms/step - loss: 0.7969 - acc: 0.5407 - mse: 0.2867 - mae: 0.4809 - val_loss: 0.7689 - val_acc: 0.5667 - val_mse: 0.2811 - val_mae: 0.4848\n",
      "Epoch 3/15\n",
      "17/17 [==============================] - 3s 198ms/step - loss: 0.6768 - acc: 0.5944 - mse: 0.2409 - mae: 0.4646 - val_loss: 0.6715 - val_acc: 0.5667 - val_mse: 0.2414 - val_mae: 0.4765\n",
      "Epoch 4/15\n",
      "17/17 [==============================] - 3s 190ms/step - loss: 0.6454 - acc: 0.6222 - mse: 0.2269 - mae: 0.4511 - val_loss: 0.6263 - val_acc: 0.6667 - val_mse: 0.2210 - val_mae: 0.4514\n",
      "Epoch 5/15\n",
      "17/17 [==============================] - 3s 201ms/step - loss: 0.6350 - acc: 0.6296 - mse: 0.2228 - mae: 0.4381 - val_loss: 0.6295 - val_acc: 0.6167 - val_mse: 0.2219 - val_mae: 0.4438\n",
      "Epoch 6/15\n",
      "17/17 [==============================] - 4s 213ms/step - loss: 0.6060 - acc: 0.6648 - mse: 0.2102 - mae: 0.4289 - val_loss: 0.6009 - val_acc: 0.6500 - val_mse: 0.2084 - val_mae: 0.4302\n",
      "Epoch 7/15\n",
      "17/17 [==============================] - 3s 204ms/step - loss: 0.5785 - acc: 0.6944 - mse: 0.1979 - mae: 0.4040 - val_loss: 0.5457 - val_acc: 0.7500 - val_mse: 0.1831 - val_mae: 0.3948\n",
      "Epoch 8/15\n",
      "17/17 [==============================] - 3s 202ms/step - loss: 0.5187 - acc: 0.7315 - mse: 0.1732 - mae: 0.3595 - val_loss: 0.3837 - val_acc: 0.8500 - val_mse: 0.1198 - val_mae: 0.2750\n",
      "Epoch 9/15\n",
      "17/17 [==============================] - 3s 181ms/step - loss: 0.4545 - acc: 0.7944 - mse: 0.1463 - mae: 0.2880 - val_loss: 0.3792 - val_acc: 0.8500 - val_mse: 0.1173 - val_mae: 0.2663\n",
      "Epoch 10/15\n",
      "17/17 [==============================] - 3s 186ms/step - loss: 0.4058 - acc: 0.8204 - mse: 0.1259 - mae: 0.2608 - val_loss: 0.3817 - val_acc: 0.8167 - val_mse: 0.1194 - val_mae: 0.2565\n",
      "Epoch 11/15\n",
      "17/17 [==============================] - 3s 194ms/step - loss: 0.3456 - acc: 0.8500 - mse: 0.1075 - mae: 0.2317 - val_loss: 0.3195 - val_acc: 0.8833 - val_mse: 0.0919 - val_mae: 0.2057\n",
      "Epoch 12/15\n",
      "17/17 [==============================] - 3s 197ms/step - loss: 0.3081 - acc: 0.8704 - mse: 0.0953 - mae: 0.2104 - val_loss: 0.3239 - val_acc: 0.8667 - val_mse: 0.0923 - val_mae: 0.1977\n",
      "Epoch 13/15\n",
      "17/17 [==============================] - 3s 186ms/step - loss: 0.2693 - acc: 0.8870 - mse: 0.0815 - mae: 0.1827 - val_loss: 0.3871 - val_acc: 0.8500 - val_mse: 0.0934 - val_mae: 0.1943\n",
      "Epoch 14/15\n",
      "17/17 [==============================] - 3s 200ms/step - loss: 0.2621 - acc: 0.8815 - mse: 0.0804 - mae: 0.1780 - val_loss: 0.3359 - val_acc: 0.8500 - val_mse: 0.1032 - val_mae: 0.1860\n",
      "Epoch 15/15\n",
      "17/17 [==============================] - 4s 218ms/step - loss: 0.2288 - acc: 0.8981 - mse: 0.0691 - mae: 0.1511 - val_loss: 0.3288 - val_acc: 0.8833 - val_mse: 0.0868 - val_mae: 0.1827\n"
     ]
    },
    {
     "data": {
      "text/plain": [
       "<keras.callbacks.History at 0x27ae608d580>"
      ]
     },
     "execution_count": 81,
     "metadata": {},
     "output_type": "execute_result"
    }
   ],
   "source": [
    "model.fit(x=Train_x, y=Train_y, epochs=15, validation_data=(Test_x, Test_y))"
   ]
  },
  {
   "cell_type": "markdown",
   "id": "eb5931a7",
   "metadata": {},
   "source": [
    "Test set을 validation으로 활용하면, 가장 잘 나온 모델을 선택할 수 있음<br>\n",
    "사실 이것은 Test set에 대한 fitting 이므로, 자제해야함<br>\n",
    "=> Validation set을 따로 구성해야하는 이유"
   ]
  },
  {
   "cell_type": "markdown",
   "id": "42a891be",
   "metadata": {},
   "source": [
    "<br><br><br><br><br>\n",
    "# 13. CallBack 함수, CheckPoint 활용하기"
   ]
  },
  {
   "cell_type": "code",
   "execution_count": 82,
   "id": "a4fc9753",
   "metadata": {},
   "outputs": [],
   "source": [
    "# CheckPoint: Epoch 마다 validation 성능을 검증하여, best performance 일 경우 저장\n",
    "CP = ModelCheckpoint(filepath='MODEL/{epoch:03d}-{loss:.4f}-{acc:.4f}-{val_loss:.4f}-{val_acc:.4f}.hdf5',\n",
    "            monitor='val_acc', verbose=1, save_best_only=True, mode='max')\n",
    "\n",
    "CP = ModelCheckpoint(filepath='MODEL/{epoch:03d}-{loss:.4f}-{acc:.4f}-{val_loss:.4f}-{val_acc:.4f}.hdf5',\n",
    "            monitor='val_loss', verbose=1, save_best_only=True, mode='min')"
   ]
  },
  {
   "cell_type": "code",
   "execution_count": 83,
   "id": "78432905",
   "metadata": {},
   "outputs": [],
   "source": [
    "model = models.Sequential()\n",
    "model.add(tf.keras.layers.Conv2D(5, (3, 3), activation='relu', padding='same', input_shape=(56, 56, 3,)))\n",
    "model.add(tf.keras.layers.Conv2D(10, (3, 3), activation='relu', padding='same', input_shape=(56, 56, 3,)))\n",
    "model.add(tf.keras.layers.Conv2D(10, (3, 3), activation='relu', padding='same', input_shape=(56, 56, 3,)))\n",
    "model.add(tf.keras.layers.Conv2D(5, (3, 3), activation='relu', padding='same', input_shape=(56, 56, 3,)))\n",
    "model.add(tf.keras.layers.Flatten())\n",
    "model.add(tf.keras.layers.Dense(1, activation='sigmoid'))\n",
    "model = Model(inputs=model.input, outputs=model.output)"
   ]
  },
  {
   "cell_type": "code",
   "execution_count": 84,
   "id": "7fa90821",
   "metadata": {},
   "outputs": [],
   "source": [
    "model.compile(optimizer='adam', loss='binary_crossentropy', metrics=['acc'])"
   ]
  },
  {
   "cell_type": "code",
   "execution_count": 85,
   "id": "a5304e2c",
   "metadata": {
    "scrolled": true,
    "tags": []
   },
   "outputs": [
    {
     "name": "stdout",
     "output_type": "stream",
     "text": [
      "Epoch 1/50\n",
      "17/17 [==============================] - ETA: 0s - loss: 33.1324 - acc: 0.4926\n",
      "Epoch 1: val_loss improved from inf to 2.11339, saving model to MODEL\\001-33.1324-0.4926-2.1134-0.5000.hdf5\n",
      "17/17 [==============================] - 3s 157ms/step - loss: 33.1324 - acc: 0.4926 - val_loss: 2.1134 - val_acc: 0.5000\n",
      "Epoch 2/50\n",
      "17/17 [==============================] - ETA: 0s - loss: 0.9515 - acc: 0.5556\n",
      "Epoch 2: val_loss improved from 2.11339 to 0.63047, saving model to MODEL\\002-0.9515-0.5556-0.6305-0.5667.hdf5\n",
      "17/17 [==============================] - 3s 185ms/step - loss: 0.9515 - acc: 0.5556 - val_loss: 0.6305 - val_acc: 0.5667\n",
      "Epoch 3/50\n",
      "17/17 [==============================] - ETA: 0s - loss: 0.5684 - acc: 0.7426\n",
      "Epoch 3: val_loss improved from 0.63047 to 0.43542, saving model to MODEL\\003-0.5684-0.7426-0.4354-0.8667.hdf5\n",
      "17/17 [==============================] - 3s 203ms/step - loss: 0.5684 - acc: 0.7426 - val_loss: 0.4354 - val_acc: 0.8667\n",
      "Epoch 4/50\n",
      "17/17 [==============================] - ETA: 0s - loss: 0.4083 - acc: 0.8204\n",
      "Epoch 4: val_loss improved from 0.43542 to 0.34246, saving model to MODEL\\004-0.4083-0.8204-0.3425-0.8833.hdf5\n",
      "17/17 [==============================] - 4s 228ms/step - loss: 0.4083 - acc: 0.8204 - val_loss: 0.3425 - val_acc: 0.8833\n",
      "Epoch 5/50\n",
      "17/17 [==============================] - ETA: 0s - loss: 0.3194 - acc: 0.8722\n",
      "Epoch 5: val_loss improved from 0.34246 to 0.33513, saving model to MODEL\\005-0.3194-0.8722-0.3351-0.9167.hdf5\n",
      "17/17 [==============================] - 4s 226ms/step - loss: 0.3194 - acc: 0.8722 - val_loss: 0.3351 - val_acc: 0.9167\n",
      "Epoch 6/50\n",
      "17/17 [==============================] - ETA: 0s - loss: 0.2586 - acc: 0.9019\n",
      "Epoch 6: val_loss improved from 0.33513 to 0.25710, saving model to MODEL\\006-0.2586-0.9019-0.2571-0.8833.hdf5\n",
      "17/17 [==============================] - 4s 216ms/step - loss: 0.2586 - acc: 0.9019 - val_loss: 0.2571 - val_acc: 0.8833\n",
      "Epoch 7/50\n",
      "17/17 [==============================] - ETA: 0s - loss: 0.1818 - acc: 0.9204\n",
      "Epoch 7: val_loss improved from 0.25710 to 0.25586, saving model to MODEL\\007-0.1818-0.9204-0.2559-0.9333.hdf5\n",
      "17/17 [==============================] - 4s 228ms/step - loss: 0.1818 - acc: 0.9204 - val_loss: 0.2559 - val_acc: 0.9333\n",
      "Epoch 8/50\n",
      "17/17 [==============================] - ETA: 0s - loss: 0.1305 - acc: 0.9556\n",
      "Epoch 8: val_loss did not improve from 0.25586\n",
      "17/17 [==============================] - 4s 211ms/step - loss: 0.1305 - acc: 0.9556 - val_loss: 0.2899 - val_acc: 0.8833\n",
      "Epoch 9/50\n",
      "17/17 [==============================] - ETA: 0s - loss: 0.1029 - acc: 0.9685\n",
      "Epoch 9: val_loss did not improve from 0.25586\n",
      "17/17 [==============================] - 4s 219ms/step - loss: 0.1029 - acc: 0.9685 - val_loss: 0.2997 - val_acc: 0.9167\n",
      "Epoch 10/50\n",
      "17/17 [==============================] - ETA: 0s - loss: 0.0646 - acc: 0.9815\n",
      "Epoch 10: val_loss did not improve from 0.25586\n",
      "17/17 [==============================] - 4s 214ms/step - loss: 0.0646 - acc: 0.9815 - val_loss: 0.3197 - val_acc: 0.8833\n",
      "Epoch 11/50\n",
      "17/17 [==============================] - ETA: 0s - loss: 0.0435 - acc: 0.9926\n",
      "Epoch 11: val_loss did not improve from 0.25586\n",
      "17/17 [==============================] - 4s 224ms/step - loss: 0.0435 - acc: 0.9926 - val_loss: 0.3522 - val_acc: 0.8833\n",
      "Epoch 12/50\n",
      "17/17 [==============================] - ETA: 0s - loss: 0.0249 - acc: 0.9944\n",
      "Epoch 12: val_loss did not improve from 0.25586\n",
      "17/17 [==============================] - 4s 226ms/step - loss: 0.0249 - acc: 0.9944 - val_loss: 0.4027 - val_acc: 0.8333\n",
      "Epoch 13/50\n",
      "17/17 [==============================] - ETA: 0s - loss: 0.0181 - acc: 0.9981\n",
      "Epoch 13: val_loss did not improve from 0.25586\n",
      "17/17 [==============================] - 4s 223ms/step - loss: 0.0181 - acc: 0.9981 - val_loss: 0.4265 - val_acc: 0.8500\n",
      "Epoch 14/50\n",
      "17/17 [==============================] - ETA: 0s - loss: 0.0132 - acc: 0.9981\n",
      "Epoch 14: val_loss did not improve from 0.25586\n",
      "17/17 [==============================] - 4s 214ms/step - loss: 0.0132 - acc: 0.9981 - val_loss: 0.5115 - val_acc: 0.8333\n",
      "Epoch 15/50\n",
      "17/17 [==============================] - ETA: 0s - loss: 0.0080 - acc: 1.0000\n",
      "Epoch 15: val_loss did not improve from 0.25586\n",
      "17/17 [==============================] - 4s 222ms/step - loss: 0.0080 - acc: 1.0000 - val_loss: 0.4488 - val_acc: 0.8667\n",
      "Epoch 16/50\n",
      "17/17 [==============================] - ETA: 0s - loss: 0.0037 - acc: 1.0000\n",
      "Epoch 16: val_loss did not improve from 0.25586\n",
      "17/17 [==============================] - 4s 223ms/step - loss: 0.0037 - acc: 1.0000 - val_loss: 0.6560 - val_acc: 0.8500\n",
      "Epoch 17/50\n",
      "17/17 [==============================] - ETA: 0s - loss: 0.0026 - acc: 1.0000\n",
      "Epoch 17: val_loss did not improve from 0.25586\n",
      "17/17 [==============================] - 3s 193ms/step - loss: 0.0026 - acc: 1.0000 - val_loss: 0.6496 - val_acc: 0.8833\n",
      "Epoch 18/50\n",
      "17/17 [==============================] - ETA: 0s - loss: 0.0020 - acc: 1.0000\n",
      "Epoch 18: val_loss did not improve from 0.25586\n",
      "17/17 [==============================] - 3s 205ms/step - loss: 0.0020 - acc: 1.0000 - val_loss: 0.6562 - val_acc: 0.8833\n",
      "Epoch 19/50\n",
      "17/17 [==============================] - ETA: 0s - loss: 0.0016 - acc: 1.0000\n",
      "Epoch 19: val_loss did not improve from 0.25586\n",
      "17/17 [==============================] - 4s 208ms/step - loss: 0.0016 - acc: 1.0000 - val_loss: 0.6810 - val_acc: 0.8667\n",
      "Epoch 20/50\n",
      "17/17 [==============================] - ETA: 0s - loss: 0.0011 - acc: 1.0000\n",
      "Epoch 20: val_loss did not improve from 0.25586\n",
      "17/17 [==============================] - 4s 217ms/step - loss: 0.0011 - acc: 1.0000 - val_loss: 0.7232 - val_acc: 0.8667\n",
      "Epoch 21/50\n",
      "17/17 [==============================] - ETA: 0s - loss: 8.7899e-04 - acc: 1.0000\n",
      "Epoch 21: val_loss did not improve from 0.25586\n",
      "17/17 [==============================] - 4s 260ms/step - loss: 8.7899e-04 - acc: 1.0000 - val_loss: 0.7563 - val_acc: 0.8667\n",
      "Epoch 22/50\n",
      "17/17 [==============================] - ETA: 0s - loss: 7.3468e-04 - acc: 1.0000\n",
      "Epoch 22: val_loss did not improve from 0.25586\n",
      "17/17 [==============================] - 4s 220ms/step - loss: 7.3468e-04 - acc: 1.0000 - val_loss: 0.7718 - val_acc: 0.8667\n",
      "Epoch 23/50\n",
      "17/17 [==============================] - ETA: 0s - loss: 6.5145e-04 - acc: 1.0000\n",
      "Epoch 23: val_loss did not improve from 0.25586\n",
      "17/17 [==============================] - 3s 199ms/step - loss: 6.5145e-04 - acc: 1.0000 - val_loss: 0.7754 - val_acc: 0.8667\n",
      "Epoch 24/50\n",
      "17/17 [==============================] - ETA: 0s - loss: 5.9648e-04 - acc: 1.0000\n",
      "Epoch 24: val_loss did not improve from 0.25586\n",
      "17/17 [==============================] - 4s 245ms/step - loss: 5.9648e-04 - acc: 1.0000 - val_loss: 0.7733 - val_acc: 0.8667\n",
      "Epoch 25/50\n",
      "17/17 [==============================] - ETA: 0s - loss: 5.3137e-04 - acc: 1.0000\n",
      "Epoch 25: val_loss did not improve from 0.25586\n",
      "17/17 [==============================] - 4s 211ms/step - loss: 5.3137e-04 - acc: 1.0000 - val_loss: 0.7840 - val_acc: 0.8667\n",
      "Epoch 26/50\n",
      "17/17 [==============================] - ETA: 0s - loss: 4.6275e-04 - acc: 1.0000\n",
      "Epoch 26: val_loss did not improve from 0.25586\n",
      "17/17 [==============================] - 4s 225ms/step - loss: 4.6275e-04 - acc: 1.0000 - val_loss: 0.7975 - val_acc: 0.8667\n",
      "Epoch 27/50\n",
      "17/17 [==============================] - ETA: 0s - loss: 4.2046e-04 - acc: 1.0000\n",
      "Epoch 27: val_loss did not improve from 0.25586\n",
      "17/17 [==============================] - 4s 225ms/step - loss: 4.2046e-04 - acc: 1.0000 - val_loss: 0.8082 - val_acc: 0.8667\n",
      "Epoch 28/50\n",
      "17/17 [==============================] - ETA: 0s - loss: 3.8271e-04 - acc: 1.0000\n",
      "Epoch 28: val_loss did not improve from 0.25586\n",
      "17/17 [==============================] - 4s 226ms/step - loss: 3.8271e-04 - acc: 1.0000 - val_loss: 0.8182 - val_acc: 0.8667\n",
      "Epoch 29/50\n",
      "17/17 [==============================] - ETA: 0s - loss: 3.5175e-04 - acc: 1.0000\n",
      "Epoch 29: val_loss did not improve from 0.25586\n",
      "17/17 [==============================] - 4s 211ms/step - loss: 3.5175e-04 - acc: 1.0000 - val_loss: 0.8257 - val_acc: 0.8667\n",
      "Epoch 30/50\n",
      "17/17 [==============================] - ETA: 0s - loss: 3.2699e-04 - acc: 1.0000\n",
      "Epoch 30: val_loss did not improve from 0.25586\n",
      "17/17 [==============================] - 3s 190ms/step - loss: 3.2699e-04 - acc: 1.0000 - val_loss: 0.8345 - val_acc: 0.8500\n",
      "Epoch 31/50\n",
      "17/17 [==============================] - ETA: 0s - loss: 3.0001e-04 - acc: 1.0000\n",
      "Epoch 31: val_loss did not improve from 0.25586\n",
      "17/17 [==============================] - 3s 207ms/step - loss: 3.0001e-04 - acc: 1.0000 - val_loss: 0.8369 - val_acc: 0.8500\n",
      "Epoch 32/50\n",
      "17/17 [==============================] - ETA: 0s - loss: 2.7715e-04 - acc: 1.0000\n",
      "Epoch 32: val_loss did not improve from 0.25586\n",
      "17/17 [==============================] - 4s 216ms/step - loss: 2.7715e-04 - acc: 1.0000 - val_loss: 0.8466 - val_acc: 0.8500\n",
      "Epoch 33/50\n",
      "17/17 [==============================] - ETA: 0s - loss: 2.5922e-04 - acc: 1.0000\n",
      "Epoch 33: val_loss did not improve from 0.25586\n",
      "17/17 [==============================] - 4s 221ms/step - loss: 2.5922e-04 - acc: 1.0000 - val_loss: 0.8470 - val_acc: 0.8500\n",
      "Epoch 34/50\n",
      "17/17 [==============================] - ETA: 0s - loss: 2.4347e-04 - acc: 1.0000\n",
      "Epoch 34: val_loss did not improve from 0.25586\n",
      "17/17 [==============================] - 4s 215ms/step - loss: 2.4347e-04 - acc: 1.0000 - val_loss: 0.8566 - val_acc: 0.8500\n",
      "Epoch 35/50\n",
      "17/17 [==============================] - ETA: 0s - loss: 2.2861e-04 - acc: 1.0000\n",
      "Epoch 35: val_loss did not improve from 0.25586\n",
      "17/17 [==============================] - 4s 237ms/step - loss: 2.2861e-04 - acc: 1.0000 - val_loss: 0.8637 - val_acc: 0.8500\n",
      "Epoch 36/50\n",
      "17/17 [==============================] - ETA: 0s - loss: 2.1657e-04 - acc: 1.0000\n",
      "Epoch 36: val_loss did not improve from 0.25586\n",
      "17/17 [==============================] - 4s 231ms/step - loss: 2.1657e-04 - acc: 1.0000 - val_loss: 0.8673 - val_acc: 0.8500\n",
      "Epoch 37/50\n",
      "17/17 [==============================] - ETA: 0s - loss: 2.0074e-04 - acc: 1.0000\n",
      "Epoch 37: val_loss did not improve from 0.25586\n",
      "17/17 [==============================] - 4s 226ms/step - loss: 2.0074e-04 - acc: 1.0000 - val_loss: 0.8741 - val_acc: 0.8500\n",
      "Epoch 38/50\n",
      "17/17 [==============================] - ETA: 0s - loss: 1.9033e-04 - acc: 1.0000\n",
      "Epoch 38: val_loss did not improve from 0.25586\n",
      "17/17 [==============================] - 3s 201ms/step - loss: 1.9033e-04 - acc: 1.0000 - val_loss: 0.8780 - val_acc: 0.8500\n",
      "Epoch 39/50\n",
      "17/17 [==============================] - ETA: 0s - loss: 1.8053e-04 - acc: 1.0000\n",
      "Epoch 39: val_loss did not improve from 0.25586\n",
      "17/17 [==============================] - 4s 219ms/step - loss: 1.8053e-04 - acc: 1.0000 - val_loss: 0.8864 - val_acc: 0.8500\n",
      "Epoch 40/50\n",
      "17/17 [==============================] - ETA: 0s - loss: 1.7126e-04 - acc: 1.0000\n",
      "Epoch 40: val_loss did not improve from 0.25586\n",
      "17/17 [==============================] - 4s 215ms/step - loss: 1.7126e-04 - acc: 1.0000 - val_loss: 0.8910 - val_acc: 0.8500\n",
      "Epoch 41/50\n",
      "17/17 [==============================] - ETA: 0s - loss: 1.6113e-04 - acc: 1.0000\n",
      "Epoch 41: val_loss did not improve from 0.25586\n",
      "17/17 [==============================] - 3s 203ms/step - loss: 1.6113e-04 - acc: 1.0000 - val_loss: 0.8924 - val_acc: 0.8500\n",
      "Epoch 42/50\n",
      "17/17 [==============================] - ETA: 0s - loss: 1.5235e-04 - acc: 1.0000\n",
      "Epoch 42: val_loss did not improve from 0.25586\n",
      "17/17 [==============================] - 4s 211ms/step - loss: 1.5235e-04 - acc: 1.0000 - val_loss: 0.8975 - val_acc: 0.8500\n",
      "Epoch 43/50\n",
      "17/17 [==============================] - ETA: 0s - loss: 1.4849e-04 - acc: 1.0000\n",
      "Epoch 43: val_loss did not improve from 0.25586\n",
      "17/17 [==============================] - 4s 208ms/step - loss: 1.4849e-04 - acc: 1.0000 - val_loss: 0.9006 - val_acc: 0.8500\n",
      "Epoch 44/50\n",
      "17/17 [==============================] - ETA: 0s - loss: 1.4081e-04 - acc: 1.0000\n",
      "Epoch 44: val_loss did not improve from 0.25586\n",
      "17/17 [==============================] - 4s 217ms/step - loss: 1.4081e-04 - acc: 1.0000 - val_loss: 0.9050 - val_acc: 0.8500\n",
      "Epoch 45/50\n",
      "17/17 [==============================] - ETA: 0s - loss: 1.3302e-04 - acc: 1.0000\n",
      "Epoch 45: val_loss did not improve from 0.25586\n",
      "17/17 [==============================] - 3s 200ms/step - loss: 1.3302e-04 - acc: 1.0000 - val_loss: 0.9057 - val_acc: 0.8500\n",
      "Epoch 46/50\n",
      "17/17 [==============================] - ETA: 0s - loss: 1.2513e-04 - acc: 1.0000\n",
      "Epoch 46: val_loss did not improve from 0.25586\n",
      "17/17 [==============================] - 4s 207ms/step - loss: 1.2513e-04 - acc: 1.0000 - val_loss: 0.9108 - val_acc: 0.8500\n",
      "Epoch 47/50\n",
      "17/17 [==============================] - ETA: 0s - loss: 1.2048e-04 - acc: 1.0000\n",
      "Epoch 47: val_loss did not improve from 0.25586\n",
      "17/17 [==============================] - 4s 215ms/step - loss: 1.2048e-04 - acc: 1.0000 - val_loss: 0.9176 - val_acc: 0.8500\n",
      "Epoch 48/50\n",
      "17/17 [==============================] - ETA: 0s - loss: 1.1749e-04 - acc: 1.0000\n",
      "Epoch 48: val_loss did not improve from 0.25586\n",
      "17/17 [==============================] - 3s 202ms/step - loss: 1.1749e-04 - acc: 1.0000 - val_loss: 0.9161 - val_acc: 0.8500\n",
      "Epoch 49/50\n",
      "17/17 [==============================] - ETA: 0s - loss: 1.1186e-04 - acc: 1.0000\n",
      "Epoch 49: val_loss did not improve from 0.25586\n",
      "17/17 [==============================] - 3s 199ms/step - loss: 1.1186e-04 - acc: 1.0000 - val_loss: 0.9242 - val_acc: 0.8500\n",
      "Epoch 50/50\n",
      "17/17 [==============================] - ETA: 0s - loss: 1.0568e-04 - acc: 1.0000\n",
      "Epoch 50: val_loss did not improve from 0.25586\n",
      "17/17 [==============================] - 3s 207ms/step - loss: 1.0568e-04 - acc: 1.0000 - val_loss: 0.9249 - val_acc: 0.8500\n"
     ]
    },
    {
     "data": {
      "text/plain": [
       "<keras.callbacks.History at 0x27ae62592e0>"
      ]
     },
     "execution_count": 85,
     "metadata": {},
     "output_type": "execute_result"
    }
   ],
   "source": [
    "model.fit(x=Train_x, y=Train_y, epochs=50, validation_data=(Test_x, Test_y), callbacks=[CP])"
   ]
  },
  {
   "cell_type": "code",
   "execution_count": 86,
   "id": "25268ef8",
   "metadata": {},
   "outputs": [
    {
     "data": {
      "text/plain": [
       "['001-0.9483-0.5741-0.5596-0.7667.hdf5',\n",
       " '001-17.6085-0.5167-0.6123-0.6833.hdf5',\n",
       " '001-33.1324-0.4926-2.1134-0.5000.hdf5',\n",
       " '002-0.6302-0.6593-0.4217-0.8500.hdf5',\n",
       " '002-0.9515-0.5556-0.6305-0.5667.hdf5',\n",
       " '003-0.4429-0.8167-0.3627-0.8833.hdf5',\n",
       " '003-0.4488-0.7963-0.4612-0.7833.hdf5',\n",
       " '003-0.5684-0.7426-0.4354-0.8667.hdf5',\n",
       " '004-0.3659-0.8407-0.4364-0.8333.hdf5',\n",
       " '004-0.3680-0.8426-0.2204-0.9333.hdf5',\n",
       " '004-0.4083-0.8204-0.3425-0.8833.hdf5',\n",
       " '005-0.3194-0.8722-0.3351-0.9167.hdf5',\n",
       " '006-0.2295-0.9296-0.5851-0.8667.hdf5',\n",
       " '006-0.2586-0.9019-0.2571-0.8833.hdf5',\n",
       " '007-0.1818-0.9204-0.2559-0.9333.hdf5',\n",
       " '008-0.1401-0.9611-0.1723-0.9500.hdf5']"
      ]
     },
     "execution_count": 86,
     "metadata": {},
     "output_type": "execute_result"
    }
   ],
   "source": [
    "MoelWeights = os.listdir('MODEL')\n",
    "MoelWeights"
   ]
  },
  {
   "cell_type": "code",
   "execution_count": 87,
   "id": "5134cf96",
   "metadata": {},
   "outputs": [
    {
     "data": {
      "text/plain": [
       "'008-0.1401-0.9611-0.1723-0.9500.hdf5'"
      ]
     },
     "execution_count": 87,
     "metadata": {},
     "output_type": "execute_result"
    }
   ],
   "source": [
    "BestModel = MoelWeights[ len(MoelWeights) -1 ]\n",
    "BestModel"
   ]
  },
  {
   "cell_type": "code",
   "execution_count": 88,
   "id": "226f341d",
   "metadata": {},
   "outputs": [],
   "source": [
    "model.load_weights('MODEL/' + BestModel)"
   ]
  },
  {
   "cell_type": "code",
   "execution_count": 89,
   "id": "ecc17b43",
   "metadata": {},
   "outputs": [
    {
     "name": "stdout",
     "output_type": "stream",
     "text": [
      "2/2 [==============================] - 0s 38ms/step\n"
     ]
    },
    {
     "ename": "TypeError",
     "evalue": "unhashable type: 'numpy.ndarray'",
     "output_type": "error",
     "traceback": [
      "\u001b[1;31m---------------------------------------------------------------------------\u001b[0m",
      "\u001b[1;31mTypeError\u001b[0m                                 Traceback (most recent call last)",
      "\u001b[1;32mpandas\\_libs\\hashtable_class_helper.pxi\u001b[0m in \u001b[0;36mpandas._libs.hashtable.PyObjectHashTable.map_locations\u001b[1;34m()\u001b[0m\n",
      "\u001b[1;31mTypeError\u001b[0m: unhashable type: 'numpy.ndarray'"
     ]
    },
    {
     "name": "stderr",
     "output_type": "stream",
     "text": [
      "Exception ignored in: 'pandas._libs.index.IndexEngine._call_map_locations'\n",
      "Traceback (most recent call last):\n",
      "  File \"pandas\\_libs\\hashtable_class_helper.pxi\", line 5231, in pandas._libs.hashtable.PyObjectHashTable.map_locations\n",
      "TypeError: unhashable type: 'numpy.ndarray'\n"
     ]
    },
    {
     "data": {
      "text/plain": [
       "[True]     57\n",
       "[False]     3\n",
       "dtype: int64"
      ]
     },
     "execution_count": 89,
     "metadata": {},
     "output_type": "execute_result"
    }
   ],
   "source": [
    "Predicted = model.predict(Test_x)\n",
    "\n",
    "CheckSame = [Pred == Label for Pred, Label in zip(Predicted>0.5, Test_y == 1)]\n",
    "pd.Series(CheckSame).value_counts()\n",
    "\n",
    "# 정확도: 54 / 60 = 90%"
   ]
  },
  {
   "cell_type": "markdown",
   "id": "df3d6451",
   "metadata": {},
   "source": [
    "<br><br><br><br><br>\n",
    "# 14. CallBack 함수, CheckPoint & Reduce LR (Learning Rate) 활용하기"
   ]
  },
  {
   "cell_type": "markdown",
   "id": "9240a2b5",
   "metadata": {},
   "source": [
    "MODEL/ 안에 저장된 weight 파일들은 다시 삭제"
   ]
  },
  {
   "cell_type": "code",
   "execution_count": 90,
   "id": "16cd633b",
   "metadata": {},
   "outputs": [],
   "source": [
    "# CheckPoint: Epoch 마다 validation 성능을 검증하여, best performance 일 경우 저장\n",
    "CP = ModelCheckpoint(filepath='MODEL/{epoch:03d}-{loss:.4f}-{acc:.4f}-{val_loss:.4f}-{val_acc:.4f}.hdf5',\n",
    "            monitor='val_acc', verbose=1, save_best_only=True, mode='max')\n",
    "\n",
    "# Learning Rate 줄여나가기\n",
    "LR = ReduceLROnPlateau(monitor='val_loss',factor=0.8,patience=2, verbose=1, min_lr=1e-8)\n",
    "\n",
    "CALLBACK = [CP, LR]"
   ]
  },
  {
   "cell_type": "code",
   "execution_count": 91,
   "id": "f474a971",
   "metadata": {},
   "outputs": [],
   "source": [
    "model = models.Sequential()\n",
    "model.add(tf.keras.layers.Conv2D(5, (3, 3), activation='relu', padding='same', input_shape=(56, 56, 3,)))\n",
    "model.add(tf.keras.layers.Conv2D(10, (3, 3), activation='relu', padding='same', input_shape=(56, 56, 3,)))\n",
    "model.add(tf.keras.layers.Conv2D(10, (3, 3), activation='relu', padding='same', input_shape=(56, 56, 3,)))\n",
    "model.add(tf.keras.layers.Conv2D(5, (3, 3), activation='relu', padding='same', input_shape=(56, 56, 3,)))\n",
    "model.add(tf.keras.layers.Flatten())\n",
    "model.add(tf.keras.layers.Dense(1, activation='sigmoid'))\n",
    "model = Model(inputs=model.input, outputs=model.output)"
   ]
  },
  {
   "cell_type": "code",
   "execution_count": 92,
   "id": "ffaaa68a",
   "metadata": {},
   "outputs": [],
   "source": [
    "model.compile(optimizer='adam', loss='binary_crossentropy', metrics=['acc'])"
   ]
  },
  {
   "cell_type": "code",
   "execution_count": 93,
   "id": "19bef561",
   "metadata": {
    "scrolled": true,
    "tags": []
   },
   "outputs": [
    {
     "name": "stdout",
     "output_type": "stream",
     "text": [
      "Epoch 1/50\n",
      "17/17 [==============================] - ETA: 0s - loss: 33.4391 - acc: 0.5167\n",
      "Epoch 1: val_acc improved from -inf to 0.50000, saving model to MODEL\\001-33.4391-0.5167-2.1155-0.5000.hdf5\n",
      "17/17 [==============================] - 4s 216ms/step - loss: 33.4391 - acc: 0.5167 - val_loss: 2.1155 - val_acc: 0.5000 - lr: 0.0010\n",
      "Epoch 2/50\n",
      "17/17 [==============================] - ETA: 0s - loss: 0.8395 - acc: 0.5611\n",
      "Epoch 2: val_acc improved from 0.50000 to 0.61667, saving model to MODEL\\002-0.8395-0.5611-0.6381-0.6167.hdf5\n",
      "17/17 [==============================] - 3s 171ms/step - loss: 0.8395 - acc: 0.5611 - val_loss: 0.6381 - val_acc: 0.6167 - lr: 0.0010\n",
      "Epoch 3/50\n",
      "17/17 [==============================] - ETA: 0s - loss: 0.6197 - acc: 0.6611\n",
      "Epoch 3: val_acc improved from 0.61667 to 0.75000, saving model to MODEL\\003-0.6197-0.6611-0.5763-0.7500.hdf5\n",
      "17/17 [==============================] - 3s 203ms/step - loss: 0.6197 - acc: 0.6611 - val_loss: 0.5763 - val_acc: 0.7500 - lr: 0.0010\n",
      "Epoch 4/50\n",
      "17/17 [==============================] - ETA: 0s - loss: 0.5958 - acc: 0.7074\n",
      "Epoch 4: val_acc did not improve from 0.75000\n",
      "17/17 [==============================] - 3s 199ms/step - loss: 0.5958 - acc: 0.7074 - val_loss: 0.5360 - val_acc: 0.7333 - lr: 0.0010\n",
      "Epoch 5/50\n",
      "17/17 [==============================] - ETA: 0s - loss: 0.5727 - acc: 0.6870\n",
      "Epoch 5: val_acc did not improve from 0.75000\n",
      "17/17 [==============================] - 4s 221ms/step - loss: 0.5727 - acc: 0.6870 - val_loss: 0.5237 - val_acc: 0.7500 - lr: 0.0010\n",
      "Epoch 6/50\n",
      "17/17 [==============================] - ETA: 0s - loss: 0.5841 - acc: 0.7019\n",
      "Epoch 6: val_acc did not improve from 0.75000\n",
      "17/17 [==============================] - 3s 204ms/step - loss: 0.5841 - acc: 0.7019 - val_loss: 0.5334 - val_acc: 0.7333 - lr: 0.0010\n",
      "Epoch 7/50\n",
      "17/17 [==============================] - ETA: 0s - loss: 0.5550 - acc: 0.7204\n",
      "Epoch 7: val_acc did not improve from 0.75000\n",
      "17/17 [==============================] - 3s 190ms/step - loss: 0.5550 - acc: 0.7204 - val_loss: 0.5166 - val_acc: 0.7333 - lr: 0.0010\n",
      "Epoch 8/50\n",
      "17/17 [==============================] - ETA: 0s - loss: 0.5335 - acc: 0.7667\n",
      "Epoch 8: val_acc did not improve from 0.75000\n",
      "17/17 [==============================] - 3s 195ms/step - loss: 0.5335 - acc: 0.7667 - val_loss: 0.5176 - val_acc: 0.7167 - lr: 0.0010\n",
      "Epoch 9/50\n",
      "17/17 [==============================] - ETA: 0s - loss: 0.5233 - acc: 0.7574\n",
      "Epoch 9: val_acc did not improve from 0.75000\n",
      "\n",
      "Epoch 9: ReduceLROnPlateau reducing learning rate to 0.000800000037997961.\n",
      "17/17 [==============================] - 4s 235ms/step - loss: 0.5233 - acc: 0.7574 - val_loss: 0.6014 - val_acc: 0.6667 - lr: 0.0010\n",
      "Epoch 10/50\n",
      "17/17 [==============================] - ETA: 0s - loss: 0.5265 - acc: 0.7463\n",
      "Epoch 10: val_acc did not improve from 0.75000\n",
      "17/17 [==============================] - 4s 227ms/step - loss: 0.5265 - acc: 0.7463 - val_loss: 0.5019 - val_acc: 0.7500 - lr: 8.0000e-04\n",
      "Epoch 11/50\n",
      "17/17 [==============================] - ETA: 0s - loss: 0.5160 - acc: 0.7574\n",
      "Epoch 11: val_acc improved from 0.75000 to 0.76667, saving model to MODEL\\011-0.5160-0.7574-0.5049-0.7667.hdf5\n",
      "17/17 [==============================] - 4s 217ms/step - loss: 0.5160 - acc: 0.7574 - val_loss: 0.5049 - val_acc: 0.7667 - lr: 8.0000e-04\n",
      "Epoch 12/50\n",
      "17/17 [==============================] - ETA: 0s - loss: 0.4671 - acc: 0.7759\n",
      "Epoch 12: val_acc improved from 0.76667 to 0.81667, saving model to MODEL\\012-0.4671-0.7759-0.3849-0.8167.hdf5\n",
      "17/17 [==============================] - 3s 195ms/step - loss: 0.4671 - acc: 0.7759 - val_loss: 0.3849 - val_acc: 0.8167 - lr: 8.0000e-04\n",
      "Epoch 13/50\n",
      "17/17 [==============================] - ETA: 0s - loss: 0.4620 - acc: 0.8148\n",
      "Epoch 13: val_acc did not improve from 0.81667\n",
      "17/17 [==============================] - 4s 219ms/step - loss: 0.4620 - acc: 0.8148 - val_loss: 0.5140 - val_acc: 0.7833 - lr: 8.0000e-04\n",
      "Epoch 14/50\n",
      "17/17 [==============================] - ETA: 0s - loss: 0.5597 - acc: 0.6963\n",
      "Epoch 14: val_acc did not improve from 0.81667\n",
      "\n",
      "Epoch 14: ReduceLROnPlateau reducing learning rate to 0.0006400000303983689.\n",
      "17/17 [==============================] - 4s 219ms/step - loss: 0.5597 - acc: 0.6963 - val_loss: 0.5489 - val_acc: 0.7667 - lr: 8.0000e-04\n",
      "Epoch 15/50\n",
      "17/17 [==============================] - ETA: 0s - loss: 0.5322 - acc: 0.7315\n",
      "Epoch 15: val_acc did not improve from 0.81667\n",
      "17/17 [==============================] - 4s 212ms/step - loss: 0.5322 - acc: 0.7315 - val_loss: 0.4994 - val_acc: 0.7667 - lr: 6.4000e-04\n",
      "Epoch 16/50\n",
      "17/17 [==============================] - ETA: 0s - loss: 0.5036 - acc: 0.7704\n",
      "Epoch 16: val_acc did not improve from 0.81667\n",
      "\n",
      "Epoch 16: ReduceLROnPlateau reducing learning rate to 0.0005120000336319208.\n",
      "17/17 [==============================] - 3s 206ms/step - loss: 0.5036 - acc: 0.7704 - val_loss: 0.4877 - val_acc: 0.7833 - lr: 6.4000e-04\n",
      "Epoch 17/50\n",
      "17/17 [==============================] - ETA: 0s - loss: 0.4991 - acc: 0.7759\n",
      "Epoch 17: val_acc did not improve from 0.81667\n",
      "17/17 [==============================] - 4s 212ms/step - loss: 0.4991 - acc: 0.7759 - val_loss: 0.4841 - val_acc: 0.8000 - lr: 5.1200e-04\n",
      "Epoch 18/50\n",
      "17/17 [==============================] - ETA: 0s - loss: 0.4928 - acc: 0.7704\n",
      "Epoch 18: val_acc improved from 0.81667 to 0.83333, saving model to MODEL\\018-0.4928-0.7704-0.4790-0.8333.hdf5\n",
      "\n",
      "Epoch 18: ReduceLROnPlateau reducing learning rate to 0.00040960004553198815.\n",
      "17/17 [==============================] - 4s 240ms/step - loss: 0.4928 - acc: 0.7704 - val_loss: 0.4790 - val_acc: 0.8333 - lr: 5.1200e-04\n",
      "Epoch 19/50\n",
      "17/17 [==============================] - ETA: 0s - loss: 0.4943 - acc: 0.7741\n",
      "Epoch 19: val_acc did not improve from 0.83333\n",
      "17/17 [==============================] - 4s 235ms/step - loss: 0.4943 - acc: 0.7741 - val_loss: 0.4794 - val_acc: 0.8167 - lr: 4.0960e-04\n",
      "Epoch 20/50\n",
      "17/17 [==============================] - ETA: 0s - loss: 0.4694 - acc: 0.7704\n",
      "Epoch 20: val_acc did not improve from 0.83333\n",
      "\n",
      "Epoch 20: ReduceLROnPlateau reducing learning rate to 0.00032768002711236477.\n",
      "17/17 [==============================] - 4s 239ms/step - loss: 0.4694 - acc: 0.7704 - val_loss: 0.4500 - val_acc: 0.7667 - lr: 4.0960e-04\n",
      "Epoch 21/50\n",
      "17/17 [==============================] - ETA: 0s - loss: 0.4100 - acc: 0.8185\n",
      "Epoch 21: val_acc improved from 0.83333 to 0.88333, saving model to MODEL\\021-0.4100-0.8185-0.3308-0.8833.hdf5\n",
      "17/17 [==============================] - 4s 235ms/step - loss: 0.4100 - acc: 0.8185 - val_loss: 0.3308 - val_acc: 0.8833 - lr: 3.2768e-04\n",
      "Epoch 22/50\n",
      "17/17 [==============================] - ETA: 0s - loss: 0.3352 - acc: 0.8593\n",
      "Epoch 22: val_acc did not improve from 0.88333\n",
      "17/17 [==============================] - 4s 213ms/step - loss: 0.3352 - acc: 0.8593 - val_loss: 0.3125 - val_acc: 0.8833 - lr: 3.2768e-04\n",
      "Epoch 23/50\n",
      "17/17 [==============================] - ETA: 0s - loss: 0.2975 - acc: 0.8741\n",
      "Epoch 23: val_acc did not improve from 0.88333\n",
      "17/17 [==============================] - 4s 211ms/step - loss: 0.2975 - acc: 0.8741 - val_loss: 0.3074 - val_acc: 0.8833 - lr: 3.2768e-04\n",
      "Epoch 24/50\n",
      "17/17 [==============================] - ETA: 0s - loss: 0.2562 - acc: 0.9037\n",
      "Epoch 24: val_acc improved from 0.88333 to 0.93333, saving model to MODEL\\024-0.2562-0.9037-0.2801-0.9333.hdf5\n",
      "17/17 [==============================] - 4s 225ms/step - loss: 0.2562 - acc: 0.9037 - val_loss: 0.2801 - val_acc: 0.9333 - lr: 3.2768e-04\n",
      "Epoch 25/50\n",
      "17/17 [==============================] - ETA: 0s - loss: 0.2001 - acc: 0.9296\n",
      "Epoch 25: val_acc did not improve from 0.93333\n",
      "17/17 [==============================] - 4s 211ms/step - loss: 0.2001 - acc: 0.9296 - val_loss: 0.2700 - val_acc: 0.9333 - lr: 3.2768e-04\n",
      "Epoch 26/50\n",
      "17/17 [==============================] - ETA: 0s - loss: 0.1751 - acc: 0.9315\n",
      "Epoch 26: val_acc did not improve from 0.93333\n",
      "17/17 [==============================] - 4s 210ms/step - loss: 0.1751 - acc: 0.9315 - val_loss: 0.2460 - val_acc: 0.9333 - lr: 3.2768e-04\n",
      "Epoch 27/50\n",
      "17/17 [==============================] - ETA: 0s - loss: 0.1461 - acc: 0.9556\n",
      "Epoch 27: val_acc did not improve from 0.93333\n",
      "17/17 [==============================] - 4s 211ms/step - loss: 0.1461 - acc: 0.9556 - val_loss: 0.2872 - val_acc: 0.9167 - lr: 3.2768e-04\n",
      "Epoch 28/50\n",
      "17/17 [==============================] - ETA: 0s - loss: 0.1275 - acc: 0.9648\n",
      "Epoch 28: val_acc did not improve from 0.93333\n",
      "\n",
      "Epoch 28: ReduceLROnPlateau reducing learning rate to 0.0002621440216898918.\n",
      "17/17 [==============================] - 4s 239ms/step - loss: 0.1275 - acc: 0.9648 - val_loss: 0.2525 - val_acc: 0.9333 - lr: 3.2768e-04\n",
      "Epoch 29/50\n",
      "17/17 [==============================] - ETA: 0s - loss: 0.1136 - acc: 0.9667\n",
      "Epoch 29: val_acc did not improve from 0.93333\n",
      "17/17 [==============================] - 4s 212ms/step - loss: 0.1136 - acc: 0.9667 - val_loss: 0.2511 - val_acc: 0.9333 - lr: 2.6214e-04\n",
      "Epoch 30/50\n",
      "17/17 [==============================] - ETA: 0s - loss: 0.1276 - acc: 0.9593\n",
      "Epoch 30: val_acc did not improve from 0.93333\n",
      "\n",
      "Epoch 30: ReduceLROnPlateau reducing learning rate to 0.00020971521735191345.\n",
      "17/17 [==============================] - 4s 228ms/step - loss: 0.1276 - acc: 0.9593 - val_loss: 0.2566 - val_acc: 0.9333 - lr: 2.6214e-04\n",
      "Epoch 31/50\n",
      "17/17 [==============================] - ETA: 0s - loss: 0.0924 - acc: 0.9815\n",
      "Epoch 31: val_acc did not improve from 0.93333\n",
      "17/17 [==============================] - 4s 226ms/step - loss: 0.0924 - acc: 0.9815 - val_loss: 0.2474 - val_acc: 0.9333 - lr: 2.0972e-04\n",
      "Epoch 32/50\n",
      "17/17 [==============================] - ETA: 0s - loss: 0.0812 - acc: 0.9815\n",
      "Epoch 32: val_acc did not improve from 0.93333\n",
      "\n",
      "Epoch 32: ReduceLROnPlateau reducing learning rate to 0.00016777217388153076.\n",
      "17/17 [==============================] - 4s 221ms/step - loss: 0.0812 - acc: 0.9815 - val_loss: 0.2569 - val_acc: 0.9333 - lr: 2.0972e-04\n",
      "Epoch 33/50\n",
      "17/17 [==============================] - ETA: 0s - loss: 0.0768 - acc: 0.9852\n",
      "Epoch 33: val_acc did not improve from 0.93333\n",
      "17/17 [==============================] - 4s 228ms/step - loss: 0.0768 - acc: 0.9852 - val_loss: 0.2578 - val_acc: 0.9333 - lr: 1.6777e-04\n",
      "Epoch 34/50\n",
      "17/17 [==============================] - ETA: 0s - loss: 0.0712 - acc: 0.9833\n",
      "Epoch 34: val_acc did not improve from 0.93333\n",
      "\n",
      "Epoch 34: ReduceLROnPlateau reducing learning rate to 0.00013421773910522462.\n",
      "17/17 [==============================] - 3s 202ms/step - loss: 0.0712 - acc: 0.9833 - val_loss: 0.2475 - val_acc: 0.9333 - lr: 1.6777e-04\n",
      "Epoch 35/50\n",
      "17/17 [==============================] - ETA: 0s - loss: 0.0666 - acc: 0.9870\n",
      "Epoch 35: val_acc did not improve from 0.93333\n",
      "17/17 [==============================] - 4s 224ms/step - loss: 0.0666 - acc: 0.9870 - val_loss: 0.2631 - val_acc: 0.9333 - lr: 1.3422e-04\n",
      "Epoch 36/50\n",
      "17/17 [==============================] - ETA: 0s - loss: 0.0621 - acc: 0.9907\n",
      "Epoch 36: val_acc did not improve from 0.93333\n",
      "\n",
      "Epoch 36: ReduceLROnPlateau reducing learning rate to 0.00010737419361248613.\n",
      "17/17 [==============================] - 4s 233ms/step - loss: 0.0621 - acc: 0.9907 - val_loss: 0.2527 - val_acc: 0.9167 - lr: 1.3422e-04\n",
      "Epoch 37/50\n",
      "17/17 [==============================] - ETA: 0s - loss: 0.0587 - acc: 0.9926\n",
      "Epoch 37: val_acc did not improve from 0.93333\n",
      "17/17 [==============================] - 4s 222ms/step - loss: 0.0587 - acc: 0.9926 - val_loss: 0.2620 - val_acc: 0.9333 - lr: 1.0737e-04\n",
      "Epoch 38/50\n",
      "17/17 [==============================] - ETA: 0s - loss: 0.0564 - acc: 0.9926\n",
      "Epoch 38: val_acc did not improve from 0.93333\n",
      "\n",
      "Epoch 38: ReduceLROnPlateau reducing learning rate to 8.589935605414213e-05.\n",
      "17/17 [==============================] - 4s 208ms/step - loss: 0.0564 - acc: 0.9926 - val_loss: 0.2554 - val_acc: 0.9333 - lr: 1.0737e-04\n",
      "Epoch 39/50\n",
      "17/17 [==============================] - ETA: 0s - loss: 0.0547 - acc: 0.9926\n",
      "Epoch 39: val_acc did not improve from 0.93333\n",
      "17/17 [==============================] - 4s 230ms/step - loss: 0.0547 - acc: 0.9926 - val_loss: 0.2655 - val_acc: 0.9333 - lr: 8.5899e-05\n",
      "Epoch 40/50\n",
      "17/17 [==============================] - ETA: 0s - loss: 0.0529 - acc: 0.9907\n",
      "Epoch 40: val_acc did not improve from 0.93333\n",
      "\n",
      "Epoch 40: ReduceLROnPlateau reducing learning rate to 6.871948717162013e-05.\n",
      "17/17 [==============================] - 4s 245ms/step - loss: 0.0529 - acc: 0.9907 - val_loss: 0.2644 - val_acc: 0.9333 - lr: 8.5899e-05\n",
      "Epoch 41/50\n",
      "17/17 [==============================] - ETA: 0s - loss: 0.0523 - acc: 0.9926\n",
      "Epoch 41: val_acc improved from 0.93333 to 0.95000, saving model to MODEL\\041-0.0523-0.9926-0.2554-0.9500.hdf5\n",
      "17/17 [==============================] - 4s 213ms/step - loss: 0.0523 - acc: 0.9926 - val_loss: 0.2554 - val_acc: 0.9500 - lr: 6.8719e-05\n",
      "Epoch 42/50\n",
      "17/17 [==============================] - ETA: 0s - loss: 0.0497 - acc: 0.9926\n",
      "Epoch 42: val_acc did not improve from 0.95000\n",
      "\n",
      "Epoch 42: ReduceLROnPlateau reducing learning rate to 5.497558740898967e-05.\n",
      "17/17 [==============================] - 4s 228ms/step - loss: 0.0497 - acc: 0.9926 - val_loss: 0.2589 - val_acc: 0.9500 - lr: 6.8719e-05\n",
      "Epoch 43/50\n",
      "17/17 [==============================] - ETA: 0s - loss: 0.0491 - acc: 0.9944\n",
      "Epoch 43: val_acc did not improve from 0.95000\n",
      "17/17 [==============================] - 4s 221ms/step - loss: 0.0491 - acc: 0.9944 - val_loss: 0.2623 - val_acc: 0.9500 - lr: 5.4976e-05\n",
      "Epoch 44/50\n",
      "17/17 [==============================] - ETA: 0s - loss: 0.0483 - acc: 0.9926\n",
      "Epoch 44: val_acc did not improve from 0.95000\n",
      "\n",
      "Epoch 44: ReduceLROnPlateau reducing learning rate to 4.398046876303852e-05.\n",
      "17/17 [==============================] - 4s 226ms/step - loss: 0.0483 - acc: 0.9926 - val_loss: 0.2593 - val_acc: 0.9500 - lr: 5.4976e-05\n",
      "Epoch 45/50\n",
      "17/17 [==============================] - ETA: 0s - loss: 0.0461 - acc: 0.9926\n",
      "Epoch 45: val_acc did not improve from 0.95000\n",
      "17/17 [==============================] - 4s 248ms/step - loss: 0.0461 - acc: 0.9926 - val_loss: 0.2641 - val_acc: 0.9500 - lr: 4.3980e-05\n",
      "Epoch 46/50\n",
      "17/17 [==============================] - ETA: 0s - loss: 0.0452 - acc: 0.9944\n",
      "Epoch 46: val_acc did not improve from 0.95000\n",
      "\n",
      "Epoch 46: ReduceLROnPlateau reducing learning rate to 3.518437442835421e-05.\n",
      "17/17 [==============================] - 4s 263ms/step - loss: 0.0452 - acc: 0.9944 - val_loss: 0.2616 - val_acc: 0.9500 - lr: 4.3980e-05\n",
      "Epoch 47/50\n",
      "17/17 [==============================] - ETA: 0s - loss: 0.0444 - acc: 0.9926\n",
      "Epoch 47: val_acc did not improve from 0.95000\n",
      "17/17 [==============================] - 5s 287ms/step - loss: 0.0444 - acc: 0.9926 - val_loss: 0.2584 - val_acc: 0.9333 - lr: 3.5184e-05\n",
      "Epoch 48/50\n",
      "17/17 [==============================] - ETA: 0s - loss: 0.0445 - acc: 0.9926\n",
      "Epoch 48: val_acc did not improve from 0.95000\n",
      "\n",
      "Epoch 48: ReduceLROnPlateau reducing learning rate to 2.8147498960606756e-05.\n",
      "17/17 [==============================] - 5s 300ms/step - loss: 0.0445 - acc: 0.9926 - val_loss: 0.2622 - val_acc: 0.9500 - lr: 3.5184e-05\n",
      "Epoch 49/50\n",
      "17/17 [==============================] - ETA: 0s - loss: 0.0437 - acc: 0.9944\n",
      "Epoch 49: val_acc did not improve from 0.95000\n",
      "17/17 [==============================] - 4s 255ms/step - loss: 0.0437 - acc: 0.9944 - val_loss: 0.2601 - val_acc: 0.9333 - lr: 2.8147e-05\n",
      "Epoch 50/50\n",
      "17/17 [==============================] - ETA: 0s - loss: 0.0435 - acc: 0.9944\n",
      "Epoch 50: val_acc did not improve from 0.95000\n",
      "\n",
      "Epoch 50: ReduceLROnPlateau reducing learning rate to 2.25179988774471e-05.\n",
      "17/17 [==============================] - 5s 290ms/step - loss: 0.0435 - acc: 0.9944 - val_loss: 0.2657 - val_acc: 0.9500 - lr: 2.8147e-05\n"
     ]
    },
    {
     "data": {
      "text/plain": [
       "<keras.callbacks.History at 0x27ae5ffcf40>"
      ]
     },
     "execution_count": 93,
     "metadata": {},
     "output_type": "execute_result"
    }
   ],
   "source": [
    "model.fit(x=Train_x, y=Train_y, epochs=50, validation_data=(Test_x, Test_y), callbacks=CALLBACK)"
   ]
  },
  {
   "cell_type": "code",
   "execution_count": 94,
   "id": "c9db99b3",
   "metadata": {},
   "outputs": [
    {
     "data": {
      "text/plain": [
       "{'name': 'Adam',\n",
       " 'learning_rate': 2.2518e-05,\n",
       " 'decay': 0.0,\n",
       " 'beta_1': 0.9,\n",
       " 'beta_2': 0.999,\n",
       " 'epsilon': 1e-07,\n",
       " 'amsgrad': False}"
      ]
     },
     "execution_count": 94,
     "metadata": {},
     "output_type": "execute_result"
    }
   ],
   "source": [
    "model.optimizer.get_config()"
   ]
  },
  {
   "cell_type": "markdown",
   "id": "7410bc5c",
   "metadata": {},
   "source": [
    "## tensorboard 사용하기"
   ]
  },
  {
   "cell_type": "code",
   "execution_count": 95,
   "id": "14736055",
   "metadata": {},
   "outputs": [],
   "source": [
    "# CheckPoint: Epoch 마다 validation 성능을 검증하여, best performance 일 경우 저장\n",
    "CP = ModelCheckpoint(filepath='MODEL/{epoch:03d}-{loss:.4f}-{acc:.4f}-{val_loss:.4f}-{val_acc:.4f}.hdf5',\n",
    "            monitor='val_acc', verbose=1, save_best_only=True, mode='max')\n",
    "\n",
    "# tensorboard\n",
    "TB = TensorBoard(log_dir='logs', write_graph=True, write_images=True)\n",
    "\n",
    "# Learning Rate 줄여나가기\n",
    "LR = ReduceLROnPlateau(monitor='val_loss',factor=0.8,patience=2, verbose=1, min_lr=1e-8)\n",
    "\n",
    "CALLBACK = [CP, TB, LR]"
   ]
  },
  {
   "cell_type": "code",
   "execution_count": 96,
   "id": "b7e61e51",
   "metadata": {},
   "outputs": [],
   "source": [
    "model = models.Sequential()\n",
    "model.add(tf.keras.layers.Conv2D(5, (3, 3), activation='relu', padding='same', input_shape=(56, 56, 3,)))\n",
    "model.add(tf.keras.layers.Conv2D(10, (3, 3), activation='relu', padding='same', input_shape=(56, 56, 3,)))\n",
    "model.add(tf.keras.layers.Conv2D(10, (3, 3), activation='relu', padding='same', input_shape=(56, 56, 3,)))\n",
    "model.add(tf.keras.layers.Conv2D(5, (3, 3), activation='relu', padding='same', input_shape=(56, 56, 3,)))\n",
    "model.add(tf.keras.layers.Flatten())\n",
    "model.add(tf.keras.layers.Dense(1, activation='sigmoid'))\n",
    "model = Model(inputs=model.input, outputs=model.output)"
   ]
  },
  {
   "cell_type": "code",
   "execution_count": 97,
   "id": "235a98f8",
   "metadata": {},
   "outputs": [],
   "source": [
    "model.compile(optimizer='adam', loss='binary_crossentropy', metrics=['acc'])"
   ]
  },
  {
   "cell_type": "code",
   "execution_count": 98,
   "id": "b4fbc4fe",
   "metadata": {
    "scrolled": true,
    "tags": []
   },
   "outputs": [
    {
     "name": "stdout",
     "output_type": "stream",
     "text": [
      "Epoch 1/50\n",
      "17/17 [==============================] - ETA: 0s - loss: 5.9075 - acc: 0.5278\n",
      "Epoch 1: val_acc improved from -inf to 0.50000, saving model to MODEL\\001-5.9075-0.5278-0.8253-0.5000.hdf5\n",
      "17/17 [==============================] - 4s 165ms/step - loss: 5.9075 - acc: 0.5278 - val_loss: 0.8253 - val_acc: 0.5000 - lr: 0.0010\n",
      "Epoch 2/50\n",
      "17/17 [==============================] - ETA: 0s - loss: 0.7208 - acc: 0.5815\n",
      "Epoch 2: val_acc improved from 0.50000 to 0.63333, saving model to MODEL\\002-0.7208-0.5815-0.6318-0.6333.hdf5\n",
      "17/17 [==============================] - 3s 204ms/step - loss: 0.7208 - acc: 0.5815 - val_loss: 0.6318 - val_acc: 0.6333 - lr: 0.0010\n",
      "Epoch 3/50\n",
      "17/17 [==============================] - ETA: 0s - loss: 0.6132 - acc: 0.6926\n",
      "Epoch 3: val_acc improved from 0.63333 to 0.75000, saving model to MODEL\\003-0.6132-0.6926-0.5571-0.7500.hdf5\n",
      "17/17 [==============================] - 4s 242ms/step - loss: 0.6132 - acc: 0.6926 - val_loss: 0.5571 - val_acc: 0.7500 - lr: 0.0010\n",
      "Epoch 4/50\n",
      "17/17 [==============================] - ETA: 0s - loss: 0.5332 - acc: 0.7315\n",
      "Epoch 4: val_acc did not improve from 0.75000\n",
      "17/17 [==============================] - 4s 231ms/step - loss: 0.5332 - acc: 0.7315 - val_loss: 0.4532 - val_acc: 0.7333 - lr: 0.0010\n",
      "Epoch 5/50\n",
      "17/17 [==============================] - ETA: 0s - loss: 0.4318 - acc: 0.7889\n",
      "Epoch 5: val_acc improved from 0.75000 to 0.85000, saving model to MODEL\\005-0.4318-0.7889-0.3318-0.8500.hdf5\n",
      "17/17 [==============================] - 4s 208ms/step - loss: 0.4318 - acc: 0.7889 - val_loss: 0.3318 - val_acc: 0.8500 - lr: 0.0010\n",
      "Epoch 6/50\n",
      "17/17 [==============================] - ETA: 0s - loss: 0.3638 - acc: 0.8537\n",
      "Epoch 6: val_acc improved from 0.85000 to 0.98333, saving model to MODEL\\006-0.3638-0.8537-0.2431-0.9833.hdf5\n",
      "17/17 [==============================] - 4s 247ms/step - loss: 0.3638 - acc: 0.8537 - val_loss: 0.2431 - val_acc: 0.9833 - lr: 0.0010\n",
      "Epoch 7/50\n",
      "17/17 [==============================] - ETA: 0s - loss: 0.3080 - acc: 0.8741\n",
      "Epoch 7: val_acc did not improve from 0.98333\n",
      "17/17 [==============================] - 4s 230ms/step - loss: 0.3080 - acc: 0.8741 - val_loss: 0.2092 - val_acc: 0.9500 - lr: 0.0010\n",
      "Epoch 8/50\n",
      "17/17 [==============================] - ETA: 0s - loss: 0.2746 - acc: 0.9037\n",
      "Epoch 8: val_acc did not improve from 0.98333\n",
      "17/17 [==============================] - 4s 222ms/step - loss: 0.2746 - acc: 0.9037 - val_loss: 0.1863 - val_acc: 0.9667 - lr: 0.0010\n",
      "Epoch 9/50\n",
      "17/17 [==============================] - ETA: 0s - loss: 0.2594 - acc: 0.9000\n",
      "Epoch 9: val_acc did not improve from 0.98333\n",
      "17/17 [==============================] - 4s 221ms/step - loss: 0.2594 - acc: 0.9000 - val_loss: 0.2165 - val_acc: 0.9667 - lr: 0.0010\n",
      "Epoch 10/50\n",
      "17/17 [==============================] - ETA: 0s - loss: 0.2160 - acc: 0.9222\n",
      "Epoch 10: val_acc did not improve from 0.98333\n",
      "\n",
      "Epoch 10: ReduceLROnPlateau reducing learning rate to 0.000800000037997961.\n",
      "17/17 [==============================] - 4s 210ms/step - loss: 0.2160 - acc: 0.9222 - val_loss: 0.1978 - val_acc: 0.9333 - lr: 0.0010\n",
      "Epoch 11/50\n",
      "17/17 [==============================] - ETA: 0s - loss: 0.1918 - acc: 0.9315\n",
      "Epoch 11: val_acc did not improve from 0.98333\n",
      "17/17 [==============================] - 4s 228ms/step - loss: 0.1918 - acc: 0.9315 - val_loss: 0.1923 - val_acc: 0.9667 - lr: 8.0000e-04\n",
      "Epoch 12/50\n",
      "17/17 [==============================] - ETA: 0s - loss: 0.1724 - acc: 0.9407\n",
      "Epoch 12: val_acc did not improve from 0.98333\n",
      "17/17 [==============================] - 4s 232ms/step - loss: 0.1724 - acc: 0.9407 - val_loss: 0.1787 - val_acc: 0.9500 - lr: 8.0000e-04\n",
      "Epoch 13/50\n",
      "17/17 [==============================] - ETA: 0s - loss: 0.1463 - acc: 0.9444\n",
      "Epoch 13: val_acc did not improve from 0.98333\n",
      "17/17 [==============================] - 4s 233ms/step - loss: 0.1463 - acc: 0.9444 - val_loss: 0.1744 - val_acc: 0.9500 - lr: 8.0000e-04\n",
      "Epoch 14/50\n",
      "17/17 [==============================] - ETA: 0s - loss: 0.1374 - acc: 0.9537\n",
      "Epoch 14: val_acc did not improve from 0.98333\n",
      "17/17 [==============================] - 4s 225ms/step - loss: 0.1374 - acc: 0.9537 - val_loss: 0.1871 - val_acc: 0.9500 - lr: 8.0000e-04\n",
      "Epoch 15/50\n",
      "17/17 [==============================] - ETA: 0s - loss: 0.1349 - acc: 0.9537\n",
      "Epoch 15: val_acc did not improve from 0.98333\n",
      "17/17 [==============================] - 4s 207ms/step - loss: 0.1349 - acc: 0.9537 - val_loss: 0.1685 - val_acc: 0.9500 - lr: 8.0000e-04\n",
      "Epoch 16/50\n",
      "17/17 [==============================] - ETA: 0s - loss: 0.1226 - acc: 0.9593\n",
      "Epoch 16: val_acc did not improve from 0.98333\n",
      "17/17 [==============================] - 4s 229ms/step - loss: 0.1226 - acc: 0.9593 - val_loss: 0.1657 - val_acc: 0.9667 - lr: 8.0000e-04\n",
      "Epoch 17/50\n",
      "17/17 [==============================] - ETA: 0s - loss: 0.1060 - acc: 0.9759\n",
      "Epoch 17: val_acc did not improve from 0.98333\n",
      "17/17 [==============================] - 4s 220ms/step - loss: 0.1060 - acc: 0.9759 - val_loss: 0.1790 - val_acc: 0.9167 - lr: 8.0000e-04\n",
      "Epoch 18/50\n",
      "17/17 [==============================] - ETA: 0s - loss: 0.0892 - acc: 0.9778\n",
      "Epoch 18: val_acc did not improve from 0.98333\n",
      "\n",
      "Epoch 18: ReduceLROnPlateau reducing learning rate to 0.0006400000303983689.\n",
      "17/17 [==============================] - 3s 191ms/step - loss: 0.0892 - acc: 0.9778 - val_loss: 0.1657 - val_acc: 0.9500 - lr: 8.0000e-04\n",
      "Epoch 19/50\n",
      "17/17 [==============================] - ETA: 0s - loss: 0.0860 - acc: 0.9704\n",
      "Epoch 19: val_acc did not improve from 0.98333\n",
      "17/17 [==============================] - 3s 179ms/step - loss: 0.0860 - acc: 0.9704 - val_loss: 0.1818 - val_acc: 0.9500 - lr: 6.4000e-04\n",
      "Epoch 20/50\n",
      "17/17 [==============================] - ETA: 0s - loss: 0.0719 - acc: 0.9852\n",
      "Epoch 20: val_acc did not improve from 0.98333\n",
      "17/17 [==============================] - 3s 193ms/step - loss: 0.0719 - acc: 0.9852 - val_loss: 0.1536 - val_acc: 0.9500 - lr: 6.4000e-04\n",
      "Epoch 21/50\n",
      "17/17 [==============================] - ETA: 0s - loss: 0.0717 - acc: 0.9796\n",
      "Epoch 21: val_acc did not improve from 0.98333\n",
      "17/17 [==============================] - 4s 229ms/step - loss: 0.0717 - acc: 0.9796 - val_loss: 0.1631 - val_acc: 0.9500 - lr: 6.4000e-04\n",
      "Epoch 22/50\n",
      "17/17 [==============================] - ETA: 0s - loss: 0.0733 - acc: 0.9833\n",
      "Epoch 22: val_acc did not improve from 0.98333\n",
      "\n",
      "Epoch 22: ReduceLROnPlateau reducing learning rate to 0.0005120000336319208.\n",
      "17/17 [==============================] - 4s 229ms/step - loss: 0.0733 - acc: 0.9833 - val_loss: 0.1869 - val_acc: 0.9333 - lr: 6.4000e-04\n",
      "Epoch 23/50\n",
      "17/17 [==============================] - ETA: 0s - loss: 0.0586 - acc: 0.9852\n",
      "Epoch 23: val_acc did not improve from 0.98333\n",
      "17/17 [==============================] - 4s 214ms/step - loss: 0.0586 - acc: 0.9852 - val_loss: 0.1637 - val_acc: 0.9667 - lr: 5.1200e-04\n",
      "Epoch 24/50\n",
      "17/17 [==============================] - ETA: 0s - loss: 0.0617 - acc: 0.9815\n",
      "Epoch 24: val_acc did not improve from 0.98333\n",
      "\n",
      "Epoch 24: ReduceLROnPlateau reducing learning rate to 0.00040960004553198815.\n",
      "17/17 [==============================] - 4s 233ms/step - loss: 0.0617 - acc: 0.9815 - val_loss: 0.1776 - val_acc: 0.9500 - lr: 5.1200e-04\n",
      "Epoch 25/50\n",
      "17/17 [==============================] - ETA: 0s - loss: 0.0676 - acc: 0.9833\n",
      "Epoch 25: val_acc did not improve from 0.98333\n",
      "17/17 [==============================] - 4s 234ms/step - loss: 0.0676 - acc: 0.9833 - val_loss: 0.1921 - val_acc: 0.9500 - lr: 4.0960e-04\n",
      "Epoch 26/50\n",
      "17/17 [==============================] - ETA: 0s - loss: 0.0505 - acc: 0.9889\n",
      "Epoch 26: val_acc did not improve from 0.98333\n",
      "\n",
      "Epoch 26: ReduceLROnPlateau reducing learning rate to 0.00032768002711236477.\n",
      "17/17 [==============================] - 4s 217ms/step - loss: 0.0505 - acc: 0.9889 - val_loss: 0.1798 - val_acc: 0.9500 - lr: 4.0960e-04\n",
      "Epoch 27/50\n",
      "17/17 [==============================] - ETA: 0s - loss: 0.0496 - acc: 0.9907\n",
      "Epoch 27: val_acc did not improve from 0.98333\n",
      "17/17 [==============================] - 4s 208ms/step - loss: 0.0496 - acc: 0.9907 - val_loss: 0.1850 - val_acc: 0.9667 - lr: 3.2768e-04\n",
      "Epoch 28/50\n",
      "17/17 [==============================] - ETA: 0s - loss: 0.0442 - acc: 0.9907\n",
      "Epoch 28: val_acc did not improve from 0.98333\n",
      "\n",
      "Epoch 28: ReduceLROnPlateau reducing learning rate to 0.0002621440216898918.\n",
      "17/17 [==============================] - 4s 209ms/step - loss: 0.0442 - acc: 0.9907 - val_loss: 0.1908 - val_acc: 0.9667 - lr: 3.2768e-04\n",
      "Epoch 29/50\n",
      "17/17 [==============================] - ETA: 0s - loss: 0.0391 - acc: 0.9963\n",
      "Epoch 29: val_acc did not improve from 0.98333\n",
      "17/17 [==============================] - 4s 225ms/step - loss: 0.0391 - acc: 0.9963 - val_loss: 0.1911 - val_acc: 0.9333 - lr: 2.6214e-04\n",
      "Epoch 30/50\n",
      "17/17 [==============================] - ETA: 0s - loss: 0.0421 - acc: 0.9963\n",
      "Epoch 30: val_acc did not improve from 0.98333\n",
      "\n",
      "Epoch 30: ReduceLROnPlateau reducing learning rate to 0.00020971521735191345.\n",
      "17/17 [==============================] - 3s 206ms/step - loss: 0.0421 - acc: 0.9963 - val_loss: 0.1932 - val_acc: 0.9500 - lr: 2.6214e-04\n",
      "Epoch 31/50\n",
      "17/17 [==============================] - ETA: 0s - loss: 0.0388 - acc: 0.9944\n",
      "Epoch 31: val_acc did not improve from 0.98333\n",
      "17/17 [==============================] - 4s 213ms/step - loss: 0.0388 - acc: 0.9944 - val_loss: 0.1980 - val_acc: 0.9500 - lr: 2.0972e-04\n",
      "Epoch 32/50\n",
      "17/17 [==============================] - ETA: 0s - loss: 0.0365 - acc: 0.9944\n",
      "Epoch 32: val_acc did not improve from 0.98333\n",
      "\n",
      "Epoch 32: ReduceLROnPlateau reducing learning rate to 0.00016777217388153076.\n",
      "17/17 [==============================] - 4s 212ms/step - loss: 0.0365 - acc: 0.9944 - val_loss: 0.2006 - val_acc: 0.9500 - lr: 2.0972e-04\n",
      "Epoch 33/50\n",
      "17/17 [==============================] - ETA: 0s - loss: 0.0383 - acc: 0.9926\n",
      "Epoch 33: val_acc did not improve from 0.98333\n",
      "17/17 [==============================] - 4s 232ms/step - loss: 0.0383 - acc: 0.9926 - val_loss: 0.2025 - val_acc: 0.9500 - lr: 1.6777e-04\n",
      "Epoch 34/50\n",
      "17/17 [==============================] - ETA: 0s - loss: 0.0392 - acc: 0.9907\n",
      "Epoch 34: val_acc did not improve from 0.98333\n",
      "\n",
      "Epoch 34: ReduceLROnPlateau reducing learning rate to 0.00013421773910522462.\n",
      "17/17 [==============================] - 5s 266ms/step - loss: 0.0392 - acc: 0.9907 - val_loss: 0.2167 - val_acc: 0.9500 - lr: 1.6777e-04\n",
      "Epoch 35/50\n",
      "17/17 [==============================] - ETA: 0s - loss: 0.0334 - acc: 0.9963\n",
      "Epoch 35: val_acc did not improve from 0.98333\n",
      "17/17 [==============================] - 4s 219ms/step - loss: 0.0334 - acc: 0.9963 - val_loss: 0.2112 - val_acc: 0.9500 - lr: 1.3422e-04\n",
      "Epoch 36/50\n",
      "17/17 [==============================] - ETA: 0s - loss: 0.0328 - acc: 0.9963\n",
      "Epoch 36: val_acc did not improve from 0.98333\n",
      "\n",
      "Epoch 36: ReduceLROnPlateau reducing learning rate to 0.00010737419361248613.\n",
      "17/17 [==============================] - 5s 274ms/step - loss: 0.0328 - acc: 0.9963 - val_loss: 0.2101 - val_acc: 0.9500 - lr: 1.3422e-04\n",
      "Epoch 37/50\n",
      "17/17 [==============================] - ETA: 0s - loss: 0.0317 - acc: 0.9963\n",
      "Epoch 37: val_acc did not improve from 0.98333\n",
      "17/17 [==============================] - 4s 221ms/step - loss: 0.0317 - acc: 0.9963 - val_loss: 0.2222 - val_acc: 0.9667 - lr: 1.0737e-04\n",
      "Epoch 38/50\n",
      "17/17 [==============================] - ETA: 0s - loss: 0.0315 - acc: 0.9963\n",
      "Epoch 38: val_acc did not improve from 0.98333\n",
      "\n",
      "Epoch 38: ReduceLROnPlateau reducing learning rate to 8.589935605414213e-05.\n",
      "17/17 [==============================] - 4s 220ms/step - loss: 0.0315 - acc: 0.9963 - val_loss: 0.2162 - val_acc: 0.9500 - lr: 1.0737e-04\n",
      "Epoch 39/50\n",
      "17/17 [==============================] - ETA: 0s - loss: 0.0311 - acc: 0.9963\n",
      "Epoch 39: val_acc did not improve from 0.98333\n",
      "17/17 [==============================] - 4s 234ms/step - loss: 0.0311 - acc: 0.9963 - val_loss: 0.2213 - val_acc: 0.9500 - lr: 8.5899e-05\n",
      "Epoch 40/50\n",
      "17/17 [==============================] - ETA: 0s - loss: 0.0308 - acc: 0.9963\n",
      "Epoch 40: val_acc did not improve from 0.98333\n",
      "\n",
      "Epoch 40: ReduceLROnPlateau reducing learning rate to 6.871948717162013e-05.\n",
      "17/17 [==============================] - 4s 229ms/step - loss: 0.0308 - acc: 0.9963 - val_loss: 0.2171 - val_acc: 0.9500 - lr: 8.5899e-05\n",
      "Epoch 41/50\n",
      "17/17 [==============================] - ETA: 0s - loss: 0.0308 - acc: 0.9963\n",
      "Epoch 41: val_acc did not improve from 0.98333\n",
      "17/17 [==============================] - 4s 214ms/step - loss: 0.0308 - acc: 0.9963 - val_loss: 0.2170 - val_acc: 0.9500 - lr: 6.8719e-05\n",
      "Epoch 42/50\n",
      "17/17 [==============================] - ETA: 0s - loss: 0.0296 - acc: 0.9963\n",
      "Epoch 42: val_acc did not improve from 0.98333\n",
      "\n",
      "Epoch 42: ReduceLROnPlateau reducing learning rate to 5.497558740898967e-05.\n",
      "17/17 [==============================] - 4s 235ms/step - loss: 0.0296 - acc: 0.9963 - val_loss: 0.2225 - val_acc: 0.9500 - lr: 6.8719e-05\n",
      "Epoch 43/50\n",
      "17/17 [==============================] - ETA: 0s - loss: 0.0296 - acc: 0.9963\n",
      "Epoch 43: val_acc did not improve from 0.98333\n",
      "17/17 [==============================] - 3s 204ms/step - loss: 0.0296 - acc: 0.9963 - val_loss: 0.2209 - val_acc: 0.9500 - lr: 5.4976e-05\n",
      "Epoch 44/50\n",
      "17/17 [==============================] - ETA: 0s - loss: 0.0290 - acc: 0.9963\n",
      "Epoch 44: val_acc did not improve from 0.98333\n",
      "\n",
      "Epoch 44: ReduceLROnPlateau reducing learning rate to 4.398046876303852e-05.\n",
      "17/17 [==============================] - 3s 189ms/step - loss: 0.0290 - acc: 0.9963 - val_loss: 0.2235 - val_acc: 0.9500 - lr: 5.4976e-05\n",
      "Epoch 45/50\n",
      "17/17 [==============================] - ETA: 0s - loss: 0.0291 - acc: 0.9963\n",
      "Epoch 45: val_acc did not improve from 0.98333\n",
      "17/17 [==============================] - 4s 215ms/step - loss: 0.0291 - acc: 0.9963 - val_loss: 0.2248 - val_acc: 0.9500 - lr: 4.3980e-05\n",
      "Epoch 46/50\n",
      "17/17 [==============================] - ETA: 0s - loss: 0.0291 - acc: 0.9963\n",
      "Epoch 46: val_acc did not improve from 0.98333\n",
      "\n",
      "Epoch 46: ReduceLROnPlateau reducing learning rate to 3.518437442835421e-05.\n",
      "17/17 [==============================] - 4s 242ms/step - loss: 0.0291 - acc: 0.9963 - val_loss: 0.2261 - val_acc: 0.9500 - lr: 4.3980e-05\n",
      "Epoch 47/50\n",
      "17/17 [==============================] - ETA: 0s - loss: 0.0285 - acc: 0.9963\n",
      "Epoch 47: val_acc did not improve from 0.98333\n",
      "17/17 [==============================] - 4s 233ms/step - loss: 0.0285 - acc: 0.9963 - val_loss: 0.2239 - val_acc: 0.9500 - lr: 3.5184e-05\n",
      "Epoch 48/50\n",
      "17/17 [==============================] - ETA: 0s - loss: 0.0284 - acc: 0.9963\n",
      "Epoch 48: val_acc did not improve from 0.98333\n",
      "\n",
      "Epoch 48: ReduceLROnPlateau reducing learning rate to 2.8147498960606756e-05.\n",
      "17/17 [==============================] - 4s 207ms/step - loss: 0.0284 - acc: 0.9963 - val_loss: 0.2248 - val_acc: 0.9500 - lr: 3.5184e-05\n",
      "Epoch 49/50\n",
      "17/17 [==============================] - ETA: 0s - loss: 0.0281 - acc: 0.9963\n",
      "Epoch 49: val_acc did not improve from 0.98333\n",
      "17/17 [==============================] - 3s 192ms/step - loss: 0.0281 - acc: 0.9963 - val_loss: 0.2239 - val_acc: 0.9500 - lr: 2.8147e-05\n",
      "Epoch 50/50\n",
      "17/17 [==============================] - ETA: 0s - loss: 0.0280 - acc: 0.9963\n",
      "Epoch 50: val_acc did not improve from 0.98333\n",
      "\n",
      "Epoch 50: ReduceLROnPlateau reducing learning rate to 2.25179988774471e-05.\n",
      "17/17 [==============================] - 4s 238ms/step - loss: 0.0280 - acc: 0.9963 - val_loss: 0.2238 - val_acc: 0.9500 - lr: 2.8147e-05\n"
     ]
    },
    {
     "data": {
      "text/plain": [
       "<keras.callbacks.History at 0x27ae65a2d30>"
      ]
     },
     "execution_count": 98,
     "metadata": {},
     "output_type": "execute_result"
    }
   ],
   "source": [
    "model.fit(x=Train_x, y=Train_y, epochs=50, validation_data=(Test_x, Test_y), callbacks=CALLBACK)"
   ]
  },
  {
   "cell_type": "code",
   "execution_count": 99,
   "id": "a5a871ac",
   "metadata": {},
   "outputs": [
    {
     "data": {
      "text/html": [
       "\n",
       "      <iframe id=\"tensorboard-frame-222a92658c6eff52\" width=\"100%\" height=\"800\" frameborder=\"0\">\n",
       "      </iframe>\n",
       "      <script>\n",
       "        (function() {\n",
       "          const frame = document.getElementById(\"tensorboard-frame-222a92658c6eff52\");\n",
       "          const url = new URL(\"/\", window.location);\n",
       "          const port = 6007;\n",
       "          if (port) {\n",
       "            url.port = port;\n",
       "          }\n",
       "          frame.src = url;\n",
       "        })();\n",
       "      </script>\n",
       "    "
      ],
      "text/plain": [
       "<IPython.core.display.HTML object>"
      ]
     },
     "metadata": {},
     "output_type": "display_data"
    }
   ],
   "source": [
    "logdir = './logs'\n",
    "tensorboard_callback = tf.keras.callbacks.TensorBoard(logdir)\n",
    "%load_ext tensorboard\n",
    "%tensorboard --logdir=./logs --port=6007"
   ]
  },
  {
   "cell_type": "markdown",
   "id": "6e916000",
   "metadata": {},
   "source": [
    "http://localhost:6006/"
   ]
  },
  {
   "cell_type": "markdown",
   "id": "531bbd34",
   "metadata": {},
   "source": [
    "# <br><br><br><br><br>\n",
    "# 15. Conv-pooling을 활용한 CNN 구현하기"
   ]
  },
  {
   "cell_type": "code",
   "execution_count": 100,
   "id": "d628f703",
   "metadata": {},
   "outputs": [],
   "source": [
    "# Pooling이 없는 모델의 경우\n",
    "model = models.Sequential()\n",
    "model.add(tf.keras.layers.Conv2D(5, (3, 3), activation='relu', padding='same', input_shape=(56, 56, 3,)))\n",
    "model.add(tf.keras.layers.Conv2D(5, (3, 3), activation='relu', padding='same', input_shape=(56, 56, 3,)))\n",
    "model.add(tf.keras.layers.Flatten())\n",
    "model.add(tf.keras.layers.Dense(3, activation='softmax'))\n",
    "model = Model(inputs=model.input, outputs=model.output)"
   ]
  },
  {
   "cell_type": "code",
   "execution_count": 101,
   "id": "1348ffd8",
   "metadata": {},
   "outputs": [
    {
     "name": "stdout",
     "output_type": "stream",
     "text": [
      "Model: \"model_14\"\n",
      "_________________________________________________________________\n",
      " Layer (type)                Output Shape              Param #   \n",
      "=================================================================\n",
      " conv2d_32_input (InputLayer  [(None, 56, 56, 3)]      0         \n",
      " )                                                               \n",
      "                                                                 \n",
      " conv2d_32 (Conv2D)          (None, 56, 56, 5)         140       \n",
      "                                                                 \n",
      " conv2d_33 (Conv2D)          (None, 56, 56, 5)         230       \n",
      "                                                                 \n",
      " flatten_10 (Flatten)        (None, 15680)             0         \n",
      "                                                                 \n",
      " dense_9 (Dense)             (None, 3)                 47043     \n",
      "                                                                 \n",
      "=================================================================\n",
      "Total params: 47,413\n",
      "Trainable params: 47,413\n",
      "Non-trainable params: 0\n",
      "_________________________________________________________________\n"
     ]
    }
   ],
   "source": [
    "model.summary()"
   ]
  },
  {
   "cell_type": "code",
   "execution_count": 102,
   "id": "921c7cbc",
   "metadata": {},
   "outputs": [],
   "source": [
    "# Pooling이 있는 모델의 경우\n",
    "model = models.Sequential()\n",
    "model.add(tf.keras.layers.Conv2D(5, (3, 3), activation='relu', padding='same', input_shape=(56, 56, 3,)))\n",
    "model.add(tf.keras.layers.Conv2D(5, (3, 3), activation='relu', padding='same', input_shape=(56, 56, 3,)))\n",
    "model.add(tf.keras.layers.MaxPooling2D(pool_size=(2,2)))\n",
    "model.add(tf.keras.layers.Flatten())\n",
    "model.add(tf.keras.layers.Dense(1, activation='sigmoid'))\n",
    "model = Model(inputs=model.input, outputs=model.output)"
   ]
  },
  {
   "cell_type": "code",
   "execution_count": 103,
   "id": "c63035ee",
   "metadata": {},
   "outputs": [
    {
     "name": "stdout",
     "output_type": "stream",
     "text": [
      "Model: \"model_15\"\n",
      "_________________________________________________________________\n",
      " Layer (type)                Output Shape              Param #   \n",
      "=================================================================\n",
      " conv2d_34_input (InputLayer  [(None, 56, 56, 3)]      0         \n",
      " )                                                               \n",
      "                                                                 \n",
      " conv2d_34 (Conv2D)          (None, 56, 56, 5)         140       \n",
      "                                                                 \n",
      " conv2d_35 (Conv2D)          (None, 56, 56, 5)         230       \n",
      "                                                                 \n",
      " max_pooling2d (MaxPooling2D  (None, 28, 28, 5)        0         \n",
      " )                                                               \n",
      "                                                                 \n",
      " flatten_11 (Flatten)        (None, 3920)              0         \n",
      "                                                                 \n",
      " dense_10 (Dense)            (None, 1)                 3921      \n",
      "                                                                 \n",
      "=================================================================\n",
      "Total params: 4,291\n",
      "Trainable params: 4,291\n",
      "Non-trainable params: 0\n",
      "_________________________________________________________________\n"
     ]
    }
   ],
   "source": [
    "model.summary()"
   ]
  },
  {
   "cell_type": "code",
   "execution_count": 104,
   "id": "8fb90d33",
   "metadata": {},
   "outputs": [],
   "source": [
    "model.compile(optimizer='adam', loss='binary_crossentropy', metrics=['acc'])"
   ]
  },
  {
   "cell_type": "code",
   "execution_count": 105,
   "id": "427e3a4e",
   "metadata": {
    "scrolled": true,
    "tags": []
   },
   "outputs": [
    {
     "name": "stdout",
     "output_type": "stream",
     "text": [
      "Epoch 1/10\n",
      "17/17 [==============================] - ETA: 0s - loss: 22.6025 - acc: 0.5148\n",
      "Epoch 1: val_acc did not improve from 0.98333\n",
      "17/17 [==============================] - 2s 92ms/step - loss: 22.6025 - acc: 0.5148 - val_loss: 2.5192 - val_acc: 0.6333 - lr: 0.0010\n",
      "Epoch 2/10\n",
      "17/17 [==============================] - ETA: 0s - loss: 5.7390 - acc: 0.5778\n",
      "Epoch 2: val_acc did not improve from 0.98333\n",
      "17/17 [==============================] - 2s 99ms/step - loss: 5.7390 - acc: 0.5778 - val_loss: 1.3744 - val_acc: 0.7833 - lr: 0.0010\n",
      "Epoch 3/10\n",
      "17/17 [==============================] - ETA: 0s - loss: 2.8129 - acc: 0.6259\n",
      "Epoch 3: val_acc did not improve from 0.98333\n",
      "17/17 [==============================] - 1s 87ms/step - loss: 2.8129 - acc: 0.6259 - val_loss: 0.9807 - val_acc: 0.8167 - lr: 0.0010\n",
      "Epoch 4/10\n",
      "17/17 [==============================] - ETA: 0s - loss: 1.1238 - acc: 0.7333\n",
      "Epoch 4: val_acc did not improve from 0.98333\n",
      "17/17 [==============================] - 2s 88ms/step - loss: 1.1238 - acc: 0.7333 - val_loss: 0.6393 - val_acc: 0.8167 - lr: 0.0010\n",
      "Epoch 5/10\n",
      "17/17 [==============================] - ETA: 0s - loss: 0.7725 - acc: 0.7815\n",
      "Epoch 5: val_acc did not improve from 0.98333\n",
      "17/17 [==============================] - 2s 93ms/step - loss: 0.7725 - acc: 0.7815 - val_loss: 0.5198 - val_acc: 0.8500 - lr: 0.0010\n",
      "Epoch 6/10\n",
      "17/17 [==============================] - ETA: 0s - loss: 0.6194 - acc: 0.8093\n",
      "Epoch 6: val_acc did not improve from 0.98333\n",
      "17/17 [==============================] - 1s 81ms/step - loss: 0.6194 - acc: 0.8093 - val_loss: 0.7110 - val_acc: 0.8333 - lr: 0.0010\n",
      "Epoch 7/10\n",
      "17/17 [==============================] - ETA: 0s - loss: 0.4979 - acc: 0.8315\n",
      "Epoch 7: val_acc did not improve from 0.98333\n",
      "\n",
      "Epoch 7: ReduceLROnPlateau reducing learning rate to 0.000800000037997961.\n",
      "17/17 [==============================] - 2s 90ms/step - loss: 0.4979 - acc: 0.8315 - val_loss: 0.6151 - val_acc: 0.8500 - lr: 0.0010\n",
      "Epoch 8/10\n",
      "17/17 [==============================] - ETA: 0s - loss: 0.4059 - acc: 0.8667\n",
      "Epoch 8: val_acc did not improve from 0.98333\n",
      "17/17 [==============================] - 1s 83ms/step - loss: 0.4059 - acc: 0.8667 - val_loss: 0.5866 - val_acc: 0.8667 - lr: 8.0000e-04\n",
      "Epoch 9/10\n",
      "17/17 [==============================] - ETA: 0s - loss: 0.3532 - acc: 0.8593\n",
      "Epoch 9: val_acc did not improve from 0.98333\n",
      "17/17 [==============================] - 1s 86ms/step - loss: 0.3532 - acc: 0.8593 - val_loss: 0.5067 - val_acc: 0.8833 - lr: 8.0000e-04\n",
      "Epoch 10/10\n",
      "17/17 [==============================] - ETA: 0s - loss: 0.3568 - acc: 0.8593\n",
      "Epoch 10: val_acc did not improve from 0.98333\n",
      "17/17 [==============================] - 2s 89ms/step - loss: 0.3568 - acc: 0.8593 - val_loss: 0.6232 - val_acc: 0.8333 - lr: 8.0000e-04\n"
     ]
    },
    {
     "data": {
      "text/plain": [
       "<keras.callbacks.History at 0x27ae3b7e250>"
      ]
     },
     "execution_count": 105,
     "metadata": {},
     "output_type": "execute_result"
    }
   ],
   "source": [
    "model.fit(x=Train_x, y=Train_y, epochs=10, validation_data=(Test_x, Test_y), callbacks=CALLBACK)"
   ]
  },
  {
   "cell_type": "code",
   "execution_count": 106,
   "id": "90a429d4",
   "metadata": {},
   "outputs": [
    {
     "name": "stdout",
     "output_type": "stream",
     "text": [
      "2/2 [==============================] - 0s 34ms/step\n"
     ]
    },
    {
     "ename": "TypeError",
     "evalue": "unhashable type: 'numpy.ndarray'",
     "output_type": "error",
     "traceback": [
      "\u001b[1;31m---------------------------------------------------------------------------\u001b[0m",
      "\u001b[1;31mTypeError\u001b[0m                                 Traceback (most recent call last)",
      "\u001b[1;32mpandas\\_libs\\hashtable_class_helper.pxi\u001b[0m in \u001b[0;36mpandas._libs.hashtable.PyObjectHashTable.map_locations\u001b[1;34m()\u001b[0m\n",
      "\u001b[1;31mTypeError\u001b[0m: unhashable type: 'numpy.ndarray'"
     ]
    },
    {
     "name": "stderr",
     "output_type": "stream",
     "text": [
      "Exception ignored in: 'pandas._libs.index.IndexEngine._call_map_locations'\n",
      "Traceback (most recent call last):\n",
      "  File \"pandas\\_libs\\hashtable_class_helper.pxi\", line 5231, in pandas._libs.hashtable.PyObjectHashTable.map_locations\n",
      "TypeError: unhashable type: 'numpy.ndarray'\n"
     ]
    },
    {
     "data": {
      "text/plain": [
       "[True]     50\n",
       "[False]    10\n",
       "dtype: int64"
      ]
     },
     "execution_count": 106,
     "metadata": {},
     "output_type": "execute_result"
    }
   ],
   "source": [
    "Predicted = model.predict(Test_x)\n",
    "\n",
    "CheckSame = [Pred == Label for Pred, Label in zip(Predicted>0.5, Test_y == 1)]\n",
    "pd.Series(CheckSame).value_counts()\n",
    "\n",
    "# 정확도: 54 / 60 = 90%"
   ]
  },
  {
   "cell_type": "markdown",
   "id": "ca59103f",
   "metadata": {},
   "source": [
    "# Stride"
   ]
  },
  {
   "cell_type": "code",
   "execution_count": 107,
   "id": "2d7c027d",
   "metadata": {},
   "outputs": [
    {
     "data": {
      "image/png": "[encoded data removed]",
      "text/plain": [
       "<IPython.core.display.Image object>"
      ]
     },
     "execution_count": 107,
     "metadata": {},
     "output_type": "execute_result"
    }
   ],
   "source": [
    "from IPython.display import Image\n",
    "Image('stride.png')"
   ]
  },
  {
   "cell_type": "code",
   "execution_count": 108,
   "id": "05c35d5b",
   "metadata": {},
   "outputs": [
    {
     "name": "stdout",
     "output_type": "stream",
     "text": [
      "Model: \"model_16\"\n",
      "_________________________________________________________________\n",
      " Layer (type)                Output Shape              Param #   \n",
      "=================================================================\n",
      " conv2d_36_input (InputLayer  [(None, 56, 56, 3)]      0         \n",
      " )                                                               \n",
      "                                                                 \n",
      " conv2d_36 (Conv2D)          (None, 56, 56, 5)         140       \n",
      "                                                                 \n",
      " conv2d_37 (Conv2D)          (None, 56, 56, 5)         230       \n",
      "                                                                 \n",
      " max_pooling2d_1 (MaxPooling  (None, 55, 55, 5)        0         \n",
      " 2D)                                                             \n",
      "                                                                 \n",
      " flatten_12 (Flatten)        (None, 15125)             0         \n",
      "                                                                 \n",
      " dense_11 (Dense)            (None, 1)                 15126     \n",
      "                                                                 \n",
      "=================================================================\n",
      "Total params: 15,496\n",
      "Trainable params: 15,496\n",
      "Non-trainable params: 0\n",
      "_________________________________________________________________\n"
     ]
    }
   ],
   "source": [
    "# Pooling이 있는 모델의 경우\n",
    "model = models.Sequential()\n",
    "model.add(tf.keras.layers.Conv2D(5, (3, 3), activation='relu', padding='same', input_shape=(56, 56, 3,)))\n",
    "model.add(tf.keras.layers.Conv2D(5, (3, 3), activation='relu', padding='same', input_shape=(56, 56, 3,)))\n",
    "model.add(tf.keras.layers.MaxPooling2D(pool_size=(2,2), strides=(1,1) ))\n",
    "model.add(tf.keras.layers.Flatten())\n",
    "model.add(tf.keras.layers.Dense(1, activation='sigmoid'))\n",
    "model = Model(inputs=model.input, outputs=model.output)\n",
    "\n",
    "model.summary()"
   ]
  },
  {
   "cell_type": "code",
   "execution_count": 109,
   "id": "62b22992",
   "metadata": {},
   "outputs": [
    {
     "name": "stdout",
     "output_type": "stream",
     "text": [
      "Model: \"model_17\"\n",
      "_________________________________________________________________\n",
      " Layer (type)                Output Shape              Param #   \n",
      "=================================================================\n",
      " conv2d_38_input (InputLayer  [(None, 56, 56, 3)]      0         \n",
      " )                                                               \n",
      "                                                                 \n",
      " conv2d_38 (Conv2D)          (None, 56, 56, 5)         140       \n",
      "                                                                 \n",
      " conv2d_39 (Conv2D)          (None, 56, 56, 5)         230       \n",
      "                                                                 \n",
      " max_pooling2d_2 (MaxPooling  (None, 28, 28, 5)        0         \n",
      " 2D)                                                             \n",
      "                                                                 \n",
      " flatten_13 (Flatten)        (None, 3920)              0         \n",
      "                                                                 \n",
      " dense_12 (Dense)            (None, 1)                 3921      \n",
      "                                                                 \n",
      "=================================================================\n",
      "Total params: 4,291\n",
      "Trainable params: 4,291\n",
      "Non-trainable params: 0\n",
      "_________________________________________________________________\n"
     ]
    }
   ],
   "source": [
    "# Pooling이 있는 모델의 경우\n",
    "model = models.Sequential()\n",
    "model.add(tf.keras.layers.Conv2D(5, (3, 3), activation='relu', padding='same', input_shape=(56, 56, 3,)))\n",
    "model.add(tf.keras.layers.Conv2D(5, (3, 3), activation='relu', padding='same', input_shape=(56, 56, 3,)))\n",
    "model.add(tf.keras.layers.MaxPooling2D(pool_size=(2,2), strides=(2,2) ))\n",
    "model.add(tf.keras.layers.Flatten())\n",
    "model.add(tf.keras.layers.Dense(1, activation='sigmoid'))\n",
    "model = Model(inputs=model.input, outputs=model.output)\n",
    "\n",
    "model.summary()"
   ]
  },
  {
   "cell_type": "markdown",
   "id": "928da87c",
   "metadata": {},
   "source": [
    "<br><br><br><br><br>\n",
    "# 16. VGG 논문 구현하기"
   ]
  },
  {
   "cell_type": "markdown",
   "id": "4a092afc",
   "metadata": {},
   "source": [
    "Title: Very Deep Convolutional Networks for Large-Scale Image Recognition<br>\n",
    "Search: scholar.google.com"
   ]
  },
  {
   "cell_type": "markdown",
   "id": "de4db0cc",
   "metadata": {},
   "source": [
    "https://arxiv.org/pdf/1409.1556.pdf"
   ]
  },
  {
   "cell_type": "code",
   "execution_count": 110,
   "id": "655bd814",
   "metadata": {},
   "outputs": [],
   "source": [
    "model = Sequential()\n",
    "model.add(ZeroPadding2D((1,1),input_shape=(224,224,3)))\n",
    "model.add(Conv2D(64, (3, 3), activation='relu'))\n",
    "model.add(ZeroPadding2D((1,1)))\n",
    "model.add(Conv2D(64, (3, 3), activation='relu'))\n",
    "model.add(MaxPooling2D((2,2), strides=(2,2)))\n",
    "\n",
    "model.add(ZeroPadding2D((1,1)))\n",
    "model.add(Conv2D(128, (3, 3), activation='relu'))\n",
    "model.add(ZeroPadding2D((1,1)))\n",
    "model.add(Conv2D(128, (3, 3), activation='relu'))\n",
    "model.add(MaxPooling2D((2,2), strides=(2,2)))\n",
    "\n",
    "model.add(ZeroPadding2D((1,1)))\n",
    "model.add(Conv2D(256, (3, 3), activation='relu'))\n",
    "model.add(ZeroPadding2D((1,1)))\n",
    "model.add(Conv2D(256, (3, 3), activation='relu'))\n",
    "model.add(ZeroPadding2D((1,1)))\n",
    "model.add(Conv2D(256, (3, 3), activation='relu'))\n",
    "model.add(MaxPooling2D((2,2), strides=(2,2)))\n",
    "\n",
    "model.add(ZeroPadding2D((1,1)))\n",
    "model.add(Conv2D(512, (3, 3), activation='relu'))\n",
    "model.add(ZeroPadding2D((1,1)))\n",
    "model.add(Conv2D(512, (3, 3), activation='relu'))\n",
    "model.add(ZeroPadding2D((1,1)))\n",
    "model.add(Conv2D(512, (3, 3), activation='relu'))\n",
    "model.add(MaxPooling2D((2,2), strides=(2,2)))\n",
    "\n",
    "model.add(ZeroPadding2D((1,1)))\n",
    "model.add(Conv2D(512, (3, 3), activation='relu'))\n",
    "model.add(ZeroPadding2D((1,1)))\n",
    "model.add(Conv2D(512, (3, 3), activation='relu'))\n",
    "model.add(ZeroPadding2D((1,1)))\n",
    "model.add(Conv2D(512, (3, 3), activation='relu'))\n",
    "model.add(MaxPooling2D((2,2), strides=(2,2)))\n",
    "\n",
    "################# 여기까지가 CNN, 아래부터는 Fully connected layers\n",
    "\n",
    "model.add(Flatten())\n",
    "model.add(Dense(units=4096,activation=\"relu\"))\n",
    "model.add(Dense(units=4096,activation=\"relu\"))\n",
    "model.add(Dense(units=1000, activation=\"softmax\"))"
   ]
  },
  {
   "cell_type": "code",
   "execution_count": 111,
   "id": "668b3558",
   "metadata": {
    "scrolled": true,
    "tags": []
   },
   "outputs": [
    {
     "name": "stdout",
     "output_type": "stream",
     "text": [
      "Model: \"sequential_18\"\n",
      "_________________________________________________________________\n",
      " Layer (type)                Output Shape              Param #   \n",
      "=================================================================\n",
      " zero_padding2d (ZeroPadding  (None, 226, 226, 3)      0         \n",
      " 2D)                                                             \n",
      "                                                                 \n",
      " conv2d_40 (Conv2D)          (None, 224, 224, 64)      1792      \n",
      "                                                                 \n",
      " zero_padding2d_1 (ZeroPaddi  (None, 226, 226, 64)     0         \n",
      " ng2D)                                                           \n",
      "                                                                 \n",
      " conv2d_41 (Conv2D)          (None, 224, 224, 64)      36928     \n",
      "                                                                 \n",
      " max_pooling2d_3 (MaxPooling  (None, 112, 112, 64)     0         \n",
      " 2D)                                                             \n",
      "                                                                 \n",
      " zero_padding2d_2 (ZeroPaddi  (None, 114, 114, 64)     0         \n",
      " ng2D)                                                           \n",
      "                                                                 \n",
      " conv2d_42 (Conv2D)          (None, 112, 112, 128)     73856     \n",
      "                                                                 \n",
      " zero_padding2d_3 (ZeroPaddi  (None, 114, 114, 128)    0         \n",
      " ng2D)                                                           \n",
      "                                                                 \n",
      " conv2d_43 (Conv2D)          (None, 112, 112, 128)     147584    \n",
      "                                                                 \n",
      " max_pooling2d_4 (MaxPooling  (None, 56, 56, 128)      0         \n",
      " 2D)                                                             \n",
      "                                                                 \n",
      " zero_padding2d_4 (ZeroPaddi  (None, 58, 58, 128)      0         \n",
      " ng2D)                                                           \n",
      "                                                                 \n",
      " conv2d_44 (Conv2D)          (None, 56, 56, 256)       295168    \n",
      "                                                                 \n",
      " zero_padding2d_5 (ZeroPaddi  (None, 58, 58, 256)      0         \n",
      " ng2D)                                                           \n",
      "                                                                 \n",
      " conv2d_45 (Conv2D)          (None, 56, 56, 256)       590080    \n",
      "                                                                 \n",
      " zero_padding2d_6 (ZeroPaddi  (None, 58, 58, 256)      0         \n",
      " ng2D)                                                           \n",
      "                                                                 \n",
      " conv2d_46 (Conv2D)          (None, 56, 56, 256)       590080    \n",
      "                                                                 \n",
      " max_pooling2d_5 (MaxPooling  (None, 28, 28, 256)      0         \n",
      " 2D)                                                             \n",
      "                                                                 \n",
      " zero_padding2d_7 (ZeroPaddi  (None, 30, 30, 256)      0         \n",
      " ng2D)                                                           \n",
      "                                                                 \n",
      " conv2d_47 (Conv2D)          (None, 28, 28, 512)       1180160   \n",
      "                                                                 \n",
      " zero_padding2d_8 (ZeroPaddi  (None, 30, 30, 512)      0         \n",
      " ng2D)                                                           \n",
      "                                                                 \n",
      " conv2d_48 (Conv2D)          (None, 28, 28, 512)       2359808   \n",
      "                                                                 \n",
      " zero_padding2d_9 (ZeroPaddi  (None, 30, 30, 512)      0         \n",
      " ng2D)                                                           \n",
      "                                                                 \n",
      " conv2d_49 (Conv2D)          (None, 28, 28, 512)       2359808   \n",
      "                                                                 \n",
      " max_pooling2d_6 (MaxPooling  (None, 14, 14, 512)      0         \n",
      " 2D)                                                             \n",
      "                                                                 \n",
      " zero_padding2d_10 (ZeroPadd  (None, 16, 16, 512)      0         \n",
      " ing2D)                                                          \n",
      "                                                                 \n",
      " conv2d_50 (Conv2D)          (None, 14, 14, 512)       2359808   \n",
      "                                                                 \n",
      " zero_padding2d_11 (ZeroPadd  (None, 16, 16, 512)      0         \n",
      " ing2D)                                                          \n",
      "                                                                 \n",
      " conv2d_51 (Conv2D)          (None, 14, 14, 512)       2359808   \n",
      "                                                                 \n",
      " zero_padding2d_12 (ZeroPadd  (None, 16, 16, 512)      0         \n",
      " ing2D)                                                          \n",
      "                                                                 \n",
      " conv2d_52 (Conv2D)          (None, 14, 14, 512)       2359808   \n",
      "                                                                 \n",
      " max_pooling2d_7 (MaxPooling  (None, 7, 7, 512)        0         \n",
      " 2D)                                                             \n",
      "                                                                 \n",
      " flatten_14 (Flatten)        (None, 25088)             0         \n",
      "                                                                 \n",
      " dense_13 (Dense)            (None, 4096)              102764544 \n",
      "                                                                 \n",
      " dense_14 (Dense)            (None, 4096)              16781312  \n",
      "                                                                 \n",
      " dense_15 (Dense)            (None, 1000)              4097000   \n",
      "                                                                 \n",
      "=================================================================\n",
      "Total params: 138,357,544\n",
      "Trainable params: 138,357,544\n",
      "Non-trainable params: 0\n",
      "_________________________________________________________________\n"
     ]
    }
   ],
   "source": [
    "model.summary()"
   ]
  },
  {
   "cell_type": "code",
   "execution_count": null,
   "id": "3da4a576",
   "metadata": {},
   "outputs": [
    {
     "name": "stdout",
     "output_type": "stream",
     "text": [
      "Downloading data from https://storage.googleapis.com/tensorflow/keras-applications/vgg16/vgg16_weights_tf_dim_ordering_tf_kernels.h5\n",
      "186875904/553467096 [=========>....................] - ETA: 55s"
     ]
    }
   ],
   "source": [
    "VGGModel = tf.keras.applications.VGG16(include_top=True,\n",
    "    weights='imagenet', input_shape=(224,224,3))"
   ]
  },
  {
   "cell_type": "code",
   "execution_count": null,
   "id": "8791bd8a",
   "metadata": {},
   "outputs": [],
   "source": [
    "VGGModel.summary()"
   ]
  },
  {
   "cell_type": "markdown",
   "id": "a714456c",
   "metadata": {},
   "source": [
    "## Final layer 없이 VGG16 불러오기"
   ]
  },
  {
   "cell_type": "code",
   "execution_count": null,
   "id": "c3135a5a",
   "metadata": {},
   "outputs": [],
   "source": [
    "VGGModel = tf.keras.applications.VGG16(include_top=False,\n",
    "    weights='imagenet', input_tensor=None,\n",
    "    input_shape=(224,224,3), pooling=None)"
   ]
  },
  {
   "cell_type": "code",
   "execution_count": null,
   "id": "d2698ca8",
   "metadata": {},
   "outputs": [],
   "source": [
    "VGGModel.summary()"
   ]
  },
  {
   "cell_type": "markdown",
   "id": "54cc5866",
   "metadata": {},
   "source": [
    "# 17. 일반 이미지 Pretrained model에 넣어보기"
   ]
  },
  {
   "cell_type": "markdown",
   "id": "0d5769cb",
   "metadata": {},
   "source": [
    "https://image.dongascience.com/Photo/2020/03/15856430426741.jpg"
   ]
  },
  {
   "cell_type": "code",
   "execution_count": null,
   "id": "a6922a1e",
   "metadata": {},
   "outputs": [],
   "source": [
    "VGGModel = tf.keras.applications.VGG16(include_top=True,\n",
    "    weights='imagenet', input_shape=(224,224,3))"
   ]
  },
  {
   "cell_type": "code",
   "execution_count": null,
   "id": "2531896e",
   "metadata": {},
   "outputs": [],
   "source": [
    "from PIL import Image\n",
    "import requests\n",
    "\n",
    "url = 'https://image.dongascience.com/Photo/2020/03/15856430426741.jpg'\n",
    "image = Image.open(requests.get(url, stream=True).raw)"
   ]
  },
  {
   "cell_type": "code",
   "execution_count": null,
   "id": "16d63144",
   "metadata": {},
   "outputs": [],
   "source": [
    "image"
   ]
  },
  {
   "cell_type": "code",
   "execution_count": null,
   "id": "5282bc73",
   "metadata": {},
   "outputs": [],
   "source": [
    "image = tf.keras.preprocessing.image.img_to_array(image)\n",
    "image.shape"
   ]
  },
  {
   "cell_type": "code",
   "execution_count": null,
   "id": "6c950495",
   "metadata": {},
   "outputs": [],
   "source": [
    "import cv2"
   ]
  },
  {
   "cell_type": "code",
   "execution_count": null,
   "id": "00b53567",
   "metadata": {},
   "outputs": [],
   "source": [
    "image = cv2.resize(image, (224, 224) )\n",
    "image.shape"
   ]
  },
  {
   "cell_type": "code",
   "execution_count": null,
   "id": "54be5021",
   "metadata": {},
   "outputs": [],
   "source": [
    "image = np.expand_dims(image, axis=0)\n",
    "image.shape"
   ]
  },
  {
   "cell_type": "code",
   "execution_count": null,
   "id": "3c0bf846",
   "metadata": {},
   "outputs": [],
   "source": [
    "plt.imshow(image[0]/255, interpolation='nearest')\n",
    "plt.show()"
   ]
  },
  {
   "cell_type": "code",
   "execution_count": null,
   "id": "952d9f54",
   "metadata": {},
   "outputs": [],
   "source": [
    "image = tf.keras.applications.vgg16.preprocess_input(image)\n",
    "image.shape"
   ]
  },
  {
   "cell_type": "code",
   "execution_count": null,
   "id": "6efc5576",
   "metadata": {},
   "outputs": [],
   "source": [
    "Predicted = VGGModel.predict(image)"
   ]
  },
  {
   "cell_type": "code",
   "execution_count": null,
   "id": "14083cce",
   "metadata": {},
   "outputs": [],
   "source": [
    "tf.keras.applications.vgg16.decode_predictions(Predicted)"
   ]
  },
  {
   "cell_type": "code",
   "execution_count": null,
   "id": "7c6272b2",
   "metadata": {},
   "outputs": [],
   "source": [
    "from tensorflow.keras.applications.vgg16 import decode_predictions\n",
    "\n",
    "url = 'https://ichef.bbci.co.uk/news/640/cpsprodpb/0C17/production/_110059030_j8aged72breaches_copyright_kennethbalcombcenterforwhaleresearch_20051011kcb_dg1-116.jpg'\n",
    "image = Image.open(requests.get(url, stream=True).raw)\n",
    "image = tf.keras.preprocessing.image.img_to_array(image)\n",
    "image = cv2.resize(image, (224, 224) )\n",
    "image = np.expand_dims(image, axis=0)\n",
    "plt.imshow(image[0]/255, interpolation='nearest')\n",
    "plt.show()\n",
    "image = tf.keras.applications.vgg16.preprocess_input(image)"
   ]
  },
  {
   "cell_type": "code",
   "execution_count": null,
   "id": "83aabcb1",
   "metadata": {},
   "outputs": [],
   "source": [
    "decode_predictions(VGGModel.predict(image))"
   ]
  },
  {
   "cell_type": "markdown",
   "id": "f92b8b0d",
   "metadata": {},
   "source": [
    "<br><br><br><br>\n",
    "# 18. Global Average Pooling"
   ]
  },
  {
   "cell_type": "markdown",
   "id": "95e72a4b",
   "metadata": {},
   "source": [
    "모델 구현"
   ]
  },
  {
   "cell_type": "code",
   "execution_count": null,
   "id": "950af01a",
   "metadata": {},
   "outputs": [],
   "source": [
    "VGGModel = tf.keras.applications.VGG16(include_top=False,\n",
    "    weights='imagenet', input_tensor=None,\n",
    "    input_shape=(224,224,3), pooling=None)\n",
    "\n",
    "x = GlobalAveragePooling2D()(VGGModel.output)\n",
    "predictions = Dense(1, activation='sigmoid')(x)\n",
    "model = Model(inputs=VGGModel.input, outputs=predictions)"
   ]
  },
  {
   "cell_type": "code",
   "execution_count": null,
   "id": "158d3ec5",
   "metadata": {},
   "outputs": [],
   "source": [
    "model.summary()"
   ]
  },
  {
   "cell_type": "code",
   "execution_count": null,
   "id": "1e55426c",
   "metadata": {},
   "outputs": [],
   "source": [
    "# learning parameter를 더하여 최종 model compile\n",
    "model.compile(optimizer='adam',\n",
    "         loss='binary_crossentropy',\n",
    "         metrics=['acc']\n",
    ")"
   ]
  },
  {
   "cell_type": "markdown",
   "id": "a0a64d28",
   "metadata": {},
   "source": [
    "데이터 준비"
   ]
  },
  {
   "cell_type": "code",
   "execution_count": null,
   "id": "24f0cdc4",
   "metadata": {},
   "outputs": [],
   "source": [
    "ImageSize = (224, 224)\n",
    "\n",
    "Train_x = []\n",
    "Train_y = []\n",
    "for FileName in os.listdir('TRAIN/akiec/'):\n",
    "    Train_x.append(PIL.Image.open('TRAIN/akiec/' + FileName).resize(ImageSize))\n",
    "    Train_y.append(0)\n",
    "    \n",
    "for FileName in os.listdir('TRAIN/melanoma/'):\n",
    "    Train_x.append(PIL.Image.open('TRAIN/melanoma/' + FileName).resize(ImageSize))\n",
    "    Train_y.append(1)\n",
    "\n",
    "# List로 모든 이미지 읽은 후, numpy array로 수정\n",
    "Test_x = []\n",
    "Test_y = []\n",
    "for FileName in os.listdir('Test/akiec/'):\n",
    "    Test_x.append(PIL.Image.open('Test/akiec/' + FileName).resize(ImageSize))\n",
    "    Test_y.append(0)\n",
    "    \n",
    "for FileName in os.listdir('Test/melanoma/'):\n",
    "    Test_x.append(PIL.Image.open('Test/melanoma/' + FileName).resize(ImageSize))\n",
    "    Test_y.append(1)"
   ]
  },
  {
   "cell_type": "code",
   "execution_count": null,
   "id": "f73b2f38",
   "metadata": {},
   "outputs": [],
   "source": [
    "Train_x = np.stack(Train_x, axis=0 )\n",
    "Train_y = np.array(Train_y)\n",
    "\n",
    "Test_x = np.stack(Test_x, axis=0 )\n",
    "Test_y = np.array(Test_y)"
   ]
  },
  {
   "cell_type": "markdown",
   "id": "d62de8b1",
   "metadata": {},
   "source": [
    "# Fine tunning"
   ]
  },
  {
   "cell_type": "code",
   "execution_count": null,
   "id": "953e3c44",
   "metadata": {},
   "outputs": [],
   "source": [
    "# CheckPoint: Epoch 마다 validation 성능을 검증하여, best performance 일 경우 저장\n",
    "CP = ModelCheckpoint(filepath='MODEL/{epoch:03d}-{loss:.4f}-{acc:.4f}-{val_loss:.4f}-{val_acc:.4f}.hdf5',\n",
    "            monitor='val_acc', verbose=1, save_best_only=True, mode='max')\n",
    "\n",
    "# Learning Rate 줄여나가기\n",
    "LR = ReduceLROnPlateau(monitor='val_loss',factor=0.8,patience=2, verbose=1, min_lr=1e-8)\n",
    "\n",
    "CALLBACK = [CP, LR]"
   ]
  },
  {
   "cell_type": "code",
   "execution_count": null,
   "id": "cc374f58",
   "metadata": {},
   "outputs": [],
   "source": [
    "model.predict(Train_x[:5])"
   ]
  },
  {
   "cell_type": "code",
   "execution_count": null,
   "id": "4ccf8b1f",
   "metadata": {},
   "outputs": [],
   "source": [
    "Train_x[:10].shape"
   ]
  },
  {
   "cell_type": "code",
   "execution_count": null,
   "id": "994b0924",
   "metadata": {},
   "outputs": [],
   "source": [
    "model.fit(x=Train_x[:10], y=Train_y[:10])"
   ]
  },
  {
   "cell_type": "code",
   "execution_count": null,
   "id": "555c49df",
   "metadata": {},
   "outputs": [],
   "source": [
    "model.fit(x=Train_x, y=Train_y)"
   ]
  },
  {
   "cell_type": "markdown",
   "id": "dba02313",
   "metadata": {},
   "source": [
    "## 너무 느리고, 모든 데이터를 한번에 넣는 것은 성능 저하를 초래"
   ]
  },
  {
   "cell_type": "markdown",
   "id": "abaf54aa",
   "metadata": {},
   "source": [
    "<br><br><br><br><br>\n",
    "# 19. Generator with VGG16"
   ]
  },
  {
   "cell_type": "code",
   "execution_count": null,
   "id": "f817c120",
   "metadata": {},
   "outputs": [],
   "source": [
    "import tensorflow as tf\n",
    "import numpy as np\n",
    "\n",
    "import pandas as pd\n",
    "import cv2\n",
    "import os\n",
    "import math\n",
    "import scipy as sp\n",
    "import PIL\n",
    "\n",
    "# Tensorflow\n",
    "from tensorflow.keras import models, layers, Model\n",
    "from tensorflow.keras.models import Sequential, load_model\n",
    "from tensorflow.keras.layers import Conv2D, MaxPooling2D\n",
    "from tensorflow.keras.layers import Dense, Dropout, Flatten, GlobalAveragePooling2D\n",
    "from tensorflow.keras.layers import Flatten, Dense, Dropout, ZeroPadding2D\n",
    "\n",
    "from tensorflow.keras.preprocessing.image import ImageDataGenerator\n",
    "from tensorflow.keras.callbacks import ModelCheckpoint, TensorBoard, ReduceLROnPlateau\n",
    "from tensorflow.keras import optimizers\n",
    "from tensorflow.keras.optimizers import SGD\n",
    "from tensorflow.keras.models import Model\n",
    "from tensorflow.keras.preprocessing import image\n",
    "from tensorflow.keras.applications import EfficientNetB4, EfficientNetB6, ResNet50V2\n",
    "#from keras_tuner.tuners import RandomSearch\n",
    "\n",
    "import scikitplot as skplt\n",
    "from sklearn.metrics import roc_auc_score\n",
    "from matplotlib import pyplot as plt\n",
    "import matplotlib.pyplot as plt"
   ]
  },
  {
   "cell_type": "code",
   "execution_count": null,
   "id": "5ddbf750",
   "metadata": {},
   "outputs": [],
   "source": [
    "# batch_size: 한번에 forward & Backword 하는 샘플의 수\n",
    "batch_size = 32\n",
    "\n",
    "# Training 수\n",
    "epochs = 50\n",
    "\n",
    "# Weight 조절 parameter\n",
    "LearningRate = 1e-3 # 0.001\n",
    "Decay = 1e-6\n",
    "\n",
    "img_width = 224\n",
    "img_height = 224"
   ]
  },
  {
   "cell_type": "code",
   "execution_count": null,
   "id": "343081d1",
   "metadata": {},
   "outputs": [],
   "source": [
    "# 디렉토리 경로 설정 필요\n",
    "CurrentDirectory = \"./\"\n",
    "\n",
    "train_directory = CurrentDirectory + 'TRAIN/'\n",
    "test_directory  = CurrentDirectory + 'TEST/'\n",
    "model_directory = CurrentDirectory + 'MODEL/'\n",
    "tensorboard_directory = CurrentDirectory + 'Tensorboard'"
   ]
  },
  {
   "cell_type": "markdown",
   "id": "ace59b45",
   "metadata": {},
   "source": [
    "<모델 정의하기>"
   ]
  },
  {
   "cell_type": "code",
   "execution_count": null,
   "id": "ff3a92cb",
   "metadata": {},
   "outputs": [],
   "source": [
    "VGGModel = tf.keras.applications.VGG16(include_top=False,\n",
    "    weights='imagenet', input_tensor=None,\n",
    "    input_shape=(224,224,3), pooling=None)\n",
    "\n",
    "\n",
    "x = GlobalAveragePooling2D()(VGGModel.output)\n",
    "predictions = Dense(1, activation='sigmoid')(x)\n",
    "model = Model(inputs=VGGModel.input, outputs=predictions)\n"
   ]
  },
  {
   "cell_type": "code",
   "execution_count": null,
   "id": "1dec219c",
   "metadata": {},
   "outputs": [],
   "source": [
    "model.compile(optimizer='adam',\n",
    "         loss='binary_crossentropy',\n",
    "         metrics=['acc']\n",
    ") # 나이를, MSE"
   ]
  },
  {
   "cell_type": "markdown",
   "id": "04eb0df3",
   "metadata": {},
   "source": [
    "<Training / Validation data with generator>"
   ]
  },
  {
   "cell_type": "code",
   "execution_count": null,
   "id": "e6da1982",
   "metadata": {},
   "outputs": [],
   "source": [
    "# Online-augmentation 적용 Generator\n",
    "# 1. 이미지를 전부다 불러서 램 (메모리)에 올릴 수 없기 때문\n",
    "# 2. 이미지는 Augmentation을 해주는게 좋아서\n",
    "\n",
    "DATAGEN_TRAIN = ImageDataGenerator(\n",
    "    rescale=1./255,\n",
    "    rotation_range=20,\n",
    "    width_shift_range=0.2,\n",
    "    height_shift_range=0.2,\n",
    "    shear_range=0.2,\n",
    "    zoom_range=0.2,\n",
    "    horizontal_flip=True,\n",
    "    vertical_flip=True,\n",
    "    featurewise_center=True,\n",
    "    featurewise_std_normalization=True,\n",
    "    data_format=\"channels_last\",\n",
    "    validation_split=0.10) # Train / Validation"
   ]
  },
  {
   "cell_type": "code",
   "execution_count": null,
   "id": "ef6c62d5",
   "metadata": {},
   "outputs": [],
   "source": [
    "TRAIN_GENERATOR = DATAGEN_TRAIN.flow_from_directory(\n",
    "    train_directory,\n",
    "    classes=[\"akiec\", \"melanoma\"],\n",
    "    target_size = (img_width, img_height),\n",
    "    batch_size = batch_size,\n",
    "    class_mode= \"binary\", 0, 1 # category [1,0]. [0,1] 일 경우 -> Final layer: unit2 softmax\n",
    "    subset = \"training\")\n",
    "\n",
    "VALID_GENERATOR = DATAGEN_TRAIN.flow_from_directory(\n",
    "    train_directory,\n",
    "    classes=[\"akiec\", \"melanoma\"],\n",
    "    target_size = (img_width, img_height),\n",
    "    batch_size = batch_size,\n",
    "    class_mode= \"categorical\",\n",
    "    subset = \"validation\")"
   ]
  },
  {
   "cell_type": "markdown",
   "id": "d1e12822",
   "metadata": {},
   "source": [
    "< Test data with generator >"
   ]
  },
  {
   "cell_type": "code",
   "execution_count": null,
   "id": "20ab9f35",
   "metadata": {},
   "outputs": [],
   "source": [
    "DATAGEN_TEST = ImageDataGenerator(\n",
    "    rescale=1./255,\n",
    "    featurewise_center=True,\n",
    "    featurewise_std_normalization=True,\n",
    "    data_format=\"channels_last\")"
   ]
  },
  {
   "cell_type": "code",
   "execution_count": null,
   "id": "19d5746f",
   "metadata": {},
   "outputs": [],
   "source": [
    "# 중요한 argument: shuffle\n",
    "# 중요한 argument: class_mode\n",
    "\n",
    "TEST_GENERATOR = DATAGEN_TEST.flow_from_directory(\n",
    "    test_directory,\n",
    "    classes=[\"akiec\", \"melanoma\"],\n",
    "    target_size = (img_height, img_width),\n",
    "    batch_size = batch_size,\n",
    "    shuffle = False,\n",
    "    class_mode='binary')"
   ]
  },
  {
   "cell_type": "markdown",
   "id": "fb83af97",
   "metadata": {},
   "source": [
    "## Fine tunning"
   ]
  },
  {
   "cell_type": "code",
   "execution_count": null,
   "id": "cacd01ee",
   "metadata": {},
   "outputs": [],
   "source": [
    "# CheckPoint: Epoch 마다 validation 성능을 검증하여, best performance 일 경우 저장\n",
    "CP = ModelCheckpoint(filepath='MODEL/{epoch:03d}-{loss:.4f}-{acc:.4f}-{val_loss:.4f}-{val_acc:.4f}.hdf5',\n",
    "            monitor='val_acc', verbose=1, save_best_only=True, mode='max')\n",
    "\n",
    "# Learning Rate 줄여나가기\n",
    "LR = ReduceLROnPlateau(monitor='val_loss',factor=0.8,patience=2, verbose=1, min_lr=1e-8)\n",
    "\n",
    "CALLBACK = [CP, LR]"
   ]
  },
  {
   "cell_type": "code",
   "execution_count": null,
   "id": "05ccb781",
   "metadata": {},
   "outputs": [],
   "source": [
    "model.fit_generator(\n",
    "    TRAIN_GENERATOR,\n",
    "    epochs=20,\n",
    "    callbacks=CALLBACK,\n",
    "    shuffle=True,\n",
    "    validation_data=TEST_GENERATOR)\n"
   ]
  }
 ],
 "metadata": {
  "kernelspec": {
   "display_name": "Python 3 (ipykernel)",
   "language": "python",
   "name": "python3"
  },
  "language_info": {
   "codemirror_mode": {
    "name": "ipython",
    "version": 3
   },
   "file_extension": ".py",
   "mimetype": "text/x-python",
   "name": "python",
   "nbconvert_exporter": "python",
   "pygments_lexer": "ipython3",
   "version": "3.9.7"
  }
 },
 "nbformat": 4,
 "nbformat_minor": 5
}
