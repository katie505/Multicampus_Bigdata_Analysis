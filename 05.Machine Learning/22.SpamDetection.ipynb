{
 "cells": [
  {
   "cell_type": "markdown",
   "id": "c9b4231f",
   "metadata": {},
   "source": [
    "# 1. 스팸 메일 데이터에 대한 이해"
   ]
  },
  {
   "cell_type": "raw",
   "id": "f08b62c3",
   "metadata": {},
   "source": [
    "(참고)데이터 다운로드 링크 : https://www.kaggle.com/uciml/sms-spam-collection-dataset"
   ]
  },
  {
   "cell_type": "markdown",
   "id": "26907572-d4a1-4cc6-8666-e2fa7711dc9d",
   "metadata": {},
   "source": [
    "import os\n",
    "os.chdir('Data')"
   ]
  },
  {
   "cell_type": "code",
   "execution_count": 3,
   "id": "5a3ab8b5-b44a-492e-87e4-52f0f12662f4",
   "metadata": {},
   "outputs": [],
   "source": [
    "import warnings\n",
    "warnings.filterwarnings('ignore')"
   ]
  },
  {
   "cell_type": "code",
   "execution_count": 4,
   "id": "ac865cd7",
   "metadata": {},
   "outputs": [],
   "source": [
    "import numpy as np\n",
    "import pandas as pd\n",
    "import matplotlib.pyplot as plt\n",
    "import urllib.request\n",
    "from sklearn.model_selection import train_test_split\n",
    "from tensorflow.keras.preprocessing.text import Tokenizer\n",
    "from tensorflow.keras.preprocessing.sequence import pad_sequences"
   ]
  },
  {
   "cell_type": "code",
   "execution_count": 5,
   "id": "9e360699",
   "metadata": {},
   "outputs": [],
   "source": [
    "# 다운로드 받은 spam.csv 파일을 데이터프레임으로 로드하고 총 샘플의 수를 확인해봅시다.\n",
    "# urllib.request.urlretrieve(\"https://raw.githubusercontent.com/ukairia777/tensorflow-nlp-tutorial/main/10.%20RNN%20Text%20Classification/dataset/spam.csv\", filename=\"spam.csv\")"
   ]
  },
  {
   "cell_type": "code",
   "execution_count": 6,
   "id": "834b0918",
   "metadata": {},
   "outputs": [
    {
     "name": "stdout",
     "output_type": "stream",
     "text": [
      "총 샘플의 수 : 5572\n"
     ]
    }
   ],
   "source": [
    "data = pd.read_csv('spam.csv', encoding='latin1')\n",
    "print('총 샘플의 수 :',len(data))"
   ]
  },
  {
   "cell_type": "code",
   "execution_count": 7,
   "id": "ea1fbb90",
   "metadata": {},
   "outputs": [
    {
     "data": {
      "text/html": [
       "<div>\n",
       "<style scoped>\n",
       "    .dataframe tbody tr th:only-of-type {\n",
       "        vertical-align: middle;\n",
       "    }\n",
       "\n",
       "    .dataframe tbody tr th {\n",
       "        vertical-align: top;\n",
       "    }\n",
       "\n",
       "    .dataframe thead th {\n",
       "        text-align: right;\n",
       "    }\n",
       "</style>\n",
       "<table border=\"1\" class=\"dataframe\">\n",
       "  <thead>\n",
       "    <tr style=\"text-align: right;\">\n",
       "      <th></th>\n",
       "      <th>v1</th>\n",
       "      <th>v2</th>\n",
       "      <th>Unnamed: 2</th>\n",
       "      <th>Unnamed: 3</th>\n",
       "      <th>Unnamed: 4</th>\n",
       "    </tr>\n",
       "  </thead>\n",
       "  <tbody>\n",
       "    <tr>\n",
       "      <th>0</th>\n",
       "      <td>ham</td>\n",
       "      <td>Go until jurong point, crazy.. Available only ...</td>\n",
       "      <td>NaN</td>\n",
       "      <td>NaN</td>\n",
       "      <td>NaN</td>\n",
       "    </tr>\n",
       "    <tr>\n",
       "      <th>1</th>\n",
       "      <td>ham</td>\n",
       "      <td>Ok lar... Joking wif u oni...</td>\n",
       "      <td>NaN</td>\n",
       "      <td>NaN</td>\n",
       "      <td>NaN</td>\n",
       "    </tr>\n",
       "    <tr>\n",
       "      <th>2</th>\n",
       "      <td>spam</td>\n",
       "      <td>Free entry in 2 a wkly comp to win FA Cup fina...</td>\n",
       "      <td>NaN</td>\n",
       "      <td>NaN</td>\n",
       "      <td>NaN</td>\n",
       "    </tr>\n",
       "    <tr>\n",
       "      <th>3</th>\n",
       "      <td>ham</td>\n",
       "      <td>U dun say so early hor... U c already then say...</td>\n",
       "      <td>NaN</td>\n",
       "      <td>NaN</td>\n",
       "      <td>NaN</td>\n",
       "    </tr>\n",
       "    <tr>\n",
       "      <th>4</th>\n",
       "      <td>ham</td>\n",
       "      <td>Nah I don't think he goes to usf, he lives aro...</td>\n",
       "      <td>NaN</td>\n",
       "      <td>NaN</td>\n",
       "      <td>NaN</td>\n",
       "    </tr>\n",
       "    <tr>\n",
       "      <th>5</th>\n",
       "      <td>spam</td>\n",
       "      <td>FreeMsg Hey there darling it's been 3 week's n...</td>\n",
       "      <td>NaN</td>\n",
       "      <td>NaN</td>\n",
       "      <td>NaN</td>\n",
       "    </tr>\n",
       "    <tr>\n",
       "      <th>6</th>\n",
       "      <td>ham</td>\n",
       "      <td>Even my brother is not like to speak with me. ...</td>\n",
       "      <td>NaN</td>\n",
       "      <td>NaN</td>\n",
       "      <td>NaN</td>\n",
       "    </tr>\n",
       "    <tr>\n",
       "      <th>7</th>\n",
       "      <td>ham</td>\n",
       "      <td>As per your request 'Melle Melle (Oru Minnamin...</td>\n",
       "      <td>NaN</td>\n",
       "      <td>NaN</td>\n",
       "      <td>NaN</td>\n",
       "    </tr>\n",
       "    <tr>\n",
       "      <th>8</th>\n",
       "      <td>spam</td>\n",
       "      <td>WINNER!! As a valued network customer you have...</td>\n",
       "      <td>NaN</td>\n",
       "      <td>NaN</td>\n",
       "      <td>NaN</td>\n",
       "    </tr>\n",
       "    <tr>\n",
       "      <th>9</th>\n",
       "      <td>spam</td>\n",
       "      <td>Had your mobile 11 months or more? U R entitle...</td>\n",
       "      <td>NaN</td>\n",
       "      <td>NaN</td>\n",
       "      <td>NaN</td>\n",
       "    </tr>\n",
       "    <tr>\n",
       "      <th>10</th>\n",
       "      <td>ham</td>\n",
       "      <td>I'm gonna be home soon and i don't want to tal...</td>\n",
       "      <td>NaN</td>\n",
       "      <td>NaN</td>\n",
       "      <td>NaN</td>\n",
       "    </tr>\n",
       "    <tr>\n",
       "      <th>11</th>\n",
       "      <td>spam</td>\n",
       "      <td>SIX chances to win CASH! From 100 to 20,000 po...</td>\n",
       "      <td>NaN</td>\n",
       "      <td>NaN</td>\n",
       "      <td>NaN</td>\n",
       "    </tr>\n",
       "    <tr>\n",
       "      <th>12</th>\n",
       "      <td>spam</td>\n",
       "      <td>URGENT! You have won a 1 week FREE membership ...</td>\n",
       "      <td>NaN</td>\n",
       "      <td>NaN</td>\n",
       "      <td>NaN</td>\n",
       "    </tr>\n",
       "    <tr>\n",
       "      <th>13</th>\n",
       "      <td>ham</td>\n",
       "      <td>I've been searching for the right words to tha...</td>\n",
       "      <td>NaN</td>\n",
       "      <td>NaN</td>\n",
       "      <td>NaN</td>\n",
       "    </tr>\n",
       "    <tr>\n",
       "      <th>14</th>\n",
       "      <td>ham</td>\n",
       "      <td>I HAVE A DATE ON SUNDAY WITH WILL!!</td>\n",
       "      <td>NaN</td>\n",
       "      <td>NaN</td>\n",
       "      <td>NaN</td>\n",
       "    </tr>\n",
       "  </tbody>\n",
       "</table>\n",
       "</div>"
      ],
      "text/plain": [
       "      v1                                                 v2 Unnamed: 2  \\\n",
       "0    ham  Go until jurong point, crazy.. Available only ...        NaN   \n",
       "1    ham                      Ok lar... Joking wif u oni...        NaN   \n",
       "2   spam  Free entry in 2 a wkly comp to win FA Cup fina...        NaN   \n",
       "3    ham  U dun say so early hor... U c already then say...        NaN   \n",
       "4    ham  Nah I don't think he goes to usf, he lives aro...        NaN   \n",
       "5   spam  FreeMsg Hey there darling it's been 3 week's n...        NaN   \n",
       "6    ham  Even my brother is not like to speak with me. ...        NaN   \n",
       "7    ham  As per your request 'Melle Melle (Oru Minnamin...        NaN   \n",
       "8   spam  WINNER!! As a valued network customer you have...        NaN   \n",
       "9   spam  Had your mobile 11 months or more? U R entitle...        NaN   \n",
       "10   ham  I'm gonna be home soon and i don't want to tal...        NaN   \n",
       "11  spam  SIX chances to win CASH! From 100 to 20,000 po...        NaN   \n",
       "12  spam  URGENT! You have won a 1 week FREE membership ...        NaN   \n",
       "13   ham  I've been searching for the right words to tha...        NaN   \n",
       "14   ham                I HAVE A DATE ON SUNDAY WITH WILL!!        NaN   \n",
       "\n",
       "   Unnamed: 3 Unnamed: 4  \n",
       "0         NaN        NaN  \n",
       "1         NaN        NaN  \n",
       "2         NaN        NaN  \n",
       "3         NaN        NaN  \n",
       "4         NaN        NaN  \n",
       "5         NaN        NaN  \n",
       "6         NaN        NaN  \n",
       "7         NaN        NaN  \n",
       "8         NaN        NaN  \n",
       "9         NaN        NaN  \n",
       "10        NaN        NaN  \n",
       "11        NaN        NaN  \n",
       "12        NaN        NaN  \n",
       "13        NaN        NaN  \n",
       "14        NaN        NaN  "
      ]
     },
     "execution_count": 7,
     "metadata": {},
     "output_type": "execute_result"
    }
   ],
   "source": [
    "data.head(15)"
   ]
  },
  {
   "cell_type": "raw",
   "id": "27f60c83",
   "metadata": {},
   "source": [
    "스팸 메일 데이터 중에서 5개의 행만 출력해보았습니다. 이 데이터에는 총 5개의 열이 있는데, 여기서 Unnamed라는 이름의 3개의 열은 텍스트 분류를 할 때 불필요한 열입니다. \n",
    "v1열은 해당 메일이 스팸인지 아닌지를 나타내는 레이블에 해당되는 열입니다. ham은 정상 메일을 의미하고, spam은 스팸 메일을 의미합니다. v2열은 메일의 본문을 담고있습니다."
   ]
  },
  {
   "cell_type": "raw",
   "id": "9df8b307",
   "metadata": {},
   "source": [
    "레이블과 메일 내용이 담긴 v1열과 v2열만 필요하므로, Unnamed: 2, Unnamed: 3, Unnamed: 4 열은 삭제합니다. \n",
    "또한, v1열에 있는 ham과 spam 레이블을 각각 숫자 0과 1로 바꾸겠습니다. 다시 data에서 5개의 행만 출력해보겠습니다."
   ]
  },
  {
   "cell_type": "code",
   "execution_count": 8,
   "id": "bd52e410",
   "metadata": {},
   "outputs": [
    {
     "data": {
      "text/html": [
       "<div>\n",
       "<style scoped>\n",
       "    .dataframe tbody tr th:only-of-type {\n",
       "        vertical-align: middle;\n",
       "    }\n",
       "\n",
       "    .dataframe tbody tr th {\n",
       "        vertical-align: top;\n",
       "    }\n",
       "\n",
       "    .dataframe thead th {\n",
       "        text-align: right;\n",
       "    }\n",
       "</style>\n",
       "<table border=\"1\" class=\"dataframe\">\n",
       "  <thead>\n",
       "    <tr style=\"text-align: right;\">\n",
       "      <th></th>\n",
       "      <th>v1</th>\n",
       "      <th>v2</th>\n",
       "    </tr>\n",
       "  </thead>\n",
       "  <tbody>\n",
       "    <tr>\n",
       "      <th>0</th>\n",
       "      <td>0</td>\n",
       "      <td>Go until jurong point, crazy.. Available only ...</td>\n",
       "    </tr>\n",
       "    <tr>\n",
       "      <th>1</th>\n",
       "      <td>0</td>\n",
       "      <td>Ok lar... Joking wif u oni...</td>\n",
       "    </tr>\n",
       "    <tr>\n",
       "      <th>2</th>\n",
       "      <td>1</td>\n",
       "      <td>Free entry in 2 a wkly comp to win FA Cup fina...</td>\n",
       "    </tr>\n",
       "    <tr>\n",
       "      <th>3</th>\n",
       "      <td>0</td>\n",
       "      <td>U dun say so early hor... U c already then say...</td>\n",
       "    </tr>\n",
       "    <tr>\n",
       "      <th>4</th>\n",
       "      <td>0</td>\n",
       "      <td>Nah I don't think he goes to usf, he lives aro...</td>\n",
       "    </tr>\n",
       "  </tbody>\n",
       "</table>\n",
       "</div>"
      ],
      "text/plain": [
       "   v1                                                 v2\n",
       "0   0  Go until jurong point, crazy.. Available only ...\n",
       "1   0                      Ok lar... Joking wif u oni...\n",
       "2   1  Free entry in 2 a wkly comp to win FA Cup fina...\n",
       "3   0  U dun say so early hor... U c already then say...\n",
       "4   0  Nah I don't think he goes to usf, he lives aro..."
      ]
     },
     "execution_count": 8,
     "metadata": {},
     "output_type": "execute_result"
    }
   ],
   "source": [
    "# 컬럼 삭제\n",
    "del data['Unnamed: 2']\n",
    "del data['Unnamed: 3']\n",
    "del data['Unnamed: 4']\n",
    "\n",
    "data['v1'] = data['v1'].replace(['ham','spam'], [0, 1])\n",
    "data[:5]"
   ]
  },
  {
   "cell_type": "raw",
   "id": "051b3fb5",
   "metadata": {},
   "source": [
    "불필요한 열이 제거되고 v1열의 값이 숫자로 변환된 것을 확인할 수 있습니다. 해당 데이터프레임의 정보를 확인해보겠습니다."
   ]
  },
  {
   "cell_type": "code",
   "execution_count": 9,
   "id": "26fe753b",
   "metadata": {},
   "outputs": [
    {
     "name": "stdout",
     "output_type": "stream",
     "text": [
      "<class 'pandas.core.frame.DataFrame'>\n",
      "RangeIndex: 5572 entries, 0 to 5571\n",
      "Data columns (total 2 columns):\n",
      " #   Column  Non-Null Count  Dtype \n",
      "---  ------  --------------  ----- \n",
      " 0   v1      5572 non-null   int64 \n",
      " 1   v2      5572 non-null   object\n",
      "dtypes: int64(1), object(1)\n",
      "memory usage: 87.2+ KB\n"
     ]
    }
   ],
   "source": [
    "data.info()  # null값 확인, 데이터 타입"
   ]
  },
  {
   "cell_type": "raw",
   "id": "e1ee6a07",
   "metadata": {},
   "source": [
    "v1열은 정수형, v2열은 문자열 데이터를 갖고있습니다. Null 값을 가진 샘플이 있는지 isnull().values.any()로 확인합니다."
   ]
  },
  {
   "cell_type": "code",
   "execution_count": 10,
   "id": "20ccb8b4",
   "metadata": {},
   "outputs": [
    {
     "name": "stdout",
     "output_type": "stream",
     "text": [
      "결측값 여부 : False\n"
     ]
    }
   ],
   "source": [
    "print('결측값 여부 :', data.isnull().values.any())"
   ]
  },
  {
   "cell_type": "code",
   "execution_count": 11,
   "id": "ca436c79",
   "metadata": {},
   "outputs": [
    {
     "name": "stdout",
     "output_type": "stream",
     "text": [
      "v2열의 유니크한 값 : 5169\n"
     ]
    }
   ],
   "source": [
    "print('v2열의 유니크한 값 :', data['v2'].nunique())"
   ]
  },
  {
   "cell_type": "code",
   "execution_count": 12,
   "id": "93110aaa",
   "metadata": {},
   "outputs": [
    {
     "name": "stdout",
     "output_type": "stream",
     "text": [
      "v1열의 유니크한 값 : 2\n"
     ]
    }
   ],
   "source": [
    "print('v1열의 유니크한 값 :', data['v1'].nunique())"
   ]
  },
  {
   "cell_type": "code",
   "execution_count": 13,
   "id": "1ca2cb44",
   "metadata": {},
   "outputs": [
    {
     "data": {
      "text/plain": [
       "0    4825\n",
       "1     747\n",
       "Name: v1, dtype: int64"
      ]
     },
     "execution_count": 13,
     "metadata": {},
     "output_type": "execute_result"
    }
   ],
   "source": [
    "data['v1'].value_counts()"
   ]
  },
  {
   "cell_type": "code",
   "execution_count": 14,
   "id": "9fbe2e4f",
   "metadata": {},
   "outputs": [
    {
     "name": "stdout",
     "output_type": "stream",
     "text": [
      "총 샘플의 수 : 5169\n"
     ]
    }
   ],
   "source": [
    "# v2 열(메일 내용)에서 중복인 내용이 있다면 중복 제거\n",
    "data.drop_duplicates(subset=['v2'], inplace=True)\n",
    "print('총 샘플의 수 :', len(data))"
   ]
  },
  {
   "cell_type": "raw",
   "id": "972cec94",
   "metadata": {},
   "source": [
    "총 샘플의 수가 5,572개에서 5,169개로 줄었습니다. 레이블 값의 분포를 시각화합니다."
   ]
  },
  {
   "cell_type": "code",
   "execution_count": 15,
   "id": "ef264482",
   "metadata": {},
   "outputs": [
    {
     "data": {
      "text/plain": [
       "<AxesSubplot:>"
      ]
     },
     "execution_count": 15,
     "metadata": {},
     "output_type": "execute_result"
    },
    {
     "data": {
      "image/png": "[encoded data removed]",
      "text/plain": [
       "<Figure size 432x288 with 1 Axes>"
      ]
     },
     "metadata": {
      "needs_background": "light"
     },
     "output_type": "display_data"
    }
   ],
   "source": [
    "data['v1'].value_counts().plot(kind='bar')"
   ]
  },
  {
   "cell_type": "code",
   "execution_count": 16,
   "id": "82a2a604",
   "metadata": {},
   "outputs": [
    {
     "name": "stdout",
     "output_type": "stream",
     "text": [
      "정상 메일과 스팸 메일의 개수\n"
     ]
    },
    {
     "data": {
      "text/html": [
       "<div>\n",
       "<style scoped>\n",
       "    .dataframe tbody tr th:only-of-type {\n",
       "        vertical-align: middle;\n",
       "    }\n",
       "\n",
       "    .dataframe tbody tr th {\n",
       "        vertical-align: top;\n",
       "    }\n",
       "\n",
       "    .dataframe thead th {\n",
       "        text-align: right;\n",
       "    }\n",
       "</style>\n",
       "<table border=\"1\" class=\"dataframe\">\n",
       "  <thead>\n",
       "    <tr style=\"text-align: right;\">\n",
       "      <th></th>\n",
       "      <th>v1</th>\n",
       "      <th>count</th>\n",
       "    </tr>\n",
       "  </thead>\n",
       "  <tbody>\n",
       "    <tr>\n",
       "      <th>0</th>\n",
       "      <td>0</td>\n",
       "      <td>4516</td>\n",
       "    </tr>\n",
       "    <tr>\n",
       "      <th>1</th>\n",
       "      <td>1</td>\n",
       "      <td>653</td>\n",
       "    </tr>\n",
       "  </tbody>\n",
       "</table>\n",
       "</div>"
      ],
      "text/plain": [
       "   v1  count\n",
       "0   0   4516\n",
       "1   1    653"
      ]
     },
     "execution_count": 16,
     "metadata": {},
     "output_type": "execute_result"
    }
   ],
   "source": [
    "print('정상 메일과 스팸 메일의 개수')\n",
    "data.groupby('v1').size().reset_index(name='count')"
   ]
  },
  {
   "cell_type": "code",
   "execution_count": 17,
   "id": "128d57ac",
   "metadata": {},
   "outputs": [
    {
     "data": {
      "text/html": [
       "<div>\n",
       "<style scoped>\n",
       "    .dataframe tbody tr th:only-of-type {\n",
       "        vertical-align: middle;\n",
       "    }\n",
       "\n",
       "    .dataframe tbody tr th {\n",
       "        vertical-align: top;\n",
       "    }\n",
       "\n",
       "    .dataframe thead th {\n",
       "        text-align: right;\n",
       "    }\n",
       "</style>\n",
       "<table border=\"1\" class=\"dataframe\">\n",
       "  <thead>\n",
       "    <tr style=\"text-align: right;\">\n",
       "      <th></th>\n",
       "      <th>v1</th>\n",
       "      <th>v2</th>\n",
       "    </tr>\n",
       "  </thead>\n",
       "  <tbody>\n",
       "    <tr>\n",
       "      <th>0</th>\n",
       "      <td>0</td>\n",
       "      <td>Go until jurong point, crazy.. Available only ...</td>\n",
       "    </tr>\n",
       "    <tr>\n",
       "      <th>1</th>\n",
       "      <td>0</td>\n",
       "      <td>Ok lar... Joking wif u oni...</td>\n",
       "    </tr>\n",
       "    <tr>\n",
       "      <th>2</th>\n",
       "      <td>1</td>\n",
       "      <td>Free entry in 2 a wkly comp to win FA Cup fina...</td>\n",
       "    </tr>\n",
       "    <tr>\n",
       "      <th>3</th>\n",
       "      <td>0</td>\n",
       "      <td>U dun say so early hor... U c already then say...</td>\n",
       "    </tr>\n",
       "    <tr>\n",
       "      <th>4</th>\n",
       "      <td>0</td>\n",
       "      <td>Nah I don't think he goes to usf, he lives aro...</td>\n",
       "    </tr>\n",
       "    <tr>\n",
       "      <th>...</th>\n",
       "      <td>...</td>\n",
       "      <td>...</td>\n",
       "    </tr>\n",
       "    <tr>\n",
       "      <th>5567</th>\n",
       "      <td>1</td>\n",
       "      <td>This is the 2nd time we have tried 2 contact u...</td>\n",
       "    </tr>\n",
       "    <tr>\n",
       "      <th>5568</th>\n",
       "      <td>0</td>\n",
       "      <td>Will Ì_ b going to esplanade fr home?</td>\n",
       "    </tr>\n",
       "    <tr>\n",
       "      <th>5569</th>\n",
       "      <td>0</td>\n",
       "      <td>Pity, * was in mood for that. So...any other s...</td>\n",
       "    </tr>\n",
       "    <tr>\n",
       "      <th>5570</th>\n",
       "      <td>0</td>\n",
       "      <td>The guy did some bitching but I acted like i'd...</td>\n",
       "    </tr>\n",
       "    <tr>\n",
       "      <th>5571</th>\n",
       "      <td>0</td>\n",
       "      <td>Rofl. Its true to its name</td>\n",
       "    </tr>\n",
       "  </tbody>\n",
       "</table>\n",
       "<p>5169 rows × 2 columns</p>\n",
       "</div>"
      ],
      "text/plain": [
       "      v1                                                 v2\n",
       "0      0  Go until jurong point, crazy.. Available only ...\n",
       "1      0                      Ok lar... Joking wif u oni...\n",
       "2      1  Free entry in 2 a wkly comp to win FA Cup fina...\n",
       "3      0  U dun say so early hor... U c already then say...\n",
       "4      0  Nah I don't think he goes to usf, he lives aro...\n",
       "...   ..                                                ...\n",
       "5567   1  This is the 2nd time we have tried 2 contact u...\n",
       "5568   0              Will Ì_ b going to esplanade fr home?\n",
       "5569   0  Pity, * was in mood for that. So...any other s...\n",
       "5570   0  The guy did some bitching but I acted like i'd...\n",
       "5571   0                         Rofl. Its true to its name\n",
       "\n",
       "[5169 rows x 2 columns]"
      ]
     },
     "execution_count": 17,
     "metadata": {},
     "output_type": "execute_result"
    }
   ],
   "source": [
    "data"
   ]
  },
  {
   "cell_type": "code",
   "execution_count": 18,
   "id": "a6303eba",
   "metadata": {
    "scrolled": true
   },
   "outputs": [
    {
     "name": "stdout",
     "output_type": "stream",
     "text": [
      "정상 메일의 비율 = 87.367%\n",
      "스팸 메일의 비율 = 12.633%\n"
     ]
    }
   ],
   "source": [
    "print(f'정상 메일의 비율 = {round(data[\"v1\"].value_counts()[0]/len(data) * 100, 3)}%')\n",
    "print(f'스팸 메일의 비율 = {round(data[\"v1\"].value_counts()[1]/len(data) * 100, 3)}%')"
   ]
  },
  {
   "cell_type": "code",
   "execution_count": 19,
   "id": "f58f8ad7",
   "metadata": {},
   "outputs": [
    {
     "name": "stdout",
     "output_type": "stream",
     "text": [
      "메일 본문의 개수: 5169\n",
      "레이블의 개수: 5169\n"
     ]
    }
   ],
   "source": [
    "# v2열과 v1열을 X데이터와 y데이터라는 X_data, y_data로 저장합니다.\n",
    "X_data = data['v2']\n",
    "y_data = data['v1']\n",
    "\n",
    "print('메일 본문의 개수: {}'.format(len(X_data)))\n",
    "print('레이블의 개수: {}'.format(len(y_data)))"
   ]
  },
  {
   "cell_type": "code",
   "execution_count": 20,
   "id": "dc4c560b",
   "metadata": {},
   "outputs": [],
   "source": [
    "# 레이블 분포에 맞게 데이터 분리\n",
    "X_train, X_test, y_train, y_test = train_test_split(X_data, y_data, test_size=0.2, random_state=0, stratify=y_data)"
   ]
  },
  {
   "cell_type": "code",
   "execution_count": 21,
   "id": "5564db46",
   "metadata": {},
   "outputs": [
    {
     "name": "stdout",
     "output_type": "stream",
     "text": [
      "--------훈련 데이터의 비율-----------\n",
      "정상 메일 = 87.376%\n",
      "스팸 메일 = 12.624%\n"
     ]
    }
   ],
   "source": [
    "print('--------훈련 데이터의 비율-----------')\n",
    "print(f'정상 메일 = {round(y_train.value_counts()[0]/len(y_train) * 100,3)}%')\n",
    "print(f'스팸 메일 = {round(y_train.value_counts()[1]/len(y_train) * 100,3)}%')\n"
   ]
  },
  {
   "cell_type": "code",
   "execution_count": 22,
   "id": "121c5770",
   "metadata": {},
   "outputs": [
    {
     "name": "stdout",
     "output_type": "stream",
     "text": [
      "--------테스트 데이터의 비율-----------\n",
      "정상 메일 = 87.331%\n",
      "스팸 메일 = 12.669%\n"
     ]
    }
   ],
   "source": [
    "print('--------테스트 데이터의 비율-----------')\n",
    "print(f'정상 메일 = {round(y_test.value_counts()[0]/len(y_test) * 100,3)}%')\n",
    "print(f'스팸 메일 = {round(y_test.value_counts()[1]/len(y_test) * 100,3)}%')"
   ]
  },
  {
   "cell_type": "raw",
   "id": "7e147f89",
   "metadata": {},
   "source": [
    "-> 훈련 데이터, 테스트 데이터 분리\n",
    "훈련 데이터와 테스트 데이터 모두 정상 메일은 87%, 스팸 메일은 12%가 존재합니다. \n",
    "\n",
    "이제 케라스 토크나이저를 통해 훈련 데이터에 대해서 토큰화와 정수 인코딩 과정을 수행합니다. \n",
    "X_train_encoded에는 X_train의 각 단어들이 맵핑되는 정수로 인코딩되어 저장됩니다. \n",
    "5개의 메일만 출력해서 확인해보겠습니다."
   ]
  },
  {
   "cell_type": "code",
   "execution_count": 23,
   "id": "861437e8",
   "metadata": {},
   "outputs": [
    {
     "name": "stdout",
     "output_type": "stream",
     "text": [
      "[[102, 1, 210, 230, 3, 17, 39], [1, 59, 8, 427, 17, 5, 137, 2, 2326], [157, 180, 12, 13, 98, 93, 47, 9, 40, 3485, 247, 8, 7, 87, 6, 80, 1312, 5, 3486, 7, 2327, 11, 660, 306, 20, 25, 467, 708, 1028, 203, 129, 193, 800, 2328, 23, 1, 144, 71, 2, 111, 78, 43, 2, 130, 11, 800, 186, 122, 1512], [1, 1154, 13, 104, 292], [222, 622, 857, 540, 623, 22, 23, 83, 10, 47, 6, 257, 32, 6, 26, 64, 936, 407]]\n"
     ]
    }
   ],
   "source": [
    "tokenizer = Tokenizer()\n",
    "tokenizer.fit_on_texts(X_train)\n",
    "X_train_encoded = tokenizer.texts_to_sequences(X_train)\n",
    "\n",
    "print(X_train_encoded[:5])"
   ]
  },
  {
   "cell_type": "raw",
   "id": "7b7669aa",
   "metadata": {},
   "source": [
    "각 메일이 정수 인코딩이 되었습니다. "
   ]
  },
  {
   "cell_type": "code",
   "execution_count": 24,
   "id": "e88aef95",
   "metadata": {
    "scrolled": true,
    "tags": []
   },
   "outputs": [
    {
     "name": "stdout",
     "output_type": "stream",
     "text": [
      "7821\n",
      "{'i': 1, 'to': 2, 'you': 3, 'a': 4, 'the': 5, 'u': 6, 'and': 7, 'in': 8, 'is': 9, 'me': 10, 'my': 11, 'for': 12, 'your': 13, 'it': 14, 'of': 15, 'have': 16, 'on': 17, 'call': 18, 'that': 19, 'are': 20, '2': 21, 'now': 22, 'so': 23, 'but': 24, 'not': 25, 'can': 26, 'or': 27, \"i'm\": 28, 'get': 29, 'at': 30, 'do': 31, 'if': 32, 'be': 33, 'will': 34, 'just': 35, 'with': 36, 'we': 37, 'no': 38, 'this': 39, 'ur': 40, 'up': 41, '4': 42, 'how': 43, 'gt': 44, 'lt': 45, 'go': 46, 'when': 47, 'from': 48, 'what': 49, 'ok': 50, 'out': 51, 'know': 52, 'free': 53, 'all': 54, 'like': 55, 'then': 56, 'got': 57, 'good': 58, 'am': 59, 'time': 60, 'was': 61, 'come': 62, 'its': 63, 'love': 64, 'want': 65, 'text': 66, 'he': 67, 'only': 68, 'there': 69, 'day': 70, 'need': 71, 'going': 72, 'lor': 73, 'send': 74, 'one': 75, 'as': 76, 'home': 77, 'about': 78, 'back': 79, 'still': 80, 'k': 81, 'see': 82, 'txt': 83, 'by': 84, 'da': 85, 'stop': 86, 'r': 87, 'any': 88, 'tell': 89, 'dont': 90, \"i'll\": 91, \"don't\": 92, 'today': 93, 'our': 94, 'she': 95, 'please': 96, 'hi': 97, 'reply': 98, 'n': 99, 'take': 100, 'ì': 101, 'sorry': 102, 'her': 103, 'new': 104, 'oh': 105, 'mobile': 106, 'hey': 107, 'some': 108, 'they': 109, 'him': 110, 'think': 111, 'night': 112, 'here': 113, 'been': 114, 'great': 115, 'did': 116, 'phone': 117, 'much': 118, 'too': 119, 'hope': 120, 'week': 121, 'later': 122, 'more': 123, '1': 124, 'pls': 125, 'had': 126, 'well': 127, 'should': 128, 'has': 129, 'make': 130, 'where': 131, 'dear': 132, 'wat': 133, 'msg': 134, 'e': 135, 'claim': 136, 'way': 137, 'c': 138, 'already': 139, 'yes': 140, 'number': 141, 'say': 142, 'ask': 143, 'really': 144, 'yeah': 145, 'an': 146, 'right': 147, 'prize': 148, 'give': 149, \"it's\": 150, 'who': 151, 'meet': 152, 'doing': 153, 'www': 154, 'work': 155, 'after': 156, 'thanks': 157, 'would': 158, 'why': 159, 'b': 160, 'im': 161, 'life': 162, 'anything': 163, '3': 164, 'them': 165, 'cos': 166, 'happy': 167, 'message': 168, 'tomorrow': 169, 'something': 170, 'lol': 171, 'let': 172, 'sure': 173, 'every': 174, 'cash': 175, 'last': 176, 'babe': 177, 'said': 178, 'find': 179, 'again': 180, 'miss': 181, 'buy': 182, 'urgent': 183, \"i've\": 184, 'very': 185, 'money': 186, 'around': 187, 'keep': 188, 'over': 189, 'min': 190, 'next': 191, 'sent': 192, 'his': 193, 'before': 194, 'morning': 195, 'wait': 196, 'd': 197, 'com': 198, 'us': 199, 'first': 200, 'care': 201, 'tonight': 202, 'also': 203, 'thing': 204, 'off': 205, 'ìï': 206, 'someone': 207, '150p': 208, 't': 209, \"can't\": 210, 'could': 211, 'even': 212, 'were': 213, 'won': 214, 'sleep': 215, 'ya': 216, 'uk': 217, 'pick': 218, 'contact': 219, 'dun': 220, 's': 221, 'hello': 222, \"that's\": 223, 'win': 224, 'v': 225, 'chat': 226, 'late': 227, 'told': 228, 'amp': 229, 'help': 230, 'which': 231, 'down': 232, 'feel': 233, 'x': 234, 'soon': 235, 'cant': 236, 'nokia': 237, 'thk': 238, 'wan': 239, \"you're\": 240, 'done': 241, 'per': 242, 'getting': 243, 'many': 244, 'place': 245, 'leave': 246, 'coming': 247, 'always': 248, 'other': 249, 'nice': 250, 'waiting': 251, 'use': 252, 'haha': 253, 'friend': 254, 'gonna': 255, 'guaranteed': 256, 'finish': 257, 'wish': 258, 'went': 259, 'same': 260, 'best': 261, 'thought': 262, 'friends': 263, 'tone': 264, 'customer': 265, 'talk': 266, 'long': 267, 'gud': 268, 'try': 269, 'co': 270, 'year': 271, 'sms': 272, 'yet': 273, 'y': 274, '5': 275, 'end': 276, 'fine': 277, 'than': 278, 'mins': 279, 'stuff': 280, 'ready': 281, '50': 282, '18': 283, 'name': 284, 'cool': 285, 'service': 286, 'ill': 287, 'class': 288, 'job': 289, 'yo': 290, 'bit': 291, 'house': 292, 'wk': 293, 'lunch': 294, 'draw': 295, 'never': 296, 'lar': 297, '16': 298, 'smile': 299, \"didn't\": 300, 'man': 301, 'better': 302, 'line': 303, 'days': 304, 'trying': 305, 'things': 306, 'yup': 307, 'liao': 308, 'having': 309, 'problem': 310, 'few': 311, 'enjoy': 312, 'cs': 313, '6': 314, 'wanna': 315, 'might': 316, 'shopping': 317, 'people': 318, 'early': 319, 'real': 320, 'shows': 321, 'being': 322, 'dat': 323, 'may': 324, 'ah': 325, 'half': 326, 'den': 327, 'dinner': 328, 'person': 329, '7': 330, 'thanx': 331, 'car': 332, 'holiday': 333, 'thats': 334, 'ever': 335, 'account': 336, 'another': 337, 'aight': 338, 'guys': 339, 'jus': 340, 'because': 341, 'check': 342, 'word': 343, 'guess': 344, 'shall': 345, 'hear': 346, 'face': 347, 'video': 348, \"there's\": 349, 'awarded': 350, 'quite': 351, 'eat': 352, 'live': 353, 'big': 354, 'm': 355, 'latest': 356, 'watch': 357, 'everything': 358, 'maybe': 359, 'reach': 360, 'sat': 361, 'å£1': 362, 'town': 363, 'sir': 364, 'meeting': 365, 'code': 366, 'into': 367, 'box': 368, 'lot': 369, 'plan': 370, 'dunno': 371, 'room': 372, 'bed': 373, 'chance': 374, 'pay': 375, 'shit': 376, 'heart': 377, 'look': 378, 'baby': 379, 'nothing': 380, 'special': 381, 'mind': 382, '150ppm': 383, 'minutes': 384, 'leh': 385, 'probably': 386, 'month': 387, \"he's\": 388, '1st': 389, 'wanted': 390, 'kiss': 391, 'weekend': 392, 'start': 393, 'texts': 394, 'orange': 395, 'apply': 396, 'girl': 397, 'once': 398, 'watching': 399, '10': 400, 'll': 401, 'luv': 402, 'called': 403, 'fun': 404, 'wont': 405, 'remember': 406, 'xxx': 407, 'pa': 408, 'bad': 409, 'alright': 410, 'receive': 411, 'speak': 412, 'cost': 413, '000': 414, 'ringtone': 415, 'camera': 416, 'does': 417, 'abt': 418, 'offer': 419, 'landline': 420, 'able': 421, 'goes': 422, 'looking': 423, 'left': 424, 'enough': 425, 'mail': 426, 'bus': 427, 'actually': 428, 'å£1000': 429, 'put': 430, 'sweet': 431, 'must': 432, 'juz': 433, 'making': 434, 'po': 435, 'forgot': 436, 'network': 437, 'school': 438, 'worry': 439, 'fuck': 440, 'away': 441, 'play': 442, 'office': 443, 'dad': 444, 'princess': 445, 'lei': 446, 'birthday': 447, '2nd': 448, 'years': 449, 'didnt': 450, 'book': 451, 'award': 452, 'show': 453, '9': 454, 'important': 455, 'working': 456, 'sch': 457, 'collect': 458, 'tmr': 459, 'haf': 460, 'rate': 461, 'though': 462, 'stay': 463, 'says': 464, 'those': 465, 'asked': 466, 'easy': 467, 'thank': 468, 'anyway': 469, 'havent': 470, 'means': 471, 'busy': 472, 'hair': 473, 'huh': 474, 'online': 475, 're': 476, 'world': 477, 'chikku': 478, 'wif': 479, 'tot': 480, 'most': 481, 'came': 482, 'tv': 483, 'pain': 484, 'else': 485, 'join': 486, 'bring': 487, 'hour': 488, 'bt': 489, 'little': 490, 'evening': 491, 'valid': 492, 'wake': 493, 'boy': 494, 'true': 495, 'oso': 496, 'net': 497, 'two': 498, 'driving': 499, 'order': 500, 'times': 501, 'gift': 502, 'dis': 503, 'ard': 504, 'goin': 505, 'saw': 506, 'part': 507, 'hot': 508, 'sexy': 509, 'these': 510, 'missed': 511, 'http': 512, 'hav': 513, 'until': 514, 'movie': 515, 'without': 516, 'wot': 517, 'while': 518, 'happen': 519, 'afternoon': 520, 'hurt': 521, 'made': 522, 'missing': 523, 'colour': 524, 'yourself': 525, 'both': 526, 'update': 527, 'trip': 528, 'god': 529, 'nite': 530, \"we're\": 531, 'run': 532, 'guy': 533, 'details': 534, 'since': 535, 'g': 536, 'price': 537, 'started': 538, \"what's\": 539, 'finished': 540, 'full': 541, 'yesterday': 542, 'food': 543, 'selected': 544, 'old': 545, 'mean': 546, \"we'll\": 547, 'head': 548, 'charge': 549, 'test': 550, 'collection': 551, 'poly': 552, 'xmas': 553, '8': 554, 'attempt': 555, 'de': 556, 'plz': 557, 'okay': 558, \"how's\": 559, 'noe': 560, 'bonus': 561, 'believe': 562, 'change': 563, 'tried': 564, 'til': 565, 'pics': 566, 'å£2000': 567, '10p': 568, 'feeling': 569, 'å£100': 570, 'ring': 571, 'points': 572, 'calls': 573, 'drink': 574, 'thinking': 575, 'address': 576, 'alone': 577, 'xx': 578, 'national': 579, \"haven't\": 580, 'dude': 581, 'beautiful': 582, 'tomo': 583, 'rite': 584, '12hrs': 585, 'neva': 586, 'drive': 587, 'makes': 588, 'sun': 589, 'top': 590, 'gd': 591, 'services': 592, 'entry': 593, 'weekly': 594, 'wants': 595, 'nt': 596, 'date': 597, 'wife': 598, 'walk': 599, 'yours': 600, 'bored': 601, 'sae': 602, 'words': 603, 'messages': 604, 'plus': 605, 'between': 606, 'saying': 607, 'calling': 608, 'double': 609, 'brother': 610, 'shop': 611, 'land': 612, 'fri': 613, 'wen': 614, 'taking': 615, 'id': 616, 'loving': 617, 'needs': 618, \"won't\": 619, 'delivery': 620, 'smoke': 621, 'darlin': 622, 'college': 623, 'outside': 624, 'boytoy': 625, 'far': 626, 'touch': 627, 'private': 628, 'identifier': 629, 'expires': 630, '11': 631, 'lets': 632, 'sis': 633, 'company': 634, 'oredi': 635, 'ltd': 636, 'happened': 637, 'voucher': 638, 'tones': 639, 'nope': 640, 'second': 641, 'w': 642, 'open': 643, 'mob': 644, 'hours': 645, 'mum': 646, 'till': 647, 'took': 648, 'todays': 649, 'tho': 650, 'ha': 651, 'cause': 652, 'family': 653, 'telling': 654, 'game': 655, 'question': 656, 'dreams': 657, 'auction': 658, 'lesson': 659, 'sister': 660, 'girls': 661, 'aft': 662, 'awesome': 663, 'break': 664, 'unlimited': 665, 'sleeping': 666, 'å£500': 667, 'music': 668, 'statement': 669, 'choose': 670, 'msgs': 671, 'wit': 672, 'smth': 673, 'decimal': 674, 'player': 675, 'kind': 676, 'fucking': 677, 'leaving': 678, 'pub': 679, 'sad': 680, \"doesn't\": 681, 'await': 682, 'lucky': 683, 'everyone': 684, 'knw': 685, 'freemsg': 686, 'treat': 687, 'unsubscribe': 688, 'takes': 689, 'carlos': 690, '8007': 691, 'club': 692, 'games': 693, 'hungry': 694, \"you'll\": 695, 'each': 696, 'whole': 697, '750': 698, 'anytime': 699, 'earlier': 700, 'whats': 701, 'caller': 702, 'answer': 703, 'gas': 704, 'bout': 705, 'listen': 706, 'whatever': 707, 'uncle': 708, 'congrats': 709, 'couple': 710, 'snow': 711, 'lots': 712, \"she's\": 713, 'okie': 714, 'gone': 715, \"you've\": 716, 'pic': 717, 'congratulations': 718, 'sounds': 719, '800': 720, 'un': 721, 'pm': 722, 'minute': 723, 'hee': 724, '08000930705': 725, 'found': 726, \"c's\": 727, 'news': 728, 'hmmm': 729, 'finally': 730, 'available': 731, 'mu': 732, 'yr': 733, 'anyone': 734, 'content': 735, 'hit': 736, 'hmm': 737, 'frnd': 738, 'close': 739, 'forget': 740, 'yar': 741, 'seen': 742, 'row': 743, 'drop': 744, 'together': 745, 'talking': 746, 'mine': 747, 'prob': 748, '500': 749, 'å£2': 750, 'age': 751, '03': 752, '30': 753, 'read': 754, 'lovely': 755, 'hows': 756, 'cut': 757, 'charged': 758, 'abiola': 759, 'set': 760, 'either': 761, 'vouchers': 762, '2003': 763, 'redeemed': 764, 'search': 765, 'friday': 766, 'reason': 767, 'exam': 768, \"i'd\": 769, 'card': 770, '100': 771, 'camcorder': 772, 'gr8': 773, 'used': 774, 'saturday': 775, 'å£5000': 776, 'bank': 777, 'smiling': 778, 'decided': 779, 'st': 780, '\\x89û': 781, 'park': 782, 'tel': 783, 'grins': 784, 'fr': 785, 'india': 786, 'hard': 787, 'don': 788, 'pounds': 789, 'wonderful': 790, 'wow': 791, 'å£250': 792, 'eve': 793, 'worth': 794, 'b4': 795, 'darren': 796, 'wil': 797, 'fancy': 798, 'sea': 799, 'own': 800, 'safe': 801, 'store': 802, 'welcome': 803, 'wana': 804, 'worried': 805, 'side': 806, 'opt': 807, 'fone': 808, '04': 809, 'friendship': 810, '08000839402': 811, 'gotta': 812, 'pass': 813, 'almost': 814, 'computer': 815, 'story': 816, 'wid': 817, 'sell': 818, 'point': 819, 'chennai': 820, 'their': 821, 'mate': 822, 'log': 823, 'ans': 824, 'ago': 825, 'coz': 826, 'confirm': 827, 'comes': 828, 'muz': 829, 'meant': 830, 'ugh': 831, 'download': 832, 'wap': 833, 'knew': 834, '86688': 835, 'link': 836, 'swing': 837, 'project': 838, 'jay': 839, 'through': 840, 'final': 841, 'frnds': 842, 'crazy': 843, 'info': 844, 'å£3': 845, 'doin': 846, 'asap': 847, 'ass': 848, 'o': 849, 'rs': 850, 'visit': 851, 'case': 852, 'march': 853, 'dating': 854, 'lose': 855, 'loved': 856, 'ive': 857, 'disturb': 858, 'credit': 859, 'light': 860, 'ex': 861, 'operator': 862, 'wonder': 863, 'hiya': 864, 'monday': 865, 'parents': 866, 'understand': 867, 'lost': 868, 'forever': 869, 'itself': 870, 'bathe': 871, 'sunday': 872, \"isn't\": 873, \"''\": 874, 'felt': 875, 'mr': 876, 'street': 877, 'type': 878, 'rest': 879, 'mates': 880, 'less': 881, 'ones': 882, 'weeks': 883, 'information': 884, 'semester': 885, 'th': 886, 'extra': 887, 'correct': 888, 'study': 889, 'direct': 890, 'red': 891, 'laugh': 892, 'comp': 893, 'post': 894, 'na': 895, 'nah': 896, 'spend': 897, 'gym': 898, 'course': 899, 'somewhere': 900, 'knows': 901, 'bath': 902, 'party': 903, 'dead': 904, 'tonite': 905, 'tired': 906, 'myself': 907, 'il': 908, 'cum': 909, 'tickets': 910, 'fast': 911, 'rental': 912, 'email': 913, 'wrong': 914, 'heard': 915, 'usf': 916, 'mobileupd8': 917, 'slow': 918, 'ringtones': 919, 'normal': 920, 'support': 921, 'sort': 922, 'lessons': 923, 'sending': 924, 'song': 925, 'charity': 926, 'asking': 927, 'thinks': 928, 'truth': 929, 'ten': 930, '0800': 931, 'pretty': 932, 'sex': 933, 'comin': 934, 'figure': 935, 'kate': 936, 'immediately': 937, 'lazy': 938, 'age16': 939, 'winner': 940, 'facebook': 941, 'met': 942, 'training': 943, '87066': 944, 'area': 945, 'mobiles': 946, 'happiness': 947, 'water': 948, 'least': 949, 'moment': 950, 'picking': 951, 'stupid': 952, 'surprise': 953, 'ar': 954, '\\x89ûò': 955, 'complimentary': 956, 'men': 957, 'fact': 958, 'valentine': 959, 'christmas': 960, 'weed': 961, 'film': 962, 'etc': 963, 'england': 964, 'eg': 965, '20': 966, \"wasn't\": 967, 'match': 968, 'pc': 969, 'ts': 970, 'fantastic': 971, 'somebody': 972, 'frm': 973, 'sick': 974, 'ac': 975, 'others': 976, 'ice': 977, 'ipod': 978, 'mom': 979, 'txting': 980, 'ni8': 981, 'laptop': 982, 'angry': 983, 'custcare': 984, 'questions': 985, 'glad': 986, 'rock': 987, 'mayb': 988, '150': 989, 'crave': 990, 'numbers': 991, 'rates': 992, 'goodmorning': 993, 'warm': 994, 'drugs': 995, 'booked': 996, 'luck': 997, 'mrt': 998, 'catch': 999, 'aha': 1000, 'suite342': 1001, '2lands': 1002, 'daddy': 1003, 'mah': 1004, 'enter': 1005, '2day': 1006, 'lect': 1007, 'urself': 1008, 'supposed': 1009, 'move': 1010, 'unless': 1011, 'currently': 1012, 'library': 1013, 'yep': 1014, '02': 1015, 'secret': 1016, 'meh': 1017, 'orchard': 1018, 'whenever': 1019, 'mm': 1020, 'wkly': 1021, 'em': 1022, 'gets': 1023, 'starting': 1024, 'eh': 1025, 'wondering': 1026, 'pete': 1027, 'john': 1028, 'å£200': 1029, 'thinkin': 1030, 'mon': 1031, 'cheap': 1032, 'depends': 1033, 'vl': 1034, 'loads': 1035, 'reference': 1036, 'arrive': 1037, 'deal': 1038, 'checking': 1039, '11mths': 1040, 'cuz': 1041, '25p': 1042, 'reached': 1043, 'using': 1044, 'nigeria': 1045, 'train': 1046, 'rent': 1047, 'road': 1048, '20p': 1049, 'ntt': 1050, 'kids': 1051, 'entered': 1052, 'invited': 1053, 'sofa': 1054, 'clean': 1055, 'å£10': 1056, 'tc': 1057, 'studying': 1058, 'quiz': 1059, 'high': 1060, 'cheers': 1061, 'near': 1062, '87077': 1063, 'mistake': 1064, 'cold': 1065, 'sense': 1066, 'bucks': 1067, 'reward': 1068, 'user': 1069, 'difficult': 1070, 'credits': 1071, 'comuk': 1072, 'access': 1073, 'pobox': 1074, 'page': 1075, 'woke': 1076, 'polys': 1077, 'insurance': 1078, 'small': 1079, 'paying': 1080, '3030': 1081, 'months': 1082, 'hurry': 1083, 'sound': 1084, 'hold': 1085, 'shd': 1086, 'goto': 1087, 'promise': 1088, 'shower': 1089, 'mark': 1090, 'father': 1091, 'however': 1092, 'tampa': 1093, 'eyes': 1094, 'interested': 1095, 'sale': 1096, 'during': 1097, \"they're\": 1098, 'å£350': 1099, '12': 1100, 'wun': 1101, 'blue': 1102, 'imma': 1103, 'mp3': 1104, 'honey': 1105, 'torch': 1106, 'sitting': 1107, 'present': 1108, 'planning': 1109, 'sometimes': 1110, 'hand': 1111, 'pray': 1112, '06': 1113, 'txts': 1114, 'motorola': 1115, 'oops': 1116, 'king': 1117, 'door': 1118, 'yest': 1119, 'bb': 1120, 'umma': 1121, 'wishing': 1122, 'appreciate': 1123, 'save': 1124, 'omg': 1125, 'paid': 1126, 'seeing': 1127, 'write': 1128, 'shuhui': 1129, 'nyt': 1130, 'yahoo': 1131, 'bcoz': 1132, 'midnight': 1133, 'anymore': 1134, 'die': 1135, 'stand': 1136, 'trust': 1137, 'mo': 1138, 'rather': 1139, 'gay': 1140, 'voice': 1141, '08712460324': 1142, 'across': 1143, 'sucks': 1144, 'within': 1145, 'pizza': 1146, 'bid': 1147, 'behind': 1148, 'reading': 1149, 'workin': 1150, 'staying': 1151, 'kinda': 1152, 'via': 1153, 'liked': 1154, 'plans': 1155, 'posted': 1156, 'yoga': 1157, 'spree': 1158, 'definitely': 1159, 'specially': 1160, \"u're\": 1161, 'hospital': 1162, 'nxt': 1163, \"'\": 1164, 'press': 1165, 'ldew': 1166, 'ends': 1167, 'different': 1168, 'happening': 1169, 'bill': 1170, 'dog': 1171, 'ldn': 1172, 'simple': 1173, 'hw': 1174, 'tea': 1175, 'askd': 1176, 'holla': 1177, 'nobody': 1178, 'add': 1179, 'sp': 1180, 'cute': 1181, 'none': 1182, 'bugis': 1183, '50p': 1184, 'cancel': 1185, 'decide': 1186, 'team': 1187, 'holder': 1188, 'awaiting': 1189, 'cell': 1190, 'login': 1191, 'registered': 1192, 'gee': 1193, 'slave': 1194, 'paper': 1195, 'hrs': 1196, 'std': 1197, 'single': 1198, 'bother': 1199, 'seems': 1200, 'spent': 1201, 'sub': 1202, 'valentines': 1203, 'rcvd': 1204, 'hurts': 1205, 'trouble': 1206, \"you'd\": 1207, 'photo': 1208, 'alex': 1209, 'bag': 1210, 'except': 1211, 'balance': 1212, 'xy': 1213, 'p': 1214, 'entitled': 1215, 'ending': 1216, 'weight': 1217, 'texting': 1218, 'strong': 1219, 'ticket': 1220, 'poor': 1221, 'yrs': 1222, 'power': 1223, 'loan': 1224, 'against': 1225, 'forward': 1226, 'naughty': 1227, 'system': 1228, 'eatin': 1229, 'gave': 1230, 'internet': 1231, 'w1j6hl': 1232, 'following': 1233, 'situation': 1234, 'fat': 1235, 'dvd': 1236, 'loves': 1237, 'doctor': 1238, '2nite': 1239, 'dream': 1240, 'phones': 1241, 'mrng': 1242, 'doesnt': 1243, 'aiyo': 1244, 'bold': 1245, 'matter': 1246, 'lemme': 1247, 'future': 1248, 'rply': 1249, 'wats': 1250, 'bak': 1251, 'discount': 1252, 'offers': 1253, 'sony': 1254, 'call2optout': 1255, 'omw': 1256, 'realy': 1257, 'slept': 1258, 'reaching': 1259, 'funny': 1260, 'goodnight': 1261, 'hotel': 1262, 'valued': 1263, 'turns': 1264, 'tht': 1265, 'lookin': 1266, 'hoping': 1267, 'cine': 1268, 'kb': 1269, 'hr': 1270, 'reveal': 1271, 'mode': 1272, \"t's\": 1273, 'past': 1274, 'raining': 1275, 'fault': 1276, 'coffee': 1277, 'bslvyl': 1278, 'eating': 1279, 'forwarded': 1280, 'tough': 1281, 'boys': 1282, 'weekends': 1283, 'frens': 1284, 'hell': 1285, 'expensive': 1286, 'law': 1287, 'battery': 1288, 'loverboy': 1289, 'flirt': 1290, 'sport': 1291, 'merry': 1292, 'wednesday': 1293, 'inc': 1294, 'click': 1295, '2004': 1296, \"u'll\": 1297, 'blood': 1298, 'excellent': 1299, 'feels': 1300, 'dogging': 1301, 'gal': 1302, 'longer': 1303, 'directly': 1304, 'starts': 1305, 'wiv': 1306, 'straight': 1307, 'biz': 1308, 'empty': 1309, 'recently': 1310, 'gettin': 1311, 'buying': 1312, 'relax': 1313, 'fb': 1314, 'waking': 1315, 'hook': 1316, 'summer': 1317, 'la': 1318, 'izzit': 1319, 'cal': 1320, 'din': 1321, 'vikky': 1322, 'joined': 1323, 'request': 1324, 'cd': 1325, 'tncs': 1326, 'romantic': 1327, '21': 1328, 'hun': 1329, 'horny': 1330, 'towards': 1331, \"where's\": 1332, 'wet': 1333, 'super': 1334, \"who's\": 1335, 'wine': 1336, 'swt': 1337, 'gals': 1338, 'rakhesh': 1339, 'airport': 1340, 'pple': 1341, '1327': 1342, 'croydon': 1343, 'cr9': 1344, '5wb': 1345, '0870': 1346, 'boss': 1347, 'announcement': 1348, 'model': 1349, 'sura': 1350, 'slowly': 1351, '434': 1352, '82277': 1353, 'ho': 1354, 'fixed': 1355, 'hate': 1356, \"couldn't\": 1357, 'remove': 1358, 'isnt': 1359, 'informed': 1360, \"he'll\": 1361, 'onto': 1362, 'urawinner': 1363, 'quick': 1364, 'thts': 1365, 'yijue': 1366, 'replied': 1367, 'representative': 1368, 'receipt': 1369, '80062': 1370, 'tuition': 1371, 'worries': 1372, 'rain': 1373, '4u': 1374, 'body': 1375, 'belly': 1376, 'willing': 1377, 'boring': 1378, 'broke': 1379, 'no1': 1380, 'getzed': 1381, 'january': 1382, \"today's\": 1383, 'become': 1384, 'simply': 1385, 'ish': 1386, 'village': 1387, 'zed': 1388, 'heavy': 1389, 'changed': 1390, '25': 1391, 'report': 1392, '08718720201': 1393, 'website': 1394, 'style': 1395, 'cancer': 1396, 'bin': 1397, 'amount': 1398, 'acc': 1399, 'standard': 1400, 'app': 1401, 'teach': 1402, 'cars': 1403, '8th': 1404, 'horrible': 1405, 'bf': 1406, 'country': 1407, 'budget': 1408, 'social': 1409, 'ride': 1410, 'cinema': 1411, 'advice': 1412, 'track': 1413, 'wed': 1414, 'vote': 1415, 'movies': 1416, 'especially': 1417, 'rd': 1418, 'lmao': 1419, 'moan': 1420, 'south': 1421, '10am': 1422, 'thurs': 1423, 'arrange': 1424, 'energy': 1425, 'matches': 1426, 'imagine': 1427, 'teasing': 1428, \"did't\": 1429, 'j': 1430, 'damn': 1431, 'lady': 1432, 'putting': 1433, 'guide': 1434, 'giving': 1435, 'air': 1436, 'pix': 1437, 'brings': 1438, 'themob': 1439, 'uni': 1440, 'don\\x89û÷t': 1441, 'planned': 1442, 'woman': 1443, 'savamob': 1444, '00': 1445, 'noon': 1446, 'bluetooth': 1447, 'station': 1448, 'exams': 1449, 'kano': 1450, 'green': 1451, 'cheaper': 1452, '05': 1453, 'lead': 1454, 'ta': 1455, 'aftr': 1456, 'pound': 1457, 'children': 1458, 'num': 1459, 'inside': 1460, 'flag': 1461, 'alrite': 1462, 'hg': 1463, 'admirer': 1464, 'plenty': 1465, 'dey': 1466, 'remind': 1467, 'five': 1468, '40gb': 1469, '83355': 1470, 'hop': 1471, 'joke': 1472, 'kallis': 1473, 'looks': 1474, 'round': 1475, 'pilates': 1476, 'happens': 1477, 'short': 1478, 'gives': 1479, '2mrw': 1480, 'april': 1481, 'ahead': 1482, 'fyi': 1483, 'askin': 1484, 'ahmad': 1485, 'mother': 1486, 'handset': 1487, 'tyler': 1488, 'list': 1489, 'rose': 1490, 'advance': 1491, 'records': 1492, 'fetch': 1493, 'sup': 1494, \"god's\": 1495, 'brand': 1496, 'medical': 1497, 'deliver': 1498, 'hai': 1499, 'weather': 1500, 'notice': 1501, 'lover': 1502, 'babes': 1503, '80488': 1504, 'tenerife': 1505, 'hostel': 1506, 'l8r': 1507, 'gentle': 1508, 'del': 1509, 'tuesday': 1510, 'deep': 1511, 'sha': 1512, '88039': 1513, 'skilgme': 1514, 'usual': 1515, 'chinese': 1516, \"ain't\": 1517, '7pm': 1518, 'cafe': 1519, 'awake': 1520, 'bet': 1521, 'living': 1522, 'pictures': 1523, 'shoot': 1524, 'callertune': 1525, 'copy': 1526, 'sec': 1527, 'thursday': 1528, 'connection': 1529, 'meal': 1530, 'share': 1531, 'timing': 1532, \"we've\": 1533, 'spoken': 1534, 'pie': 1535, 'daily': 1536, 'idiot': 1537, 'problems': 1538, 'fantasies': 1539, '08707509020': 1540, 'waitin': 1541, \"b'day\": 1542, 'colleagues': 1543, 'bedroom': 1544, 'mood': 1545, 'cake': 1546, 'screaming': 1547, 'taken': 1548, 'loyalty': 1549, 'bye': 1550, 'theatre': 1551, 'wherever': 1552, 'pleasure': 1553, 'hanging': 1554, 'ibiza': 1555, 'unsub': 1556, 'cleaning': 1557, '3510i': 1558, '300': 1559, 'digital': 1560, 'players': 1561, 'season': 1562, '87131': 1563, 'freephone': 1564, 'inclusive': 1565, 'subscriber': 1566, 'yan': 1567, 'jiu': 1568, 'aiyah': 1569, 'porn': 1570, '24': 1571, 'btw': 1572, 'learn': 1573, 'clock': 1574, '36504': 1575, 'closed': 1576, 'including': 1577, 'fever': 1578, 'dropped': 1579, 'surprised': 1580, 'password': 1581, 'travel': 1582, 'pussy': 1583, 'dint': 1584, 'abi': 1585, 'partner': 1586, 'kept': 1587, 'space': 1588, 'wear': 1589, 'answering': 1590, 'earth': 1591, 'nvm': 1592, 'drivin': 1593, 'f': 1594, 'alert': 1595, 'dnt': 1596, 'pack': 1597, 'yun': 1598, 'voda': 1599, '08712300220': 1600, 'quoting': 1601, 'jess': 1602, 'cup': 1603, 'radio': 1604, 'expect': 1605, 'arms': 1606, 'al': 1607, 'pongal': 1608, 'possible': 1609, 'yetunde': 1610, 'mid': 1611, 'return': 1612, 'legal': 1613, 'wylie': 1614, 'menu': 1615, 'xchat': 1616, 'ma': 1617, 'fingers': 1618, '6hrs': 1619, 'campus': 1620, 'charges': 1621, 'scream': 1622, 'quality': 1623, 'callså£1': 1624, 'choice': 1625, \"u've\": 1626, 'cha': 1627, 'thatåõs': 1628, 'sing': 1629, 'flat': 1630, 'london': 1631, 'step': 1632, 'fall': 1633, 'leaves': 1634, 'ache': 1635, 'somethin': 1636, 'mite': 1637, 'donåõt': 1638, 'keeping': 1639, 'moon': 1640, 'role': 1641, 'looked': 1642, 'sunshine': 1643, 'mmm': 1644, 'ate': 1645, 'basically': 1646, 'unique': 1647, \"shouldn't\": 1648, 'intelligent': 1649, 'hill': 1650, 'ages': 1651, 'google': 1652, 'å£150': 1653, 'member': 1654, 'cbe': 1655, 'wkend': 1656, 'group': 1657, 'holding': 1658, 'expecting': 1659, 'tariffs': 1660, 'prepare': 1661, 'coins': 1662, 'black': 1663, 'nw': 1664, 'masters': 1665, 'shame': 1666, \"wat's\": 1667, 'moji': 1668, 'polyphonic': 1669, 'original': 1670, 'marriage': 1671, 'pobox84': 1672, 'english': 1673, 'oni': 1674, 'pleased': 1675, 'kerala': 1676, \"joy's\": 1677, 'process': 1678, 'common': 1679, '530': 1680, 'yogasana': 1681, 'photos': 1682, 'gorgeous': 1683, 'along': 1684, 'official': 1685, 'salary': 1686, '3g': 1687, 'lift': 1688, 'profit': 1689, '1x150p': 1690, 'obviously': 1691, 'bought': 1692, 'picked': 1693, 'skype': 1694, 'tear': 1695, 'appt': 1696, 'twice': 1697, 'ad': 1698, 'ave': 1699, 'adult': 1700, 'å£900': 1701, 'wanting': 1702, 'å£400': 1703, 'mtmsgrcvd18': 1704, '86021': 1705, 'barely': 1706, 'completely': 1707, 'walking': 1708, 'passionate': 1709, 'bloody': 1710, 'journey': 1711, 'series': 1712, 'basic': 1713, 'intro': 1714, 'competition': 1715, 'beer': 1716, 'netcollex': 1717, 'joking': 1718, 'tour': 1719, 'december': 1720, 'research': 1721, 'reasons': 1722, 'usually': 1723, 'added': 1724, 'q': 1725, 'answers': 1726, 'surely': 1727, 'smiles': 1728, 'worse': 1729, 'vomit': 1730, 'self': 1731, 'embarassed': 1732, 'selection': 1733, 'brought': 1734, 'paris': 1735, '60p': 1736, \"uk's\": 1737, 'marry': 1738, 'rem': 1739, 'schedule': 1740, 'total': 1741, 'grand': 1742, 'queen': 1743, 'sighs': 1744, 'feb': 1745, 'married': 1746, 'respect': 1747, 'weak': 1748, 'serious': 1749, 'howz': 1750, 'terms': 1751, 'accept': 1752, 'closer': 1753, 'complete': 1754, 'opportunity': 1755, 'opinion': 1756, 'fifteen': 1757, 'pg': 1758, 'pissed': 1759, \"mom's\": 1760, 'otherwise': 1761, 'sooner': 1762, 'thangam': 1763, 'roger': 1764, 'works': 1765, 'buzz': 1766, 'nights': 1767, 'flights': 1768, 'outta': 1769, 'jazz': 1770, 'under': 1771, 'contract': 1772, 'asleep': 1773, 'meetin': 1774, '28': 1775, 'ladies': 1776, 'sept': 1777, 'version': 1778, \"she'll\": 1779, 'drug': 1780, 'costs': 1781, 'receiving': 1782, 'blackberry': 1783, 'santa': 1784, 'scared': 1785, 'ru': 1786, 'excuse': 1787, 'wishes': 1788, 'replying': 1789, 'amazing': 1790, 'dirty': 1791, 'activate': 1792, 'blank': 1793, 'grl': 1794, 'cds': 1795, 'å£800': 1796, 'ppl': 1797, 'cry': 1798, 'shortly': 1799, 'ttyl': 1800, 'sky': 1801, \"aren't\": 1802, 'fullonsms': 1803, 'rush': 1804, 'vip': 1805, 'unable': 1806, 'ref': 1807, 'explain': 1808, 'iåõm': 1809, 'cover': 1810, 'upset': 1811, 'score': 1812, 'aiyar': 1813, 'city': 1814, 'tscs087147403231winawk': 1815, '50perwksub': 1816, 'seemed': 1817, 'prefer': 1818, 'sunny': 1819, 'fill': 1820, 'personal': 1821, 'com1win150ppmx3age16': 1822, '88066': 1823, 'stranger': 1824, 'released': 1825, 'italian': 1826, 'freefone': 1827, 'infernal': 1828, 'finishes': 1829, 'egg': 1830, 'remembered': 1831, 'brothas': 1832, 'moments': 1833, 'anyways': 1834, 'wc1n3xx': 1835, 'exhausted': 1836, 'normally': 1837, 'cuddle': 1838, 'shesil': 1839, 'nap': 1840, 'essential': 1841, 'running': 1842, 'considering': 1843, 'previous': 1844, 'naked': 1845, 'raise': 1846, 'rofl': 1847, 'anti': 1848, 'txtauction': 1849, 'lecture': 1850, 'elsewhere': 1851, 'followed': 1852, 'software': 1853, 'sk3': 1854, '8wp': 1855, 'moby': 1856, 'cornwall': 1857, 'bathing': 1858, 'deliveredtomorrow': 1859, '0207': 1860, 'yay': 1861, 'interview': 1862, 'hug': 1863, 'alcohol': 1864, '250': 1865, 'gautham': 1866, 'decision': 1867, 'wales': 1868, 'handle': 1869, 'album': 1870, 'instead': 1871, 'dry': 1872, 'tlp': 1873, 'apparently': 1874, 'åð': 1875, 'random': 1876, 'saved': 1877, 'shld': 1878, 'rich': 1879, '3qxj9': 1880, '08702840625': 1881, '9ae': 1882, 'feet': 1883, 'july': 1884, 'ended': 1885, 'hardcore': 1886, 'response': 1887, '4th': 1888, 'milk': 1889, 'pod': 1890, 'petrol': 1891, 'meaning': 1892, 'gap': 1893, 'w45wq': 1894, 'norm150p': 1895, 'maid': 1896, 'murderer': 1897, 'murdered': 1898, 'contents': 1899, 'child': 1900, 'dark': 1901, 'fml': 1902, 'logo': 1903, 'tick': 1904, 'changes': 1905, 'lifetime': 1906, '83600': 1907, 'deleted': 1908, 'cat': 1909, 'enuff': 1910, 'gona': 1911, 'jst': 1912, 'hella': 1913, 'ym': 1914, 'inviting': 1915, '62468': 1916, 'monthly': 1917, 'terrible': 1918, 'finishing': 1919, 'checked': 1920, 'cannot': 1921, 'vary': 1922, 'lab': 1923, 'pieces': 1924, 'ppm': 1925, 'missin': 1926, 'february': 1927, 'respond': 1928, 'indians': 1929, 'indian': 1930, 'roads': 1931, 'citizen': 1932, 'that\\x89û÷s': 1933, 'beyond': 1934, 'accordingly': 1935, 'files': 1936, 'gary': 1937, 'ptbo': 1938, 'generally': 1939, 'iouri': 1940, 'takin': 1941, 'whenevr': 1942, 'seven': 1943, 'msgrcvdhg': 1944, '18yrs': 1945, 'prabha': 1946, '2morow': 1947, 'madam': 1948, 'clear': 1949, 'tells': 1950, 'totally': 1951, 'handed': 1952, 'billed': 1953, 'flash': 1954, 'jealous': 1955, 'philosophy': 1956, 'unsold': 1957, 'singles': 1958, 'claire': 1959, 'havin': 1960, 'comedy': 1961, '80082': 1962, 'nan': 1963, 'letter': 1964, 'female': 1965, 'white': 1966, '6pm': 1967, 'walmart': 1968, 'james': 1969, 'derek': 1970, 'four': 1971, 'received': 1972, 'mths': 1973, 'thnk': 1974, 'whom': 1975, 'catching': 1976, 'songs': 1977, 'boye': 1978, 'caught': 1979, 'miracle': 1980, 'alive': 1981, 'roast': 1982, 'drinks': 1983, 'collecting': 1984, 'attend': 1985, 'arrested': 1986, 'package': 1987, 'term': 1988, 'chicken': 1989, 'cardiff': 1990, 'walls': 1991, '87239': 1992, 'result': 1993, 'burger': 1994, 'assume': 1995, 'ure': 1996, 'moms': 1997, 'likely': 1998, 'issues': 1999, 'key': 2000, 'likes': 2001, 'dislikes': 2002, '85023': 2003, 'sen': 2004, 'taunton': 2005, 'warner': 2006, 'center': 2007, 'urgnt': 2008, 'maximize': 2009, 'cc': 2010, 'w1': 2011, 'letters': 2012, 'enjoyed': 2013, 'begin': 2014, 'box97n7qp': 2015, 'sonyericsson': 2016, 'eight': 2017, 'boo': 2018, 'thru': 2019, 'created': 2020, 'vry': 2021, 'hands': 2022, 'legs': 2023, 'wnt': 2024, 'giv': 2025, 'review': 2026, 'chain': 2027, 'issue': 2028, 'pending': 2029, 'laughing': 2030, 'vava': 2031, 'playing': 2032, 'mono': 2033, '29': 2034, 'skip': 2035, 'mall': 2036, 'fix': 2037, '3gbp': 2038, \"'til\": 2039, 'thanksgiving': 2040, 'apologise': 2041, 'callin': 2042, 'confirmed': 2043, 'we\\x89û÷re': 2044, 'regret': 2045, 'kindly': 2046, 'quickly': 2047, 'tis': 2048, 'birth': 2049, 'lick': 2050, 'diff': 2051, 'fuckin': 2052, 'okey': 2053, 'police': 2054, 'tt': 2055, 'bitch': 2056, 'eng': 2057, 'ron': 2058, 'wearing': 2059, 'ip4': 2060, '5we': 2061, '150pm': 2062, 'june': 2063, '5p': 2064, 'alfie': 2065, \"moon's\": 2066, 'm8s': 2067, 'nokias': 2068, '08701417012': 2069, 'slippers': 2070, 'silent': 2071, 'ge': 2072, 'stock': 2073, 'action': 2074, 'eggs': 2075, 'contacted': 2076, 'fees': 2077, 'minmobsmorelkpobox177hp51fl': 2078, 'business': 2079, 'picture': 2080, 'def': 2081, 'experience': 2082, 'searching': 2083, 'å£4': 2084, 'wallpaper': 2085, 'avent': 2086, 'suntec': 2087, 'rule': 2088, 'argument': 2089, 'birds': 2090, 'mt': 2091, 'k52': 2092, 'shirt': 2093, '08715705022': 2094, 'innings': 2095, 'fighting': 2096, 'constantly': 2097, 'ic': 2098, 'staff': 2099, 'greetings': 2100, 'wins': 2101, 'optout': 2102, '08718727870': 2103, \"dsn't\": 2104, 'networking': 2105, 'record': 2106, 'losing': 2107, 'doors': 2108, 'gimme': 2109, 'films': 2110, 'august': 2111, 'stress': 2112, 'local': 2113, 'knackered': 2114, 'lives': 2115, 'greet': 2116, '08002986906': 2117, 'bell': 2118, 'books': 2119, '84128': 2120, '08712405020': 2121, 'scary': 2122, 'esplanade': 2123, 'credited': 2124, 'buns': 2125, 'adore': 2126, 'jordan': 2127, 'lie': 2128, 'sam': 2129, 'recd': 2130, 'o2': 2131, 'hmv': 2132, 'fran': 2133, 'bigger': 2134, 'mnth': 2135, 'file': 2136, \"'ll\": 2137, 'bday': 2138, 'played': 2139, 'miles': 2140, 'malaria': 2141, 'loss': 2142, 'meds': 2143, 'middle': 2144, 'kisses': 2145, 'wedding': 2146, 'foreign': 2147, 'stamps': 2148, '786': 2149, 'unredeemed': 2150, 'died': 2151, 'moral': 2152, 'butt': 2153, 'jason': 2154, 'dare': 2155, 'texted': 2156, 'gang': 2157, 'nature': 2158, 'faster': 2159, 'headache': 2160, 'tog': 2161, '09066362231': 2162, '07xxxxxxxxx': 2163, 'fair': 2164, 'pages': 2165, \"month's\": 2166, 'stopped': 2167, 'nat': 2168, 'ignore': 2169, 'reality': 2170, 'fantasy': 2171, 'inches': 2172, 'shot': 2173, 'subscribed': 2174, 'spk': 2175, 'aint': 2176, 'bat': 2177, 'textcomp': 2178, 'armand': 2179, 'tests': 2180, '9pm': 2181, 'carry': 2182, 'lotr': 2183, 'hint': 2184, 'american': 2185, 'caring': 2186, 'doggy': 2187, 'laid': 2188, 'stuck': 2189, 'gram': 2190, '31': 2191, 'quit': 2192, 'practice': 2193, \"blake's\": 2194, 'blah': 2195, 'crab': 2196, 'footprints': 2197, 'leona': 2198, 'mad': 2199, 'requests': 2200, 'norm': 2201, 'url': 2202, 'kick': 2203, 'accident': 2204, '09066612661': 2205, 'islands': 2206, 'darling': 2207, 'science': 2208, 'confidence': 2209, 'wer': 2210, 'plane': 2211, 'students': 2212, 'spoke': 2213, 'promises': 2214, 'apps': 2215, 'current': 2216, 'measure': 2217, 'sugar': 2218, 'ful': 2219, 'in2': 2220, 'machan': 2221, 'avatar': 2222, 'geeee': 2223, 'tom': 2224, 'dai': 2225, 'exe': 2226, 'sim': 2227, 'chatting': 2228, 'se': 2229, '89555': 2230, 'textoperator': 2231, 'settled': 2232, 'tat': 2233, 'ground': 2234, '2optout': 2235, 'sometime': 2236, 'ideas': 2237, 'wtf': 2238, 'fave': 2239, 'lines': 2240, 'sign': 2241, 'pin': 2242, \"mum's\": 2243, 'freak': 2244, '3mins': 2245, '88600': 2246, 'ibhltd': 2247, 'ldnw15h': 2248, 'evng': 2249, 'purchase': 2250, \"cann't\": 2251, 'whos': 2252, '542': 2253, 'dollars': 2254, 'perfect': 2255, 'concert': 2256, 'cw25wx': 2257, 'favourite': 2258, 'nearly': 2259, 'yeh': 2260, 'understood': 2261, 'i\\x89û÷ll': 2262, 'convey': 2263, 'turn': 2264, 'cam': 2265, 'shipping': 2266, 'hopefully': 2267, 'dave': 2268, '5000': 2269, 'tcs': 2270, 'quote': 2271, 'waste': 2272, \"let's\": 2273, '1000s': 2274, 'docs': 2275, 'cud': 2276, 'sore': 2277, 'usc': 2278, 'tm': 2279, '2moro': 2280, 'irritating': 2281, 'seem': 2282, 'downloads': 2283, 'gossip': 2284, 'arsenal': 2285, 'rang': 2286, 'subscription': 2287, 'costa': 2288, 'sol': 2289, 'sk38xh': 2290, 'knowing': 2291, 'male': 2292, '0871': 2293, 'box95qu': 2294, 'it\\x89û÷s': 2295, 'aiya': 2296, 'born': 2297, 'easier': 2298, 'auto': 2299, 'booking': 2300, 'fren': 2301, 'hl': 2302, 'invite': 2303, 'proof': 2304, 'snake': 2305, 'bite': 2306, \"week's\": 2307, 'frying': 2308, 'some1': 2309, 'medicine': 2310, 'management': 2311, '3d': 2312, '09': 2313, 'tb': 2314, 'discuss': 2315, 'bud': 2316, 'escape': 2317, 'prolly': 2318, 'teacher': 2319, 'ubi': 2320, 'everybody': 2321, 'transfer': 2322, 'dick': 2323, 'often': 2324, 'sheets': 2325, 'calicut': 2326, 'bags': 2327, 'bills': 2328, 'selfish': 2329, 'register': 2330, 'shorter': 2331, 'fringe': 2332, 'distract': 2333, 'resume': 2334, 'loans': 2335, 'purpose': 2336, 'tenants': 2337, \"there're\": 2338, 'colours': 2339, 'remains': 2340, 'bros': 2341, 'call09050000327': 2342, '4eva': 2343, 'x49': 2344, '09065989182': 2345, 'remembr': 2346, 'oru': 2347, 'callers': 2348, 'bahamas': 2349, 'sry': 2350, 'cancelled': 2351, 'str': 2352, 'option': 2353, 'oranges': 2354, 'upd8': 2355, '2stoptxt': 2356, '2go': 2357, '4a': 2358, 'hes': 2359, 'textbuddy': 2360, 'postcode': 2361, 'gaytextbuddy': 2362, '89693': 2363, 'mummy': 2364, 'affairs': 2365, 'potato': 2366, 'needed': 2367, 'nalla': 2368, '121': 2369, 'rooms': 2370, 'aah': 2371, 'lush': 2372, 'soup': 2373, 'silently': 2374, 'drms': 2375, 'kicks': 2376, '630': 2377, 'roommates': 2378, \"did'nt\": 2379, 'cabin': 2380, 'apartment': 2381, \"''ok''\": 2382, 'sed': 2383, 'minuts': 2384, 'latr': 2385, 'kidz': 2386, 'dough': 2387, 'invest': 2388, 'teeth': 2389, 'sarcasm': 2390, '81151': 2391, '4t': 2392, 'tee': 2393, 'premier': 2394, 'kent': 2395, 'vale': 2396, \"dat's\": 2397, 'fujitsu': 2398, 'toshiba': 2399, 'skyped': 2400, 'kz': 2401, 'given': 2402, 'ultimatum': 2403, 'countin': 2404, 'aburo': 2405, 'er': 2406, 'didn\\x89û÷t': 2407, 'names': 2408, 'penis': 2409, 'duchess': 2410, '008704050406': 2411, 'testing': 2412, 'figures': 2413, \"priscilla's\": 2414, 'bowl': 2415, 'desert': 2416, 'upgrade': 2417, '153': 2418, 'lik': 2419, 'donno': 2420, 'mini': 2421, 'chocolate': 2422, 'disturbing': 2423, 'goals': 2424, 'scotland': 2425, '4txt': 2426, 'traffic': 2427, \"when's\": 2428, 'due': 2429, 'coast': 2430, 'becomes': 2431, 'habit': 2432, 'follow': 2433, 'spell': 2434, 'foot': 2435, 'forgotten': 2436, 'ordered': 2437, 'processed': 2438, '2find': 2439, 'difficulties': 2440, 'jenny': 2441, 'uncles': 2442, 'atlanta': 2443, 'seconds': 2444, 'officially': 2445, 'sar': 2446, 'di': 2447, 'onwards': 2448, 'kaiez': 2449, 'pouts': 2450, 'stomps': 2451, 'blind': 2452, 'dates': 2453, '26th': 2454, 'dearly': 2455, 'rub': 2456, 'propose': 2457, 'sptv': 2458, 'detroit': 2459, 'regarding': 2460, 'rhythm': 2461, 'meets': 2462, '80182': 2463, '08452810073': 2464, 'h': 2465, 'evn': 2466, 'alwys': 2467, '9t': 2468, 'public': 2469, 'govt': 2470, 'instituitions': 2471, 'afraid': 2472, 'completed': 2473, 'joining': 2474, 'finance': 2475, 'collected': 2476, 'verify': 2477, 'hang': 2478, 'hyde': 2479, 'spook': 2480, 'subs': 2481, 'ee': 2482, 'stretch': 2483, 'vewy': 2484, 'ding': 2485, 'senthil': 2486, 'hsbc': 2487, 'lousy': 2488, 'qatar': 2489, 'allah': 2490, 'mb': 2491, 'elaine': 2492, 'module': 2493, 'throat': 2494, 'erm': 2495, 'telephone': 2496, 'planet': 2497, 'haiz': 2498, 'helen': 2499, 've': 2500, 'reboot': 2501, '910': 2502, '6months': 2503, 'morn': 2504, 'mistakes': 2505, '10k': 2506, 'tablets': 2507, 'mmmmmm': 2508, 'yummy': 2509, '09066350750': 2510, 'bootydelious': 2511, '350': 2512, 'ship': 2513, 'favorite': 2514, 'stomach': 2515, 'loose': 2516, 'weird': 2517, 'juan': 2518, 'actor': 2519, 'becoz': 2520, 'jan': 2521, 'whn': 2522, 'ofice': 2523, 'cn': 2524, 'swiss': 2525, 'crore': 2526, 'banks': 2527, 'jobs': 2528, 'lane': 2529, 'politicians': 2530, 'rights': 2531, 'fight': 2532, 'returned': 2533, 'jogging': 2534, 'os': 2535, 'installing': 2536, 'repair': 2537, 'drinkin': 2538, 'prescription': 2539, '220': 2540, 'cm2': 2541, 'bar': 2542, 'error': 2543, 'hundred': 2544, '2marrow': 2545, 'murder': 2546, 'exactly': 2547, 'unfortunately': 2548, 'uks': 2549, 'plm': 2550, 'mis': 2551, 'dining': 2552, 'asp': 2553, 'zoe': 2554, 'fan': 2555, 'sorting': 2556, 'bristol': 2557, 'flight': 2558, 'shu': 2559, 'siva': 2560, 'railway': 2561, 'moves': 2562, 'celebration': 2563, 'sells': 2564, 'mids': 2565, 'chart': 2566, 'borin': 2567, 'minmoremobsemspobox45po139wa': 2568, 'worst': 2569, 'woken': 2570, 'knock': 2571, 'tirunelvali': 2572, '0776xxxxxxx': 2573, 'selling': 2574, 'happend': 2575, 'kothi': 2576, 'doubt': 2577, 'moving': 2578, 'caroline': 2579, 'causing': 2580, 'stores': 2581, 'taylor': 2582, 'vodafone': 2583, 'ruin': 2584, 'cared': 2585, 'rays': 2586, 'diet': 2587, 'window': 2588, 'sary': 2589, 'centre': 2590, 'upload': 2591, 'bec': 2592, '2geva': 2593, 'xxxx': 2594, 'plaza': 2595, '700': 2596, '900': 2597, 'breathe': 2598, 'en': 2599, 'settings': 2600, 'chasing': 2601, 'possession': 2602, '4d': 2603, '7ish': 2604, 'racing': 2605, 'consider': 2606, 'peaceful': 2607, 'killing': 2608, '2u': 2609, 'amy': 2610, 'walked': 2611, 'abj': 2612, 'california': 2613, 'lou': 2614, 'båõday': 2615, 'tacos': 2616, 'persons': 2617, 'popcorn': 2618, 'kiosk': 2619, 'painting': 2620, 'rec': 2621, '114': 2622, '14': 2623, 'tcr': 2624, 'birla': 2625, 'soft': 2626, 'avoiding': 2627, 'msn': 2628, 'mojibiola': 2629, 'avoid': 2630, 'gender': 2631, 'usb': 2632, '1000': 2633, 'eta': 2634, 'brah': 2635, 'kidding': 2636, 'range': 2637, 'impossible': 2638, 'chill': 2639, 'tons': 2640, 'castor': 2641, 'sum1': 2642, 'contacts': 2643, 'pink': 2644, 'bck': 2645, 'color': 2646, 'incident': 2647, 'violence': 2648, 'women': 2649, 'winning': 2650, 'hoped': 2651, 'cld': 2652, 'slide': 2653, 'scold': 2654, 'chosen': 2655, 'easter': 2656, 'stops': 2657, 'necessary': 2658, 'recognise': 2659, 'thesis': 2660, 'front': 2661, 'pull': 2662, 'distance': 2663, 'speechless': 2664, 'custom': 2665, '69669': 2666, 'billion': 2667, 'kappa': 2668, 'placement': 2669, 'lions': 2670, 'lionm': 2671, 'lionp': 2672, 'lyfu': 2673, 'lyf': 2674, 'ali': 2675, 'program': 2676, 'meow': 2677, 'oi': 2678, 'makin': 2679, 'm263uz': 2680, 'print': 2681, '9ja': 2682, 'hamster': 2683, 'properly': 2684, 'advise': 2685, 'recent': 2686, 'å£1500': 2687, 'buses': 2688, 'trains': 2689, 'sit': 2690, 'rgds': 2691, 'field': 2692, 'administrator': 2693, 'iq': 2694, 'sacrifice': 2695, 'mmmm': 2696, 'licks': 2697, 'pop': 2698, 'cashbin': 2699, 'biggest': 2700, 'lido': 2701, 'dokey': 2702, 'size': 2703, 'solve': 2704, 'cook': 2705, 'cooking': 2706, 'brilliant': 2707, 'satisfy': 2708, 'randy': 2709, 'waited': 2710, 'lk': 2711, 'useful': 2712, 'stars': 2713, 'effects': 2714, 'excuses': 2715, 'beauty': 2716, 'pimples': 2717, 'yer': 2718, '84199': 2719, 'box39822': 2720, 'w111wx': 2721, 'revision': 2722, 'seriously': 2723, 'exact': 2724, 'fool': 2725, 'wise': 2726, 'howard': 2727, 'boat': 2728, 'slip': 2729, 'videophones': 2730, 'videochat': 2731, 'java': 2732, 'dload': 2733, 'noline': 2734, 'rentl': 2735, 'bx420': 2736, 'sight': 2737, 'remain': 2738, 'practical': 2739, 'rude': 2740, 'answered': 2741, 'linerental': 2742, '09058094565': 2743, 'fish': 2744, 'jokin': 2745, \"roommate's\": 2746, 'itåõs': 2747, 'tight': 2748, 'beg': 2749, '80608': 2750, 'movietrivia': 2751, '08712405022': 2752, 'oooh': 2753, 'ow': 2754, 'argue': 2755, 'pobox45w2tg150p': 2756, 'fret': 2757, 'history': 2758, 'everyday': 2759, 'canada': 2760, '2morro': 2761, 'understanding': 2762, 'lag': 2763, 'guessing': 2764, 'flaked': 2765, 'clearly': 2766, 'agree': 2767, 'ipad': 2768, 'macho': 2769, 'items': 2770, 'falls': 2771, 'swimming': 2772, 'pool': 2773, 'violated': 2774, 'morphine': 2775, 'captain': 2776, 'langport': 2777, 'goodnoon': 2778, 'spider': 2779, 'boyfriend': 2780, 'si': 2781, 'practicing': 2782, 'serving': 2783, 'yuo': 2784, 'tihs': 2785, 'valuable': 2786, 'aunt': 2787, 'nit': 2788, 'garbage': 2789, 'bishan': 2790, 'anythin': 2791, 'forevr': 2792, 'showing': 2793, 'jamster': 2794, '88888': 2795, 'telugu': 2796, '08002888812': 2797, 'gent': 2798, '09064012160': 2799, 'booty': 2800, 'floor': 2801, 'filthy': 2802, 'tree': 2803, 'tap': 2804, 'spile': 2805, 'broad': 2806, 'canal': 2807, 'gr8prizes': 2808, '80878': 2809, 'tech': 2810, 'slap': 2811, 'fell': 2812, 'stayed': 2813, '7250i': 2814, 'w1jhl': 2815, 'outstanding': 2816, 'parco': 2817, 'nb': 2818, '1030': 2819, 'hip': 2820, 'lotta': 2821, 'clearing': 2822, 'joy': 2823, 'anthony': 2824, '21870000': 2825, 'mailbox': 2826, 'messaging': 2827, '09056242159': 2828, 'retrieve': 2829, 'å£50': 2830, 'property': 2831, 'spanish': 2832, 'evry': 2833, 'ear': 2834, 'premium': 2835, '09061790121': 2836, 'bread': 2837, 'sends': 2838, 'membership': 2839, 'china': 2840, 'gn': 2841, 'guilty': 2842, 'tmrw': 2843, 'onion': 2844, 'scrounge': 2845, \"wouldn't\": 2846, 'lip': 2847, 'theres': 2848, 'infront': 2849, 'commercial': 2850, 'dorm': 2851, 'vegas': 2852, 'stays': 2853, 'i\\x89û÷m': 2854, 'wah': 2855, 'refused': 2856, \"'help'\": 2857, 'noun': 2858, 'dictionary': 2859, 'telly': 2860, 'student': 2861, 'textpod': 2862, 'depressed': 2863, 'pouch': 2864, 'curious': 2865, 'childish': 2866, 'further': 2867, 'crash': 2868, 'taxi': 2869, 'transaction': 2870, 'saucy': 2871, 'celeb': 2872, 'pocketbabe': 2873, 'tease': 2874, 'prey': 2875, 'pence': 2876, 'continue': 2877, 'select': 2878, 'benefits': 2879, 'lil': 2880, 'tomarrow': 2881, 'realize': 2882, 'goodnite': 2883, 'visionsms': 2884, 'yunny': 2885, 'cochin': 2886, 'oic': 2887, 'settle': 2888, 'runs': 2889, 'blame': 2890, 'expressoffer': 2891, 'difference': 2892, 'keeps': 2893, 'reckon': 2894, 'transport': 2895, 'temp': 2896, 'prospects': 2897, 'ringtoneking': 2898, 'messy': 2899, 'throw': 2900, 'superb': 2901, \"hasn't\": 2902, 'gently': 2903, 'hrishi': 2904, 'cookies': 2905, 'xxxmobilemovieclub': 2906, 'named': 2907, 'buff': 2908, 'massive': 2909, '45239': 2910, 'yor': 2911, 'tank': 2912, '2007': 2913, 'phoned': 2914, 'boston': 2915, 'location': 2916, 'nyc': 2917, 'exciting': 2918, \"1000's\": 2919, '4fil': 2920, 'allowed': 2921, 'perhaps': 2922, 'craziest': 2923, 'adventure': 2924, 'appreciated': 2925, 'broken': 2926, 'subpoly': 2927, '81618': 2928, 'hm': 2929, 'flies': 2930, 'earn': 2931, 'bc': 2932, 'jiayin': 2933, 'karaoke': 2934, 'pushes': 2935, 'renewal': 2936, 'geeeee': 2937, 'inconsiderate': 2938, 'nag': 2939, 'recession': 2940, 'hence': 2941, 'xuhui': 2942, '8am': 2943, 'cream': 2944, 'nasty': 2945, 'slo': 2946, 'aka': 2947, 'xavier': 2948, 'three': 2949, 'mails': 2950, 'wee': 2951, 'desparate': 2952, 'fake': 2953, 'gravity': 2954, 'carefully': 2955, 'speaking': 2956, 'networks': 2957, 'accidentally': 2958, 'helpline': 2959, '08706091795': 2960, 'spending': 2961, 'spoiled': 2962, 'jsco': 2963, 'cashto': 2964, '08000407165': 2965, 'getstop': 2966, '88222': 2967, 'php': 2968, 'market': 2969, 'hv': 2970, 'lacs': 2971, 'sweetie': 2972, 'cust': 2973, 'epsilon': 2974, 'ovulation': 2975, 'edge': 2976, 'sac': 2977, 'messaged': 2978, 'bringing': 2979, 'department': 2980, 'fathima': 2981, 'cares': 2982, 'ben': 2983, 'dubsack': 2984, 'batch': 2985, 'thm': 2986, 'boost': 2987, 'drinking': 2988, 'gain': 2989, 'demand': 2990, 'husband': 2991, 'creepy': 2992, 'inform': 2993, 'application': 2994, 'airtel': 2995, 'bbd': 2996, 'community': 2997, 'thoughts': 2998, 'spare': 2999, '24hrs': 3000, 'channel': 3001, 'standing': 3002, 'locations': 3003, 'largest': 3004, 'ec2a': 3005, '31p': 3006, 'aww': 3007, 'bruce': 3008, '40533': 3009, 'gudnite': 3010, 'minor': 3011, 'crisis': 3012, 'av': 3013, 'status': 3014, 'mcat': 3015, 'specific': 3016, 'waves': 3017, 'cleared': 3018, '125gift': 3019, 'shock': 3020, 'frndship': 3021, 'arts': 3022, 'tms': 3023, 'widelive': 3024, 'index': 3025, 'wml': 3026, 'maga': 3027, '09061213237': 3028, '177': 3029, 'm227xy': 3030, 'toot': 3031, 'theory': 3032, 'setting': 3033, 'indicate': 3034, 'west': 3035, '08000776320': 3036, 'envelope': 3037, 'luxury': 3038, 'canary': 3039, 'doc': 3040, 'hubby': 3041, 'technical': 3042, 'flip': 3043, 'mnths': 3044, 'callback': 3045, 'nus': 3046, 'edu': 3047, 'height': 3048, 'wrk': 3049, 'sleepin': 3050, 'tirupur': 3051, 'belovd': 3052, '08718738001': 3053, 'nichols': 3054, 'actual': 3055, '08718726270': 3056, 'blessings': 3057, 'sipix': 3058, '09061221066': 3059, 'fromm': 3060, 'sweetheart': 3061, 'stones': 3062, 'atlast': 3063, 'diamonds': 3064, 'screamed': 3065, '83383': 3066, 'talks': 3067, 'ericsson': 3068, '2waxsto': 3069, 'major': 3070, 'cuddling': 3071, 'yck': 3072, 'opinions': 3073, 'downloaded': 3074, 'mystery': 3075, 'jolt': 3076, 'suzy': 3077, 'low': 3078, '7250': 3079, 'hunny': 3080, 'xxxxx': 3081, 'addie': 3082, 'develop': 3083, 'drunk': 3084, 'necessarily': 3085, 'shut': 3086, 'nahi': 3087, 'zindgi': 3088, 'wo': 3089, 'jo': 3090, 'talent': 3091, '08700621170150p': 3092, 'g696ga': 3093, 'dancing': 3094, 'table': 3095, 'constant': 3096, 'regards': 3097, 'idk': 3098, 'miserable': 3099, 'control': 3100, 'cramps': 3101, 'impatient': 3102, 'explicit': 3103, 'secs': 3104, '02073162414': 3105, 'concentrate': 3106, 'career': 3107, 'farm': 3108, 'durban': 3109, 'web': 3110, '2stop': 3111, 'stick': 3112, 'indeed': 3113, '89545': 3114, '087187262701': 3115, '50gbp': 3116, 'mtmsg18': 3117, 'regular': 3118, 'appointment': 3119, 'position': 3120, 'melt': 3121, 'sunlight': 3122, '80086': 3123, 'txttowin': 3124, 'jacket': 3125, 'held': 3126, 'value': 3127, 'realized': 3128, 'interflora': 3129, 'express': 3130, 'effect': 3131, 'apart': 3132, 'fit': 3133, 'dollar': 3134, 'turning': 3135, 'revealed': 3136, 'nervous': 3137, 'flirting': 3138, 'bloke': 3139, 'hol': 3140, 'havenåõt': 3141, 'roommate': 3142, 'exeter': 3143, 'wkg': 3144, 'favour': 3145, 'tension': 3146, 'royal': 3147, 'birthdate': 3148, 'dr': 3149, 'fo': 3150, \"everybody's\": 3151, 'peace': 3152, 'jesus': 3153, 'ikea': 3154, 'among': 3155, 'mess': 3156, 'pole': 3157, 'reg': 3158, 'audition': 3159, 'eek': 3160, 'singing': 3161, '0578': 3162, 'abta': 3163, 'cooked': 3164, '30ish': 3165, 'toa': 3166, 'payoh': 3167, 'piss': 3168, 'realise': 3169, 'snowman': 3170, 'convincing': 3171, 'fly': 3172, 'sumthin': 3173, 'lucy': 3174, 'kadeem': 3175, 'results': 3176, 'euro': 3177, 'relation': 3178, 'swatch': 3179, 'prepared': 3180, 'rcv': 3181, 'lies': 3182, 'twelve': 3183, 'treated': 3184, 'nimya': 3185, 'heater': 3186, 'vodka': 3187, '2000': 3188, 'agalla': 3189, 'polo': 3190, 'suite': 3191, '373': 3192, 'w1j': 3193, '6hl': 3194, 'wipro': 3195, 'connections': 3196, 'admin': 3197, '2wks': 3198, 'cheese': 3199, 'weirdest': 3200, 'txt82228': 3201, 'wifi': 3202, '40': 3203, '09061743806': 3204, 'box326': 3205, 'speed': 3206, 'speedchat': 3207, 'pobox36504w45wq': 3208, '09065171142': 3209, 'stopsms': 3210, 'thousands': 3211, 'supply': 3212, 'smokes': 3213, 'begging': 3214, '200': 3215, 'smith': 3216, 'ey': 3217, 'up4': 3218, 'enemy': 3219, 'ranjith': 3220, '5min': 3221, 'bless': 3222, 'manage': 3223, 'delivered': 3224, 'bears': 3225, 'vth': 3226, 'messenger': 3227, 'opening': 3228, 'bloomberg': 3229, 'urn': 3230, 'combine': 3231, 'secretary': 3232, 'engin': 3233, 'football': 3234, 'desperate': 3235, 'capital': 3236, 'trade': 3237, 'salon': 3238, 'decisions': 3239, 'mental': 3240, 'switch': 3241, 'sweets': 3242, 'picsfree1': 3243, 'vid': 3244, 'surfing': 3245, 'six': 3246, 'jane': 3247, 'newest': 3248, 'funky': 3249, '82468': 3250, 'moved': 3251, 'goal': 3252, 'henry': 3253, 'liverpool': 3254, 'scores': 3255, 'thgt': 3256, 'force': 3257, 'confused': 3258, 'pig': 3259, 'bleh': 3260, 'expression': 3261, 'shy': 3262, 'lovable': 3263, 'welp': 3264, 'flaky': 3265, 'parent': 3266, '09050003091': 3267, 'c52': 3268, 'ola': 3269, 'nd': 3270, 'argh': 3271, 'places': 3272, 'probs': 3273, '09050090044': 3274, 'toclaim': 3275, 'pobox334': 3276, 'stockport': 3277, 'costå£1': 3278, 'max10mins': 3279, 'jeans': 3280, 'gbp': 3281, 'strange': 3282, 'pre': 3283, 'smoking': 3284, 'paperwork': 3285, '08709222922': 3286, '8p': 3287, 'peak': 3288, 'coping': 3289, 'individual': 3290, 'fights': 3291, \"jay's\": 3292, 'galileo': 3293, 'lately': 3294, '08': 3295, 'divorce': 3296, 'wave': 3297, 'charles': 3298, 'uh': 3299, 'faggy': 3300, 'm26': 3301, '3uz': 3302, '86888': 3303, 'subscribe6gbp': 3304, '3hrs': 3305, 'txtstop': 3306, 'bright': 3307, 'flower': 3308, 'ruining': 3309, 'blu': 3310, 'smsco': 3311, 'keys': 3312, '88877': 3313, 'topic': 3314, 'ba': 3315, 'dress': 3316, 'sleepy': 3317, 'ques': 3318, 'suits': 3319, 'fastest': 3320, 'growing': 3321, 'privacy': 3322, 'listening': 3323, 'lounge': 3324, '87575': 3325, 'sake': 3326, 'sorted': 3327, 'idea': 3328, 'building': 3329, 'coat': 3330, 'tool': 3331, 'adoring': 3332, 'panic': 3333, 'å£1450': 3334, 'partnership': 3335, 'arent': 3336, 'slightly': 3337, 'wud': 3338, 'gentleman': 3339, 'dignity': 3340, 'thread': 3341, '69698': 3342, 'map': 3343, 'sachin': 3344, 'dealing': 3345, 'andros': 3346, 'shoes': 3347, 'behave': 3348, 'relatives': 3349, 'anywhere': 3350, 'praying': 3351, 'eighth': 3352, 'l': 3353, 'oz': 3354, 'genius': 3355, '15': 3356, 'ps': 3357, 'bang': 3358, 'sarcastic': 3359, 'language': 3360, 'members': 3361, 'tscs': 3362, 'skillgame': 3363, '1winaweek': 3364, '150ppermesssubscription': 3365, 'juicy': 3366, 'papers': 3367, 'convinced': 3368, 'gotten': 3369, 'tues': 3370, 'wks': 3371, 'bottom': 3372, '872': 3373, 'eaten': 3374, 'lovers': 3375, 'sender': 3376, 'sn': 3377, 'attached': 3378, 'valid12hrs': 3379, 'nitros': 3380, 'schools': 3381, 'bids': 3382, 'neck': 3383, 'include': 3384, 'discussed': 3385, 'poop': 3386, 'affair': 3387, 'goldviking': 3388, '762': 3389, 'darlings': 3390, 'modules': 3391, 'touched': 3392, 'lux': 3393, 'oil': 3394, 'tape': 3395, 'cross': 3396, 'ntwk': 3397, 'despite': 3398, 'txtin': 3399, '4info': 3400, 'truly': 3401, 'deus': 3402, \"that'll\": 3403, 'csbcm4235wc1n3xx': 3404, 'maxå£7': 3405, 'site': 3406, 'hugs': 3407, 'snogs': 3408, 'beloved': 3409, 'voicemail': 3410, 'dresser': 3411, 'wld': 3412, 'meanwhile': 3413, 'inch': 3414, 'academic': 3415, 'executive': 3416, 'calculation': 3417, 'killed': 3418, 'bein': 3419, 'lonely': 3420, 'math': 3421, 'germany': 3422, '85': 3423, 'dime': 3424, 'sue': 3425, 'thot': 3426, '4mths': 3427, 'mobilesdirect': 3428, '08000938767': 3429, 'or2stoptxt': 3430, 'suggest': 3431, 'electricity': 3432, 'passed': 3433, 'prof': 3434, 'sem': 3435, 'lov': 3436, 'transfered': 3437, 'shoppin': 3438, 'ability': 3439, 'slice': 3440, 'holy': 3441, 'condition': 3442, '0': 3443, 'dan': 3444, 'teaches': 3445, 'conducts': 3446, 'ne': 3447, 'interesting': 3448, 'hor': 3449, 'definite': 3450, 'donate': 3451, 'denis': 3452, 'forums': 3453, '26': 3454, 'lookatme': 3455, 'symbol': 3456, 'upto': 3457, 'delay': 3458, 'wrc': 3459, 'rally': 3460, 'lucozade': 3461, 'randomly': 3462, 'fav': 3463, 'huge': 3464, 'supervisor': 3465, 'annoying': 3466, '08712402050': 3467, '10ppm': 3468, 'ag': 3469, 'promo': 3470, 'sports': 3471, 'ansr': 3472, 'tyrone': 3473, '41685': 3474, '07': 3475, 'unemployed': 3476, 'pan': 3477, '2p': 3478, 'mumtaz': 3479, \"mumtaz's\": 3480, 'postcard': 3481, 'bottle': 3482, 'arcade': 3483, 'cme': 3484, 'visa': 3485, 'gucci': 3486, '08712402779': 3487, 'sometext': 3488, 'motivating': 3489, 'sharing': 3490, 'atm': 3491, 'cupboard': 3492, 'length': 3493, 'restocked': 3494, 'promotion': 3495, '8714714': 3496, 'noworriesloans': 3497, '08717111821': 3498, \"guy's\": 3499, 'darker': 3500, 'styling': 3501, 'tagged': 3502, 'count': 3503, 'whether': 3504, 'western': 3505, 'smell': 3506, 'tobacco': 3507, 'bro': 3508, 'amongst': 3509, '087147123779am': 3510, '08712402902': 3511, 'recharged': 3512, 'piggy': 3513, 'pansy': 3514, 'jungle': 3515, 'africa': 3516, 'avin': 3517, 'silver': 3518, 'truro': 3519, 'ext': 3520, 'completing': 3521, 'league': 3522, 'ambrith': 3523, 'madurai': 3524, 'arun': 3525, 'dha': 3526, 'marrge': 3527, \"'melle\": 3528, 'melle': 3529, 'minnaminunginte': 3530, 'nurungu': 3531, 'vettam': 3532, 'callfreefone': 3533, '08081560665': 3534, 'cruise': 3535, 'ofå£2000': 3536, '07786200117': 3537, '85233': 3538, 'å£12': 3539, '08718738002': 3540, '48922': 3541, 'stands': 3542, 'nitz': 3543, \"no's\": 3544, 'cosign': 3545, 'refund': 3546, 'onbus': 3547, 'donyt': 3548, 'latelyxxx': 3549, 'handsome': 3550, 'finding': 3551, 'goodo': 3552, 'ratio': 3553, 'tortilla': 3554, 'attracts': 3555, 'bluray': 3556, 'hack': 3557, 'backdoor': 3558, 'fraction': 3559, 'neo69': 3560, '09050280520': 3561, 'subscribe': 3562, 'dps': 3563, 'bcm': 3564, '8027': 3565, 'survey': 3566, 'habba': 3567, 'fumbling': 3568, \"harish's\": 3569, 'transfred': 3570, 'acnt': 3571, 'unni': 3572, 'recharge': 3573, 'fried': 3574, 'spares': 3575, 'looovvve': 3576, 'ip': 3577, 'minecraft': 3578, 'server': 3579, 'puttin': 3580, 'suggestion': 3581, 'lands': 3582, 'helps': 3583, 'forgt': 3584, 'toyota': 3585, 'camry': 3586, \"olayiwola's\": 3587, 'mileage': 3588, 'landing': 3589, 'betta': 3590, 'aging': 3591, 'products': 3592, 'paining': 3593, 'corect': 3594, 'speling': 3595, 'nokia6650': 3596, 'ctxt': 3597, 'mtmsg': 3598, 'cheery': 3599, 'ibm': 3600, 'hp': 3601, 'limping': 3602, 'aa': 3603, 'exhaust': 3604, 'chillaxin': 3605, 'designation': 3606, 'developer': 3607, '09066649731from': 3608, 'arrow': 3609, 'stil': 3610, 'fucked': 3611, 'tobed': 3612, '430': 3613, 'pathaya': 3614, 'enketa': 3615, 'maraikara': 3616, \"pa'\": 3617, 'gosh': 3618, 'spose': 3619, 'piece': 3620, 'salad': 3621, 'beers': 3622, '44': 3623, '7732584351': 3624, '9996': 3625, '14thmarch': 3626, 'availa': 3627, 'ignoring': 3628, 'bluff': 3629, 'squeeeeeze': 3630, 'frndshp': 3631, 'luvd': 3632, 'envy': 3633, \"see's\": 3634, 'scorable': 3635, 'dying': 3636, 'snap': 3637, 'quizclub': 3638, '80122300p': 3639, 'rwm': 3640, 'ph': 3641, '08704050406': 3642, 'supose': 3643, 'babysit': 3644, '84025': 3645, 'web2mobile': 3646, 'txt250': 3647, 'box139': 3648, 'la32wu': 3649, 'txtx': 3650, 'approve': 3651, 'panalam': 3652, 'posts': 3653, 'yah': 3654, 'simpler': 3655, 'magical': 3656, 'maggi': 3657, 'mee': 3658, 'rob': 3659, 'mack': 3660, 'gf': 3661, 'theater': 3662, 'macedonia': 3663, 'ì¼1': 3664, 'poboxox36504w45wq': 3665, 'victoria': 3666, 'island': 3667, 'postponed': 3668, 'stocked': 3669, 'logging': 3670, 'geoenvironmental': 3671, 'implications': 3672, 'east': 3673, 'washob': 3674, 'nobbing': 3675, 'nickey': 3676, 'platt': 3677, 'recpt': 3678, 'pose': 3679, 'comb': 3680, 'dryer': 3681, 'youi': 3682, '0789xxxxxxx': 3683, 'errors': 3684, 'correction': 3685, 'bffs': 3686, 'carly': 3687, 'cruisin': 3688, 'gower': 3689, 'åômorrow': 3690, 'philosophical': 3691, 'hole': 3692, 'nightnight': 3693, 'youdoing': 3694, 'physics': 3695, 'abbey': 3696, 'newspapers': 3697, 'esaplanade': 3698, '0845': 3699, '2814032': 3700, '3xå£150pw': 3701, 'eå£nd': 3702, 'referin': 3703, \"mei's\": 3704, '0808': 3705, '145': 3706, '4742': 3707, '9am': 3708, '11pm': 3709, 'gotto': 3710, '220cm2': 3711, 'church': 3712, 'olympics': 3713, 'beta': 3714, 'needy': 3715, 'drizzling': 3716, 'rodds1': 3717, 'aberdeen': 3718, 'united': 3719, 'kingdom': 3720, 'img': 3721, 'icmb3cktz8r7': 3722, 'hide': 3723, \"phone's\": 3724, 'vibrate': 3725, 'acting': 3726, 'i\\x89û÷ve': 3727, 'salt': 3728, 'wounds': 3729, 'copied': 3730, '69200': 3731, 'chrgd': 3732, '2exit': 3733, 'dizzamn': 3734, 'suitemates': 3735, 'powerful': 3736, 'weapon': 3737, 'occupy': 3738, \"'heart'\": 3739, 'jersey': 3740, 'devils': 3741, 'wings': 3742, 'hockey': 3743, 'incorrect': 3744, 'beerage': 3745, 'commit': 3746, 'establish': 3747, 'ree': 3748, 'pump': 3749, 'dump': 3750, 'heap': 3751, 'lowes': 3752, 'justbeen': 3753, 'overa': 3754, 'brains': 3755, 'mush': 3756, 'reception': 3757, 'luton': 3758, '0125698789': 3759, 'corporation': 3760, \"fr'ndship\": 3761, 'needle': 3762, 'itz': 3763, '4few': 3764, 'conected': 3765, 'explicitly': 3766, 'nora': 3767, 'teenager': 3768, 'degree': 3769, 'famamus': 3770, 'suffering': 3771, 'dysentry': 3772, 'stairs': 3773, 'phews': 3774, 'french': 3775, 'fooled': 3776, 'mix': 3777, '85069': 3778, 'usher': 3779, 'britney': 3780, 'westshore': 3781, 'halloween': 3782, 'eerie': 3783, '08701417012150p': 3784, 'yellow': 3785, 'expired': 3786, 'monoc': 3787, 'monos': 3788, 'polyc': 3789, 'stream': 3790, '0871212025016': 3791, 'nothin': 3792, 'hanger': 3793, 'poortiyagi': 3794, 'odalebeku': 3795, 'hanumanji': 3796, 'hanuman': 3797, 'bajarangabali': 3798, 'maruti': 3799, 'pavanaputra': 3800, 'sankatmochan': 3801, 'ramaduth': 3802, 'mahaveer': 3803, 'janarige': 3804, 'ivatte': 3805, 'kalisidare': 3806, 'olage': 3807, 'ondu': 3808, 'keluviri': 3809, 'maretare': 3810, 'inde': 3811, 'dodda': 3812, 'problum': 3813, 'nalli': 3814, 'siguviri': 3815, 'idu': 3816, 'matra': 3817, 'neglet': 3818, 'club4mobiles': 3819, '87070': 3820, 'club4': 3821, 'box1146': 3822, 'mk45': 3823, '2wt': 3824, 'iphone': 3825, 'congratulation': 3826, 'lubly': 3827, 'fassyole': 3828, 'blacko': 3829, 'londn': 3830, 'freezing': 3831, 'craving': 3832, 'blogging': 3833, 'magicalsongs': 3834, 'blogspot': 3835, 'onam': 3836, 'sirji': 3837, 'insha': 3838, 'tata': 3839, 'aig': 3840, 'tissco': 3841, 'tayseer': 3842, 'garments': 3843, 'shirts': 3844, 'nudist': 3845, 'themed': 3846, 'grab': 3847, 'cultures': 3848, 'everyones': 3849, 'babysitting': 3850, 'woodland': 3851, 'avenue': 3852, 'parish': 3853, 'magazine': 3854, 'ijust': 3855, 'talked': 3856, 'skint': 3857, 'fancied': 3858, 'bevies': 3859, 'waz': 3860, 'othrs': 3861, 'spoon': 3862, 'watchng': 3863, 'comfey': 3864, \"aunty's\": 3865, 'affidavit': 3866, 'twiggs': 3867, 'division': 3868, 'courtroom': 3869, 'weekdays': 3870, 'nails': 3871, 'tddnewsletter': 3872, 'emc1': 3873, 'thedailydraw': 3874, 'dozens': 3875, 'prizeswith': 3876, 'wisheds': 3877, 'goigng': 3878, 'perfume': 3879, 'lyricalladie': 3880, 'hmmross': 3881, 'pleasant': 3882, 'statements': 3883, '09064018838': 3884, 'cro1327': 3885, \"all's\": 3886, '09058094455': 3887, 'goggles': 3888, 'cloth': 3889, 'anybody': 3890, 'asks': 3891, 'arabian': 3892, 'steed': 3893, 'giggle': 3894, 'possibly': 3895, 'person2die': 3896, 'nvq': 3897, '32': 3898, 'squeezed': 3899, '08002986030': 3900, '7548': 3901, '4041': 3902, '2hrs': 3903, 'oyster': 3904, 'sashimi': 3905, 'rumbling': 3906, 'bird': 3907, 'purchases': 3908, 'magic': 3909, 'northampton': 3910, 'presents': 3911, 'nicky': 3912, 'womdarfull': 3913, 'mushy': 3914, 'embarrassed': 3915, 'hundreds': 3916, 'handsomes': 3917, 'beauties': 3918, 'aunties': 3919, 'apology': 3920, 'scarcasim': 3921, 'duffer': 3922, \"dip's\": 3923, 'pee': 3924, 'burns': 3925, 'directors': 3926, 'lac': 3927, 'deposited': 3928, \"'taxless'\": 3929, 'delhi': 3930, 'suply': 3931, 'projects': 3932, 'imf': 3933, 'blocked': 3934, 'corrupt': 3935, 'itna': 3936, 'karo': 3937, 'ki': 3938, 'pura': 3939, 'padhe': 3940, 'apes': 3941, 'death': 3942, 'period': 3943, 'guai': 3944, 'ubandu': 3945, 'disk': 3946, 'dancin': 3947, 'grr': 3948, 'pharmacy': 3949, 'split': 3950, \"ryan's\": 3951, 'resent': 3952, 'failed': 3953, 'queries': 3954, 'customersqueries': 3955, 'netvision': 3956, 'arguing': 3957, 'catches': 3958, 'wallet': 3959, 'linear': 3960, 'algebra': 3961, 'gray': 3962, 'listn': 3963, 'watevr': 3964, 'bangbabes': 3965, 'bangb': 3966, 'brother\\x89û÷s': 3967, 'scraped': 3968, 'barrel': 3969, 'misfits': 3970, 'seventeen': 3971, 'ml': 3972, 'listed': 3973, '08715500022': 3974, 'rpl': 3975, 'cnl': 3976, '2nights': 3977, 'uve': 3978, 'wildest': 3979, 'presnts': 3980, 'bcz': 3981, 'jeevithathile': 3982, 'irulinae': 3983, 'neekunna': 3984, 'prakasamanu': 3985, 'sneham': 3986, 'prakasam': 3987, 'ennal': 3988, \"'that\": 3989, 'mns': 3990, \"is'love'\": 3991, 'experiencehttp': 3992, 'vouch4me': 3993, 'etlp': 3994, 'shitin': 3995, 'defo': 3996, 'hardest': 3997, 'millions': 3998, 'lekdog': 3999, 'confuses': 4000, 'doesn\\x89û÷t': 4001, 'narcotics': 4002, 'buttons': 4003, 'rats': 4004, 'themes': 4005, 'guild': 4006, 'singapore': 4007, 'tats': 4008, 'copies': 4009, 'urgh': 4010, 'coach': 4011, 'smells': 4012, 'chip': 4013, 'duvet': 4014, 'predictive': 4015, 'fortune': 4016, 'healthy': 4017, 'alibi': 4018, 'cutting': 4019, 'snickering': 4020, 'chords': 4021, 'requirements': 4022, 'mega': 4023, 'asda': 4024, 'counts': 4025, \"ashley's\": 4026, 'shortcode': 4027, '83332': 4028, '08081263000': 4029, 'refunded': 4030, 'evo': 4031, 'gibbs': 4032, 'mike': 4033, 'hussey': 4034, 'lara': 4035, '09099725823': 4036, 'poorly': 4037, 'punishment': 4038, 'brb': 4039, 'kill': 4040, 'ahhhh': 4041, 'whose': 4042, 'tkls': 4043, 'stoptxtstopå£1': 4044, 'reserve': 4045, 'thirunelvali': 4046, 'tackle': 4047, 'quiteamuzing': 4048, 'thatåõscool': 4049, 'hen': 4050, '8pm': 4051, 'printer': 4052, 'groovy': 4053, 'groovying': 4054, 'practising': 4055, 'curtsey': 4056, 'gota': 4057, 'responce': 4058, 'yalrigu': 4059, 'heltini': 4060, 'iyo': 4061, 'shared': 4062, 'uttered': 4063, 'trusting': 4064, 'hu': 4065, 'preferably': 4066, 'smart': 4067, 'navigate': 4068, 'choosing': 4069, 'require': 4070, 'guidance': 4071, \"finn's\": 4072, 'lamp': 4073, 'cps': 4074, 'outages': 4075, 'conserve': 4076, 'kilos': 4077, 'fudge': 4078, 'oreos': 4079, 'farting': 4080, 'chit': 4081, 'logon': 4082, '8883': 4083, 'cm': 4084, '4217': 4085, 'w1a': 4086, '6zf': 4087, '118p': 4088, 'mouse': 4089, 'desk': 4090, '0089': 4091, 'digits': 4092, '09063442151': 4093, 'foward': 4094, 'icic': 4095, 'necesity': 4096, 'witout': 4097, \"hw'd\": 4098, 'colleg': 4099, \"wat'll\": 4100, 'wth': 4101, 'functions': 4102, 'events': 4103, \"espe'll\": 4104, 'irritated': 4105, '4wrd': 4106, 'wthout': 4107, 'takecare': 4108, 'sayy': 4109, 'cards': 4110, 'impressed': 4111, 'funs': 4112, 'secretly': 4113, 'fancies': 4114, '09065394514': 4115, 'datebox1282essexcm61xn': 4116, 'bay': 4117, 'flew': 4118, 'anna': 4119, 'nagar': 4120, 'starshine': 4121, 'sips': 4122, 'cappuccino': 4123, 'tim': 4124, 'bollox': 4125, 'tol': 4126, 'clarification': 4127, '2u2': 4128, 'wuld': 4129, 'everyboy': 4130, 'xxxxxxxx': 4131, 'ofcourse': 4132, 'brum': 4133, 'torrents': 4134, 'particularly': 4135, 'slowing': 4136, 'apologetic': 4137, 'fallen': 4138, 'actin': 4139, 'spoilt': 4140, 'badly': 4141, 'temple': 4142, 'weåõve': 4143, 'mint': 4144, 'hype': 4145, 'studio': 4146, 'bedrm': 4147, 'young': 4148, 'dawns': 4149, 'refreshed': 4150, 'howda': 4151, 'mathe': 4152, 'samachara': 4153, 'iåõd': 4154, 'configure': 4155, 'perpetual': 4156, 'dd': 4157, 'rounds': 4158, 'payasam': 4159, 'rinu': 4160, 'closes': 4161, '54': 4162, 'resubmit': 4163, 'expiry': 4164, 'horse': 4165, 'rice': 4166, 'lighters': 4167, 'receipts\\x89ûówell': 4168, 'what\\x89û÷s': 4169, 'bunkers': 4170, '1172': 4171, 'removal': 4172, '08708034412': 4173, 'pride': 4174, 'kid': 4175, 'grownup': 4176, '09058095201': 4177, 'mobs': 4178, 'title': 4179, 'breathe1': 4180, 'titles': 4181, 'crazyin': 4182, 'sleepingwith': 4183, 'finest': 4184, 'ymca': 4185, 'pobox365o4w45wq': 4186, '300p': 4187, 'stagwood': 4188, 'winterstone': 4189, 'victors': 4190, 'mittelschmertz': 4191, 'paracetamol': 4192, 'manageable': 4193, 'cedar': 4194, 'lancaster': 4195, 'neway': 4196, 'couldnåõt': 4197, '08717898035': 4198, 'mentor': 4199, 'percent': 4200, 'sonathaya': 4201, 'soladha': 4202, 'srs': 4203, 'crucial': 4204, \"someone's\": 4205, 'sabarish': 4206, '83118': 4207, 'colin': 4208, 'farrell': 4209, 'swat': 4210, 'med': 4211, 'mre': 4212, 'jackson': 4213, 'coveragd': 4214, 'vasai': 4215, \"4'o\": 4216, 'broth': 4217, 'ramen': 4218, 'tightly': 4219, 'sindu': 4220, 'shell': 4221, 'unconsciously': 4222, 'unhappy': 4223, '08712103738': 4224, 'i\\x89ûªm': 4225, 'isn\\x89ûªt': 4226, 'thinked': 4227, 'swan': 4228, 'rimac': 4229, 'inshah': 4230, '08719839835': 4231, 'mgs': 4232, '89123': 4233, 'weirdo': 4234, 'hotmail': 4235, 'burial': 4236, 'ashwini': 4237, '24m': 4238, 'jontin': 4239, '09066362220': 4240, 'supports': 4241, 'srt': 4242, 'ps3': 4243, 'hf8': 4244, 'prestige': 4245, 'imin': 4246, 'dontmatter': 4247, 'urgoin': 4248, 'outl8r': 4249, 'formatting': 4250, 'punish': 4251, 'okday': 4252, 'checkmate': 4253, 'chess': 4254, 'persian': 4255, 'phrase': 4256, 'shah': 4257, 'maat': 4258, 'pleasured': 4259, 'videos': 4260, 'shsex': 4261, 'netun': 4262, 'fgkslpopw': 4263, 'fgkslpo': 4264, 'papa': 4265, 'appendix': 4266, 'paypal': 4267, 'voila': 4268, 'pockets': 4269, 'infra': 4270, 'btwn': 4271, 'gaps': 4272, 'funeral': 4273, 'audrey': 4274, '0796xxxxxx': 4275, 'prizeawaiting': 4276, 'olave': 4277, 'mandara': 4278, 'trishul': 4279, 'purple': 4280, 'lyk': 4281, 'yelow': 4282, 'brown': 4283, 'surly': 4284, 'belongs': 4285, 'fated': 4286, 'shoranur': 4287, 'fuelled': 4288, 'concern': 4289, 'prior': 4290, 'grief': 4291, 'board': 4292, 'overheating': 4293, 'reslove': 4294, 'inst': 4295, \"8'o\": 4296, 'tooo': 4297, \"'simple'\": 4298, 'nte': 4299, 'dang': 4300, 'regretted': 4301, 'boltblue': 4302, 'poly3': 4303, 'jamz': 4304, 'toxic': 4305, 'mandy': 4306, 'sullivan': 4307, 'hotmix': 4308, 'fm': 4309, '09041940223': 4310, 'transferred': 4311, 'real1': 4312, 'pushbutton': 4313, 'dontcha': 4314, 'babygoodbye': 4315, 'golddigger': 4316, 'webeburnin': 4317, 'shitstorm': 4318, 'attributed': 4319, 'easily': 4320, 'lengths': 4321, 'behalf': 4322, 'stunning': 4323, 'chase': 4324, 'crossing': 4325, \"anybody's\": 4326, 'tactful': 4327, 'lightly': 4328, 'checkboxes': 4329, 'gprs': 4330, 'leo': 4331, '515': 4332, 'classes': 4333, 'sparkling': 4334, 'breaks': 4335, '45': 4336, '0121': 4337, '2025050': 4338, 'shortbreaks': 4339, 'org': 4340, 'univ': 4341, 'dileep': 4342, 'muchand': 4343, 'venugopal': 4344, 'mentioned': 4345, 'openings': 4346, 'upcharge': 4347, 'yalru': 4348, 'astne': 4349, 'innu': 4350, 'mundhe': 4351, 'halla': 4352, 'ke': 4353, 'bilo': 4354, 'edhae': 4355, 'ovr': 4356, 'vargu': 4357, 'ami': 4358, 'parchi': 4359, 'kicchu': 4360, 'kaaj': 4361, 'korte': 4362, 'iccha': 4363, 'korche': 4364, 'tul': 4365, 'hangin': 4366, 'marandratha': 4367, 'teju': 4368, 'ilol': 4369, 'personally': 4370, 'wuldnt': 4371, 'haiyoh': 4372, 'million': 4373, 'invitation': 4374, 'cali': 4375, \"bloke's\": 4376, 'weddin': 4377, 'sozi': 4378, 'culdnt': 4379, 'talkbut': 4380, 'wannatell': 4381, 'wenwecan': 4382, 'dudette': 4383, 'neshanth': 4384, '1pm': 4385, '09066368470': 4386, 'allo': 4387, 'braved': 4388, 'triumphed': 4389, 'b\\x89û÷ham': 4390, 'jolly': 4391, 'natwest': 4392, 'ammae': 4393, 'steering': 4394, 'flavour': 4395, 'disturbance': 4396, 'dlf': 4397, 'premarica': 4398, 'lodge': 4399, 'ths': 4400, 'ias': 4401, 'velusamy': 4402, \"sir's\": 4403, 'facilities': 4404, 'otside': 4405, 'absolutly': 4406, 'convenience': 4407, \"mine's\": 4408, 'totes': 4409, 'melody': 4410, 'heehee': 4411, 'chic': 4412, 'declare': 4413, 'tootsie': 4414, 'gep': 4415, 'å£750': 4416, '087187272008': 4417, 'now1': 4418, 'defer': 4419, 'admission': 4420, 'swashbuckling': 4421, 'optin': 4422, 'bbc': 4423, 'charts': 4424, 'elephant': 4425, 'shove': 4426, 'um': 4427, 'questioned': 4428, 'gardener': 4429, 'vegetables': 4430, 'neighbour': 4431, 'buffy': 4432, 'qlynnbv': 4433, 'help08700621170150p': 4434, 'huiming': 4435, '09071517866': 4436, '150ppmpobox10183bhamb64xe': 4437, 'musical': 4438, 'brighten': 4439, 'lodging': 4440, 'grandmas': 4441, 'hungover': 4442, 'smsing': 4443, 'spageddies': 4444, 'win150ppmx3age16': 4445, 'jod': 4446, 'keris': 4447, 'smidgin': 4448, '15pm': 4449, 'edison': 4450, 'rightly': 4451, 'viva': 4452, 'gm': 4453, 'chuckin': 4454, 'trainners': 4455, 'carryin': 4456, 'bac': 4457, 'upping': 4458, 'grams': 4459, 'soooo': 4460, 'provider': 4461, 'tming': 4462, 'block': 4463, 'armenia': 4464, 'swann': 4465, 'burgundy': 4466, 'captaining': 4467, 'claims': 4468, '09050005321': 4469, 'dismay': 4470, 'shorts': 4471, 'webadres': 4472, 'geting': 4473, '09061744553': 4474, 'polyh': 4475, 'maintain': 4476, 'cr': 4477, 'entertain': 4478, 'funk': 4479, 'tones2u': 4480, 'cousin': 4481, 'payback': 4482, 'kvb': 4483, '449050000301': 4484, '09050000301': 4485, 'lf56': 4486, 'memory': 4487, \"something's\": 4488, 'nowhere': 4489, 'ikno': 4490, 'doesdiscount': 4491, 'shitinnit': 4492, 'deserve': 4493, 'asthma': 4494, 'attack': 4495, 'u4': 4496, 'knickers': 4497, '01223585236': 4498, 'nikiyu4': 4499, \"idea's\": 4500, 'anyplaces': 4501, '60': 4502, '400thousad': 4503, 'evaluation': 4504, '07734396839': 4505, 'ibh': 4506, 'nokia6600': 4507, 'lifting': 4508, 'treats': 4509, 'pert': 4510, 'head\\x89û': 4511, 'infact': 4512, '09050000878': 4513, 'ovulate': 4514, '3wks': 4515, 'poking': 4516, 'mising': 4517, 'passion': 4518, '09099726481': 4519, 'dena': 4520, '09061743386': 4521, 'swhrt': 4522, 'cheat': 4523, 'fatty': 4524, 'jb': 4525, 'noncomittal': 4526, 'rstm': 4527, 'sw7': 4528, '3ss': 4529, 'slp': 4530, 'muah': 4531, '7cfca1a': 4532, 'amk': 4533, 'jacuzzi': 4534, 'worc': 4535, 'foregate': 4536, 'shrub': 4537, '07753741225': 4538, '08715203677': 4539, '42478': 4540, 'objection': 4541, 'vijaykanth': 4542, 'drunken': 4543, \"'maangalyam\": 4544, 'alaipayuthe': 4545, 'crap': 4546, 'boggy': 4547, 'biatch': 4548, 'danger': 4549, 'peeps': 4550, 'comment': 4551, \"l'm\": 4552, 'hvae': 4553, '09061701444': 4554, 'acl03530150pm': 4555, 'marvel': 4556, 'ultimate': 4557, '83338': 4558, '8ball': 4559, \"friend's\": 4560, 'babies': 4561, 'hmph': 4562, 'baller': 4563, 'konw': 4564, 'waht': 4565, 'rael': 4566, 'gving': 4567, 'exmpel': 4568, 'jsut': 4569, 'ese': 4570, 'evrey': 4571, 'splleing': 4572, 'wrnog': 4573, 'sitll': 4574, 'raed': 4575, 'wihtuot': 4576, 'ayn': 4577, 'mitsake': 4578, 'dedicated': 4579, 'dedicate': 4580, 'satanic': 4581, 'imposter': 4582, 'destiny': 4583, 'nike': 4584, 'petey': 4585, 'noiåõm': 4586, 'js': 4587, 'cocksuckers': 4588, 'ipads': 4589, 'worthless': 4590, 'novelty': 4591, 'holby': 4592, '4qf2': 4593, 'hillsborough': 4594, 'lavender': 4595, 'steamboat': 4596, 'restrict': 4597, 'hppnss': 4598, 'sorrow': 4599, 'goodfriend': 4600, 'rules': 4601, 'responsibility': 4602, 'bend': 4603, 'thia': 4604, 'inlude': 4605, 'previews': 4606, 'profile': 4607, 'bpo': 4608, 'posh': 4609, 'chaps': 4610, 'trial': 4611, 'prods': 4612, 'champneys': 4613, 'dob': 4614, '08701213186': 4615, 'returns': 4616, 'lingo': 4617, '448712404000': 4618, '08712404000': 4619, 'ducking': 4620, 'chinchillas': 4621, 'tamilnadu': 4622, 'perf': 4623, 'qet': 4624, '07801543489': 4625, 'latests': 4626, 'llc': 4627, 'ny': 4628, 'usa': 4629, 'msgrcvd18': 4630, 'shaking': 4631, 'dance': 4632, 'onum': 4633, 'ela': 4634, 'taste': 4635, 'stories': 4636, \"table's\": 4637, 'occupied': 4638, '8800': 4639, 'psp': 4640, 'manual': 4641, 'reset': 4642, 'troubleshooting': 4643, 'proze': 4644, 'norcorp': 4645, 'misbehaved': 4646, 'hooch': 4647, 'toaday': 4648, 'splat': 4649, 'grazed': 4650, 'knees': 4651, 'uv': 4652, 'causes': 4653, 'mutations': 4654, 'sunscreen': 4655, 'thesedays': 4656, '930': 4657, 'gam': 4658, 'vill': 4659, 'orc': 4660, 'sane': 4661, 'helping': 4662, '08712101358': 4663, 'seekers': 4664, 'dismissial': 4665, 'non': 4666, 'childporn': 4667, 'diddy': 4668, 'neighbor': 4669, 'toothpaste': 4670, 'erutupalam': 4671, 'thandiyachu': 4672, 'amrita': 4673, 'accidant': 4674, 'tookplace': 4675, 'ghodbandar': 4676, 'slovely': 4677, 'timi': 4678, 'dessert': 4679, 'u\\x89ûªve': 4680, 'instant': 4681, '08715203028': 4682, '9th': 4683, 'ideal': 4684, 'path': 4685, 'appear': 4686, 'paths': 4687, 'owns': 4688, 'predicte': 4689, 'surname': 4690, 'clue': 4691, 'begins': 4692, 'emotion': 4693, 'prayrs': 4694, 'othrwise': 4695, 'slaaaaave': 4696, 'summon': 4697, 'woul': 4698, 'curfew': 4699, 'gibe': 4700, 'getsleep': 4701, 'studdying': 4702, '1mega': 4703, 'pixels': 4704, '3optical': 4705, '5digital': 4706, 'dooms': 4707, 'feathery': 4708, 'bowa': 4709, '88800': 4710, '89034': 4711, '08718711108': 4712, 'printed': 4713, 'upstairs': 4714, 'auntie': 4715, 'huai': 4716, 'peach': 4717, 'tasts': 4718, 'shanghai': 4719, '21st': 4720, 'cya': 4721, 'hme': 4722, 'oga': 4723, 'level': 4724, 'buzy': 4725, 'sth': 4726, 'specs': 4727, 'px3748': 4728, 'asia': 4729, 'greatest': 4730, 'courage': 4731, 'bear': 4732, 'defeat': 4733, 'tonights': 4734, '12mths': 4735, '400mins': 4736, 'j5q': 4737, '146tf150p': 4738, \"'need'\": 4739, \"'comfort'\": 4740, \"'luxury'\": 4741, 'sold': 4742, \"g's\": 4743, 'ammo': 4744, 'ak': 4745, 'judgemental': 4746, 'fridays': 4747, 'flying': 4748, 'monkeys': 4749, 'certainly': 4750, 'caveboy': 4751, '08707500020': 4752, 'spirit': 4753, 'hasbro': 4754, 'jump': 4755, 'hoops': 4756, '08714712379': 4757, 'strt': 4758, 'ltdhelpdesk': 4759, '02085076972': 4760, 'lark': 4761, 'wan2': 4762, 'westlife': 4763, 'm8': 4764, 'unbreakable': 4765, 'untamed': 4766, 'unkempt': 4767, '83049': 4768, 'å£75': 4769, 'homeowners': 4770, 'previously': 4771, '1956669': 4772, 'vco': 4773, 'view': 4774, 'gays': 4775, 'balloon': 4776, 'uncountable': 4777, 'walsall': 4778, 'tue': 4779, 'terry': 4780, 'engalnd': 4781, 'mia': 4782, 'elliot': 4783, 'kissing': 4784, 'breaking': 4785, 'cstore': 4786, 'sittin': 4787, 'wind': 4788, 'drops': 4789, '0721072': 4790, 'rp176781': 4791, 'regalportfolio': 4792, '08717205546': 4793, 'shocking': 4794, 'sundayish': 4795, 'neft': 4796, 'beneficiary': 4797, '6times': 4798, 'cts': 4799, 'employee': 4800, 'annie': 4801, 'meatballs': 4802, 'free2day': 4803, \"george's\": 4804, '89080': 4805, '0870241182716': 4806, 'whore': 4807, 'unbelievable': 4808, 'noice': 4809, 'devouring': 4810, 'epi': 4811, '5k': 4812, '09064011000': 4813, 'cr01327bt': 4814, 'fixedline': 4815, 'thirtyeight': 4816, 'progress': 4817, 'arestaurant': 4818, 'squid': 4819, 'dosomething': 4820, 'trained': 4821, 'advisors': 4822, 'dialling': 4823, '402': 4824, 'popped': 4825, 'loo': 4826, 'ed': 4827, 'coincidence': 4828, 'genuine': 4829, '100percent': 4830, 'janx': 4831, 'dads': 4832, 'court': 4833, 'dumb': 4834, 'åè10': 4835, 'evey': 4836, 'gailxx': 4837, 'chloe': 4838, 'smashed': 4839, 'bothering': 4840, 'raping': 4841, 'dudes': 4842, 'poker': 4843, 'stressfull': 4844, 'adds': 4845, 'cudnt': 4846, 'drove': 4847, 'ctla': 4848, 'ente': 4849, 'ishtamayoo': 4850, 'bakrid': 4851, 'drivby': 4852, '0quit': 4853, 'edrunk': 4854, 'iff': 4855, 'pthis': 4856, 'senrd': 4857, 'dnot': 4858, 'dancce': 4859, 'drum': 4860, 'basq': 4861, 'ihave': 4862, '2nhite': 4863, 'ros': 4864, 'xxxxxxx': 4865, 'smoked': 4866, 'compliments': 4867, 'pours': 4868, 'smash': 4869, 'religiously': 4870, 'watts': 4871, 'diesel': 4872, 'brainy': 4873, 'wrkin': 4874, 'mmmmm': 4875, 'hlday': 4876, 'camp': 4877, 'amrca': 4878, 'serena': 4879, 'browsin': 4880, 'compulsory': 4881, 'astrology': 4882, 'gastroenteritis': 4883, 'replace': 4884, 'reduce': 4885, 'limiting': 4886, 'illness': 4887, 'bleak': 4888, 'filled': 4889, 'mylife': 4890, 'rt': 4891, 'pro': 4892, '08701237397': 4893, 'redeemable': 4894, 'luckily': 4895, 'starring': 4896, 'delete': 4897, 'tag': 4898, 'laundry': 4899, 'underwear': 4900, 'bras': 4901, 'strewn': 4902, 'pillows': 4903, 'lingerie': 4904, 'bridal': 4905, 'petticoatdreams': 4906, 'weddingfriend': 4907, \"valentine's\": 4908, '69101': 4909, 'rtf': 4910, 'sphosting': 4911, 'dentist': 4912, 'connect': 4913, '09094646899': 4914, 'vu': 4915, 'bcm1896wc1n3xx': 4916, 'mapquest': 4917, 'dogwood': 4918, 'dull': 4919, '2bold': 4920, 'worrying': 4921, 'quizzes': 4922, 'jelly': 4923, 'screwd': 4924, 'qjkgighjjgcbl': 4925, 'gloucesterroad': 4926, 'uup': 4927, 'dub': 4928, 'je': 4929, 'bot': 4930, 'notes': 4931, 'involved': 4932, '07742676969': 4933, '08719180248': 4934, 'bomb': 4935, 'skye': 4936, 'stressed': 4937, 'simpsons': 4938, 'band': 4939, 'storming': 4940, 'phne': 4941, 'wt': 4942, 'margaret': 4943, 'girlfrnd': 4944, 'grahmbell': 4945, 'invnted': 4946, 'telphone': 4947, '4get': 4948, 'wasnt': 4949, 'wither': 4950, '23f': 4951, '23g': 4952, 'appy': 4953, 'fizz': 4954, 'contains': 4955, 'signin': 4956, \"1's\": 4957, 'inever': 4958, 'barred': 4959, 'twat': 4960, 'dungerees': 4961, 'decking': 4962, 'punch': 4963, 'virgins': 4964, 'sexual': 4965, 'theirs': 4966, '69911': 4967, 'werethe': 4968, 'monkeespeople': 4969, 'monkeyaround': 4970, 'howdy': 4971, 'swimsuit': 4972, 'identification': 4973, 'timin': 4974, 'disappointment': 4975, \"party's\": 4976, 'contribute': 4977, 'greatly': 4978, 'citylink': 4979, 'obedient': 4980, 'note': 4981, 'exposed': 4982, 'vomiting': 4983, 'sian': 4984, 'printing': 4985, 'handing': 4986, 'dust': 4987, 'mth': 4988, 'kit': 4989, 'strip': 4990, '1013': 4991, 'ig11': 4992, 'oja': 4993, 'initiate': 4994, 'dependents': 4995, 'mornin': 4996, 'thanku': 4997, 'yoyyooo': 4998, 'permissions': 4999, 'mac': 5000, 'sporadically': 5001, 'miwa': 5002, 'weaknesses': 5003, \"knee's\": 5004, 'exposes': 5005, 'pulls': 5006, 'wicked': 5007, 'chapel': 5008, 'frontierville': 5009, 'bowls': 5010, 'adventuring': 5011, 'watched': 5012, 'prin': 5013, 'bits': 5014, 'timings': 5015, '09066368753': 5016, '97n7qp': 5017, 'squishy': 5018, 'mwahs': 5019, 'unconvinced': 5020, 'elaborate': 5021, 'willpower': 5022, 'badrith': 5023, 'filthyguys': 5024, '4msgs': 5025, '09095350301': 5026, 'erotic': 5027, 'ecstacy': 5028, 'lakhs': 5029, 'fridge': 5030, '0870737910216yrs': 5031, 'playng': 5032, 'intrude': 5033, 'evr': 5034, 'adewale': 5035, 'egbon': 5036, 'disappeared': 5037, '447801259231': 5038, '09058094597': 5039, 'hdd': 5040, 'casing': 5041, 'apologize': 5042, 'admit': 5043, \"riley's\": 5044, 'faith': 5045, 'misundrstud': 5046, 'tiime': 5047, 'tears': 5048, 'disagreeable': 5049, 'learned': 5050, 'eldest': 5051, 'hire': 5052, 'hitman': 5053, 'arm': 5054, 'stuffs': 5055, 'andre': 5056, \"virgil's\": 5057, '83435': 5058, 'remembrs': 5059, 'forgets': 5060, 'everytime': 5061, '2channel': 5062, 'leadership': 5063, 'skills': 5064, 'psychic': 5065, 'spun': 5066, 'wrld': 5067, 'teams': 5068, 'chechi': 5069, 'phony': 5070, '3100': 5071, 'proper': 5072, 'tongued': 5073, 'wrks': 5074, 'swell': 5075, 'ball': 5076, 'spin': 5077, 'bmw': 5078, 'urgently': 5079, 'shortage': 5080, 'source': 5081, 'arng': 5082, 'amt': 5083, 'canteen': 5084, 'panther': 5085, 'sugababes': 5086, 'zebra': 5087, 'animation': 5088, 'badass': 5089, 'hoody': 5090, 'repairs': 5091, 'followin': 5092, 'go2sri': 5093, 'lanka': 5094, 'bridgwater': 5095, 'banter': 5096, 'arrived': 5097, 'celebrations': 5098, 'toledo': 5099, 'tscs08714740323': 5100, '1winawk': 5101, '50perweeksub': 5102, '08715203685': 5103, '4xx26': 5104, '13': 5105, 'quiet': 5106, 'beth': 5107, 'aunts': 5108, 'charlie': 5109, 'torture': 5110, 'superior': 5111, 'ours': 5112, 'waheed': 5113, 'conform': 5114, 'improved': 5115, 'hearts': 5116, '077xxx': 5117, '09066362206': 5118, 'å£600': 5119, 'landmark': 5120, 'bob': 5121, 'barry': 5122, '83738': 5123, 'literally': 5124, 'nowadays': 5125, 'notixiquating': 5126, 'laxinorficated': 5127, 'bambling': 5128, 'entropication': 5129, 'oblisingately': 5130, 'opted': 5131, 'masteriastering': 5132, 'amplikater': 5133, 'fidalfication': 5134, 'champlaxigating': 5135, 'atrocious': 5136, 'wotz': 5137, 'junna': 5138, '08712402972': 5139, 'propsd': 5140, 'gv': 5141, 'lv': 5142, 'lttrs': 5143, 'threw': 5144, 'aproach': 5145, 'dt': 5146, 'truck': 5147, 'speeding': 5148, 'wn': 5149, 'ran': 5150, \"'hw\": 5151, 'instantly': 5152, 'shouted': 5153, 'thy': 5154, 'lived': 5155, 'happily': 5156, '2gthr': 5157, 'evrydy': 5158, 'ingredients': 5159, 'crowd': 5160, 'lined': 5161, 'mostly': 5162, 'broadband': 5163, 'successfully': 5164, 'installation': 5165, 'forum': 5166, 'buyers': 5167, 'lunchtime': 5168, 'organise': 5169, 'pooja': 5170, 'sweatter': 5171, 'ninish': 5172, 'icky': 5173, 'freek': 5174, 'jen': 5175, 'losers': 5176, 'x2': 5177, 'folks': 5178, 'joys': 5179, 'lifeis': 5180, 'daywith': 5181, 'somewheresomeone': 5182, 'tosend': 5183, 'greeting': 5184, 'posting': 5185, 'supplies': 5186, 'wahala': 5187, 'kills': 5188, 'recieve': 5189, 'conditions': 5190, 'teletext': 5191, 'iron': 5192, 'hopeing': 5193, 'wasn\\x89û÷t': 5194, 'sisters': 5195, 'missionary': 5196, 'gravel': 5197, '69888': 5198, 'synced': 5199, 'shangela': 5200, 'guessed': 5201, 'nelson': 5202, \"bb's\": 5203, 'neighbors': 5204, 'yuou': 5205, 'spot': 5206, 'disconnected': 5207, 'fowler': 5208, '08715203694': 5209, 'image': 5210, \"tyler's\": 5211, 'occurs': 5212, 'minus': 5213, 'paragraphs': 5214, 'performed': 5215, 'priest': 5216, 'strips': 5217, 'postal': 5218, 'okies': 5219, 'borderline': 5220, 'frequently': 5221, 'needa': 5222, 'rayan': 5223, 'macleran': 5224, 'satsgettin': 5225, '47per': 5226, 'shore': 5227, 'fox': 5228, 'frndsship': 5229, 'dwn': 5230, 'cl': 5231, 'scenery': 5232, 'impressively': 5233, 'sensible': 5234, 'reaction': 5235, 'waaaat': 5236, 'lololo': 5237, 'thankyou': 5238, 'star': 5239, '09066364349': 5240, 'box434sk38wp150ppm18': 5241, 'forgiven': 5242, 'poet': 5243, 'imagination': 5244, 'talents': 5245, '1stchoice': 5246, '08707808226': 5247, 'gobi': 5248, '820554ad0a1705572711': 5249, 'trueåác': 5250, 'ringtoneåá': 5251, 'missy': 5252, 'w4': 5253, '5wq': 5254, 'adsense': 5255, 'approved': 5256, 'resizing': 5257, 'å£79': 5258, '08704439680ts': 5259, \"hi'\": 5260, 'fring': 5261, 'ktv': 5262, 'elvis': 5263, 'presleys': 5264, 'stoners': 5265, 'mas': 5266, 'loses': 5267, 'filling': 5268, 'shouting': 5269, 'sized': 5270, '3750': 5271, '09066364589': 5272, 'palm': 5273, 'wondarfull': 5274, 'wating': 5275, 'wewa': 5276, '130': 5277, 'iriver': 5278, '255': 5279, '128': 5280, 'lays': 5281, 'alian': 5282, 'fixes': 5283, 'spelling': 5284, \"station's\": 5285, '08715205273': 5286, 'poo': 5287, '20m12aq': 5288, '\\x89ûï': 5289, 'fiting': 5290, 'load': 5291, 'mj': 5292, 'lifted': 5293, 'hopes': 5294, 'approaches': 5295, '945': 5296, 'christmassy': 5297, 'specialisation': 5298, 'labor': 5299, 'shakara': 5300, 'beggar': 5301, 'sg': 5302, 'phyhcmk': 5303, 'teaching': 5304, 'pc1323': 5305, 'aeronautics': 5306, 'professors': 5307, 'calld': 5308, 'aeroplane': 5309, 'ws': 5310, 'hurried': 5311, 'tensed': 5312, 'strongly': 5313, 'creativity': 5314, 'stifled': 5315, 'soc': 5316, 'jack': 5317, 'helpful': 5318, 'pretend': 5319, 'hypotheticalhuagauahahuagahyuhagga': 5320, 'dabooks': 5321, 'fuuuuck': 5322, 'chk': 5323, 'ms': 5324, 'dict': 5325, 'monster': 5326, 'arranging': 5327, 'cartons': 5328, 'shelves': 5329, '07815296484': 5330, '41782': 5331, 'xclusive': 5332, 'clubsaisai': 5333, 'soiree': 5334, 'speciale': 5335, 'zouk': 5336, 'roses': 5337, '07946746291': 5338, '07880867867': 5339, 'varaya': 5340, 'elaya': 5341, 'wall': 5342, 'europe': 5343, '10th': 5344, '09050000555': 5345, 'ba128nnfwfly150ppm': 5346, 'helloooo': 5347, 'welcomes': 5348, 'leading': 5349, '151': 5350, 'pause': 5351, 'limit': 5352, 'grace': 5353, 'boundaries': 5354, 'endless': 5355, 'inconvenient': 5356, 'plum': 5357, 'smacks': 5358, 'fishrman': 5359, 'sack': 5360, 'strtd': 5361, 'throwin': 5362, '1stone': 5363, \"mrng''\": 5364, 'sleepwell': 5365, 'nigro': 5366, 'furniture': 5367, 'lock': 5368, 'locks': 5369, 'jenne': 5370, 'showered': 5371, \"er'ything\": 5372, '09061209465': 5373, 'suprman': 5374, 'matrix3': 5375, 'starwars3': 5376, 'steve': 5377, '6230': 5378, 'pobox114': 5379, '14tcr': 5380, 'ams': 5381, 'ultimately': 5382, 'tor': 5383, 'motive': 5384, 'tui': 5385, 'achieve': 5386, 'korli': 5387, 'british': 5388, 'hotels': 5389, '02072069400': 5390, 'bx': 5391, '526': 5392, 'sw73ss': 5393, 'blowing': 5394, 'sheffield': 5395, 'categories': 5396, 'ethnicity': 5397, 'census': 5398, 'transcribing': 5399, 'steyn': 5400, 'wicket': 5401, 'heading': 5402, 'prediction': 5403, 'solved': 5404, 'opened': 5405, 'oclock': 5406, 'bash': 5407, 'tex': 5408, 'mecause': 5409, 'werebored': 5410, 'okden': 5411, 'uin': 5412, 'soundåõs': 5413, 'likeyour': 5414, 'gr8fun': 5415, 'updat': 5416, 'countinlots': 5417, 'loveme': 5418, 'fifty': 5419, 'shitload': 5420, 'uploaded': 5421, 'cutest': 5422, 'prometazine': 5423, 'syrup': 5424, '5mls': 5425, 'feed': 5426, 'dual': 5427, 'showr': 5428, 'environment': 5429, 'terrific': 5430, 'les': 5431, 'rudi': 5432, 'snoring': 5433, 'ink': 5434, 'headin': 5435, 'sexychat': 5436, 'photoshop': 5437, 'waqt': 5438, 'pehle': 5439, 'naseeb': 5440, 'zyada': 5441, 'kisi': 5442, 'ko': 5443, 'kuch': 5444, 'milta': 5445, 'hum': 5446, 'sochte': 5447, 'ham': 5448, 'jeetey': 5449, 'potential': 5450, 'challenge': 5451, 'hahaha': 5452, 'brain': 5453, 'faded': 5454, 'glory': 5455, 'ralphs': 5456, 'owl': 5457, 'payments': 5458, 'fedex': 5459, 'banneduk': 5460, '087104711148': 5461, 'wesleys': 5462, 'ooh': 5463, '4got': 5464, 'moseley': 5465, 'weds': 5466, 'enjoying': 5467, '09065174042': 5468, '07821230901': 5469, 'shiny': 5470, 'warming': 5471, '09066364311': 5472, 'jaklin': 5473, 'gut': 5474, 'wrenching': 5475, 'restock': 5476, 'mandan': 5477, 'dialogue': 5478, 'reltnship': 5479, \"dealer's\": 5480, 'sentence': 5481, 'educational': 5482, 'costume': 5483, 'jaykwon': 5484, 'thuglyfe': 5485, 'falconerf': 5486, 'quarter': 5487, 'amla': 5488, 'vday': 5489, 'parachute': 5490, 'applausestore': 5491, 'monthlysubscription': 5492, 'max6': 5493, 'csc': 5494, 'entertaining': 5495, 'hugh': 5496, 'laurie': 5497, 'wendy': 5498, 'checkup': 5499, 'pap': 5500, 'smear': 5501, \"cali's\": 5502, 'complexities': 5503, 'freely': 5504, 'taxes': 5505, 'outrageous': 5506, \"i'ma\": 5507, 'maths': 5508, 'chapter': 5509, 'changing': 5510, 'diapers': 5511, 'owed': 5512, 'studyn': 5513, 'specify': 5514, 'domain': 5515, 'nusstu': 5516, 'plural': 5517, 'nottingham': 5518, '63miles': 5519, '40mph': 5520, 'oral': 5521, 'pounded': 5522, 'dentists': 5523, 'rajitha': 5524, 'raj': 5525, 'ranju': 5526, 'hitter': 5527, 'yavnt': 5528, 'entrepreneurs': 5529, '2006': 5530, 'fifa': 5531, 'shag': 5532, 'sextextuk': 5533, 'xxuk': 5534, '69876': 5535, 'absence': 5536, \"åòit's\": 5537, 'flowers': 5538, '505060': 5539, 'hurting': 5540, 'meaningful': 5541, 'compromised': 5542, 'awkward': 5543, \"shade's\": 5544, 'buyer': 5545, 'dehydrated': 5546, 'september': 5547, 'seperated': 5548, '\\x8eö´\\x89ó': 5549, '\\x8bû¬ud': 5550, 'aust': 5551, 'bk': 5552, 'outs': 5553, 'pookie': 5554, '69855': 5555, 'stopbcm': 5556, 'sf': 5557, 'biola': 5558, '09063458130': 5559, 'polyph': 5560, 'lacking': 5561, 'particular': 5562, \"dramastorm's\": 5563, 'applebees': 5564, 'mirror': 5565, 'youre': 5566, '09058097189': 5567, 'ls15hb': 5568, '09077818151': 5569, 'calls1': 5570, '50ppm': 5571, '30s': 5572, 'santacalling': 5573, '087016248': 5574, 'sleeps': 5575, 'significant': 5576, 'dock': 5577, 'rolled': 5578, 'newscaster': 5579, 'dabbles': 5580, 'flute': 5581, 'wheel': 5582, 'thin': 5583, 'arguments': 5584, 'fed': 5585, 'himso': 5586, 'mobsi': 5587, '391784': 5588, 'purity': 5589, 'musthu': 5590, 'steam': 5591, 'daytime': 5592, 'busty': 5593, '09099726429': 5594, 'janinexx': 5595, 'rv': 5596, 'rvx': 5597, \"shit's\": 5598, 'veggie': 5599, 'needing': 5600, 'textand': 5601, '08002988890': 5602, 'fifth': 5603, 'woozles': 5604, 'weasels': 5605, 'sc': 5606, 'specialise': 5607, 'wad': 5608, 'machi': 5609, 'nri': 5610, 'command': 5611, 'chief': 5612, 'motivate': 5613, 'darkness': 5614, 'shining': 5615, 'certificate': 5616, 'publish': 5617, 'cherthala': 5618, 'bfore': 5619, 'tmorow': 5620, 'engaged': 5621, 'unsubscribed': 5622, 'hunks': 5623, 'gotbabes': 5624, 'subscriptions': 5625, '2005': 5626, 'hhahhaahahah': 5627, 'nig': 5628, 'leonardo': 5629, 'vitamin': 5630, 'senor': 5631, 'blessed': 5632, 'spelled': 5633, 'caps': 5634, 'yelling': 5635, 'bullshit': 5636, 'overtime': 5637, 'nigpun': 5638, 'fones': 5639, 'wild': 5640, 'stop2stop': 5641, 'hep': 5642, 'immunisation': 5643, 'bookedthe': 5644, 'hut': 5645, 'asa': 5646, 'mouth': 5647, '2mro': 5648, '087018728737': 5649, 'toppoly': 5650, 'tune': 5651, 'ciao': 5652, 'gods': 5653, 'theoretically': 5654, 'kitty': 5655, 'shaved': 5656, 'natural': 5657, 'signing': 5658, 'somewhr': 5659, 'crushes': 5660, 'billy': 5661, '09061743811': 5662, '326': 5663, 'salmon': 5664, 'versus': 5665, 'dom': 5666, 'jabo': 5667, '08718726978': 5668, '850': 5669, '650': 5670, 'backwards': 5671, 'cheesy': 5672, 'frosty': 5673, 'slob': 5674, 'wright': 5675, '08006344447': 5676, 'format': 5677, 'disc': 5678, 'wonders': 5679, '7th': 5680, '6th': 5681, '5th': 5682, 'personality': 5683, '3rd': 5684, 'tlk': 5685, 'slippery': 5686, 'meetins': 5687, 'cumin': 5688, '09099726395': 5689, 'banned': 5690, 'fffff': 5691, \"xin's\": 5692, 'slots': 5693, 'euro2004': 5694, 'kickoff': 5695, '83222': 5696, 'nannys': 5697, 'display': 5698, 'footie': 5699, 'blow': 5700, 'phil': 5701, 'neville': 5702, 'repeat': 5703, 'sang': 5704, \"'uptown\": 5705, \"girl'\": 5706, \"80's\": 5707, \"derek's\": 5708, 'watever': 5709, 'built': 5710, 'iz': 5711, 'lonlines': 5712, 'lotz': 5713, 'memories': 5714, 'cried': 5715, 'kane': 5716, 'shud': 5717, '09090204448': 5718, 'minded': 5719, 'aå£1': 5720, 'minapn': 5721, 'ls278bb': 5722, \"ron's\": 5723, 'macs': 5724, 'bruv': 5725, 'svc': 5726, '69988': 5727, 'lit': 5728, 'fire': 5729, 'entirely': 5730, 'rearrange': 5731, 'dormitory': 5732, 'astronomer': 5733, 'starer': 5734, 'election': 5735, 'recount': 5736, 'hitler': 5737, 'eleven': 5738, 'subtoitles': 5739, 'sculpture': 5740, 'lovin': 5741, 'tessy': 5742, 'favor': 5743, 'shijas': 5744, 'degrees': 5745, 'ayo': 5746, 'travelled': 5747, 'wiskey': 5748, 'brandy': 5749, 'rum': 5750, 'gin': 5751, 'scotch': 5752, 'shampain': 5753, 'kudi': 5754, 'yarasu': 5755, 'dhina': 5756, 'vaazhthukkal': 5757, 'whens': 5758, 'sos': 5759, 'attending': 5760, 'ukp': 5761, '09061790125': 5762, 'maps': 5763, \"audrey's\": 5764, 'hogolo': 5765, 'gold': 5766, 'kodstini': 5767, 'necklace': 5768, 'madstini': 5769, 'hogli': 5770, 'mutai': 5771, 'eerulli': 5772, 'kodthini': 5773, 'jos': 5774, 'pubs': 5775, 'frankie': 5776, 'bennys': 5777, 'smoothly': 5778, 'challenging': 5779, '5226': 5780, 'hava': 5781, '1131': 5782, 'stubborn': 5783, 'sucker': 5784, 'hospitals': 5785, 'suckers': 5786, 'attended': 5787, 'spoil': 5788, \"yetty's\": 5789, 'gopalettan': 5790, 'participate': 5791, 'ups': 5792, '3days': 5793, 'usps': 5794, 'bribe': 5795, 'nipost': 5796, '3pound': 5797, 'nearer': 5798, 'jackpot': 5799, '81010': 5800, 'dbuk': 5801, 'lccltd': 5802, '4403ldnw1a7rw18': 5803, 'das': 5804, 'iknow': 5805, 'wellda': 5806, 'peril': 5807, 'studentfinancial': 5808, 'inperialmusic': 5809, 'listening2the': 5810, 'byåóleafcutter': 5811, 'johnåó': 5812, 'insects': 5813, 'molested': 5814, 'plumbing': 5815, 'remixed': 5816, 'evil': 5817, 'acid': 5818, 'yeesh': 5819, 'weirdy': 5820, 'brownies': 5821, 'someday': 5822, 'text82228': 5823, 'logos': 5824, 'blanked': 5825, 'cc100p': 5826, 'jerry': 5827, 'cartoon': 5828, 'irritates': 5829, 'fails': 5830, 'goin2bed': 5831, 'only1more': 5832, '80155': 5833, 'swap': 5834, 'chatter': 5835, 'chat80155': 5836, 'rcd': 5837, 'someplace': 5838, '08718723815': 5839, 'chillin': 5840, '08718727870150ppm': 5841, 'positions': 5842, 'kama': 5843, 'sutra': 5844, 'unmits': 5845, 'tip': 5846, 'hides': 5847, 'secrets': 5848, 'n8': 5849, 'vat': 5850, 'subs16': 5851, '1win150ppmx3': 5852, '09050001295': 5853, 'a21': 5854, 'bike': 5855, 'rounder': 5856, 'required': 5857, 'mus': 5858, 'owe': 5859, 'rocking': 5860, 'ashes': 5861, '08717895698': 5862, 'mobstorequiz10ppm': 5863, 'gayle': 5864, '07090201529': 5865, 'restrictions': 5866, 'buddys': 5867, 'bari': 5868, 'hudgi': 5869, 'yorge': 5870, 'pataistha': 5871, 'ertini': 5872, 'slacking': 5873, 'beach': 5874, 'expected': 5875, 'invention': 5876, \"wherre's\": 5877, 'å£125': 5878, 'freeentry': 5879, 'xt': 5880, 'calm': 5881, 'downon': 5882, 'theacusations': 5883, 'itxt': 5884, 'iwana': 5885, 'wotu': 5886, 'thew': 5887, 'haventcn': 5888, 'nething': 5889, 'varunnathu': 5890, 'edukkukayee': 5891, 'raksha': 5892, 'ollu': 5893, 'pure': 5894, 'hearted': 5895, 'enemies': 5896, 'smiley': 5897, 'drpd': 5898, 'deeraj': 5899, 'deepak': 5900, 'downs': 5901, 'fletcher': 5902, 'xam': 5903, 'hall': 5904, 'hesitation': 5905, 'intha': 5906, 'ponnungale': 5907, 'ipaditan': 5908, 'wasted': 5909, 'chiong': 5910, 'burden': 5911, '8000930705': 5912, 'portege': 5913, 'm100': 5914, 'twinks': 5915, 'scallies': 5916, 'skins': 5917, 'jocks': 5918, \"weekend's\": 5919, '08712466669': 5920, 'port': 5921, 'sitter': 5922, 'kaitlyn': 5923, \"'wnevr\": 5924, 'fal': 5925, 'fals': 5926, 'yen': 5927, 'madodu': 5928, 'nav': 5929, 'pretsorginta': 5930, 'nammanna': 5931, 'pretsovru': 5932, 'alwa': 5933, 'eveb': 5934, 'l8': 5935, 'gon': 5936, 'attraction': 5937, 'breath': 5938, 'sorrows': 5939, 'proove': 5940, 'praises': 5941, 'curry': 5942, 'makiing': 5943, 'sambar': 5944, 'okors': 5945, 'cherish': 5946, 'chickened': 5947, 'woould': 5948, 'crashing': 5949, 'mca': 5950, 'barring': 5951, 'sudden': 5952, 'influx': 5953, 'eye': 5954, '447797706009': 5955, 'careers': 5956, 'sinco': 5957, 'payee': 5958, 'icicibank': 5959, 'beware': 5960, 'frauds': 5961, 'disclose': 5962, 'drastic': 5963, 'parts': 5964, 'olowoyey': 5965, 'argentina': 5966, 'blessing': 5967, 'nigh': 5968, 'andrews': 5969, 'whatsup': 5970, 'idc': 5971, 'weaseling': 5972, 'desparately': 5973, 'tunji': 5974, 'tirunelvai': 5975, 'spice': 5976, 'atleast': 5977, 'shakespeare': 5978, 'tops': 5979, 'consistently': 5980, 'practicum': 5981, 'links': 5982, 'ears': 5983, \"gumby's\": 5984, 'classmates': 5985, 'ceri': 5986, 'rebel': 5987, 'dreamz': 5988, 'buddy': 5989, 'blokes': 5990, 'gamestar': 5991, 'active': 5992, 'å£250k': 5993, 'scoring': 5994, '88088': 5995, 'headstart': 5996, 'rummer': 5997, 'conference': 5998, 'waheeda': 5999, 'ummifying': 6000, 'el': 6001, 'nino': 6002, 'himself': 6003, 'harder': 6004, 'nbme': 6005, 'tattoos': 6006, '09064017295': 6007, 'recorder': 6008, 'canname': 6009, 'australia': 6010, 'mquiz': 6011, 'kalainar': 6012, 'thenampet': 6013, 'related': 6014, 'arul': 6015, 'arr': 6016, 'oscar': 6017, 'reminder': 6018, 'doit': 6019, 'mymoby': 6020, 'wesley': 6021, \"how've\": 6022, 'reverse': 6023, 'cheating': 6024, 'mathematics': 6025, 'rg21': 6026, '4jx': 6027, '27': 6028, '08714714011': 6029, 'apo': 6030, 'honesty': 6031, 'route': 6032, 'throws': 6033, 'brothers': 6034, 'pandy': 6035, 'windows': 6036, 'logoff': 6037, 'msging': 6038, 'abeg': 6039, 'sponsors': 6040, 'event': 6041, 'keyword': 6042, 'tmorrow': 6043, 'accomodate': 6044, 'ana': 6045, 'sathy': 6046, 'rto': 6047, 'ripped': 6048, 'clubmoby': 6049, '08717509990': 6050, 'friendships': 6051, 'grow': 6052, 'subscribers': 6053, 'mary': 6054, 'zhong': 6055, 'qing': 6056, 'act': 6057, '83370': 6058, 'trivia': 6059, '09061790126': 6060, 'lifebook': 6061, 'rejected': 6062, 'worms': 6063, '09058094507': 6064, 'yards': 6065, 'bergkamp': 6066, 'margin': 6067, '78': 6068, 'ortxt': 6069, \"fren's\": 6070, 'unlike': 6071, 'patients': 6072, 'turkeys': 6073, 'iraq': 6074, 'afghanistan': 6075, 'stable': 6076, 'honest': 6077, 'traveling': 6078, 'mel': 6079, 'opps': 6080, \"tt's\": 6081, 'a30': 6082, 'divert': 6083, 'wadebridge': 6084, 'professional': 6085, 'tiger': 6086, 'woods': 6087, 'joanna': 6088, 'cheetos': 6089, 'clash': 6090, 'successful': 6091, 'stuffed': 6092, 'writhing': 6093, 'recovery': 6094, 'cooped': 6095, 'sentiment': 6096, 'rowdy': 6097, 'attitude': 6098, 'attractive': 6099, 'witin': 6100, 'leads': 6101, 'semiobscure': 6102, 'å£5': 6103, '08712402578': 6104, \"it'snot\": 6105, \"child's\": 6106, 'unintentional': 6107, 'nonetheless': 6108, 'emailed': 6109, 'yifeng': 6110, 'settling': 6111, 'happenin': 6112, 'eachother': 6113, 'firmware': 6114, 'thkin': 6115, 'spotty': 6116, 'province': 6117, 'sterling': 6118, 'baaaaaaaabe': 6119, 'lindsay': 6120, 'bars': 6121, 'heron': 6122, 'hottest': 6123, 'accomodations': 6124, 'cave': 6125, 'offered': 6126, 'embarassing': 6127, '08700469649': 6128, 'box420': 6129, '69888nyt': 6130, 't91': 6131, '09057039994': 6132, 'drama': 6133, 'struggling': 6134, 'ego': 6135, \"'if\": 6136, \"invited'\": 6137, 'necessity': 6138, 'reppurcussions': 6139, '81303': 6140, 'trackmarque': 6141, 'vipclub4u': 6142, '1405': 6143, '1680': 6144, '1843': 6145, 'innocent': 6146, 'terror': 6147, 'cruel': 6148, 'decent': 6149, 'joker': 6150, 'stability': 6151, 'tranquility': 6152, 'vibrant': 6153, 'colourful': 6154, 'merely': 6155, 'relationship': 6156, 'wherevr': 6157, 'gudnyt': 6158, 'deepest': 6159, 'darkest': 6160, '09094646631': 6161, 'waliking': 6162, 'cantdo': 6163, 'anythingtomorrow': 6164, 'myparents': 6165, 'aretaking': 6166, 'outfor': 6167, 'katexxx': 6168, 'absolutely': 6169, 'fired': 6170, 'spjanuary': 6171, 'ou': 6172, 'trash': 6173, 'wavering': 6174, 'heal': 6175, 'build': 6176, 'angels': 6177, 'snowball': 6178, 'youåõre': 6179, \"joke's\": 6180, 'university': 6181, 'florida': 6182, 'kickboxing': 6183, 'jp': 6184, 'mofo': 6185, 'dot': 6186, 'pen': 6187, 'biro': 6188, 'belligerent': 6189, 'treasure': 6190, 'useless': 6191, 'converter': 6192, 'prakesh': 6193, 'dobby': 6194, '09066660100': 6195, '2309': 6196, 'cheyyamo': 6197, 'officer': 6198, 'guoyang': 6199, 'ibored': 6200, 'iam': 6201, '4719': 6202, '523': 6203, '07099833605': 6204, '9280114': 6205, 'ouch': 6206, 'risk': 6207, 'alto18': 6208, '44345': 6209, 'gate': 6210, 'acknowledgement': 6211, 'astoundingly': 6212, 'tactless': 6213, 'oath': 6214, 'smiled': 6215, 'å£6': 6216, 'rajas': 6217, 'burrito': 6218, '09058091870': 6219, 'loooooool': 6220, 'couch': 6221, 'rents': 6222, 'nimbomsons': 6223, 'selflessness': 6224, 'hols': 6225, 'hairdressers': 6226, 'beforehand': 6227, '\\rham': 6228, 'retard': 6229, 'gamb': 6230, 'urination': 6231, 'clever': 6232, 'guesses': 6233, 'attach': 6234, 'breeze': 6235, 'fresh': 6236, 'twittering': 6237, 'dusk': 6238, 'puzzles': 6239, 'justify': 6240, 'november': 6241, '09061104276': 6242, 'costå£3': 6243, '75max': 6244, 'garage': 6245, 'bookshelf': 6246, 'crucify': 6247, 'success': 6248, 'decades': 6249, 'goverment': 6250, 'expects': 6251, \"basket's\": 6252, 'conacted': 6253, '09111030116': 6254, 'pobox12n146tf15': 6255, 'shant': 6256, 'jia': 6257, 'gua': 6258, 'faber': 6259, 'ooooooh': 6260, 'yoville': 6261, 'jap': 6262, 'exp': 6263, '30apr': 6264, 'kfc': 6265, 'meals': 6266, 'gravy': 6267, 'dats': 6268, 'dogg': 6269, 'flurries': 6270, 'spaces': 6271, 'embassy': 6272, 'fetching': 6273, 'spiritual': 6274, 'str8': 6275, 'classic': 6276, '200p': 6277, 'aldrine': 6278, 'rtm': 6279, 'n9dx': 6280, 'pickle': 6281, 'crashed': 6282, 'cuddled': 6283, 'uses': 6284, 'passable': 6285, 'phd': 6286, '5years': 6287, 'swoop': 6288, 'tbs': 6289, 'persolvo': 6290, 'forå£38': 6291, 'kath': 6292, 'manchester': 6293, 'gsoh': 6294, 'spam': 6295, 'gigolo': 6296, 'mens': 6297, 'oncall': 6298, 'mjzgroup': 6299, '08714342399': 6300, '50rcvd': 6301, 'beverage': 6302, 'pist': 6303, 'kay': 6304, 'dealer': 6305, 'freedom': 6306, 'lunsford': 6307, \"'an\": 6308, \"quote''\": 6309, '3230': 6310, 'textbook': 6311, 'algorithms': 6312, 'edition': 6313, '09090900040': 6314, 'extreme': 6315, 'sic': 6316, '7mp': 6317, '0870753331018': 6318, 'passes': 6319, '08704439680': 6320, 'knocking': 6321, 'keen': 6322, 'pressies': 6323, '730': 6324, 'chances': 6325, 'csh11': 6326, '6days': 6327, 'tsandcs': 6328, 'lasagna': 6329, 'mei': 6330, 'haven': 6331, 'bao': 6332, 'sugardad': 6333, \"fuck's\": 6334, 'tallahassee': 6335, 'lanre': 6336, \"fakeye's\": 6337, 'eckankar': 6338, 'hooked': 6339, \"weather's\": 6340, 'sliding': 6341, 'every1': 6342, 'ava': 6343, 'goodtime': 6344, 'oli': 6345, 'melnite': 6346, 'ifink': 6347, 'everythin': 6348, 'l8rs': 6349, 'converted': 6350, 'walkabout': 6351, 'rupaul': 6352, 'animal': 6353, 'reminding': 6354, 'destination': 6355, 'mumhas': 6356, 'beendropping': 6357, 'theplace': 6358, 'adress': 6359, 'unintentionally': 6360, 'warning': 6361, 'webpage': 6362, 'base': 6363, 'z': 6364, 'gifts': 6365, 'cliff': 6366, '09053750005': 6367, '310303': 6368, '08718725756': 6369, '140ppm': 6370, 'unnecessarily': 6371, 'affectionate': 6372, 'excited': 6373, '0871277810810': 6374, \"rct'\": 6375, 'thnq': 6376, 'adrian': 6377, 'vatian': 6378, 'brolly': 6379, 'franxx': 6380, 'k718': 6381, '09065069120': 6382, 'ger': 6383, 'toking': 6384, 'syd': 6385, 'ing': 6386, 'cakes': 6387, \"that'd\": 6388, 'scenario': 6389, 'outsider': 6390, 'rip': 6391, 'uterus': 6392, 'barbie': 6393, \"ken's\": 6394, 'arngd': 6395, 'walkin': 6396, 'unfortuntly': 6397, 'bites': 6398, 'frnt': 6399, 'sayin': 6400, 'audiitions': 6401, 'relocate': 6402, 'ore': 6403, 'owo': 6404, 'wa': 6405, 'fro': 6406, 'gurl': 6407, 'appropriate': 6408, 'placed': 6409, 'rubber': 6410, 'triple': 6411, 'echo': 6412, 'squatting': 6413, 'relaxing': 6414, '7am': 6415, '5ish': 6416, 'semi': 6417, 'gmw': 6418, 'connected': 6419, 'studies': 6420, 'anyones': 6421, 'zoom': 6422, 'half8th': 6423, 'continued': 6424, 'president': 6425, '8lb': 6426, '7oz': 6427, 'brilliantly': 6428, 'karnan': 6429, 'thinl': 6430, 'lyrics': 6431, \"textin'\": 6432, 'babyjontet': 6433, 'aunty': 6434, 'prominent': 6435, 'cheek': 6436, 'raglan': 6437, 'edward': 6438, 'cricket': 6439, 'closeby': 6440, 'costumes': 6441, 'yowifes': 6442, 'denying': 6443, 'you\\x89û÷ll': 6444, 'steal': 6445, '07008009200': 6446, '2morrow': 6447, \"x'mas\": 6448, 'risks': 6449, 'hunting': 6450, 'vomitin': 6451, \"world's\": 6452, 'happiest': 6453, 'characters': 6454, 'differences': 6455, 'luvs': 6456, 'allday': 6457, 'ploughing': 6458, 'pile': 6459, 'ironing': 6460, 'chinky': 6461, 'lord': 6462, 'rings': 6463, 'soundtrack': 6464, 'stdtxtrate': 6465, 'starve': 6466, 'alternative': 6467, \"term's\": 6468, '3650': 6469, '09066382422': 6470, '300603': 6471, 'bcm4284': 6472, 'scrumptious': 6473, 'gokila': 6474, '600': 6475, '400': 6476, 'deltomorrow': 6477, '100p': 6478, 'hustle': 6479, 'forth': 6480, 'harlem': 6481, 'continent': 6482, 'indyarocks': 6483, 'phonebook': 6484, 'anal': 6485, 'drunkard': 6486, '645': 6487, 'meaningless': 6488, 'wishin': 6489, 'paragon': 6490, 'responding': 6491, 'lim': 6492, 'equally': 6493, 'uneventful': 6494, 'pesky': 6495, 'cyclists': 6496, 'brison': 6497, 'trips': 6498, 'forwarding': 6499, 'hearin': 6500, 'didnåõt': 6501, 'intend': 6502, 'iwas': 6503, 'marine': 6504, 'itried2tell': 6505, 'urmom': 6506, 'careabout': 6507, 'vivek': 6508, 'kotees': 6509, 'noooooooo': 6510, 'trek': 6511, 'endowed': 6512, 'idew': 6513, 'lul': 6514, 'nurses': 6515, 'shes': 6516, 'obese': 6517, 'oyea': 6518, 'enufcredeit': 6519, 'tocall': 6520, 'ileave': 6521, 'beside': 6522, 'shoul': 6523, 'ffffffffff': 6524, 'outbid': 6525, 'simonwatson5120': 6526, 'shinco': 6527, 'plyr': 6528, 'smsrewards': 6529, 'notifications': 6530, 'bathroom': 6531, 'w8in': 6532, '4utxt': 6533, '82242': 6534, 'hlp': 6535, '08712317606': 6536, 'msg150p': 6537, '2rcv': 6538, 'byatch': 6539, 'whassup': 6540, 'conversations': 6541, 'senses': 6542, 'overemphasise': 6543, 'pai': 6544, 'seh': 6545, '09066358361': 6546, 'y87': 6547, 'digi': 6548, 'fab': 6549, 'coupla': 6550, '62220cncl': 6551, 'stopcs': 6552, '08717890890å£1': 6553, 'complain': 6554, 'bettr': 6555, 'bsnl': 6556, 'offc': 6557, 'hont': 6558, \"dad's\": 6559, 'sh': 6560, 'kanji': 6561, 'mentionned': 6562, 'tiwary': 6563, 'rcb': 6564, 'battle': 6565, 'kochi': 6566, 'jez': 6567, 'iscoming': 6568, 'todo': 6569, 'workand': 6570, 'whilltake': 6571, 'gei': 6572, 'tron': 6573, 'dl': 6574, '9755': 6575, 'compass': 6576, 'soul': 6577, 'gnun': 6578, 'way2sms': 6579, 'sunoco': 6580, 'staring': 6581, 'consent': 6582, 'forms': 6583, 'lay': 6584, 'bimbo': 6585, \"ugo's\": 6586, 'fredericksburg': 6587, 'meat': 6588, 'supreme': 6589, 'complementary': 6590, 'wa14': 6591, '2px': 6592, 'inspection': 6593, 'nursery': 6594, 'didntgive': 6595, 'bellearlier': 6596, 'answerin': 6597, 'reasonable': 6598, 'matric': 6599, 'mountain': 6600, 'deer': 6601, 'chgs': 6602, 'unclaimed': 6603, '09066368327': 6604, 'closingdate04': 6605, 'claimcode': 6606, 'm39m51': 6607, '50pmmorefrommobile2bremoved': 6608, 'mobypobox734ls27yf': 6609, 'muhommad': 6610, 'penny': 6611, 'laready': 6612, 'fwiw': 6613, 'afford': 6614, 'reassuring': 6615, 'computers': 6616, 'appointments': 6617, 'shoving': 6618, 'dolls': 6619, 'patrick': 6620, 'swayze': 6621, 'ryan': 6622, 'allow': 6623, 'sux': 6624, 'raiden': 6625, '0825': 6626, 'vague': 6627, 'accounting': 6628, 'delayed': 6629, 'housing': 6630, 'agency': 6631, 'renting': 6632, 'haircut': 6633, 'breezy': 6634, 'alle': 6635, 'mone': 6636, 'eppolum': 6637, 'allalo': 6638, 'sophas': 6639, 'secondary': 6640, 'applying': 6641, 'ogunrinde': 6642, 'kaila': 6643, 'flow': 6644, 'developed': 6645, 'ovarian': 6646, 'cysts': 6647, 'shrink': 6648, 'spiffing': 6649, 'workage': 6650, 'afternon': 6651, 'interviews': 6652, 'thnx': 6653, \"'hex'\": 6654, 'aids': 6655, 'patent': 6656, 'african': 6657, 'soil': 6658, 'reliant': 6659, 'breathing': 6660, 'japanese': 6661, 'proverb': 6662, 'strike': 6663, '09058094454': 6664, 'accordin': 6665, 'parkin': 6666, 'falling': 6667, 'smeone': 6668, 'velly': 6669, 'heads': 6670, 'sections': 6671, 'clearer': 6672, 'becz': 6673, 'undrstndng': 6674, 'avoids': 6675, 'suffer': 6676, 'ujhhhhhhh': 6677, 'shipped': 6678, 'sandiago': 6679, 'parantella': 6680, 'bridge': 6681, 'lager': 6682, 'fps': 6683, 'weigh': 6684, 'workout': 6685, 'fats': 6686, 'tunde': 6687, 'orh': 6688, \"how're\": 6689, 'throwing': 6690, 'deciding': 6691, 'chik': 6692, \"100's\": 6693, 'filth': 6694, 'saristar': 6695, 'e14': 6696, '9yt': 6697, '08701752560': 6698, '450p': 6699, 'stop2': 6700, 'villa': 6701, '82324': 6702, \"ta's\": 6703, \"ìï'll\": 6704, 'panren': 6705, 'paru': 6706, 'cozy': 6707, 'rajini': 6708, 'tiring': 6709, 'concentrating': 6710, 'earliest': 6711, 'although': 6712, 'baig': 6713, 'watches': 6714, 'noisy': 6715, 'easiest': 6716, 'barcelona': 6717, 'sq825': 6718, 'arrival': 6719, 'eh74rr': 6720, 'typical': 6721, 'heat': 6722, 'applyed': 6723, 'nordstrom': 6724, '08001950382': 6725, '674': 6726, 'randomlly': 6727, 'mys': 6728, 'fundamentals': 6729, 'rushing': 6730, 'forgive': 6731, 'nok': 6732, '87021': 6733, 'excused': 6734, 'prix': 6735, 'hassling': 6736, 'andres': 6737, 'haughaighgtujhyguj': 6738, 'bold2': 6739, 'payment': 6740, 'portal': 6741, 'memorable': 6742, 'boyf': 6743, 'interviw': 6744, 'batsman': 6745, 'multis': 6746, 'raji': 6747, 'nic': 6748, 'checkin': 6749, 'reunion': 6750, 'creep': 6751, 'mila': 6752, 'age23': 6753, 'blonde': 6754, 'mtalk': 6755, '69866': 6756, '30pp': 6757, '5free': 6758, 'increments': 6759, 'help08718728876': 6760, 'whr': 6761, '169': 6762, '6031': 6763, 'stayin': 6764, 'heåõs': 6765, '2getha': 6766, 'flatter': 6767, 'pints': 6768, 'carlin': 6769, 'topped': 6770, 'bubbletext': 6771, 'tgxxrz': 6772, 'rgent': 6773, 'å£1250': 6774, '09071512433': 6775, '050703': 6776, 'callcost': 6777, 'mobilesvary': 6778, 'somerset': 6779, 'matthew': 6780, '09063440451': 6781, 'ppm150': 6782, 'box334': 6783, 'eightish': 6784, 'carpark': 6785, 'loxahatchee': 6786, 'burning': 6787, 'pleassssssseeeeee': 6788, 'sportsx': 6789, 'helens': 6790, 'princes': 6791, 'chad': 6792, 'gymnastics': 6793, 'christians': 6794, 'responsibilities': 6795, 'intention': 6796, 'visitors': 6797, 'smsservices': 6798, 'yourinclusive': 6799, 'exorcism': 6800, 'emily': 6801, \"'rencontre'\": 6802, 'mountains': 6803, 'symptoms': 6804, 'tooth': 6805, 'or2optout': 6806, 'hv9d': 6807, '2stoptx': 6808, 'wasnåõt': 6809, 'spouse': 6810, 'pmt': 6811, '4give': 6812, 'shldxxxx': 6813, 'gsex': 6814, '2667': 6815, 'wc1n': 6816, '3xx': 6817, 'shrek': 6818, 'secured': 6819, 'unsecured': 6820, '195': 6821, '6669': 6822, '08719181513': 6823, 'txtstar': 6824, 'brisk': 6825, 'walks': 6826, '89105': 6827, 'obey': 6828, 'bunch': 6829, 'lotto': 6830, 'concerned': 6831, \"parents'\": 6832, 'snowboarding': 6833, 'befor': 6834, 'pocy': 6835, 'lambda': 6836, 'nosh': 6837, 'gong': 6838, 'kaypoh': 6839, 'name1': 6840, 'name2': 6841, 'mobno': 6842, 'adam': 6843, '07123456789': 6844, 'txtno': 6845, 'ads': 6846, 'dearer': 6847, 'dem': 6848, 'permission': 6849, 'perform': 6850, 'safely': 6851, '67441233': 6852, 'irene': 6853, 'ere': 6854, 'bus8': 6855, '22': 6856, '65': 6857, '61': 6858, '66': 6859, '382': 6860, 'cres': 6861, '6ph': 6862, '5wkg': 6863, 'ì¬n': 6864, 'phone750': 6865, 'hypertension': 6866, 'surrender': 6867, 'como': 6868, 'listened2the': 6869, 'plaid': 6870, 'air1': 6871, 'hilarious': 6872, 'boughtåóbraindanceåóa': 6873, 'ofstuff': 6874, 'aphexåõs': 6875, 'abel': 6876, 'coulda': 6877, 'mesages': 6878, 'apeshit': 6879, 'simulate': 6880, 'readiness': 6881, '0906346330': 6882, '47': 6883, 'po19': 6884, '2ez': 6885, 'compensation': 6886, 'predicting': 6887, 'accumulation': 6888, 'shola': 6889, 'sagamu': 6890, 'lautech': 6891, 'vital': 6892, 'completes': 6893, 'education': 6894, 'zealand': 6895, 'resend': 6896, 'stalking': 6897, 'becausethey': 6898, '09058098002': 6899, 'pobox1': 6900, 'w14rg': 6901, 'packing': 6902, 'ridden': 6903, 'jd': 6904, 'accounts': 6905, 'footy': 6906, 'stadium': 6907, 'large': 6908, 'coca': 6909, 'cola': 6910, 'respectful': 6911, \"partner's\": 6912, 'method': 6913, 'chez': 6914, 'jules': 6915, 'rr': 6916, 'hourish': 6917, 'finalise': 6918, 'several': 6919, 'forgiveness': 6920, 'r836': 6921, '09065069154': 6922, 'thet': 6923, 'skinny': 6924, 'casting': 6925, 'headset': 6926, 'adp': 6927, 'optimistic': 6928, 'improve': 6929, '330': 6930, '1120': 6931, '1205': 6932, 'various': 6933, 'yeovil': 6934, 'motor': 6935, 'max': 6936, 'cutie': 6937, 'hills': 6938, 'ystrday': 6939, 'brownie': 6940, 'rows': 6941, 'sday': 6942, 'everyso': 6943, 'panicks': 6944, 'character': 6945, 'covers': 6946, 'ganesh': 6947, 'abroad': 6948, 'xxsp': 6949, 'stopcost': 6950, '08712400603': 6951, 'mcfly': 6952, 'ab': 6953, 'sara': 6954, 'jorge': 6955, 'instructions': 6956, '0844': 6957, '861': 6958, 'prepayment': 6959, 'telediscount': 6960, 'velachery': 6961, 'smartcall': 6962, '68866': 6963, 'subscriptn3gbp': 6964, '08448714184': 6965, 'landlineonly': 6966, '09064019788': 6967, 'box42wr29c': 6968, 'mallika': 6969, 'sherawat': 6970, 'nange': 6971, 'bakra': 6972, 'kalstiya': 6973, 'possibility': 6974, '2years': 6975, 'strain': 6976, 'warwick': 6977, 'tmw': 6978, 'canceled': 6979, \"havn't\": 6980, 'jog': 6981, 'consensus': 6982, 'predict': 6983, 'sweater': 6984, 'mango': 6985, 'elaborating': 6986, 'safety': 6987, 'aspects': 6988, 'wetherspoons': 6989, '420': 6990, 'virgin': 6991, '09061104283': 6992, '50pm': 6993, 'approx': 6994, 'pattern': 6995, 'emerging': 6996, 'fiend': 6997, 'impede': 6998, 'hesitant': 6999, 'slower': 7000, 'maniac': 7001, 'lapdancer': 7002, 'g2': 7003, '1da': 7004, '150ppmsg': 7005, '09058094583': 7006, 'garden': 7007, 'bulbs': 7008, 'seeds': 7009, 'å£33': 7010, 'scotsman': 7011, 'go2': 7012, 'notxt': 7013, 'teresa': 7014, 'dec': 7015, \"you'ld\": 7016, 'bam': 7017, 'aid': 7018, 'usmle': 7019, 'hallaq': 7020, 'owned': 7021, 'possessive': 7022, 'pract': 7023, 'flung': 7024, 'ambitious': 7025, 'rightio': 7026, '48': 7027, 'wtlp': 7028, 'housewives': 7029, '0871750': 7030, '77': 7031, 'landlines': 7032, 'stink': 7033, 'kavalan': 7034, 'guides': 7035, 'snatch': 7036, 'purse': 7037, 'monkey': 7038, 'asshole': 7039, '3lions': 7040, 'ors': 7041, 'stool': 7042, 'prasad': 7043, '98321561': 7044, 'familiar': 7045, 'prasanth': 7046, 'ettans': 7047, 'youphone': 7048, 'athome': 7049, 'youwanna': 7050, 'enna': 7051, 'kalaachutaarama': 7052, 'corvettes': 7053, 'nevr': 7054, 'unrecognized': 7055, 'somone': 7056, 'valuing': 7057, 'definitly': 7058, 'undrstnd': 7059, 'gained': 7060, 'kg': 7061, 'pressure': 7062, 'limits': 7063, 'onwords': 7064, 'mtnl': 7065, 'mumbai': 7066, 'comprehensive': 7067, 'relieved': 7068, 'westonzoyland': 7069, 'ffffuuuuuuu': 7070, 'famous': 7071, \"'anything'\": 7072, 'unconditionally': 7073, 'temper': 7074, \"'married'\": 7075, 'zac': 7076, 'forced': 7077, 'lolnice': 7078, 'christ': 7079, 'repent': 7080, 'praveesh': 7081, 'delicious': 7082, 'dvg': 7083, 'vinobanagar': 7084, 'åòharry': 7085, 'potter': 7086, 'phoenix': 7087, 'harry': 7088, 'readers': 7089, 'get4an18th': 7090, 'nachos': 7091, '08715203652': 7092, '42810': 7093, 'minimum': 7094, '3miles': 7095, 'cthen': 7096, 'conclusion': 7097, 'references': 7098, 'wikipedia': 7099, 'syria': 7100, 'acted': 7101, 'upon': 7102, 'sooooo': 7103, 'taka': 7104, 'salesman': 7105, 'puzzeles': 7106, 'stalk': 7107, 'profiles': 7108, 'goodmate': 7109, 'asusual': 7110, 'cheered': 7111, 'franyxxxxx': 7112, 'pocay': 7113, 'wocay': 7114, '2morrowxxxx': 7115, '45pm': 7116, 'basketball': 7117, 'outdoors': 7118, 'sorta': 7119, 'blown': 7120, 'ajith': 7121, '116': 7122, 'atten': 7123, 'worlds': 7124, 'discreet': 7125, '83110': 7126, 'neglect': 7127, 'hardly': 7128, 'dartboard': 7129, 'doubles': 7130, 'trebles': 7131, 'motherfucker': 7132, 'stu': 7133, 'truble': 7134, 'evone': 7135, 'hates': 7136, 'strict': 7137, 'asjesus': 7138, 'wrote': 7139, 'dippeditinadew': 7140, 'lovingly': 7141, 'itwhichturnedinto': 7142, 'gifted': 7143, 'tomeandsaid': 7144, 'grave': 7145, 'wtc': 7146, 'weiyi': 7147, 'revealing': 7148, 'gauti': 7149, 'sehwag': 7150, 'odi': 7151, 'okmail': 7152, 'mathews': 7153, 'tait': 7154, 'edwards': 7155, 'anderson': 7156, 'twins': 7157, 'amigos': 7158, 'burn': 7159, 'wrking': 7160, 'stage': 7161, 'macha': 7162, 'mindset': 7163, 'significance': 7164, 'follows': 7165, 'subsequent': 7166, '09050001808': 7167, 'm95': 7168, \"'its\": 7169, 'dial': 7170, 'browser': 7171, 'surf': 7172, 'missunderstding': 7173, \"one's\": 7174, \"it'll\": 7175, 'smarter': 7176, 'shattered': 7177, 'coco': 7178, 'cock': 7179, \"hubby's\": 7180, '89938': 7181, 'strings': 7182, '50ea': 7183, 'otbox': 7184, '731': 7185, 'la1': 7186, '7ws': 7187, 'accenture': 7188, 'greece': 7189, \"unicef's\": 7190, 'asian': 7191, 'tsunami': 7192, 'disaster': 7193, 'fund': 7194, '864233': 7195, 'frog': 7196, 'mad1': 7197, 'mad2': 7198, \"taylor's\": 7199, 'mina': 7200, \"nobody's\": 7201, '8077': 7202, 'machines': 7203, 'wildlife': 7204, 'want2come': 7205, 'that2worzels': 7206, 'wizzle': 7207, 'baaaaabe': 7208, 'misss': 7209, 'youuuuu': 7210, 'we\\x89û÷ll': 7211, 'wishlist': 7212, 'section': 7213, 'nitro': 7214, 'korean': 7215, \"leona's\": 7216, 'hasnt': 7217, 'dose': 7218, 'tablet': 7219, '08719181259': 7220, 'can\\x89û÷t': 7221, '7634': 7222, '7684': 7223, 'parties': 7224, 'clip': 7225, '35p': 7226, 'mmsto': 7227, '32323': 7228, 'plate': 7229, 'leftovers': 7230, 'tke': 7231, 'sacked': 7232, 'celebrate': 7233, 'fondly': 7234, 'ceiling': 7235, 'showers': 7236, 'possessiveness': 7237, 'poured': 7238, 'golden': 7239, 'ignorant': 7240, 'freaky': 7241, 'granite': 7242, 'explosive': 7243, 'nasdaq': 7244, 'cdgt': 7245, '08712400200': 7246, 'withdraw': 7247, 'anyhow': 7248, 'dreading': 7249, 'thou': 7250, 'netflix': 7251, '1hr': 7252, 'sooo': 7253, 'involve': 7254, 'imposed': 7255, '30th': 7256, 'areyouunique': 7257, 'jam': 7258, 'hannaford': 7259, 'wheat': 7260, 'chex': 7261, 'bognor': 7262, 'splendid': 7263, 'deduct': 7264, 'le': 7265, '61200': 7266, 'packs': 7267, 'itcould': 7268, 'tix': 7269, 'solihull': 7270, 'skateboarding': 7271, 'thrown': 7272, 'winds': 7273, 'bandages': 7274, 'situations': 7275, 'loosing': 7276, 'loyal': 7277, 'customers': 7278, '09066380611': 7279, 'xafter': 7280, 'cst': 7281, 'chg': 7282, 'steak': 7283, 'hero': 7284, 'apt': 7285, '9061100010': 7286, 'wire3': 7287, '1st4terms': 7288, 'mobcudb': 7289, \"weren't\": 7290, 'disastrous': 7291, 'flippin': 7292, 'elama': 7293, 'mudyadhu': 7294, \"sms'd\": 7295, 'surgical': 7296, 'emergency': 7297, 'unfolds': 7298, 'patty': 7299, 'haul': 7300, 'sonetimes': 7301, 'rough': 7302, 'brdget': 7303, 'jones': 7304, 'shb': 7305, 'marking': 7306, 'evaporated': 7307, 'stealing': 7308, \"employer's\": 7309, 'factory': 7310, 'install': 7311, 'browse': 7312, 'artists': 7313, 'lastest': 7314, 'stereophonics': 7315, 'marley': 7316, 'dizzee': 7317, 'racal': 7318, 'libertines': 7319, 'strokes': 7320, 'nookii': 7321, 'bookmark': 7322, 'lists': 7323, 'detail': 7324, 'signal': 7325, 'neither': 7326, 'unusual': 7327, 'misplaced': 7328, 'associate': 7329, 'aluable': 7330, 'ffectionate': 7331, 'oveable': 7332, 'ternal': 7333, 'oble': 7334, 'ruthful': 7335, 'ntimate': 7336, 'atural': 7337, 'namous': 7338, 'hon': 7339, 'doinat': 7340, 'increase': 7341, '3000': 7342, 'dao': 7343, 'careful': 7344, '078498': 7345, '08719180219': 7346, 'uncomfortable': 7347, 'rdy': 7348, '08714712394': 7349, '30pm': 7350, 'thout': 7351, 'irritation': 7352, '50s': 7353, 'alot': 7354, '49557': 7355, 'receipts': 7356, 'pendent': 7357, 'intrepid': 7358, 'duo': 7359, 'submitting': 7360, 'wining': 7361, '946': 7362, '0871277810710p': 7363, 'srsly': 7364, 'yi': 7365, 'radiator': 7366, 'tok': 7367, 'recorded': 7368, 'stereo': 7369, 'mi': 7370, 'unknown': 7371, 'thasa': 7372, 'messed': 7373, 'doke': 7374, 'dressed': 7375, 'laying': 7376, '08718730555': 7377, 'imp': 7378, 'hittng': 7379, 'reflex': 7380, 'fans': 7381, '0870141701216': 7382, '120p': 7383, 'ringing': 7384, 'houseful': 7385, 'brats': 7386, 'pulling': 7387, 'inpersonation': 7388, 'flea': 7389, 'reminded': 7390, 'chick': 7391, 'boobs': 7392, '1b6a5ecef91ff9': 7393, '37819': 7394, 'true18': 7395, '0430': 7396, 'jul': 7397, 'evenings': 7398, 'brin': 7399, 'sheet': 7400, 'casualty': 7401, 'stuff42moro': 7402, 'includes': 7403, 'cheque': 7404, 'ay': 7405, 'cloud': 7406, 'river': 7407, '083': 7408, '6089': 7409, 'isaiah': 7410, 'canåõt': 7411, 'isnåõt': 7412, 'shite': 7413, 'kip': 7414, 'smokin': 7415, 'threats': 7416, 'sales': 7417, 'shifad': 7418, 'raised': 7419, 'complaint': 7420, 'twenty': 7421, 'durham': 7422, 'reserved': 7423, 'seat': 7424, 'art': 7425, 'borrow': 7426, 'x29': 7427, '09065989180': 7428, '08719899230': 7429, 'dhanush': 7430, 'rocks': 7431, 'passport': 7432, '08718738034': 7433, 'seing': 7434, 'asssssholeeee': 7435, \"account's\": 7436, 'gandhipuram': 7437, 'grooved': 7438, 'ccna': 7439, 'julianaland': 7440, 'oblivious': 7441, '09061701851': 7442, 'k61': 7443, '12hours': 7444, 'sd': 7445, '83021': 7446, 'fellow': 7447, 'grasp': 7448, '08719181503': 7449, 'painful': 7450, 'recognises': 7451, 'nauseous': 7452, 'dieting': 7453, 'deny': 7454, 'problematic': 7455, 'nos': 7456, 'alter': 7457, 'drugdealer': 7458, 'massages': 7459, 'formally': 7460, 'screen': 7461, 'tomorro': 7462, 'taught': 7463, 'becaus': 7464, 'verifying': 7465, 'prabu': 7466, 'chachi': 7467, 'pl': 7468, 'tiz': 7469, 'kanagu': 7470, 'loud': 7471, 'spontaneously': 7472, 'goodevening': 7473, 'wisdom': 7474, 'mention': 7475, 'served': 7476, '32000': 7477, 'legitimat': 7478, 'efreefone': 7479, 'cough': 7480, 'silly': 7481, 'isn\\x89û÷t': 7482, 'cereals': 7483, 'gari': 7484, 'algarve': 7485, 'clothes': 7486, \"zaher's\": 7487, 'hiphop': 7488, 'interfued': 7489, 'seeking': 7490, 'underdtand': 7491, 'shadow': 7492, 'spring': 7493, '07808': 7494, 'xxxxxx': 7495, '08719899217': 7496, '08448350055': 7497, 'planettalkinstant': 7498, 'pocked': 7499, 'naal': 7500, 'eruku': 7501, 'taj': 7502, 'mahal': 7503, 'lesser': 7504, 'known': 7505, 'facts': 7506, \"shahjahan's\": 7507, 'wifes': 7508, 'shahjahan': 7509, 'arises': 7510, 'hari': 7511, 'adi': 7512, 'entey': 7513, 'nattil': 7514, 'kittum': 7515, 'tall': 7516, 'gonnamissu': 7517, 'buttheres': 7518, 'aboutas': 7519, 'merememberin': 7520, 'asthere': 7521, 'ofsi': 7522, 'breakin': 7523, 'yaxx': 7524, 'finishd': 7525, 'wlcome': 7526, 'lion': 7527, 'spys': 7528, 'computational': 7529, 'push': 7530, 'honestly': 7531, 'promptly': 7532, 'burnt': 7533, 'companion': 7534, 'chef': 7535, 'listener': 7536, 'organizer': 7537, 'sympathetic': 7538, 'athletic': 7539, 'courageous': 7540, 'determined': 7541, 'dependable': 7542, 'psychologist': 7543, 'pest': 7544, 'exterminator': 7545, 'psychiatrist': 7546, 'healer': 7547, 'stylist': 7548, 'driver': 7549, 'aaniye': 7550, 'pudunga': 7551, 'venaam': 7552, 'leanne': 7553, 'que': 7554, 'pases': 7555, 'buen': 7556, 'tiempo': 7557, 'rewarding': 7558, '08714712388': 7559, 'hellogorgeous': 7560, 'lst': 7561, 'nitw': 7562, 'texd': 7563, 'hopeu': 7564, '4ward': 7565, 'jaz': 7566, 'bhaji': 7567, 'cricketer': 7568, 'sigh': 7569, 'starving': 7570, 'crammed': 7571, 'deficient': 7572, 'pei': 7573, 'warned': 7574, 'sprint': 7575, 'axis': 7576, 'greatness': 7577, 'heavily': 7578, 'gpu': 7579, 'correctly': 7580, 'arty': 7581, 'collages': 7582, 'tryin': 7583, 'nick': 7584, 'types': 7585, '08718730666': 7586, 'punto': 7587, 'woulda': 7588, 'å£1million': 7589, 'ppt150x3': 7590, 'box403': 7591, 'w1t1jy': 7592, 'juswoke': 7593, 'boatin': 7594, 'docks': 7595, 'spinout': 7596, 'watchin': 7597, 'chastity': 7598, 'device': 7599, 'beatings': 7600, 'fires': 7601, 'upgrdcentre': 7602, '9153': 7603, 'girlie': 7604, 'sarasota': 7605, 'bull': 7606, 'floating': 7607, 'cumming': 7608, 'adjustable': 7609, 'cooperative': 7610, 'allows': 7611, 'units': 7612, 'accent': 7613, '4years': 7614, 'dental': 7615, 'nmde': 7616, 'tai': 7617, 'feng': 7618, 'reservations': 7619, '09050000928': 7620, 'grumble': 7621, 'å£1000call': 7622, '09071512432': 7623, '300603t': 7624, 'callcost150ppmmobilesvary': 7625, 'nìâte': 7626, 'turned': 7627, 'data': 7628, 'analysis': 7629, 'grateful': 7630, 'happier': 7631, 'highest': 7632, 'å£54': 7633, 'maximum': 7634, 'å£71': 7635, 'pt2': 7636, 'saibaba': 7637, 'colany': 7638, 'depression': 7639, 'beneath': 7640, 'pale': 7641, 'weighed': 7642, 'woohoo': 7643, '4the': 7644, 'payed': 7645, 'suganya': 7646, 'multimedia': 7647, 'draws': 7648, '09061701939': 7649, 's89': 7650, 'ecstasy': 7651, 'msgrcvd': 7652, 'customercare': 7653, 'props': 7654, 'maaaan': 7655, '07808726822': 7656, '9758': 7657, 'hiding': 7658, 'honeymoon': 7659, 'outfit': 7660, 'panasonic': 7661, 'bluetoothhdset': 7662, 'doublemins': 7663, 'doubletxt': 7664, 'lambu': 7665, 'ji': 7666, 'batchlor': 7667, 'stitch': 7668, 'trouser': 7669, \"anything's\": 7670, 'soz': 7671, 'imat': 7672, 'mums': 7673, 'ft': 7674, 'combination': 7675, 'priority': 7676, 'amused': 7677, 'reffering': 7678, 'getiing': 7679, 'nighters': 7680, 'persevered': 7681, 'tahan': 7682, 'anot': 7683, 'lo': 7684, 'guessin': 7685, 'uawake': 7686, 'feellikw': 7687, 'justfound': 7688, 'aletter': 7689, 'thatmum': 7690, 'gotmarried': 7691, '4thnov': 7692, 'ourbacks': 7693, 'fuckinnice': 7694, 'dear1': 7695, 'best1': 7696, 'clos1': 7697, 'lvblefrnd': 7698, 'jstfrnd': 7699, 'cutefrnd': 7700, 'lifpartnr': 7701, 'swtheart': 7702, 'bstfrnd': 7703, 'popping': 7704, 'ibuprofens': 7705, 'mag': 7706, '24th': 7707, 'returning': 7708, 'dramatic': 7709, 'leg': 7710, 'musta': 7711, 'overdid': 7712, 'jon': 7713, 'spain': 7714, 'sum': 7715, 'dinero': 7716, 'åôrents': 7717, '000pes': 7718, 'å£48': 7719, 'breakfast': 7720, 'hamper': 7721, '61610': 7722, '08712400602450p': 7723, 'provided': 7724, 'tones2you': 7725, 'db': 7726, 'bhaskar': 7727, '09096102316': 7728, '07090298926': 7729, '9307622': 7730, 'asus': 7731, 'reformat': 7732, 'tau': 7733, 'piah': 7734, 'hanks': 7735, 'lotsly': 7736, 'hui': 7737, 'xin': 7738, 'lib': 7739, 'sorts': 7740, 'fightng': 7741, 'dificult': 7742, 'sticky': 7743, 'fucks': 7744, 'sometme': 7745, 'pobox202': 7746, 'nr31': 7747, '7zs': 7748, '450pw': 7749, 'faggot': 7750, 'tarot': 7751, '85555': 7752, \"there'll\": 7753, 'shindig': 7754, 'assumed': 7755, 'breadstick': 7756, 'invaders': 7757, 'orig': 7758, 'console': 7759, 'scratches': 7760, 'resubbing': 7761, 'newquay': 7762, '1im': 7763, 'talkin': 7764, 'limited': 7765, 'gail': 7766, 'l8tr': 7767, 'yaxxx': 7768, 'bcaz': 7769, 'lipo': 7770, 'humanities': 7771, 'grown': 7772, 'nationwide': 7773, 'newport': 7774, '07973788240': 7775, '08715203649': 7776, 'mc': 7777, 'avalarr': 7778, 'hollalater': 7779, 'parking': 7780, 'bawling': 7781, 'failure': 7782, 'failing': 7783, 'cashed': 7784, 'announced': 7785, 'blog': 7786, 'soryda': 7787, 'sory': 7788, 'inner': 7789, 'tigress': 7790, 'ebay': 7791, '123': 7792, '09050002311': 7793, 'b4280703': 7794, '08718727868': 7795, 'documents': 7796, 'submitted': 7797, 'stapati': 7798, 'ditto': 7799, '07808247860': 7800, '08719899229': 7801, '40411': 7802, '09061702893': 7803, 'khelate': 7804, 'kintu': 7805, 'opponenter': 7806, 'dhorte': 7807, 'lage': 7808, \"tm'ing\": 7809, 'laughs': 7810, 'adding': 7811, 'zeros': 7812, 'savings': 7813, 'hos': 7814, 'heroes': 7815, 'tips': 7816, 'genes': 7817, 'begun': 7818, 'registration': 7819, 'permanent': 7820, 'residency': 7821}\n"
     ]
    }
   ],
   "source": [
    "# 각 정수가 어떤 단어에 부여되었는지 확인해봅시다.\n",
    "word_to_index = tokenizer.word_index\n",
    "print(len(word_to_index))\n",
    "print(word_to_index)"
   ]
  },
  {
   "cell_type": "raw",
   "id": "8f6ba240",
   "metadata": {},
   "source": [
    "위에서 부여된 각 정수는 각 단어의 빈도수가 높을 수록 낮은 정수가 부여됩니다.\n",
    "다시 말해, 단어 i는 현재 전체 훈련 데이터에서 빈도수가 가장 높은 단어입니다.\n",
    "\n",
    "각 단어에 대한 등장 빈도수는 tokenizer.word_counts.items()를 출력해서 확인할 수 있습니다. 이를 응용하여 빈도수가 낮은 단어들이 훈련 데이터에서 얼만큼의 비중을 차지하는지 확인해볼 수 있습니다. \n",
    "등장 빈도수가 1회 밖에 되지 않는 단어들이 전체 단어 집합에서 얼만큼의 비율을 차지하며, 전체 훈련 데이터에서 등장 빈도로 얼만큼의 비율을 차지하는지 확인해보겠습니다."
   ]
  },
  {
   "cell_type": "code",
   "execution_count": 25,
   "id": "8dfff0f3",
   "metadata": {},
   "outputs": [
    {
     "name": "stdout",
     "output_type": "stream",
     "text": [
      "단어 사전의 총 단어수:  7821\n",
      "등장 빈도가 1번 이하인 희귀 단어의 수: 4337\n",
      "단어 집합(vocabulary)에서 희귀 단어의 비율: 55.45326684567191\n",
      "전체 등장 빈도에서 희귀 단어 등장 빈도 비율: 6.65745644331875\n"
     ]
    }
   ],
   "source": [
    "threshold = 2   # 희귀 단어 기준\n",
    "total_cnt = len(word_to_index) # 단어의 수\n",
    "rare_cnt = 0    # 등장 빈도수가 threshold보다 작은 단어의 개수를 카운트\n",
    "total_freq = 0  # 훈련 데이터의 전체 단어 빈도수 총 합\n",
    "rare_freq = 0   # 등장 빈도수가 threshold보다 작은 단어의 등장 빈도수의 총 합\n",
    "\n",
    "# 단어와 빈도수의 쌍(pair)을 key와 value로 받는다.\n",
    "for key, value in tokenizer.word_counts.items():\n",
    "    total_freq = total_freq + value\n",
    "\n",
    "    # 단어의 등장 빈도수가 threshold보다 작으면\n",
    "    if(value < threshold):\n",
    "        rare_cnt = rare_cnt + 1\n",
    "        rare_freq = rare_freq + value\n",
    "\n",
    "print('단어 사전의 총 단어수: ', len(word_to_index))\n",
    "print('등장 빈도가 %s번 이하인 희귀 단어의 수: %s'%(threshold - 1, rare_cnt))\n",
    "print(\"단어 집합(vocabulary)에서 희귀 단어의 비율:\", (rare_cnt / total_cnt)*100)\n",
    "print(\"전체 등장 빈도에서 희귀 단어 등장 빈도 비율:\", (rare_freq / total_freq)*100)"
   ]
  },
  {
   "cell_type": "raw",
   "id": "fc536837",
   "metadata": {},
   "source": [
    "등장 빈도가 threshold 값인 2회 미만. 즉, 1회 밖에 되지 않는 단어들은 단어 집합에서 무려 절반 이상을 차지합니다.\n",
    "하지만, 실제로 훈련 데이터에서 등장 빈도로 차지하는 비중은 상대적으로 적은 수치인 6%밖에 되지 않습니다.\n",
    "만약, 이러한 분석을 통해 등장 빈도가 지나치게 낮은 단어들은 자연어 처리에서 제외하고 싶다면\n",
    "케라스 토크나이저 선언 시에 단어 집합의 크기를 제한할 수 있습니다.\n",
    "가령, 아래의 코드로 등장 빈도가 1회인 단어들을 제외할 수 있을 겁니다.\n",
    "tokenizer = Tokenizer(num_words = total_cnt - rare_cnt + 1)"
   ]
  },
  {
   "cell_type": "raw",
   "id": "cbbc9dfe",
   "metadata": {},
   "source": [
    "하지만 이번 실습에서는 별도로 단어 집합의 크기를 제한하진 않겠습니다. \n",
    "단어 집합의 크기를 vocab_size에 저장하겠습니다. 패딩을 위한 토큰인 0번 단어를 고려하며 +1을 해서 저장합니다."
   ]
  },
  {
   "cell_type": "code",
   "execution_count": 26,
   "id": "0a7269e0",
   "metadata": {},
   "outputs": [
    {
     "name": "stdout",
     "output_type": "stream",
     "text": [
      "단어 집합의 크기: 7822\n"
     ]
    }
   ],
   "source": [
    "# 패딩이 포함된 단어 사전 크기\n",
    "vocab_size = len(word_to_index) + 1\n",
    "print('단어 집합의 크기: {}'.format((vocab_size)))"
   ]
  },
  {
   "cell_type": "code",
   "execution_count": 27,
   "id": "81d03a0a",
   "metadata": {},
   "outputs": [
    {
     "name": "stdout",
     "output_type": "stream",
     "text": [
      "메일의 최대 길이 : 189\n",
      "메일의 평균 길이 : 15.754534\n"
     ]
    },
    {
     "data": {
      "image/png": "[encoded data removed]",
      "text/plain": [
       "<Figure size 432x288 with 1 Axes>"
      ]
     },
     "metadata": {
      "needs_background": "light"
     },
     "output_type": "display_data"
    }
   ],
   "source": [
    "# 시각화\n",
    "print('메일의 최대 길이 : %d' % max(len(sample) for sample in X_train_encoded))\n",
    "print('메일의 평균 길이 : %f' % (sum(map(len, X_train_encoded))/len(X_train_encoded)))\n",
    "plt.hist([len(sample) for sample in X_data], bins=50)\n",
    "plt.xlabel('length of samples')\n",
    "plt.ylabel('number of samples')\n",
    "plt.show()"
   ]
  },
  {
   "cell_type": "raw",
   "id": "f63439c5",
   "metadata": {},
   "source": [
    "가장 긴 메일의 길이는 189이며, 전체 데이터의 길이 분포는 대체적으로 약 50이하의 길이를 가집니다."
   ]
  },
  {
   "cell_type": "code",
   "execution_count": 28,
   "id": "da1df511",
   "metadata": {},
   "outputs": [
    {
     "name": "stdout",
     "output_type": "stream",
     "text": [
      "훈련 데이터의 크기(shape): (4135, 189)\n"
     ]
    }
   ],
   "source": [
    "# 패딩 : 긴 텍스트는 자르고, 짧은 텍스트는 패딩을 더해서 늘리고.\n",
    "max_len = 189\n",
    "X_train_padded = pad_sequences(X_train_encoded, maxlen = max_len)\n",
    "print(\"훈련 데이터의 크기(shape):\", X_train_padded.shape)"
   ]
  },
  {
   "cell_type": "raw",
   "id": "c9c1ed88",
   "metadata": {},
   "source": [
    "maxlen에는 가장 긴 메일의 길이였던 189이라는 숫자를 넣었습니다. \n",
    "이는 4,135개의 X_train_encoded의 길이를 전부 189로 바꿉니다. \n",
    "189보다 길이가 짧은 메일 샘플은 전부 숫자 0이 패딩되어 189의 길이를 가집니다\n",
    "\n",
    "X_train_encoded 데이터는 4,135 × 189의 크기를 갖게됩니다. 모델을 설계해보겠습니다."
   ]
  },
  {
   "cell_type": "markdown",
   "id": "8e302ec1",
   "metadata": {},
   "source": [
    "# 2. RNN으로 스팸 메일 분류하기"
   ]
  },
  {
   "cell_type": "raw",
   "id": "c63e5749",
   "metadata": {},
   "source": [
    "하이퍼파라미터인 임베딩 벡터의 차원은 64, 은닉 상태의 크기는 64입니다.\n",
    "모델은 다 대 일 구조의 RNN을 사용합니다.\n",
    "해당 모델은 마지막 시점에서 두 개의 선택지 중 하나를 예측하는 이진 분류 문제를 수행하는 모델입니다. \n",
    "이진 분류 문제의 경우, 출력층에 로지스틱 회귀를 사용해야 하므로 활성화 함수로는 시그모이드 함수를 사용하고, \n",
    "손실 함수로 binary 크로스 엔트로피 함수를 사용하여 8번의 에포크를 수행합니다.\n",
    "\n",
    "하이퍼파라미터인 배치 크기는 128이며, validation_split=0.2을 사용하여 훈련 데이터의 20%를 검증 데이터로 분리해서 사용하고, 검증 데이터를 통해서 훈련이 적절히 되고 있는지 확인합니다. 검증 데이터는 기계가 훈련 데이터에 과적합되고 있지는 않은지 확인하기 위한 용도로 사용됩니다."
   ]
  },
  {
   "cell_type": "code",
   "execution_count": 29,
   "id": "0e5920c7",
   "metadata": {},
   "outputs": [
    {
     "name": "stdout",
     "output_type": "stream",
     "text": [
      "Epoch 1/13\n",
      "26/26 [==============================] - 10s 180ms/step - loss: 0.3807 - acc: 0.8558 - val_loss: 0.3415 - val_acc: 0.8779\n",
      "Epoch 2/13\n",
      "26/26 [==============================] - 4s 162ms/step - loss: 0.1646 - acc: 0.9513 - val_loss: 0.2417 - val_acc: 0.9057\n",
      "Epoch 3/13\n",
      "26/26 [==============================] - 4s 150ms/step - loss: 0.0730 - acc: 0.9810 - val_loss: 0.0689 - val_acc: 0.9819\n",
      "Epoch 4/13\n",
      "26/26 [==============================] - 4s 148ms/step - loss: 0.0397 - acc: 0.9900 - val_loss: 0.0612 - val_acc: 0.9843\n",
      "Epoch 5/13\n",
      "26/26 [==============================] - 4s 151ms/step - loss: 0.0322 - acc: 0.9906 - val_loss: 0.0578 - val_acc: 0.9855\n",
      "Epoch 6/13\n",
      "26/26 [==============================] - 4s 146ms/step - loss: 0.0141 - acc: 0.9970 - val_loss: 0.0614 - val_acc: 0.9831\n",
      "Epoch 7/13\n",
      "26/26 [==============================] - 4s 169ms/step - loss: 0.0101 - acc: 0.9979 - val_loss: 0.0653 - val_acc: 0.9831\n",
      "Epoch 8/13\n",
      "26/26 [==============================] - 4s 148ms/step - loss: 0.0052 - acc: 0.9988 - val_loss: 0.0684 - val_acc: 0.9855\n",
      "Epoch 9/13\n",
      "26/26 [==============================] - 4s 138ms/step - loss: 0.0033 - acc: 0.9991 - val_loss: 0.0694 - val_acc: 0.9843\n",
      "Epoch 10/13\n",
      "26/26 [==============================] - 4s 152ms/step - loss: 0.0069 - acc: 0.9979 - val_loss: 0.0707 - val_acc: 0.9843\n",
      "Epoch 11/13\n",
      "26/26 [==============================] - 4s 141ms/step - loss: 0.0032 - acc: 0.9994 - val_loss: 0.0687 - val_acc: 0.9855\n",
      "Epoch 12/13\n",
      "26/26 [==============================] - 4s 148ms/step - loss: 0.1207 - acc: 0.9528 - val_loss: 0.1360 - val_acc: 0.9528\n",
      "Epoch 13/13\n",
      "26/26 [==============================] - 3s 123ms/step - loss: 0.0895 - acc: 0.9655 - val_loss: 0.0950 - val_acc: 0.9758\n"
     ]
    }
   ],
   "source": [
    "from tensorflow.keras.layers import SimpleRNN, Embedding, Dense\n",
    "from tensorflow.keras.models import Sequential\n",
    "\n",
    "embedding_dim = 64\n",
    "hidden_units = 64\n",
    "\n",
    "model = Sequential()\n",
    "model.add(Embedding(vocab_size, embedding_dim, input_length=189))\n",
    "model.add(SimpleRNN(hidden_units))\n",
    "model.add(Dense(1, activation='sigmoid'))\n",
    "\n",
    "model.compile(optimizer='rmsprop', loss='binary_crossentropy', metrics=['acc'])\n",
    "history = model.fit(X_train_padded, y_train, epochs=13, batch_size=128, validation_split=0.2)"
   ]
  },
  {
   "cell_type": "code",
   "execution_count": 30,
   "id": "1c41d6df",
   "metadata": {},
   "outputs": [
    {
     "name": "stdout",
     "output_type": "stream",
     "text": [
      "33/33 [==============================] - 1s 15ms/step - loss: 0.1355 - acc: 0.9662\n",
      "\n",
      " 테스트 정확도: 0.9662\n"
     ]
    }
   ],
   "source": [
    "X_test_encoded = tokenizer.texts_to_sequences(X_test)\n",
    "X_test_padded = pad_sequences(X_test_encoded, maxlen = max_len)\n",
    "print(\"\\n 테스트 정확도: %.4f\" % (model.evaluate(X_test_padded, y_test)[1]))"
   ]
  },
  {
   "cell_type": "raw",
   "id": "bbd60a04",
   "metadata": {},
   "source": [
    "정확도가 97%가 나왔습니다. \n",
    "이번 실습에서는 훈련 데이터와 검증 데이터에 대해서 같이 정확도를 확인하면서 훈련하였으므로, 이를 비교하여 그래프로 시각화해보겠습니다."
   ]
  },
  {
   "cell_type": "code",
   "execution_count": 31,
   "id": "f9a7774c",
   "metadata": {},
   "outputs": [
    {
     "data": {
      "image/png": "[encoded data removed]",
      "text/plain": [
       "<Figure size 432x288 with 1 Axes>"
      ]
     },
     "metadata": {
      "needs_background": "light"
     },
     "output_type": "display_data"
    }
   ],
   "source": [
    "epochs = range(1, len(history.history['acc']) + 1)\n",
    "plt.plot(epochs, history.history['loss'])\n",
    "plt.plot(epochs, history.history['val_loss'])\n",
    "plt.title('model loss')\n",
    "plt.ylabel('loss')\n",
    "plt.xlabel('epoch')\n",
    "plt.legend(['train', 'val'], loc='upper right')\n",
    "plt.show()"
   ]
  }
 ],
 "metadata": {
  "kernelspec": {
   "display_name": "Python 3 (ipykernel)",
   "language": "python",
   "name": "python3"
  },
  "language_info": {
   "codemirror_mode": {
    "name": "ipython",
    "version": 3
   },
   "file_extension": ".py",
   "mimetype": "text/x-python",
   "name": "python",
   "nbconvert_exporter": "python",
   "pygments_lexer": "ipython3",
   "version": "3.9.7"
  },
  "toc": {
   "base_numbering": 1,
   "nav_menu": {},
   "number_sections": true,
   "sideBar": true,
   "skip_h1_title": false,
   "title_cell": "Table of Contents",
   "title_sidebar": "Contents",
   "toc_cell": false,
   "toc_position": {},
   "toc_section_display": true,
   "toc_window_display": false
  },
  "varInspector": {
   "cols": {
    "lenName": 16,
    "lenType": 16,
    "lenVar": 40
   },
   "kernels_config": {
    "python": {
     "delete_cmd_postfix": "",
     "delete_cmd_prefix": "del ",
     "library": "var_list.py",
     "varRefreshCmd": "print(var_dic_list())"
    },
    "r": {
     "delete_cmd_postfix": ") ",
     "delete_cmd_prefix": "rm(",
     "library": "var_list.r",
     "varRefreshCmd": "cat(var_dic_list()) "
    }
   },
   "types_to_exclude": [
    "module",
    "function",
    "builtin_function_or_method",
    "instance",
    "_Feature"
   ],
   "window_display": false
  }
 },
 "nbformat": 4,
 "nbformat_minor": 5
}
