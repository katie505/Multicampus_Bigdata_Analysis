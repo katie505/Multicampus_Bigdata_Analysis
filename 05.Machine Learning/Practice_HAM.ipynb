{
 "cells": [
  {
   "cell_type": "code",
   "execution_count": 12,
   "id": "1a182952",
   "metadata": {},
   "outputs": [],
   "source": [
    "import tensorflow as tf\n",
    "import numpy as np\n",
    "import tensorflow.keras\n",
    "import tensorflow.keras.backend as K\n",
    "import cv2\n",
    "import os\n",
    "import math\n",
    "import scipy as sp\n",
    "import PIL\n",
    "\n",
    "#import scikitplot as askplt\n",
    "import matplotlib.pyplot as plt\n",
    "#import efficientnet.tfkeras as efn\n",
    "\n",
    "from tensorflow.keras import models, layers, Model, regularizers\n",
    "from tensorflow.keras.models import Sequential, load_model\n",
    "from tensorflow.keras.layers import Conv2D, MaxPooling2D\n",
    "from tensorflow.keras.layers import Dense, Dropout, Flatten, GlobalAveragePooling2D\n",
    "from tensorflow.keras.preprocessing.image import ImageDataGenerator\n",
    "from tensorflow.keras.callbacks import ModelCheckpoint, TensorBoard, ReduceLROnPlateau\n",
    "from tensorflow.keras import optimizers\n",
    "from tensorflow.keras.optimizers import SGD\n",
    "from tensorflow.keras.models import Model\n",
    "from tensorflow.keras.preprocessing import image\n",
    "from tensorflow.keras.applications import EfficientNetB4, EfficientNetB6, ResNet50V2\n",
    "\n",
    "from PIL import Image\n",
    "import pandas as pd\n",
    "import os\n",
    "\n",
    "from sklearn.metrics import roc_auc_score"
   ]
  },
  {
   "cell_type": "markdown",
   "id": "7b69cd21",
   "metadata": {},
   "source": [
    "## Hyper parameter setting"
   ]
  },
  {
   "cell_type": "code",
   "execution_count": 13,
   "id": "402aa69f",
   "metadata": {},
   "outputs": [],
   "source": [
    "batch_size = 21\n",
    "epochs = 20\n",
    "LearningRate = 3e-3\n",
    "Decay = 1e-6\n",
    "img_width = 224\n",
    "img_height = 224"
   ]
  },
  {
   "cell_type": "code",
   "execution_count": 14,
   "id": "a94021c5",
   "metadata": {},
   "outputs": [],
   "source": [
    "MODEL_DIRECTORY = \"MODEL\\\\\"\n",
    "TENSB_DIRECTORY = \"TENSORBOARD\\\\\""
   ]
  },
  {
   "cell_type": "markdown",
   "id": "bb632cd7",
   "metadata": {},
   "source": [
    "## Read metafile (dataframe)\n",
    "sample 함수를 활용해서 dataframe row를 shuffle 하는 이유: 한 batch 안에 label이 모두 동일 하다면, 학습이 잘못된 방향으로 진행 됨"
   ]
  },
  {
   "cell_type": "code",
   "execution_count": 15,
   "id": "011060a2",
   "metadata": {},
   "outputs": [
    {
     "data": {
      "text/html": [
       "<div>\n",
       "<style scoped>\n",
       "    .dataframe tbody tr th:only-of-type {\n",
       "        vertical-align: middle;\n",
       "    }\n",
       "\n",
       "    .dataframe tbody tr th {\n",
       "        vertical-align: top;\n",
       "    }\n",
       "\n",
       "    .dataframe thead th {\n",
       "        text-align: right;\n",
       "    }\n",
       "</style>\n",
       "<table border=\"1\" class=\"dataframe\">\n",
       "  <thead>\n",
       "    <tr style=\"text-align: right;\">\n",
       "      <th></th>\n",
       "      <th>lesion_id</th>\n",
       "      <th>image_id</th>\n",
       "      <th>dx</th>\n",
       "      <th>dx_type</th>\n",
       "      <th>age</th>\n",
       "      <th>sex</th>\n",
       "      <th>localization</th>\n",
       "    </tr>\n",
       "  </thead>\n",
       "  <tbody>\n",
       "    <tr>\n",
       "      <th>5524</th>\n",
       "      <td>HAM_0003085</td>\n",
       "      <td>ISIC_0027809.jpg</td>\n",
       "      <td>nv</td>\n",
       "      <td>follow_up</td>\n",
       "      <td>45.0</td>\n",
       "      <td>female</td>\n",
       "      <td>trunk</td>\n",
       "    </tr>\n",
       "    <tr>\n",
       "      <th>3008</th>\n",
       "      <td>HAM_0000699</td>\n",
       "      <td>ISIC_0031575.jpg</td>\n",
       "      <td>nv</td>\n",
       "      <td>follow_up</td>\n",
       "      <td>50.0</td>\n",
       "      <td>male</td>\n",
       "      <td>lower extremity</td>\n",
       "    </tr>\n",
       "    <tr>\n",
       "      <th>4665</th>\n",
       "      <td>HAM_0001571</td>\n",
       "      <td>ISIC_0029156.jpg</td>\n",
       "      <td>nv</td>\n",
       "      <td>follow_up</td>\n",
       "      <td>55.0</td>\n",
       "      <td>female</td>\n",
       "      <td>lower extremity</td>\n",
       "    </tr>\n",
       "    <tr>\n",
       "      <th>6945</th>\n",
       "      <td>HAM_0007295</td>\n",
       "      <td>ISIC_0031380.jpg</td>\n",
       "      <td>nv</td>\n",
       "      <td>histo</td>\n",
       "      <td>60.0</td>\n",
       "      <td>female</td>\n",
       "      <td>chest</td>\n",
       "    </tr>\n",
       "    <tr>\n",
       "      <th>803</th>\n",
       "      <td>HAM_0004224</td>\n",
       "      <td>ISIC_0026248.jpg</td>\n",
       "      <td>bkl</td>\n",
       "      <td>confocal</td>\n",
       "      <td>80.0</td>\n",
       "      <td>male</td>\n",
       "      <td>face</td>\n",
       "    </tr>\n",
       "  </tbody>\n",
       "</table>\n",
       "</div>"
      ],
      "text/plain": [
       "        lesion_id          image_id   dx    dx_type   age     sex  \\\n",
       "5524  HAM_0003085  ISIC_0027809.jpg   nv  follow_up  45.0  female   \n",
       "3008  HAM_0000699  ISIC_0031575.jpg   nv  follow_up  50.0    male   \n",
       "4665  HAM_0001571  ISIC_0029156.jpg   nv  follow_up  55.0  female   \n",
       "6945  HAM_0007295  ISIC_0031380.jpg   nv      histo  60.0  female   \n",
       "803   HAM_0004224  ISIC_0026248.jpg  bkl   confocal  80.0    male   \n",
       "\n",
       "         localization  \n",
       "5524            trunk  \n",
       "3008  lower extremity  \n",
       "4665  lower extremity  \n",
       "6945            chest  \n",
       "803              face  "
      ]
     },
     "execution_count": 15,
     "metadata": {},
     "output_type": "execute_result"
    }
   ],
   "source": [
    "Data = pd.read_csv(\"HAM10000_metadata.csv\")\n",
    "Data['image_id'] = Data['image_id'] + '.jpg'\n",
    "Data = Data.sample(frac=1)\n",
    "Data.head()"
   ]
  },
  {
   "cell_type": "markdown",
   "id": "f5a4f0a4",
   "metadata": {},
   "source": [
    "## Image Generator"
   ]
  },
  {
   "cell_type": "code",
   "execution_count": 16,
   "id": "33ac1d8f",
   "metadata": {},
   "outputs": [],
   "source": [
    "DATAGEN_TRAIN = ImageDataGenerator(\n",
    "    rescale=1./255,\n",
    "    rotation_range=15,\n",
    "    width_shift_range=0.13,\n",
    "    height_shift_range=0.13,\n",
    "    shear_range=0.13,\n",
    "    zoom_range=0.13, \n",
    "    horizontal_flip=True,\n",
    "    vertical_flip=True,\n",
    "    data_format=\"channels_last\",\n",
    "    brightness_range=[0.2,1.2],\n",
    "    validation_split=0.10)"
   ]
  },
  {
   "cell_type": "code",
   "execution_count": 17,
   "id": "163c5831",
   "metadata": {},
   "outputs": [
    {
     "name": "stdout",
     "output_type": "stream",
     "text": [
      "Found 4500 validated image filenames belonging to 7 classes.\n"
     ]
    },
    {
     "name": "stderr",
     "output_type": "stream",
     "text": [
      "C:\\Users\\daess\\anaconda3\\lib\\site-packages\\keras\\preprocessing\\image.py:989: UserWarning: Found 5015 invalid image filename(s) in x_col=\"image_id\". These filename(s) will be ignored.\n",
      "  warnings.warn('Found {} invalid image filename(s) in x_col=\"{}\". '\n"
     ]
    }
   ],
   "source": [
    "TRAIN_GENERATOR = DATAGEN_TRAIN.flow_from_dataframe(\n",
    "    Data,\n",
    "    directory='DATA_TRAIN',\n",
    "    x_col='image_id',\n",
    "    y_col='dx', \n",
    "    target_size=(img_height, img_width), \n",
    "    color_mode='rgb',\n",
    "    class_mode='categorical', \n",
    "    batch_size=batch_size,\n",
    "    shuffle=True,\n",
    "    subset='training')"
   ]
  },
  {
   "cell_type": "code",
   "execution_count": 18,
   "id": "b9515000",
   "metadata": {},
   "outputs": [
    {
     "name": "stdout",
     "output_type": "stream",
     "text": [
      "Found 500 validated image filenames belonging to 7 classes.\n"
     ]
    }
   ],
   "source": [
    "VALID_GENERATOR = DATAGEN_TRAIN.flow_from_dataframe(\n",
    "    Data,\n",
    "    directory='DATA_TRAIN',\n",
    "    x_col='image_id',\n",
    "    y_col='dx', \n",
    "    target_size=(img_height, img_width), \n",
    "    color_mode='rgb',\n",
    "    class_mode='categorical', \n",
    "    batch_size=batch_size,\n",
    "    shuffle=True,\n",
    "    subset='validation')"
   ]
  },
  {
   "cell_type": "code",
   "execution_count": 19,
   "id": "9fc67ca6",
   "metadata": {
    "scrolled": true
   },
   "outputs": [
    {
     "name": "stdout",
     "output_type": "stream",
     "text": [
      "Found 5015 validated image filenames belonging to 7 classes.\n"
     ]
    },
    {
     "name": "stderr",
     "output_type": "stream",
     "text": [
      "C:\\Users\\daess\\anaconda3\\lib\\site-packages\\keras\\preprocessing\\image.py:989: UserWarning: Found 5000 invalid image filename(s) in x_col=\"image_id\". These filename(s) will be ignored.\n",
      "  warnings.warn('Found {} invalid image filename(s) in x_col=\"{}\". '\n"
     ]
    }
   ],
   "source": [
    "DATAGEN_TEST = ImageDataGenerator(\n",
    "    rescale=1./255,\n",
    "    data_format=\"channels_last\")\n",
    "\n",
    "TEST_GENERATOR = DATAGEN_TEST.flow_from_dataframe(\n",
    "    Data,\n",
    "    directory='DATA_TEST',\n",
    "    x_col='image_id',\n",
    "    y_col='dx', \n",
    "    target_size=(img_height, img_width), \n",
    "    color_mode='rgb',\n",
    "    class_mode='categorical', \n",
    "    batch_size=batch_size,\n",
    "    shuffle=False,)"
   ]
  },
  {
   "cell_type": "markdown",
   "id": "bdcd8678",
   "metadata": {},
   "source": [
    "'binary'      :   [0] or   [1] # Sigmoid & binary_crossentropy -> Binary classification or Mutli-label classification <br>\n",
    "'categorical' : [1,0] or [0,1] # Softmax & categorical_crossentropy -> Multi-class classification <br>"
   ]
  },
  {
   "cell_type": "markdown",
   "id": "e0307451",
   "metadata": {},
   "source": [
    "## 임의의 batch로 이미지와 label을 가져와서, 분포를 확인\n",
    "(분포 확인 안했을 때, 한 batch에서 모든 class의 label이 동일하다 -> 이러면 학습에 문제가 발생"
   ]
  },
  {
   "cell_type": "code",
   "execution_count": 20,
   "id": "c330ba6a",
   "metadata": {},
   "outputs": [],
   "source": [
    "Images, Labels = VALID_GENERATOR.__getitem__(0)"
   ]
  },
  {
   "cell_type": "code",
   "execution_count": 21,
   "id": "6242957d",
   "metadata": {
    "scrolled": true
   },
   "outputs": [
    {
     "data": {
      "text/plain": [
       "array([[0., 0., 0., 0., 0., 1., 0.],\n",
       "       [0., 0., 0., 0., 0., 1., 0.],\n",
       "       [0., 0., 0., 0., 1., 0., 0.],\n",
       "       [0., 0., 0., 0., 0., 1., 0.],\n",
       "       [0., 0., 0., 0., 0., 1., 0.],\n",
       "       [0., 0., 0., 0., 0., 1., 0.],\n",
       "       [0., 0., 0., 0., 0., 1., 0.],\n",
       "       [0., 0., 0., 1., 0., 0., 0.],\n",
       "       [0., 0., 0., 0., 0., 1., 0.],\n",
       "       [0., 0., 0., 0., 0., 1., 0.],\n",
       "       [0., 0., 1., 0., 0., 0., 0.],\n",
       "       [0., 0., 0., 1., 0., 0., 0.],\n",
       "       [0., 0., 0., 0., 0., 1., 0.],\n",
       "       [0., 0., 0., 0., 0., 1., 0.],\n",
       "       [0., 0., 0., 0., 0., 1., 0.],\n",
       "       [0., 1., 0., 0., 0., 0., 0.],\n",
       "       [0., 0., 1., 0., 0., 0., 0.],\n",
       "       [1., 0., 0., 0., 0., 0., 0.],\n",
       "       [0., 1., 0., 0., 0., 0., 0.],\n",
       "       [0., 1., 0., 0., 0., 0., 0.],\n",
       "       [1., 0., 0., 0., 0., 0., 0.]], dtype=float32)"
      ]
     },
     "execution_count": 21,
     "metadata": {},
     "output_type": "execute_result"
    }
   ],
   "source": [
    "Labels"
   ]
  },
  {
   "cell_type": "markdown",
   "id": "8fa638f1",
   "metadata": {},
   "source": [
    "## Model architecutre & Fine-tunning\n",
    "\n",
    "7가지 class 중 하나를 선택 해야하는 Multi-class problem<br>\n",
    "-> 따라서 activation function: softmax<br>\n",
    "-> unit = 7개<br>\n",
    "<br>\n",
    "compile loss: categorical_crossentropy"
   ]
  },
  {
   "cell_type": "code",
   "execution_count": 22,
   "id": "1e54f8f4",
   "metadata": {},
   "outputs": [
    {
     "name": "stdout",
     "output_type": "stream",
     "text": [
      "Downloading data from https://storage.googleapis.com/tensorflow/keras-applications/resnet/resnet50_weights_tf_dim_ordering_tf_kernels_notop.h5\n",
      "94765736/94765736 [==============================] - 27s 0us/step\n"
     ]
    }
   ],
   "source": [
    "ResNet50 = tf.keras.applications.ResNet50(include_top=False, weights='imagenet',\n",
    "                                          input_tensor=None, input_shape=(img_width,img_height,3), pooling=None)\n",
    "x = GlobalAveragePooling2D()(ResNet50.output)\n",
    "Prediction = Dense(7, activation='softmax')(x)\n",
    "model = Model(inputs=ResNet50.input, outputs=Prediction)"
   ]
  },
  {
   "cell_type": "code",
   "execution_count": 23,
   "id": "61d7caa3",
   "metadata": {},
   "outputs": [],
   "source": [
    "model.compile(\n",
    "    loss='categorical_crossentropy',\n",
    "    optimizer='adam',\n",
    "    metrics=['acc']\n",
    ")"
   ]
  },
  {
   "cell_type": "code",
   "execution_count": 24,
   "id": "c9541eeb",
   "metadata": {},
   "outputs": [],
   "source": [
    "CP = ModelCheckpoint(filepath=MODEL_DIRECTORY+\n",
    "                     'ResNet50-RESNET-Softmax-{epoch:03d}-{loss:.4f}-{acc:.4f}-{val_loss:.4f}-{val_acc:.4f}.hdf5',\n",
    "     monitor='val_loss', verbose=1, save_best_only=True, mode='min')\n",
    "\n",
    "TB = TensorBoard(log_dir=TENSB_DIRECTORY, write_graph=True, write_images=True, profile_batch = 100000000)\n",
    "LR = ReduceLROnPlateau(monitor='val_loss',factor=0.5,patience=5, verbose=1, min_lr=0.00005)\n",
    "CALLBACK = [CP, TB, LR]"
   ]
  },
  {
   "cell_type": "code",
   "execution_count": null,
   "id": "2f001c57",
   "metadata": {
    "scrolled": true
   },
   "outputs": [
    {
     "name": "stdout",
     "output_type": "stream",
     "text": [
      "Epoch 1/3\n",
      "  7/215 [..............................] - ETA: 1:02:39 - loss: 1.4092 - acc: 0.5986"
     ]
    }
   ],
   "source": [
    "model.fit(\n",
    "    TRAIN_GENERATOR,\n",
    "    validation_data  = VALID_GENERATOR,\n",
    "    epochs=3,\n",
    "    callbacks=CALLBACK,\n",
    "    shuffle=True)"
   ]
  },
  {
   "cell_type": "markdown",
   "id": "72e413f3",
   "metadata": {
    "tags": []
   },
   "source": [
    "#### 강사가 보내준 완벽하게 학습되지 않은 애매한 모델"
   ]
  },
  {
   "cell_type": "code",
   "execution_count": null,
   "id": "218167ba",
   "metadata": {},
   "outputs": [],
   "source": [
    "model.load_weights(\"MODEL/ResNet50-Softmax-028-0.4848-0.8207-0.8499-0.7000.hdf5\")"
   ]
  },
  {
   "cell_type": "code",
   "execution_count": null,
   "id": "e51b2455",
   "metadata": {},
   "outputs": [],
   "source": [
    "model.evaluate(TEST_GENERATOR)"
   ]
  },
  {
   "cell_type": "markdown",
   "id": "a6604073",
   "metadata": {},
   "source": [
    "# Class Activation Map"
   ]
  },
  {
   "cell_type": "markdown",
   "id": "4ac5e23b",
   "metadata": {},
   "source": [
    "Conv output value를 가져오고자 하는 layer: conv5_block3_out"
   ]
  },
  {
   "cell_type": "code",
   "execution_count": null,
   "id": "d27fad12",
   "metadata": {},
   "outputs": [],
   "source": [
    "model.summary()"
   ]
  },
  {
   "cell_type": "markdown",
   "id": "1ccfef9e",
   "metadata": {},
   "source": [
    "conv5_block3_out에서 출력되는 값을 가져오기 위한 모델, CAM_MODEL 정의"
   ]
  },
  {
   "cell_type": "code",
   "execution_count": null,
   "id": "6e96e3ef",
   "metadata": {},
   "outputs": [],
   "source": [
    "CAM_MODEL = Model(inputs=model.input, outputs=[model.get_layer('conv5_block3_out').output, model.output])"
   ]
  },
  {
   "cell_type": "code",
   "execution_count": null,
   "id": "62730f57",
   "metadata": {},
   "outputs": [],
   "source": [
    "Images, Labels = TEST_GENERATOR.__getitem__(0)"
   ]
  },
  {
   "cell_type": "code",
   "execution_count": null,
   "id": "b0147a0e",
   "metadata": {},
   "outputs": [],
   "source": [
    "ConvOutput, Predicted = CAM_MODEL.predict(Images[:1])\n",
    "print(Predicted.round(3))\n",
    "ConvOutput = ConvOutput[0, :, :, :]\n",
    "Weights = CAM_MODEL.get_layer('dense').get_weights()[0][:, 5]"
   ]
  },
  {
   "cell_type": "code",
   "execution_count": null,
   "id": "4641c068",
   "metadata": {},
   "outputs": [],
   "source": [
    "print(ConvOutput.shape)\n",
    "print(Weights.shape)"
   ]
  },
  {
   "cell_type": "markdown",
   "id": "f85f419a",
   "metadata": {},
   "source": [
    "##### Heatmap * weight 의 합"
   ]
  },
  {
   "cell_type": "code",
   "execution_count": null,
   "id": "7373e8b6",
   "metadata": {},
   "outputs": [],
   "source": [
    "Heatmap = np.ndarray(shape=(7, 7), dtype='uint8')\n",
    "for i in range(2048):\n",
    "    Heatmap = Heatmap + ConvOutput[:, :, i] * Weights[i]"
   ]
  },
  {
   "cell_type": "code",
   "execution_count": null,
   "id": "9242e912",
   "metadata": {},
   "outputs": [],
   "source": [
    "Heatmap = cv2.resize(Heatmap, (224, 224))\n",
    "Heatmap /= Heatmap.max()"
   ]
  },
  {
   "cell_type": "code",
   "execution_count": null,
   "id": "ac18d274",
   "metadata": {},
   "outputs": [],
   "source": [
    "fig, ax = plt.subplots( nrows=1, ncols=2 )  # create figure & 1 axis\n",
    "fig.set_size_inches(6, 3.0)\n",
    "ax = plt.subplot(1,2,1)\n",
    "ax.imshow(Images[0])\n",
    "\n",
    "ax = plt.subplot(1,2,2)\n",
    "ax.imshow(Images[0])\n",
    "ax.imshow(Heatmap, cmap=plt.cm.jet, alpha=0.3, interpolation='nearest')"
   ]
  }
 ],
 "metadata": {
  "kernelspec": {
   "display_name": "Python 3 (ipykernel)",
   "language": "python",
   "name": "python3"
  },
  "language_info": {
   "codemirror_mode": {
    "name": "ipython",
    "version": 3
   },
   "file_extension": ".py",
   "mimetype": "text/x-python",
   "name": "python",
   "nbconvert_exporter": "python",
   "pygments_lexer": "ipython3",
   "version": "3.9.7"
  }
 },
 "nbformat": 4,
 "nbformat_minor": 5
}
