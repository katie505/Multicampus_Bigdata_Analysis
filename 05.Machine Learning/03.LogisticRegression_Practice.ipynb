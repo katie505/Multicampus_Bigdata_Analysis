{
 "cells": [
  {
   "cell_type": "code",
   "execution_count": 114,
   "id": "052b515f-28a5-4fe5-a332-712f8c8c6a03",
   "metadata": {},
   "outputs": [],
   "source": [
    "import sklearn\n",
    "from sklearn.linear_model import LinearRegression\n",
    "import pandas as pd\n",
    "import numpy as np\n",
    "import matplotlib.pyplot as plt\n",
    "import statsmodels.api as sm\n",
    "import os\n",
    "\n",
    "import matplotlib.pyplot as plt \n",
    "import seaborn as sns"
   ]
  },
  {
   "cell_type": "code",
   "execution_count": 97,
   "id": "b15fcaa7-d1e4-406d-94b0-c8d4845cb466",
   "metadata": {},
   "outputs": [],
   "source": [
    "train = pd.read_csv('./Data/Train.csv')\n",
    "valid = pd.read_csv('./Data/Valid.csv')"
   ]
  },
  {
   "cell_type": "markdown",
   "id": "cb07a849-bfaf-4769-bf82-61abc13a8777",
   "metadata": {
    "tags": []
   },
   "source": [
    "### Train"
   ]
  },
  {
   "cell_type": "code",
   "execution_count": 98,
   "id": "80a96d89-bdd4-4248-9832-8a0e112487d0",
   "metadata": {},
   "outputs": [
    {
     "data": {
      "text/html": [
       "<div>\n",
       "<style scoped>\n",
       "    .dataframe tbody tr th:only-of-type {\n",
       "        vertical-align: middle;\n",
       "    }\n",
       "\n",
       "    .dataframe tbody tr th {\n",
       "        vertical-align: top;\n",
       "    }\n",
       "\n",
       "    .dataframe thead th {\n",
       "        text-align: right;\n",
       "    }\n",
       "</style>\n",
       "<table border=\"1\" class=\"dataframe\">\n",
       "  <thead>\n",
       "    <tr style=\"text-align: right;\">\n",
       "      <th></th>\n",
       "      <th>Relapse</th>\n",
       "      <th>CEA_Post</th>\n",
       "      <th>Lymphatic</th>\n",
       "      <th>Vascular</th>\n",
       "      <th>pStage</th>\n",
       "      <th>pT</th>\n",
       "      <th>pN</th>\n",
       "      <th>Perineural</th>\n",
       "      <th>Age</th>\n",
       "    </tr>\n",
       "  </thead>\n",
       "  <tbody>\n",
       "    <tr>\n",
       "      <th>0</th>\n",
       "      <td>0</td>\n",
       "      <td>0.0</td>\n",
       "      <td>0</td>\n",
       "      <td>0</td>\n",
       "      <td>4</td>\n",
       "      <td>2</td>\n",
       "      <td>2</td>\n",
       "      <td>0</td>\n",
       "      <td>73</td>\n",
       "    </tr>\n",
       "    <tr>\n",
       "      <th>1</th>\n",
       "      <td>0</td>\n",
       "      <td>1.2</td>\n",
       "      <td>1</td>\n",
       "      <td>0</td>\n",
       "      <td>4</td>\n",
       "      <td>2</td>\n",
       "      <td>2</td>\n",
       "      <td>1</td>\n",
       "      <td>73</td>\n",
       "    </tr>\n",
       "    <tr>\n",
       "      <th>2</th>\n",
       "      <td>1</td>\n",
       "      <td>1.8</td>\n",
       "      <td>1</td>\n",
       "      <td>0</td>\n",
       "      <td>4</td>\n",
       "      <td>1</td>\n",
       "      <td>2</td>\n",
       "      <td>0</td>\n",
       "      <td>53</td>\n",
       "    </tr>\n",
       "    <tr>\n",
       "      <th>3</th>\n",
       "      <td>0</td>\n",
       "      <td>0.0</td>\n",
       "      <td>1</td>\n",
       "      <td>0</td>\n",
       "      <td>4</td>\n",
       "      <td>2</td>\n",
       "      <td>2</td>\n",
       "      <td>0</td>\n",
       "      <td>57</td>\n",
       "    </tr>\n",
       "    <tr>\n",
       "      <th>4</th>\n",
       "      <td>1</td>\n",
       "      <td>52.0</td>\n",
       "      <td>1</td>\n",
       "      <td>1</td>\n",
       "      <td>6</td>\n",
       "      <td>4</td>\n",
       "      <td>3</td>\n",
       "      <td>0</td>\n",
       "      <td>65</td>\n",
       "    </tr>\n",
       "  </tbody>\n",
       "</table>\n",
       "</div>"
      ],
      "text/plain": [
       "   Relapse  CEA_Post  Lymphatic  Vascular  pStage  pT  pN  Perineural  Age\n",
       "0        0       0.0          0         0       4   2   2           0   73\n",
       "1        0       1.2          1         0       4   2   2           1   73\n",
       "2        1       1.8          1         0       4   1   2           0   53\n",
       "3        0       0.0          1         0       4   2   2           0   57\n",
       "4        1      52.0          1         1       6   4   3           0   65"
      ]
     },
     "execution_count": 98,
     "metadata": {},
     "output_type": "execute_result"
    }
   ],
   "source": [
    "train.head()"
   ]
  },
  {
   "cell_type": "code",
   "execution_count": 126,
   "id": "d2a52f12-0292-4b87-be12-88fd616ffe40",
   "metadata": {},
   "outputs": [],
   "source": [
    "Label = train['Relapse']\n",
    "InputFeature = train[train.columns[1:]]\n",
    "InputFeature = sm.add_constant(InputFeature)"
   ]
  },
  {
   "cell_type": "code",
   "execution_count": 127,
   "id": "b260ef24-c1ff-484e-928e-8cdb775599fb",
   "metadata": {},
   "outputs": [
    {
     "name": "stdout",
     "output_type": "stream",
     "text": [
      "Optimization terminated successfully.\n",
      "         Current function value: 0.614428\n",
      "         Iterations 8\n",
      "const        -1.969500\n",
      "CEA_Post      0.018205\n",
      "Lymphatic     0.639076\n",
      "Vascular      0.582773\n",
      "pStage       -0.159252\n",
      "pT            0.240697\n",
      "pN            0.511047\n",
      "Perineural    0.304236\n",
      "Age          -0.003822\n",
      "dtype: float64\n"
     ]
    }
   ],
   "source": [
    "model = sm.Logit(Label, InputFeature)\n",
    "model = model.fit()\n",
    "print(model.params)"
   ]
  },
  {
   "cell_type": "code",
   "execution_count": 102,
   "id": "0ef8339e-4450-41ff-9a08-939a780618a0",
   "metadata": {},
   "outputs": [
    {
     "name": "stdout",
     "output_type": "stream",
     "text": [
      "                           Logit Regression Results                           \n",
      "==============================================================================\n",
      "Dep. Variable:                Relapse   No. Observations:                  392\n",
      "Model:                          Logit   Df Residuals:                      383\n",
      "Method:                           MLE   Df Model:                            8\n",
      "Date:                Fri, 05 Aug 2022   Pseudo R-squ.:                 0.09721\n",
      "Time:                        16:44:40   Log-Likelihood:                -240.86\n",
      "converged:                       True   LL-Null:                       -266.79\n",
      "Covariance Type:            nonrobust   LLR p-value:                 1.785e-08\n",
      "==============================================================================\n",
      "                 coef    std err          z      P>|z|      [0.025      0.975]\n",
      "------------------------------------------------------------------------------\n",
      "const         -1.9695      0.828     -2.378      0.017      -3.593      -0.346\n",
      "CEA_Post       0.0182      0.009      2.127      0.033       0.001       0.035\n",
      "Lymphatic      0.6391      0.261      2.445      0.014       0.127       1.151\n",
      "Vascular       0.5828      0.232      2.510      0.012       0.128       1.038\n",
      "pStage        -0.1593      0.263     -0.604      0.546      -0.676       0.357\n",
      "pT             0.2407      0.157      1.538      0.124      -0.066       0.548\n",
      "pN             0.5110      0.357      1.430      0.153      -0.189       1.211\n",
      "Perineural     0.3042      0.358      0.849      0.396      -0.398       1.007\n",
      "Age           -0.0038      0.012     -0.324      0.746      -0.027       0.019\n",
      "==============================================================================\n"
     ]
    }
   ],
   "source": [
    "print( model.summary() )"
   ]
  },
  {
   "cell_type": "code",
   "execution_count": 103,
   "id": "d1b63b85-56be-4245-a6dd-256d7a662bf3",
   "metadata": {},
   "outputs": [
    {
     "data": {
      "text/plain": [
       "const         0.1395\n",
       "CEA_Post      1.0184\n",
       "Lymphatic     1.8947\n",
       "Vascular      1.7910\n",
       "pStage        0.8528\n",
       "pT            1.2721\n",
       "pN            1.6670\n",
       "Perineural    1.3556\n",
       "Age           0.9962\n",
       "dtype: float64"
      ]
     },
     "execution_count": 103,
     "metadata": {},
     "output_type": "execute_result"
    }
   ],
   "source": [
    "np.exp(model.params).round(4)"
   ]
  },
  {
   "cell_type": "markdown",
   "id": "0c71e62f-3c8c-449f-8aed-2ca6aae03cfd",
   "metadata": {},
   "source": [
    "### Valid"
   ]
  },
  {
   "cell_type": "code",
   "execution_count": 108,
   "id": "61b52d05-3242-48d4-9397-b1e5a6f7ed1e",
   "metadata": {},
   "outputs": [],
   "source": [
    "Label_v = valid['Relapse']\n",
    "InputFeature_v = valid[valid.columns[1:]]"
   ]
  },
  {
   "cell_type": "code",
   "execution_count": 109,
   "id": "2bbdbe52-09df-4025-92c1-19ddf5e2c91b",
   "metadata": {},
   "outputs": [
    {
     "name": "stderr",
     "output_type": "stream",
     "text": [
      "C:\\Users\\daess\\anaconda3\\lib\\site-packages\\statsmodels\\tsa\\tsatools.py:142: FutureWarning: In a future version of pandas all arguments of concat except for the argument 'objs' will be keyword-only\n",
      "  x = pd.concat(x[::order], 1)\n"
     ]
    },
    {
     "data": {
      "text/html": [
       "<div>\n",
       "<style scoped>\n",
       "    .dataframe tbody tr th:only-of-type {\n",
       "        vertical-align: middle;\n",
       "    }\n",
       "\n",
       "    .dataframe tbody tr th {\n",
       "        vertical-align: top;\n",
       "    }\n",
       "\n",
       "    .dataframe thead th {\n",
       "        text-align: right;\n",
       "    }\n",
       "</style>\n",
       "<table border=\"1\" class=\"dataframe\">\n",
       "  <thead>\n",
       "    <tr style=\"text-align: right;\">\n",
       "      <th></th>\n",
       "      <th>const</th>\n",
       "      <th>CEA_Post</th>\n",
       "      <th>Lymphatic</th>\n",
       "      <th>Vascular</th>\n",
       "      <th>pStage</th>\n",
       "      <th>pT</th>\n",
       "      <th>pN</th>\n",
       "      <th>Perineural</th>\n",
       "      <th>Age</th>\n",
       "    </tr>\n",
       "  </thead>\n",
       "  <tbody>\n",
       "    <tr>\n",
       "      <th>0</th>\n",
       "      <td>1.0</td>\n",
       "      <td>1.2</td>\n",
       "      <td>1</td>\n",
       "      <td>0</td>\n",
       "      <td>5</td>\n",
       "      <td>1</td>\n",
       "      <td>3</td>\n",
       "      <td>0</td>\n",
       "      <td>42</td>\n",
       "    </tr>\n",
       "    <tr>\n",
       "      <th>1</th>\n",
       "      <td>1.0</td>\n",
       "      <td>1.0</td>\n",
       "      <td>1</td>\n",
       "      <td>0</td>\n",
       "      <td>4</td>\n",
       "      <td>2</td>\n",
       "      <td>2</td>\n",
       "      <td>0</td>\n",
       "      <td>45</td>\n",
       "    </tr>\n",
       "    <tr>\n",
       "      <th>2</th>\n",
       "      <td>1.0</td>\n",
       "      <td>9.2</td>\n",
       "      <td>1</td>\n",
       "      <td>0</td>\n",
       "      <td>6</td>\n",
       "      <td>4</td>\n",
       "      <td>3</td>\n",
       "      <td>0</td>\n",
       "      <td>69</td>\n",
       "    </tr>\n",
       "    <tr>\n",
       "      <th>3</th>\n",
       "      <td>1.0</td>\n",
       "      <td>0.0</td>\n",
       "      <td>0</td>\n",
       "      <td>0</td>\n",
       "      <td>5</td>\n",
       "      <td>5</td>\n",
       "      <td>1</td>\n",
       "      <td>0</td>\n",
       "      <td>64</td>\n",
       "    </tr>\n",
       "    <tr>\n",
       "      <th>4</th>\n",
       "      <td>1.0</td>\n",
       "      <td>2.3</td>\n",
       "      <td>1</td>\n",
       "      <td>1</td>\n",
       "      <td>5</td>\n",
       "      <td>1</td>\n",
       "      <td>3</td>\n",
       "      <td>0</td>\n",
       "      <td>72</td>\n",
       "    </tr>\n",
       "    <tr>\n",
       "      <th>...</th>\n",
       "      <td>...</td>\n",
       "      <td>...</td>\n",
       "      <td>...</td>\n",
       "      <td>...</td>\n",
       "      <td>...</td>\n",
       "      <td>...</td>\n",
       "      <td>...</td>\n",
       "      <td>...</td>\n",
       "      <td>...</td>\n",
       "    </tr>\n",
       "    <tr>\n",
       "      <th>93</th>\n",
       "      <td>1.0</td>\n",
       "      <td>2.3</td>\n",
       "      <td>0</td>\n",
       "      <td>1</td>\n",
       "      <td>4</td>\n",
       "      <td>4</td>\n",
       "      <td>1</td>\n",
       "      <td>0</td>\n",
       "      <td>64</td>\n",
       "    </tr>\n",
       "    <tr>\n",
       "      <th>94</th>\n",
       "      <td>1.0</td>\n",
       "      <td>6.2</td>\n",
       "      <td>1</td>\n",
       "      <td>1</td>\n",
       "      <td>5</td>\n",
       "      <td>4</td>\n",
       "      <td>2</td>\n",
       "      <td>0</td>\n",
       "      <td>72</td>\n",
       "    </tr>\n",
       "    <tr>\n",
       "      <th>95</th>\n",
       "      <td>1.0</td>\n",
       "      <td>1.5</td>\n",
       "      <td>1</td>\n",
       "      <td>1</td>\n",
       "      <td>5</td>\n",
       "      <td>2</td>\n",
       "      <td>3</td>\n",
       "      <td>0</td>\n",
       "      <td>60</td>\n",
       "    </tr>\n",
       "    <tr>\n",
       "      <th>96</th>\n",
       "      <td>1.0</td>\n",
       "      <td>3.5</td>\n",
       "      <td>0</td>\n",
       "      <td>0</td>\n",
       "      <td>2</td>\n",
       "      <td>2</td>\n",
       "      <td>1</td>\n",
       "      <td>0</td>\n",
       "      <td>60</td>\n",
       "    </tr>\n",
       "    <tr>\n",
       "      <th>97</th>\n",
       "      <td>1.0</td>\n",
       "      <td>2.5</td>\n",
       "      <td>1</td>\n",
       "      <td>0</td>\n",
       "      <td>2</td>\n",
       "      <td>2</td>\n",
       "      <td>1</td>\n",
       "      <td>0</td>\n",
       "      <td>64</td>\n",
       "    </tr>\n",
       "  </tbody>\n",
       "</table>\n",
       "<p>98 rows × 9 columns</p>\n",
       "</div>"
      ],
      "text/plain": [
       "    const  CEA_Post  Lymphatic  Vascular  pStage  pT  pN  Perineural  Age\n",
       "0     1.0       1.2          1         0       5   1   3           0   42\n",
       "1     1.0       1.0          1         0       4   2   2           0   45\n",
       "2     1.0       9.2          1         0       6   4   3           0   69\n",
       "3     1.0       0.0          0         0       5   5   1           0   64\n",
       "4     1.0       2.3          1         1       5   1   3           0   72\n",
       "..    ...       ...        ...       ...     ...  ..  ..         ...  ...\n",
       "93    1.0       2.3          0         1       4   4   1           0   64\n",
       "94    1.0       6.2          1         1       5   4   2           0   72\n",
       "95    1.0       1.5          1         1       5   2   3           0   60\n",
       "96    1.0       3.5          0         0       2   2   1           0   60\n",
       "97    1.0       2.5          1         0       2   2   1           0   64\n",
       "\n",
       "[98 rows x 9 columns]"
      ]
     },
     "execution_count": 109,
     "metadata": {},
     "output_type": "execute_result"
    }
   ],
   "source": [
    "InputFeature_v = sm.add_constant(InputFeature_v)\n",
    "InputFeature_v"
   ]
  },
  {
   "cell_type": "code",
   "execution_count": 110,
   "id": "9f9ae7cd-4813-4dd0-8b62-f14545258a48",
   "metadata": {},
   "outputs": [
    {
     "data": {
      "text/plain": [
       "0    0.379538\n",
       "1    0.350302\n",
       "2    0.528416\n",
       "3    0.214871\n",
       "4    0.499161\n",
       "dtype: float64"
      ]
     },
     "execution_count": 110,
     "metadata": {},
     "output_type": "execute_result"
    }
   ],
   "source": [
    "Predicted = model.predict(InputFeature_v)\n",
    "Predicted.head()"
   ]
  },
  {
   "cell_type": "code",
   "execution_count": 111,
   "id": "b80da3bf-a7b1-4ab6-a945-521ba8109f34",
   "metadata": {},
   "outputs": [
    {
     "data": {
      "image/png": "[encoded data removed]",
      "text/plain": [
       "<Figure size 432x288 with 1 Axes>"
      ]
     },
     "metadata": {
      "needs_background": "light"
     },
     "output_type": "display_data"
    },
    {
     "data": {
      "image/png": "[encoded data removed]",
      "text/plain": [
       "<Figure size 432x288 with 1 Axes>"
      ]
     },
     "metadata": {
      "needs_background": "light"
     },
     "output_type": "display_data"
    },
    {
     "data": {
      "image/png": "[encoded data removed]",
      "text/plain": [
       "<Figure size 432x288 with 1 Axes>"
      ]
     },
     "metadata": {
      "needs_background": "light"
     },
     "output_type": "display_data"
    },
    {
     "data": {
      "image/png": "[encoded data removed]",
      "text/plain": [
       "<Figure size 432x288 with 1 Axes>"
      ]
     },
     "metadata": {
      "needs_background": "light"
     },
     "output_type": "display_data"
    },
    {
     "data": {
      "image/png": "[encoded data removed]",
      "text/plain": [
       "<Figure size 432x288 with 1 Axes>"
      ]
     },
     "metadata": {
      "needs_background": "light"
     },
     "output_type": "display_data"
    },
    {
     "data": {
      "image/png": "[encoded data removed]",
      "text/plain": [
       "<Figure size 432x288 with 1 Axes>"
      ]
     },
     "metadata": {
      "needs_background": "light"
     },
     "output_type": "display_data"
    },
    {
     "data": {
      "image/png": "[encoded data removed]",
      "text/plain": [
       "<Figure size 432x288 with 1 Axes>"
      ]
     },
     "metadata": {
      "needs_background": "light"
     },
     "output_type": "display_data"
    },
    {
     "data": {
      "image/png": "[encoded data removed]",
      "text/plain": [
       "<Figure size 432x288 with 1 Axes>"
      ]
     },
     "metadata": {
      "needs_background": "light"
     },
     "output_type": "display_data"
    }
   ],
   "source": [
    "for column in InputFeature_v.columns[1:]:\n",
    "    plt.plot(model.predict(InputFeature_v), valid[column], 'o')\n",
    "    plt.title(column)\n",
    "    plt.show()"
   ]
  },
  {
   "cell_type": "markdown",
   "id": "ac342d31-966d-47f1-a445-b629b6dabf4e",
   "metadata": {},
   "source": [
    "### Validation set에서 성능 검증"
   ]
  },
  {
   "cell_type": "code",
   "execution_count": 116,
   "id": "7c372bb7-4ab7-4188-9775-d5ff26e9145d",
   "metadata": {
    "tags": []
   },
   "outputs": [],
   "source": [
    "fpr, tpr, thresholds = sklearn.metrics.roc_curve(Label_v,  Predicted)"
   ]
  },
  {
   "cell_type": "code",
   "execution_count": 117,
   "id": "98b4197e-b7bd-40f3-99a1-1b38a80161a7",
   "metadata": {},
   "outputs": [
    {
     "data": {
      "text/plain": [
       "array([1.70391969, 0.70391969, 0.64511504, 0.63982113, 0.62877861,\n",
       "       0.60598789, 0.58560303, 0.5759911 , 0.56862677, 0.56675766,\n",
       "       0.55324668, 0.5487903 , 0.53118908, 0.53069509, 0.50461823,\n",
       "       0.49761457, 0.4893671 , 0.47218618, 0.46039984, 0.42552556,\n",
       "       0.42460134, 0.41098952, 0.38697002, 0.36457925, 0.36219424,\n",
       "       0.36209093, 0.35030216, 0.30761229, 0.3065629 , 0.29826863,\n",
       "       0.2979255 , 0.29636998, 0.29575868, 0.29171973, 0.27850381,\n",
       "       0.21911577, 0.21487127, 0.2116653 , 0.18829296, 0.18306326,\n",
       "       0.17798518, 0.17617332, 0.17460312])"
      ]
     },
     "execution_count": 117,
     "metadata": {},
     "output_type": "execute_result"
    }
   ],
   "source": [
    "thresholds"
   ]
  },
  {
   "cell_type": "code",
   "execution_count": 119,
   "id": "23690bf1-b416-463b-8afb-dcb916d503a0",
   "metadata": {},
   "outputs": [
    {
     "data": {
      "text/plain": [
       "array([0.        , 0.01666667, 0.01666667, 0.05      , 0.05      ,\n",
       "       0.06666667, 0.06666667, 0.1       , 0.1       , 0.11666667,\n",
       "       0.11666667, 0.15      , 0.15      , 0.16666667, 0.16666667,\n",
       "       0.2       , 0.2       , 0.23333333, 0.23333333, 0.35      ,\n",
       "       0.35      , 0.36666667, 0.36666667, 0.4       , 0.4       ,\n",
       "       0.41666667, 0.41666667, 0.58333333, 0.58333333, 0.61666667,\n",
       "       0.61666667, 0.66666667, 0.66666667, 0.68333333, 0.68333333,\n",
       "       0.8       , 0.8       , 0.81666667, 0.91666667, 0.91666667,\n",
       "       0.95      , 0.95      , 1.        ])"
      ]
     },
     "execution_count": 119,
     "metadata": {},
     "output_type": "execute_result"
    }
   ],
   "source": [
    "fpr"
   ]
  },
  {
   "cell_type": "code",
   "execution_count": 120,
   "id": "a4724fe6-5de3-46d1-9002-4680c7f3c5f4",
   "metadata": {},
   "outputs": [
    {
     "data": {
      "text/plain": [
       "array([0.        , 0.        , 0.07894737, 0.07894737, 0.15789474,\n",
       "       0.15789474, 0.23684211, 0.23684211, 0.28947368, 0.28947368,\n",
       "       0.42105263, 0.42105263, 0.5       , 0.5       , 0.55263158,\n",
       "       0.55263158, 0.57894737, 0.57894737, 0.60526316, 0.60526316,\n",
       "       0.63157895, 0.63157895, 0.68421053, 0.68421053, 0.71052632,\n",
       "       0.71052632, 0.73684211, 0.73684211, 0.76315789, 0.76315789,\n",
       "       0.78947368, 0.78947368, 0.81578947, 0.81578947, 0.86842105,\n",
       "       0.86842105, 0.92105263, 0.94736842, 0.94736842, 0.97368421,\n",
       "       0.97368421, 1.        , 1.        ])"
      ]
     },
     "execution_count": 120,
     "metadata": {},
     "output_type": "execute_result"
    }
   ],
   "source": [
    "tpr"
   ]
  },
  {
   "cell_type": "code",
   "execution_count": 121,
   "id": "ff487532-341a-4630-920e-9342721b66be",
   "metadata": {},
   "outputs": [
    {
     "data": {
      "image/png": "[encoded data removed]",
      "text/plain": [
       "<Figure size 432x288 with 1 Axes>"
      ]
     },
     "metadata": {
      "needs_background": "light"
     },
     "output_type": "display_data"
    }
   ],
   "source": [
    "auc = sklearn.metrics.roc_auc_score(Label_v, Predicted)\n",
    "auc\n",
    "plt.plot(fpr,tpr,label=\"data 1, auc=\"+str(auc))\n",
    "plt.legend(loc=4)\n",
    "plt.show()"
   ]
  },
  {
   "cell_type": "code",
   "execution_count": 122,
   "id": "e1aea9ae-d47e-4919-a7a2-8ed26317889f",
   "metadata": {},
   "outputs": [],
   "source": [
    "J = tpr - fpr\n",
    "ix = np.argmax(J)\n",
    "best_thresh = thresholds[ix]"
   ]
  },
  {
   "cell_type": "code",
   "execution_count": 124,
   "id": "4f6dd56e-93d9-4c41-a18e-674925afcf72",
   "metadata": {},
   "outputs": [
    {
     "data": {
      "image/png": "[encoded data removed]",
      "text/plain": [
       "<Figure size 432x288 with 1 Axes>"
      ]
     },
     "metadata": {
      "needs_background": "light"
     },
     "output_type": "display_data"
    }
   ],
   "source": [
    "#plot roc and best threshold\n",
    "sens, spec = tpr[ix], 1-fpr[ix]\n",
    "# plot the roc curve for the model\n",
    "plt.plot([0,1], [0,1], linestyle='--', markersize=0.01, color='black')\n",
    "plt.plot(fpr, tpr, marker='.', color='black', markersize=0.05, label=\"Logistic Regression AUC = %.2f\" % \n",
    "         sklearn.metrics.roc_auc_score(Label_v, Predicted))\n",
    "plt.scatter(fpr[ix], tpr[ix], marker='+', s=100, color='r', \n",
    "            label='Best threshold = %.3f, \\nSensitivity = %.3f, \\nSpecificity = %.3f' % (best_thresh, sens, spec))\n",
    "\n",
    "# axis labels\n",
    "plt.xlabel('False Positive Rate')\n",
    "plt.ylabel('True Positive Rate')\n",
    "plt.legend(loc=4)\n",
    "\n",
    "# show the plot\n",
    "plt.show()"
   ]
  }
 ],
 "metadata": {
  "kernelspec": {
   "display_name": "Python 3 (ipykernel)",
   "language": "python",
   "name": "python3"
  },
  "language_info": {
   "codemirror_mode": {
    "name": "ipython",
    "version": 3
   },
   "file_extension": ".py",
   "mimetype": "text/x-python",
   "name": "python",
   "nbconvert_exporter": "python",
   "pygments_lexer": "ipython3",
   "version": "3.9.7"
  }
 },
 "nbformat": 4,
 "nbformat_minor": 5
}
